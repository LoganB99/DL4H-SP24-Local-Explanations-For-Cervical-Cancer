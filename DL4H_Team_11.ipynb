{
  "cells": [
    {
      "cell_type": "markdown",
      "metadata": {
        "id": "view-in-github",
        "colab_type": "text"
      },
      "source": [
        "<a href=\"https://colab.research.google.com/github/LoganB99/DL4H-SP24-Local-Explanations-For-Cervical-Cancer/blob/main/DL4H_Team_11.ipynb\" target=\"_parent\"><img src=\"https://colab.research.google.com/assets/colab-badge.svg\" alt=\"Open In Colab\"/></a>"
      ]
    },
    {
      "cell_type": "markdown",
      "metadata": {
        "id": "wFIv-_Qx9pPw"
      },
      "source": [
        "# TA Instructions\n",
        "\n",
        "Hello! Welcome to Team 11's report. The checkpoints are labeled as such in the headers to make it easier for you to run, but everything has been commented out that is not necessary."
      ]
    },
    {
      "cell_type": "markdown",
      "metadata": {
        "id": "dlv6knX04FiY"
      },
      "source": [
        "# Mount Notebook to Google Drive\n",
        "\n",
        "---\n",
        "\n",
        "\n",
        "To clear up clutter, the original FAQ and Attentions are in https://colab.research.google.com/drive/1MGxB_J2TvhAANcQG8VNMvQp1QdQrcxWb?authuser=1"
      ]
    },
    {
      "cell_type": "code",
      "execution_count": null,
      "metadata": {
        "colab": {
          "base_uri": "https://localhost:8080/"
        },
        "id": "sfk8Zrul_E8V",
        "outputId": "c91ec6d4-b3db-4ae7-bbfc-034204e2fb0b"
      },
      "outputs": [
        {
          "name": "stdout",
          "output_type": "stream",
          "text": [
            "Mounted at /content/drive\n"
          ]
        }
      ],
      "source": [
        "import pandas as pd\n",
        "from google.colab import drive\n",
        "drive.mount('/content/drive', force_remount=True)"
      ]
    },
    {
      "cell_type": "code",
      "execution_count": null,
      "metadata": {
        "colab": {
          "base_uri": "https://localhost:8080/"
        },
        "id": "zTBvLySHdwYe",
        "outputId": "5331e5ba-d943-4dd8-e653-c139d56b3ac6"
      },
      "outputs": [
        {
          "name": "stdout",
          "output_type": "stream",
          "text": [
            "Requirement already satisfied: gspread in /usr/local/lib/python3.10/dist-packages (3.4.2)\n",
            "Requirement already satisfied: google-auth in /usr/local/lib/python3.10/dist-packages (2.27.0)\n",
            "Requirement already satisfied: requests>=2.2.1 in /usr/local/lib/python3.10/dist-packages (from gspread) (2.31.0)\n",
            "Requirement already satisfied: cachetools<6.0,>=2.0.0 in /usr/local/lib/python3.10/dist-packages (from google-auth) (5.3.3)\n",
            "Requirement already satisfied: pyasn1-modules>=0.2.1 in /usr/local/lib/python3.10/dist-packages (from google-auth) (0.4.0)\n",
            "Requirement already satisfied: rsa<5,>=3.1.4 in /usr/local/lib/python3.10/dist-packages (from google-auth) (4.9)\n",
            "Requirement already satisfied: pyasn1<0.7.0,>=0.4.6 in /usr/local/lib/python3.10/dist-packages (from pyasn1-modules>=0.2.1->google-auth) (0.6.0)\n",
            "Requirement already satisfied: charset-normalizer<4,>=2 in /usr/local/lib/python3.10/dist-packages (from requests>=2.2.1->gspread) (3.3.2)\n",
            "Requirement already satisfied: idna<4,>=2.5 in /usr/local/lib/python3.10/dist-packages (from requests>=2.2.1->gspread) (3.6)\n",
            "Requirement already satisfied: urllib3<3,>=1.21.1 in /usr/local/lib/python3.10/dist-packages (from requests>=2.2.1->gspread) (2.0.7)\n",
            "Requirement already satisfied: certifi>=2017.4.17 in /usr/local/lib/python3.10/dist-packages (from requests>=2.2.1->gspread) (2024.2.2)\n"
          ]
        }
      ],
      "source": [
        "#Testing\n",
        "!pip install gspread google-auth\n",
        "from google.colab import auth\n",
        "auth.authenticate_user()\n",
        "\n",
        "import gspread\n",
        "from google.auth import default\n",
        "creds, _ = default()\n",
        "\n",
        "gc = gspread.authorize(creds)"
      ]
    },
    {
      "cell_type": "markdown",
      "metadata": {
        "id": "MQ0sNuMePBXx"
      },
      "source": [
        "# Introduction\n",
        "\n",
        "*   Background of the problem\n",
        "  \n",
        "  Cervical Cancer prediction is a prevalent and necessary problem within today's healthcare system. Specifcally, researchers are working towards identifying risk factors and potential causes for cervical cancer. Current models, however, cannot explain why a decision is made. Local explainability techniques have been developed aiming to the causes and effects of changes within a model and explain the decision-making process at an individual prediction level, but may not be applicable in every scenario, and the explanations are not always consistent or faithful. Consequently, clinicians cannot explain why a model selected a patient as low or high risk through black-box magic models.\n",
        "*   Paper explanation\n",
        "\n",
        "  The paper aims to combat the current problem of ambiguity in explainability across scenarios and analyze the existing local interpretability methods to propose methods to help clinicians determine which type of explanation models to use in a given context. Specifically, the researchers tested 5 different ML algorithms to identify the model with the highest disease predition accuracy, and then applied explainability methods to the model to identify the best practice for disease prediction. The paper then uses the predictions of the best model to generate explanations for each model across popular interpretability methods. These methods include LIME, SHAP, Diverse Counterfactual Explanations, Tree Interpreter, and Local Surrogates. Finally, each of the interpretability methods are evaluated on a set of metrics. The model found that LIME is the most robust explainability method, but no single explaination performance optimally across all metrics. Therefore, the researches suggest that clinicians should choose a method based on the setting or choose a weighted sum of metrics. This approach helps satisfy the desired explainability properties when determining patient risk in cervical cancer. As a result, the paper also recommends and influences future models to consider interpetability methods in their analysis to improve trust in the new world of generative and predictive models.\n"
      ]
    },
    {
      "cell_type": "markdown",
      "metadata": {
        "id": "uygL9tTPSVHB"
      },
      "source": [
        "# Scope of Reproducibility:\n",
        "\n",
        "We aim to reproduce the results of the model using the UCI dataset and suggested models. We will use ADASYN to balance the dataset and remove and retrain features as one of our ablations. As another ablation, we want to test the model on the unbalanced dataset.\n",
        "\n",
        "1.   Hypothesis 1: Random Forest is the most performing model in predicting cervical cancer in terms of AUC.\n",
        "2.   Hypothesis 2: LIME is the most robust explainability model shown by the ROAR (remove and retrain) faithfulness metric.\n",
        "\n"
      ]
    },
    {
      "cell_type": "markdown",
      "metadata": {
        "id": "xWAHJ_1CdtaA"
      },
      "source": [
        "# Methodology\n"
      ]
    },
    {
      "cell_type": "markdown",
      "metadata": {
        "id": "zW1WrECe3jZz"
      },
      "source": [
        "## Checkpoint: Dependencies"
      ]
    },
    {
      "cell_type": "markdown",
      "metadata": {
        "id": "vqsQI6_dzTFs"
      },
      "source": [
        "Note: because of Colab's default setup, you may have to restart the notebook and rerun after installing packages."
      ]
    },
    {
      "cell_type": "code",
      "execution_count": null,
      "metadata": {
        "colab": {
          "base_uri": "https://localhost:8080/"
        },
        "id": "yu61Jp1xrnKk",
        "outputId": "bb210b17-4ffe-475c-80aa-f0e0317a106b"
      },
      "outputs": [
        {
          "name": "stdout",
          "output_type": "stream",
          "text": [
            "Requirement already satisfied: psutil in /usr/local/lib/python3.10/dist-packages (5.9.5)\n",
            "Requirement already satisfied: kaleido in /usr/local/lib/python3.10/dist-packages (0.2.1)\n",
            "Requirement already satisfied: gdown in /usr/local/lib/python3.10/dist-packages (4.7.3)\n",
            "Requirement already satisfied: filelock in /usr/local/lib/python3.10/dist-packages (from gdown) (3.13.4)\n",
            "Requirement already satisfied: requests[socks] in /usr/local/lib/python3.10/dist-packages (from gdown) (2.31.0)\n",
            "Requirement already satisfied: six in /usr/local/lib/python3.10/dist-packages (from gdown) (1.16.0)\n",
            "Requirement already satisfied: tqdm in /usr/local/lib/python3.10/dist-packages (from gdown) (4.66.2)\n",
            "Requirement already satisfied: beautifulsoup4 in /usr/local/lib/python3.10/dist-packages (from gdown) (4.12.3)\n",
            "Requirement already satisfied: soupsieve>1.2 in /usr/local/lib/python3.10/dist-packages (from beautifulsoup4->gdown) (2.5)\n",
            "Requirement already satisfied: charset-normalizer<4,>=2 in /usr/local/lib/python3.10/dist-packages (from requests[socks]->gdown) (3.3.2)\n",
            "Requirement already satisfied: idna<4,>=2.5 in /usr/local/lib/python3.10/dist-packages (from requests[socks]->gdown) (3.6)\n",
            "Requirement already satisfied: urllib3<3,>=1.21.1 in /usr/local/lib/python3.10/dist-packages (from requests[socks]->gdown) (2.0.7)\n",
            "Requirement already satisfied: certifi>=2017.4.17 in /usr/local/lib/python3.10/dist-packages (from requests[socks]->gdown) (2024.2.2)\n",
            "Requirement already satisfied: PySocks!=1.5.7,>=1.5.6 in /usr/local/lib/python3.10/dist-packages (from requests[socks]->gdown) (1.7.1)\n"
          ]
        }
      ],
      "source": [
        "# External package installation\n",
        "!pip install psutil kaleido\n",
        "!pip install gdown\n",
        "\n",
        "# download files and models\n",
        "import gdown\n",
        "import pickle\n",
        "\n",
        "# Basic data handling and scientific computing\n",
        "import numpy as np  # Numerical computing library\n",
        "import pandas as pd  # Data manipulation and analysis\n",
        "\n",
        "# Visualization libraries\n",
        "import seaborn as sns  # Statistical data visualization\n",
        "import matplotlib.pyplot as plt  # Basic plotting library\n",
        "import plotly.express as px  # Interactive plotting library\n",
        "import plotly.graph_objects as go  # For creating custom plots with Plotly\n",
        "from plotly.subplots import make_subplots  # For creating subplots with Plotly\n",
        "\n",
        "# Data preprocessing and model evaluation tools\n",
        "from sklearn.impute import SimpleImputer  # For handling missing data\n",
        "from sklearn.model_selection import StratifiedShuffleSplit  # For creating stratified splits\n",
        "from sklearn.preprocessing import RobustScaler, StandardScaler  # Data scaling methods\n",
        "from sklearn.decomposition import PCA  # Principal Component Analysis\n",
        "from sklearn.pipeline import Pipeline  # For creating modeling pipelines\n",
        "from sklearn.metrics import accuracy_score, confusion_matrix  # Model evaluation metrics\n",
        "from sklearn.metrics import precision_recall_fscore_support  # Precision, recall, and F1 score\n",
        "from sklearn.metrics import roc_auc_score # AUC score\n",
        "\n",
        "# Machine learning models\n",
        "from sklearn.linear_model import LogisticRegression  # Logistic regression model\n",
        "from sklearn.ensemble import RandomForestClassifier, VotingClassifier  # Ensemble models\n",
        "from sklearn.neighbors import KNeighborsClassifier  # k-Nearest Neighbors model\n",
        "from sklearn.svm import SVC  # Support Vector Machine model\n",
        "from sklearn.neural_network import MLPClassifier\n",
        "\n",
        "# Model selection and hyperparameter tuning\n",
        "from sklearn.model_selection import GridSearchCV  # For hyperparameter tuning\n",
        "\n",
        "# Data balancing techniques\n",
        "from imblearn.over_sampling import SMOTE, ADASYN  # Over-sampling techniques\n",
        "from imblearn.over_sampling import RandomOverSampler  # Random over-sampling\n",
        "\n",
        "# Additional utilities\n",
        "from typing import List  # For type hints\n",
        "from google.colab import drive  # Google Colab drive integration (if using Google Colab)\n",
        "import warnings  # For controlling warning messages\n",
        "\n",
        "\n",
        "warnings.filterwarnings('ignore')  # Suppress warning messages for cleaner output\n",
        "\n",
        "# Plotly setup for notebooks\n",
        "from plotly.offline import plot, iplot, init_notebook_mode\n",
        "# init_notebook_mode(connected=True)\n",
        "\n"
      ]
    },
    {
      "cell_type": "markdown",
      "metadata": {
        "id": "2NbPHUTMbkD3"
      },
      "source": [
        "##  Data\n"
      ]
    },
    {
      "cell_type": "markdown",
      "metadata": {
        "id": "IZR1TXk-ltVW"
      },
      "source": [
        "The raw dataset comes from UC Irvine Machine Learning Repository. https://archive.ics.uci.edu/dataset/383/cervical+cancer+risk+factors\n",
        "\n",
        "Fernandes,Kelwin, Cardoso,Jaime, and Fernandes,Jessica. (2017). Cervical Cancer (Risk Factors). UCI Machine Learning Repository. https://doi.org/10.24432/C5Z310.\n",
        "\n",
        "The dataset was collected at 'Hospital Universitario de Caracas' in Caracas, Venezuela. The dataset contains demographic information, habits, and historic medical records of 858 patients. Several patients decided not to answer some of the questions because of privacy concerns (missing values represented as '?').\n",
        "\n",
        "The missing values certainly make some of the columns less accurate. Time since STD Diagnosis is largely unknown, followed by presence of an IUD. So there is not a perfect correlation to be determined for every feature.\n",
        "\n",
        "We load the raw data and display statistics, showing how many patients are without cancer and with cancer. We display the number of unknowns before we clean our data.\n",
        "\n",
        "To clean and process the data, we convert numerical 'object' columns to integers. We replace '?'s with the median of that column. We rerun the overall statistics to confirm there are no \"unknown\" values and the number of cancer patients remained the same. We create a new age_category column that stratifies the ages.\n",
        "\n",
        "We run statistics on the age category to gain context. For example, we can see things like just over 2% of the dataset is diagnosed with cancer, but 44% of those diagnosed with cancer are in their 30's, and 20% of patients who are in their 50's have cancer. (We must remember the dataset is small, which is why we sample using ADASYN). There are only 4 patients 70 or older, and they all happen to not have cancer. This does not mean age is not important."
      ]
    },
    {
      "cell_type": "markdown",
      "metadata": {
        "id": "b5u1DLwa33Gc"
      },
      "source": [
        "### Processing and Statistics"
      ]
    },
    {
      "cell_type": "markdown",
      "metadata": {
        "id": "SQurnpcI0Ise"
      },
      "source": [
        "#### Checkpoint: Load Data Function"
      ]
    },
    {
      "cell_type": "code",
      "execution_count": null,
      "metadata": {
        "id": "Bto0Uj7p0R7a"
      },
      "outputs": [],
      "source": [
        "def load_data(data_dir):\n",
        "  # implement this function to load raw data to dataframe/numpy array/tensor\n",
        "    return pd.read_csv(data_dir, delimiter=',', encoding='utf-8')"
      ]
    },
    {
      "cell_type": "markdown",
      "metadata": {
        "id": "4aTPcULJOYhM"
      },
      "source": [
        "#### Checkpoint: Load Raw Data"
      ]
    },
    {
      "cell_type": "code",
      "execution_count": null,
      "metadata": {
        "colab": {
          "base_uri": "https://localhost:8080/",
          "height": 513
        },
        "id": "1AjSi-GGNWPD",
        "outputId": "84cc07f5-6cd3-4093-ff59-da6c86012bdf"
      },
      "outputs": [
        {
          "data": {
            "application/vnd.google.colaboratory.intrinsic+json": {
              "type": "dataframe",
              "variable_name": "raw_risk_factor_df"
            },
            "text/html": [
              "\n",
              "  <div id=\"df-3fc87101-eed8-425c-b24c-b2920c56bf46\" class=\"colab-df-container\">\n",
              "    <div>\n",
              "<style scoped>\n",
              "    .dataframe tbody tr th:only-of-type {\n",
              "        vertical-align: middle;\n",
              "    }\n",
              "\n",
              "    .dataframe tbody tr th {\n",
              "        vertical-align: top;\n",
              "    }\n",
              "\n",
              "    .dataframe thead th {\n",
              "        text-align: right;\n",
              "    }\n",
              "</style>\n",
              "<table border=\"1\" class=\"dataframe\">\n",
              "  <thead>\n",
              "    <tr style=\"text-align: right;\">\n",
              "      <th></th>\n",
              "      <th>Age</th>\n",
              "      <th>Number of sexual partners</th>\n",
              "      <th>First sexual intercourse</th>\n",
              "      <th>Num of pregnancies</th>\n",
              "      <th>Smokes</th>\n",
              "      <th>Smokes (years)</th>\n",
              "      <th>Smokes (packs/year)</th>\n",
              "      <th>Hormonal Contraceptives</th>\n",
              "      <th>Hormonal Contraceptives (years)</th>\n",
              "      <th>IUD</th>\n",
              "      <th>...</th>\n",
              "      <th>STDs: Time since first diagnosis</th>\n",
              "      <th>STDs: Time since last diagnosis</th>\n",
              "      <th>Dx:Cancer</th>\n",
              "      <th>Dx:CIN</th>\n",
              "      <th>Dx:HPV</th>\n",
              "      <th>Dx</th>\n",
              "      <th>Hinselmann</th>\n",
              "      <th>Schiller</th>\n",
              "      <th>Citology</th>\n",
              "      <th>Biopsy</th>\n",
              "    </tr>\n",
              "  </thead>\n",
              "  <tbody>\n",
              "    <tr>\n",
              "      <th>0</th>\n",
              "      <td>18</td>\n",
              "      <td>4.0</td>\n",
              "      <td>15.0</td>\n",
              "      <td>1.0</td>\n",
              "      <td>0.0</td>\n",
              "      <td>0.0</td>\n",
              "      <td>0.0</td>\n",
              "      <td>0.0</td>\n",
              "      <td>0.0</td>\n",
              "      <td>0.0</td>\n",
              "      <td>...</td>\n",
              "      <td>?</td>\n",
              "      <td>?</td>\n",
              "      <td>0</td>\n",
              "      <td>0</td>\n",
              "      <td>0</td>\n",
              "      <td>0</td>\n",
              "      <td>0</td>\n",
              "      <td>0</td>\n",
              "      <td>0</td>\n",
              "      <td>0</td>\n",
              "    </tr>\n",
              "    <tr>\n",
              "      <th>1</th>\n",
              "      <td>15</td>\n",
              "      <td>1.0</td>\n",
              "      <td>14.0</td>\n",
              "      <td>1.0</td>\n",
              "      <td>0.0</td>\n",
              "      <td>0.0</td>\n",
              "      <td>0.0</td>\n",
              "      <td>0.0</td>\n",
              "      <td>0.0</td>\n",
              "      <td>0.0</td>\n",
              "      <td>...</td>\n",
              "      <td>?</td>\n",
              "      <td>?</td>\n",
              "      <td>0</td>\n",
              "      <td>0</td>\n",
              "      <td>0</td>\n",
              "      <td>0</td>\n",
              "      <td>0</td>\n",
              "      <td>0</td>\n",
              "      <td>0</td>\n",
              "      <td>0</td>\n",
              "    </tr>\n",
              "    <tr>\n",
              "      <th>2</th>\n",
              "      <td>34</td>\n",
              "      <td>1.0</td>\n",
              "      <td>?</td>\n",
              "      <td>1.0</td>\n",
              "      <td>0.0</td>\n",
              "      <td>0.0</td>\n",
              "      <td>0.0</td>\n",
              "      <td>0.0</td>\n",
              "      <td>0.0</td>\n",
              "      <td>0.0</td>\n",
              "      <td>...</td>\n",
              "      <td>?</td>\n",
              "      <td>?</td>\n",
              "      <td>0</td>\n",
              "      <td>0</td>\n",
              "      <td>0</td>\n",
              "      <td>0</td>\n",
              "      <td>0</td>\n",
              "      <td>0</td>\n",
              "      <td>0</td>\n",
              "      <td>0</td>\n",
              "    </tr>\n",
              "    <tr>\n",
              "      <th>3</th>\n",
              "      <td>52</td>\n",
              "      <td>5.0</td>\n",
              "      <td>16.0</td>\n",
              "      <td>4.0</td>\n",
              "      <td>1.0</td>\n",
              "      <td>37.0</td>\n",
              "      <td>37.0</td>\n",
              "      <td>1.0</td>\n",
              "      <td>3.0</td>\n",
              "      <td>0.0</td>\n",
              "      <td>...</td>\n",
              "      <td>?</td>\n",
              "      <td>?</td>\n",
              "      <td>1</td>\n",
              "      <td>0</td>\n",
              "      <td>1</td>\n",
              "      <td>0</td>\n",
              "      <td>0</td>\n",
              "      <td>0</td>\n",
              "      <td>0</td>\n",
              "      <td>0</td>\n",
              "    </tr>\n",
              "    <tr>\n",
              "      <th>4</th>\n",
              "      <td>46</td>\n",
              "      <td>3.0</td>\n",
              "      <td>21.0</td>\n",
              "      <td>4.0</td>\n",
              "      <td>0.0</td>\n",
              "      <td>0.0</td>\n",
              "      <td>0.0</td>\n",
              "      <td>1.0</td>\n",
              "      <td>15.0</td>\n",
              "      <td>0.0</td>\n",
              "      <td>...</td>\n",
              "      <td>?</td>\n",
              "      <td>?</td>\n",
              "      <td>0</td>\n",
              "      <td>0</td>\n",
              "      <td>0</td>\n",
              "      <td>0</td>\n",
              "      <td>0</td>\n",
              "      <td>0</td>\n",
              "      <td>0</td>\n",
              "      <td>0</td>\n",
              "    </tr>\n",
              "    <tr>\n",
              "      <th>...</th>\n",
              "      <td>...</td>\n",
              "      <td>...</td>\n",
              "      <td>...</td>\n",
              "      <td>...</td>\n",
              "      <td>...</td>\n",
              "      <td>...</td>\n",
              "      <td>...</td>\n",
              "      <td>...</td>\n",
              "      <td>...</td>\n",
              "      <td>...</td>\n",
              "      <td>...</td>\n",
              "      <td>...</td>\n",
              "      <td>...</td>\n",
              "      <td>...</td>\n",
              "      <td>...</td>\n",
              "      <td>...</td>\n",
              "      <td>...</td>\n",
              "      <td>...</td>\n",
              "      <td>...</td>\n",
              "      <td>...</td>\n",
              "      <td>...</td>\n",
              "    </tr>\n",
              "    <tr>\n",
              "      <th>853</th>\n",
              "      <td>34</td>\n",
              "      <td>3.0</td>\n",
              "      <td>18.0</td>\n",
              "      <td>0.0</td>\n",
              "      <td>0.0</td>\n",
              "      <td>0.0</td>\n",
              "      <td>0.0</td>\n",
              "      <td>0.0</td>\n",
              "      <td>0.0</td>\n",
              "      <td>0.0</td>\n",
              "      <td>...</td>\n",
              "      <td>?</td>\n",
              "      <td>?</td>\n",
              "      <td>0</td>\n",
              "      <td>0</td>\n",
              "      <td>0</td>\n",
              "      <td>0</td>\n",
              "      <td>0</td>\n",
              "      <td>0</td>\n",
              "      <td>0</td>\n",
              "      <td>0</td>\n",
              "    </tr>\n",
              "    <tr>\n",
              "      <th>854</th>\n",
              "      <td>32</td>\n",
              "      <td>2.0</td>\n",
              "      <td>19.0</td>\n",
              "      <td>1.0</td>\n",
              "      <td>0.0</td>\n",
              "      <td>0.0</td>\n",
              "      <td>0.0</td>\n",
              "      <td>1.0</td>\n",
              "      <td>8.0</td>\n",
              "      <td>0.0</td>\n",
              "      <td>...</td>\n",
              "      <td>?</td>\n",
              "      <td>?</td>\n",
              "      <td>0</td>\n",
              "      <td>0</td>\n",
              "      <td>0</td>\n",
              "      <td>0</td>\n",
              "      <td>0</td>\n",
              "      <td>0</td>\n",
              "      <td>0</td>\n",
              "      <td>0</td>\n",
              "    </tr>\n",
              "    <tr>\n",
              "      <th>855</th>\n",
              "      <td>25</td>\n",
              "      <td>2.0</td>\n",
              "      <td>17.0</td>\n",
              "      <td>0.0</td>\n",
              "      <td>0.0</td>\n",
              "      <td>0.0</td>\n",
              "      <td>0.0</td>\n",
              "      <td>1.0</td>\n",
              "      <td>0.08</td>\n",
              "      <td>0.0</td>\n",
              "      <td>...</td>\n",
              "      <td>?</td>\n",
              "      <td>?</td>\n",
              "      <td>0</td>\n",
              "      <td>0</td>\n",
              "      <td>0</td>\n",
              "      <td>0</td>\n",
              "      <td>0</td>\n",
              "      <td>0</td>\n",
              "      <td>1</td>\n",
              "      <td>0</td>\n",
              "    </tr>\n",
              "    <tr>\n",
              "      <th>856</th>\n",
              "      <td>33</td>\n",
              "      <td>2.0</td>\n",
              "      <td>24.0</td>\n",
              "      <td>2.0</td>\n",
              "      <td>0.0</td>\n",
              "      <td>0.0</td>\n",
              "      <td>0.0</td>\n",
              "      <td>1.0</td>\n",
              "      <td>0.08</td>\n",
              "      <td>0.0</td>\n",
              "      <td>...</td>\n",
              "      <td>?</td>\n",
              "      <td>?</td>\n",
              "      <td>0</td>\n",
              "      <td>0</td>\n",
              "      <td>0</td>\n",
              "      <td>0</td>\n",
              "      <td>0</td>\n",
              "      <td>0</td>\n",
              "      <td>0</td>\n",
              "      <td>0</td>\n",
              "    </tr>\n",
              "    <tr>\n",
              "      <th>857</th>\n",
              "      <td>29</td>\n",
              "      <td>2.0</td>\n",
              "      <td>20.0</td>\n",
              "      <td>1.0</td>\n",
              "      <td>0.0</td>\n",
              "      <td>0.0</td>\n",
              "      <td>0.0</td>\n",
              "      <td>1.0</td>\n",
              "      <td>0.5</td>\n",
              "      <td>0.0</td>\n",
              "      <td>...</td>\n",
              "      <td>?</td>\n",
              "      <td>?</td>\n",
              "      <td>0</td>\n",
              "      <td>0</td>\n",
              "      <td>0</td>\n",
              "      <td>0</td>\n",
              "      <td>0</td>\n",
              "      <td>0</td>\n",
              "      <td>0</td>\n",
              "      <td>0</td>\n",
              "    </tr>\n",
              "  </tbody>\n",
              "</table>\n",
              "<p>858 rows × 36 columns</p>\n",
              "</div>\n",
              "    <div class=\"colab-df-buttons\">\n",
              "\n",
              "  <div class=\"colab-df-container\">\n",
              "    <button class=\"colab-df-convert\" onclick=\"convertToInteractive('df-3fc87101-eed8-425c-b24c-b2920c56bf46')\"\n",
              "            title=\"Convert this dataframe to an interactive table.\"\n",
              "            style=\"display:none;\">\n",
              "\n",
              "  <svg xmlns=\"http://www.w3.org/2000/svg\" height=\"24px\" viewBox=\"0 -960 960 960\">\n",
              "    <path d=\"M120-120v-720h720v720H120Zm60-500h600v-160H180v160Zm220 220h160v-160H400v160Zm0 220h160v-160H400v160ZM180-400h160v-160H180v160Zm440 0h160v-160H620v160ZM180-180h160v-160H180v160Zm440 0h160v-160H620v160Z\"/>\n",
              "  </svg>\n",
              "    </button>\n",
              "\n",
              "  <style>\n",
              "    .colab-df-container {\n",
              "      display:flex;\n",
              "      gap: 12px;\n",
              "    }\n",
              "\n",
              "    .colab-df-convert {\n",
              "      background-color: #E8F0FE;\n",
              "      border: none;\n",
              "      border-radius: 50%;\n",
              "      cursor: pointer;\n",
              "      display: none;\n",
              "      fill: #1967D2;\n",
              "      height: 32px;\n",
              "      padding: 0 0 0 0;\n",
              "      width: 32px;\n",
              "    }\n",
              "\n",
              "    .colab-df-convert:hover {\n",
              "      background-color: #E2EBFA;\n",
              "      box-shadow: 0px 1px 2px rgba(60, 64, 67, 0.3), 0px 1px 3px 1px rgba(60, 64, 67, 0.15);\n",
              "      fill: #174EA6;\n",
              "    }\n",
              "\n",
              "    .colab-df-buttons div {\n",
              "      margin-bottom: 4px;\n",
              "    }\n",
              "\n",
              "    [theme=dark] .colab-df-convert {\n",
              "      background-color: #3B4455;\n",
              "      fill: #D2E3FC;\n",
              "    }\n",
              "\n",
              "    [theme=dark] .colab-df-convert:hover {\n",
              "      background-color: #434B5C;\n",
              "      box-shadow: 0px 1px 3px 1px rgba(0, 0, 0, 0.15);\n",
              "      filter: drop-shadow(0px 1px 2px rgba(0, 0, 0, 0.3));\n",
              "      fill: #FFFFFF;\n",
              "    }\n",
              "  </style>\n",
              "\n",
              "    <script>\n",
              "      const buttonEl =\n",
              "        document.querySelector('#df-3fc87101-eed8-425c-b24c-b2920c56bf46 button.colab-df-convert');\n",
              "      buttonEl.style.display =\n",
              "        google.colab.kernel.accessAllowed ? 'block' : 'none';\n",
              "\n",
              "      async function convertToInteractive(key) {\n",
              "        const element = document.querySelector('#df-3fc87101-eed8-425c-b24c-b2920c56bf46');\n",
              "        const dataTable =\n",
              "          await google.colab.kernel.invokeFunction('convertToInteractive',\n",
              "                                                    [key], {});\n",
              "        if (!dataTable) return;\n",
              "\n",
              "        const docLinkHtml = 'Like what you see? Visit the ' +\n",
              "          '<a target=\"_blank\" href=https://colab.research.google.com/notebooks/data_table.ipynb>data table notebook</a>'\n",
              "          + ' to learn more about interactive tables.';\n",
              "        element.innerHTML = '';\n",
              "        dataTable['output_type'] = 'display_data';\n",
              "        await google.colab.output.renderOutput(dataTable, element);\n",
              "        const docLink = document.createElement('div');\n",
              "        docLink.innerHTML = docLinkHtml;\n",
              "        element.appendChild(docLink);\n",
              "      }\n",
              "    </script>\n",
              "  </div>\n",
              "\n",
              "\n",
              "<div id=\"df-436d6a0d-235c-46c7-be7a-974bff594963\">\n",
              "  <button class=\"colab-df-quickchart\" onclick=\"quickchart('df-436d6a0d-235c-46c7-be7a-974bff594963')\"\n",
              "            title=\"Suggest charts\"\n",
              "            style=\"display:none;\">\n",
              "\n",
              "<svg xmlns=\"http://www.w3.org/2000/svg\" height=\"24px\"viewBox=\"0 0 24 24\"\n",
              "     width=\"24px\">\n",
              "    <g>\n",
              "        <path d=\"M19 3H5c-1.1 0-2 .9-2 2v14c0 1.1.9 2 2 2h14c1.1 0 2-.9 2-2V5c0-1.1-.9-2-2-2zM9 17H7v-7h2v7zm4 0h-2V7h2v10zm4 0h-2v-4h2v4z\"/>\n",
              "    </g>\n",
              "</svg>\n",
              "  </button>\n",
              "\n",
              "<style>\n",
              "  .colab-df-quickchart {\n",
              "      --bg-color: #E8F0FE;\n",
              "      --fill-color: #1967D2;\n",
              "      --hover-bg-color: #E2EBFA;\n",
              "      --hover-fill-color: #174EA6;\n",
              "      --disabled-fill-color: #AAA;\n",
              "      --disabled-bg-color: #DDD;\n",
              "  }\n",
              "\n",
              "  [theme=dark] .colab-df-quickchart {\n",
              "      --bg-color: #3B4455;\n",
              "      --fill-color: #D2E3FC;\n",
              "      --hover-bg-color: #434B5C;\n",
              "      --hover-fill-color: #FFFFFF;\n",
              "      --disabled-bg-color: #3B4455;\n",
              "      --disabled-fill-color: #666;\n",
              "  }\n",
              "\n",
              "  .colab-df-quickchart {\n",
              "    background-color: var(--bg-color);\n",
              "    border: none;\n",
              "    border-radius: 50%;\n",
              "    cursor: pointer;\n",
              "    display: none;\n",
              "    fill: var(--fill-color);\n",
              "    height: 32px;\n",
              "    padding: 0;\n",
              "    width: 32px;\n",
              "  }\n",
              "\n",
              "  .colab-df-quickchart:hover {\n",
              "    background-color: var(--hover-bg-color);\n",
              "    box-shadow: 0 1px 2px rgba(60, 64, 67, 0.3), 0 1px 3px 1px rgba(60, 64, 67, 0.15);\n",
              "    fill: var(--button-hover-fill-color);\n",
              "  }\n",
              "\n",
              "  .colab-df-quickchart-complete:disabled,\n",
              "  .colab-df-quickchart-complete:disabled:hover {\n",
              "    background-color: var(--disabled-bg-color);\n",
              "    fill: var(--disabled-fill-color);\n",
              "    box-shadow: none;\n",
              "  }\n",
              "\n",
              "  .colab-df-spinner {\n",
              "    border: 2px solid var(--fill-color);\n",
              "    border-color: transparent;\n",
              "    border-bottom-color: var(--fill-color);\n",
              "    animation:\n",
              "      spin 1s steps(1) infinite;\n",
              "  }\n",
              "\n",
              "  @keyframes spin {\n",
              "    0% {\n",
              "      border-color: transparent;\n",
              "      border-bottom-color: var(--fill-color);\n",
              "      border-left-color: var(--fill-color);\n",
              "    }\n",
              "    20% {\n",
              "      border-color: transparent;\n",
              "      border-left-color: var(--fill-color);\n",
              "      border-top-color: var(--fill-color);\n",
              "    }\n",
              "    30% {\n",
              "      border-color: transparent;\n",
              "      border-left-color: var(--fill-color);\n",
              "      border-top-color: var(--fill-color);\n",
              "      border-right-color: var(--fill-color);\n",
              "    }\n",
              "    40% {\n",
              "      border-color: transparent;\n",
              "      border-right-color: var(--fill-color);\n",
              "      border-top-color: var(--fill-color);\n",
              "    }\n",
              "    60% {\n",
              "      border-color: transparent;\n",
              "      border-right-color: var(--fill-color);\n",
              "    }\n",
              "    80% {\n",
              "      border-color: transparent;\n",
              "      border-right-color: var(--fill-color);\n",
              "      border-bottom-color: var(--fill-color);\n",
              "    }\n",
              "    90% {\n",
              "      border-color: transparent;\n",
              "      border-bottom-color: var(--fill-color);\n",
              "    }\n",
              "  }\n",
              "</style>\n",
              "\n",
              "  <script>\n",
              "    async function quickchart(key) {\n",
              "      const quickchartButtonEl =\n",
              "        document.querySelector('#' + key + ' button');\n",
              "      quickchartButtonEl.disabled = true;  // To prevent multiple clicks.\n",
              "      quickchartButtonEl.classList.add('colab-df-spinner');\n",
              "      try {\n",
              "        const charts = await google.colab.kernel.invokeFunction(\n",
              "            'suggestCharts', [key], {});\n",
              "      } catch (error) {\n",
              "        console.error('Error during call to suggestCharts:', error);\n",
              "      }\n",
              "      quickchartButtonEl.classList.remove('colab-df-spinner');\n",
              "      quickchartButtonEl.classList.add('colab-df-quickchart-complete');\n",
              "    }\n",
              "    (() => {\n",
              "      let quickchartButtonEl =\n",
              "        document.querySelector('#df-436d6a0d-235c-46c7-be7a-974bff594963 button');\n",
              "      quickchartButtonEl.style.display =\n",
              "        google.colab.kernel.accessAllowed ? 'block' : 'none';\n",
              "    })();\n",
              "  </script>\n",
              "</div>\n",
              "    </div>\n",
              "  </div>\n"
            ],
            "text/plain": [
              "     Age Number of sexual partners First sexual intercourse  \\\n",
              "0     18                       4.0                     15.0   \n",
              "1     15                       1.0                     14.0   \n",
              "2     34                       1.0                        ?   \n",
              "3     52                       5.0                     16.0   \n",
              "4     46                       3.0                     21.0   \n",
              "..   ...                       ...                      ...   \n",
              "853   34                       3.0                     18.0   \n",
              "854   32                       2.0                     19.0   \n",
              "855   25                       2.0                     17.0   \n",
              "856   33                       2.0                     24.0   \n",
              "857   29                       2.0                     20.0   \n",
              "\n",
              "    Num of pregnancies Smokes Smokes (years) Smokes (packs/year)  \\\n",
              "0                  1.0    0.0            0.0                 0.0   \n",
              "1                  1.0    0.0            0.0                 0.0   \n",
              "2                  1.0    0.0            0.0                 0.0   \n",
              "3                  4.0    1.0           37.0                37.0   \n",
              "4                  4.0    0.0            0.0                 0.0   \n",
              "..                 ...    ...            ...                 ...   \n",
              "853                0.0    0.0            0.0                 0.0   \n",
              "854                1.0    0.0            0.0                 0.0   \n",
              "855                0.0    0.0            0.0                 0.0   \n",
              "856                2.0    0.0            0.0                 0.0   \n",
              "857                1.0    0.0            0.0                 0.0   \n",
              "\n",
              "    Hormonal Contraceptives Hormonal Contraceptives (years)  IUD  ...  \\\n",
              "0                       0.0                             0.0  0.0  ...   \n",
              "1                       0.0                             0.0  0.0  ...   \n",
              "2                       0.0                             0.0  0.0  ...   \n",
              "3                       1.0                             3.0  0.0  ...   \n",
              "4                       1.0                            15.0  0.0  ...   \n",
              "..                      ...                             ...  ...  ...   \n",
              "853                     0.0                             0.0  0.0  ...   \n",
              "854                     1.0                             8.0  0.0  ...   \n",
              "855                     1.0                            0.08  0.0  ...   \n",
              "856                     1.0                            0.08  0.0  ...   \n",
              "857                     1.0                             0.5  0.0  ...   \n",
              "\n",
              "    STDs: Time since first diagnosis STDs: Time since last diagnosis  \\\n",
              "0                                  ?                               ?   \n",
              "1                                  ?                               ?   \n",
              "2                                  ?                               ?   \n",
              "3                                  ?                               ?   \n",
              "4                                  ?                               ?   \n",
              "..                               ...                             ...   \n",
              "853                                ?                               ?   \n",
              "854                                ?                               ?   \n",
              "855                                ?                               ?   \n",
              "856                                ?                               ?   \n",
              "857                                ?                               ?   \n",
              "\n",
              "    Dx:Cancer Dx:CIN Dx:HPV Dx Hinselmann Schiller Citology Biopsy  \n",
              "0           0      0      0  0          0        0        0      0  \n",
              "1           0      0      0  0          0        0        0      0  \n",
              "2           0      0      0  0          0        0        0      0  \n",
              "3           1      0      1  0          0        0        0      0  \n",
              "4           0      0      0  0          0        0        0      0  \n",
              "..        ...    ...    ... ..        ...      ...      ...    ...  \n",
              "853         0      0      0  0          0        0        0      0  \n",
              "854         0      0      0  0          0        0        0      0  \n",
              "855         0      0      0  0          0        0        1      0  \n",
              "856         0      0      0  0          0        0        0      0  \n",
              "857         0      0      0  0          0        0        0      0  \n",
              "\n",
              "[858 rows x 36 columns]"
            ]
          },
          "execution_count": 136,
          "metadata": {},
          "output_type": "execute_result"
        }
      ],
      "source": [
        "root = '/content/drive/My Drive/DL4H_Sp24_Final_Project/'\n",
        "# dir and function to load raw data\n",
        "have_access = True\n",
        "\n",
        "\n",
        "try:\n",
        "  data_dir = '/content/drive/My Drive/DL4H_Sp24_Final_Project/risk_factors_cervical_cancer.csv'\n",
        "  raw_risk_factor_df = load_data(data_dir)\n",
        "  have_access = True\n",
        "except:\n",
        "  have_access = False\n",
        "  data_dir = 'risk_factors_cervical_cancer.csv'\n",
        "  gdown.download('https://drive.google.com/file/d/13Co6aIxBU4KXMNH56TDyQd70pkk_b4l2/view?usp=sharing', data_dir, format='csv', fuzzy=True,quiet=True)\n",
        "  raw_risk_factor_df = load_data(data_dir)\n",
        "  print(\"No access, Used Gdown!\")\n",
        "# https://drive.google.com/drive/folders/1AUr8BgW16UU-7XjFf8O77XAgjA27gISV?usp=sharing\n",
        "raw_risk_factor_df"
      ]
    },
    {
      "cell_type": "markdown",
      "metadata": {
        "id": "gL2upGZ9OnzG"
      },
      "source": [
        "#### Checkpoint: Define Statistics methods"
      ]
    },
    {
      "cell_type": "code",
      "execution_count": null,
      "metadata": {
        "id": "UxjCZD5mNeDE"
      },
      "outputs": [],
      "source": [
        "# calculate dataset statistics\n",
        "def calculate_dataset_stats(df):\n",
        "  print(len(df), \" total patients\")\n",
        "  print(df['Dx:Cancer'].value_counts()[0], \" patients without Cancer\")\n",
        "  print(df['Dx:Cancer'].value_counts()[1], \" patients with Cancer\")\n",
        "  print(df.applymap(lambda x: x == \"?\").sum().sum(), \" unknown values\")\n",
        "  specified_value = '?'  # Replace with the value you're interested in\n",
        "  max_count = -1\n",
        "  column_with_most = None\n",
        "\n",
        "  for column in df.columns:\n",
        "    if column == \"STDs: Time since last diagnosis\" or column == \"STDs: Time since first diagnosis\":\n",
        "      continue\n",
        "    value_counts = df[column].value_counts()\n",
        "    if specified_value in value_counts:\n",
        "      if value_counts[specified_value] > max_count:\n",
        "          max_count = value_counts[specified_value]\n",
        "          column_with_most = column\n",
        "\n",
        "  print(f\"Column with the most '{specified_value}': {column_with_most} (Count: {max_count})\")\n",
        "  dataset_size = df.shape[0] * df.shape[1]\n",
        "  print(100 * df.applymap(lambda x: x == \"?\").sum().sum()/dataset_size, \" percent of the dataset is unknown\")\n",
        "\n",
        "  # Formatting to match the style: dtypes: float64(2), int64(2), object(1)\n",
        "  formatted_summary = \", \".join([f\"{k}: {v}\" for k, v in df.dtypes.value_counts().items()])\n",
        "  print(\"dtypes:\", formatted_summary)"
      ]
    },
    {
      "cell_type": "code",
      "execution_count": null,
      "metadata": {
        "id": "hryRsZZSNmZJ"
      },
      "outputs": [],
      "source": [
        "# NOTE: this is a deviation from the source code. In the source code, category_percent\n",
        "# summed up to 100 across the diagnosis, we also wanted to show the percent for each category\n",
        "\n",
        "def col_stats(df, diagnosis_column, category_column):\n",
        "    \"\"\"\n",
        "    Calculates statistics for diagnosis distributions across categories.\n",
        "\n",
        "    Parameters:\n",
        "    - df (DataFrame): The input data frame containing the relevant data.\n",
        "    - diagnosis_column (str): The name of the column containing diagnosis information.\n",
        "    - category_column (str): The name of the column containing category labels (e.g., age groups).\n",
        "\n",
        "    Returns:\n",
        "    - DataFrame: A pivot table presenting the calculated statistics.\n",
        "    \"\"\"\n",
        "\n",
        "    # Calculate the overall percentage of each diagnosis-category combination.\n",
        "    overall_percentages = df[[diagnosis_column, category_column]] \\\n",
        "        .value_counts(normalize=True) \\\n",
        "        .mul(100) \\\n",
        "        .round(decimals=4) \\\n",
        "        .reset_index(name='Overall_Percent')\n",
        "\n",
        "    # Count the occurrences within each category for a diagnosis.\n",
        "    diagnosis_by_category_counts = df.groupby([diagnosis_column, category_column]) \\\n",
        "        .size() \\\n",
        "        .reset_index(name='Count_in_Category')\n",
        "\n",
        "    # Count the total occurrences within each category.\n",
        "    total_in_category = df.groupby(category_column) \\\n",
        "        .size() \\\n",
        "        .reset_index(name='Total_in_Category')\n",
        "\n",
        "    # Calculate the percentage of each diagnosis within specific categories.\n",
        "    category_percentages = pd.merge(diagnosis_by_category_counts, total_in_category, on=category_column)\n",
        "    category_percentages['Category_Percent'] = category_percentages['Count_in_Category'] \\\n",
        "        .div(category_percentages['Total_in_Category']) \\\n",
        "        .mul(100) \\\n",
        "        .round(decimals=4)\n",
        "\n",
        "    # Count occurrences of each diagnosis and calculate the percentage within the diagnosis.\n",
        "    diagnosis_counts_and_percentages = pd.merge(\n",
        "        df.groupby([diagnosis_column, category_column]).size().reset_index(name='Individual_Count'),\n",
        "        df.groupby(diagnosis_column).size().reset_index(name='Total_in_Diagnosis'),\n",
        "        on=diagnosis_column\n",
        "    )\n",
        "    diagnosis_counts_and_percentages['Diagnosis_Percent'] = diagnosis_counts_and_percentages['Individual_Count'] \\\n",
        "        .div(diagnosis_counts_and_percentages['Total_in_Diagnosis']) \\\n",
        "        .mul(100) \\\n",
        "        .round(4)\n",
        "\n",
        "    # Merge the overall percentages with category-specific percentages.\n",
        "    temp_merged = pd.merge(\n",
        "        overall_percentages,\n",
        "        category_percentages[[diagnosis_column, category_column, 'Category_Percent']],\n",
        "        on=[diagnosis_column, category_column]\n",
        "    )\n",
        "\n",
        "    # Merge with the diagnosis percentage data.\n",
        "    final_merged = pd.merge(\n",
        "        temp_merged,\n",
        "        diagnosis_counts_and_percentages[[diagnosis_column, category_column, 'Diagnosis_Percent']],\n",
        "        on=[diagnosis_column, category_column]\n",
        "    )\n",
        "\n",
        "    # Create a pivot table for better presentation.\n",
        "    final_pivot_table = final_merged.pivot(index=category_column, columns=diagnosis_column).reset_index()\n",
        "    final_pivot_table.fillna(0.000, inplace=True)\n",
        "    return final_pivot_table\n",
        "\n",
        "def print_unique_values_df(df: pd.DataFrame):\n",
        "    for col in list(df):\n",
        "        print(\"Number of Unique Values for \"'{}'\": {}\".format(str(col), len(risk_factor_df[col].unique())))\n",
        "        print(\"dtype for {} is :{}\".format(str(col), risk_factor_df[col].dtypes))\n",
        "        print(\"-\" * 150)"
      ]
    },
    {
      "cell_type": "markdown",
      "metadata": {
        "id": "cmOs-HMnOvSR"
      },
      "source": [
        "#### Checkpoint: Define Processing Method"
      ]
    },
    {
      "cell_type": "code",
      "execution_count": null,
      "metadata": {
        "id": "pJtVG_g6N6CL"
      },
      "outputs": [],
      "source": [
        "# process raw data\n",
        "def process_data(raw_data):\n",
        "    # implement this function to process the data as you need\n",
        "  #these columns are not of type object, but are of type numeric\n",
        "  cols_to_convert = ['Number of sexual partners', 'First sexual intercourse', 'Num of pregnancies', 'Smokes',\n",
        "                    'Smokes (years)', 'Smokes (packs/year)', 'Hormonal Contraceptives',\n",
        "                    'Hormonal Contraceptives (years)', 'IUD', 'IUD (years)', 'STDs', 'STDs (number)',\n",
        "                    'STDs:condylomatosis', 'STDs:cervical condylomatosis', 'STDs:vaginal condylomatosis',\n",
        "                    'STDs:vulvo-perineal condylomatosis', 'STDs:syphilis', 'STDs:pelvic inflammatory disease',\n",
        "                    'STDs:genital herpes', 'STDs:molluscum contagiosum', 'STDs:AIDS', 'STDs:HIV', 'STDs:Hepatitis B',\n",
        "                    'STDs:HPV', 'STDs: Time since first diagnosis',\n",
        "                    'STDs: Time since last diagnosis']\n",
        "\n",
        "  std_cols = {'STDs:condylomatosis',\n",
        "            'STDs:cervical condylomatosis',\n",
        "            'STDs:vaginal condylomatosis',\n",
        "            'STDs:vulvo-perineal condylomatosis',\n",
        "            'STDs:syphilis',\n",
        "            'STDs:pelvic inflammatory disease',\n",
        "            'STDs:genital herpes',\n",
        "            'STDs:molluscum contagiosum',\n",
        "            'STDs:AIDS',\n",
        "            'STDs:HIV',\n",
        "            'STDs:Hepatitis B',\n",
        "            'STDs:HPV'}\n",
        "\n",
        "  test_cols = [\"Hinselmann\", \"Schiller\", \"Citology\", \"Biopsy\"]\n",
        "\n",
        "  to_int_and_beyond = {\"total_tests\",\n",
        "                     \"total_std\",\n",
        "                     \"Smokes\",\n",
        "                     \"Biopsy\",\n",
        "                     \"Dx:Cancer\",\n",
        "                     \"Num of pregnancies\",\n",
        "                     \"Number of sexual partners\",\n",
        "                     \"First sexual intercourse\",\n",
        "                     \"Hormonal Contraceptives\",\n",
        "                     \"IUD\",\n",
        "                     \"STDs\",\n",
        "                     \"STDs (number)\",\n",
        "                     \"STDs: Number of diagnosis\",\n",
        "                     \"Dx:CIN\",\n",
        "                     \"Dx:HPV\",\n",
        "                     \"Dx\",\n",
        "                     \"Hinselmann\",\n",
        "                     \"Schiller\",\n",
        "                     \"Biopsy\",\n",
        "                     \"Citology\"}\n",
        "\n",
        "  to_int_and_beyond = to_int_and_beyond.union(std_cols)\n",
        "\n",
        "  # convert object columns to numeric and replace with nan\n",
        "  raw_data[cols_to_convert] = raw_data[cols_to_convert].apply(pd.to_numeric, errors=\"coerce\")\n",
        "  raw_data[cols_to_convert].fillna(np.nan, inplace=True)\n",
        "  # replace nan values with the median of the column\n",
        "  imp = SimpleImputer(strategy=\"median\")\n",
        "  X = imp.fit_transform(raw_data)\n",
        "  risk_factor_df = pd.DataFrame(X, columns=list(raw_data.columns))\n",
        "\n",
        "  # make new columns\n",
        "  risk_factor_df[\"Age\"] = risk_factor_df[\"Age\"].astype(int)\n",
        "  risk_factor_df[\"age_cat\"] = risk_factor_df[\"Age\"].apply(age_cat)\n",
        "  risk_factor_df[\"total_std\"] = risk_factor_df[list(std_cols)].sum(axis=1)\n",
        "  risk_factor_df[\"total_tests\"] = risk_factor_df[test_cols].sum(axis = 1)\n",
        "  for col in to_int_and_beyond:\n",
        "    risk_factor_df[col] = risk_factor_df[col].astype(int)\n",
        "\n",
        "  # Aggregate the STD counts by age categories\n",
        "  std_agg = risk_factor_df.groupby(\"age_cat\", as_index=False)[list(std_cols)].sum()\n",
        "  return risk_factor_df, std_agg\n",
        "\n",
        "# categorize the age ranges\n",
        "def age_cat(age):\n",
        "    if age < 12:\n",
        "        return \"Child\"\n",
        "    elif age < 20:\n",
        "        return \"Teen\"\n",
        "    elif age < 30:\n",
        "        return \"20's\"\n",
        "    elif age < 40:\n",
        "        return \"30's\"\n",
        "    elif age < 50:\n",
        "        return \"40's\"\n",
        "    elif age < 60:\n",
        "        return \"50's\"\n",
        "    elif age < 70:\n",
        "        return \"60's\"\n",
        "    else:\n",
        "        return \"70+\"\n",
        "\n",
        "def save_data(df, path):\n",
        "  if have_access:\n",
        "    print(\"Save checkpoint granted\")\n",
        "    df.to_csv(path, index=False)\n",
        "  else:\n",
        "    print(\"You have no access to save data, skipping save checkpoint\")"
      ]
    },
    {
      "cell_type": "markdown",
      "metadata": {
        "id": "CKGzTRtDO7Ec"
      },
      "source": [
        "#### Checkpoint: Calculate Raw Data Stats"
      ]
    },
    {
      "cell_type": "code",
      "execution_count": null,
      "metadata": {
        "colab": {
          "base_uri": "https://localhost:8080/"
        },
        "id": "Ekh1nHXsOIt8",
        "outputId": "1c3e9124-0471-4092-a5f4-2f4dc56124c1"
      },
      "outputs": [
        {
          "name": "stdout",
          "output_type": "stream",
          "text": [
            "RAW DATA STATS\n",
            "858  total patients\n",
            "840  patients without Cancer\n",
            "18  patients with Cancer\n",
            "3622  unknown values\n",
            "Column with the most '?': IUD (Count: 117)\n",
            "11.726236726236726  percent of the dataset is unknown\n",
            "dtypes: object: 26, int64: 10\n"
          ]
        }
      ],
      "source": [
        "print('RAW DATA STATS')\n",
        "calculate_dataset_stats(raw_risk_factor_df)"
      ]
    },
    {
      "cell_type": "markdown",
      "metadata": {
        "id": "VM9YeZbuO_uE"
      },
      "source": [
        "#### (BEFORE ADASYN) Process Data, Calculate Processed Stats, and Save Data"
      ]
    },
    {
      "cell_type": "code",
      "execution_count": null,
      "metadata": {
        "colab": {
          "base_uri": "https://localhost:8080/"
        },
        "id": "BZScZNbROw-N",
        "outputId": "61ccc75c-be76-44fd-ed6b-07242d2dce3f"
      },
      "outputs": [
        {
          "name": "stdout",
          "output_type": "stream",
          "text": [
            "Save checkpoint granted\n",
            "Save checkpoint granted\n"
          ]
        }
      ],
      "source": [
        "# process data set\n",
        "risk_factor_df, std_agg = process_data(raw_risk_factor_df)\n",
        "save_data(risk_factor_df, '/content/drive/My Drive/DL4H_Sp24_Final_Project/processed_risk_factors_cervical_cancer.csv')\n",
        "save_data(std_agg, '/content/drive/My Drive/DL4H_Sp24_Final_Project/processed_std_agg.csv')\n"
      ]
    },
    {
      "cell_type": "markdown",
      "metadata": {
        "id": "6D5TLGD9-wnM"
      },
      "source": [
        "### Checkpoint: Load Processed Data\n"
      ]
    },
    {
      "cell_type": "code",
      "execution_count": null,
      "metadata": {
        "colab": {
          "base_uri": "https://localhost:8080/"
        },
        "id": "NBSz2xOd-1V9",
        "outputId": "6f6f49aa-cd6e-44b6-b78b-db1b1b55e1a8"
      },
      "outputs": [
        {
          "name": "stdout",
          "output_type": "stream",
          "text": [
            "------------------------------------------------------------------------------------------------------------------------------------------------------\n",
            "PROCESSED DATA STATS\n",
            "858  total patients\n",
            "840  patients without Cancer\n",
            "18  patients with Cancer\n",
            "0  unknown values\n",
            "Column with the most '?': None (Count: -1)\n",
            "0.0  percent of the dataset is unknown\n",
            "dtypes: int64: 32, float64: 6, object: 1\n",
            "------------------------------------------------------------------------------------------------------------------------------------------------------\n",
            "Dx:Cancer by age category\n",
            "          age_cat Overall_Percent         Category_Percent           \\\n",
            "Dx:Cancer                       0       1                0        1   \n",
            "0            20's         45.3380  0.5828          98.7310   1.2690   \n",
            "1            30's         24.7086  0.9324          96.3636   3.6364   \n",
            "2            40's          6.1772  0.3497          94.6429   5.3571   \n",
            "3            50's          0.4662  0.1166          80.0000  20.0000   \n",
            "4             70+          0.4662  0.0000         100.0000   0.0000   \n",
            "5            Teen         20.7459  0.1166          99.4413   0.5587   \n",
            "\n",
            "          Diagnosis_Percent           \n",
            "Dx:Cancer                 0        1  \n",
            "0                   46.3095  27.7778  \n",
            "1                   25.2381  44.4444  \n",
            "2                    6.3095  16.6667  \n",
            "3                    0.4762   5.5556  \n",
            "4                    0.4762   0.0000  \n",
            "5                   21.1905   5.5556  \n"
          ]
        }
      ],
      "source": [
        "try:\n",
        "  data_dir = '/content/drive/My Drive/DL4H_Sp24_Final_Project/processed_risk_factors_cervical_cancer.csv'\n",
        "  risk_factor_df = load_data(data_dir)\n",
        "  unbalanced_risk_factor_df = risk_factor_df\n",
        "  data_dir = '/content/drive/My Drive/DL4H_Sp24_Final_Project/processed_std_agg.csv'\n",
        "  std_agg = load_data(data_dir)\n",
        "  have_access = True\n",
        "except:\n",
        "  have_access = False\n",
        "  data_dir = 'processed_factors_cervical_cancer.csv'\n",
        "  gdown.download('https://drive.google.com/file/d/1n-II-zTyOpjToeWmetQFrbZ4YKFjfZQU/view?usp=share_link', data_dir, format='csv', fuzzy=True,quiet=True)\n",
        "  risk_factor_df = load_data(data_dir)\n",
        "  unbalanced_risk_factor_df = risk_factor_df\n",
        "  data_dir = 'processed_std_agg.csv'\n",
        "  gdown.download('https://drive.google.com/file/d/11OiEdMjfYzcMtZNh1jIWQJlIOw4iEbhG/view?usp=share_link', data_dir, format='csv', fuzzy=True,quiet=True)\n",
        "  std_agg = load_data(data_dir)\n",
        "  print(\"No access, Used Gdown!\")\n",
        "print(\"-\" * 150)\n",
        "print('PROCESSED DATA STATS')\n",
        "# print overall stats, might need to edit\n",
        "calculate_dataset_stats(risk_factor_df)\n",
        "print(\"-\" * 150)\n",
        "# print column specific stats\n",
        "print('Dx:Cancer by age category')\n",
        "dxCancerByAge = col_stats(risk_factor_df, 'Dx:Cancer', 'age_cat')\n",
        "print(dxCancerByAge)"
      ]
    },
    {
      "cell_type": "markdown",
      "metadata": {
        "id": "j7lIEjyLa8d8"
      },
      "source": [
        "### Checkpoint: Visualizations"
      ]
    },
    {
      "cell_type": "markdown",
      "metadata": {
        "id": "c_6jL66CiFqK"
      },
      "source": [
        "#### Top features that correlate with cancer Dx"
      ]
    },
    {
      "cell_type": "code",
      "execution_count": null,
      "metadata": {
        "colab": {
          "base_uri": "https://localhost:8080/",
          "height": 594
        },
        "id": "apXW0gndVW6O",
        "outputId": "a96afd41-9657-416f-d1ac-a3d5432aec3c"
      },
      "outputs": [
        {
          "name": "stdout",
          "output_type": "stream",
          "text": [
            "Index(['Dx:Cancer', 'Dx:HPV', 'Dx', 'STDs:HPV', 'total_tests', 'Biopsy',\n",
            "       'Schiller'],\n",
            "      dtype='object')\n"
          ]
        },
        {
          "data": {
            "text/html": [
              "<html>\n",
              "<head><meta charset=\"utf-8\" /></head>\n",
              "<body>\n",
              "    <div>            <script src=\"https://cdnjs.cloudflare.com/ajax/libs/mathjax/2.7.5/MathJax.js?config=TeX-AMS-MML_SVG\"></script><script type=\"text/javascript\">if (window.MathJax && window.MathJax.Hub && window.MathJax.Hub.Config) {window.MathJax.Hub.Config({SVG: {font: \"STIX-Web\"}});}</script>                <script type=\"text/javascript\">window.PlotlyConfig = {MathJaxConfig: 'local'};</script>\n",
              "        <script charset=\"utf-8\" src=\"https://cdn.plot.ly/plotly-2.24.1.min.js\"></script>                <div id=\"a7f02779-ed3a-4367-b2aa-19fb25f0a9c8\" class=\"plotly-graph-div\" style=\"height:525px; width:100%;\"></div>            <script type=\"text/javascript\">                                    window.PLOTLYENV=window.PLOTLYENV || {};                                    if (document.getElementById(\"a7f02779-ed3a-4367-b2aa-19fb25f0a9c8\")) {                    Plotly.newPlot(                        \"a7f02779-ed3a-4367-b2aa-19fb25f0a9c8\",                        [{\"coloraxis\":\"coloraxis\",\"name\":\"0\",\"x\":[\"Dx:Cancer\",\"Dx:HPV\",\"Dx\",\"STDs:HPV\",\"total_tests\",\"Biopsy\",\"Schiller\"],\"y\":[\"Dx:Cancer\",\"Dx:HPV\",\"Dx\",\"STDs:HPV\",\"total_tests\",\"Biopsy\",\"Schiller\"],\"z\":[[1.0,null,null,null,null,null,null],[0.8865079365079375,1.0,null,null,null,null,null],[0.6656470591721783,0.6163270957205603,1.0,null,null,null,null],[0.3302033735635853,0.33020337356358515,0.13837081296254866,1.0,null,null,null],[0.1824947677132573,0.18249476771325718,0.13521073555766125,-0.015806003398457828,1.0,null,null],[0.160904974935221,0.1609049749352209,0.1576066437180934,-0.012650325130184313,0.8515116778021743,1.0,null],[0.15781159936145814,0.15781159936145786,0.09895210299924379,-0.014850324511231413,0.9019518343422397,0.7332038805108368,1.0]],\"type\":\"heatmap\",\"xaxis\":\"x\",\"yaxis\":\"y\",\"hovertemplate\":\"Feature: %{x}\\u003cbr\\u003eFeature: %{y}\\u003cbr\\u003eCorrelation: %{z}\\u003cextra\\u003e\\u003c\\u002fextra\\u003e\"}],                        {\"template\":{\"data\":{\"histogram2dcontour\":[{\"type\":\"histogram2dcontour\",\"colorbar\":{\"outlinewidth\":0,\"ticks\":\"\"},\"colorscale\":[[0.0,\"#0d0887\"],[0.1111111111111111,\"#46039f\"],[0.2222222222222222,\"#7201a8\"],[0.3333333333333333,\"#9c179e\"],[0.4444444444444444,\"#bd3786\"],[0.5555555555555556,\"#d8576b\"],[0.6666666666666666,\"#ed7953\"],[0.7777777777777778,\"#fb9f3a\"],[0.8888888888888888,\"#fdca26\"],[1.0,\"#f0f921\"]]}],\"choropleth\":[{\"type\":\"choropleth\",\"colorbar\":{\"outlinewidth\":0,\"ticks\":\"\"}}],\"histogram2d\":[{\"type\":\"histogram2d\",\"colorbar\":{\"outlinewidth\":0,\"ticks\":\"\"},\"colorscale\":[[0.0,\"#0d0887\"],[0.1111111111111111,\"#46039f\"],[0.2222222222222222,\"#7201a8\"],[0.3333333333333333,\"#9c179e\"],[0.4444444444444444,\"#bd3786\"],[0.5555555555555556,\"#d8576b\"],[0.6666666666666666,\"#ed7953\"],[0.7777777777777778,\"#fb9f3a\"],[0.8888888888888888,\"#fdca26\"],[1.0,\"#f0f921\"]]}],\"heatmap\":[{\"type\":\"heatmap\",\"colorbar\":{\"outlinewidth\":0,\"ticks\":\"\"},\"colorscale\":[[0.0,\"#0d0887\"],[0.1111111111111111,\"#46039f\"],[0.2222222222222222,\"#7201a8\"],[0.3333333333333333,\"#9c179e\"],[0.4444444444444444,\"#bd3786\"],[0.5555555555555556,\"#d8576b\"],[0.6666666666666666,\"#ed7953\"],[0.7777777777777778,\"#fb9f3a\"],[0.8888888888888888,\"#fdca26\"],[1.0,\"#f0f921\"]]}],\"heatmapgl\":[{\"type\":\"heatmapgl\",\"colorbar\":{\"outlinewidth\":0,\"ticks\":\"\"},\"colorscale\":[[0.0,\"#0d0887\"],[0.1111111111111111,\"#46039f\"],[0.2222222222222222,\"#7201a8\"],[0.3333333333333333,\"#9c179e\"],[0.4444444444444444,\"#bd3786\"],[0.5555555555555556,\"#d8576b\"],[0.6666666666666666,\"#ed7953\"],[0.7777777777777778,\"#fb9f3a\"],[0.8888888888888888,\"#fdca26\"],[1.0,\"#f0f921\"]]}],\"contourcarpet\":[{\"type\":\"contourcarpet\",\"colorbar\":{\"outlinewidth\":0,\"ticks\":\"\"}}],\"contour\":[{\"type\":\"contour\",\"colorbar\":{\"outlinewidth\":0,\"ticks\":\"\"},\"colorscale\":[[0.0,\"#0d0887\"],[0.1111111111111111,\"#46039f\"],[0.2222222222222222,\"#7201a8\"],[0.3333333333333333,\"#9c179e\"],[0.4444444444444444,\"#bd3786\"],[0.5555555555555556,\"#d8576b\"],[0.6666666666666666,\"#ed7953\"],[0.7777777777777778,\"#fb9f3a\"],[0.8888888888888888,\"#fdca26\"],[1.0,\"#f0f921\"]]}],\"surface\":[{\"type\":\"surface\",\"colorbar\":{\"outlinewidth\":0,\"ticks\":\"\"},\"colorscale\":[[0.0,\"#0d0887\"],[0.1111111111111111,\"#46039f\"],[0.2222222222222222,\"#7201a8\"],[0.3333333333333333,\"#9c179e\"],[0.4444444444444444,\"#bd3786\"],[0.5555555555555556,\"#d8576b\"],[0.6666666666666666,\"#ed7953\"],[0.7777777777777778,\"#fb9f3a\"],[0.8888888888888888,\"#fdca26\"],[1.0,\"#f0f921\"]]}],\"mesh3d\":[{\"type\":\"mesh3d\",\"colorbar\":{\"outlinewidth\":0,\"ticks\":\"\"}}],\"scatter\":[{\"fillpattern\":{\"fillmode\":\"overlay\",\"size\":10,\"solidity\":0.2},\"type\":\"scatter\"}],\"parcoords\":[{\"type\":\"parcoords\",\"line\":{\"colorbar\":{\"outlinewidth\":0,\"ticks\":\"\"}}}],\"scatterpolargl\":[{\"type\":\"scatterpolargl\",\"marker\":{\"colorbar\":{\"outlinewidth\":0,\"ticks\":\"\"}}}],\"bar\":[{\"error_x\":{\"color\":\"#2a3f5f\"},\"error_y\":{\"color\":\"#2a3f5f\"},\"marker\":{\"line\":{\"color\":\"#E5ECF6\",\"width\":0.5},\"pattern\":{\"fillmode\":\"overlay\",\"size\":10,\"solidity\":0.2}},\"type\":\"bar\"}],\"scattergeo\":[{\"type\":\"scattergeo\",\"marker\":{\"colorbar\":{\"outlinewidth\":0,\"ticks\":\"\"}}}],\"scatterpolar\":[{\"type\":\"scatterpolar\",\"marker\":{\"colorbar\":{\"outlinewidth\":0,\"ticks\":\"\"}}}],\"histogram\":[{\"marker\":{\"pattern\":{\"fillmode\":\"overlay\",\"size\":10,\"solidity\":0.2}},\"type\":\"histogram\"}],\"scattergl\":[{\"type\":\"scattergl\",\"marker\":{\"colorbar\":{\"outlinewidth\":0,\"ticks\":\"\"}}}],\"scatter3d\":[{\"type\":\"scatter3d\",\"line\":{\"colorbar\":{\"outlinewidth\":0,\"ticks\":\"\"}},\"marker\":{\"colorbar\":{\"outlinewidth\":0,\"ticks\":\"\"}}}],\"scattermapbox\":[{\"type\":\"scattermapbox\",\"marker\":{\"colorbar\":{\"outlinewidth\":0,\"ticks\":\"\"}}}],\"scatterternary\":[{\"type\":\"scatterternary\",\"marker\":{\"colorbar\":{\"outlinewidth\":0,\"ticks\":\"\"}}}],\"scattercarpet\":[{\"type\":\"scattercarpet\",\"marker\":{\"colorbar\":{\"outlinewidth\":0,\"ticks\":\"\"}}}],\"carpet\":[{\"aaxis\":{\"endlinecolor\":\"#2a3f5f\",\"gridcolor\":\"white\",\"linecolor\":\"white\",\"minorgridcolor\":\"white\",\"startlinecolor\":\"#2a3f5f\"},\"baxis\":{\"endlinecolor\":\"#2a3f5f\",\"gridcolor\":\"white\",\"linecolor\":\"white\",\"minorgridcolor\":\"white\",\"startlinecolor\":\"#2a3f5f\"},\"type\":\"carpet\"}],\"table\":[{\"cells\":{\"fill\":{\"color\":\"#EBF0F8\"},\"line\":{\"color\":\"white\"}},\"header\":{\"fill\":{\"color\":\"#C8D4E3\"},\"line\":{\"color\":\"white\"}},\"type\":\"table\"}],\"barpolar\":[{\"marker\":{\"line\":{\"color\":\"#E5ECF6\",\"width\":0.5},\"pattern\":{\"fillmode\":\"overlay\",\"size\":10,\"solidity\":0.2}},\"type\":\"barpolar\"}],\"pie\":[{\"automargin\":true,\"type\":\"pie\"}]},\"layout\":{\"autotypenumbers\":\"strict\",\"colorway\":[\"#636efa\",\"#EF553B\",\"#00cc96\",\"#ab63fa\",\"#FFA15A\",\"#19d3f3\",\"#FF6692\",\"#B6E880\",\"#FF97FF\",\"#FECB52\"],\"font\":{\"color\":\"#2a3f5f\"},\"hovermode\":\"closest\",\"hoverlabel\":{\"align\":\"left\"},\"paper_bgcolor\":\"white\",\"plot_bgcolor\":\"#E5ECF6\",\"polar\":{\"bgcolor\":\"#E5ECF6\",\"angularaxis\":{\"gridcolor\":\"white\",\"linecolor\":\"white\",\"ticks\":\"\"},\"radialaxis\":{\"gridcolor\":\"white\",\"linecolor\":\"white\",\"ticks\":\"\"}},\"ternary\":{\"bgcolor\":\"#E5ECF6\",\"aaxis\":{\"gridcolor\":\"white\",\"linecolor\":\"white\",\"ticks\":\"\"},\"baxis\":{\"gridcolor\":\"white\",\"linecolor\":\"white\",\"ticks\":\"\"},\"caxis\":{\"gridcolor\":\"white\",\"linecolor\":\"white\",\"ticks\":\"\"}},\"coloraxis\":{\"colorbar\":{\"outlinewidth\":0,\"ticks\":\"\"}},\"colorscale\":{\"sequential\":[[0.0,\"#0d0887\"],[0.1111111111111111,\"#46039f\"],[0.2222222222222222,\"#7201a8\"],[0.3333333333333333,\"#9c179e\"],[0.4444444444444444,\"#bd3786\"],[0.5555555555555556,\"#d8576b\"],[0.6666666666666666,\"#ed7953\"],[0.7777777777777778,\"#fb9f3a\"],[0.8888888888888888,\"#fdca26\"],[1.0,\"#f0f921\"]],\"sequentialminus\":[[0.0,\"#0d0887\"],[0.1111111111111111,\"#46039f\"],[0.2222222222222222,\"#7201a8\"],[0.3333333333333333,\"#9c179e\"],[0.4444444444444444,\"#bd3786\"],[0.5555555555555556,\"#d8576b\"],[0.6666666666666666,\"#ed7953\"],[0.7777777777777778,\"#fb9f3a\"],[0.8888888888888888,\"#fdca26\"],[1.0,\"#f0f921\"]],\"diverging\":[[0,\"#8e0152\"],[0.1,\"#c51b7d\"],[0.2,\"#de77ae\"],[0.3,\"#f1b6da\"],[0.4,\"#fde0ef\"],[0.5,\"#f7f7f7\"],[0.6,\"#e6f5d0\"],[0.7,\"#b8e186\"],[0.8,\"#7fbc41\"],[0.9,\"#4d9221\"],[1,\"#276419\"]]},\"xaxis\":{\"gridcolor\":\"white\",\"linecolor\":\"white\",\"ticks\":\"\",\"title\":{\"standoff\":15},\"zerolinecolor\":\"white\",\"automargin\":true,\"zerolinewidth\":2},\"yaxis\":{\"gridcolor\":\"white\",\"linecolor\":\"white\",\"ticks\":\"\",\"title\":{\"standoff\":15},\"zerolinecolor\":\"white\",\"automargin\":true,\"zerolinewidth\":2},\"scene\":{\"xaxis\":{\"backgroundcolor\":\"#E5ECF6\",\"gridcolor\":\"white\",\"linecolor\":\"white\",\"showbackground\":true,\"ticks\":\"\",\"zerolinecolor\":\"white\",\"gridwidth\":2},\"yaxis\":{\"backgroundcolor\":\"#E5ECF6\",\"gridcolor\":\"white\",\"linecolor\":\"white\",\"showbackground\":true,\"ticks\":\"\",\"zerolinecolor\":\"white\",\"gridwidth\":2},\"zaxis\":{\"backgroundcolor\":\"#E5ECF6\",\"gridcolor\":\"white\",\"linecolor\":\"white\",\"showbackground\":true,\"ticks\":\"\",\"zerolinecolor\":\"white\",\"gridwidth\":2}},\"shapedefaults\":{\"line\":{\"color\":\"#2a3f5f\"}},\"annotationdefaults\":{\"arrowcolor\":\"#2a3f5f\",\"arrowhead\":0,\"arrowwidth\":1},\"geo\":{\"bgcolor\":\"white\",\"landcolor\":\"#E5ECF6\",\"subunitcolor\":\"white\",\"showland\":true,\"showlakes\":true,\"lakecolor\":\"white\"},\"title\":{\"x\":0.05},\"mapbox\":{\"style\":\"light\"}}},\"xaxis\":{\"anchor\":\"y\",\"domain\":[0.0,1.0],\"scaleanchor\":\"y\",\"constrain\":\"domain\",\"title\":{\"text\":\"Feature\"},\"showgrid\":false},\"yaxis\":{\"anchor\":\"x\",\"domain\":[0.0,1.0],\"autorange\":\"reversed\",\"constrain\":\"domain\",\"title\":{\"text\":\"Feature\"},\"showgrid\":false},\"coloraxis\":{\"colorbar\":{\"title\":{\"text\":\"Correlation\"}},\"colorscale\":[[0.0,\"rgb(255,247,251)\"],[0.125,\"rgb(236,231,242)\"],[0.25,\"rgb(208,209,230)\"],[0.375,\"rgb(166,189,219)\"],[0.5,\"rgb(116,169,207)\"],[0.625,\"rgb(54,144,192)\"],[0.75,\"rgb(5,112,176)\"],[0.875,\"rgb(4,90,141)\"],[1.0,\"rgb(2,56,88)\"]]},\"margin\":{\"t\":60},\"title\":{\"text\":\"Top 7 Features Correlated With Dx:cancer\"}},                        {\"responsive\": true}                    ).then(function(){\n",
              "                            \n",
              "var gd = document.getElementById('a7f02779-ed3a-4367-b2aa-19fb25f0a9c8');\n",
              "var x = new MutationObserver(function (mutations, observer) {{\n",
              "        var display = window.getComputedStyle(gd).display;\n",
              "        if (!display || display === 'none') {{\n",
              "            console.log([gd, 'removed!']);\n",
              "            Plotly.purge(gd);\n",
              "            observer.disconnect();\n",
              "        }}\n",
              "}});\n",
              "\n",
              "// Listen for the removal of the full notebook cells\n",
              "var notebookContainer = gd.closest('#notebook-container');\n",
              "if (notebookContainer) {{\n",
              "    x.observe(notebookContainer, {childList: true});\n",
              "}}\n",
              "\n",
              "// Listen for the clearing of the current output cell\n",
              "var outputEl = gd.closest('.output');\n",
              "if (outputEl) {{\n",
              "    x.observe(outputEl, {childList: true});\n",
              "}}\n",
              "\n",
              "                        })                };                            </script>        </div>\n",
              "</body>\n",
              "</html>"
            ]
          },
          "metadata": {},
          "output_type": "display_data"
        }
      ],
      "source": [
        "# Features that correlate with a cancer diagnosis\n",
        "n = 7\n",
        "target = label = \"Dx:Cancer\"\n",
        "# correlate the numerical columns of the df\n",
        "corr = risk_factor_df.select_dtypes(include=np.number).corr()\n",
        "# find the top 7 correlations with Dx:Cancer\n",
        "x = corr.nlargest(n,target).index\n",
        "print(x)\n",
        "# make a corr_df with only the top 7 columns\n",
        "corr_df =  risk_factor_df[list(x)]\n",
        "# recalculate the correlation\n",
        "corr = corr_df.corr()\n",
        "# Creating a mask for the upper triangle\n",
        "mask = np.triu(np.ones_like(corr, dtype=bool), k=1)\n",
        "\n",
        "# Use the mask to replace the upper triangle with np.nan\n",
        "corr_masked = corr.where(~mask)\n",
        "\n",
        "# Plot using Plotly Express\n",
        "fig = px.imshow(corr_masked,\n",
        "                color_continuous_scale=\"PuBu\",\n",
        "                labels=dict(x=\"Feature\", y=\"Feature\", color=\"Correlation\"),\n",
        "                x=corr.columns,  # Adding column names here\n",
        "                y=corr.index)    # Adding row names here\n",
        "\n",
        "# Update layout with title\n",
        "fig.update_layout(title=\"Top \"+str(n)+\" Features Correlated With \"+str(target).capitalize())\n",
        "fig.update_xaxes(showgrid=False)\n",
        "fig.update_yaxes(showgrid=False)\n",
        "# Show plot\n",
        "fig.show()\n",
        "\n"
      ]
    },
    {
      "cell_type": "markdown",
      "metadata": {
        "id": "p9mE7G22iP_o"
      },
      "source": [
        "#### Distribution of age"
      ]
    },
    {
      "cell_type": "code",
      "execution_count": null,
      "metadata": {
        "colab": {
          "base_uri": "https://localhost:8080/",
          "height": 542
        },
        "id": "xldvGNzciPE4",
        "outputId": "416c505e-1063-4848-eaa4-92be2413e875"
      },
      "outputs": [
        {
          "data": {
            "text/html": [
              "<html>\n",
              "<head><meta charset=\"utf-8\" /></head>\n",
              "<body>\n",
              "    <div>            <script src=\"https://cdnjs.cloudflare.com/ajax/libs/mathjax/2.7.5/MathJax.js?config=TeX-AMS-MML_SVG\"></script><script type=\"text/javascript\">if (window.MathJax && window.MathJax.Hub && window.MathJax.Hub.Config) {window.MathJax.Hub.Config({SVG: {font: \"STIX-Web\"}});}</script>                <script type=\"text/javascript\">window.PlotlyConfig = {MathJaxConfig: 'local'};</script>\n",
              "        <script charset=\"utf-8\" src=\"https://cdn.plot.ly/plotly-2.24.1.min.js\"></script>                <div id=\"a1e85c68-d57e-4808-a9e9-aebb5e5bf7cd\" class=\"plotly-graph-div\" style=\"height:525px; width:100%;\"></div>            <script type=\"text/javascript\">                                    window.PLOTLYENV=window.PLOTLYENV || {};                                    if (document.getElementById(\"a1e85c68-d57e-4808-a9e9-aebb5e5bf7cd\")) {                    Plotly.newPlot(                        \"a1e85c68-d57e-4808-a9e9-aebb5e5bf7cd\",                        [{\"alignmentgroup\":\"True\",\"bingroup\":\"x\",\"hovertemplate\":\"Age=%{x}\\u003cbr\\u003ecount=%{y}\\u003cextra\\u003e\\u003c\\u002fextra\\u003e\",\"legendgroup\":\"\",\"marker\":{\"color\":\"palevioletred\",\"pattern\":{\"shape\":\"\"}},\"name\":\"\",\"offsetgroup\":\"\",\"orientation\":\"v\",\"showlegend\":false,\"x\":[18,15,34,52,46,42,51,26,45,44,44,27,45,44,43,40,41,43,42,40,43,41,40,40,40,44,39,39,37,37,41,40,37,37,38,37,39,37,39,36,37,37,36,36,37,36,36,40,41,37,36,36,36,35,36,41,35,33,35,35,34,35,35,33,38,37,34,36,35,35,36,34,34,35,35,35,34,33,35,35,33,31,32,32,36,34,36,35,32,33,36,35,33,33,33,31,35,35,31,33,34,30,31,38,33,34,30,33,32,32,32,32,30,23,34,34,31,30,30,28,33,30,31,29,30,31,31,29,29,30,28,30,30,33,30,27,31,29,29,30,30,20,31,28,30,31,30,29,33,31,28,30,26,26,27,28,27,29,32,27,28,28,28,28,29,30,29,27,29,18,26,26,29,29,28,26,27,27,27,30,26,27,25,28,26,28,25,28,27,25,28,29,27,26,25,26,28,26,27,27,26,26,27,28,21,25,28,26,27,25,25,27,26,28,30,25,29,26,28,23,25,25,30,23,24,28,26,25,31,27,23,26,23,24,25,25,24,24,29,28,24,24,30,25,25,22,28,23,25,22,25,23,24,23,25,25,24,22,21,23,28,21,23,23,22,21,21,22,23,26,21,24,23,24,24,21,21,20,22,22,23,21,21,25,22,26,21,22,23,26,21,23,22,21,23,23,24,21,24,23,23,20,23,25,23,20,26,23,25,23,23,24,23,24,21,20,24,20,23,23,22,22,20,22,33,20,21,20,20,23,21,27,31,22,21,29,22,48,20,20,19,19,21,20,18,22,19,19,19,21,20,19,19,21,45,19,18,22,21,37,24,20,20,18,19,20,19,19,20,18,21,24,21,23,21,22,41,20,18,21,18,19,25,19,18,21,18,22,20,17,20,17,19,19,20,18,18,19,18,21,17,21,18,17,18,17,17,17,17,17,20,17,18,35,20,18,18,19,17,19,18,26,18,17,20,16,18,20,16,18,19,18,31,16,20,17,16,16,20,18,15,15,16,15,18,16,18,17,17,18,16,16,17,15,15,18,16,15,16,14,14,15,17,14,16,17,15,16,15,15,39,18,35,41,33,19,38,38,29,28,30,31,39,20,25,23,28,28,24,19,25,19,34,18,20,25,27,24,34,32,39,32,24,37,26,23,36,18,31,25,15,16,34,18,27,31,20,29,24,19,17,42,16,32,33,17,27,22,30,33,21,19,24,26,18,22,16,24,24,18,20,27,19,16,17,29,21,25,17,34,20,33,18,33,15,26,40,27,22,20,38,21,23,36,26,24,27,25,24,44,30,22,25,29,23,17,27,20,19,36,17,17,20,23,30,33,19,35,45,41,17,21,23,15,20,22,18,19,17,20,28,28,34,26,23,20,29,30,19,26,21,23,21,23,24,35,25,19,19,23,24,31,36,22,19,18,32,23,41,24,26,20,21,22,27,36,37,28,21,17,32,39,28,15,23,27,16,22,18,32,26,41,59,21,45,21,23,22,18,27,16,23,28,23,38,21,17,79,84,38,47,52,13,48,42,45,70,46,32,50,49,42,70,39,46,49,35,33,28,24,15,26,18,18,28,29,19,18,27,18,28,29,26,17,41,44,18,21,22,25,27,19,23,16,29,15,19,37,21,40,26,34,23,19,30,21,29,31,32,23,40,23,26,31,30,15,36,20,27,28,40,19,19,29,17,16,24,21,25,29,18,41,34,20,28,30,25,24,30,18,17,31,19,41,23,25,21,15,26,26,24,34,18,16,43,27,17,37,19,34,18,33,29,18,25,28,25,22,38,20,24,15,23,24,20,35,31,33,25,19,23,35,15,18,29,34,17,36,29,29,19,17,14,20,16,30,21,29,35,14,24,31,36,33,36,42,33,35,33,34,35,40,30,34,30,24,37,31,35,31,24,23,36,30,26,19,35,30,31,32,19,23,43,34,32,25,33,29],\"xaxis\":\"x\",\"yaxis\":\"y\",\"type\":\"histogram\"},{\"alignmentgroup\":\"True\",\"hovertemplate\":\"Age=%{x}\\u003cextra\\u003e\\u003c\\u002fextra\\u003e\",\"legendgroup\":\"\",\"marker\":{\"color\":\"palevioletred\"},\"name\":\"\",\"notched\":true,\"offsetgroup\":\"\",\"showlegend\":false,\"x\":[18,15,34,52,46,42,51,26,45,44,44,27,45,44,43,40,41,43,42,40,43,41,40,40,40,44,39,39,37,37,41,40,37,37,38,37,39,37,39,36,37,37,36,36,37,36,36,40,41,37,36,36,36,35,36,41,35,33,35,35,34,35,35,33,38,37,34,36,35,35,36,34,34,35,35,35,34,33,35,35,33,31,32,32,36,34,36,35,32,33,36,35,33,33,33,31,35,35,31,33,34,30,31,38,33,34,30,33,32,32,32,32,30,23,34,34,31,30,30,28,33,30,31,29,30,31,31,29,29,30,28,30,30,33,30,27,31,29,29,30,30,20,31,28,30,31,30,29,33,31,28,30,26,26,27,28,27,29,32,27,28,28,28,28,29,30,29,27,29,18,26,26,29,29,28,26,27,27,27,30,26,27,25,28,26,28,25,28,27,25,28,29,27,26,25,26,28,26,27,27,26,26,27,28,21,25,28,26,27,25,25,27,26,28,30,25,29,26,28,23,25,25,30,23,24,28,26,25,31,27,23,26,23,24,25,25,24,24,29,28,24,24,30,25,25,22,28,23,25,22,25,23,24,23,25,25,24,22,21,23,28,21,23,23,22,21,21,22,23,26,21,24,23,24,24,21,21,20,22,22,23,21,21,25,22,26,21,22,23,26,21,23,22,21,23,23,24,21,24,23,23,20,23,25,23,20,26,23,25,23,23,24,23,24,21,20,24,20,23,23,22,22,20,22,33,20,21,20,20,23,21,27,31,22,21,29,22,48,20,20,19,19,21,20,18,22,19,19,19,21,20,19,19,21,45,19,18,22,21,37,24,20,20,18,19,20,19,19,20,18,21,24,21,23,21,22,41,20,18,21,18,19,25,19,18,21,18,22,20,17,20,17,19,19,20,18,18,19,18,21,17,21,18,17,18,17,17,17,17,17,20,17,18,35,20,18,18,19,17,19,18,26,18,17,20,16,18,20,16,18,19,18,31,16,20,17,16,16,20,18,15,15,16,15,18,16,18,17,17,18,16,16,17,15,15,18,16,15,16,14,14,15,17,14,16,17,15,16,15,15,39,18,35,41,33,19,38,38,29,28,30,31,39,20,25,23,28,28,24,19,25,19,34,18,20,25,27,24,34,32,39,32,24,37,26,23,36,18,31,25,15,16,34,18,27,31,20,29,24,19,17,42,16,32,33,17,27,22,30,33,21,19,24,26,18,22,16,24,24,18,20,27,19,16,17,29,21,25,17,34,20,33,18,33,15,26,40,27,22,20,38,21,23,36,26,24,27,25,24,44,30,22,25,29,23,17,27,20,19,36,17,17,20,23,30,33,19,35,45,41,17,21,23,15,20,22,18,19,17,20,28,28,34,26,23,20,29,30,19,26,21,23,21,23,24,35,25,19,19,23,24,31,36,22,19,18,32,23,41,24,26,20,21,22,27,36,37,28,21,17,32,39,28,15,23,27,16,22,18,32,26,41,59,21,45,21,23,22,18,27,16,23,28,23,38,21,17,79,84,38,47,52,13,48,42,45,70,46,32,50,49,42,70,39,46,49,35,33,28,24,15,26,18,18,28,29,19,18,27,18,28,29,26,17,41,44,18,21,22,25,27,19,23,16,29,15,19,37,21,40,26,34,23,19,30,21,29,31,32,23,40,23,26,31,30,15,36,20,27,28,40,19,19,29,17,16,24,21,25,29,18,41,34,20,28,30,25,24,30,18,17,31,19,41,23,25,21,15,26,26,24,34,18,16,43,27,17,37,19,34,18,33,29,18,25,28,25,22,38,20,24,15,23,24,20,35,31,33,25,19,23,35,15,18,29,34,17,36,29,29,19,17,14,20,16,30,21,29,35,14,24,31,36,33,36,42,33,35,33,34,35,40,30,34,30,24,37,31,35,31,24,23,36,30,26,19,35,30,31,32,19,23,43,34,32,25,33,29],\"xaxis\":\"x2\",\"yaxis\":\"y2\",\"type\":\"box\"}],                        {\"template\":{\"data\":{\"histogram2dcontour\":[{\"type\":\"histogram2dcontour\",\"colorbar\":{\"outlinewidth\":0,\"ticks\":\"\"},\"colorscale\":[[0.0,\"#0d0887\"],[0.1111111111111111,\"#46039f\"],[0.2222222222222222,\"#7201a8\"],[0.3333333333333333,\"#9c179e\"],[0.4444444444444444,\"#bd3786\"],[0.5555555555555556,\"#d8576b\"],[0.6666666666666666,\"#ed7953\"],[0.7777777777777778,\"#fb9f3a\"],[0.8888888888888888,\"#fdca26\"],[1.0,\"#f0f921\"]]}],\"choropleth\":[{\"type\":\"choropleth\",\"colorbar\":{\"outlinewidth\":0,\"ticks\":\"\"}}],\"histogram2d\":[{\"type\":\"histogram2d\",\"colorbar\":{\"outlinewidth\":0,\"ticks\":\"\"},\"colorscale\":[[0.0,\"#0d0887\"],[0.1111111111111111,\"#46039f\"],[0.2222222222222222,\"#7201a8\"],[0.3333333333333333,\"#9c179e\"],[0.4444444444444444,\"#bd3786\"],[0.5555555555555556,\"#d8576b\"],[0.6666666666666666,\"#ed7953\"],[0.7777777777777778,\"#fb9f3a\"],[0.8888888888888888,\"#fdca26\"],[1.0,\"#f0f921\"]]}],\"heatmap\":[{\"type\":\"heatmap\",\"colorbar\":{\"outlinewidth\":0,\"ticks\":\"\"},\"colorscale\":[[0.0,\"#0d0887\"],[0.1111111111111111,\"#46039f\"],[0.2222222222222222,\"#7201a8\"],[0.3333333333333333,\"#9c179e\"],[0.4444444444444444,\"#bd3786\"],[0.5555555555555556,\"#d8576b\"],[0.6666666666666666,\"#ed7953\"],[0.7777777777777778,\"#fb9f3a\"],[0.8888888888888888,\"#fdca26\"],[1.0,\"#f0f921\"]]}],\"heatmapgl\":[{\"type\":\"heatmapgl\",\"colorbar\":{\"outlinewidth\":0,\"ticks\":\"\"},\"colorscale\":[[0.0,\"#0d0887\"],[0.1111111111111111,\"#46039f\"],[0.2222222222222222,\"#7201a8\"],[0.3333333333333333,\"#9c179e\"],[0.4444444444444444,\"#bd3786\"],[0.5555555555555556,\"#d8576b\"],[0.6666666666666666,\"#ed7953\"],[0.7777777777777778,\"#fb9f3a\"],[0.8888888888888888,\"#fdca26\"],[1.0,\"#f0f921\"]]}],\"contourcarpet\":[{\"type\":\"contourcarpet\",\"colorbar\":{\"outlinewidth\":0,\"ticks\":\"\"}}],\"contour\":[{\"type\":\"contour\",\"colorbar\":{\"outlinewidth\":0,\"ticks\":\"\"},\"colorscale\":[[0.0,\"#0d0887\"],[0.1111111111111111,\"#46039f\"],[0.2222222222222222,\"#7201a8\"],[0.3333333333333333,\"#9c179e\"],[0.4444444444444444,\"#bd3786\"],[0.5555555555555556,\"#d8576b\"],[0.6666666666666666,\"#ed7953\"],[0.7777777777777778,\"#fb9f3a\"],[0.8888888888888888,\"#fdca26\"],[1.0,\"#f0f921\"]]}],\"surface\":[{\"type\":\"surface\",\"colorbar\":{\"outlinewidth\":0,\"ticks\":\"\"},\"colorscale\":[[0.0,\"#0d0887\"],[0.1111111111111111,\"#46039f\"],[0.2222222222222222,\"#7201a8\"],[0.3333333333333333,\"#9c179e\"],[0.4444444444444444,\"#bd3786\"],[0.5555555555555556,\"#d8576b\"],[0.6666666666666666,\"#ed7953\"],[0.7777777777777778,\"#fb9f3a\"],[0.8888888888888888,\"#fdca26\"],[1.0,\"#f0f921\"]]}],\"mesh3d\":[{\"type\":\"mesh3d\",\"colorbar\":{\"outlinewidth\":0,\"ticks\":\"\"}}],\"scatter\":[{\"fillpattern\":{\"fillmode\":\"overlay\",\"size\":10,\"solidity\":0.2},\"type\":\"scatter\"}],\"parcoords\":[{\"type\":\"parcoords\",\"line\":{\"colorbar\":{\"outlinewidth\":0,\"ticks\":\"\"}}}],\"scatterpolargl\":[{\"type\":\"scatterpolargl\",\"marker\":{\"colorbar\":{\"outlinewidth\":0,\"ticks\":\"\"}}}],\"bar\":[{\"error_x\":{\"color\":\"#2a3f5f\"},\"error_y\":{\"color\":\"#2a3f5f\"},\"marker\":{\"line\":{\"color\":\"#E5ECF6\",\"width\":0.5},\"pattern\":{\"fillmode\":\"overlay\",\"size\":10,\"solidity\":0.2}},\"type\":\"bar\"}],\"scattergeo\":[{\"type\":\"scattergeo\",\"marker\":{\"colorbar\":{\"outlinewidth\":0,\"ticks\":\"\"}}}],\"scatterpolar\":[{\"type\":\"scatterpolar\",\"marker\":{\"colorbar\":{\"outlinewidth\":0,\"ticks\":\"\"}}}],\"histogram\":[{\"marker\":{\"pattern\":{\"fillmode\":\"overlay\",\"size\":10,\"solidity\":0.2}},\"type\":\"histogram\"}],\"scattergl\":[{\"type\":\"scattergl\",\"marker\":{\"colorbar\":{\"outlinewidth\":0,\"ticks\":\"\"}}}],\"scatter3d\":[{\"type\":\"scatter3d\",\"line\":{\"colorbar\":{\"outlinewidth\":0,\"ticks\":\"\"}},\"marker\":{\"colorbar\":{\"outlinewidth\":0,\"ticks\":\"\"}}}],\"scattermapbox\":[{\"type\":\"scattermapbox\",\"marker\":{\"colorbar\":{\"outlinewidth\":0,\"ticks\":\"\"}}}],\"scatterternary\":[{\"type\":\"scatterternary\",\"marker\":{\"colorbar\":{\"outlinewidth\":0,\"ticks\":\"\"}}}],\"scattercarpet\":[{\"type\":\"scattercarpet\",\"marker\":{\"colorbar\":{\"outlinewidth\":0,\"ticks\":\"\"}}}],\"carpet\":[{\"aaxis\":{\"endlinecolor\":\"#2a3f5f\",\"gridcolor\":\"white\",\"linecolor\":\"white\",\"minorgridcolor\":\"white\",\"startlinecolor\":\"#2a3f5f\"},\"baxis\":{\"endlinecolor\":\"#2a3f5f\",\"gridcolor\":\"white\",\"linecolor\":\"white\",\"minorgridcolor\":\"white\",\"startlinecolor\":\"#2a3f5f\"},\"type\":\"carpet\"}],\"table\":[{\"cells\":{\"fill\":{\"color\":\"#EBF0F8\"},\"line\":{\"color\":\"white\"}},\"header\":{\"fill\":{\"color\":\"#C8D4E3\"},\"line\":{\"color\":\"white\"}},\"type\":\"table\"}],\"barpolar\":[{\"marker\":{\"line\":{\"color\":\"#E5ECF6\",\"width\":0.5},\"pattern\":{\"fillmode\":\"overlay\",\"size\":10,\"solidity\":0.2}},\"type\":\"barpolar\"}],\"pie\":[{\"automargin\":true,\"type\":\"pie\"}]},\"layout\":{\"autotypenumbers\":\"strict\",\"colorway\":[\"#636efa\",\"#EF553B\",\"#00cc96\",\"#ab63fa\",\"#FFA15A\",\"#19d3f3\",\"#FF6692\",\"#B6E880\",\"#FF97FF\",\"#FECB52\"],\"font\":{\"color\":\"#2a3f5f\"},\"hovermode\":\"closest\",\"hoverlabel\":{\"align\":\"left\"},\"paper_bgcolor\":\"white\",\"plot_bgcolor\":\"#E5ECF6\",\"polar\":{\"bgcolor\":\"#E5ECF6\",\"angularaxis\":{\"gridcolor\":\"white\",\"linecolor\":\"white\",\"ticks\":\"\"},\"radialaxis\":{\"gridcolor\":\"white\",\"linecolor\":\"white\",\"ticks\":\"\"}},\"ternary\":{\"bgcolor\":\"#E5ECF6\",\"aaxis\":{\"gridcolor\":\"white\",\"linecolor\":\"white\",\"ticks\":\"\"},\"baxis\":{\"gridcolor\":\"white\",\"linecolor\":\"white\",\"ticks\":\"\"},\"caxis\":{\"gridcolor\":\"white\",\"linecolor\":\"white\",\"ticks\":\"\"}},\"coloraxis\":{\"colorbar\":{\"outlinewidth\":0,\"ticks\":\"\"}},\"colorscale\":{\"sequential\":[[0.0,\"#0d0887\"],[0.1111111111111111,\"#46039f\"],[0.2222222222222222,\"#7201a8\"],[0.3333333333333333,\"#9c179e\"],[0.4444444444444444,\"#bd3786\"],[0.5555555555555556,\"#d8576b\"],[0.6666666666666666,\"#ed7953\"],[0.7777777777777778,\"#fb9f3a\"],[0.8888888888888888,\"#fdca26\"],[1.0,\"#f0f921\"]],\"sequentialminus\":[[0.0,\"#0d0887\"],[0.1111111111111111,\"#46039f\"],[0.2222222222222222,\"#7201a8\"],[0.3333333333333333,\"#9c179e\"],[0.4444444444444444,\"#bd3786\"],[0.5555555555555556,\"#d8576b\"],[0.6666666666666666,\"#ed7953\"],[0.7777777777777778,\"#fb9f3a\"],[0.8888888888888888,\"#fdca26\"],[1.0,\"#f0f921\"]],\"diverging\":[[0,\"#8e0152\"],[0.1,\"#c51b7d\"],[0.2,\"#de77ae\"],[0.3,\"#f1b6da\"],[0.4,\"#fde0ef\"],[0.5,\"#f7f7f7\"],[0.6,\"#e6f5d0\"],[0.7,\"#b8e186\"],[0.8,\"#7fbc41\"],[0.9,\"#4d9221\"],[1,\"#276419\"]]},\"xaxis\":{\"gridcolor\":\"white\",\"linecolor\":\"white\",\"ticks\":\"\",\"title\":{\"standoff\":15},\"zerolinecolor\":\"white\",\"automargin\":true,\"zerolinewidth\":2},\"yaxis\":{\"gridcolor\":\"white\",\"linecolor\":\"white\",\"ticks\":\"\",\"title\":{\"standoff\":15},\"zerolinecolor\":\"white\",\"automargin\":true,\"zerolinewidth\":2},\"scene\":{\"xaxis\":{\"backgroundcolor\":\"#E5ECF6\",\"gridcolor\":\"white\",\"linecolor\":\"white\",\"showbackground\":true,\"ticks\":\"\",\"zerolinecolor\":\"white\",\"gridwidth\":2},\"yaxis\":{\"backgroundcolor\":\"#E5ECF6\",\"gridcolor\":\"white\",\"linecolor\":\"white\",\"showbackground\":true,\"ticks\":\"\",\"zerolinecolor\":\"white\",\"gridwidth\":2},\"zaxis\":{\"backgroundcolor\":\"#E5ECF6\",\"gridcolor\":\"white\",\"linecolor\":\"white\",\"showbackground\":true,\"ticks\":\"\",\"zerolinecolor\":\"white\",\"gridwidth\":2}},\"shapedefaults\":{\"line\":{\"color\":\"#2a3f5f\"}},\"annotationdefaults\":{\"arrowcolor\":\"#2a3f5f\",\"arrowhead\":0,\"arrowwidth\":1},\"geo\":{\"bgcolor\":\"white\",\"landcolor\":\"#E5ECF6\",\"subunitcolor\":\"white\",\"showland\":true,\"showlakes\":true,\"lakecolor\":\"white\"},\"title\":{\"x\":0.05},\"mapbox\":{\"style\":\"light\"}}},\"xaxis\":{\"anchor\":\"y\",\"domain\":[0.0,1.0],\"title\":{\"text\":\"Age\"}},\"yaxis\":{\"anchor\":\"x\",\"domain\":[0.0,0.8316],\"title\":{\"text\":\"count\"}},\"xaxis2\":{\"anchor\":\"y2\",\"domain\":[0.0,1.0],\"matches\":\"x\",\"showticklabels\":false,\"showgrid\":true},\"yaxis2\":{\"anchor\":\"x2\",\"domain\":[0.8416,1.0],\"matches\":\"y2\",\"showticklabels\":false,\"showline\":false,\"ticks\":\"\",\"showgrid\":false},\"legend\":{\"tracegroupgap\":0},\"margin\":{\"t\":60},\"barmode\":\"relative\",\"title\":{\"text\":\"Age distribution\"}},                        {\"responsive\": true}                    ).then(function(){\n",
              "                            \n",
              "var gd = document.getElementById('a1e85c68-d57e-4808-a9e9-aebb5e5bf7cd');\n",
              "var x = new MutationObserver(function (mutations, observer) {{\n",
              "        var display = window.getComputedStyle(gd).display;\n",
              "        if (!display || display === 'none') {{\n",
              "            console.log([gd, 'removed!']);\n",
              "            Plotly.purge(gd);\n",
              "            observer.disconnect();\n",
              "        }}\n",
              "}});\n",
              "\n",
              "// Listen for the removal of the full notebook cells\n",
              "var notebookContainer = gd.closest('#notebook-container');\n",
              "if (notebookContainer) {{\n",
              "    x.observe(notebookContainer, {childList: true});\n",
              "}}\n",
              "\n",
              "// Listen for the clearing of the current output cell\n",
              "var outputEl = gd.closest('.output');\n",
              "if (outputEl) {{\n",
              "    x.observe(outputEl, {childList: true});\n",
              "}}\n",
              "\n",
              "                        })                };                            </script>        </div>\n",
              "</body>\n",
              "</html>"
            ]
          },
          "metadata": {},
          "output_type": "display_data"
        }
      ],
      "source": [
        "# Distribution of age\n",
        "age_dist = px.histogram(risk_factor_df, x=\"Age\", marginal=\"box\", color_discrete_sequence=[\"palevioletred\"])\n",
        "age_dist.update_layout(title=\"Age distribution\")\n",
        "age_dist.show()"
      ]
    },
    {
      "cell_type": "markdown",
      "metadata": {
        "id": "wOuZ8PXGiXpb"
      },
      "source": [
        "#### Pregnancy Distribution by Age"
      ]
    },
    {
      "cell_type": "code",
      "execution_count": null,
      "metadata": {
        "colab": {
          "base_uri": "https://localhost:8080/",
          "height": 542
        },
        "id": "9Kepae4tiWZg",
        "outputId": "d07576bf-7337-4b07-b458-50532b8f92e2"
      },
      "outputs": [
        {
          "data": {
            "text/html": [
              "<html>\n",
              "<head><meta charset=\"utf-8\" /></head>\n",
              "<body>\n",
              "    <div>            <script src=\"https://cdnjs.cloudflare.com/ajax/libs/mathjax/2.7.5/MathJax.js?config=TeX-AMS-MML_SVG\"></script><script type=\"text/javascript\">if (window.MathJax && window.MathJax.Hub && window.MathJax.Hub.Config) {window.MathJax.Hub.Config({SVG: {font: \"STIX-Web\"}});}</script>                <script type=\"text/javascript\">window.PlotlyConfig = {MathJaxConfig: 'local'};</script>\n",
              "        <script charset=\"utf-8\" src=\"https://cdn.plot.ly/plotly-2.24.1.min.js\"></script>                <div id=\"4f435b16-e408-4b31-a426-466acba69b9c\" class=\"plotly-graph-div\" style=\"height:525px; width:100%;\"></div>            <script type=\"text/javascript\">                                    window.PLOTLYENV=window.PLOTLYENV || {};                                    if (document.getElementById(\"4f435b16-e408-4b31-a426-466acba69b9c\")) {                    Plotly.newPlot(                        \"4f435b16-e408-4b31-a426-466acba69b9c\",                        [{\"alignmentgroup\":\"True\",\"boxpoints\":\"outliers\",\"hovertemplate\":\"age_cat=%{x}\\u003cbr\\u003eNum of pregnancies=%{y}\\u003cextra\\u003e\\u003c\\u002fextra\\u003e\",\"legendgroup\":\"\",\"marker\":{\"color\":\"darkblue\"},\"name\":\"\",\"notched\":false,\"offsetgroup\":\"\",\"orientation\":\"v\",\"showlegend\":false,\"x\":[\"Teen\",\"Teen\",\"Teen\",\"Teen\",\"Teen\",\"Teen\",\"Teen\",\"Teen\",\"Teen\",\"Teen\",\"Teen\",\"Teen\",\"Teen\",\"Teen\",\"Teen\",\"Teen\",\"Teen\",\"Teen\",\"Teen\",\"Teen\",\"Teen\",\"Teen\",\"Teen\",\"Teen\",\"Teen\",\"Teen\",\"Teen\",\"Teen\",\"Teen\",\"Teen\",\"Teen\",\"Teen\",\"Teen\",\"Teen\",\"Teen\",\"Teen\",\"Teen\",\"Teen\",\"Teen\",\"Teen\",\"Teen\",\"Teen\",\"Teen\",\"Teen\",\"Teen\",\"Teen\",\"Teen\",\"Teen\",\"Teen\",\"Teen\",\"Teen\",\"Teen\",\"Teen\",\"Teen\",\"Teen\",\"Teen\",\"Teen\",\"Teen\",\"Teen\",\"Teen\",\"Teen\",\"Teen\",\"Teen\",\"Teen\",\"Teen\",\"Teen\",\"Teen\",\"Teen\",\"Teen\",\"Teen\",\"Teen\",\"Teen\",\"Teen\",\"Teen\",\"Teen\",\"Teen\",\"Teen\",\"Teen\",\"Teen\",\"Teen\",\"Teen\",\"Teen\",\"Teen\",\"Teen\",\"Teen\",\"Teen\",\"Teen\",\"Teen\",\"Teen\",\"Teen\",\"Teen\",\"Teen\",\"Teen\",\"Teen\",\"Teen\",\"Teen\",\"Teen\",\"Teen\",\"Teen\",\"Teen\",\"Teen\",\"Teen\",\"Teen\",\"Teen\",\"Teen\",\"Teen\",\"Teen\",\"Teen\",\"Teen\",\"Teen\",\"Teen\",\"Teen\",\"Teen\",\"Teen\",\"Teen\",\"Teen\",\"Teen\",\"Teen\",\"Teen\",\"Teen\",\"Teen\",\"Teen\",\"Teen\",\"Teen\",\"Teen\",\"Teen\",\"Teen\",\"Teen\",\"Teen\",\"Teen\",\"Teen\",\"Teen\",\"Teen\",\"Teen\",\"Teen\",\"Teen\",\"Teen\",\"Teen\",\"Teen\",\"Teen\",\"Teen\",\"Teen\",\"Teen\",\"Teen\",\"Teen\",\"Teen\",\"Teen\",\"Teen\",\"Teen\",\"Teen\",\"Teen\",\"Teen\",\"Teen\",\"Teen\",\"Teen\",\"Teen\",\"Teen\",\"Teen\",\"Teen\",\"Teen\",\"Teen\",\"Teen\",\"Teen\",\"Teen\",\"Teen\",\"Teen\",\"Teen\",\"Teen\",\"Teen\",\"Teen\",\"Teen\",\"Teen\",\"Teen\",\"Teen\",\"Teen\",\"Teen\",\"Teen\",\"Teen\",\"Teen\",\"20's\",\"20's\",\"20's\",\"20's\",\"20's\",\"20's\",\"20's\",\"20's\",\"20's\",\"20's\",\"20's\",\"20's\",\"20's\",\"20's\",\"20's\",\"20's\",\"20's\",\"20's\",\"20's\",\"20's\",\"20's\",\"20's\",\"20's\",\"20's\",\"20's\",\"20's\",\"20's\",\"20's\",\"20's\",\"20's\",\"20's\",\"20's\",\"20's\",\"20's\",\"20's\",\"20's\",\"20's\",\"20's\",\"20's\",\"20's\",\"20's\",\"20's\",\"20's\",\"20's\",\"20's\",\"20's\",\"20's\",\"20's\",\"20's\",\"20's\",\"20's\",\"20's\",\"20's\",\"20's\",\"20's\",\"20's\",\"20's\",\"20's\",\"20's\",\"20's\",\"20's\",\"20's\",\"20's\",\"20's\",\"20's\",\"20's\",\"20's\",\"20's\",\"20's\",\"20's\",\"20's\",\"20's\",\"20's\",\"20's\",\"20's\",\"20's\",\"20's\",\"20's\",\"20's\",\"20's\",\"20's\",\"20's\",\"20's\",\"20's\",\"20's\",\"20's\",\"20's\",\"20's\",\"20's\",\"20's\",\"20's\",\"20's\",\"20's\",\"20's\",\"20's\",\"20's\",\"20's\",\"20's\",\"20's\",\"20's\",\"20's\",\"20's\",\"20's\",\"20's\",\"20's\",\"20's\",\"20's\",\"20's\",\"20's\",\"20's\",\"20's\",\"20's\",\"20's\",\"20's\",\"20's\",\"20's\",\"20's\",\"20's\",\"20's\",\"20's\",\"20's\",\"20's\",\"20's\",\"20's\",\"20's\",\"20's\",\"20's\",\"20's\",\"20's\",\"20's\",\"20's\",\"20's\",\"20's\",\"20's\",\"20's\",\"20's\",\"20's\",\"20's\",\"20's\",\"20's\",\"20's\",\"20's\",\"20's\",\"20's\",\"20's\",\"20's\",\"20's\",\"20's\",\"20's\",\"20's\",\"20's\",\"20's\",\"20's\",\"20's\",\"20's\",\"20's\",\"20's\",\"20's\",\"20's\",\"20's\",\"20's\",\"20's\",\"20's\",\"20's\",\"20's\",\"20's\",\"20's\",\"20's\",\"20's\",\"20's\",\"20's\",\"20's\",\"20's\",\"20's\",\"20's\",\"20's\",\"20's\",\"20's\",\"20's\",\"20's\",\"20's\",\"20's\",\"20's\",\"20's\",\"20's\",\"20's\",\"20's\",\"20's\",\"20's\",\"20's\",\"20's\",\"20's\",\"20's\",\"20's\",\"20's\",\"20's\",\"20's\",\"20's\",\"20's\",\"20's\",\"20's\",\"20's\",\"20's\",\"20's\",\"20's\",\"20's\",\"20's\",\"20's\",\"20's\",\"20's\",\"20's\",\"20's\",\"20's\",\"20's\",\"20's\",\"20's\",\"20's\",\"20's\",\"20's\",\"20's\",\"20's\",\"20's\",\"20's\",\"20's\",\"20's\",\"20's\",\"20's\",\"20's\",\"20's\",\"20's\",\"20's\",\"20's\",\"20's\",\"20's\",\"20's\",\"20's\",\"20's\",\"20's\",\"20's\",\"20's\",\"20's\",\"20's\",\"20's\",\"20's\",\"20's\",\"20's\",\"20's\",\"20's\",\"20's\",\"20's\",\"20's\",\"20's\",\"20's\",\"20's\",\"20's\",\"20's\",\"20's\",\"20's\",\"20's\",\"20's\",\"20's\",\"20's\",\"20's\",\"20's\",\"20's\",\"20's\",\"20's\",\"20's\",\"20's\",\"20's\",\"20's\",\"20's\",\"20's\",\"20's\",\"20's\",\"20's\",\"20's\",\"20's\",\"20's\",\"20's\",\"20's\",\"20's\",\"20's\",\"20's\",\"20's\",\"20's\",\"20's\",\"20's\",\"20's\",\"20's\",\"20's\",\"20's\",\"20's\",\"20's\",\"20's\",\"20's\",\"20's\",\"20's\",\"20's\",\"20's\",\"20's\",\"20's\",\"20's\",\"20's\",\"20's\",\"20's\",\"20's\",\"20's\",\"20's\",\"20's\",\"20's\",\"20's\",\"20's\",\"20's\",\"20's\",\"20's\",\"20's\",\"20's\",\"20's\",\"20's\",\"20's\",\"20's\",\"20's\",\"20's\",\"20's\",\"20's\",\"20's\",\"20's\",\"20's\",\"20's\",\"20's\",\"20's\",\"20's\",\"20's\",\"20's\",\"20's\",\"20's\",\"20's\",\"20's\",\"20's\",\"20's\",\"20's\",\"20's\",\"20's\",\"20's\",\"20's\",\"20's\",\"20's\",\"20's\",\"20's\",\"20's\",\"20's\",\"20's\",\"20's\",\"20's\",\"20's\",\"20's\",\"20's\",\"20's\",\"20's\",\"20's\",\"20's\",\"20's\",\"20's\",\"20's\",\"20's\",\"20's\",\"20's\",\"20's\",\"20's\",\"20's\",\"20's\",\"20's\",\"20's\",\"20's\",\"20's\",\"20's\",\"20's\",\"20's\",\"20's\",\"20's\",\"20's\",\"20's\",\"20's\",\"20's\",\"20's\",\"20's\",\"20's\",\"20's\",\"20's\",\"20's\",\"20's\",\"20's\",\"20's\",\"30's\",\"30's\",\"30's\",\"30's\",\"30's\",\"30's\",\"30's\",\"30's\",\"30's\",\"30's\",\"30's\",\"30's\",\"30's\",\"30's\",\"30's\",\"30's\",\"30's\",\"30's\",\"30's\",\"30's\",\"30's\",\"30's\",\"30's\",\"30's\",\"30's\",\"30's\",\"30's\",\"30's\",\"30's\",\"30's\",\"30's\",\"30's\",\"30's\",\"30's\",\"30's\",\"30's\",\"30's\",\"30's\",\"30's\",\"30's\",\"30's\",\"30's\",\"30's\",\"30's\",\"30's\",\"30's\",\"30's\",\"30's\",\"30's\",\"30's\",\"30's\",\"30's\",\"30's\",\"30's\",\"30's\",\"30's\",\"30's\",\"30's\",\"30's\",\"30's\",\"30's\",\"30's\",\"30's\",\"30's\",\"30's\",\"30's\",\"30's\",\"30's\",\"30's\",\"30's\",\"30's\",\"30's\",\"30's\",\"30's\",\"30's\",\"30's\",\"30's\",\"30's\",\"30's\",\"30's\",\"30's\",\"30's\",\"30's\",\"30's\",\"30's\",\"30's\",\"30's\",\"30's\",\"30's\",\"30's\",\"30's\",\"30's\",\"30's\",\"30's\",\"30's\",\"30's\",\"30's\",\"30's\",\"30's\",\"30's\",\"30's\",\"30's\",\"30's\",\"30's\",\"30's\",\"30's\",\"30's\",\"30's\",\"30's\",\"30's\",\"30's\",\"30's\",\"30's\",\"30's\",\"30's\",\"30's\",\"30's\",\"30's\",\"30's\",\"30's\",\"30's\",\"30's\",\"30's\",\"30's\",\"30's\",\"30's\",\"30's\",\"30's\",\"30's\",\"30's\",\"30's\",\"30's\",\"30's\",\"30's\",\"30's\",\"30's\",\"30's\",\"30's\",\"30's\",\"30's\",\"30's\",\"30's\",\"30's\",\"30's\",\"30's\",\"30's\",\"30's\",\"30's\",\"30's\",\"30's\",\"30's\",\"30's\",\"30's\",\"30's\",\"30's\",\"30's\",\"30's\",\"30's\",\"30's\",\"30's\",\"30's\",\"30's\",\"30's\",\"30's\",\"30's\",\"30's\",\"30's\",\"30's\",\"30's\",\"30's\",\"30's\",\"30's\",\"30's\",\"30's\",\"30's\",\"30's\",\"30's\",\"30's\",\"30's\",\"30's\",\"30's\",\"30's\",\"30's\",\"30's\",\"30's\",\"30's\",\"30's\",\"30's\",\"30's\",\"30's\",\"30's\",\"30's\",\"30's\",\"30's\",\"30's\",\"30's\",\"30's\",\"30's\",\"30's\",\"30's\",\"30's\",\"30's\",\"30's\",\"30's\",\"30's\",\"30's\",\"30's\",\"30's\",\"30's\",\"30's\",\"30's\",\"30's\",\"30's\",\"30's\",\"30's\",\"30's\",\"30's\",\"30's\",\"30's\",\"30's\",\"40's\",\"40's\",\"40's\",\"40's\",\"40's\",\"40's\",\"40's\",\"40's\",\"40's\",\"40's\",\"40's\",\"40's\",\"40's\",\"40's\",\"40's\",\"40's\",\"40's\",\"40's\",\"40's\",\"40's\",\"40's\",\"40's\",\"40's\",\"40's\",\"40's\",\"40's\",\"40's\",\"40's\",\"40's\",\"40's\",\"40's\",\"40's\",\"40's\",\"40's\",\"40's\",\"40's\",\"40's\",\"40's\",\"40's\",\"40's\",\"40's\",\"40's\",\"40's\",\"40's\",\"40's\",\"40's\",\"40's\",\"40's\",\"40's\",\"40's\",\"40's\",\"40's\",\"40's\",\"40's\",\"40's\",\"40's\",\"50's\",\"50's\",\"50's\",\"50's\",\"50's\",\"70+\",\"70+\",\"70+\",\"70+\"],\"x0\":\" \",\"xaxis\":\"x\",\"y\":[0,2,2,1,1,2,1,1,2,1,1,1,1,1,1,1,2,1,1,2,1,1,1,1,1,1,1,2,1,1,1,1,1,1,1,2,1,1,1,2,1,1,1,1,2,1,1,2,2,1,2,1,2,1,2,1,2,2,1,1,1,1,2,1,2,1,1,2,2,1,2,1,1,1,2,2,1,1,1,2,1,1,1,2,2,2,2,1,1,1,2,2,2,2,1,1,1,1,1,1,3,1,1,2,1,1,1,1,1,1,1,1,1,1,2,1,2,1,2,2,2,2,1,2,1,1,1,1,1,2,1,2,2,4,1,1,2,2,1,1,1,1,2,1,1,1,1,1,1,1,2,2,2,1,2,1,2,2,2,1,1,1,1,4,2,2,0,2,1,1,2,2,2,1,2,2,2,1,3,2,1,2,1,2,3,2,1,1,1,1,1,1,1,2,4,2,1,1,1,1,1,1,1,3,1,1,1,1,2,1,2,1,2,1,2,3,4,1,2,1,2,1,1,1,1,1,3,3,1,2,2,1,2,1,1,2,1,2,1,3,3,2,1,1,2,1,1,1,1,2,1,2,1,2,1,1,2,1,1,1,3,1,3,2,2,2,1,2,2,0,3,3,3,4,2,3,2,1,1,1,1,2,2,2,2,3,1,2,1,1,1,1,2,3,2,1,1,2,1,2,3,1,3,1,5,2,1,2,2,2,1,2,2,1,1,2,3,3,1,1,3,0,2,3,1,3,1,2,3,3,2,3,1,2,4,2,1,1,7,2,1,3,2,1,1,2,1,2,2,2,1,2,2,2,2,2,2,1,4,2,1,2,3,2,3,0,3,2,3,2,1,1,3,1,1,3,2,1,3,2,2,1,4,3,1,4,1,1,2,2,2,5,1,1,3,3,2,1,3,1,1,1,3,2,2,1,1,4,2,2,2,3,2,3,2,4,3,3,4,2,1,2,1,3,2,0,2,2,1,2,3,3,2,2,1,2,1,2,2,1,2,3,1,3,2,3,1,3,2,2,2,5,2,1,2,3,2,2,1,2,3,2,3,4,3,1,4,2,2,2,3,3,3,4,2,1,3,1,2,2,3,4,3,1,2,3,2,2,2,4,2,2,3,2,1,2,1,2,4,4,4,1,1,3,1,2,2,3,4,2,3,2,2,2,4,2,5,4,4,6,6,3,2,6,3,2,4,2,2,3,2,2,3,2,2,2,5,4,2,3,1,4,2,2,4,3,2,5,5,2,1,6,2,5,2,2,3,2,2,2,2,3,2,3,3,2,1,2,2,1,1,2,2,3,1,2,3,1,2,2,6,4,3,2,3,3,8,0,2,3,3,2,3,3,3,2,2,1,1,3,2,2,1,1,0,1,2,4,5,2,5,4,5,5,1,1,4,2,2,2,3,3,1,1,6,1,3,5,4,3,2,4,5,2,2,2,2,2,2,1,1,1,2,1,2,1,2,2,3,5,3,2,2,0,2,3,2,3,2,2,1,1,0,4,0,3,2,3,4,2,6,2,6,5,3,2,2,3,4,3,4,4,3,1,1,5,3,5,4,3,5,7,2,3,1,3,3,4,2,4,3,4,0,1,0,1,2,2,1,3,4,5,2,2,6,2,3,4,5,6,2,2,5,6,3,3,2,6,4,3,4,2,3,2,3,3,2,5,2,2,3,1,3,4,4,6,1,2,2,4,3,3,3,3,4,3,4,3,3,1,1,1,5,3,1,3,5,4,0,5,5,4,3,2,5,2,2,5,4,2,4,4,3,2,2,4,3,4,4,2,4,4,1,2,2,3,2,1,3,2,2,7,3,4,2,4,2,4,5,3,4,3,2,3,5,2,4,6,2,0,1,4,2,2,3,8,4,3,5,1,1,2,2,4,2,5,2,6,4,7,2,0,4,6,3,4,7,6,2,7,6,5,4,2,3,10,5,11],\"y0\":\" \",\"yaxis\":\"y\",\"type\":\"box\"}],                        {\"template\":{\"data\":{\"histogram2dcontour\":[{\"type\":\"histogram2dcontour\",\"colorbar\":{\"outlinewidth\":0,\"ticks\":\"\"},\"colorscale\":[[0.0,\"#0d0887\"],[0.1111111111111111,\"#46039f\"],[0.2222222222222222,\"#7201a8\"],[0.3333333333333333,\"#9c179e\"],[0.4444444444444444,\"#bd3786\"],[0.5555555555555556,\"#d8576b\"],[0.6666666666666666,\"#ed7953\"],[0.7777777777777778,\"#fb9f3a\"],[0.8888888888888888,\"#fdca26\"],[1.0,\"#f0f921\"]]}],\"choropleth\":[{\"type\":\"choropleth\",\"colorbar\":{\"outlinewidth\":0,\"ticks\":\"\"}}],\"histogram2d\":[{\"type\":\"histogram2d\",\"colorbar\":{\"outlinewidth\":0,\"ticks\":\"\"},\"colorscale\":[[0.0,\"#0d0887\"],[0.1111111111111111,\"#46039f\"],[0.2222222222222222,\"#7201a8\"],[0.3333333333333333,\"#9c179e\"],[0.4444444444444444,\"#bd3786\"],[0.5555555555555556,\"#d8576b\"],[0.6666666666666666,\"#ed7953\"],[0.7777777777777778,\"#fb9f3a\"],[0.8888888888888888,\"#fdca26\"],[1.0,\"#f0f921\"]]}],\"heatmap\":[{\"type\":\"heatmap\",\"colorbar\":{\"outlinewidth\":0,\"ticks\":\"\"},\"colorscale\":[[0.0,\"#0d0887\"],[0.1111111111111111,\"#46039f\"],[0.2222222222222222,\"#7201a8\"],[0.3333333333333333,\"#9c179e\"],[0.4444444444444444,\"#bd3786\"],[0.5555555555555556,\"#d8576b\"],[0.6666666666666666,\"#ed7953\"],[0.7777777777777778,\"#fb9f3a\"],[0.8888888888888888,\"#fdca26\"],[1.0,\"#f0f921\"]]}],\"heatmapgl\":[{\"type\":\"heatmapgl\",\"colorbar\":{\"outlinewidth\":0,\"ticks\":\"\"},\"colorscale\":[[0.0,\"#0d0887\"],[0.1111111111111111,\"#46039f\"],[0.2222222222222222,\"#7201a8\"],[0.3333333333333333,\"#9c179e\"],[0.4444444444444444,\"#bd3786\"],[0.5555555555555556,\"#d8576b\"],[0.6666666666666666,\"#ed7953\"],[0.7777777777777778,\"#fb9f3a\"],[0.8888888888888888,\"#fdca26\"],[1.0,\"#f0f921\"]]}],\"contourcarpet\":[{\"type\":\"contourcarpet\",\"colorbar\":{\"outlinewidth\":0,\"ticks\":\"\"}}],\"contour\":[{\"type\":\"contour\",\"colorbar\":{\"outlinewidth\":0,\"ticks\":\"\"},\"colorscale\":[[0.0,\"#0d0887\"],[0.1111111111111111,\"#46039f\"],[0.2222222222222222,\"#7201a8\"],[0.3333333333333333,\"#9c179e\"],[0.4444444444444444,\"#bd3786\"],[0.5555555555555556,\"#d8576b\"],[0.6666666666666666,\"#ed7953\"],[0.7777777777777778,\"#fb9f3a\"],[0.8888888888888888,\"#fdca26\"],[1.0,\"#f0f921\"]]}],\"surface\":[{\"type\":\"surface\",\"colorbar\":{\"outlinewidth\":0,\"ticks\":\"\"},\"colorscale\":[[0.0,\"#0d0887\"],[0.1111111111111111,\"#46039f\"],[0.2222222222222222,\"#7201a8\"],[0.3333333333333333,\"#9c179e\"],[0.4444444444444444,\"#bd3786\"],[0.5555555555555556,\"#d8576b\"],[0.6666666666666666,\"#ed7953\"],[0.7777777777777778,\"#fb9f3a\"],[0.8888888888888888,\"#fdca26\"],[1.0,\"#f0f921\"]]}],\"mesh3d\":[{\"type\":\"mesh3d\",\"colorbar\":{\"outlinewidth\":0,\"ticks\":\"\"}}],\"scatter\":[{\"fillpattern\":{\"fillmode\":\"overlay\",\"size\":10,\"solidity\":0.2},\"type\":\"scatter\"}],\"parcoords\":[{\"type\":\"parcoords\",\"line\":{\"colorbar\":{\"outlinewidth\":0,\"ticks\":\"\"}}}],\"scatterpolargl\":[{\"type\":\"scatterpolargl\",\"marker\":{\"colorbar\":{\"outlinewidth\":0,\"ticks\":\"\"}}}],\"bar\":[{\"error_x\":{\"color\":\"#2a3f5f\"},\"error_y\":{\"color\":\"#2a3f5f\"},\"marker\":{\"line\":{\"color\":\"#E5ECF6\",\"width\":0.5},\"pattern\":{\"fillmode\":\"overlay\",\"size\":10,\"solidity\":0.2}},\"type\":\"bar\"}],\"scattergeo\":[{\"type\":\"scattergeo\",\"marker\":{\"colorbar\":{\"outlinewidth\":0,\"ticks\":\"\"}}}],\"scatterpolar\":[{\"type\":\"scatterpolar\",\"marker\":{\"colorbar\":{\"outlinewidth\":0,\"ticks\":\"\"}}}],\"histogram\":[{\"marker\":{\"pattern\":{\"fillmode\":\"overlay\",\"size\":10,\"solidity\":0.2}},\"type\":\"histogram\"}],\"scattergl\":[{\"type\":\"scattergl\",\"marker\":{\"colorbar\":{\"outlinewidth\":0,\"ticks\":\"\"}}}],\"scatter3d\":[{\"type\":\"scatter3d\",\"line\":{\"colorbar\":{\"outlinewidth\":0,\"ticks\":\"\"}},\"marker\":{\"colorbar\":{\"outlinewidth\":0,\"ticks\":\"\"}}}],\"scattermapbox\":[{\"type\":\"scattermapbox\",\"marker\":{\"colorbar\":{\"outlinewidth\":0,\"ticks\":\"\"}}}],\"scatterternary\":[{\"type\":\"scatterternary\",\"marker\":{\"colorbar\":{\"outlinewidth\":0,\"ticks\":\"\"}}}],\"scattercarpet\":[{\"type\":\"scattercarpet\",\"marker\":{\"colorbar\":{\"outlinewidth\":0,\"ticks\":\"\"}}}],\"carpet\":[{\"aaxis\":{\"endlinecolor\":\"#2a3f5f\",\"gridcolor\":\"white\",\"linecolor\":\"white\",\"minorgridcolor\":\"white\",\"startlinecolor\":\"#2a3f5f\"},\"baxis\":{\"endlinecolor\":\"#2a3f5f\",\"gridcolor\":\"white\",\"linecolor\":\"white\",\"minorgridcolor\":\"white\",\"startlinecolor\":\"#2a3f5f\"},\"type\":\"carpet\"}],\"table\":[{\"cells\":{\"fill\":{\"color\":\"#EBF0F8\"},\"line\":{\"color\":\"white\"}},\"header\":{\"fill\":{\"color\":\"#C8D4E3\"},\"line\":{\"color\":\"white\"}},\"type\":\"table\"}],\"barpolar\":[{\"marker\":{\"line\":{\"color\":\"#E5ECF6\",\"width\":0.5},\"pattern\":{\"fillmode\":\"overlay\",\"size\":10,\"solidity\":0.2}},\"type\":\"barpolar\"}],\"pie\":[{\"automargin\":true,\"type\":\"pie\"}]},\"layout\":{\"autotypenumbers\":\"strict\",\"colorway\":[\"#636efa\",\"#EF553B\",\"#00cc96\",\"#ab63fa\",\"#FFA15A\",\"#19d3f3\",\"#FF6692\",\"#B6E880\",\"#FF97FF\",\"#FECB52\"],\"font\":{\"color\":\"#2a3f5f\"},\"hovermode\":\"closest\",\"hoverlabel\":{\"align\":\"left\"},\"paper_bgcolor\":\"white\",\"plot_bgcolor\":\"#E5ECF6\",\"polar\":{\"bgcolor\":\"#E5ECF6\",\"angularaxis\":{\"gridcolor\":\"white\",\"linecolor\":\"white\",\"ticks\":\"\"},\"radialaxis\":{\"gridcolor\":\"white\",\"linecolor\":\"white\",\"ticks\":\"\"}},\"ternary\":{\"bgcolor\":\"#E5ECF6\",\"aaxis\":{\"gridcolor\":\"white\",\"linecolor\":\"white\",\"ticks\":\"\"},\"baxis\":{\"gridcolor\":\"white\",\"linecolor\":\"white\",\"ticks\":\"\"},\"caxis\":{\"gridcolor\":\"white\",\"linecolor\":\"white\",\"ticks\":\"\"}},\"coloraxis\":{\"colorbar\":{\"outlinewidth\":0,\"ticks\":\"\"}},\"colorscale\":{\"sequential\":[[0.0,\"#0d0887\"],[0.1111111111111111,\"#46039f\"],[0.2222222222222222,\"#7201a8\"],[0.3333333333333333,\"#9c179e\"],[0.4444444444444444,\"#bd3786\"],[0.5555555555555556,\"#d8576b\"],[0.6666666666666666,\"#ed7953\"],[0.7777777777777778,\"#fb9f3a\"],[0.8888888888888888,\"#fdca26\"],[1.0,\"#f0f921\"]],\"sequentialminus\":[[0.0,\"#0d0887\"],[0.1111111111111111,\"#46039f\"],[0.2222222222222222,\"#7201a8\"],[0.3333333333333333,\"#9c179e\"],[0.4444444444444444,\"#bd3786\"],[0.5555555555555556,\"#d8576b\"],[0.6666666666666666,\"#ed7953\"],[0.7777777777777778,\"#fb9f3a\"],[0.8888888888888888,\"#fdca26\"],[1.0,\"#f0f921\"]],\"diverging\":[[0,\"#8e0152\"],[0.1,\"#c51b7d\"],[0.2,\"#de77ae\"],[0.3,\"#f1b6da\"],[0.4,\"#fde0ef\"],[0.5,\"#f7f7f7\"],[0.6,\"#e6f5d0\"],[0.7,\"#b8e186\"],[0.8,\"#7fbc41\"],[0.9,\"#4d9221\"],[1,\"#276419\"]]},\"xaxis\":{\"gridcolor\":\"white\",\"linecolor\":\"white\",\"ticks\":\"\",\"title\":{\"standoff\":15},\"zerolinecolor\":\"white\",\"automargin\":true,\"zerolinewidth\":2},\"yaxis\":{\"gridcolor\":\"white\",\"linecolor\":\"white\",\"ticks\":\"\",\"title\":{\"standoff\":15},\"zerolinecolor\":\"white\",\"automargin\":true,\"zerolinewidth\":2},\"scene\":{\"xaxis\":{\"backgroundcolor\":\"#E5ECF6\",\"gridcolor\":\"white\",\"linecolor\":\"white\",\"showbackground\":true,\"ticks\":\"\",\"zerolinecolor\":\"white\",\"gridwidth\":2},\"yaxis\":{\"backgroundcolor\":\"#E5ECF6\",\"gridcolor\":\"white\",\"linecolor\":\"white\",\"showbackground\":true,\"ticks\":\"\",\"zerolinecolor\":\"white\",\"gridwidth\":2},\"zaxis\":{\"backgroundcolor\":\"#E5ECF6\",\"gridcolor\":\"white\",\"linecolor\":\"white\",\"showbackground\":true,\"ticks\":\"\",\"zerolinecolor\":\"white\",\"gridwidth\":2}},\"shapedefaults\":{\"line\":{\"color\":\"#2a3f5f\"}},\"annotationdefaults\":{\"arrowcolor\":\"#2a3f5f\",\"arrowhead\":0,\"arrowwidth\":1},\"geo\":{\"bgcolor\":\"white\",\"landcolor\":\"#E5ECF6\",\"subunitcolor\":\"white\",\"showland\":true,\"showlakes\":true,\"lakecolor\":\"white\"},\"title\":{\"x\":0.05},\"mapbox\":{\"style\":\"light\"}}},\"xaxis\":{\"anchor\":\"y\",\"domain\":[0.0,1.0],\"title\":{\"text\":\"Age Category\"}},\"yaxis\":{\"anchor\":\"x\",\"domain\":[0.0,1.0],\"title\":{\"text\":\"Number of Pregnancies\"}},\"legend\":{\"tracegroupgap\":0},\"margin\":{\"t\":60},\"boxmode\":\"group\",\"title\":{\"text\":\"Distribution of number of pregnancies per age group\"}},                        {\"responsive\": true}                    ).then(function(){\n",
              "                            \n",
              "var gd = document.getElementById('4f435b16-e408-4b31-a426-466acba69b9c');\n",
              "var x = new MutationObserver(function (mutations, observer) {{\n",
              "        var display = window.getComputedStyle(gd).display;\n",
              "        if (!display || display === 'none') {{\n",
              "            console.log([gd, 'removed!']);\n",
              "            Plotly.purge(gd);\n",
              "            observer.disconnect();\n",
              "        }}\n",
              "}});\n",
              "\n",
              "// Listen for the removal of the full notebook cells\n",
              "var notebookContainer = gd.closest('#notebook-container');\n",
              "if (notebookContainer) {{\n",
              "    x.observe(notebookContainer, {childList: true});\n",
              "}}\n",
              "\n",
              "// Listen for the clearing of the current output cell\n",
              "var outputEl = gd.closest('.output');\n",
              "if (outputEl) {{\n",
              "    x.observe(outputEl, {childList: true});\n",
              "}}\n",
              "\n",
              "                        })                };                            </script>        </div>\n",
              "</body>\n",
              "</html>"
            ]
          },
          "metadata": {},
          "output_type": "display_data"
        }
      ],
      "source": [
        "#Pregancy Distribution by Age\n",
        "age_preg_bar = px.box(risk_factor_df.sort_values(by=\"Age\",ascending=True), x=\"age_cat\", y=\"Num of pregnancies\",\n",
        "                      color_discrete_sequence=[\"darkblue\"], points=\"outliers\",\n",
        "                      category_orders=[\"Teenager\", \"Twenties\", \"Thirties\", \"Forties\", \"Fifties\",\"Sixties\",\n",
        "                                       \"Seventy and over\"])\n",
        "age_preg_bar.update_xaxes(title=\"Age Category\")\n",
        "age_preg_bar.update_yaxes(title=\"Number of Pregnancies\")\n",
        "age_preg_bar.update_layout(title=\"Distribution of number of pregnancies per age group\")\n",
        "age_preg_bar.show()"
      ]
    },
    {
      "cell_type": "markdown",
      "metadata": {
        "id": "1pX6un7jicD0"
      },
      "source": [
        "#### Mayo Risk Factors (May split further)"
      ]
    },
    {
      "cell_type": "markdown",
      "metadata": {
        "id": "1veTrwjflQ47"
      },
      "source": [
        "Mayo Clinic provides many risk factors for cervical cancer, including many sexual partners, earlier sexual activity, STIs, a wekeaned immune system, smoking, and the exposure to miscarriage preventian drug DES.\n",
        "\n",
        "We can see from the following visualizations that number of sexual partners remain fairly consistent across age ranges. We can also see a very low correlation between number of sexual partners and any relevant diagnoses.\n",
        "\n",
        "We see a very high correlation between HPV and Cancer, but a low correlation between CIN and HPV.  This could be due to the incompletenss of this dataset, that we will try to balance alter."
      ]
    },
    {
      "cell_type": "code",
      "execution_count": null,
      "metadata": {
        "colab": {
          "base_uri": "https://localhost:8080/",
          "height": 542
        },
        "id": "kFRNHvR5AOpj",
        "outputId": "f2b09c52-0e35-4a30-c0a0-5df0c72b8113"
      },
      "outputs": [
        {
          "data": {
            "text/html": [
              "<html>\n",
              "<head><meta charset=\"utf-8\" /></head>\n",
              "<body>\n",
              "    <div>            <script src=\"https://cdnjs.cloudflare.com/ajax/libs/mathjax/2.7.5/MathJax.js?config=TeX-AMS-MML_SVG\"></script><script type=\"text/javascript\">if (window.MathJax && window.MathJax.Hub && window.MathJax.Hub.Config) {window.MathJax.Hub.Config({SVG: {font: \"STIX-Web\"}});}</script>                <script type=\"text/javascript\">window.PlotlyConfig = {MathJaxConfig: 'local'};</script>\n",
              "        <script charset=\"utf-8\" src=\"https://cdn.plot.ly/plotly-2.24.1.min.js\"></script>                <div id=\"65914068-9556-4d05-b739-b962db59c5ef\" class=\"plotly-graph-div\" style=\"height:525px; width:100%;\"></div>            <script type=\"text/javascript\">                                    window.PLOTLYENV=window.PLOTLYENV || {};                                    if (document.getElementById(\"65914068-9556-4d05-b739-b962db59c5ef\")) {                    Plotly.newPlot(                        \"65914068-9556-4d05-b739-b962db59c5ef\",                        [{\"alignmentgroup\":\"True\",\"boxpoints\":\"outliers\",\"hovertemplate\":\"age_cat=%{x}\\u003cbr\\u003eNumber of sexual partners=%{y}\\u003cextra\\u003e\\u003c\\u002fextra\\u003e\",\"legendgroup\":\"\",\"marker\":{\"color\":\"blue\"},\"name\":\"\",\"notched\":false,\"offsetgroup\":\"\",\"orientation\":\"v\",\"showlegend\":false,\"x\":[\"Teen\",\"Teen\",\"Teen\",\"Teen\",\"Teen\",\"Teen\",\"Teen\",\"Teen\",\"Teen\",\"Teen\",\"Teen\",\"Teen\",\"Teen\",\"Teen\",\"Teen\",\"Teen\",\"Teen\",\"Teen\",\"Teen\",\"Teen\",\"Teen\",\"Teen\",\"Teen\",\"Teen\",\"Teen\",\"Teen\",\"Teen\",\"Teen\",\"Teen\",\"Teen\",\"Teen\",\"Teen\",\"Teen\",\"Teen\",\"Teen\",\"Teen\",\"Teen\",\"Teen\",\"Teen\",\"Teen\",\"Teen\",\"Teen\",\"Teen\",\"Teen\",\"Teen\",\"Teen\",\"Teen\",\"Teen\",\"Teen\",\"Teen\",\"Teen\",\"Teen\",\"Teen\",\"Teen\",\"Teen\",\"Teen\",\"Teen\",\"Teen\",\"Teen\",\"Teen\",\"Teen\",\"Teen\",\"Teen\",\"Teen\",\"Teen\",\"Teen\",\"Teen\",\"Teen\",\"Teen\",\"Teen\",\"Teen\",\"Teen\",\"Teen\",\"Teen\",\"Teen\",\"Teen\",\"Teen\",\"Teen\",\"Teen\",\"Teen\",\"Teen\",\"Teen\",\"Teen\",\"Teen\",\"Teen\",\"Teen\",\"Teen\",\"Teen\",\"Teen\",\"Teen\",\"Teen\",\"Teen\",\"Teen\",\"Teen\",\"Teen\",\"Teen\",\"Teen\",\"Teen\",\"Teen\",\"Teen\",\"Teen\",\"Teen\",\"Teen\",\"Teen\",\"Teen\",\"Teen\",\"Teen\",\"Teen\",\"Teen\",\"Teen\",\"Teen\",\"Teen\",\"Teen\",\"Teen\",\"Teen\",\"Teen\",\"Teen\",\"Teen\",\"Teen\",\"Teen\",\"Teen\",\"Teen\",\"Teen\",\"Teen\",\"Teen\",\"Teen\",\"Teen\",\"Teen\",\"Teen\",\"Teen\",\"Teen\",\"Teen\",\"Teen\",\"Teen\",\"Teen\",\"Teen\",\"Teen\",\"Teen\",\"Teen\",\"Teen\",\"Teen\",\"Teen\",\"Teen\",\"Teen\",\"Teen\",\"Teen\",\"Teen\",\"Teen\",\"Teen\",\"Teen\",\"Teen\",\"Teen\",\"Teen\",\"Teen\",\"Teen\",\"Teen\",\"Teen\",\"Teen\",\"Teen\",\"Teen\",\"Teen\",\"Teen\",\"Teen\",\"Teen\",\"Teen\",\"Teen\",\"Teen\",\"Teen\",\"Teen\",\"Teen\",\"Teen\",\"Teen\",\"Teen\",\"Teen\",\"Teen\",\"Teen\",\"Teen\",\"Teen\",\"Teen\",\"20's\",\"20's\",\"20's\",\"20's\",\"20's\",\"20's\",\"20's\",\"20's\",\"20's\",\"20's\",\"20's\",\"20's\",\"20's\",\"20's\",\"20's\",\"20's\",\"20's\",\"20's\",\"20's\",\"20's\",\"20's\",\"20's\",\"20's\",\"20's\",\"20's\",\"20's\",\"20's\",\"20's\",\"20's\",\"20's\",\"20's\",\"20's\",\"20's\",\"20's\",\"20's\",\"20's\",\"20's\",\"20's\",\"20's\",\"20's\",\"20's\",\"20's\",\"20's\",\"20's\",\"20's\",\"20's\",\"20's\",\"20's\",\"20's\",\"20's\",\"20's\",\"20's\",\"20's\",\"20's\",\"20's\",\"20's\",\"20's\",\"20's\",\"20's\",\"20's\",\"20's\",\"20's\",\"20's\",\"20's\",\"20's\",\"20's\",\"20's\",\"20's\",\"20's\",\"20's\",\"20's\",\"20's\",\"20's\",\"20's\",\"20's\",\"20's\",\"20's\",\"20's\",\"20's\",\"20's\",\"20's\",\"20's\",\"20's\",\"20's\",\"20's\",\"20's\",\"20's\",\"20's\",\"20's\",\"20's\",\"20's\",\"20's\",\"20's\",\"20's\",\"20's\",\"20's\",\"20's\",\"20's\",\"20's\",\"20's\",\"20's\",\"20's\",\"20's\",\"20's\",\"20's\",\"20's\",\"20's\",\"20's\",\"20's\",\"20's\",\"20's\",\"20's\",\"20's\",\"20's\",\"20's\",\"20's\",\"20's\",\"20's\",\"20's\",\"20's\",\"20's\",\"20's\",\"20's\",\"20's\",\"20's\",\"20's\",\"20's\",\"20's\",\"20's\",\"20's\",\"20's\",\"20's\",\"20's\",\"20's\",\"20's\",\"20's\",\"20's\",\"20's\",\"20's\",\"20's\",\"20's\",\"20's\",\"20's\",\"20's\",\"20's\",\"20's\",\"20's\",\"20's\",\"20's\",\"20's\",\"20's\",\"20's\",\"20's\",\"20's\",\"20's\",\"20's\",\"20's\",\"20's\",\"20's\",\"20's\",\"20's\",\"20's\",\"20's\",\"20's\",\"20's\",\"20's\",\"20's\",\"20's\",\"20's\",\"20's\",\"20's\",\"20's\",\"20's\",\"20's\",\"20's\",\"20's\",\"20's\",\"20's\",\"20's\",\"20's\",\"20's\",\"20's\",\"20's\",\"20's\",\"20's\",\"20's\",\"20's\",\"20's\",\"20's\",\"20's\",\"20's\",\"20's\",\"20's\",\"20's\",\"20's\",\"20's\",\"20's\",\"20's\",\"20's\",\"20's\",\"20's\",\"20's\",\"20's\",\"20's\",\"20's\",\"20's\",\"20's\",\"20's\",\"20's\",\"20's\",\"20's\",\"20's\",\"20's\",\"20's\",\"20's\",\"20's\",\"20's\",\"20's\",\"20's\",\"20's\",\"20's\",\"20's\",\"20's\",\"20's\",\"20's\",\"20's\",\"20's\",\"20's\",\"20's\",\"20's\",\"20's\",\"20's\",\"20's\",\"20's\",\"20's\",\"20's\",\"20's\",\"20's\",\"20's\",\"20's\",\"20's\",\"20's\",\"20's\",\"20's\",\"20's\",\"20's\",\"20's\",\"20's\",\"20's\",\"20's\",\"20's\",\"20's\",\"20's\",\"20's\",\"20's\",\"20's\",\"20's\",\"20's\",\"20's\",\"20's\",\"20's\",\"20's\",\"20's\",\"20's\",\"20's\",\"20's\",\"20's\",\"20's\",\"20's\",\"20's\",\"20's\",\"20's\",\"20's\",\"20's\",\"20's\",\"20's\",\"20's\",\"20's\",\"20's\",\"20's\",\"20's\",\"20's\",\"20's\",\"20's\",\"20's\",\"20's\",\"20's\",\"20's\",\"20's\",\"20's\",\"20's\",\"20's\",\"20's\",\"20's\",\"20's\",\"20's\",\"20's\",\"20's\",\"20's\",\"20's\",\"20's\",\"20's\",\"20's\",\"20's\",\"20's\",\"20's\",\"20's\",\"20's\",\"20's\",\"20's\",\"20's\",\"20's\",\"20's\",\"20's\",\"20's\",\"20's\",\"20's\",\"20's\",\"20's\",\"20's\",\"20's\",\"20's\",\"20's\",\"20's\",\"20's\",\"20's\",\"20's\",\"20's\",\"20's\",\"20's\",\"20's\",\"20's\",\"20's\",\"20's\",\"20's\",\"20's\",\"20's\",\"20's\",\"20's\",\"20's\",\"20's\",\"20's\",\"20's\",\"20's\",\"20's\",\"20's\",\"20's\",\"20's\",\"20's\",\"20's\",\"20's\",\"20's\",\"20's\",\"20's\",\"20's\",\"20's\",\"20's\",\"20's\",\"20's\",\"20's\",\"20's\",\"20's\",\"20's\",\"20's\",\"20's\",\"20's\",\"20's\",\"20's\",\"20's\",\"20's\",\"20's\",\"20's\",\"20's\",\"20's\",\"20's\",\"20's\",\"20's\",\"20's\",\"20's\",\"20's\",\"20's\",\"20's\",\"20's\",\"20's\",\"20's\",\"20's\",\"20's\",\"20's\",\"20's\",\"20's\",\"20's\",\"20's\",\"20's\",\"20's\",\"30's\",\"30's\",\"30's\",\"30's\",\"30's\",\"30's\",\"30's\",\"30's\",\"30's\",\"30's\",\"30's\",\"30's\",\"30's\",\"30's\",\"30's\",\"30's\",\"30's\",\"30's\",\"30's\",\"30's\",\"30's\",\"30's\",\"30's\",\"30's\",\"30's\",\"30's\",\"30's\",\"30's\",\"30's\",\"30's\",\"30's\",\"30's\",\"30's\",\"30's\",\"30's\",\"30's\",\"30's\",\"30's\",\"30's\",\"30's\",\"30's\",\"30's\",\"30's\",\"30's\",\"30's\",\"30's\",\"30's\",\"30's\",\"30's\",\"30's\",\"30's\",\"30's\",\"30's\",\"30's\",\"30's\",\"30's\",\"30's\",\"30's\",\"30's\",\"30's\",\"30's\",\"30's\",\"30's\",\"30's\",\"30's\",\"30's\",\"30's\",\"30's\",\"30's\",\"30's\",\"30's\",\"30's\",\"30's\",\"30's\",\"30's\",\"30's\",\"30's\",\"30's\",\"30's\",\"30's\",\"30's\",\"30's\",\"30's\",\"30's\",\"30's\",\"30's\",\"30's\",\"30's\",\"30's\",\"30's\",\"30's\",\"30's\",\"30's\",\"30's\",\"30's\",\"30's\",\"30's\",\"30's\",\"30's\",\"30's\",\"30's\",\"30's\",\"30's\",\"30's\",\"30's\",\"30's\",\"30's\",\"30's\",\"30's\",\"30's\",\"30's\",\"30's\",\"30's\",\"30's\",\"30's\",\"30's\",\"30's\",\"30's\",\"30's\",\"30's\",\"30's\",\"30's\",\"30's\",\"30's\",\"30's\",\"30's\",\"30's\",\"30's\",\"30's\",\"30's\",\"30's\",\"30's\",\"30's\",\"30's\",\"30's\",\"30's\",\"30's\",\"30's\",\"30's\",\"30's\",\"30's\",\"30's\",\"30's\",\"30's\",\"30's\",\"30's\",\"30's\",\"30's\",\"30's\",\"30's\",\"30's\",\"30's\",\"30's\",\"30's\",\"30's\",\"30's\",\"30's\",\"30's\",\"30's\",\"30's\",\"30's\",\"30's\",\"30's\",\"30's\",\"30's\",\"30's\",\"30's\",\"30's\",\"30's\",\"30's\",\"30's\",\"30's\",\"30's\",\"30's\",\"30's\",\"30's\",\"30's\",\"30's\",\"30's\",\"30's\",\"30's\",\"30's\",\"30's\",\"30's\",\"30's\",\"30's\",\"30's\",\"30's\",\"30's\",\"30's\",\"30's\",\"30's\",\"30's\",\"30's\",\"30's\",\"30's\",\"30's\",\"30's\",\"30's\",\"30's\",\"30's\",\"30's\",\"30's\",\"30's\",\"30's\",\"30's\",\"30's\",\"30's\",\"30's\",\"30's\",\"30's\",\"30's\",\"30's\",\"30's\",\"30's\",\"30's\",\"30's\",\"30's\",\"30's\",\"30's\",\"40's\",\"40's\",\"40's\",\"40's\",\"40's\",\"40's\",\"40's\",\"40's\",\"40's\",\"40's\",\"40's\",\"40's\",\"40's\",\"40's\",\"40's\",\"40's\",\"40's\",\"40's\",\"40's\",\"40's\",\"40's\",\"40's\",\"40's\",\"40's\",\"40's\",\"40's\",\"40's\",\"40's\",\"40's\",\"40's\",\"40's\",\"40's\",\"40's\",\"40's\",\"40's\",\"40's\",\"40's\",\"40's\",\"40's\",\"40's\",\"40's\",\"40's\",\"40's\",\"40's\",\"40's\",\"40's\",\"40's\",\"40's\",\"40's\",\"40's\",\"40's\",\"40's\",\"40's\",\"40's\",\"40's\",\"40's\",\"50's\",\"50's\",\"50's\",\"50's\",\"50's\",\"70+\",\"70+\",\"70+\",\"70+\"],\"x0\":\" \",\"xaxis\":\"x\",\"y\":[1,1,5,2,2,1,2,3,3,1,4,1,2,2,3,4,1,1,2,2,2,1,1,1,1,1,2,3,1,2,2,2,1,1,1,1,1,2,2,2,1,3,1,28,1,2,1,1,1,1,1,2,4,1,2,1,2,1,2,3,3,1,2,1,1,3,2,1,2,5,2,2,2,2,2,2,2,1,2,2,3,4,1,2,1,2,2,1,2,1,1,3,1,2,2,3,1,3,3,1,2,2,7,1,1,3,1,2,2,2,2,1,2,2,2,1,1,7,2,5,1,1,3,3,1,3,1,5,1,5,3,1,2,3,4,4,2,3,3,1,1,2,2,4,1,2,4,4,1,3,7,2,2,3,1,1,3,2,4,1,2,4,2,3,4,2,1,2,3,1,1,4,3,1,1,3,2,2,2,2,1,3,2,1,5,3,4,2,2,2,2,1,5,4,3,3,4,1,3,1,1,2,3,2,3,2,2,1,3,2,1,2,2,3,2,3,2,3,1,4,1,1,2,1,5,1,3,1,2,1,1,2,2,2,1,1,1,1,3,4,2,4,4,1,2,1,2,5,5,2,1,1,1,3,1,1,2,1,4,4,5,2,1,1,2,1,1,2,5,3,1,2,3,3,1,2,1,2,2,3,4,2,2,2,2,2,3,1,1,3,2,1,2,2,2,3,1,2,2,1,1,3,2,3,1,1,4,2,4,2,5,1,1,5,1,2,1,2,3,2,1,2,2,1,3,1,2,4,2,2,1,4,2,2,3,5,1,1,2,1,2,2,2,3,5,2,8,1,1,3,2,2,1,2,3,3,3,3,3,1,2,5,3,2,2,1,1,2,1,3,2,2,3,4,2,1,1,2,2,2,2,1,2,5,4,4,1,1,1,3,4,2,3,2,2,2,2,2,2,3,1,5,4,2,2,2,1,5,3,3,6,4,2,7,15,3,4,4,5,2,2,4,6,3,2,2,2,3,3,2,2,3,2,2,10,2,3,1,2,2,2,3,8,1,2,3,2,1,2,7,5,3,3,1,4,4,1,2,2,2,3,3,2,2,2,2,4,3,1,2,1,2,2,3,6,4,2,1,3,4,3,4,6,5,3,1,5,2,2,3,1,2,2,2,4,1,1,3,1,2,4,2,1,8,3,2,2,3,3,2,6,1,2,3,5,2,3,2,6,2,2,3,3,3,3,2,5,4,2,2,2,1,1,1,1,2,3,4,1,2,1,2,2,5,2,4,1,4,5,2,1,5,2,4,4,2,3,3,2,2,1,4,2,3,3,3,5,8,2,2,4,1,3,3,1,1,2,3,2,2,2,3,5,2,3,2,4,3,3,1,1,1,2,1,4,1,1,2,4,3,1,3,2,2,2,2,4,5,7,2,3,4,2,1,3,3,2,3,2,2,3,2,3,9,3,3,2,1,3,3,2,3,1,3,4,4,3,3,7,3,2,1,1,3,2,2,3,2,4,2,3,2,2,4,3,3,3,3,3,2,3,5,2,3,3,1,3,1,3,4,3,1,3,3,2,1,1,4,1,4,2,1,2,3,1,3,3,2,1,2,5,3,2,1,2,3,2,4,3,3,3,3,3,1,1,2,5,3,1,3,5,3,5,4,2,5,3,3,3,6,1,2,3,3,3,3,5,3,3,2,4,2,2,2,1,2,2,2,3,2,2,1,1,3,1,1,2,2,4,3,3,3,4,2,1,3,6,5,3,3,6,4,3,3,2,3,2,2,3,3,3,2,3,2,3,2,3,2,4,2,3,2,1,2,5,2,2,1,2,2,1,5,4,3,1,3,2,1,2,3,3,1,2,2,2,3,3,3,4,3,2,1,3,4,3,3,3,2,2,2,3,3,3,2,3,3,2,4,2,3,2,3,2,3,3,1,2,4,2,5,1,1,3,1,2,4,2,2,3,2,3,2,5,2,4,1,2,3],\"y0\":\" \",\"yaxis\":\"y\",\"type\":\"box\"}],                        {\"template\":{\"data\":{\"histogram2dcontour\":[{\"type\":\"histogram2dcontour\",\"colorbar\":{\"outlinewidth\":0,\"ticks\":\"\"},\"colorscale\":[[0.0,\"#0d0887\"],[0.1111111111111111,\"#46039f\"],[0.2222222222222222,\"#7201a8\"],[0.3333333333333333,\"#9c179e\"],[0.4444444444444444,\"#bd3786\"],[0.5555555555555556,\"#d8576b\"],[0.6666666666666666,\"#ed7953\"],[0.7777777777777778,\"#fb9f3a\"],[0.8888888888888888,\"#fdca26\"],[1.0,\"#f0f921\"]]}],\"choropleth\":[{\"type\":\"choropleth\",\"colorbar\":{\"outlinewidth\":0,\"ticks\":\"\"}}],\"histogram2d\":[{\"type\":\"histogram2d\",\"colorbar\":{\"outlinewidth\":0,\"ticks\":\"\"},\"colorscale\":[[0.0,\"#0d0887\"],[0.1111111111111111,\"#46039f\"],[0.2222222222222222,\"#7201a8\"],[0.3333333333333333,\"#9c179e\"],[0.4444444444444444,\"#bd3786\"],[0.5555555555555556,\"#d8576b\"],[0.6666666666666666,\"#ed7953\"],[0.7777777777777778,\"#fb9f3a\"],[0.8888888888888888,\"#fdca26\"],[1.0,\"#f0f921\"]]}],\"heatmap\":[{\"type\":\"heatmap\",\"colorbar\":{\"outlinewidth\":0,\"ticks\":\"\"},\"colorscale\":[[0.0,\"#0d0887\"],[0.1111111111111111,\"#46039f\"],[0.2222222222222222,\"#7201a8\"],[0.3333333333333333,\"#9c179e\"],[0.4444444444444444,\"#bd3786\"],[0.5555555555555556,\"#d8576b\"],[0.6666666666666666,\"#ed7953\"],[0.7777777777777778,\"#fb9f3a\"],[0.8888888888888888,\"#fdca26\"],[1.0,\"#f0f921\"]]}],\"heatmapgl\":[{\"type\":\"heatmapgl\",\"colorbar\":{\"outlinewidth\":0,\"ticks\":\"\"},\"colorscale\":[[0.0,\"#0d0887\"],[0.1111111111111111,\"#46039f\"],[0.2222222222222222,\"#7201a8\"],[0.3333333333333333,\"#9c179e\"],[0.4444444444444444,\"#bd3786\"],[0.5555555555555556,\"#d8576b\"],[0.6666666666666666,\"#ed7953\"],[0.7777777777777778,\"#fb9f3a\"],[0.8888888888888888,\"#fdca26\"],[1.0,\"#f0f921\"]]}],\"contourcarpet\":[{\"type\":\"contourcarpet\",\"colorbar\":{\"outlinewidth\":0,\"ticks\":\"\"}}],\"contour\":[{\"type\":\"contour\",\"colorbar\":{\"outlinewidth\":0,\"ticks\":\"\"},\"colorscale\":[[0.0,\"#0d0887\"],[0.1111111111111111,\"#46039f\"],[0.2222222222222222,\"#7201a8\"],[0.3333333333333333,\"#9c179e\"],[0.4444444444444444,\"#bd3786\"],[0.5555555555555556,\"#d8576b\"],[0.6666666666666666,\"#ed7953\"],[0.7777777777777778,\"#fb9f3a\"],[0.8888888888888888,\"#fdca26\"],[1.0,\"#f0f921\"]]}],\"surface\":[{\"type\":\"surface\",\"colorbar\":{\"outlinewidth\":0,\"ticks\":\"\"},\"colorscale\":[[0.0,\"#0d0887\"],[0.1111111111111111,\"#46039f\"],[0.2222222222222222,\"#7201a8\"],[0.3333333333333333,\"#9c179e\"],[0.4444444444444444,\"#bd3786\"],[0.5555555555555556,\"#d8576b\"],[0.6666666666666666,\"#ed7953\"],[0.7777777777777778,\"#fb9f3a\"],[0.8888888888888888,\"#fdca26\"],[1.0,\"#f0f921\"]]}],\"mesh3d\":[{\"type\":\"mesh3d\",\"colorbar\":{\"outlinewidth\":0,\"ticks\":\"\"}}],\"scatter\":[{\"fillpattern\":{\"fillmode\":\"overlay\",\"size\":10,\"solidity\":0.2},\"type\":\"scatter\"}],\"parcoords\":[{\"type\":\"parcoords\",\"line\":{\"colorbar\":{\"outlinewidth\":0,\"ticks\":\"\"}}}],\"scatterpolargl\":[{\"type\":\"scatterpolargl\",\"marker\":{\"colorbar\":{\"outlinewidth\":0,\"ticks\":\"\"}}}],\"bar\":[{\"error_x\":{\"color\":\"#2a3f5f\"},\"error_y\":{\"color\":\"#2a3f5f\"},\"marker\":{\"line\":{\"color\":\"#E5ECF6\",\"width\":0.5},\"pattern\":{\"fillmode\":\"overlay\",\"size\":10,\"solidity\":0.2}},\"type\":\"bar\"}],\"scattergeo\":[{\"type\":\"scattergeo\",\"marker\":{\"colorbar\":{\"outlinewidth\":0,\"ticks\":\"\"}}}],\"scatterpolar\":[{\"type\":\"scatterpolar\",\"marker\":{\"colorbar\":{\"outlinewidth\":0,\"ticks\":\"\"}}}],\"histogram\":[{\"marker\":{\"pattern\":{\"fillmode\":\"overlay\",\"size\":10,\"solidity\":0.2}},\"type\":\"histogram\"}],\"scattergl\":[{\"type\":\"scattergl\",\"marker\":{\"colorbar\":{\"outlinewidth\":0,\"ticks\":\"\"}}}],\"scatter3d\":[{\"type\":\"scatter3d\",\"line\":{\"colorbar\":{\"outlinewidth\":0,\"ticks\":\"\"}},\"marker\":{\"colorbar\":{\"outlinewidth\":0,\"ticks\":\"\"}}}],\"scattermapbox\":[{\"type\":\"scattermapbox\",\"marker\":{\"colorbar\":{\"outlinewidth\":0,\"ticks\":\"\"}}}],\"scatterternary\":[{\"type\":\"scatterternary\",\"marker\":{\"colorbar\":{\"outlinewidth\":0,\"ticks\":\"\"}}}],\"scattercarpet\":[{\"type\":\"scattercarpet\",\"marker\":{\"colorbar\":{\"outlinewidth\":0,\"ticks\":\"\"}}}],\"carpet\":[{\"aaxis\":{\"endlinecolor\":\"#2a3f5f\",\"gridcolor\":\"white\",\"linecolor\":\"white\",\"minorgridcolor\":\"white\",\"startlinecolor\":\"#2a3f5f\"},\"baxis\":{\"endlinecolor\":\"#2a3f5f\",\"gridcolor\":\"white\",\"linecolor\":\"white\",\"minorgridcolor\":\"white\",\"startlinecolor\":\"#2a3f5f\"},\"type\":\"carpet\"}],\"table\":[{\"cells\":{\"fill\":{\"color\":\"#EBF0F8\"},\"line\":{\"color\":\"white\"}},\"header\":{\"fill\":{\"color\":\"#C8D4E3\"},\"line\":{\"color\":\"white\"}},\"type\":\"table\"}],\"barpolar\":[{\"marker\":{\"line\":{\"color\":\"#E5ECF6\",\"width\":0.5},\"pattern\":{\"fillmode\":\"overlay\",\"size\":10,\"solidity\":0.2}},\"type\":\"barpolar\"}],\"pie\":[{\"automargin\":true,\"type\":\"pie\"}]},\"layout\":{\"autotypenumbers\":\"strict\",\"colorway\":[\"#636efa\",\"#EF553B\",\"#00cc96\",\"#ab63fa\",\"#FFA15A\",\"#19d3f3\",\"#FF6692\",\"#B6E880\",\"#FF97FF\",\"#FECB52\"],\"font\":{\"color\":\"#2a3f5f\"},\"hovermode\":\"closest\",\"hoverlabel\":{\"align\":\"left\"},\"paper_bgcolor\":\"white\",\"plot_bgcolor\":\"#E5ECF6\",\"polar\":{\"bgcolor\":\"#E5ECF6\",\"angularaxis\":{\"gridcolor\":\"white\",\"linecolor\":\"white\",\"ticks\":\"\"},\"radialaxis\":{\"gridcolor\":\"white\",\"linecolor\":\"white\",\"ticks\":\"\"}},\"ternary\":{\"bgcolor\":\"#E5ECF6\",\"aaxis\":{\"gridcolor\":\"white\",\"linecolor\":\"white\",\"ticks\":\"\"},\"baxis\":{\"gridcolor\":\"white\",\"linecolor\":\"white\",\"ticks\":\"\"},\"caxis\":{\"gridcolor\":\"white\",\"linecolor\":\"white\",\"ticks\":\"\"}},\"coloraxis\":{\"colorbar\":{\"outlinewidth\":0,\"ticks\":\"\"}},\"colorscale\":{\"sequential\":[[0.0,\"#0d0887\"],[0.1111111111111111,\"#46039f\"],[0.2222222222222222,\"#7201a8\"],[0.3333333333333333,\"#9c179e\"],[0.4444444444444444,\"#bd3786\"],[0.5555555555555556,\"#d8576b\"],[0.6666666666666666,\"#ed7953\"],[0.7777777777777778,\"#fb9f3a\"],[0.8888888888888888,\"#fdca26\"],[1.0,\"#f0f921\"]],\"sequentialminus\":[[0.0,\"#0d0887\"],[0.1111111111111111,\"#46039f\"],[0.2222222222222222,\"#7201a8\"],[0.3333333333333333,\"#9c179e\"],[0.4444444444444444,\"#bd3786\"],[0.5555555555555556,\"#d8576b\"],[0.6666666666666666,\"#ed7953\"],[0.7777777777777778,\"#fb9f3a\"],[0.8888888888888888,\"#fdca26\"],[1.0,\"#f0f921\"]],\"diverging\":[[0,\"#8e0152\"],[0.1,\"#c51b7d\"],[0.2,\"#de77ae\"],[0.3,\"#f1b6da\"],[0.4,\"#fde0ef\"],[0.5,\"#f7f7f7\"],[0.6,\"#e6f5d0\"],[0.7,\"#b8e186\"],[0.8,\"#7fbc41\"],[0.9,\"#4d9221\"],[1,\"#276419\"]]},\"xaxis\":{\"gridcolor\":\"white\",\"linecolor\":\"white\",\"ticks\":\"\",\"title\":{\"standoff\":15},\"zerolinecolor\":\"white\",\"automargin\":true,\"zerolinewidth\":2},\"yaxis\":{\"gridcolor\":\"white\",\"linecolor\":\"white\",\"ticks\":\"\",\"title\":{\"standoff\":15},\"zerolinecolor\":\"white\",\"automargin\":true,\"zerolinewidth\":2},\"scene\":{\"xaxis\":{\"backgroundcolor\":\"#E5ECF6\",\"gridcolor\":\"white\",\"linecolor\":\"white\",\"showbackground\":true,\"ticks\":\"\",\"zerolinecolor\":\"white\",\"gridwidth\":2},\"yaxis\":{\"backgroundcolor\":\"#E5ECF6\",\"gridcolor\":\"white\",\"linecolor\":\"white\",\"showbackground\":true,\"ticks\":\"\",\"zerolinecolor\":\"white\",\"gridwidth\":2},\"zaxis\":{\"backgroundcolor\":\"#E5ECF6\",\"gridcolor\":\"white\",\"linecolor\":\"white\",\"showbackground\":true,\"ticks\":\"\",\"zerolinecolor\":\"white\",\"gridwidth\":2}},\"shapedefaults\":{\"line\":{\"color\":\"#2a3f5f\"}},\"annotationdefaults\":{\"arrowcolor\":\"#2a3f5f\",\"arrowhead\":0,\"arrowwidth\":1},\"geo\":{\"bgcolor\":\"white\",\"landcolor\":\"#E5ECF6\",\"subunitcolor\":\"white\",\"showland\":true,\"showlakes\":true,\"lakecolor\":\"white\"},\"title\":{\"x\":0.05},\"mapbox\":{\"style\":\"light\"}}},\"xaxis\":{\"anchor\":\"y\",\"domain\":[0.0,1.0],\"title\":{\"text\":\"Age Category\"}},\"yaxis\":{\"anchor\":\"x\",\"domain\":[0.0,1.0],\"title\":{\"text\":\"Number of Sexual Partners\"}},\"legend\":{\"tracegroupgap\":0},\"margin\":{\"t\":60},\"boxmode\":\"group\",\"title\":{\"text\":\"Distribution of number of sexual partners per age group\"}},                        {\"responsive\": true}                    ).then(function(){\n",
              "                            \n",
              "var gd = document.getElementById('65914068-9556-4d05-b739-b962db59c5ef');\n",
              "var x = new MutationObserver(function (mutations, observer) {{\n",
              "        var display = window.getComputedStyle(gd).display;\n",
              "        if (!display || display === 'none') {{\n",
              "            console.log([gd, 'removed!']);\n",
              "            Plotly.purge(gd);\n",
              "            observer.disconnect();\n",
              "        }}\n",
              "}});\n",
              "\n",
              "// Listen for the removal of the full notebook cells\n",
              "var notebookContainer = gd.closest('#notebook-container');\n",
              "if (notebookContainer) {{\n",
              "    x.observe(notebookContainer, {childList: true});\n",
              "}}\n",
              "\n",
              "// Listen for the clearing of the current output cell\n",
              "var outputEl = gd.closest('.output');\n",
              "if (outputEl) {{\n",
              "    x.observe(outputEl, {childList: true});\n",
              "}}\n",
              "\n",
              "                        })                };                            </script>        </div>\n",
              "</body>\n",
              "</html>"
            ]
          },
          "metadata": {},
          "output_type": "display_data"
        }
      ],
      "source": [
        "# Mayo Risk factors - sexual partners, sexual activity, STIs, immune system, smoking, exposure to drugs\n",
        "\n",
        "label = 'age_cat'\n",
        "# Plotting a box plot to visualize the distribution of the number of sexual partners across different age groups.\n",
        "# The data is sorted by age and plotted with outliers, using a blue color for the data points.\n",
        "age_num_sex_partners = px.box(risk_factor_df.sort_values(by=\"Age\", ascending=True), x=\"age_cat\", y=\"Number of sexual partners\",\n",
        "                      color_discrete_sequence=[\"blue\"], points=\"outliers\",\n",
        "                      category_orders=[\"Teenager\", \"Twenties\", \"Thirties\", \"Forties\", \"Fifties\",\n",
        "                                       \"Seventy and over\"])\n",
        "# Updating axis titles for better readability and clarity.\n",
        "age_num_sex_partners.update_xaxes(title=\"Age Category\")\n",
        "age_num_sex_partners.update_yaxes(title=\"Number of Sexual Partners\")\n",
        "# Updating the layout to add a title to the plot.\n",
        "age_num_sex_partners.update_layout(title=\"Distribution of number of sexual partners per age group\")\n",
        "# Displaying the plot.\n",
        "age_num_sex_partners.show()"
      ]
    },
    {
      "cell_type": "code",
      "execution_count": null,
      "metadata": {
        "colab": {
          "base_uri": "https://localhost:8080/",
          "height": 542
        },
        "id": "P8SWByZWARso",
        "outputId": "20886349-45d5-4582-f9a0-10aacf37de7a"
      },
      "outputs": [
        {
          "data": {
            "text/html": [
              "<html>\n",
              "<head><meta charset=\"utf-8\" /></head>\n",
              "<body>\n",
              "    <div>            <script src=\"https://cdnjs.cloudflare.com/ajax/libs/mathjax/2.7.5/MathJax.js?config=TeX-AMS-MML_SVG\"></script><script type=\"text/javascript\">if (window.MathJax && window.MathJax.Hub && window.MathJax.Hub.Config) {window.MathJax.Hub.Config({SVG: {font: \"STIX-Web\"}});}</script>                <script type=\"text/javascript\">window.PlotlyConfig = {MathJaxConfig: 'local'};</script>\n",
              "        <script charset=\"utf-8\" src=\"https://cdn.plot.ly/plotly-2.24.1.min.js\"></script>                <div id=\"7c95800a-1079-4027-bcaf-28883b313bb7\" class=\"plotly-graph-div\" style=\"height:525px; width:100%;\"></div>            <script type=\"text/javascript\">                                    window.PLOTLYENV=window.PLOTLYENV || {};                                    if (document.getElementById(\"7c95800a-1079-4027-bcaf-28883b313bb7\")) {                    Plotly.newPlot(                        \"7c95800a-1079-4027-bcaf-28883b313bb7\",                        [{\"hovertemplate\":\"Age=%{x}\\u003cbr\\u003eNumber of sexual partners=%{y}\\u003cbr\\u003eNum of pregnancies=%{marker.color}\\u003cextra\\u003e\\u003c\\u002fextra\\u003e\",\"legendgroup\":\"\",\"marker\":{\"color\":[1,1,1,4,4,2,6,3,5,2,4,3,6,2,5,2,3,8,2,2,4,4,1,2,3,1,2,4,1,1,3,2,5,3,2,5,4,1,4,3,5,2,3,3,3,4,3,3,4,3,4,1,3,4,3,5,4,6,6,4,3,5,1,2,4,3,3,2,2,2,3,3,2,2,2,2,5,1,6,3,3,3,2,2,3,1,2,2,2,2,6,5,3,2,2,2,2,2,5,2,7,4,2,4,3,4,2,1,2,1,1,2,2,2,4,3,2,3,2,3,4,3,4,2,4,4,2,4,1,6,6,3,2,2,3,2,3,3,1,3,2,1,3,2,1,6,3,5,5,5,2,2,2,2,3,2,2,2,2,2,3,2,3,4,2,2,2,2,3,4,3,2,2,3,5,3,1,2,4,2,2,1,4,3,2,2,2,3,2,2,3,2,4,1,3,2,3,2,2,2,2,4,2,2,2,2,2,2,1,2,4,1,3,6,3,1,3,2,4,1,2,2,3,2,4,3,1,3,3,4,1,5,1,2,2,1,3,1,5,2,3,1,1,1,3,1,2,2,2,1,2,2,1,2,1,2,1,1,1,1,4,1,2,7,2,2,1,3,3,2,1,2,2,2,1,1,3,1,2,1,2,1,1,3,1,2,2,3,2,2,2,2,3,1,2,1,1,2,3,1,3,1,3,2,2,1,1,1,3,2,1,4,3,3,2,2,2,1,1,2,1,1,2,2,4,1,1,1,1,5,1,4,5,4,2,4,2,7,3,1,1,1,1,1,1,1,1,2,2,2,2,2,1,2,4,4,1,2,1,4,2,1,2,1,2,2,1,1,1,1,1,1,3,2,2,3,2,4,1,1,1,2,1,3,2,3,3,1,3,1,1,2,1,1,1,1,1,2,2,3,1,3,1,1,2,1,1,2,2,1,3,1,1,5,1,2,2,2,2,1,1,2,2,2,1,1,1,1,1,2,1,2,1,1,2,1,1,1,2,2,1,1,1,1,1,1,1,1,1,1,2,1,1,1,1,2,1,1,1,1,1,2,1,2,2,2,1,1,1,1,4,1,3,4,6,2,2,2,1,2,8,2,4,4,1,3,2,2,2,2,1,1,3,1,1,3,3,3,1,5,1,2,2,5,1,3,4,1,2,1,1,1,1,1,1,4,1,2,2,1,2,2,1,2,3,1,4,1,3,3,1,1,1,1,1,1,1,2,2,1,1,1,1,2,2,2,1,1,2,3,1,3,1,4,1,3,4,3,1,2,3,2,3,1,1,1,3,3,1,1,2,2,3,2,2,1,2,1,1,4,1,2,2,1,1,2,1,6,7,4,2,1,2,1,1,2,1,2,1,1,1,2,2,3,2,1,5,1,1,3,3,1,1,2,1,6,2,1,1,4,2,5,3,2,2,1,3,3,6,3,4,2,2,2,3,5,5,6,1,1,3,2,4,1,2,4,1,3,1,2,2,2,2,2,2,0,3,2,2,3,1,1,5,3,4,1,1,5,11,2,3,5,0,4,4,2,3,0,1,7,2,0,10,3,6,6,2,4,4,2,2,2,2,2,2,2,2,2,2,2,2,2,2,2,2,2,2,2,2,1,1,2,1,1,2,1,2,4,1,3,3,4,1,1,2,1,3,2,2,1,2,1,2,4,3,1,4,2,2,2,7,2,2,6,2,2,5,1,3,1,1,3,5,1,4,1,3,3,1,2,2,5,1,5,3,4,2,1,1,2,4,3,1,2,3,3,1,1,1,4,1,2,2,1,3,2,2,3,5,1,2,2,1,1,1,3,5,3,2,2,1,3,1,1,2,5,1,2,2,2,2,2,2,2,2,2,2,2,2,2,2,1,2,0,2,1,0,3,0,4,4,2,0,0,0,0,0,1,3,1,3,0,3,3,1,2,1,1,1,1,0,2,3,0,1,0,2,1],\"coloraxis\":\"coloraxis\",\"opacity\":0.4,\"symbol\":\"circle\"},\"mode\":\"markers\",\"name\":\"\",\"orientation\":\"v\",\"showlegend\":false,\"x\":[18,15,34,52,46,42,51,26,45,44,44,27,45,44,43,40,41,43,42,40,43,41,40,40,40,44,39,39,37,37,41,40,37,37,38,37,39,37,39,36,37,37,36,36,37,36,36,40,41,37,36,36,36,35,36,41,35,33,35,35,34,35,35,33,38,37,34,36,35,35,36,34,34,35,35,35,34,33,35,35,33,31,32,32,36,34,36,35,32,33,36,35,33,33,33,31,35,35,31,33,34,30,31,38,33,34,30,33,32,32,32,32,30,23,34,34,31,30,30,28,33,30,31,29,30,31,31,29,29,30,28,30,30,33,30,27,31,29,29,30,30,20,31,28,30,31,30,29,33,31,28,30,26,26,27,28,27,29,32,27,28,28,28,28,29,30,29,27,29,18,26,26,29,29,28,26,27,27,27,30,26,27,25,28,26,28,25,28,27,25,28,29,27,26,25,26,28,26,27,27,26,26,27,28,21,25,28,26,27,25,25,27,26,28,30,25,29,26,28,23,25,25,30,23,24,28,26,25,31,27,23,26,23,24,25,25,24,24,29,28,24,24,30,25,25,22,28,23,25,22,25,23,24,23,25,25,24,22,21,23,28,21,23,23,22,21,21,22,23,26,21,24,23,24,24,21,21,20,22,22,23,21,21,25,22,26,21,22,23,26,21,23,22,21,23,23,24,21,24,23,23,20,23,25,23,20,26,23,25,23,23,24,23,24,21,20,24,20,23,23,22,22,20,22,33,20,21,20,20,23,21,27,31,22,21,29,22,48,20,20,19,19,21,20,18,22,19,19,19,21,20,19,19,21,45,19,18,22,21,37,24,20,20,18,19,20,19,19,20,18,21,24,21,23,21,22,41,20,18,21,18,19,25,19,18,21,18,22,20,17,20,17,19,19,20,18,18,19,18,21,17,21,18,17,18,17,17,17,17,17,20,17,18,35,20,18,18,19,17,19,18,26,18,17,20,16,18,20,16,18,19,18,31,16,20,17,16,16,20,18,15,15,16,15,18,16,18,17,17,18,16,16,17,15,15,18,16,15,16,14,14,15,17,14,16,17,15,16,15,15,39,18,35,41,33,19,38,38,29,28,30,31,39,20,25,23,28,28,24,19,25,19,34,18,20,25,27,24,34,32,39,32,24,37,26,23,36,18,31,25,15,16,34,18,27,31,20,29,24,19,17,42,16,32,33,17,27,22,30,33,21,19,24,26,18,22,16,24,24,18,20,27,19,16,17,29,21,25,17,34,20,33,18,33,15,26,40,27,22,20,38,21,23,36,26,24,27,25,24,44,30,22,25,29,23,17,27,20,19,36,17,17,20,23,30,33,19,35,45,41,17,21,23,15,20,22,18,19,17,20,28,28,34,26,23,20,29,30,19,26,21,23,21,23,24,35,25,19,19,23,24,31,36,22,19,18,32,23,41,24,26,20,21,22,27,36,37,28,21,17,32,39,28,15,23,27,16,22,18,32,26,41,59,21,45,21,23,22,18,27,16,23,28,23,38,21,17,79,84,38,47,52,13,48,42,45,70,46,32,50,49,42,70,39,46,49,35,33,28,24,15,26,18,18,28,29,19,18,27,18,28,29,26,17,41,44,18,21,22,25,27,19,23,16,29,15,19,37,21,40,26,34,23,19,30,21,29,31,32,23,40,23,26,31,30,15,36,20,27,28,40,19,19,29,17,16,24,21,25,29,18,41,34,20,28,30,25,24,30,18,17,31,19,41,23,25,21,15,26,26,24,34,18,16,43,27,17,37,19,34,18,33,29,18,25,28,25,22,38,20,24,15,23,24,20,35,31,33,25,19,23,35,15,18,29,34,17,36,29,29,19,17,14,20,16,30,21,29,35,14,24,31,36,33,36,42,33,35,33,34,35,40,30,34,30,24,37,31,35,31,24,23,36,30,26,19,35,30,31,32,19,23,43,34,32,25,33,29],\"xaxis\":\"x\",\"y\":[4,1,1,5,3,3,3,1,1,3,3,1,4,2,2,3,4,3,2,2,2,3,1,1,3,3,5,2,3,6,3,2,3,3,2,3,2,2,1,2,2,2,3,3,3,1,2,2,2,3,3,2,5,3,1,4,5,3,2,3,3,3,1,1,2,3,3,4,3,5,4,2,2,2,2,2,5,3,3,2,1,3,2,3,2,1,2,5,3,1,1,3,4,1,3,4,5,1,1,3,3,5,3,3,2,4,4,5,2,2,3,7,3,5,3,3,3,3,2,3,1,5,3,5,3,3,2,2,1,2,2,2,2,4,3,3,2,4,1,2,1,3,3,1,2,3,4,4,3,3,2,1,3,2,2,4,1,2,2,2,2,2,1,5,2,3,1,2,4,3,3,2,2,3,3,1,1,3,4,1,2,2,3,2,1,2,15,3,5,2,8,3,2,10,4,2,3,5,1,2,7,4,2,2,1,3,2,3,4,3,5,1,3,3,1,1,3,1,3,4,2,2,1,1,2,6,1,4,2,3,2,3,3,2,2,2,2,2,4,3,1,2,1,6,3,1,2,1,2,3,2,1,2,1,3,2,4,3,5,8,2,2,2,2,2,2,2,2,2,1,1,3,2,3,2,3,4,1,2,2,2,4,1,3,1,2,4,3,2,2,1,1,2,1,1,1,3,1,1,3,2,2,4,3,2,5,3,1,2,4,2,4,2,5,1,3,2,1,2,1,3,2,2,2,2,1,1,2,4,1,1,1,1,3,2,2,1,2,5,2,3,1,2,1,1,4,4,2,1,3,1,4,4,2,2,3,1,2,1,2,1,4,1,1,3,2,3,1,2,1,4,4,5,2,5,1,3,2,2,2,3,3,5,2,1,3,2,2,3,1,2,2,1,3,2,1,3,2,2,1,2,1,3,3,2,2,1,2,2,2,2,1,2,3,3,3,1,2,1,4,2,3,2,2,2,2,7,1,1,1,4,1,3,1,3,2,3,1,3,5,1,1,1,1,1,2,3,3,3,1,2,1,1,1,1,1,1,3,2,2,2,3,5,1,1,1,1,28,2,2,5,2,2,3,3,4,2,2,4,1,4,2,1,3,1,1,2,1,1,4,2,1,1,2,1,2,1,3,2,2,4,1,5,3,2,2,1,1,2,2,3,2,3,2,5,4,2,1,3,1,2,2,2,4,1,1,3,2,1,4,4,1,3,2,2,3,1,4,3,1,3,4,3,3,2,3,1,3,2,2,3,3,3,3,4,3,2,2,1,1,1,1,1,1,2,1,2,2,1,2,2,2,2,2,2,2,3,4,1,6,2,2,4,3,2,3,4,3,5,3,2,5,4,2,3,1,1,2,2,2,3,3,3,4,3,2,5,2,2,2,2,2,2,2,1,6,2,2,2,3,3,1,1,1,1,2,3,1,2,1,2,3,2,2,6,2,3,2,1,2,4,2,6,4,1,4,1,2,2,2,2,3,2,1,2,3,1,2,2,3,2,5,3,2,4,1,4,2,3,3,2,2,1,4,3,1,4,1,1,2,3,2,1,2,1,2,5,3,5,1,1,2,1,2,2,4,2,2,4,5,1,2,4,1,3,3,1,2,1,2,1,2,3,1,2,2,3,2,5,2,2,1,5,1,1,1,3,2,3,5,3,1,2,2,2,1,3,2,6,2,1,2,7,5,4,1,2,1,4,5,3,1,2,1,4,2,4,3,4,3,1,2,2,3,1,5,1,2,2,2,3,2,7,1,4,2,1,4,2,1,5,3,3,1,7,1,6,2,2,1,2,2,3,2,2,3,7,3,4,3,2,3,2,3,8,3,3,2,2,2,1,1,5,1,1,1,2,1,4,1,2,3,3,3,2,3,4,3,2,3,4,3,2,1,3,1,3,9,3,3,2,2,3,3,8,2,2,3,3,3,1,2,3,3,2,2,2,2],\"yaxis\":\"y\",\"type\":\"scatter\"},{\"hovertemplate\":\"\\u003cb\\u003eOLS trendline\\u003c\\u002fb\\u003e\\u003cbr\\u003eNumber of sexual partners = 0.0166396 * Age + 2.06537\\u003cbr\\u003eR\\u003csup\\u003e2\\u003c\\u002fsup\\u003e=0.007391\\u003cbr\\u003e\\u003cbr\\u003eAge=%{x}\\u003cbr\\u003eNumber of sexual partners=%{y} \\u003cb\\u003e(trend)\\u003c\\u002fb\\u003e\\u003cextra\\u003e\\u003c\\u002fextra\\u003e\",\"legendgroup\":\"\",\"marker\":{\"symbol\":\"circle\"},\"mode\":\"lines\",\"name\":\"\",\"showlegend\":false,\"x\":[13,14,14,14,14,14,15,15,15,15,15,15,15,15,15,15,15,15,15,15,15,15,15,15,15,15,15,16,16,16,16,16,16,16,16,16,16,16,16,16,16,16,16,16,16,16,16,16,16,16,17,17,17,17,17,17,17,17,17,17,17,17,17,17,17,17,17,17,17,17,17,17,17,17,17,17,17,17,17,17,17,17,17,17,17,18,18,18,18,18,18,18,18,18,18,18,18,18,18,18,18,18,18,18,18,18,18,18,18,18,18,18,18,18,18,18,18,18,18,18,18,18,18,18,18,18,18,18,18,18,18,18,18,18,18,19,19,19,19,19,19,19,19,19,19,19,19,19,19,19,19,19,19,19,19,19,19,19,19,19,19,19,19,19,19,19,19,19,19,19,19,19,19,19,19,19,19,19,19,20,20,20,20,20,20,20,20,20,20,20,20,20,20,20,20,20,20,20,20,20,20,20,20,20,20,20,20,20,20,20,20,20,20,20,20,20,20,20,20,20,20,20,20,20,21,21,21,21,21,21,21,21,21,21,21,21,21,21,21,21,21,21,21,21,21,21,21,21,21,21,21,21,21,21,21,21,21,21,21,21,21,21,21,21,21,21,21,21,21,21,22,22,22,22,22,22,22,22,22,22,22,22,22,22,22,22,22,22,22,22,22,22,22,22,22,22,22,22,22,22,23,23,23,23,23,23,23,23,23,23,23,23,23,23,23,23,23,23,23,23,23,23,23,23,23,23,23,23,23,23,23,23,23,23,23,23,23,23,23,23,23,23,23,23,23,23,23,23,23,23,23,23,23,23,24,24,24,24,24,24,24,24,24,24,24,24,24,24,24,24,24,24,24,24,24,24,24,24,24,24,24,24,24,24,24,24,24,24,24,24,24,24,24,25,25,25,25,25,25,25,25,25,25,25,25,25,25,25,25,25,25,25,25,25,25,25,25,25,25,25,25,25,25,25,25,25,25,25,25,25,25,25,26,26,26,26,26,26,26,26,26,26,26,26,26,26,26,26,26,26,26,26,26,26,26,26,26,26,26,26,26,26,26,26,26,26,26,26,26,26,27,27,27,27,27,27,27,27,27,27,27,27,27,27,27,27,27,27,27,27,27,27,27,27,27,27,27,27,27,27,27,27,27,28,28,28,28,28,28,28,28,28,28,28,28,28,28,28,28,28,28,28,28,28,28,28,28,28,28,28,28,28,28,28,28,28,28,28,28,28,29,29,29,29,29,29,29,29,29,29,29,29,29,29,29,29,29,29,29,29,29,29,29,29,29,29,29,29,29,29,29,29,29,30,30,30,30,30,30,30,30,30,30,30,30,30,30,30,30,30,30,30,30,30,30,30,30,30,30,30,30,30,30,30,30,30,30,30,31,31,31,31,31,31,31,31,31,31,31,31,31,31,31,31,31,31,31,31,31,31,31,31,31,31,31,32,32,32,32,32,32,32,32,32,32,32,32,32,32,32,32,32,32,33,33,33,33,33,33,33,33,33,33,33,33,33,33,33,33,33,33,33,33,33,33,33,33,33,33,33,33,34,34,34,34,34,34,34,34,34,34,34,34,34,34,34,34,34,34,34,34,34,34,34,34,35,35,35,35,35,35,35,35,35,35,35,35,35,35,35,35,35,35,35,35,35,35,35,35,35,35,35,35,35,36,36,36,36,36,36,36,36,36,36,36,36,36,36,36,36,36,36,36,36,36,36,36,36,37,37,37,37,37,37,37,37,37,37,37,37,37,37,37,37,37,38,38,38,38,38,38,38,38,38,39,39,39,39,39,39,39,39,39,40,40,40,40,40,40,40,40,40,40,40,40,41,41,41,41,41,41,41,41,41,41,41,41,41,42,42,42,42,42,42,43,43,43,43,43,44,44,44,44,44,44,45,45,45,45,45,45,46,46,46,47,48,48,49,49,50,51,52,52,59,70,70,79,84],\"xaxis\":\"x\",\"y\":[2.2816878019244142,2.2983273588436974,2.2983273588436974,2.2983273588436974,2.2983273588436974,2.2983273588436974,2.3149669157629806,2.3149669157629806,2.3149669157629806,2.3149669157629806,2.3149669157629806,2.3149669157629806,2.3149669157629806,2.3149669157629806,2.3149669157629806,2.3149669157629806,2.3149669157629806,2.3149669157629806,2.3149669157629806,2.3149669157629806,2.3149669157629806,2.3149669157629806,2.3149669157629806,2.3149669157629806,2.3149669157629806,2.3149669157629806,2.3149669157629806,2.331606472682264,2.331606472682264,2.331606472682264,2.331606472682264,2.331606472682264,2.331606472682264,2.331606472682264,2.331606472682264,2.331606472682264,2.331606472682264,2.331606472682264,2.331606472682264,2.331606472682264,2.331606472682264,2.331606472682264,2.331606472682264,2.331606472682264,2.331606472682264,2.331606472682264,2.331606472682264,2.331606472682264,2.331606472682264,2.331606472682264,2.348246029601547,2.348246029601547,2.348246029601547,2.348246029601547,2.348246029601547,2.348246029601547,2.348246029601547,2.348246029601547,2.348246029601547,2.348246029601547,2.348246029601547,2.348246029601547,2.348246029601547,2.348246029601547,2.348246029601547,2.348246029601547,2.348246029601547,2.348246029601547,2.348246029601547,2.348246029601547,2.348246029601547,2.348246029601547,2.348246029601547,2.348246029601547,2.348246029601547,2.348246029601547,2.348246029601547,2.348246029601547,2.348246029601547,2.348246029601547,2.348246029601547,2.348246029601547,2.348246029601547,2.348246029601547,2.348246029601547,2.3648855865208303,2.3648855865208303,2.3648855865208303,2.3648855865208303,2.3648855865208303,2.3648855865208303,2.3648855865208303,2.3648855865208303,2.3648855865208303,2.3648855865208303,2.3648855865208303,2.3648855865208303,2.3648855865208303,2.3648855865208303,2.3648855865208303,2.3648855865208303,2.3648855865208303,2.3648855865208303,2.3648855865208303,2.3648855865208303,2.3648855865208303,2.3648855865208303,2.3648855865208303,2.3648855865208303,2.3648855865208303,2.3648855865208303,2.3648855865208303,2.3648855865208303,2.3648855865208303,2.3648855865208303,2.3648855865208303,2.3648855865208303,2.3648855865208303,2.3648855865208303,2.3648855865208303,2.3648855865208303,2.3648855865208303,2.3648855865208303,2.3648855865208303,2.3648855865208303,2.3648855865208303,2.3648855865208303,2.3648855865208303,2.3648855865208303,2.3648855865208303,2.3648855865208303,2.3648855865208303,2.3648855865208303,2.3648855865208303,2.3648855865208303,2.3815251434401135,2.3815251434401135,2.3815251434401135,2.3815251434401135,2.3815251434401135,2.3815251434401135,2.3815251434401135,2.3815251434401135,2.3815251434401135,2.3815251434401135,2.3815251434401135,2.3815251434401135,2.3815251434401135,2.3815251434401135,2.3815251434401135,2.3815251434401135,2.3815251434401135,2.3815251434401135,2.3815251434401135,2.3815251434401135,2.3815251434401135,2.3815251434401135,2.3815251434401135,2.3815251434401135,2.3815251434401135,2.3815251434401135,2.3815251434401135,2.3815251434401135,2.3815251434401135,2.3815251434401135,2.3815251434401135,2.3815251434401135,2.3815251434401135,2.3815251434401135,2.3815251434401135,2.3815251434401135,2.3815251434401135,2.3815251434401135,2.3815251434401135,2.3815251434401135,2.3815251434401135,2.3815251434401135,2.3815251434401135,2.3815251434401135,2.3981647003593967,2.3981647003593967,2.3981647003593967,2.3981647003593967,2.3981647003593967,2.3981647003593967,2.3981647003593967,2.3981647003593967,2.3981647003593967,2.3981647003593967,2.3981647003593967,2.3981647003593967,2.3981647003593967,2.3981647003593967,2.3981647003593967,2.3981647003593967,2.3981647003593967,2.3981647003593967,2.3981647003593967,2.3981647003593967,2.3981647003593967,2.3981647003593967,2.3981647003593967,2.3981647003593967,2.3981647003593967,2.3981647003593967,2.3981647003593967,2.3981647003593967,2.3981647003593967,2.3981647003593967,2.3981647003593967,2.3981647003593967,2.3981647003593967,2.3981647003593967,2.3981647003593967,2.3981647003593967,2.3981647003593967,2.3981647003593967,2.3981647003593967,2.3981647003593967,2.3981647003593967,2.3981647003593967,2.3981647003593967,2.3981647003593967,2.3981647003593967,2.41480425727868,2.41480425727868,2.41480425727868,2.41480425727868,2.41480425727868,2.41480425727868,2.41480425727868,2.41480425727868,2.41480425727868,2.41480425727868,2.41480425727868,2.41480425727868,2.41480425727868,2.41480425727868,2.41480425727868,2.41480425727868,2.41480425727868,2.41480425727868,2.41480425727868,2.41480425727868,2.41480425727868,2.41480425727868,2.41480425727868,2.41480425727868,2.41480425727868,2.41480425727868,2.41480425727868,2.41480425727868,2.41480425727868,2.41480425727868,2.41480425727868,2.41480425727868,2.41480425727868,2.41480425727868,2.41480425727868,2.41480425727868,2.41480425727868,2.41480425727868,2.41480425727868,2.41480425727868,2.41480425727868,2.41480425727868,2.41480425727868,2.41480425727868,2.41480425727868,2.41480425727868,2.431443814197963,2.431443814197963,2.431443814197963,2.431443814197963,2.431443814197963,2.431443814197963,2.431443814197963,2.431443814197963,2.431443814197963,2.431443814197963,2.431443814197963,2.431443814197963,2.431443814197963,2.431443814197963,2.431443814197963,2.431443814197963,2.431443814197963,2.431443814197963,2.431443814197963,2.431443814197963,2.431443814197963,2.431443814197963,2.431443814197963,2.431443814197963,2.431443814197963,2.431443814197963,2.431443814197963,2.431443814197963,2.431443814197963,2.431443814197963,2.4480833711172463,2.4480833711172463,2.4480833711172463,2.4480833711172463,2.4480833711172463,2.4480833711172463,2.4480833711172463,2.4480833711172463,2.4480833711172463,2.4480833711172463,2.4480833711172463,2.4480833711172463,2.4480833711172463,2.4480833711172463,2.4480833711172463,2.4480833711172463,2.4480833711172463,2.4480833711172463,2.4480833711172463,2.4480833711172463,2.4480833711172463,2.4480833711172463,2.4480833711172463,2.4480833711172463,2.4480833711172463,2.4480833711172463,2.4480833711172463,2.4480833711172463,2.4480833711172463,2.4480833711172463,2.4480833711172463,2.4480833711172463,2.4480833711172463,2.4480833711172463,2.4480833711172463,2.4480833711172463,2.4480833711172463,2.4480833711172463,2.4480833711172463,2.4480833711172463,2.4480833711172463,2.4480833711172463,2.4480833711172463,2.4480833711172463,2.4480833711172463,2.4480833711172463,2.4480833711172463,2.4480833711172463,2.4480833711172463,2.4480833711172463,2.4480833711172463,2.4480833711172463,2.4480833711172463,2.4480833711172463,2.4647229280365295,2.4647229280365295,2.4647229280365295,2.4647229280365295,2.4647229280365295,2.4647229280365295,2.4647229280365295,2.4647229280365295,2.4647229280365295,2.4647229280365295,2.4647229280365295,2.4647229280365295,2.4647229280365295,2.4647229280365295,2.4647229280365295,2.4647229280365295,2.4647229280365295,2.4647229280365295,2.4647229280365295,2.4647229280365295,2.4647229280365295,2.4647229280365295,2.4647229280365295,2.4647229280365295,2.4647229280365295,2.4647229280365295,2.4647229280365295,2.4647229280365295,2.4647229280365295,2.4647229280365295,2.4647229280365295,2.4647229280365295,2.4647229280365295,2.4647229280365295,2.4647229280365295,2.4647229280365295,2.4647229280365295,2.4647229280365295,2.4647229280365295,2.4813624849558127,2.4813624849558127,2.4813624849558127,2.4813624849558127,2.4813624849558127,2.4813624849558127,2.4813624849558127,2.4813624849558127,2.4813624849558127,2.4813624849558127,2.4813624849558127,2.4813624849558127,2.4813624849558127,2.4813624849558127,2.4813624849558127,2.4813624849558127,2.4813624849558127,2.4813624849558127,2.4813624849558127,2.4813624849558127,2.4813624849558127,2.4813624849558127,2.4813624849558127,2.4813624849558127,2.4813624849558127,2.4813624849558127,2.4813624849558127,2.4813624849558127,2.4813624849558127,2.4813624849558127,2.4813624849558127,2.4813624849558127,2.4813624849558127,2.4813624849558127,2.4813624849558127,2.4813624849558127,2.4813624849558127,2.4813624849558127,2.4813624849558127,2.498002041875096,2.498002041875096,2.498002041875096,2.498002041875096,2.498002041875096,2.498002041875096,2.498002041875096,2.498002041875096,2.498002041875096,2.498002041875096,2.498002041875096,2.498002041875096,2.498002041875096,2.498002041875096,2.498002041875096,2.498002041875096,2.498002041875096,2.498002041875096,2.498002041875096,2.498002041875096,2.498002041875096,2.498002041875096,2.498002041875096,2.498002041875096,2.498002041875096,2.498002041875096,2.498002041875096,2.498002041875096,2.498002041875096,2.498002041875096,2.498002041875096,2.498002041875096,2.498002041875096,2.498002041875096,2.498002041875096,2.498002041875096,2.498002041875096,2.498002041875096,2.5146415987943795,2.5146415987943795,2.5146415987943795,2.5146415987943795,2.5146415987943795,2.5146415987943795,2.5146415987943795,2.5146415987943795,2.5146415987943795,2.5146415987943795,2.5146415987943795,2.5146415987943795,2.5146415987943795,2.5146415987943795,2.5146415987943795,2.5146415987943795,2.5146415987943795,2.5146415987943795,2.5146415987943795,2.5146415987943795,2.5146415987943795,2.5146415987943795,2.5146415987943795,2.5146415987943795,2.5146415987943795,2.5146415987943795,2.5146415987943795,2.5146415987943795,2.5146415987943795,2.5146415987943795,2.5146415987943795,2.5146415987943795,2.5146415987943795,2.5312811557136623,2.5312811557136623,2.5312811557136623,2.5312811557136623,2.5312811557136623,2.5312811557136623,2.5312811557136623,2.5312811557136623,2.5312811557136623,2.5312811557136623,2.5312811557136623,2.5312811557136623,2.5312811557136623,2.5312811557136623,2.5312811557136623,2.5312811557136623,2.5312811557136623,2.5312811557136623,2.5312811557136623,2.5312811557136623,2.5312811557136623,2.5312811557136623,2.5312811557136623,2.5312811557136623,2.5312811557136623,2.5312811557136623,2.5312811557136623,2.5312811557136623,2.5312811557136623,2.5312811557136623,2.5312811557136623,2.5312811557136623,2.5312811557136623,2.5312811557136623,2.5312811557136623,2.5312811557136623,2.5312811557136623,2.547920712632946,2.547920712632946,2.547920712632946,2.547920712632946,2.547920712632946,2.547920712632946,2.547920712632946,2.547920712632946,2.547920712632946,2.547920712632946,2.547920712632946,2.547920712632946,2.547920712632946,2.547920712632946,2.547920712632946,2.547920712632946,2.547920712632946,2.547920712632946,2.547920712632946,2.547920712632946,2.547920712632946,2.547920712632946,2.547920712632946,2.547920712632946,2.547920712632946,2.547920712632946,2.547920712632946,2.547920712632946,2.547920712632946,2.547920712632946,2.547920712632946,2.547920712632946,2.547920712632946,2.564560269552229,2.564560269552229,2.564560269552229,2.564560269552229,2.564560269552229,2.564560269552229,2.564560269552229,2.564560269552229,2.564560269552229,2.564560269552229,2.564560269552229,2.564560269552229,2.564560269552229,2.564560269552229,2.564560269552229,2.564560269552229,2.564560269552229,2.564560269552229,2.564560269552229,2.564560269552229,2.564560269552229,2.564560269552229,2.564560269552229,2.564560269552229,2.564560269552229,2.564560269552229,2.564560269552229,2.564560269552229,2.564560269552229,2.564560269552229,2.564560269552229,2.564560269552229,2.564560269552229,2.564560269552229,2.564560269552229,2.5811998264715124,2.5811998264715124,2.5811998264715124,2.5811998264715124,2.5811998264715124,2.5811998264715124,2.5811998264715124,2.5811998264715124,2.5811998264715124,2.5811998264715124,2.5811998264715124,2.5811998264715124,2.5811998264715124,2.5811998264715124,2.5811998264715124,2.5811998264715124,2.5811998264715124,2.5811998264715124,2.5811998264715124,2.5811998264715124,2.5811998264715124,2.5811998264715124,2.5811998264715124,2.5811998264715124,2.5811998264715124,2.5811998264715124,2.5811998264715124,2.5978393833907956,2.5978393833907956,2.5978393833907956,2.5978393833907956,2.5978393833907956,2.5978393833907956,2.5978393833907956,2.5978393833907956,2.5978393833907956,2.5978393833907956,2.5978393833907956,2.5978393833907956,2.5978393833907956,2.5978393833907956,2.5978393833907956,2.5978393833907956,2.5978393833907956,2.5978393833907956,2.6144789403100788,2.6144789403100788,2.6144789403100788,2.6144789403100788,2.6144789403100788,2.6144789403100788,2.6144789403100788,2.6144789403100788,2.6144789403100788,2.6144789403100788,2.6144789403100788,2.6144789403100788,2.6144789403100788,2.6144789403100788,2.6144789403100788,2.6144789403100788,2.6144789403100788,2.6144789403100788,2.6144789403100788,2.6144789403100788,2.6144789403100788,2.6144789403100788,2.6144789403100788,2.6144789403100788,2.6144789403100788,2.6144789403100788,2.6144789403100788,2.6144789403100788,2.631118497229362,2.631118497229362,2.631118497229362,2.631118497229362,2.631118497229362,2.631118497229362,2.631118497229362,2.631118497229362,2.631118497229362,2.631118497229362,2.631118497229362,2.631118497229362,2.631118497229362,2.631118497229362,2.631118497229362,2.631118497229362,2.631118497229362,2.631118497229362,2.631118497229362,2.631118497229362,2.631118497229362,2.631118497229362,2.631118497229362,2.631118497229362,2.647758054148645,2.647758054148645,2.647758054148645,2.647758054148645,2.647758054148645,2.647758054148645,2.647758054148645,2.647758054148645,2.647758054148645,2.647758054148645,2.647758054148645,2.647758054148645,2.647758054148645,2.647758054148645,2.647758054148645,2.647758054148645,2.647758054148645,2.647758054148645,2.647758054148645,2.647758054148645,2.647758054148645,2.647758054148645,2.647758054148645,2.647758054148645,2.647758054148645,2.647758054148645,2.647758054148645,2.647758054148645,2.647758054148645,2.6643976110679284,2.6643976110679284,2.6643976110679284,2.6643976110679284,2.6643976110679284,2.6643976110679284,2.6643976110679284,2.6643976110679284,2.6643976110679284,2.6643976110679284,2.6643976110679284,2.6643976110679284,2.6643976110679284,2.6643976110679284,2.6643976110679284,2.6643976110679284,2.6643976110679284,2.6643976110679284,2.6643976110679284,2.6643976110679284,2.6643976110679284,2.6643976110679284,2.6643976110679284,2.6643976110679284,2.6810371679872116,2.6810371679872116,2.6810371679872116,2.6810371679872116,2.6810371679872116,2.6810371679872116,2.6810371679872116,2.6810371679872116,2.6810371679872116,2.6810371679872116,2.6810371679872116,2.6810371679872116,2.6810371679872116,2.6810371679872116,2.6810371679872116,2.6810371679872116,2.6810371679872116,2.697676724906495,2.697676724906495,2.697676724906495,2.697676724906495,2.697676724906495,2.697676724906495,2.697676724906495,2.697676724906495,2.697676724906495,2.714316281825778,2.714316281825778,2.714316281825778,2.714316281825778,2.714316281825778,2.714316281825778,2.714316281825778,2.714316281825778,2.714316281825778,2.730955838745061,2.730955838745061,2.730955838745061,2.730955838745061,2.730955838745061,2.730955838745061,2.730955838745061,2.730955838745061,2.730955838745061,2.730955838745061,2.730955838745061,2.730955838745061,2.7475953956643444,2.7475953956643444,2.7475953956643444,2.7475953956643444,2.7475953956643444,2.7475953956643444,2.7475953956643444,2.7475953956643444,2.7475953956643444,2.7475953956643444,2.7475953956643444,2.7475953956643444,2.7475953956643444,2.7642349525836276,2.7642349525836276,2.7642349525836276,2.7642349525836276,2.7642349525836276,2.7642349525836276,2.780874509502911,2.780874509502911,2.780874509502911,2.780874509502911,2.780874509502911,2.7975140664221945,2.7975140664221945,2.7975140664221945,2.7975140664221945,2.7975140664221945,2.7975140664221945,2.8141536233414772,2.8141536233414772,2.8141536233414772,2.8141536233414772,2.8141536233414772,2.8141536233414772,2.830793180260761,2.830793180260761,2.830793180260761,2.8474327371800436,2.8640722940993273,2.8640722940993273,2.8807118510186105,2.8807118510186105,2.8973514079378937,2.913990964857177,2.93063052177646,2.93063052177646,3.0471074202114425,3.2301425463235582,3.2301425463235582,3.379898558597107,3.4630963431935236],\"yaxis\":\"y\",\"type\":\"scatter\"}],                        {\"template\":{\"data\":{\"histogram2dcontour\":[{\"type\":\"histogram2dcontour\",\"colorbar\":{\"outlinewidth\":0,\"ticks\":\"\"},\"colorscale\":[[0.0,\"#0d0887\"],[0.1111111111111111,\"#46039f\"],[0.2222222222222222,\"#7201a8\"],[0.3333333333333333,\"#9c179e\"],[0.4444444444444444,\"#bd3786\"],[0.5555555555555556,\"#d8576b\"],[0.6666666666666666,\"#ed7953\"],[0.7777777777777778,\"#fb9f3a\"],[0.8888888888888888,\"#fdca26\"],[1.0,\"#f0f921\"]]}],\"choropleth\":[{\"type\":\"choropleth\",\"colorbar\":{\"outlinewidth\":0,\"ticks\":\"\"}}],\"histogram2d\":[{\"type\":\"histogram2d\",\"colorbar\":{\"outlinewidth\":0,\"ticks\":\"\"},\"colorscale\":[[0.0,\"#0d0887\"],[0.1111111111111111,\"#46039f\"],[0.2222222222222222,\"#7201a8\"],[0.3333333333333333,\"#9c179e\"],[0.4444444444444444,\"#bd3786\"],[0.5555555555555556,\"#d8576b\"],[0.6666666666666666,\"#ed7953\"],[0.7777777777777778,\"#fb9f3a\"],[0.8888888888888888,\"#fdca26\"],[1.0,\"#f0f921\"]]}],\"heatmap\":[{\"type\":\"heatmap\",\"colorbar\":{\"outlinewidth\":0,\"ticks\":\"\"},\"colorscale\":[[0.0,\"#0d0887\"],[0.1111111111111111,\"#46039f\"],[0.2222222222222222,\"#7201a8\"],[0.3333333333333333,\"#9c179e\"],[0.4444444444444444,\"#bd3786\"],[0.5555555555555556,\"#d8576b\"],[0.6666666666666666,\"#ed7953\"],[0.7777777777777778,\"#fb9f3a\"],[0.8888888888888888,\"#fdca26\"],[1.0,\"#f0f921\"]]}],\"heatmapgl\":[{\"type\":\"heatmapgl\",\"colorbar\":{\"outlinewidth\":0,\"ticks\":\"\"},\"colorscale\":[[0.0,\"#0d0887\"],[0.1111111111111111,\"#46039f\"],[0.2222222222222222,\"#7201a8\"],[0.3333333333333333,\"#9c179e\"],[0.4444444444444444,\"#bd3786\"],[0.5555555555555556,\"#d8576b\"],[0.6666666666666666,\"#ed7953\"],[0.7777777777777778,\"#fb9f3a\"],[0.8888888888888888,\"#fdca26\"],[1.0,\"#f0f921\"]]}],\"contourcarpet\":[{\"type\":\"contourcarpet\",\"colorbar\":{\"outlinewidth\":0,\"ticks\":\"\"}}],\"contour\":[{\"type\":\"contour\",\"colorbar\":{\"outlinewidth\":0,\"ticks\":\"\"},\"colorscale\":[[0.0,\"#0d0887\"],[0.1111111111111111,\"#46039f\"],[0.2222222222222222,\"#7201a8\"],[0.3333333333333333,\"#9c179e\"],[0.4444444444444444,\"#bd3786\"],[0.5555555555555556,\"#d8576b\"],[0.6666666666666666,\"#ed7953\"],[0.7777777777777778,\"#fb9f3a\"],[0.8888888888888888,\"#fdca26\"],[1.0,\"#f0f921\"]]}],\"surface\":[{\"type\":\"surface\",\"colorbar\":{\"outlinewidth\":0,\"ticks\":\"\"},\"colorscale\":[[0.0,\"#0d0887\"],[0.1111111111111111,\"#46039f\"],[0.2222222222222222,\"#7201a8\"],[0.3333333333333333,\"#9c179e\"],[0.4444444444444444,\"#bd3786\"],[0.5555555555555556,\"#d8576b\"],[0.6666666666666666,\"#ed7953\"],[0.7777777777777778,\"#fb9f3a\"],[0.8888888888888888,\"#fdca26\"],[1.0,\"#f0f921\"]]}],\"mesh3d\":[{\"type\":\"mesh3d\",\"colorbar\":{\"outlinewidth\":0,\"ticks\":\"\"}}],\"scatter\":[{\"fillpattern\":{\"fillmode\":\"overlay\",\"size\":10,\"solidity\":0.2},\"type\":\"scatter\"}],\"parcoords\":[{\"type\":\"parcoords\",\"line\":{\"colorbar\":{\"outlinewidth\":0,\"ticks\":\"\"}}}],\"scatterpolargl\":[{\"type\":\"scatterpolargl\",\"marker\":{\"colorbar\":{\"outlinewidth\":0,\"ticks\":\"\"}}}],\"bar\":[{\"error_x\":{\"color\":\"#2a3f5f\"},\"error_y\":{\"color\":\"#2a3f5f\"},\"marker\":{\"line\":{\"color\":\"#E5ECF6\",\"width\":0.5},\"pattern\":{\"fillmode\":\"overlay\",\"size\":10,\"solidity\":0.2}},\"type\":\"bar\"}],\"scattergeo\":[{\"type\":\"scattergeo\",\"marker\":{\"colorbar\":{\"outlinewidth\":0,\"ticks\":\"\"}}}],\"scatterpolar\":[{\"type\":\"scatterpolar\",\"marker\":{\"colorbar\":{\"outlinewidth\":0,\"ticks\":\"\"}}}],\"histogram\":[{\"marker\":{\"pattern\":{\"fillmode\":\"overlay\",\"size\":10,\"solidity\":0.2}},\"type\":\"histogram\"}],\"scattergl\":[{\"type\":\"scattergl\",\"marker\":{\"colorbar\":{\"outlinewidth\":0,\"ticks\":\"\"}}}],\"scatter3d\":[{\"type\":\"scatter3d\",\"line\":{\"colorbar\":{\"outlinewidth\":0,\"ticks\":\"\"}},\"marker\":{\"colorbar\":{\"outlinewidth\":0,\"ticks\":\"\"}}}],\"scattermapbox\":[{\"type\":\"scattermapbox\",\"marker\":{\"colorbar\":{\"outlinewidth\":0,\"ticks\":\"\"}}}],\"scatterternary\":[{\"type\":\"scatterternary\",\"marker\":{\"colorbar\":{\"outlinewidth\":0,\"ticks\":\"\"}}}],\"scattercarpet\":[{\"type\":\"scattercarpet\",\"marker\":{\"colorbar\":{\"outlinewidth\":0,\"ticks\":\"\"}}}],\"carpet\":[{\"aaxis\":{\"endlinecolor\":\"#2a3f5f\",\"gridcolor\":\"white\",\"linecolor\":\"white\",\"minorgridcolor\":\"white\",\"startlinecolor\":\"#2a3f5f\"},\"baxis\":{\"endlinecolor\":\"#2a3f5f\",\"gridcolor\":\"white\",\"linecolor\":\"white\",\"minorgridcolor\":\"white\",\"startlinecolor\":\"#2a3f5f\"},\"type\":\"carpet\"}],\"table\":[{\"cells\":{\"fill\":{\"color\":\"#EBF0F8\"},\"line\":{\"color\":\"white\"}},\"header\":{\"fill\":{\"color\":\"#C8D4E3\"},\"line\":{\"color\":\"white\"}},\"type\":\"table\"}],\"barpolar\":[{\"marker\":{\"line\":{\"color\":\"#E5ECF6\",\"width\":0.5},\"pattern\":{\"fillmode\":\"overlay\",\"size\":10,\"solidity\":0.2}},\"type\":\"barpolar\"}],\"pie\":[{\"automargin\":true,\"type\":\"pie\"}]},\"layout\":{\"autotypenumbers\":\"strict\",\"colorway\":[\"#636efa\",\"#EF553B\",\"#00cc96\",\"#ab63fa\",\"#FFA15A\",\"#19d3f3\",\"#FF6692\",\"#B6E880\",\"#FF97FF\",\"#FECB52\"],\"font\":{\"color\":\"#2a3f5f\"},\"hovermode\":\"closest\",\"hoverlabel\":{\"align\":\"left\"},\"paper_bgcolor\":\"white\",\"plot_bgcolor\":\"#E5ECF6\",\"polar\":{\"bgcolor\":\"#E5ECF6\",\"angularaxis\":{\"gridcolor\":\"white\",\"linecolor\":\"white\",\"ticks\":\"\"},\"radialaxis\":{\"gridcolor\":\"white\",\"linecolor\":\"white\",\"ticks\":\"\"}},\"ternary\":{\"bgcolor\":\"#E5ECF6\",\"aaxis\":{\"gridcolor\":\"white\",\"linecolor\":\"white\",\"ticks\":\"\"},\"baxis\":{\"gridcolor\":\"white\",\"linecolor\":\"white\",\"ticks\":\"\"},\"caxis\":{\"gridcolor\":\"white\",\"linecolor\":\"white\",\"ticks\":\"\"}},\"coloraxis\":{\"colorbar\":{\"outlinewidth\":0,\"ticks\":\"\"}},\"colorscale\":{\"sequential\":[[0.0,\"#0d0887\"],[0.1111111111111111,\"#46039f\"],[0.2222222222222222,\"#7201a8\"],[0.3333333333333333,\"#9c179e\"],[0.4444444444444444,\"#bd3786\"],[0.5555555555555556,\"#d8576b\"],[0.6666666666666666,\"#ed7953\"],[0.7777777777777778,\"#fb9f3a\"],[0.8888888888888888,\"#fdca26\"],[1.0,\"#f0f921\"]],\"sequentialminus\":[[0.0,\"#0d0887\"],[0.1111111111111111,\"#46039f\"],[0.2222222222222222,\"#7201a8\"],[0.3333333333333333,\"#9c179e\"],[0.4444444444444444,\"#bd3786\"],[0.5555555555555556,\"#d8576b\"],[0.6666666666666666,\"#ed7953\"],[0.7777777777777778,\"#fb9f3a\"],[0.8888888888888888,\"#fdca26\"],[1.0,\"#f0f921\"]],\"diverging\":[[0,\"#8e0152\"],[0.1,\"#c51b7d\"],[0.2,\"#de77ae\"],[0.3,\"#f1b6da\"],[0.4,\"#fde0ef\"],[0.5,\"#f7f7f7\"],[0.6,\"#e6f5d0\"],[0.7,\"#b8e186\"],[0.8,\"#7fbc41\"],[0.9,\"#4d9221\"],[1,\"#276419\"]]},\"xaxis\":{\"gridcolor\":\"white\",\"linecolor\":\"white\",\"ticks\":\"\",\"title\":{\"standoff\":15},\"zerolinecolor\":\"white\",\"automargin\":true,\"zerolinewidth\":2},\"yaxis\":{\"gridcolor\":\"white\",\"linecolor\":\"white\",\"ticks\":\"\",\"title\":{\"standoff\":15},\"zerolinecolor\":\"white\",\"automargin\":true,\"zerolinewidth\":2},\"scene\":{\"xaxis\":{\"backgroundcolor\":\"#E5ECF6\",\"gridcolor\":\"white\",\"linecolor\":\"white\",\"showbackground\":true,\"ticks\":\"\",\"zerolinecolor\":\"white\",\"gridwidth\":2},\"yaxis\":{\"backgroundcolor\":\"#E5ECF6\",\"gridcolor\":\"white\",\"linecolor\":\"white\",\"showbackground\":true,\"ticks\":\"\",\"zerolinecolor\":\"white\",\"gridwidth\":2},\"zaxis\":{\"backgroundcolor\":\"#E5ECF6\",\"gridcolor\":\"white\",\"linecolor\":\"white\",\"showbackground\":true,\"ticks\":\"\",\"zerolinecolor\":\"white\",\"gridwidth\":2}},\"shapedefaults\":{\"line\":{\"color\":\"#2a3f5f\"}},\"annotationdefaults\":{\"arrowcolor\":\"#2a3f5f\",\"arrowhead\":0,\"arrowwidth\":1},\"geo\":{\"bgcolor\":\"white\",\"landcolor\":\"#E5ECF6\",\"subunitcolor\":\"white\",\"showland\":true,\"showlakes\":true,\"lakecolor\":\"white\"},\"title\":{\"x\":0.05},\"mapbox\":{\"style\":\"light\"}}},\"xaxis\":{\"anchor\":\"y\",\"domain\":[0.0,1.0],\"title\":{\"text\":\"Age\"}},\"yaxis\":{\"anchor\":\"x\",\"domain\":[0.0,1.0],\"title\":{\"text\":\"Number of sexual partners\"}},\"coloraxis\":{\"colorbar\":{\"title\":{\"text\":\"Num of pregnancies\"}},\"colorscale\":[[0.0,\"rgb(103,0,31)\"],[0.1,\"rgb(178,24,43)\"],[0.2,\"rgb(214,96,77)\"],[0.3,\"rgb(244,165,130)\"],[0.4,\"rgb(253,219,199)\"],[0.5,\"rgb(247,247,247)\"],[0.6,\"rgb(209,229,240)\"],[0.7,\"rgb(146,197,222)\"],[0.8,\"rgb(67,147,195)\"],[0.9,\"rgb(33,102,172)\"],[1.0,\"rgb(5,48,97)\"]]},\"legend\":{\"tracegroupgap\":0},\"margin\":{\"t\":60},\"title\":{\"text\":\"Age vs Number of Sexual Partners\"}},                        {\"responsive\": true}                    ).then(function(){\n",
              "                            \n",
              "var gd = document.getElementById('7c95800a-1079-4027-bcaf-28883b313bb7');\n",
              "var x = new MutationObserver(function (mutations, observer) {{\n",
              "        var display = window.getComputedStyle(gd).display;\n",
              "        if (!display || display === 'none') {{\n",
              "            console.log([gd, 'removed!']);\n",
              "            Plotly.purge(gd);\n",
              "            observer.disconnect();\n",
              "        }}\n",
              "}});\n",
              "\n",
              "// Listen for the removal of the full notebook cells\n",
              "var notebookContainer = gd.closest('#notebook-container');\n",
              "if (notebookContainer) {{\n",
              "    x.observe(notebookContainer, {childList: true});\n",
              "}}\n",
              "\n",
              "// Listen for the clearing of the current output cell\n",
              "var outputEl = gd.closest('.output');\n",
              "if (outputEl) {{\n",
              "    x.observe(outputEl, {childList: true});\n",
              "}}\n",
              "\n",
              "                        })                };                            </script>        </div>\n",
              "</body>\n",
              "</html>"
            ]
          },
          "metadata": {},
          "output_type": "display_data"
        }
      ],
      "source": [
        "# Creating a scatter plot to visualize the relationship between age and number of sexual partners.\n",
        "# The plot includes a trend line (ordinary least squares - OLS) to indicate the general trend.\n",
        "# Opacity is set to 0.4 to handle overplotting, and color represents the number of pregnancies.\n",
        "age_num_sex_partners = px.scatter(risk_factor_df, x=\"Age\",\n",
        "                                  y=\"Number of sexual partners\",\n",
        "                                  trendline=\"ols\",\n",
        "                                  opacity=0.4,\n",
        "                                  color=\"Num of pregnancies\",\n",
        "                                  color_continuous_scale=\"rdbu\")\n",
        "# Updating the layout to add a title to the plot.\n",
        "age_num_sex_partners.update_layout(title=\"Age vs Number of Sexual Partners\")\n",
        "# Displaying the plot.\n",
        "age_num_sex_partners.show()"
      ]
    },
    {
      "cell_type": "code",
      "execution_count": null,
      "metadata": {
        "colab": {
          "base_uri": "https://localhost:8080/",
          "height": 542
        },
        "id": "2D8YdEFQAV98",
        "outputId": "eabd5c32-8a8c-4835-9fac-363c863a8111"
      },
      "outputs": [
        {
          "data": {
            "text/html": [
              "<html>\n",
              "<head><meta charset=\"utf-8\" /></head>\n",
              "<body>\n",
              "    <div>            <script src=\"https://cdnjs.cloudflare.com/ajax/libs/mathjax/2.7.5/MathJax.js?config=TeX-AMS-MML_SVG\"></script><script type=\"text/javascript\">if (window.MathJax && window.MathJax.Hub && window.MathJax.Hub.Config) {window.MathJax.Hub.Config({SVG: {font: \"STIX-Web\"}});}</script>                <script type=\"text/javascript\">window.PlotlyConfig = {MathJaxConfig: 'local'};</script>\n",
              "        <script charset=\"utf-8\" src=\"https://cdn.plot.ly/plotly-2.24.1.min.js\"></script>                <div id=\"02cff8ad-30fd-4915-b9de-807ebbbc2d2c\" class=\"plotly-graph-div\" style=\"height:525px; width:100%;\"></div>            <script type=\"text/javascript\">                                    window.PLOTLYENV=window.PLOTLYENV || {};                                    if (document.getElementById(\"02cff8ad-30fd-4915-b9de-807ebbbc2d2c\")) {                    Plotly.newPlot(                        \"02cff8ad-30fd-4915-b9de-807ebbbc2d2c\",                        [{\"coloraxis\":\"coloraxis\",\"name\":\"0\",\"texttemplate\":\"%{z}\",\"x\":[\"Dx:HPV\",\"Number of sexual partners\"],\"y\":[\"Dx:HPV\",\"Number of sexual partners\"],\"z\":[[1.0,0.02864635790976029],[0.02864635790976029,1.0]],\"type\":\"heatmap\",\"xaxis\":\"x\",\"yaxis\":\"y\",\"hovertemplate\":\"x: %{x}\\u003cbr\\u003ey: %{y}\\u003cbr\\u003ecolor: %{z}\\u003cextra\\u003e\\u003c\\u002fextra\\u003e\"}],                        {\"template\":{\"data\":{\"histogram2dcontour\":[{\"type\":\"histogram2dcontour\",\"colorbar\":{\"outlinewidth\":0,\"ticks\":\"\"},\"colorscale\":[[0.0,\"#0d0887\"],[0.1111111111111111,\"#46039f\"],[0.2222222222222222,\"#7201a8\"],[0.3333333333333333,\"#9c179e\"],[0.4444444444444444,\"#bd3786\"],[0.5555555555555556,\"#d8576b\"],[0.6666666666666666,\"#ed7953\"],[0.7777777777777778,\"#fb9f3a\"],[0.8888888888888888,\"#fdca26\"],[1.0,\"#f0f921\"]]}],\"choropleth\":[{\"type\":\"choropleth\",\"colorbar\":{\"outlinewidth\":0,\"ticks\":\"\"}}],\"histogram2d\":[{\"type\":\"histogram2d\",\"colorbar\":{\"outlinewidth\":0,\"ticks\":\"\"},\"colorscale\":[[0.0,\"#0d0887\"],[0.1111111111111111,\"#46039f\"],[0.2222222222222222,\"#7201a8\"],[0.3333333333333333,\"#9c179e\"],[0.4444444444444444,\"#bd3786\"],[0.5555555555555556,\"#d8576b\"],[0.6666666666666666,\"#ed7953\"],[0.7777777777777778,\"#fb9f3a\"],[0.8888888888888888,\"#fdca26\"],[1.0,\"#f0f921\"]]}],\"heatmap\":[{\"type\":\"heatmap\",\"colorbar\":{\"outlinewidth\":0,\"ticks\":\"\"},\"colorscale\":[[0.0,\"#0d0887\"],[0.1111111111111111,\"#46039f\"],[0.2222222222222222,\"#7201a8\"],[0.3333333333333333,\"#9c179e\"],[0.4444444444444444,\"#bd3786\"],[0.5555555555555556,\"#d8576b\"],[0.6666666666666666,\"#ed7953\"],[0.7777777777777778,\"#fb9f3a\"],[0.8888888888888888,\"#fdca26\"],[1.0,\"#f0f921\"]]}],\"heatmapgl\":[{\"type\":\"heatmapgl\",\"colorbar\":{\"outlinewidth\":0,\"ticks\":\"\"},\"colorscale\":[[0.0,\"#0d0887\"],[0.1111111111111111,\"#46039f\"],[0.2222222222222222,\"#7201a8\"],[0.3333333333333333,\"#9c179e\"],[0.4444444444444444,\"#bd3786\"],[0.5555555555555556,\"#d8576b\"],[0.6666666666666666,\"#ed7953\"],[0.7777777777777778,\"#fb9f3a\"],[0.8888888888888888,\"#fdca26\"],[1.0,\"#f0f921\"]]}],\"contourcarpet\":[{\"type\":\"contourcarpet\",\"colorbar\":{\"outlinewidth\":0,\"ticks\":\"\"}}],\"contour\":[{\"type\":\"contour\",\"colorbar\":{\"outlinewidth\":0,\"ticks\":\"\"},\"colorscale\":[[0.0,\"#0d0887\"],[0.1111111111111111,\"#46039f\"],[0.2222222222222222,\"#7201a8\"],[0.3333333333333333,\"#9c179e\"],[0.4444444444444444,\"#bd3786\"],[0.5555555555555556,\"#d8576b\"],[0.6666666666666666,\"#ed7953\"],[0.7777777777777778,\"#fb9f3a\"],[0.8888888888888888,\"#fdca26\"],[1.0,\"#f0f921\"]]}],\"surface\":[{\"type\":\"surface\",\"colorbar\":{\"outlinewidth\":0,\"ticks\":\"\"},\"colorscale\":[[0.0,\"#0d0887\"],[0.1111111111111111,\"#46039f\"],[0.2222222222222222,\"#7201a8\"],[0.3333333333333333,\"#9c179e\"],[0.4444444444444444,\"#bd3786\"],[0.5555555555555556,\"#d8576b\"],[0.6666666666666666,\"#ed7953\"],[0.7777777777777778,\"#fb9f3a\"],[0.8888888888888888,\"#fdca26\"],[1.0,\"#f0f921\"]]}],\"mesh3d\":[{\"type\":\"mesh3d\",\"colorbar\":{\"outlinewidth\":0,\"ticks\":\"\"}}],\"scatter\":[{\"fillpattern\":{\"fillmode\":\"overlay\",\"size\":10,\"solidity\":0.2},\"type\":\"scatter\"}],\"parcoords\":[{\"type\":\"parcoords\",\"line\":{\"colorbar\":{\"outlinewidth\":0,\"ticks\":\"\"}}}],\"scatterpolargl\":[{\"type\":\"scatterpolargl\",\"marker\":{\"colorbar\":{\"outlinewidth\":0,\"ticks\":\"\"}}}],\"bar\":[{\"error_x\":{\"color\":\"#2a3f5f\"},\"error_y\":{\"color\":\"#2a3f5f\"},\"marker\":{\"line\":{\"color\":\"#E5ECF6\",\"width\":0.5},\"pattern\":{\"fillmode\":\"overlay\",\"size\":10,\"solidity\":0.2}},\"type\":\"bar\"}],\"scattergeo\":[{\"type\":\"scattergeo\",\"marker\":{\"colorbar\":{\"outlinewidth\":0,\"ticks\":\"\"}}}],\"scatterpolar\":[{\"type\":\"scatterpolar\",\"marker\":{\"colorbar\":{\"outlinewidth\":0,\"ticks\":\"\"}}}],\"histogram\":[{\"marker\":{\"pattern\":{\"fillmode\":\"overlay\",\"size\":10,\"solidity\":0.2}},\"type\":\"histogram\"}],\"scattergl\":[{\"type\":\"scattergl\",\"marker\":{\"colorbar\":{\"outlinewidth\":0,\"ticks\":\"\"}}}],\"scatter3d\":[{\"type\":\"scatter3d\",\"line\":{\"colorbar\":{\"outlinewidth\":0,\"ticks\":\"\"}},\"marker\":{\"colorbar\":{\"outlinewidth\":0,\"ticks\":\"\"}}}],\"scattermapbox\":[{\"type\":\"scattermapbox\",\"marker\":{\"colorbar\":{\"outlinewidth\":0,\"ticks\":\"\"}}}],\"scatterternary\":[{\"type\":\"scatterternary\",\"marker\":{\"colorbar\":{\"outlinewidth\":0,\"ticks\":\"\"}}}],\"scattercarpet\":[{\"type\":\"scattercarpet\",\"marker\":{\"colorbar\":{\"outlinewidth\":0,\"ticks\":\"\"}}}],\"carpet\":[{\"aaxis\":{\"endlinecolor\":\"#2a3f5f\",\"gridcolor\":\"white\",\"linecolor\":\"white\",\"minorgridcolor\":\"white\",\"startlinecolor\":\"#2a3f5f\"},\"baxis\":{\"endlinecolor\":\"#2a3f5f\",\"gridcolor\":\"white\",\"linecolor\":\"white\",\"minorgridcolor\":\"white\",\"startlinecolor\":\"#2a3f5f\"},\"type\":\"carpet\"}],\"table\":[{\"cells\":{\"fill\":{\"color\":\"#EBF0F8\"},\"line\":{\"color\":\"white\"}},\"header\":{\"fill\":{\"color\":\"#C8D4E3\"},\"line\":{\"color\":\"white\"}},\"type\":\"table\"}],\"barpolar\":[{\"marker\":{\"line\":{\"color\":\"#E5ECF6\",\"width\":0.5},\"pattern\":{\"fillmode\":\"overlay\",\"size\":10,\"solidity\":0.2}},\"type\":\"barpolar\"}],\"pie\":[{\"automargin\":true,\"type\":\"pie\"}]},\"layout\":{\"autotypenumbers\":\"strict\",\"colorway\":[\"#636efa\",\"#EF553B\",\"#00cc96\",\"#ab63fa\",\"#FFA15A\",\"#19d3f3\",\"#FF6692\",\"#B6E880\",\"#FF97FF\",\"#FECB52\"],\"font\":{\"color\":\"#2a3f5f\"},\"hovermode\":\"closest\",\"hoverlabel\":{\"align\":\"left\"},\"paper_bgcolor\":\"white\",\"plot_bgcolor\":\"#E5ECF6\",\"polar\":{\"bgcolor\":\"#E5ECF6\",\"angularaxis\":{\"gridcolor\":\"white\",\"linecolor\":\"white\",\"ticks\":\"\"},\"radialaxis\":{\"gridcolor\":\"white\",\"linecolor\":\"white\",\"ticks\":\"\"}},\"ternary\":{\"bgcolor\":\"#E5ECF6\",\"aaxis\":{\"gridcolor\":\"white\",\"linecolor\":\"white\",\"ticks\":\"\"},\"baxis\":{\"gridcolor\":\"white\",\"linecolor\":\"white\",\"ticks\":\"\"},\"caxis\":{\"gridcolor\":\"white\",\"linecolor\":\"white\",\"ticks\":\"\"}},\"coloraxis\":{\"colorbar\":{\"outlinewidth\":0,\"ticks\":\"\"}},\"colorscale\":{\"sequential\":[[0.0,\"#0d0887\"],[0.1111111111111111,\"#46039f\"],[0.2222222222222222,\"#7201a8\"],[0.3333333333333333,\"#9c179e\"],[0.4444444444444444,\"#bd3786\"],[0.5555555555555556,\"#d8576b\"],[0.6666666666666666,\"#ed7953\"],[0.7777777777777778,\"#fb9f3a\"],[0.8888888888888888,\"#fdca26\"],[1.0,\"#f0f921\"]],\"sequentialminus\":[[0.0,\"#0d0887\"],[0.1111111111111111,\"#46039f\"],[0.2222222222222222,\"#7201a8\"],[0.3333333333333333,\"#9c179e\"],[0.4444444444444444,\"#bd3786\"],[0.5555555555555556,\"#d8576b\"],[0.6666666666666666,\"#ed7953\"],[0.7777777777777778,\"#fb9f3a\"],[0.8888888888888888,\"#fdca26\"],[1.0,\"#f0f921\"]],\"diverging\":[[0,\"#8e0152\"],[0.1,\"#c51b7d\"],[0.2,\"#de77ae\"],[0.3,\"#f1b6da\"],[0.4,\"#fde0ef\"],[0.5,\"#f7f7f7\"],[0.6,\"#e6f5d0\"],[0.7,\"#b8e186\"],[0.8,\"#7fbc41\"],[0.9,\"#4d9221\"],[1,\"#276419\"]]},\"xaxis\":{\"gridcolor\":\"white\",\"linecolor\":\"white\",\"ticks\":\"\",\"title\":{\"standoff\":15},\"zerolinecolor\":\"white\",\"automargin\":true,\"zerolinewidth\":2},\"yaxis\":{\"gridcolor\":\"white\",\"linecolor\":\"white\",\"ticks\":\"\",\"title\":{\"standoff\":15},\"zerolinecolor\":\"white\",\"automargin\":true,\"zerolinewidth\":2},\"scene\":{\"xaxis\":{\"backgroundcolor\":\"#E5ECF6\",\"gridcolor\":\"white\",\"linecolor\":\"white\",\"showbackground\":true,\"ticks\":\"\",\"zerolinecolor\":\"white\",\"gridwidth\":2},\"yaxis\":{\"backgroundcolor\":\"#E5ECF6\",\"gridcolor\":\"white\",\"linecolor\":\"white\",\"showbackground\":true,\"ticks\":\"\",\"zerolinecolor\":\"white\",\"gridwidth\":2},\"zaxis\":{\"backgroundcolor\":\"#E5ECF6\",\"gridcolor\":\"white\",\"linecolor\":\"white\",\"showbackground\":true,\"ticks\":\"\",\"zerolinecolor\":\"white\",\"gridwidth\":2}},\"shapedefaults\":{\"line\":{\"color\":\"#2a3f5f\"}},\"annotationdefaults\":{\"arrowcolor\":\"#2a3f5f\",\"arrowhead\":0,\"arrowwidth\":1},\"geo\":{\"bgcolor\":\"white\",\"landcolor\":\"#E5ECF6\",\"subunitcolor\":\"white\",\"showland\":true,\"showlakes\":true,\"lakecolor\":\"white\"},\"title\":{\"x\":0.05},\"mapbox\":{\"style\":\"light\"}}},\"xaxis\":{\"anchor\":\"y\",\"domain\":[0.0,1.0]},\"yaxis\":{\"anchor\":\"x\",\"domain\":[0.0,1.0],\"autorange\":\"reversed\"},\"coloraxis\":{\"colorscale\":[[0.0,\"rgb(247,252,240)\"],[0.125,\"rgb(224,243,219)\"],[0.25,\"rgb(204,235,197)\"],[0.375,\"rgb(168,221,181)\"],[0.5,\"rgb(123,204,196)\"],[0.625,\"rgb(78,179,211)\"],[0.75,\"rgb(43,140,190)\"],[0.875,\"rgb(8,104,172)\"],[1.0,\"rgb(8,64,129)\"]]},\"margin\":{\"t\":60},\"title\":{\"text\":\"HPV vs. Sexual Partners Heatmap\"}},                        {\"responsive\": true}                    ).then(function(){\n",
              "                            \n",
              "var gd = document.getElementById('02cff8ad-30fd-4915-b9de-807ebbbc2d2c');\n",
              "var x = new MutationObserver(function (mutations, observer) {{\n",
              "        var display = window.getComputedStyle(gd).display;\n",
              "        if (!display || display === 'none') {{\n",
              "            console.log([gd, 'removed!']);\n",
              "            Plotly.purge(gd);\n",
              "            observer.disconnect();\n",
              "        }}\n",
              "}});\n",
              "\n",
              "// Listen for the removal of the full notebook cells\n",
              "var notebookContainer = gd.closest('#notebook-container');\n",
              "if (notebookContainer) {{\n",
              "    x.observe(notebookContainer, {childList: true});\n",
              "}}\n",
              "\n",
              "// Listen for the clearing of the current output cell\n",
              "var outputEl = gd.closest('.output');\n",
              "if (outputEl) {{\n",
              "    x.observe(outputEl, {childList: true});\n",
              "}}\n",
              "\n",
              "                        })                };                            </script>        </div>\n",
              "</body>\n",
              "</html>"
            ]
          },
          "metadata": {},
          "output_type": "display_data"
        }
      ],
      "source": [
        "\n",
        "\n",
        "# Selecting columns related to diagnoses and number of sexual partners for correlation analysis.\n",
        "diagnoses_num_partner_compare_cols = [label, 'Dx:HPV', \"Number of sexual partners\"]\n",
        "# Calculating the correlation matrix for the selected columns.\n",
        "corr_matrix = risk_factor_df[diagnoses_num_partner_compare_cols].corr(numeric_only=True)\n",
        "# Printing the correlation matrix.\n",
        "# print(corr_matrix)\n",
        "# Visualizing the correlation matrix using a heatmap with text annotations for correlation values.\n",
        "diagnoses_num_partner_heatmap = px.imshow(corr_matrix,\n",
        "                                          aspect=\"auto\",\n",
        "                                          color_continuous_scale=\"gnbu\",\n",
        "                                          text_auto=True)\n",
        "diagnoses_num_partner_heatmap.update_layout(title='HPV vs. Sexual Partners Heatmap')\n",
        "# Displaying the heatmap.\n",
        "diagnoses_num_partner_heatmap.show()"
      ]
    },
    {
      "cell_type": "code",
      "execution_count": null,
      "metadata": {
        "colab": {
          "base_uri": "https://localhost:8080/",
          "height": 542
        },
        "id": "nlT3ggjXiC6s",
        "outputId": "ec8c0783-e298-45d8-8128-264c2f7c710d"
      },
      "outputs": [
        {
          "data": {
            "text/html": [
              "<html>\n",
              "<head><meta charset=\"utf-8\" /></head>\n",
              "<body>\n",
              "    <div>            <script src=\"https://cdnjs.cloudflare.com/ajax/libs/mathjax/2.7.5/MathJax.js?config=TeX-AMS-MML_SVG\"></script><script type=\"text/javascript\">if (window.MathJax && window.MathJax.Hub && window.MathJax.Hub.Config) {window.MathJax.Hub.Config({SVG: {font: \"STIX-Web\"}});}</script>                <script type=\"text/javascript\">window.PlotlyConfig = {MathJaxConfig: 'local'};</script>\n",
              "        <script charset=\"utf-8\" src=\"https://cdn.plot.ly/plotly-2.24.1.min.js\"></script>                <div id=\"47c5b682-e9ae-4dfa-839f-42cdd2392901\" class=\"plotly-graph-div\" style=\"height:525px; width:100%;\"></div>            <script type=\"text/javascript\">                                    window.PLOTLYENV=window.PLOTLYENV || {};                                    if (document.getElementById(\"47c5b682-e9ae-4dfa-839f-42cdd2392901\")) {                    Plotly.newPlot(                        \"47c5b682-e9ae-4dfa-839f-42cdd2392901\",                        [{\"coloraxis\":\"coloraxis\",\"name\":\"0\",\"texttemplate\":\"%{z}\",\"x\":[\"Dx:CIN\",\"Dx:HPV\"],\"y\":[\"Dx:CIN\",\"Dx:HPV\"],\"z\":[[1.0,-0.01507176170889093],[-0.01507176170889093,1.0]],\"type\":\"heatmap\",\"xaxis\":\"x\",\"yaxis\":\"y\",\"hovertemplate\":\"x: %{x}\\u003cbr\\u003ey: %{y}\\u003cbr\\u003ecolor: %{z}\\u003cextra\\u003e\\u003c\\u002fextra\\u003e\"}],                        {\"template\":{\"data\":{\"histogram2dcontour\":[{\"type\":\"histogram2dcontour\",\"colorbar\":{\"outlinewidth\":0,\"ticks\":\"\"},\"colorscale\":[[0.0,\"#0d0887\"],[0.1111111111111111,\"#46039f\"],[0.2222222222222222,\"#7201a8\"],[0.3333333333333333,\"#9c179e\"],[0.4444444444444444,\"#bd3786\"],[0.5555555555555556,\"#d8576b\"],[0.6666666666666666,\"#ed7953\"],[0.7777777777777778,\"#fb9f3a\"],[0.8888888888888888,\"#fdca26\"],[1.0,\"#f0f921\"]]}],\"choropleth\":[{\"type\":\"choropleth\",\"colorbar\":{\"outlinewidth\":0,\"ticks\":\"\"}}],\"histogram2d\":[{\"type\":\"histogram2d\",\"colorbar\":{\"outlinewidth\":0,\"ticks\":\"\"},\"colorscale\":[[0.0,\"#0d0887\"],[0.1111111111111111,\"#46039f\"],[0.2222222222222222,\"#7201a8\"],[0.3333333333333333,\"#9c179e\"],[0.4444444444444444,\"#bd3786\"],[0.5555555555555556,\"#d8576b\"],[0.6666666666666666,\"#ed7953\"],[0.7777777777777778,\"#fb9f3a\"],[0.8888888888888888,\"#fdca26\"],[1.0,\"#f0f921\"]]}],\"heatmap\":[{\"type\":\"heatmap\",\"colorbar\":{\"outlinewidth\":0,\"ticks\":\"\"},\"colorscale\":[[0.0,\"#0d0887\"],[0.1111111111111111,\"#46039f\"],[0.2222222222222222,\"#7201a8\"],[0.3333333333333333,\"#9c179e\"],[0.4444444444444444,\"#bd3786\"],[0.5555555555555556,\"#d8576b\"],[0.6666666666666666,\"#ed7953\"],[0.7777777777777778,\"#fb9f3a\"],[0.8888888888888888,\"#fdca26\"],[1.0,\"#f0f921\"]]}],\"heatmapgl\":[{\"type\":\"heatmapgl\",\"colorbar\":{\"outlinewidth\":0,\"ticks\":\"\"},\"colorscale\":[[0.0,\"#0d0887\"],[0.1111111111111111,\"#46039f\"],[0.2222222222222222,\"#7201a8\"],[0.3333333333333333,\"#9c179e\"],[0.4444444444444444,\"#bd3786\"],[0.5555555555555556,\"#d8576b\"],[0.6666666666666666,\"#ed7953\"],[0.7777777777777778,\"#fb9f3a\"],[0.8888888888888888,\"#fdca26\"],[1.0,\"#f0f921\"]]}],\"contourcarpet\":[{\"type\":\"contourcarpet\",\"colorbar\":{\"outlinewidth\":0,\"ticks\":\"\"}}],\"contour\":[{\"type\":\"contour\",\"colorbar\":{\"outlinewidth\":0,\"ticks\":\"\"},\"colorscale\":[[0.0,\"#0d0887\"],[0.1111111111111111,\"#46039f\"],[0.2222222222222222,\"#7201a8\"],[0.3333333333333333,\"#9c179e\"],[0.4444444444444444,\"#bd3786\"],[0.5555555555555556,\"#d8576b\"],[0.6666666666666666,\"#ed7953\"],[0.7777777777777778,\"#fb9f3a\"],[0.8888888888888888,\"#fdca26\"],[1.0,\"#f0f921\"]]}],\"surface\":[{\"type\":\"surface\",\"colorbar\":{\"outlinewidth\":0,\"ticks\":\"\"},\"colorscale\":[[0.0,\"#0d0887\"],[0.1111111111111111,\"#46039f\"],[0.2222222222222222,\"#7201a8\"],[0.3333333333333333,\"#9c179e\"],[0.4444444444444444,\"#bd3786\"],[0.5555555555555556,\"#d8576b\"],[0.6666666666666666,\"#ed7953\"],[0.7777777777777778,\"#fb9f3a\"],[0.8888888888888888,\"#fdca26\"],[1.0,\"#f0f921\"]]}],\"mesh3d\":[{\"type\":\"mesh3d\",\"colorbar\":{\"outlinewidth\":0,\"ticks\":\"\"}}],\"scatter\":[{\"fillpattern\":{\"fillmode\":\"overlay\",\"size\":10,\"solidity\":0.2},\"type\":\"scatter\"}],\"parcoords\":[{\"type\":\"parcoords\",\"line\":{\"colorbar\":{\"outlinewidth\":0,\"ticks\":\"\"}}}],\"scatterpolargl\":[{\"type\":\"scatterpolargl\",\"marker\":{\"colorbar\":{\"outlinewidth\":0,\"ticks\":\"\"}}}],\"bar\":[{\"error_x\":{\"color\":\"#2a3f5f\"},\"error_y\":{\"color\":\"#2a3f5f\"},\"marker\":{\"line\":{\"color\":\"#E5ECF6\",\"width\":0.5},\"pattern\":{\"fillmode\":\"overlay\",\"size\":10,\"solidity\":0.2}},\"type\":\"bar\"}],\"scattergeo\":[{\"type\":\"scattergeo\",\"marker\":{\"colorbar\":{\"outlinewidth\":0,\"ticks\":\"\"}}}],\"scatterpolar\":[{\"type\":\"scatterpolar\",\"marker\":{\"colorbar\":{\"outlinewidth\":0,\"ticks\":\"\"}}}],\"histogram\":[{\"marker\":{\"pattern\":{\"fillmode\":\"overlay\",\"size\":10,\"solidity\":0.2}},\"type\":\"histogram\"}],\"scattergl\":[{\"type\":\"scattergl\",\"marker\":{\"colorbar\":{\"outlinewidth\":0,\"ticks\":\"\"}}}],\"scatter3d\":[{\"type\":\"scatter3d\",\"line\":{\"colorbar\":{\"outlinewidth\":0,\"ticks\":\"\"}},\"marker\":{\"colorbar\":{\"outlinewidth\":0,\"ticks\":\"\"}}}],\"scattermapbox\":[{\"type\":\"scattermapbox\",\"marker\":{\"colorbar\":{\"outlinewidth\":0,\"ticks\":\"\"}}}],\"scatterternary\":[{\"type\":\"scatterternary\",\"marker\":{\"colorbar\":{\"outlinewidth\":0,\"ticks\":\"\"}}}],\"scattercarpet\":[{\"type\":\"scattercarpet\",\"marker\":{\"colorbar\":{\"outlinewidth\":0,\"ticks\":\"\"}}}],\"carpet\":[{\"aaxis\":{\"endlinecolor\":\"#2a3f5f\",\"gridcolor\":\"white\",\"linecolor\":\"white\",\"minorgridcolor\":\"white\",\"startlinecolor\":\"#2a3f5f\"},\"baxis\":{\"endlinecolor\":\"#2a3f5f\",\"gridcolor\":\"white\",\"linecolor\":\"white\",\"minorgridcolor\":\"white\",\"startlinecolor\":\"#2a3f5f\"},\"type\":\"carpet\"}],\"table\":[{\"cells\":{\"fill\":{\"color\":\"#EBF0F8\"},\"line\":{\"color\":\"white\"}},\"header\":{\"fill\":{\"color\":\"#C8D4E3\"},\"line\":{\"color\":\"white\"}},\"type\":\"table\"}],\"barpolar\":[{\"marker\":{\"line\":{\"color\":\"#E5ECF6\",\"width\":0.5},\"pattern\":{\"fillmode\":\"overlay\",\"size\":10,\"solidity\":0.2}},\"type\":\"barpolar\"}],\"pie\":[{\"automargin\":true,\"type\":\"pie\"}]},\"layout\":{\"autotypenumbers\":\"strict\",\"colorway\":[\"#636efa\",\"#EF553B\",\"#00cc96\",\"#ab63fa\",\"#FFA15A\",\"#19d3f3\",\"#FF6692\",\"#B6E880\",\"#FF97FF\",\"#FECB52\"],\"font\":{\"color\":\"#2a3f5f\"},\"hovermode\":\"closest\",\"hoverlabel\":{\"align\":\"left\"},\"paper_bgcolor\":\"white\",\"plot_bgcolor\":\"#E5ECF6\",\"polar\":{\"bgcolor\":\"#E5ECF6\",\"angularaxis\":{\"gridcolor\":\"white\",\"linecolor\":\"white\",\"ticks\":\"\"},\"radialaxis\":{\"gridcolor\":\"white\",\"linecolor\":\"white\",\"ticks\":\"\"}},\"ternary\":{\"bgcolor\":\"#E5ECF6\",\"aaxis\":{\"gridcolor\":\"white\",\"linecolor\":\"white\",\"ticks\":\"\"},\"baxis\":{\"gridcolor\":\"white\",\"linecolor\":\"white\",\"ticks\":\"\"},\"caxis\":{\"gridcolor\":\"white\",\"linecolor\":\"white\",\"ticks\":\"\"}},\"coloraxis\":{\"colorbar\":{\"outlinewidth\":0,\"ticks\":\"\"}},\"colorscale\":{\"sequential\":[[0.0,\"#0d0887\"],[0.1111111111111111,\"#46039f\"],[0.2222222222222222,\"#7201a8\"],[0.3333333333333333,\"#9c179e\"],[0.4444444444444444,\"#bd3786\"],[0.5555555555555556,\"#d8576b\"],[0.6666666666666666,\"#ed7953\"],[0.7777777777777778,\"#fb9f3a\"],[0.8888888888888888,\"#fdca26\"],[1.0,\"#f0f921\"]],\"sequentialminus\":[[0.0,\"#0d0887\"],[0.1111111111111111,\"#46039f\"],[0.2222222222222222,\"#7201a8\"],[0.3333333333333333,\"#9c179e\"],[0.4444444444444444,\"#bd3786\"],[0.5555555555555556,\"#d8576b\"],[0.6666666666666666,\"#ed7953\"],[0.7777777777777778,\"#fb9f3a\"],[0.8888888888888888,\"#fdca26\"],[1.0,\"#f0f921\"]],\"diverging\":[[0,\"#8e0152\"],[0.1,\"#c51b7d\"],[0.2,\"#de77ae\"],[0.3,\"#f1b6da\"],[0.4,\"#fde0ef\"],[0.5,\"#f7f7f7\"],[0.6,\"#e6f5d0\"],[0.7,\"#b8e186\"],[0.8,\"#7fbc41\"],[0.9,\"#4d9221\"],[1,\"#276419\"]]},\"xaxis\":{\"gridcolor\":\"white\",\"linecolor\":\"white\",\"ticks\":\"\",\"title\":{\"standoff\":15},\"zerolinecolor\":\"white\",\"automargin\":true,\"zerolinewidth\":2},\"yaxis\":{\"gridcolor\":\"white\",\"linecolor\":\"white\",\"ticks\":\"\",\"title\":{\"standoff\":15},\"zerolinecolor\":\"white\",\"automargin\":true,\"zerolinewidth\":2},\"scene\":{\"xaxis\":{\"backgroundcolor\":\"#E5ECF6\",\"gridcolor\":\"white\",\"linecolor\":\"white\",\"showbackground\":true,\"ticks\":\"\",\"zerolinecolor\":\"white\",\"gridwidth\":2},\"yaxis\":{\"backgroundcolor\":\"#E5ECF6\",\"gridcolor\":\"white\",\"linecolor\":\"white\",\"showbackground\":true,\"ticks\":\"\",\"zerolinecolor\":\"white\",\"gridwidth\":2},\"zaxis\":{\"backgroundcolor\":\"#E5ECF6\",\"gridcolor\":\"white\",\"linecolor\":\"white\",\"showbackground\":true,\"ticks\":\"\",\"zerolinecolor\":\"white\",\"gridwidth\":2}},\"shapedefaults\":{\"line\":{\"color\":\"#2a3f5f\"}},\"annotationdefaults\":{\"arrowcolor\":\"#2a3f5f\",\"arrowhead\":0,\"arrowwidth\":1},\"geo\":{\"bgcolor\":\"white\",\"landcolor\":\"#E5ECF6\",\"subunitcolor\":\"white\",\"showland\":true,\"showlakes\":true,\"lakecolor\":\"white\"},\"title\":{\"x\":0.05},\"mapbox\":{\"style\":\"light\"}}},\"xaxis\":{\"anchor\":\"y\",\"domain\":[0.0,1.0]},\"yaxis\":{\"anchor\":\"x\",\"domain\":[0.0,1.0],\"autorange\":\"reversed\"},\"coloraxis\":{\"colorscale\":[[0.0,\"rgb(176, 242, 188)\"],[0.16666666666666666,\"rgb(137, 232, 172)\"],[0.3333333333333333,\"rgb(103, 219, 165)\"],[0.5,\"rgb(76, 200, 163)\"],[0.6666666666666666,\"rgb(56, 178, 163)\"],[0.8333333333333334,\"rgb(44, 152, 160)\"],[1.0,\"rgb(37, 125, 152)\"]]},\"margin\":{\"t\":60},\"title\":{\"text\":\"Dx:CIN vs Dx:HPV HeatMap\"}},                        {\"responsive\": true}                    ).then(function(){\n",
              "                            \n",
              "var gd = document.getElementById('47c5b682-e9ae-4dfa-839f-42cdd2392901');\n",
              "var x = new MutationObserver(function (mutations, observer) {{\n",
              "        var display = window.getComputedStyle(gd).display;\n",
              "        if (!display || display === 'none') {{\n",
              "            console.log([gd, 'removed!']);\n",
              "            Plotly.purge(gd);\n",
              "            observer.disconnect();\n",
              "        }}\n",
              "}});\n",
              "\n",
              "// Listen for the removal of the full notebook cells\n",
              "var notebookContainer = gd.closest('#notebook-container');\n",
              "if (notebookContainer) {{\n",
              "    x.observe(notebookContainer, {childList: true});\n",
              "}}\n",
              "\n",
              "// Listen for the clearing of the current output cell\n",
              "var outputEl = gd.closest('.output');\n",
              "if (outputEl) {{\n",
              "    x.observe(outputEl, {childList: true});\n",
              "}}\n",
              "\n",
              "                        })                };                            </script>        </div>\n",
              "</body>\n",
              "</html>"
            ]
          },
          "metadata": {},
          "output_type": "display_data"
        }
      ],
      "source": [
        "\n",
        "\n",
        "# Selecting columns related only to diagnoses for correlation analysis.\n",
        "diagnoses_cols = [label, 'Dx:CIN', 'Dx:HPV']\n",
        "# Calculating the correlation matrix for the selected diagnoses columns.\n",
        "diagnoses_corr_matrix = risk_factor_df[diagnoses_cols].corr(numeric_only=True)\n",
        "# Visualizing the correlation matrix using a heatmap with teal-green color scale and text annotations for correlation values.\n",
        "diagnoses_heatmap = px.imshow(diagnoses_corr_matrix, aspect=\"auto\", color_continuous_scale=\"tealgrn\", text_auto=True)\n",
        "# Displaying the heatmap.\n",
        "diagnoses_heatmap.update_layout(title=\"Dx:CIN vs Dx:HPV HeatMap\")\n",
        "diagnoses_heatmap.show()"
      ]
    },
    {
      "cell_type": "markdown",
      "metadata": {
        "id": "sTMJchHW58Ix"
      },
      "source": [
        "STDs"
      ]
    },
    {
      "cell_type": "code",
      "execution_count": null,
      "metadata": {
        "id": "iSMN437B8KIk"
      },
      "outputs": [],
      "source": [
        "#data processing - to provide access of std_cols in STD graphs - do we want to add the definitions?\n",
        "std_cols = {'STDs:condylomatosis',\n",
        "            'STDs:cervical condylomatosis',\n",
        "            'STDs:vaginal condylomatosis',\n",
        "            'STDs:vulvo-perineal condylomatosis',\n",
        "            'STDs:syphilis',\n",
        "            'STDs:pelvic inflammatory disease',\n",
        "            'STDs:genital herpes',\n",
        "            'STDs:molluscum contagiosum',\n",
        "            'STDs:AIDS',\n",
        "            'STDs:HIV',\n",
        "            'STDs:Hepatitis B',\n",
        "            'STDs:HPV'}"
      ]
    },
    {
      "cell_type": "code",
      "execution_count": null,
      "metadata": {
        "colab": {
          "base_uri": "https://localhost:8080/",
          "height": 542
        },
        "id": "M1ZOsAsq540d",
        "outputId": "19434546-b12c-44c2-d428-47384b989fd4"
      },
      "outputs": [
        {
          "data": {
            "text/html": [
              "<html>\n",
              "<head><meta charset=\"utf-8\" /></head>\n",
              "<body>\n",
              "    <div>            <script src=\"https://cdnjs.cloudflare.com/ajax/libs/mathjax/2.7.5/MathJax.js?config=TeX-AMS-MML_SVG\"></script><script type=\"text/javascript\">if (window.MathJax && window.MathJax.Hub && window.MathJax.Hub.Config) {window.MathJax.Hub.Config({SVG: {font: \"STIX-Web\"}});}</script>                <script type=\"text/javascript\">window.PlotlyConfig = {MathJaxConfig: 'local'};</script>\n",
              "        <script charset=\"utf-8\" src=\"https://cdn.plot.ly/plotly-2.24.1.min.js\"></script>                <div id=\"b3eb199e-5f0d-41b0-958e-61a50ba69f75\" class=\"plotly-graph-div\" style=\"height:525px; width:100%;\"></div>            <script type=\"text/javascript\">                                    window.PLOTLYENV=window.PLOTLYENV || {};                                    if (document.getElementById(\"b3eb199e-5f0d-41b0-958e-61a50ba69f75\")) {                    Plotly.newPlot(                        \"b3eb199e-5f0d-41b0-958e-61a50ba69f75\",                        [{\"alignmentgroup\":\"True\",\"bingroup\":\"x\",\"histfunc\":\"sum\",\"hovertemplate\":\"variable=STDs:condylomatosis\\u003cbr\\u003eage_cat=%{x}\\u003cbr\\u003esum of value=%{y}\\u003cextra\\u003e\\u003c\\u002fextra\\u003e\",\"legendgroup\":\"STDs:condylomatosis\",\"marker\":{\"color\":\"#636efa\",\"pattern\":{\"shape\":\"\"}},\"name\":\"STDs:condylomatosis\",\"offsetgroup\":\"STDs:condylomatosis\",\"orientation\":\"v\",\"showlegend\":true,\"x\":[\"20's\",\"30's\",\"40's\",\"50's\",\"70+\",\"Teen\"],\"xaxis\":\"x\",\"y\":[19,8,5,0,0,12],\"yaxis\":\"y\",\"type\":\"histogram\"},{\"alignmentgroup\":\"True\",\"bingroup\":\"x\",\"histfunc\":\"sum\",\"hovertemplate\":\"variable=STDs:HIV\\u003cbr\\u003eage_cat=%{x}\\u003cbr\\u003esum of value=%{y}\\u003cextra\\u003e\\u003c\\u002fextra\\u003e\",\"legendgroup\":\"STDs:HIV\",\"marker\":{\"color\":\"#EF553B\",\"pattern\":{\"shape\":\"\"}},\"name\":\"STDs:HIV\",\"offsetgroup\":\"STDs:HIV\",\"orientation\":\"v\",\"showlegend\":true,\"x\":[\"20's\",\"30's\",\"40's\",\"50's\",\"70+\",\"Teen\"],\"xaxis\":\"x\",\"y\":[8,6,1,0,0,3],\"yaxis\":\"y\",\"type\":\"histogram\"},{\"alignmentgroup\":\"True\",\"bingroup\":\"x\",\"histfunc\":\"sum\",\"hovertemplate\":\"variable=STDs:AIDS\\u003cbr\\u003eage_cat=%{x}\\u003cbr\\u003esum of value=%{y}\\u003cextra\\u003e\\u003c\\u002fextra\\u003e\",\"legendgroup\":\"STDs:AIDS\",\"marker\":{\"color\":\"#00cc96\",\"pattern\":{\"shape\":\"\"}},\"name\":\"STDs:AIDS\",\"offsetgroup\":\"STDs:AIDS\",\"orientation\":\"v\",\"showlegend\":true,\"x\":[\"20's\",\"30's\",\"40's\",\"50's\",\"70+\",\"Teen\"],\"xaxis\":\"x\",\"y\":[0,0,0,0,0,0],\"yaxis\":\"y\",\"type\":\"histogram\"},{\"alignmentgroup\":\"True\",\"bingroup\":\"x\",\"histfunc\":\"sum\",\"hovertemplate\":\"variable=STDs:HPV\\u003cbr\\u003eage_cat=%{x}\\u003cbr\\u003esum of value=%{y}\\u003cextra\\u003e\\u003c\\u002fextra\\u003e\",\"legendgroup\":\"STDs:HPV\",\"marker\":{\"color\":\"#ab63fa\",\"pattern\":{\"shape\":\"\"}},\"name\":\"STDs:HPV\",\"offsetgroup\":\"STDs:HPV\",\"orientation\":\"v\",\"showlegend\":true,\"x\":[\"20's\",\"30's\",\"40's\",\"50's\",\"70+\",\"Teen\"],\"xaxis\":\"x\",\"y\":[0,2,0,0,0,0],\"yaxis\":\"y\",\"type\":\"histogram\"},{\"alignmentgroup\":\"True\",\"bingroup\":\"x\",\"histfunc\":\"sum\",\"hovertemplate\":\"variable=STDs:genital herpes\\u003cbr\\u003eage_cat=%{x}\\u003cbr\\u003esum of value=%{y}\\u003cextra\\u003e\\u003c\\u002fextra\\u003e\",\"legendgroup\":\"STDs:genital herpes\",\"marker\":{\"color\":\"#FFA15A\",\"pattern\":{\"shape\":\"\"}},\"name\":\"STDs:genital herpes\",\"offsetgroup\":\"STDs:genital herpes\",\"orientation\":\"v\",\"showlegend\":true,\"x\":[\"20's\",\"30's\",\"40's\",\"50's\",\"70+\",\"Teen\"],\"xaxis\":\"x\",\"y\":[1,0,0,0,0,0],\"yaxis\":\"y\",\"type\":\"histogram\"},{\"alignmentgroup\":\"True\",\"bingroup\":\"x\",\"histfunc\":\"sum\",\"hovertemplate\":\"variable=STDs:pelvic inflammatory disease\\u003cbr\\u003eage_cat=%{x}\\u003cbr\\u003esum of value=%{y}\\u003cextra\\u003e\\u003c\\u002fextra\\u003e\",\"legendgroup\":\"STDs:pelvic inflammatory disease\",\"marker\":{\"color\":\"#19d3f3\",\"pattern\":{\"shape\":\"\"}},\"name\":\"STDs:pelvic inflammatory disease\",\"offsetgroup\":\"STDs:pelvic inflammatory disease\",\"orientation\":\"v\",\"showlegend\":true,\"x\":[\"20's\",\"30's\",\"40's\",\"50's\",\"70+\",\"Teen\"],\"xaxis\":\"x\",\"y\":[0,1,0,0,0,0],\"yaxis\":\"y\",\"type\":\"histogram\"},{\"alignmentgroup\":\"True\",\"bingroup\":\"x\",\"histfunc\":\"sum\",\"hovertemplate\":\"variable=STDs:vaginal condylomatosis\\u003cbr\\u003eage_cat=%{x}\\u003cbr\\u003esum of value=%{y}\\u003cextra\\u003e\\u003c\\u002fextra\\u003e\",\"legendgroup\":\"STDs:vaginal condylomatosis\",\"marker\":{\"color\":\"#FF6692\",\"pattern\":{\"shape\":\"\"}},\"name\":\"STDs:vaginal condylomatosis\",\"offsetgroup\":\"STDs:vaginal condylomatosis\",\"orientation\":\"v\",\"showlegend\":true,\"x\":[\"20's\",\"30's\",\"40's\",\"50's\",\"70+\",\"Teen\"],\"xaxis\":\"x\",\"y\":[1,2,0,0,0,1],\"yaxis\":\"y\",\"type\":\"histogram\"},{\"alignmentgroup\":\"True\",\"bingroup\":\"x\",\"histfunc\":\"sum\",\"hovertemplate\":\"variable=STDs:cervical condylomatosis\\u003cbr\\u003eage_cat=%{x}\\u003cbr\\u003esum of value=%{y}\\u003cextra\\u003e\\u003c\\u002fextra\\u003e\",\"legendgroup\":\"STDs:cervical condylomatosis\",\"marker\":{\"color\":\"#B6E880\",\"pattern\":{\"shape\":\"\"}},\"name\":\"STDs:cervical condylomatosis\",\"offsetgroup\":\"STDs:cervical condylomatosis\",\"orientation\":\"v\",\"showlegend\":true,\"x\":[\"20's\",\"30's\",\"40's\",\"50's\",\"70+\",\"Teen\"],\"xaxis\":\"x\",\"y\":[0,0,0,0,0,0],\"yaxis\":\"y\",\"type\":\"histogram\"},{\"alignmentgroup\":\"True\",\"bingroup\":\"x\",\"histfunc\":\"sum\",\"hovertemplate\":\"variable=STDs:syphilis\\u003cbr\\u003eage_cat=%{x}\\u003cbr\\u003esum of value=%{y}\\u003cextra\\u003e\\u003c\\u002fextra\\u003e\",\"legendgroup\":\"STDs:syphilis\",\"marker\":{\"color\":\"#FF97FF\",\"pattern\":{\"shape\":\"\"}},\"name\":\"STDs:syphilis\",\"offsetgroup\":\"STDs:syphilis\",\"orientation\":\"v\",\"showlegend\":true,\"x\":[\"20's\",\"30's\",\"40's\",\"50's\",\"70+\",\"Teen\"],\"xaxis\":\"x\",\"y\":[7,5,2,0,0,4],\"yaxis\":\"y\",\"type\":\"histogram\"},{\"alignmentgroup\":\"True\",\"bingroup\":\"x\",\"histfunc\":\"sum\",\"hovertemplate\":\"variable=STDs:Hepatitis B\\u003cbr\\u003eage_cat=%{x}\\u003cbr\\u003esum of value=%{y}\\u003cextra\\u003e\\u003c\\u002fextra\\u003e\",\"legendgroup\":\"STDs:Hepatitis B\",\"marker\":{\"color\":\"#FECB52\",\"pattern\":{\"shape\":\"\"}},\"name\":\"STDs:Hepatitis B\",\"offsetgroup\":\"STDs:Hepatitis B\",\"orientation\":\"v\",\"showlegend\":true,\"x\":[\"20's\",\"30's\",\"40's\",\"50's\",\"70+\",\"Teen\"],\"xaxis\":\"x\",\"y\":[1,0,0,0,0,0],\"yaxis\":\"y\",\"type\":\"histogram\"},{\"alignmentgroup\":\"True\",\"bingroup\":\"x\",\"histfunc\":\"sum\",\"hovertemplate\":\"variable=STDs:vulvo-perineal condylomatosis\\u003cbr\\u003eage_cat=%{x}\\u003cbr\\u003esum of value=%{y}\\u003cextra\\u003e\\u003c\\u002fextra\\u003e\",\"legendgroup\":\"STDs:vulvo-perineal condylomatosis\",\"marker\":{\"color\":\"#636efa\",\"pattern\":{\"shape\":\"\"}},\"name\":\"STDs:vulvo-perineal condylomatosis\",\"offsetgroup\":\"STDs:vulvo-perineal condylomatosis\",\"orientation\":\"v\",\"showlegend\":true,\"x\":[\"20's\",\"30's\",\"40's\",\"50's\",\"70+\",\"Teen\"],\"xaxis\":\"x\",\"y\":[18,8,5,0,0,12],\"yaxis\":\"y\",\"type\":\"histogram\"},{\"alignmentgroup\":\"True\",\"bingroup\":\"x\",\"histfunc\":\"sum\",\"hovertemplate\":\"variable=STDs:molluscum contagiosum\\u003cbr\\u003eage_cat=%{x}\\u003cbr\\u003esum of value=%{y}\\u003cextra\\u003e\\u003c\\u002fextra\\u003e\",\"legendgroup\":\"STDs:molluscum contagiosum\",\"marker\":{\"color\":\"#EF553B\",\"pattern\":{\"shape\":\"\"}},\"name\":\"STDs:molluscum contagiosum\",\"offsetgroup\":\"STDs:molluscum contagiosum\",\"orientation\":\"v\",\"showlegend\":true,\"x\":[\"20's\",\"30's\",\"40's\",\"50's\",\"70+\",\"Teen\"],\"xaxis\":\"x\",\"y\":[1,0,0,0,0,0],\"yaxis\":\"y\",\"type\":\"histogram\"}],                        {\"template\":{\"data\":{\"histogram2dcontour\":[{\"type\":\"histogram2dcontour\",\"colorbar\":{\"outlinewidth\":0,\"ticks\":\"\"},\"colorscale\":[[0.0,\"#0d0887\"],[0.1111111111111111,\"#46039f\"],[0.2222222222222222,\"#7201a8\"],[0.3333333333333333,\"#9c179e\"],[0.4444444444444444,\"#bd3786\"],[0.5555555555555556,\"#d8576b\"],[0.6666666666666666,\"#ed7953\"],[0.7777777777777778,\"#fb9f3a\"],[0.8888888888888888,\"#fdca26\"],[1.0,\"#f0f921\"]]}],\"choropleth\":[{\"type\":\"choropleth\",\"colorbar\":{\"outlinewidth\":0,\"ticks\":\"\"}}],\"histogram2d\":[{\"type\":\"histogram2d\",\"colorbar\":{\"outlinewidth\":0,\"ticks\":\"\"},\"colorscale\":[[0.0,\"#0d0887\"],[0.1111111111111111,\"#46039f\"],[0.2222222222222222,\"#7201a8\"],[0.3333333333333333,\"#9c179e\"],[0.4444444444444444,\"#bd3786\"],[0.5555555555555556,\"#d8576b\"],[0.6666666666666666,\"#ed7953\"],[0.7777777777777778,\"#fb9f3a\"],[0.8888888888888888,\"#fdca26\"],[1.0,\"#f0f921\"]]}],\"heatmap\":[{\"type\":\"heatmap\",\"colorbar\":{\"outlinewidth\":0,\"ticks\":\"\"},\"colorscale\":[[0.0,\"#0d0887\"],[0.1111111111111111,\"#46039f\"],[0.2222222222222222,\"#7201a8\"],[0.3333333333333333,\"#9c179e\"],[0.4444444444444444,\"#bd3786\"],[0.5555555555555556,\"#d8576b\"],[0.6666666666666666,\"#ed7953\"],[0.7777777777777778,\"#fb9f3a\"],[0.8888888888888888,\"#fdca26\"],[1.0,\"#f0f921\"]]}],\"heatmapgl\":[{\"type\":\"heatmapgl\",\"colorbar\":{\"outlinewidth\":0,\"ticks\":\"\"},\"colorscale\":[[0.0,\"#0d0887\"],[0.1111111111111111,\"#46039f\"],[0.2222222222222222,\"#7201a8\"],[0.3333333333333333,\"#9c179e\"],[0.4444444444444444,\"#bd3786\"],[0.5555555555555556,\"#d8576b\"],[0.6666666666666666,\"#ed7953\"],[0.7777777777777778,\"#fb9f3a\"],[0.8888888888888888,\"#fdca26\"],[1.0,\"#f0f921\"]]}],\"contourcarpet\":[{\"type\":\"contourcarpet\",\"colorbar\":{\"outlinewidth\":0,\"ticks\":\"\"}}],\"contour\":[{\"type\":\"contour\",\"colorbar\":{\"outlinewidth\":0,\"ticks\":\"\"},\"colorscale\":[[0.0,\"#0d0887\"],[0.1111111111111111,\"#46039f\"],[0.2222222222222222,\"#7201a8\"],[0.3333333333333333,\"#9c179e\"],[0.4444444444444444,\"#bd3786\"],[0.5555555555555556,\"#d8576b\"],[0.6666666666666666,\"#ed7953\"],[0.7777777777777778,\"#fb9f3a\"],[0.8888888888888888,\"#fdca26\"],[1.0,\"#f0f921\"]]}],\"surface\":[{\"type\":\"surface\",\"colorbar\":{\"outlinewidth\":0,\"ticks\":\"\"},\"colorscale\":[[0.0,\"#0d0887\"],[0.1111111111111111,\"#46039f\"],[0.2222222222222222,\"#7201a8\"],[0.3333333333333333,\"#9c179e\"],[0.4444444444444444,\"#bd3786\"],[0.5555555555555556,\"#d8576b\"],[0.6666666666666666,\"#ed7953\"],[0.7777777777777778,\"#fb9f3a\"],[0.8888888888888888,\"#fdca26\"],[1.0,\"#f0f921\"]]}],\"mesh3d\":[{\"type\":\"mesh3d\",\"colorbar\":{\"outlinewidth\":0,\"ticks\":\"\"}}],\"scatter\":[{\"fillpattern\":{\"fillmode\":\"overlay\",\"size\":10,\"solidity\":0.2},\"type\":\"scatter\"}],\"parcoords\":[{\"type\":\"parcoords\",\"line\":{\"colorbar\":{\"outlinewidth\":0,\"ticks\":\"\"}}}],\"scatterpolargl\":[{\"type\":\"scatterpolargl\",\"marker\":{\"colorbar\":{\"outlinewidth\":0,\"ticks\":\"\"}}}],\"bar\":[{\"error_x\":{\"color\":\"#2a3f5f\"},\"error_y\":{\"color\":\"#2a3f5f\"},\"marker\":{\"line\":{\"color\":\"#E5ECF6\",\"width\":0.5},\"pattern\":{\"fillmode\":\"overlay\",\"size\":10,\"solidity\":0.2}},\"type\":\"bar\"}],\"scattergeo\":[{\"type\":\"scattergeo\",\"marker\":{\"colorbar\":{\"outlinewidth\":0,\"ticks\":\"\"}}}],\"scatterpolar\":[{\"type\":\"scatterpolar\",\"marker\":{\"colorbar\":{\"outlinewidth\":0,\"ticks\":\"\"}}}],\"histogram\":[{\"marker\":{\"pattern\":{\"fillmode\":\"overlay\",\"size\":10,\"solidity\":0.2}},\"type\":\"histogram\"}],\"scattergl\":[{\"type\":\"scattergl\",\"marker\":{\"colorbar\":{\"outlinewidth\":0,\"ticks\":\"\"}}}],\"scatter3d\":[{\"type\":\"scatter3d\",\"line\":{\"colorbar\":{\"outlinewidth\":0,\"ticks\":\"\"}},\"marker\":{\"colorbar\":{\"outlinewidth\":0,\"ticks\":\"\"}}}],\"scattermapbox\":[{\"type\":\"scattermapbox\",\"marker\":{\"colorbar\":{\"outlinewidth\":0,\"ticks\":\"\"}}}],\"scatterternary\":[{\"type\":\"scatterternary\",\"marker\":{\"colorbar\":{\"outlinewidth\":0,\"ticks\":\"\"}}}],\"scattercarpet\":[{\"type\":\"scattercarpet\",\"marker\":{\"colorbar\":{\"outlinewidth\":0,\"ticks\":\"\"}}}],\"carpet\":[{\"aaxis\":{\"endlinecolor\":\"#2a3f5f\",\"gridcolor\":\"white\",\"linecolor\":\"white\",\"minorgridcolor\":\"white\",\"startlinecolor\":\"#2a3f5f\"},\"baxis\":{\"endlinecolor\":\"#2a3f5f\",\"gridcolor\":\"white\",\"linecolor\":\"white\",\"minorgridcolor\":\"white\",\"startlinecolor\":\"#2a3f5f\"},\"type\":\"carpet\"}],\"table\":[{\"cells\":{\"fill\":{\"color\":\"#EBF0F8\"},\"line\":{\"color\":\"white\"}},\"header\":{\"fill\":{\"color\":\"#C8D4E3\"},\"line\":{\"color\":\"white\"}},\"type\":\"table\"}],\"barpolar\":[{\"marker\":{\"line\":{\"color\":\"#E5ECF6\",\"width\":0.5},\"pattern\":{\"fillmode\":\"overlay\",\"size\":10,\"solidity\":0.2}},\"type\":\"barpolar\"}],\"pie\":[{\"automargin\":true,\"type\":\"pie\"}]},\"layout\":{\"autotypenumbers\":\"strict\",\"colorway\":[\"#636efa\",\"#EF553B\",\"#00cc96\",\"#ab63fa\",\"#FFA15A\",\"#19d3f3\",\"#FF6692\",\"#B6E880\",\"#FF97FF\",\"#FECB52\"],\"font\":{\"color\":\"#2a3f5f\"},\"hovermode\":\"closest\",\"hoverlabel\":{\"align\":\"left\"},\"paper_bgcolor\":\"white\",\"plot_bgcolor\":\"#E5ECF6\",\"polar\":{\"bgcolor\":\"#E5ECF6\",\"angularaxis\":{\"gridcolor\":\"white\",\"linecolor\":\"white\",\"ticks\":\"\"},\"radialaxis\":{\"gridcolor\":\"white\",\"linecolor\":\"white\",\"ticks\":\"\"}},\"ternary\":{\"bgcolor\":\"#E5ECF6\",\"aaxis\":{\"gridcolor\":\"white\",\"linecolor\":\"white\",\"ticks\":\"\"},\"baxis\":{\"gridcolor\":\"white\",\"linecolor\":\"white\",\"ticks\":\"\"},\"caxis\":{\"gridcolor\":\"white\",\"linecolor\":\"white\",\"ticks\":\"\"}},\"coloraxis\":{\"colorbar\":{\"outlinewidth\":0,\"ticks\":\"\"}},\"colorscale\":{\"sequential\":[[0.0,\"#0d0887\"],[0.1111111111111111,\"#46039f\"],[0.2222222222222222,\"#7201a8\"],[0.3333333333333333,\"#9c179e\"],[0.4444444444444444,\"#bd3786\"],[0.5555555555555556,\"#d8576b\"],[0.6666666666666666,\"#ed7953\"],[0.7777777777777778,\"#fb9f3a\"],[0.8888888888888888,\"#fdca26\"],[1.0,\"#f0f921\"]],\"sequentialminus\":[[0.0,\"#0d0887\"],[0.1111111111111111,\"#46039f\"],[0.2222222222222222,\"#7201a8\"],[0.3333333333333333,\"#9c179e\"],[0.4444444444444444,\"#bd3786\"],[0.5555555555555556,\"#d8576b\"],[0.6666666666666666,\"#ed7953\"],[0.7777777777777778,\"#fb9f3a\"],[0.8888888888888888,\"#fdca26\"],[1.0,\"#f0f921\"]],\"diverging\":[[0,\"#8e0152\"],[0.1,\"#c51b7d\"],[0.2,\"#de77ae\"],[0.3,\"#f1b6da\"],[0.4,\"#fde0ef\"],[0.5,\"#f7f7f7\"],[0.6,\"#e6f5d0\"],[0.7,\"#b8e186\"],[0.8,\"#7fbc41\"],[0.9,\"#4d9221\"],[1,\"#276419\"]]},\"xaxis\":{\"gridcolor\":\"white\",\"linecolor\":\"white\",\"ticks\":\"\",\"title\":{\"standoff\":15},\"zerolinecolor\":\"white\",\"automargin\":true,\"zerolinewidth\":2},\"yaxis\":{\"gridcolor\":\"white\",\"linecolor\":\"white\",\"ticks\":\"\",\"title\":{\"standoff\":15},\"zerolinecolor\":\"white\",\"automargin\":true,\"zerolinewidth\":2},\"scene\":{\"xaxis\":{\"backgroundcolor\":\"#E5ECF6\",\"gridcolor\":\"white\",\"linecolor\":\"white\",\"showbackground\":true,\"ticks\":\"\",\"zerolinecolor\":\"white\",\"gridwidth\":2},\"yaxis\":{\"backgroundcolor\":\"#E5ECF6\",\"gridcolor\":\"white\",\"linecolor\":\"white\",\"showbackground\":true,\"ticks\":\"\",\"zerolinecolor\":\"white\",\"gridwidth\":2},\"zaxis\":{\"backgroundcolor\":\"#E5ECF6\",\"gridcolor\":\"white\",\"linecolor\":\"white\",\"showbackground\":true,\"ticks\":\"\",\"zerolinecolor\":\"white\",\"gridwidth\":2}},\"shapedefaults\":{\"line\":{\"color\":\"#2a3f5f\"}},\"annotationdefaults\":{\"arrowcolor\":\"#2a3f5f\",\"arrowhead\":0,\"arrowwidth\":1},\"geo\":{\"bgcolor\":\"white\",\"landcolor\":\"#E5ECF6\",\"subunitcolor\":\"white\",\"showland\":true,\"showlakes\":true,\"lakecolor\":\"white\"},\"title\":{\"x\":0.05},\"mapbox\":{\"style\":\"light\"}}},\"xaxis\":{\"anchor\":\"y\",\"domain\":[0.0,1.0],\"title\":{\"text\":\"Age Category\"}},\"yaxis\":{\"anchor\":\"x\",\"domain\":[0.0,1.0],\"title\":{\"text\":\"Sum\"}},\"legend\":{\"title\":{\"text\":\"variable\"},\"tracegroupgap\":0},\"margin\":{\"t\":60},\"barmode\":\"group\",\"title\":{\"text\":\"Sum of STD occurrences across age categories\"}},                        {\"responsive\": true}                    ).then(function(){\n",
              "                            \n",
              "var gd = document.getElementById('b3eb199e-5f0d-41b0-958e-61a50ba69f75');\n",
              "var x = new MutationObserver(function (mutations, observer) {{\n",
              "        var display = window.getComputedStyle(gd).display;\n",
              "        if (!display || display === 'none') {{\n",
              "            console.log([gd, 'removed!']);\n",
              "            Plotly.purge(gd);\n",
              "            observer.disconnect();\n",
              "        }}\n",
              "}});\n",
              "\n",
              "// Listen for the removal of the full notebook cells\n",
              "var notebookContainer = gd.closest('#notebook-container');\n",
              "if (notebookContainer) {{\n",
              "    x.observe(notebookContainer, {childList: true});\n",
              "}}\n",
              "\n",
              "// Listen for the clearing of the current output cell\n",
              "var outputEl = gd.closest('.output');\n",
              "if (outputEl) {{\n",
              "    x.observe(outputEl, {childList: true});\n",
              "}}\n",
              "\n",
              "                        })                };                            </script>        </div>\n",
              "</body>\n",
              "</html>"
            ]
          },
          "metadata": {},
          "output_type": "display_data"
        }
      ],
      "source": [
        "#create historgram to understand Sum of STD occurences across age\n",
        "fig = px.histogram(std_agg, x = \"age_cat\",\n",
        "                   y = list(std_cols),\n",
        "                   barmode = \"group\",\n",
        "                   histfunc = \"sum\")\n",
        "fig.update_layout(title = \"Sum of STD occurrences across age categories\")\n",
        "fig.update_xaxes(title = \"Age Category\")\n",
        "fig.update_yaxes(title = \"Sum\")\n",
        "#show plot\n",
        "fig.show()\n",
        "#some discrepencies exist\n"
      ]
    },
    {
      "cell_type": "code",
      "execution_count": null,
      "metadata": {
        "colab": {
          "base_uri": "https://localhost:8080/",
          "height": 542
        },
        "id": "n69RgW1W-WXp",
        "outputId": "d4fa499c-831b-4daa-ed74-7fdb29e0fc3f"
      },
      "outputs": [
        {
          "data": {
            "text/html": [
              "<html>\n",
              "<head><meta charset=\"utf-8\" /></head>\n",
              "<body>\n",
              "    <div>            <script src=\"https://cdnjs.cloudflare.com/ajax/libs/mathjax/2.7.5/MathJax.js?config=TeX-AMS-MML_SVG\"></script><script type=\"text/javascript\">if (window.MathJax && window.MathJax.Hub && window.MathJax.Hub.Config) {window.MathJax.Hub.Config({SVG: {font: \"STIX-Web\"}});}</script>                <script type=\"text/javascript\">window.PlotlyConfig = {MathJaxConfig: 'local'};</script>\n",
              "        <script charset=\"utf-8\" src=\"https://cdn.plot.ly/plotly-2.24.1.min.js\"></script>                <div id=\"440afd67-ed0a-4747-b283-d029fad318c3\" class=\"plotly-graph-div\" style=\"height:525px; width:100%;\"></div>            <script type=\"text/javascript\">                                    window.PLOTLYENV=window.PLOTLYENV || {};                                    if (document.getElementById(\"440afd67-ed0a-4747-b283-d029fad318c3\")) {                    Plotly.newPlot(                        \"440afd67-ed0a-4747-b283-d029fad318c3\",                        [{\"alignmentgroup\":\"True\",\"boxpoints\":\"outliers\",\"hovertemplate\":\"age_cat=%{x}\\u003cbr\\u003etotal_std=%{y}\\u003cextra\\u003e\\u003c\\u002fextra\\u003e\",\"legendgroup\":\"\",\"marker\":{\"color\":\"blue\"},\"name\":\"\",\"notched\":false,\"offsetgroup\":\"\",\"orientation\":\"v\",\"showlegend\":false,\"x\":[\"Teen\",\"Teen\",\"Teen\",\"Teen\",\"Teen\",\"Teen\",\"Teen\",\"Teen\",\"Teen\",\"Teen\",\"Teen\",\"Teen\",\"Teen\",\"Teen\",\"Teen\",\"Teen\",\"Teen\",\"Teen\",\"Teen\",\"Teen\",\"Teen\",\"Teen\",\"Teen\",\"Teen\",\"Teen\",\"Teen\",\"Teen\",\"Teen\",\"Teen\",\"Teen\",\"Teen\",\"Teen\",\"Teen\",\"Teen\",\"Teen\",\"Teen\",\"Teen\",\"Teen\",\"Teen\",\"Teen\",\"Teen\",\"Teen\",\"Teen\",\"Teen\",\"Teen\",\"Teen\",\"Teen\",\"Teen\",\"Teen\",\"Teen\",\"Teen\",\"Teen\",\"Teen\",\"Teen\",\"Teen\",\"Teen\",\"Teen\",\"Teen\",\"Teen\",\"Teen\",\"Teen\",\"Teen\",\"Teen\",\"Teen\",\"Teen\",\"Teen\",\"Teen\",\"Teen\",\"Teen\",\"Teen\",\"Teen\",\"Teen\",\"Teen\",\"Teen\",\"Teen\",\"Teen\",\"Teen\",\"Teen\",\"Teen\",\"Teen\",\"Teen\",\"Teen\",\"Teen\",\"Teen\",\"Teen\",\"Teen\",\"Teen\",\"Teen\",\"Teen\",\"Teen\",\"Teen\",\"Teen\",\"Teen\",\"Teen\",\"Teen\",\"Teen\",\"Teen\",\"Teen\",\"Teen\",\"Teen\",\"Teen\",\"Teen\",\"Teen\",\"Teen\",\"Teen\",\"Teen\",\"Teen\",\"Teen\",\"Teen\",\"Teen\",\"Teen\",\"Teen\",\"Teen\",\"Teen\",\"Teen\",\"Teen\",\"Teen\",\"Teen\",\"Teen\",\"Teen\",\"Teen\",\"Teen\",\"Teen\",\"Teen\",\"Teen\",\"Teen\",\"Teen\",\"Teen\",\"Teen\",\"Teen\",\"Teen\",\"Teen\",\"Teen\",\"Teen\",\"Teen\",\"Teen\",\"Teen\",\"Teen\",\"Teen\",\"Teen\",\"Teen\",\"Teen\",\"Teen\",\"Teen\",\"Teen\",\"Teen\",\"Teen\",\"Teen\",\"Teen\",\"Teen\",\"Teen\",\"Teen\",\"Teen\",\"Teen\",\"Teen\",\"Teen\",\"Teen\",\"Teen\",\"Teen\",\"Teen\",\"Teen\",\"Teen\",\"Teen\",\"Teen\",\"Teen\",\"Teen\",\"Teen\",\"Teen\",\"Teen\",\"Teen\",\"Teen\",\"Teen\",\"Teen\",\"Teen\",\"Teen\",\"Teen\",\"Teen\",\"Teen\",\"Teen\",\"20's\",\"20's\",\"20's\",\"20's\",\"20's\",\"20's\",\"20's\",\"20's\",\"20's\",\"20's\",\"20's\",\"20's\",\"20's\",\"20's\",\"20's\",\"20's\",\"20's\",\"20's\",\"20's\",\"20's\",\"20's\",\"20's\",\"20's\",\"20's\",\"20's\",\"20's\",\"20's\",\"20's\",\"20's\",\"20's\",\"20's\",\"20's\",\"20's\",\"20's\",\"20's\",\"20's\",\"20's\",\"20's\",\"20's\",\"20's\",\"20's\",\"20's\",\"20's\",\"20's\",\"20's\",\"20's\",\"20's\",\"20's\",\"20's\",\"20's\",\"20's\",\"20's\",\"20's\",\"20's\",\"20's\",\"20's\",\"20's\",\"20's\",\"20's\",\"20's\",\"20's\",\"20's\",\"20's\",\"20's\",\"20's\",\"20's\",\"20's\",\"20's\",\"20's\",\"20's\",\"20's\",\"20's\",\"20's\",\"20's\",\"20's\",\"20's\",\"20's\",\"20's\",\"20's\",\"20's\",\"20's\",\"20's\",\"20's\",\"20's\",\"20's\",\"20's\",\"20's\",\"20's\",\"20's\",\"20's\",\"20's\",\"20's\",\"20's\",\"20's\",\"20's\",\"20's\",\"20's\",\"20's\",\"20's\",\"20's\",\"20's\",\"20's\",\"20's\",\"20's\",\"20's\",\"20's\",\"20's\",\"20's\",\"20's\",\"20's\",\"20's\",\"20's\",\"20's\",\"20's\",\"20's\",\"20's\",\"20's\",\"20's\",\"20's\",\"20's\",\"20's\",\"20's\",\"20's\",\"20's\",\"20's\",\"20's\",\"20's\",\"20's\",\"20's\",\"20's\",\"20's\",\"20's\",\"20's\",\"20's\",\"20's\",\"20's\",\"20's\",\"20's\",\"20's\",\"20's\",\"20's\",\"20's\",\"20's\",\"20's\",\"20's\",\"20's\",\"20's\",\"20's\",\"20's\",\"20's\",\"20's\",\"20's\",\"20's\",\"20's\",\"20's\",\"20's\",\"20's\",\"20's\",\"20's\",\"20's\",\"20's\",\"20's\",\"20's\",\"20's\",\"20's\",\"20's\",\"20's\",\"20's\",\"20's\",\"20's\",\"20's\",\"20's\",\"20's\",\"20's\",\"20's\",\"20's\",\"20's\",\"20's\",\"20's\",\"20's\",\"20's\",\"20's\",\"20's\",\"20's\",\"20's\",\"20's\",\"20's\",\"20's\",\"20's\",\"20's\",\"20's\",\"20's\",\"20's\",\"20's\",\"20's\",\"20's\",\"20's\",\"20's\",\"20's\",\"20's\",\"20's\",\"20's\",\"20's\",\"20's\",\"20's\",\"20's\",\"20's\",\"20's\",\"20's\",\"20's\",\"20's\",\"20's\",\"20's\",\"20's\",\"20's\",\"20's\",\"20's\",\"20's\",\"20's\",\"20's\",\"20's\",\"20's\",\"20's\",\"20's\",\"20's\",\"20's\",\"20's\",\"20's\",\"20's\",\"20's\",\"20's\",\"20's\",\"20's\",\"20's\",\"20's\",\"20's\",\"20's\",\"20's\",\"20's\",\"20's\",\"20's\",\"20's\",\"20's\",\"20's\",\"20's\",\"20's\",\"20's\",\"20's\",\"20's\",\"20's\",\"20's\",\"20's\",\"20's\",\"20's\",\"20's\",\"20's\",\"20's\",\"20's\",\"20's\",\"20's\",\"20's\",\"20's\",\"20's\",\"20's\",\"20's\",\"20's\",\"20's\",\"20's\",\"20's\",\"20's\",\"20's\",\"20's\",\"20's\",\"20's\",\"20's\",\"20's\",\"20's\",\"20's\",\"20's\",\"20's\",\"20's\",\"20's\",\"20's\",\"20's\",\"20's\",\"20's\",\"20's\",\"20's\",\"20's\",\"20's\",\"20's\",\"20's\",\"20's\",\"20's\",\"20's\",\"20's\",\"20's\",\"20's\",\"20's\",\"20's\",\"20's\",\"20's\",\"20's\",\"20's\",\"20's\",\"20's\",\"20's\",\"20's\",\"20's\",\"20's\",\"20's\",\"20's\",\"20's\",\"20's\",\"20's\",\"20's\",\"20's\",\"20's\",\"20's\",\"20's\",\"20's\",\"20's\",\"20's\",\"20's\",\"20's\",\"20's\",\"20's\",\"20's\",\"20's\",\"20's\",\"20's\",\"20's\",\"20's\",\"20's\",\"20's\",\"20's\",\"20's\",\"20's\",\"20's\",\"20's\",\"20's\",\"20's\",\"20's\",\"20's\",\"20's\",\"20's\",\"20's\",\"20's\",\"20's\",\"20's\",\"20's\",\"20's\",\"20's\",\"20's\",\"20's\",\"20's\",\"20's\",\"20's\",\"20's\",\"20's\",\"20's\",\"20's\",\"20's\",\"20's\",\"20's\",\"20's\",\"20's\",\"20's\",\"20's\",\"20's\",\"20's\",\"20's\",\"20's\",\"20's\",\"20's\",\"20's\",\"20's\",\"20's\",\"20's\",\"20's\",\"20's\",\"20's\",\"20's\",\"20's\",\"20's\",\"20's\",\"20's\",\"20's\",\"20's\",\"20's\",\"20's\",\"20's\",\"20's\",\"20's\",\"30's\",\"30's\",\"30's\",\"30's\",\"30's\",\"30's\",\"30's\",\"30's\",\"30's\",\"30's\",\"30's\",\"30's\",\"30's\",\"30's\",\"30's\",\"30's\",\"30's\",\"30's\",\"30's\",\"30's\",\"30's\",\"30's\",\"30's\",\"30's\",\"30's\",\"30's\",\"30's\",\"30's\",\"30's\",\"30's\",\"30's\",\"30's\",\"30's\",\"30's\",\"30's\",\"30's\",\"30's\",\"30's\",\"30's\",\"30's\",\"30's\",\"30's\",\"30's\",\"30's\",\"30's\",\"30's\",\"30's\",\"30's\",\"30's\",\"30's\",\"30's\",\"30's\",\"30's\",\"30's\",\"30's\",\"30's\",\"30's\",\"30's\",\"30's\",\"30's\",\"30's\",\"30's\",\"30's\",\"30's\",\"30's\",\"30's\",\"30's\",\"30's\",\"30's\",\"30's\",\"30's\",\"30's\",\"30's\",\"30's\",\"30's\",\"30's\",\"30's\",\"30's\",\"30's\",\"30's\",\"30's\",\"30's\",\"30's\",\"30's\",\"30's\",\"30's\",\"30's\",\"30's\",\"30's\",\"30's\",\"30's\",\"30's\",\"30's\",\"30's\",\"30's\",\"30's\",\"30's\",\"30's\",\"30's\",\"30's\",\"30's\",\"30's\",\"30's\",\"30's\",\"30's\",\"30's\",\"30's\",\"30's\",\"30's\",\"30's\",\"30's\",\"30's\",\"30's\",\"30's\",\"30's\",\"30's\",\"30's\",\"30's\",\"30's\",\"30's\",\"30's\",\"30's\",\"30's\",\"30's\",\"30's\",\"30's\",\"30's\",\"30's\",\"30's\",\"30's\",\"30's\",\"30's\",\"30's\",\"30's\",\"30's\",\"30's\",\"30's\",\"30's\",\"30's\",\"30's\",\"30's\",\"30's\",\"30's\",\"30's\",\"30's\",\"30's\",\"30's\",\"30's\",\"30's\",\"30's\",\"30's\",\"30's\",\"30's\",\"30's\",\"30's\",\"30's\",\"30's\",\"30's\",\"30's\",\"30's\",\"30's\",\"30's\",\"30's\",\"30's\",\"30's\",\"30's\",\"30's\",\"30's\",\"30's\",\"30's\",\"30's\",\"30's\",\"30's\",\"30's\",\"30's\",\"30's\",\"30's\",\"30's\",\"30's\",\"30's\",\"30's\",\"30's\",\"30's\",\"30's\",\"30's\",\"30's\",\"30's\",\"30's\",\"30's\",\"30's\",\"30's\",\"30's\",\"30's\",\"30's\",\"30's\",\"30's\",\"30's\",\"30's\",\"30's\",\"30's\",\"30's\",\"30's\",\"30's\",\"30's\",\"30's\",\"30's\",\"30's\",\"30's\",\"30's\",\"30's\",\"30's\",\"30's\",\"30's\",\"30's\",\"30's\",\"30's\",\"30's\",\"30's\",\"30's\",\"30's\",\"40's\",\"40's\",\"40's\",\"40's\",\"40's\",\"40's\",\"40's\",\"40's\",\"40's\",\"40's\",\"40's\",\"40's\",\"40's\",\"40's\",\"40's\",\"40's\",\"40's\",\"40's\",\"40's\",\"40's\",\"40's\",\"40's\",\"40's\",\"40's\",\"40's\",\"40's\",\"40's\",\"40's\",\"40's\",\"40's\",\"40's\",\"40's\",\"40's\",\"40's\",\"40's\",\"40's\",\"40's\",\"40's\",\"40's\",\"40's\",\"40's\",\"40's\",\"40's\",\"40's\",\"40's\",\"40's\",\"40's\",\"40's\",\"40's\",\"40's\",\"40's\",\"40's\",\"40's\",\"40's\",\"40's\",\"40's\",\"50's\",\"50's\",\"50's\",\"50's\",\"50's\",\"70+\",\"70+\",\"70+\",\"70+\"],\"x0\":\" \",\"xaxis\":\"x\",\"y\":[0,0,0,0,0,0,0,0,0,0,0,0,1,0,0,0,0,0,0,0,0,0,0,0,0,0,0,0,0,0,0,0,0,0,0,0,0,0,0,0,0,0,0,0,0,0,0,0,0,0,0,0,0,0,4,0,0,2,0,1,0,0,3,0,2,0,0,0,0,0,0,0,0,0,0,0,0,0,0,0,0,0,0,0,0,0,0,0,0,0,0,0,2,0,0,0,0,0,0,0,0,0,0,0,0,0,2,0,0,0,3,0,0,0,0,0,0,2,0,0,0,1,0,0,0,0,0,0,0,0,0,0,0,0,0,0,3,0,0,0,0,0,0,0,0,0,0,0,0,0,2,0,0,0,0,0,0,0,0,0,0,0,0,2,0,2,0,0,0,0,0,0,0,0,0,0,0,0,0,0,0,0,0,0,0,0,0,0,0,0,0,1,0,0,0,0,0,0,0,0,0,2,0,0,0,0,0,0,0,2,0,0,0,0,0,1,0,0,0,0,0,0,0,2,0,0,0,0,0,0,0,0,0,0,0,0,0,0,0,0,0,0,0,0,0,0,0,0,0,0,0,0,0,0,0,2,0,0,0,0,0,0,0,0,0,0,0,0,1,0,0,0,0,0,0,0,0,0,0,0,0,0,0,0,0,0,0,0,0,0,0,0,0,0,0,2,0,0,0,0,0,0,0,0,0,0,0,0,0,0,0,0,0,0,0,0,0,0,0,0,0,0,0,0,0,0,0,2,0,0,0,0,0,0,0,0,2,0,0,0,0,0,0,0,0,2,0,0,0,0,0,0,0,0,0,0,0,0,1,0,0,0,0,0,0,0,0,0,0,0,0,0,0,0,0,0,0,1,1,0,0,2,1,0,0,0,0,0,0,0,0,0,0,2,0,0,0,0,0,0,0,0,2,0,0,0,0,0,0,0,3,0,0,0,2,0,0,0,0,0,0,0,0,0,0,0,0,0,0,0,0,0,2,0,0,0,0,0,0,0,0,0,0,0,0,1,0,0,0,0,0,0,0,0,0,0,0,0,0,0,1,0,0,0,0,0,0,0,0,0,0,0,0,0,0,0,0,0,0,0,0,1,0,0,0,0,0,0,0,0,0,3,0,0,0,0,0,0,0,0,0,0,0,0,0,2,0,0,0,2,0,0,0,0,0,0,0,0,0,0,0,0,0,2,1,0,0,0,0,0,0,0,0,0,0,0,0,0,0,0,0,0,0,2,0,0,0,1,0,0,0,1,0,0,0,0,0,0,0,0,0,0,0,1,0,0,2,0,0,0,0,0,0,0,0,0,0,0,0,0,0,0,0,0,0,1,1,0,2,1,0,0,0,0,0,0,0,0,0,2,0,1,0,0,0,0,0,1,0,0,0,0,0,0,0,0,0,0,0,0,0,0,0,0,0,0,0,0,0,0,2,0,0,0,0,0,0,0,0,0,0,0,0,1,0,0,0,0,0,0,0,0,0,1,0,0,0,0,0,0,0,0,0,1,0,0,0,0,0,0,0,0,0,0,0,2,0,0,0,0,0,0,0,0,0,0,0,0,0,0,0,0,0,0,1,0,0,0,0,0,0,0,0,0,0,0,0,2,0,0,0,0,0,0,0,0,0,2,0,0,0,0,0,0,0,0,0,1,0,0,0,0,0,0,0,0,0,0,1,0,0,3,0,0,3,0,0,0,0,0,0,0,0,1,0,0,0,0,0,0,0,0,1,0,0,0,0,0,0,0,0,0,0,1,0,0,0,0,0,0,0,0,0,0,0,0,0,0,0,0,0,0,0,1,0,0,0,2,0,0,0,0,0,2,0,0,0,1,0,0,0,0,0,0,0,2,0,0,2,0,0,2,0,0,0,0,0,0,0,0,0,0,0,0,0,0,0,0,0,0,0,0,0,0,0,0,0,1,0,0,0,0,0,0,0,0,0,0],\"y0\":\" \",\"yaxis\":\"y\",\"type\":\"box\"}],                        {\"template\":{\"data\":{\"histogram2dcontour\":[{\"type\":\"histogram2dcontour\",\"colorbar\":{\"outlinewidth\":0,\"ticks\":\"\"},\"colorscale\":[[0.0,\"#0d0887\"],[0.1111111111111111,\"#46039f\"],[0.2222222222222222,\"#7201a8\"],[0.3333333333333333,\"#9c179e\"],[0.4444444444444444,\"#bd3786\"],[0.5555555555555556,\"#d8576b\"],[0.6666666666666666,\"#ed7953\"],[0.7777777777777778,\"#fb9f3a\"],[0.8888888888888888,\"#fdca26\"],[1.0,\"#f0f921\"]]}],\"choropleth\":[{\"type\":\"choropleth\",\"colorbar\":{\"outlinewidth\":0,\"ticks\":\"\"}}],\"histogram2d\":[{\"type\":\"histogram2d\",\"colorbar\":{\"outlinewidth\":0,\"ticks\":\"\"},\"colorscale\":[[0.0,\"#0d0887\"],[0.1111111111111111,\"#46039f\"],[0.2222222222222222,\"#7201a8\"],[0.3333333333333333,\"#9c179e\"],[0.4444444444444444,\"#bd3786\"],[0.5555555555555556,\"#d8576b\"],[0.6666666666666666,\"#ed7953\"],[0.7777777777777778,\"#fb9f3a\"],[0.8888888888888888,\"#fdca26\"],[1.0,\"#f0f921\"]]}],\"heatmap\":[{\"type\":\"heatmap\",\"colorbar\":{\"outlinewidth\":0,\"ticks\":\"\"},\"colorscale\":[[0.0,\"#0d0887\"],[0.1111111111111111,\"#46039f\"],[0.2222222222222222,\"#7201a8\"],[0.3333333333333333,\"#9c179e\"],[0.4444444444444444,\"#bd3786\"],[0.5555555555555556,\"#d8576b\"],[0.6666666666666666,\"#ed7953\"],[0.7777777777777778,\"#fb9f3a\"],[0.8888888888888888,\"#fdca26\"],[1.0,\"#f0f921\"]]}],\"heatmapgl\":[{\"type\":\"heatmapgl\",\"colorbar\":{\"outlinewidth\":0,\"ticks\":\"\"},\"colorscale\":[[0.0,\"#0d0887\"],[0.1111111111111111,\"#46039f\"],[0.2222222222222222,\"#7201a8\"],[0.3333333333333333,\"#9c179e\"],[0.4444444444444444,\"#bd3786\"],[0.5555555555555556,\"#d8576b\"],[0.6666666666666666,\"#ed7953\"],[0.7777777777777778,\"#fb9f3a\"],[0.8888888888888888,\"#fdca26\"],[1.0,\"#f0f921\"]]}],\"contourcarpet\":[{\"type\":\"contourcarpet\",\"colorbar\":{\"outlinewidth\":0,\"ticks\":\"\"}}],\"contour\":[{\"type\":\"contour\",\"colorbar\":{\"outlinewidth\":0,\"ticks\":\"\"},\"colorscale\":[[0.0,\"#0d0887\"],[0.1111111111111111,\"#46039f\"],[0.2222222222222222,\"#7201a8\"],[0.3333333333333333,\"#9c179e\"],[0.4444444444444444,\"#bd3786\"],[0.5555555555555556,\"#d8576b\"],[0.6666666666666666,\"#ed7953\"],[0.7777777777777778,\"#fb9f3a\"],[0.8888888888888888,\"#fdca26\"],[1.0,\"#f0f921\"]]}],\"surface\":[{\"type\":\"surface\",\"colorbar\":{\"outlinewidth\":0,\"ticks\":\"\"},\"colorscale\":[[0.0,\"#0d0887\"],[0.1111111111111111,\"#46039f\"],[0.2222222222222222,\"#7201a8\"],[0.3333333333333333,\"#9c179e\"],[0.4444444444444444,\"#bd3786\"],[0.5555555555555556,\"#d8576b\"],[0.6666666666666666,\"#ed7953\"],[0.7777777777777778,\"#fb9f3a\"],[0.8888888888888888,\"#fdca26\"],[1.0,\"#f0f921\"]]}],\"mesh3d\":[{\"type\":\"mesh3d\",\"colorbar\":{\"outlinewidth\":0,\"ticks\":\"\"}}],\"scatter\":[{\"fillpattern\":{\"fillmode\":\"overlay\",\"size\":10,\"solidity\":0.2},\"type\":\"scatter\"}],\"parcoords\":[{\"type\":\"parcoords\",\"line\":{\"colorbar\":{\"outlinewidth\":0,\"ticks\":\"\"}}}],\"scatterpolargl\":[{\"type\":\"scatterpolargl\",\"marker\":{\"colorbar\":{\"outlinewidth\":0,\"ticks\":\"\"}}}],\"bar\":[{\"error_x\":{\"color\":\"#2a3f5f\"},\"error_y\":{\"color\":\"#2a3f5f\"},\"marker\":{\"line\":{\"color\":\"#E5ECF6\",\"width\":0.5},\"pattern\":{\"fillmode\":\"overlay\",\"size\":10,\"solidity\":0.2}},\"type\":\"bar\"}],\"scattergeo\":[{\"type\":\"scattergeo\",\"marker\":{\"colorbar\":{\"outlinewidth\":0,\"ticks\":\"\"}}}],\"scatterpolar\":[{\"type\":\"scatterpolar\",\"marker\":{\"colorbar\":{\"outlinewidth\":0,\"ticks\":\"\"}}}],\"histogram\":[{\"marker\":{\"pattern\":{\"fillmode\":\"overlay\",\"size\":10,\"solidity\":0.2}},\"type\":\"histogram\"}],\"scattergl\":[{\"type\":\"scattergl\",\"marker\":{\"colorbar\":{\"outlinewidth\":0,\"ticks\":\"\"}}}],\"scatter3d\":[{\"type\":\"scatter3d\",\"line\":{\"colorbar\":{\"outlinewidth\":0,\"ticks\":\"\"}},\"marker\":{\"colorbar\":{\"outlinewidth\":0,\"ticks\":\"\"}}}],\"scattermapbox\":[{\"type\":\"scattermapbox\",\"marker\":{\"colorbar\":{\"outlinewidth\":0,\"ticks\":\"\"}}}],\"scatterternary\":[{\"type\":\"scatterternary\",\"marker\":{\"colorbar\":{\"outlinewidth\":0,\"ticks\":\"\"}}}],\"scattercarpet\":[{\"type\":\"scattercarpet\",\"marker\":{\"colorbar\":{\"outlinewidth\":0,\"ticks\":\"\"}}}],\"carpet\":[{\"aaxis\":{\"endlinecolor\":\"#2a3f5f\",\"gridcolor\":\"white\",\"linecolor\":\"white\",\"minorgridcolor\":\"white\",\"startlinecolor\":\"#2a3f5f\"},\"baxis\":{\"endlinecolor\":\"#2a3f5f\",\"gridcolor\":\"white\",\"linecolor\":\"white\",\"minorgridcolor\":\"white\",\"startlinecolor\":\"#2a3f5f\"},\"type\":\"carpet\"}],\"table\":[{\"cells\":{\"fill\":{\"color\":\"#EBF0F8\"},\"line\":{\"color\":\"white\"}},\"header\":{\"fill\":{\"color\":\"#C8D4E3\"},\"line\":{\"color\":\"white\"}},\"type\":\"table\"}],\"barpolar\":[{\"marker\":{\"line\":{\"color\":\"#E5ECF6\",\"width\":0.5},\"pattern\":{\"fillmode\":\"overlay\",\"size\":10,\"solidity\":0.2}},\"type\":\"barpolar\"}],\"pie\":[{\"automargin\":true,\"type\":\"pie\"}]},\"layout\":{\"autotypenumbers\":\"strict\",\"colorway\":[\"#636efa\",\"#EF553B\",\"#00cc96\",\"#ab63fa\",\"#FFA15A\",\"#19d3f3\",\"#FF6692\",\"#B6E880\",\"#FF97FF\",\"#FECB52\"],\"font\":{\"color\":\"#2a3f5f\"},\"hovermode\":\"closest\",\"hoverlabel\":{\"align\":\"left\"},\"paper_bgcolor\":\"white\",\"plot_bgcolor\":\"#E5ECF6\",\"polar\":{\"bgcolor\":\"#E5ECF6\",\"angularaxis\":{\"gridcolor\":\"white\",\"linecolor\":\"white\",\"ticks\":\"\"},\"radialaxis\":{\"gridcolor\":\"white\",\"linecolor\":\"white\",\"ticks\":\"\"}},\"ternary\":{\"bgcolor\":\"#E5ECF6\",\"aaxis\":{\"gridcolor\":\"white\",\"linecolor\":\"white\",\"ticks\":\"\"},\"baxis\":{\"gridcolor\":\"white\",\"linecolor\":\"white\",\"ticks\":\"\"},\"caxis\":{\"gridcolor\":\"white\",\"linecolor\":\"white\",\"ticks\":\"\"}},\"coloraxis\":{\"colorbar\":{\"outlinewidth\":0,\"ticks\":\"\"}},\"colorscale\":{\"sequential\":[[0.0,\"#0d0887\"],[0.1111111111111111,\"#46039f\"],[0.2222222222222222,\"#7201a8\"],[0.3333333333333333,\"#9c179e\"],[0.4444444444444444,\"#bd3786\"],[0.5555555555555556,\"#d8576b\"],[0.6666666666666666,\"#ed7953\"],[0.7777777777777778,\"#fb9f3a\"],[0.8888888888888888,\"#fdca26\"],[1.0,\"#f0f921\"]],\"sequentialminus\":[[0.0,\"#0d0887\"],[0.1111111111111111,\"#46039f\"],[0.2222222222222222,\"#7201a8\"],[0.3333333333333333,\"#9c179e\"],[0.4444444444444444,\"#bd3786\"],[0.5555555555555556,\"#d8576b\"],[0.6666666666666666,\"#ed7953\"],[0.7777777777777778,\"#fb9f3a\"],[0.8888888888888888,\"#fdca26\"],[1.0,\"#f0f921\"]],\"diverging\":[[0,\"#8e0152\"],[0.1,\"#c51b7d\"],[0.2,\"#de77ae\"],[0.3,\"#f1b6da\"],[0.4,\"#fde0ef\"],[0.5,\"#f7f7f7\"],[0.6,\"#e6f5d0\"],[0.7,\"#b8e186\"],[0.8,\"#7fbc41\"],[0.9,\"#4d9221\"],[1,\"#276419\"]]},\"xaxis\":{\"gridcolor\":\"white\",\"linecolor\":\"white\",\"ticks\":\"\",\"title\":{\"standoff\":15},\"zerolinecolor\":\"white\",\"automargin\":true,\"zerolinewidth\":2},\"yaxis\":{\"gridcolor\":\"white\",\"linecolor\":\"white\",\"ticks\":\"\",\"title\":{\"standoff\":15},\"zerolinecolor\":\"white\",\"automargin\":true,\"zerolinewidth\":2},\"scene\":{\"xaxis\":{\"backgroundcolor\":\"#E5ECF6\",\"gridcolor\":\"white\",\"linecolor\":\"white\",\"showbackground\":true,\"ticks\":\"\",\"zerolinecolor\":\"white\",\"gridwidth\":2},\"yaxis\":{\"backgroundcolor\":\"#E5ECF6\",\"gridcolor\":\"white\",\"linecolor\":\"white\",\"showbackground\":true,\"ticks\":\"\",\"zerolinecolor\":\"white\",\"gridwidth\":2},\"zaxis\":{\"backgroundcolor\":\"#E5ECF6\",\"gridcolor\":\"white\",\"linecolor\":\"white\",\"showbackground\":true,\"ticks\":\"\",\"zerolinecolor\":\"white\",\"gridwidth\":2}},\"shapedefaults\":{\"line\":{\"color\":\"#2a3f5f\"}},\"annotationdefaults\":{\"arrowcolor\":\"#2a3f5f\",\"arrowhead\":0,\"arrowwidth\":1},\"geo\":{\"bgcolor\":\"white\",\"landcolor\":\"#E5ECF6\",\"subunitcolor\":\"white\",\"showland\":true,\"showlakes\":true,\"lakecolor\":\"white\"},\"title\":{\"x\":0.05},\"mapbox\":{\"style\":\"light\"}}},\"xaxis\":{\"anchor\":\"y\",\"domain\":[0.0,1.0],\"title\":{\"text\":\"Age Category\"}},\"yaxis\":{\"anchor\":\"x\",\"domain\":[0.0,1.0],\"title\":{\"text\":\"Number of Sexual Partners\"}},\"legend\":{\"tracegroupgap\":0},\"margin\":{\"t\":60},\"boxmode\":\"group\",\"title\":{\"text\":\"Distribution of number of sexual partners per age group\"}},                        {\"responsive\": true}                    ).then(function(){\n",
              "                            \n",
              "var gd = document.getElementById('440afd67-ed0a-4747-b283-d029fad318c3');\n",
              "var x = new MutationObserver(function (mutations, observer) {{\n",
              "        var display = window.getComputedStyle(gd).display;\n",
              "        if (!display || display === 'none') {{\n",
              "            console.log([gd, 'removed!']);\n",
              "            Plotly.purge(gd);\n",
              "            observer.disconnect();\n",
              "        }}\n",
              "}});\n",
              "\n",
              "// Listen for the removal of the full notebook cells\n",
              "var notebookContainer = gd.closest('#notebook-container');\n",
              "if (notebookContainer) {{\n",
              "    x.observe(notebookContainer, {childList: true});\n",
              "}}\n",
              "\n",
              "// Listen for the clearing of the current output cell\n",
              "var outputEl = gd.closest('.output');\n",
              "if (outputEl) {{\n",
              "    x.observe(outputEl, {childList: true});\n",
              "}}\n",
              "\n",
              "                        })                };                            </script>        </div>\n",
              "</body>\n",
              "</html>"
            ]
          },
          "metadata": {},
          "output_type": "display_data"
        }
      ],
      "source": [
        "#create boxplot to understand Distribution of number of sexual partners per age group\n",
        "age_num_sex_partners = px.box(risk_factor_df.sort_values(by=\"Age\",ascending=True), x=\"age_cat\", y=\"total_std\",\n",
        "                      color_discrete_sequence=[\"blue\"], points=\"outliers\",\n",
        "                      category_orders=[\"Teenager\", \"Twenties\", \"Thirties\", \"Forties\", \"Fifties\",\n",
        "                                       \"Seventy and over\"])\n",
        "age_num_sex_partners.update_xaxes(title=\"Age Category\")\n",
        "age_num_sex_partners.update_yaxes(title=\"Number of Sexual Partners\")\n",
        "age_num_sex_partners.update_layout(title=\"Distribution of number of sexual partners per age group\")\n",
        "#show plot\n",
        "age_num_sex_partners.show()"
      ]
    },
    {
      "cell_type": "code",
      "execution_count": null,
      "metadata": {
        "colab": {
          "base_uri": "https://localhost:8080/",
          "height": 1000
        },
        "id": "a8KSzY7A-cm4",
        "outputId": "732f67ff-3e3f-481d-82e1-2dc88bbd3dcb"
      },
      "outputs": [
        {
          "data": {
            "text/html": [
              "<html>\n",
              "<head><meta charset=\"utf-8\" /></head>\n",
              "<body>\n",
              "    <div>            <script src=\"https://cdnjs.cloudflare.com/ajax/libs/mathjax/2.7.5/MathJax.js?config=TeX-AMS-MML_SVG\"></script><script type=\"text/javascript\">if (window.MathJax && window.MathJax.Hub && window.MathJax.Hub.Config) {window.MathJax.Hub.Config({SVG: {font: \"STIX-Web\"}});}</script>                <script type=\"text/javascript\">window.PlotlyConfig = {MathJaxConfig: 'local'};</script>\n",
              "        <script charset=\"utf-8\" src=\"https://cdn.plot.ly/plotly-2.24.1.min.js\"></script>                <div id=\"4b7d2885-5f00-44cd-aa4c-d0bb348056cb\" class=\"plotly-graph-div\" style=\"height:1200px; width:100%;\"></div>            <script type=\"text/javascript\">                                    window.PLOTLYENV=window.PLOTLYENV || {};                                    if (document.getElementById(\"4b7d2885-5f00-44cd-aa4c-d0bb348056cb\")) {                    Plotly.newPlot(                        \"4b7d2885-5f00-44cd-aa4c-d0bb348056cb\",                        [{\"alignmentgroup\":\"True\",\"bingroup\":\"x\",\"hovertemplate\":\"age_cat=%{x}\\u003cbr\\u003etotal_std=0\\u003cbr\\u003ecount=%{y}\\u003cextra\\u003e\\u003c\\u002fextra\\u003e\",\"legendgroup\":\"\",\"marker\":{\"color\":\"rebeccapurple\",\"opacity\":0.7,\"pattern\":{\"shape\":\"\"}},\"name\":\"\",\"offsetgroup\":\"\",\"orientation\":\"v\",\"showlegend\":false,\"x\":[\"20's\",\"20's\",\"20's\",\"20's\",\"20's\",\"20's\",\"20's\",\"20's\",\"20's\",\"20's\",\"20's\",\"20's\",\"20's\",\"20's\",\"20's\",\"20's\",\"20's\",\"20's\",\"20's\",\"20's\",\"20's\",\"20's\",\"20's\",\"20's\",\"20's\",\"20's\",\"20's\",\"20's\",\"20's\",\"20's\",\"20's\",\"20's\",\"20's\",\"20's\",\"20's\",\"20's\",\"20's\",\"20's\",\"20's\",\"20's\",\"20's\",\"20's\",\"20's\",\"20's\",\"20's\",\"20's\",\"20's\",\"20's\",\"20's\",\"20's\",\"20's\",\"20's\",\"20's\",\"20's\",\"20's\",\"20's\",\"20's\",\"20's\",\"20's\",\"20's\",\"20's\",\"20's\",\"20's\",\"20's\",\"20's\",\"20's\",\"20's\",\"20's\",\"20's\",\"20's\",\"20's\",\"20's\",\"20's\",\"20's\",\"20's\",\"20's\",\"20's\",\"20's\",\"20's\",\"20's\",\"20's\",\"20's\",\"20's\",\"20's\",\"20's\",\"20's\",\"20's\",\"20's\",\"20's\",\"20's\",\"20's\",\"20's\",\"20's\",\"20's\",\"20's\",\"20's\",\"20's\",\"20's\",\"20's\",\"20's\",\"20's\",\"20's\",\"20's\",\"20's\",\"20's\",\"20's\",\"20's\",\"20's\",\"20's\",\"20's\",\"20's\",\"20's\",\"20's\",\"20's\",\"20's\",\"20's\",\"20's\",\"20's\",\"20's\",\"20's\",\"20's\",\"20's\",\"20's\",\"20's\",\"20's\",\"20's\",\"20's\",\"20's\",\"20's\",\"20's\",\"20's\",\"20's\",\"20's\",\"20's\",\"20's\",\"20's\",\"20's\",\"20's\",\"20's\",\"20's\",\"20's\",\"20's\",\"20's\",\"20's\",\"20's\",\"20's\",\"20's\",\"20's\",\"20's\",\"20's\",\"20's\",\"20's\",\"20's\",\"20's\",\"20's\",\"20's\",\"20's\",\"20's\",\"20's\",\"20's\",\"20's\",\"20's\",\"20's\",\"20's\",\"20's\",\"20's\",\"20's\",\"20's\",\"20's\",\"20's\",\"20's\",\"20's\",\"20's\",\"20's\",\"20's\",\"20's\",\"20's\",\"20's\",\"20's\",\"20's\",\"20's\",\"20's\",\"20's\",\"20's\",\"20's\",\"20's\",\"20's\",\"20's\",\"20's\",\"20's\",\"20's\",\"20's\",\"20's\",\"20's\",\"20's\",\"20's\",\"20's\",\"20's\",\"20's\",\"20's\",\"20's\",\"20's\",\"20's\",\"20's\",\"20's\",\"20's\",\"20's\",\"20's\",\"20's\",\"20's\",\"20's\",\"20's\",\"20's\",\"20's\",\"20's\",\"20's\",\"20's\",\"20's\",\"20's\",\"20's\",\"20's\",\"20's\",\"20's\",\"20's\",\"20's\",\"20's\",\"20's\",\"20's\",\"20's\",\"20's\",\"20's\",\"20's\",\"20's\",\"20's\",\"20's\",\"20's\",\"20's\",\"20's\",\"20's\",\"20's\",\"20's\",\"20's\",\"20's\",\"20's\",\"20's\",\"20's\",\"20's\",\"20's\",\"20's\",\"20's\",\"20's\",\"20's\",\"20's\",\"20's\",\"20's\",\"20's\",\"20's\",\"20's\",\"20's\",\"20's\",\"20's\",\"20's\",\"20's\",\"20's\",\"20's\",\"20's\",\"20's\",\"20's\",\"20's\",\"20's\",\"20's\",\"20's\",\"20's\",\"20's\",\"20's\",\"20's\",\"20's\",\"20's\",\"20's\",\"20's\",\"20's\",\"20's\",\"20's\",\"20's\",\"20's\",\"20's\",\"20's\",\"20's\",\"20's\",\"20's\",\"20's\",\"20's\",\"20's\",\"20's\",\"20's\",\"20's\",\"20's\",\"20's\",\"20's\",\"20's\",\"20's\",\"20's\",\"20's\",\"20's\",\"20's\",\"20's\",\"20's\",\"20's\",\"20's\",\"20's\",\"20's\",\"20's\",\"20's\",\"20's\",\"20's\",\"20's\",\"20's\",\"20's\",\"20's\",\"20's\",\"20's\",\"20's\",\"20's\",\"20's\",\"20's\",\"20's\",\"20's\",\"20's\",\"20's\",\"20's\",\"20's\",\"20's\",\"20's\",\"20's\",\"20's\",\"20's\",\"20's\",\"20's\",\"20's\",\"20's\",\"20's\",\"20's\",\"20's\",\"20's\",\"20's\",\"20's\",\"20's\",\"20's\",\"20's\",\"20's\",\"20's\",\"20's\",\"20's\",\"20's\",\"20's\",\"20's\",\"20's\",\"20's\",\"20's\",\"20's\"],\"xaxis\":\"x26\",\"yaxis\":\"y26\",\"type\":\"histogram\"},{\"alignmentgroup\":\"True\",\"bingroup\":\"x\",\"hovertemplate\":\"age_cat=%{x}\\u003cbr\\u003etotal_std=1\\u003cbr\\u003ecount=%{y}\\u003cextra\\u003e\\u003c\\u002fextra\\u003e\",\"legendgroup\":\"\",\"marker\":{\"color\":\"rebeccapurple\",\"opacity\":0.7,\"pattern\":{\"shape\":\"\"}},\"name\":\"\",\"offsetgroup\":\"\",\"orientation\":\"v\",\"showlegend\":false,\"x\":[\"20's\",\"20's\",\"20's\",\"20's\",\"20's\",\"20's\",\"20's\",\"20's\",\"20's\",\"20's\",\"20's\",\"20's\",\"20's\",\"20's\"],\"xaxis\":\"x27\",\"yaxis\":\"y27\",\"type\":\"histogram\"},{\"alignmentgroup\":\"True\",\"bingroup\":\"x\",\"hovertemplate\":\"age_cat=%{x}\\u003cbr\\u003etotal_std=2\\u003cbr\\u003ecount=%{y}\\u003cextra\\u003e\\u003c\\u002fextra\\u003e\",\"legendgroup\":\"\",\"marker\":{\"color\":\"rebeccapurple\",\"opacity\":0.7,\"pattern\":{\"shape\":\"\"}},\"name\":\"\",\"offsetgroup\":\"\",\"orientation\":\"v\",\"showlegend\":false,\"x\":[\"20's\",\"20's\",\"20's\",\"20's\",\"20's\",\"20's\",\"20's\",\"20's\",\"20's\",\"20's\",\"20's\",\"20's\",\"20's\",\"20's\",\"20's\",\"20's\",\"20's\",\"20's\"],\"xaxis\":\"x28\",\"yaxis\":\"y28\",\"type\":\"histogram\"},{\"alignmentgroup\":\"True\",\"bingroup\":\"x\",\"hovertemplate\":\"age_cat=%{x}\\u003cbr\\u003etotal_std=3\\u003cbr\\u003ecount=%{y}\\u003cextra\\u003e\\u003c\\u002fextra\\u003e\",\"legendgroup\":\"\",\"marker\":{\"color\":\"rebeccapurple\",\"opacity\":0.7,\"pattern\":{\"shape\":\"\"}},\"name\":\"\",\"offsetgroup\":\"\",\"orientation\":\"v\",\"showlegend\":false,\"x\":[\"20's\",\"20's\"],\"xaxis\":\"x29\",\"yaxis\":\"y29\",\"type\":\"histogram\"},{\"alignmentgroup\":\"True\",\"bingroup\":\"x\",\"hovertemplate\":\"age_cat=%{x}\\u003cbr\\u003etotal_std=0\\u003cbr\\u003ecount=%{y}\\u003cextra\\u003e\\u003c\\u002fextra\\u003e\",\"legendgroup\":\"\",\"marker\":{\"color\":\"rebeccapurple\",\"opacity\":0.7,\"pattern\":{\"shape\":\"\"}},\"name\":\"\",\"offsetgroup\":\"\",\"orientation\":\"v\",\"showlegend\":false,\"x\":[\"30's\",\"30's\",\"30's\",\"30's\",\"30's\",\"30's\",\"30's\",\"30's\",\"30's\",\"30's\",\"30's\",\"30's\",\"30's\",\"30's\",\"30's\",\"30's\",\"30's\",\"30's\",\"30's\",\"30's\",\"30's\",\"30's\",\"30's\",\"30's\",\"30's\",\"30's\",\"30's\",\"30's\",\"30's\",\"30's\",\"30's\",\"30's\",\"30's\",\"30's\",\"30's\",\"30's\",\"30's\",\"30's\",\"30's\",\"30's\",\"30's\",\"30's\",\"30's\",\"30's\",\"30's\",\"30's\",\"30's\",\"30's\",\"30's\",\"30's\",\"30's\",\"30's\",\"30's\",\"30's\",\"30's\",\"30's\",\"30's\",\"30's\",\"30's\",\"30's\",\"30's\",\"30's\",\"30's\",\"30's\",\"30's\",\"30's\",\"30's\",\"30's\",\"30's\",\"30's\",\"30's\",\"30's\",\"30's\",\"30's\",\"30's\",\"30's\",\"30's\",\"30's\",\"30's\",\"30's\",\"30's\",\"30's\",\"30's\",\"30's\",\"30's\",\"30's\",\"30's\",\"30's\",\"30's\",\"30's\",\"30's\",\"30's\",\"30's\",\"30's\",\"30's\",\"30's\",\"30's\",\"30's\",\"30's\",\"30's\",\"30's\",\"30's\",\"30's\",\"30's\",\"30's\",\"30's\",\"30's\",\"30's\",\"30's\",\"30's\",\"30's\",\"30's\",\"30's\",\"30's\",\"30's\",\"30's\",\"30's\",\"30's\",\"30's\",\"30's\",\"30's\",\"30's\",\"30's\",\"30's\",\"30's\",\"30's\",\"30's\",\"30's\",\"30's\",\"30's\",\"30's\",\"30's\",\"30's\",\"30's\",\"30's\",\"30's\",\"30's\",\"30's\",\"30's\",\"30's\",\"30's\",\"30's\",\"30's\",\"30's\",\"30's\",\"30's\",\"30's\",\"30's\",\"30's\",\"30's\",\"30's\",\"30's\",\"30's\",\"30's\",\"30's\",\"30's\",\"30's\",\"30's\",\"30's\",\"30's\",\"30's\",\"30's\",\"30's\",\"30's\",\"30's\",\"30's\",\"30's\",\"30's\",\"30's\",\"30's\",\"30's\",\"30's\",\"30's\",\"30's\",\"30's\",\"30's\",\"30's\",\"30's\",\"30's\",\"30's\",\"30's\",\"30's\",\"30's\",\"30's\",\"30's\",\"30's\",\"30's\",\"30's\",\"30's\",\"30's\",\"30's\",\"30's\",\"30's\",\"30's\",\"30's\",\"30's\",\"30's\",\"30's\"],\"xaxis\":\"x21\",\"yaxis\":\"y21\",\"type\":\"histogram\"},{\"alignmentgroup\":\"True\",\"bingroup\":\"x\",\"hovertemplate\":\"age_cat=%{x}\\u003cbr\\u003etotal_std=1\\u003cbr\\u003ecount=%{y}\\u003cextra\\u003e\\u003c\\u002fextra\\u003e\",\"legendgroup\":\"\",\"marker\":{\"color\":\"rebeccapurple\",\"opacity\":0.7,\"pattern\":{\"shape\":\"\"}},\"name\":\"\",\"offsetgroup\":\"\",\"orientation\":\"v\",\"showlegend\":false,\"x\":[\"30's\",\"30's\",\"30's\",\"30's\",\"30's\",\"30's\",\"30's\",\"30's\",\"30's\",\"30's\",\"30's\",\"30's\",\"30's\",\"30's\"],\"xaxis\":\"x22\",\"yaxis\":\"y22\",\"type\":\"histogram\"},{\"alignmentgroup\":\"True\",\"bingroup\":\"x\",\"hovertemplate\":\"age_cat=%{x}\\u003cbr\\u003etotal_std=2\\u003cbr\\u003ecount=%{y}\\u003cextra\\u003e\\u003c\\u002fextra\\u003e\",\"legendgroup\":\"\",\"marker\":{\"color\":\"rebeccapurple\",\"opacity\":0.7,\"pattern\":{\"shape\":\"\"}},\"name\":\"\",\"offsetgroup\":\"\",\"orientation\":\"v\",\"showlegend\":false,\"x\":[\"30's\",\"30's\",\"30's\",\"30's\",\"30's\",\"30's\"],\"xaxis\":\"x23\",\"yaxis\":\"y23\",\"type\":\"histogram\"},{\"alignmentgroup\":\"True\",\"bingroup\":\"x\",\"hovertemplate\":\"age_cat=%{x}\\u003cbr\\u003etotal_std=3\\u003cbr\\u003ecount=%{y}\\u003cextra\\u003e\\u003c\\u002fextra\\u003e\",\"legendgroup\":\"\",\"marker\":{\"color\":\"rebeccapurple\",\"opacity\":0.7,\"pattern\":{\"shape\":\"\"}},\"name\":\"\",\"offsetgroup\":\"\",\"orientation\":\"v\",\"showlegend\":false,\"x\":[\"30's\",\"30's\"],\"xaxis\":\"x24\",\"yaxis\":\"y24\",\"type\":\"histogram\"},{\"alignmentgroup\":\"True\",\"bingroup\":\"x\",\"hovertemplate\":\"age_cat=%{x}\\u003cbr\\u003etotal_std=0\\u003cbr\\u003ecount=%{y}\\u003cextra\\u003e\\u003c\\u002fextra\\u003e\",\"legendgroup\":\"\",\"marker\":{\"color\":\"rebeccapurple\",\"opacity\":0.7,\"pattern\":{\"shape\":\"\"}},\"name\":\"\",\"offsetgroup\":\"\",\"orientation\":\"v\",\"showlegend\":false,\"x\":[\"40's\",\"40's\",\"40's\",\"40's\",\"40's\",\"40's\",\"40's\",\"40's\",\"40's\",\"40's\",\"40's\",\"40's\",\"40's\",\"40's\",\"40's\",\"40's\",\"40's\",\"40's\",\"40's\",\"40's\",\"40's\",\"40's\",\"40's\",\"40's\",\"40's\",\"40's\",\"40's\",\"40's\",\"40's\",\"40's\",\"40's\",\"40's\",\"40's\",\"40's\",\"40's\",\"40's\",\"40's\",\"40's\",\"40's\",\"40's\",\"40's\",\"40's\",\"40's\",\"40's\",\"40's\",\"40's\",\"40's\",\"40's\"],\"xaxis\":\"x16\",\"yaxis\":\"y16\",\"type\":\"histogram\"},{\"alignmentgroup\":\"True\",\"bingroup\":\"x\",\"hovertemplate\":\"age_cat=%{x}\\u003cbr\\u003etotal_std=1\\u003cbr\\u003ecount=%{y}\\u003cextra\\u003e\\u003c\\u002fextra\\u003e\",\"legendgroup\":\"\",\"marker\":{\"color\":\"rebeccapurple\",\"opacity\":0.7,\"pattern\":{\"shape\":\"\"}},\"name\":\"\",\"offsetgroup\":\"\",\"orientation\":\"v\",\"showlegend\":false,\"x\":[\"40's\",\"40's\",\"40's\"],\"xaxis\":\"x17\",\"yaxis\":\"y17\",\"type\":\"histogram\"},{\"alignmentgroup\":\"True\",\"bingroup\":\"x\",\"hovertemplate\":\"age_cat=%{x}\\u003cbr\\u003etotal_std=2\\u003cbr\\u003ecount=%{y}\\u003cextra\\u003e\\u003c\\u002fextra\\u003e\",\"legendgroup\":\"\",\"marker\":{\"color\":\"rebeccapurple\",\"opacity\":0.7,\"pattern\":{\"shape\":\"\"}},\"name\":\"\",\"offsetgroup\":\"\",\"orientation\":\"v\",\"showlegend\":false,\"x\":[\"40's\",\"40's\",\"40's\",\"40's\",\"40's\"],\"xaxis\":\"x18\",\"yaxis\":\"y18\",\"type\":\"histogram\"},{\"alignmentgroup\":\"True\",\"bingroup\":\"x\",\"hovertemplate\":\"age_cat=%{x}\\u003cbr\\u003etotal_std=0\\u003cbr\\u003ecount=%{y}\\u003cextra\\u003e\\u003c\\u002fextra\\u003e\",\"legendgroup\":\"\",\"marker\":{\"color\":\"rebeccapurple\",\"opacity\":0.7,\"pattern\":{\"shape\":\"\"}},\"name\":\"\",\"offsetgroup\":\"\",\"orientation\":\"v\",\"showlegend\":false,\"x\":[\"50's\",\"50's\",\"50's\",\"50's\",\"50's\"],\"xaxis\":\"x11\",\"yaxis\":\"y11\",\"type\":\"histogram\"},{\"alignmentgroup\":\"True\",\"bingroup\":\"x\",\"hovertemplate\":\"age_cat=%{x}\\u003cbr\\u003etotal_std=0\\u003cbr\\u003ecount=%{y}\\u003cextra\\u003e\\u003c\\u002fextra\\u003e\",\"legendgroup\":\"\",\"marker\":{\"color\":\"rebeccapurple\",\"opacity\":0.7,\"pattern\":{\"shape\":\"\"}},\"name\":\"\",\"offsetgroup\":\"\",\"orientation\":\"v\",\"showlegend\":false,\"x\":[\"70+\",\"70+\",\"70+\",\"70+\"],\"xaxis\":\"x6\",\"yaxis\":\"y6\",\"type\":\"histogram\"},{\"alignmentgroup\":\"True\",\"bingroup\":\"x\",\"hovertemplate\":\"age_cat=%{x}\\u003cbr\\u003etotal_std=0\\u003cbr\\u003ecount=%{y}\\u003cextra\\u003e\\u003c\\u002fextra\\u003e\",\"legendgroup\":\"\",\"marker\":{\"color\":\"rebeccapurple\",\"opacity\":0.7,\"pattern\":{\"shape\":\"\"}},\"name\":\"\",\"offsetgroup\":\"\",\"orientation\":\"v\",\"showlegend\":false,\"x\":[\"Teen\",\"Teen\",\"Teen\",\"Teen\",\"Teen\",\"Teen\",\"Teen\",\"Teen\",\"Teen\",\"Teen\",\"Teen\",\"Teen\",\"Teen\",\"Teen\",\"Teen\",\"Teen\",\"Teen\",\"Teen\",\"Teen\",\"Teen\",\"Teen\",\"Teen\",\"Teen\",\"Teen\",\"Teen\",\"Teen\",\"Teen\",\"Teen\",\"Teen\",\"Teen\",\"Teen\",\"Teen\",\"Teen\",\"Teen\",\"Teen\",\"Teen\",\"Teen\",\"Teen\",\"Teen\",\"Teen\",\"Teen\",\"Teen\",\"Teen\",\"Teen\",\"Teen\",\"Teen\",\"Teen\",\"Teen\",\"Teen\",\"Teen\",\"Teen\",\"Teen\",\"Teen\",\"Teen\",\"Teen\",\"Teen\",\"Teen\",\"Teen\",\"Teen\",\"Teen\",\"Teen\",\"Teen\",\"Teen\",\"Teen\",\"Teen\",\"Teen\",\"Teen\",\"Teen\",\"Teen\",\"Teen\",\"Teen\",\"Teen\",\"Teen\",\"Teen\",\"Teen\",\"Teen\",\"Teen\",\"Teen\",\"Teen\",\"Teen\",\"Teen\",\"Teen\",\"Teen\",\"Teen\",\"Teen\",\"Teen\",\"Teen\",\"Teen\",\"Teen\",\"Teen\",\"Teen\",\"Teen\",\"Teen\",\"Teen\",\"Teen\",\"Teen\",\"Teen\",\"Teen\",\"Teen\",\"Teen\",\"Teen\",\"Teen\",\"Teen\",\"Teen\",\"Teen\",\"Teen\",\"Teen\",\"Teen\",\"Teen\",\"Teen\",\"Teen\",\"Teen\",\"Teen\",\"Teen\",\"Teen\",\"Teen\",\"Teen\",\"Teen\",\"Teen\",\"Teen\",\"Teen\",\"Teen\",\"Teen\",\"Teen\",\"Teen\",\"Teen\",\"Teen\",\"Teen\",\"Teen\",\"Teen\",\"Teen\",\"Teen\",\"Teen\",\"Teen\",\"Teen\",\"Teen\",\"Teen\",\"Teen\",\"Teen\",\"Teen\",\"Teen\",\"Teen\",\"Teen\",\"Teen\",\"Teen\",\"Teen\",\"Teen\",\"Teen\",\"Teen\",\"Teen\",\"Teen\",\"Teen\",\"Teen\",\"Teen\",\"Teen\",\"Teen\",\"Teen\",\"Teen\",\"Teen\",\"Teen\",\"Teen\",\"Teen\",\"Teen\",\"Teen\"],\"xaxis\":\"x\",\"yaxis\":\"y\",\"type\":\"histogram\"},{\"alignmentgroup\":\"True\",\"bingroup\":\"x\",\"hovertemplate\":\"age_cat=%{x}\\u003cbr\\u003etotal_std=1\\u003cbr\\u003ecount=%{y}\\u003cextra\\u003e\\u003c\\u002fextra\\u003e\",\"legendgroup\":\"\",\"marker\":{\"color\":\"rebeccapurple\",\"opacity\":0.7,\"pattern\":{\"shape\":\"\"}},\"name\":\"\",\"offsetgroup\":\"\",\"orientation\":\"v\",\"showlegend\":false,\"x\":[\"Teen\",\"Teen\",\"Teen\"],\"xaxis\":\"x2\",\"yaxis\":\"y2\",\"type\":\"histogram\"},{\"alignmentgroup\":\"True\",\"bingroup\":\"x\",\"hovertemplate\":\"age_cat=%{x}\\u003cbr\\u003etotal_std=2\\u003cbr\\u003ecount=%{y}\\u003cextra\\u003e\\u003c\\u002fextra\\u003e\",\"legendgroup\":\"\",\"marker\":{\"color\":\"rebeccapurple\",\"opacity\":0.7,\"pattern\":{\"shape\":\"\"}},\"name\":\"\",\"offsetgroup\":\"\",\"orientation\":\"v\",\"showlegend\":false,\"x\":[\"Teen\",\"Teen\",\"Teen\",\"Teen\",\"Teen\",\"Teen\",\"Teen\",\"Teen\"],\"xaxis\":\"x3\",\"yaxis\":\"y3\",\"type\":\"histogram\"},{\"alignmentgroup\":\"True\",\"bingroup\":\"x\",\"hovertemplate\":\"age_cat=%{x}\\u003cbr\\u003etotal_std=3\\u003cbr\\u003ecount=%{y}\\u003cextra\\u003e\\u003c\\u002fextra\\u003e\",\"legendgroup\":\"\",\"marker\":{\"color\":\"rebeccapurple\",\"opacity\":0.7,\"pattern\":{\"shape\":\"\"}},\"name\":\"\",\"offsetgroup\":\"\",\"orientation\":\"v\",\"showlegend\":false,\"x\":[\"Teen\",\"Teen\",\"Teen\"],\"xaxis\":\"x4\",\"yaxis\":\"y4\",\"type\":\"histogram\"},{\"alignmentgroup\":\"True\",\"bingroup\":\"x\",\"hovertemplate\":\"age_cat=%{x}\\u003cbr\\u003etotal_std=4\\u003cbr\\u003ecount=%{y}\\u003cextra\\u003e\\u003c\\u002fextra\\u003e\",\"legendgroup\":\"\",\"marker\":{\"color\":\"rebeccapurple\",\"opacity\":0.7,\"pattern\":{\"shape\":\"\"}},\"name\":\"\",\"offsetgroup\":\"\",\"orientation\":\"v\",\"showlegend\":false,\"x\":[\"Teen\"],\"xaxis\":\"x5\",\"yaxis\":\"y5\",\"type\":\"histogram\"}],                        {\"template\":{\"data\":{\"histogram2dcontour\":[{\"type\":\"histogram2dcontour\",\"colorbar\":{\"outlinewidth\":0,\"ticks\":\"\"},\"colorscale\":[[0.0,\"#0d0887\"],[0.1111111111111111,\"#46039f\"],[0.2222222222222222,\"#7201a8\"],[0.3333333333333333,\"#9c179e\"],[0.4444444444444444,\"#bd3786\"],[0.5555555555555556,\"#d8576b\"],[0.6666666666666666,\"#ed7953\"],[0.7777777777777778,\"#fb9f3a\"],[0.8888888888888888,\"#fdca26\"],[1.0,\"#f0f921\"]]}],\"choropleth\":[{\"type\":\"choropleth\",\"colorbar\":{\"outlinewidth\":0,\"ticks\":\"\"}}],\"histogram2d\":[{\"type\":\"histogram2d\",\"colorbar\":{\"outlinewidth\":0,\"ticks\":\"\"},\"colorscale\":[[0.0,\"#0d0887\"],[0.1111111111111111,\"#46039f\"],[0.2222222222222222,\"#7201a8\"],[0.3333333333333333,\"#9c179e\"],[0.4444444444444444,\"#bd3786\"],[0.5555555555555556,\"#d8576b\"],[0.6666666666666666,\"#ed7953\"],[0.7777777777777778,\"#fb9f3a\"],[0.8888888888888888,\"#fdca26\"],[1.0,\"#f0f921\"]]}],\"heatmap\":[{\"type\":\"heatmap\",\"colorbar\":{\"outlinewidth\":0,\"ticks\":\"\"},\"colorscale\":[[0.0,\"#0d0887\"],[0.1111111111111111,\"#46039f\"],[0.2222222222222222,\"#7201a8\"],[0.3333333333333333,\"#9c179e\"],[0.4444444444444444,\"#bd3786\"],[0.5555555555555556,\"#d8576b\"],[0.6666666666666666,\"#ed7953\"],[0.7777777777777778,\"#fb9f3a\"],[0.8888888888888888,\"#fdca26\"],[1.0,\"#f0f921\"]]}],\"heatmapgl\":[{\"type\":\"heatmapgl\",\"colorbar\":{\"outlinewidth\":0,\"ticks\":\"\"},\"colorscale\":[[0.0,\"#0d0887\"],[0.1111111111111111,\"#46039f\"],[0.2222222222222222,\"#7201a8\"],[0.3333333333333333,\"#9c179e\"],[0.4444444444444444,\"#bd3786\"],[0.5555555555555556,\"#d8576b\"],[0.6666666666666666,\"#ed7953\"],[0.7777777777777778,\"#fb9f3a\"],[0.8888888888888888,\"#fdca26\"],[1.0,\"#f0f921\"]]}],\"contourcarpet\":[{\"type\":\"contourcarpet\",\"colorbar\":{\"outlinewidth\":0,\"ticks\":\"\"}}],\"contour\":[{\"type\":\"contour\",\"colorbar\":{\"outlinewidth\":0,\"ticks\":\"\"},\"colorscale\":[[0.0,\"#0d0887\"],[0.1111111111111111,\"#46039f\"],[0.2222222222222222,\"#7201a8\"],[0.3333333333333333,\"#9c179e\"],[0.4444444444444444,\"#bd3786\"],[0.5555555555555556,\"#d8576b\"],[0.6666666666666666,\"#ed7953\"],[0.7777777777777778,\"#fb9f3a\"],[0.8888888888888888,\"#fdca26\"],[1.0,\"#f0f921\"]]}],\"surface\":[{\"type\":\"surface\",\"colorbar\":{\"outlinewidth\":0,\"ticks\":\"\"},\"colorscale\":[[0.0,\"#0d0887\"],[0.1111111111111111,\"#46039f\"],[0.2222222222222222,\"#7201a8\"],[0.3333333333333333,\"#9c179e\"],[0.4444444444444444,\"#bd3786\"],[0.5555555555555556,\"#d8576b\"],[0.6666666666666666,\"#ed7953\"],[0.7777777777777778,\"#fb9f3a\"],[0.8888888888888888,\"#fdca26\"],[1.0,\"#f0f921\"]]}],\"mesh3d\":[{\"type\":\"mesh3d\",\"colorbar\":{\"outlinewidth\":0,\"ticks\":\"\"}}],\"scatter\":[{\"fillpattern\":{\"fillmode\":\"overlay\",\"size\":10,\"solidity\":0.2},\"type\":\"scatter\"}],\"parcoords\":[{\"type\":\"parcoords\",\"line\":{\"colorbar\":{\"outlinewidth\":0,\"ticks\":\"\"}}}],\"scatterpolargl\":[{\"type\":\"scatterpolargl\",\"marker\":{\"colorbar\":{\"outlinewidth\":0,\"ticks\":\"\"}}}],\"bar\":[{\"error_x\":{\"color\":\"#2a3f5f\"},\"error_y\":{\"color\":\"#2a3f5f\"},\"marker\":{\"line\":{\"color\":\"#E5ECF6\",\"width\":0.5},\"pattern\":{\"fillmode\":\"overlay\",\"size\":10,\"solidity\":0.2}},\"type\":\"bar\"}],\"scattergeo\":[{\"type\":\"scattergeo\",\"marker\":{\"colorbar\":{\"outlinewidth\":0,\"ticks\":\"\"}}}],\"scatterpolar\":[{\"type\":\"scatterpolar\",\"marker\":{\"colorbar\":{\"outlinewidth\":0,\"ticks\":\"\"}}}],\"histogram\":[{\"marker\":{\"pattern\":{\"fillmode\":\"overlay\",\"size\":10,\"solidity\":0.2}},\"type\":\"histogram\"}],\"scattergl\":[{\"type\":\"scattergl\",\"marker\":{\"colorbar\":{\"outlinewidth\":0,\"ticks\":\"\"}}}],\"scatter3d\":[{\"type\":\"scatter3d\",\"line\":{\"colorbar\":{\"outlinewidth\":0,\"ticks\":\"\"}},\"marker\":{\"colorbar\":{\"outlinewidth\":0,\"ticks\":\"\"}}}],\"scattermapbox\":[{\"type\":\"scattermapbox\",\"marker\":{\"colorbar\":{\"outlinewidth\":0,\"ticks\":\"\"}}}],\"scatterternary\":[{\"type\":\"scatterternary\",\"marker\":{\"colorbar\":{\"outlinewidth\":0,\"ticks\":\"\"}}}],\"scattercarpet\":[{\"type\":\"scattercarpet\",\"marker\":{\"colorbar\":{\"outlinewidth\":0,\"ticks\":\"\"}}}],\"carpet\":[{\"aaxis\":{\"endlinecolor\":\"#2a3f5f\",\"gridcolor\":\"white\",\"linecolor\":\"white\",\"minorgridcolor\":\"white\",\"startlinecolor\":\"#2a3f5f\"},\"baxis\":{\"endlinecolor\":\"#2a3f5f\",\"gridcolor\":\"white\",\"linecolor\":\"white\",\"minorgridcolor\":\"white\",\"startlinecolor\":\"#2a3f5f\"},\"type\":\"carpet\"}],\"table\":[{\"cells\":{\"fill\":{\"color\":\"#EBF0F8\"},\"line\":{\"color\":\"white\"}},\"header\":{\"fill\":{\"color\":\"#C8D4E3\"},\"line\":{\"color\":\"white\"}},\"type\":\"table\"}],\"barpolar\":[{\"marker\":{\"line\":{\"color\":\"#E5ECF6\",\"width\":0.5},\"pattern\":{\"fillmode\":\"overlay\",\"size\":10,\"solidity\":0.2}},\"type\":\"barpolar\"}],\"pie\":[{\"automargin\":true,\"type\":\"pie\"}]},\"layout\":{\"autotypenumbers\":\"strict\",\"colorway\":[\"#636efa\",\"#EF553B\",\"#00cc96\",\"#ab63fa\",\"#FFA15A\",\"#19d3f3\",\"#FF6692\",\"#B6E880\",\"#FF97FF\",\"#FECB52\"],\"font\":{\"color\":\"#2a3f5f\"},\"hovermode\":\"closest\",\"hoverlabel\":{\"align\":\"left\"},\"paper_bgcolor\":\"white\",\"plot_bgcolor\":\"#E5ECF6\",\"polar\":{\"bgcolor\":\"#E5ECF6\",\"angularaxis\":{\"gridcolor\":\"white\",\"linecolor\":\"white\",\"ticks\":\"\"},\"radialaxis\":{\"gridcolor\":\"white\",\"linecolor\":\"white\",\"ticks\":\"\"}},\"ternary\":{\"bgcolor\":\"#E5ECF6\",\"aaxis\":{\"gridcolor\":\"white\",\"linecolor\":\"white\",\"ticks\":\"\"},\"baxis\":{\"gridcolor\":\"white\",\"linecolor\":\"white\",\"ticks\":\"\"},\"caxis\":{\"gridcolor\":\"white\",\"linecolor\":\"white\",\"ticks\":\"\"}},\"coloraxis\":{\"colorbar\":{\"outlinewidth\":0,\"ticks\":\"\"}},\"colorscale\":{\"sequential\":[[0.0,\"#0d0887\"],[0.1111111111111111,\"#46039f\"],[0.2222222222222222,\"#7201a8\"],[0.3333333333333333,\"#9c179e\"],[0.4444444444444444,\"#bd3786\"],[0.5555555555555556,\"#d8576b\"],[0.6666666666666666,\"#ed7953\"],[0.7777777777777778,\"#fb9f3a\"],[0.8888888888888888,\"#fdca26\"],[1.0,\"#f0f921\"]],\"sequentialminus\":[[0.0,\"#0d0887\"],[0.1111111111111111,\"#46039f\"],[0.2222222222222222,\"#7201a8\"],[0.3333333333333333,\"#9c179e\"],[0.4444444444444444,\"#bd3786\"],[0.5555555555555556,\"#d8576b\"],[0.6666666666666666,\"#ed7953\"],[0.7777777777777778,\"#fb9f3a\"],[0.8888888888888888,\"#fdca26\"],[1.0,\"#f0f921\"]],\"diverging\":[[0,\"#8e0152\"],[0.1,\"#c51b7d\"],[0.2,\"#de77ae\"],[0.3,\"#f1b6da\"],[0.4,\"#fde0ef\"],[0.5,\"#f7f7f7\"],[0.6,\"#e6f5d0\"],[0.7,\"#b8e186\"],[0.8,\"#7fbc41\"],[0.9,\"#4d9221\"],[1,\"#276419\"]]},\"xaxis\":{\"gridcolor\":\"white\",\"linecolor\":\"white\",\"ticks\":\"\",\"title\":{\"standoff\":15},\"zerolinecolor\":\"white\",\"automargin\":true,\"zerolinewidth\":2},\"yaxis\":{\"gridcolor\":\"white\",\"linecolor\":\"white\",\"ticks\":\"\",\"title\":{\"standoff\":15},\"zerolinecolor\":\"white\",\"automargin\":true,\"zerolinewidth\":2},\"scene\":{\"xaxis\":{\"backgroundcolor\":\"#E5ECF6\",\"gridcolor\":\"white\",\"linecolor\":\"white\",\"showbackground\":true,\"ticks\":\"\",\"zerolinecolor\":\"white\",\"gridwidth\":2},\"yaxis\":{\"backgroundcolor\":\"#E5ECF6\",\"gridcolor\":\"white\",\"linecolor\":\"white\",\"showbackground\":true,\"ticks\":\"\",\"zerolinecolor\":\"white\",\"gridwidth\":2},\"zaxis\":{\"backgroundcolor\":\"#E5ECF6\",\"gridcolor\":\"white\",\"linecolor\":\"white\",\"showbackground\":true,\"ticks\":\"\",\"zerolinecolor\":\"white\",\"gridwidth\":2}},\"shapedefaults\":{\"line\":{\"color\":\"#2a3f5f\"}},\"annotationdefaults\":{\"arrowcolor\":\"#2a3f5f\",\"arrowhead\":0,\"arrowwidth\":1},\"geo\":{\"bgcolor\":\"white\",\"landcolor\":\"#E5ECF6\",\"subunitcolor\":\"white\",\"showland\":true,\"showlakes\":true,\"lakecolor\":\"white\"},\"title\":{\"x\":0.05},\"mapbox\":{\"style\":\"light\"}}},\"xaxis\":{\"anchor\":\"y\",\"domain\":[0.0,0.18000000000000002],\"title\":{\"text\":\"age_cat\"},\"categoryorder\":\"array\",\"categoryarray\":[\"20's\",\"30's\",\"40's\",\"50's\",\"70+\",\"Teen\"]},\"yaxis\":{\"anchor\":\"x\",\"domain\":[0.0,0.14166666666666666],\"title\":{\"text\":\"count\"}},\"xaxis2\":{\"anchor\":\"y2\",\"domain\":[0.2,0.38],\"matches\":\"x\",\"title\":{\"text\":\"age_cat\"},\"categoryorder\":\"array\",\"categoryarray\":[\"20's\",\"30's\",\"40's\",\"50's\",\"70+\",\"Teen\"]},\"yaxis2\":{\"anchor\":\"x2\",\"domain\":[0.0,0.14166666666666666],\"matches\":\"y\",\"showticklabels\":false},\"xaxis3\":{\"anchor\":\"y3\",\"domain\":[0.4,0.5800000000000001],\"matches\":\"x\",\"title\":{\"text\":\"age_cat\"},\"categoryorder\":\"array\",\"categoryarray\":[\"20's\",\"30's\",\"40's\",\"50's\",\"70+\",\"Teen\"]},\"yaxis3\":{\"anchor\":\"x3\",\"domain\":[0.0,0.14166666666666666],\"matches\":\"y\",\"showticklabels\":false},\"xaxis4\":{\"anchor\":\"y4\",\"domain\":[0.6000000000000001,0.7800000000000001],\"matches\":\"x\",\"title\":{\"text\":\"age_cat\"},\"categoryorder\":\"array\",\"categoryarray\":[\"20's\",\"30's\",\"40's\",\"50's\",\"70+\",\"Teen\"]},\"yaxis4\":{\"anchor\":\"x4\",\"domain\":[0.0,0.14166666666666666],\"matches\":\"y\",\"showticklabels\":false},\"xaxis5\":{\"anchor\":\"y5\",\"domain\":[0.8,0.9800000000000001],\"matches\":\"x\",\"title\":{\"text\":\"age_cat\"},\"categoryorder\":\"array\",\"categoryarray\":[\"20's\",\"30's\",\"40's\",\"50's\",\"70+\",\"Teen\"]},\"yaxis5\":{\"anchor\":\"x5\",\"domain\":[0.0,0.14166666666666666],\"matches\":\"y\",\"showticklabels\":false},\"xaxis6\":{\"anchor\":\"y6\",\"domain\":[0.0,0.18000000000000002],\"matches\":\"x\",\"showticklabels\":false},\"yaxis6\":{\"anchor\":\"x6\",\"domain\":[0.17166666666666666,0.31333333333333335],\"matches\":\"y\",\"title\":{\"text\":\"count\"}},\"xaxis7\":{\"anchor\":\"y7\",\"domain\":[0.2,0.38],\"matches\":\"x\",\"showticklabels\":false},\"yaxis7\":{\"anchor\":\"x7\",\"domain\":[0.17166666666666666,0.31333333333333335],\"matches\":\"y\",\"showticklabels\":false},\"xaxis8\":{\"anchor\":\"y8\",\"domain\":[0.4,0.5800000000000001],\"matches\":\"x\",\"showticklabels\":false},\"yaxis8\":{\"anchor\":\"x8\",\"domain\":[0.17166666666666666,0.31333333333333335],\"matches\":\"y\",\"showticklabels\":false},\"xaxis9\":{\"anchor\":\"y9\",\"domain\":[0.6000000000000001,0.7800000000000001],\"matches\":\"x\",\"showticklabels\":false},\"yaxis9\":{\"anchor\":\"x9\",\"domain\":[0.17166666666666666,0.31333333333333335],\"matches\":\"y\",\"showticklabels\":false},\"xaxis10\":{\"anchor\":\"y10\",\"domain\":[0.8,0.9800000000000001],\"matches\":\"x\",\"showticklabels\":false},\"yaxis10\":{\"anchor\":\"x10\",\"domain\":[0.17166666666666666,0.31333333333333335],\"matches\":\"y\",\"showticklabels\":false},\"xaxis11\":{\"anchor\":\"y11\",\"domain\":[0.0,0.18000000000000002],\"matches\":\"x\",\"showticklabels\":false},\"yaxis11\":{\"anchor\":\"x11\",\"domain\":[0.3433333333333333,0.485],\"matches\":\"y\",\"title\":{\"text\":\"count\"}},\"xaxis12\":{\"anchor\":\"y12\",\"domain\":[0.2,0.38],\"matches\":\"x\",\"showticklabels\":false},\"yaxis12\":{\"anchor\":\"x12\",\"domain\":[0.3433333333333333,0.485],\"matches\":\"y\",\"showticklabels\":false},\"xaxis13\":{\"anchor\":\"y13\",\"domain\":[0.4,0.5800000000000001],\"matches\":\"x\",\"showticklabels\":false},\"yaxis13\":{\"anchor\":\"x13\",\"domain\":[0.3433333333333333,0.485],\"matches\":\"y\",\"showticklabels\":false},\"xaxis14\":{\"anchor\":\"y14\",\"domain\":[0.6000000000000001,0.7800000000000001],\"matches\":\"x\",\"showticklabels\":false},\"yaxis14\":{\"anchor\":\"x14\",\"domain\":[0.3433333333333333,0.485],\"matches\":\"y\",\"showticklabels\":false},\"xaxis15\":{\"anchor\":\"y15\",\"domain\":[0.8,0.9800000000000001],\"matches\":\"x\",\"showticklabels\":false},\"yaxis15\":{\"anchor\":\"x15\",\"domain\":[0.3433333333333333,0.485],\"matches\":\"y\",\"showticklabels\":false},\"xaxis16\":{\"anchor\":\"y16\",\"domain\":[0.0,0.18000000000000002],\"matches\":\"x\",\"showticklabels\":false},\"yaxis16\":{\"anchor\":\"x16\",\"domain\":[0.515,0.6566666666666667],\"matches\":\"y\",\"title\":{\"text\":\"count\"}},\"xaxis17\":{\"anchor\":\"y17\",\"domain\":[0.2,0.38],\"matches\":\"x\",\"showticklabels\":false},\"yaxis17\":{\"anchor\":\"x17\",\"domain\":[0.515,0.6566666666666667],\"matches\":\"y\",\"showticklabels\":false},\"xaxis18\":{\"anchor\":\"y18\",\"domain\":[0.4,0.5800000000000001],\"matches\":\"x\",\"showticklabels\":false},\"yaxis18\":{\"anchor\":\"x18\",\"domain\":[0.515,0.6566666666666667],\"matches\":\"y\",\"showticklabels\":false},\"xaxis19\":{\"anchor\":\"y19\",\"domain\":[0.6000000000000001,0.7800000000000001],\"matches\":\"x\",\"showticklabels\":false},\"yaxis19\":{\"anchor\":\"x19\",\"domain\":[0.515,0.6566666666666667],\"matches\":\"y\",\"showticklabels\":false},\"xaxis20\":{\"anchor\":\"y20\",\"domain\":[0.8,0.9800000000000001],\"matches\":\"x\",\"showticklabels\":false},\"yaxis20\":{\"anchor\":\"x20\",\"domain\":[0.515,0.6566666666666667],\"matches\":\"y\",\"showticklabels\":false},\"xaxis21\":{\"anchor\":\"y21\",\"domain\":[0.0,0.18000000000000002],\"matches\":\"x\",\"showticklabels\":false},\"yaxis21\":{\"anchor\":\"x21\",\"domain\":[0.6866666666666666,0.8283333333333334],\"matches\":\"y\",\"title\":{\"text\":\"count\"}},\"xaxis22\":{\"anchor\":\"y22\",\"domain\":[0.2,0.38],\"matches\":\"x\",\"showticklabels\":false},\"yaxis22\":{\"anchor\":\"x22\",\"domain\":[0.6866666666666666,0.8283333333333334],\"matches\":\"y\",\"showticklabels\":false},\"xaxis23\":{\"anchor\":\"y23\",\"domain\":[0.4,0.5800000000000001],\"matches\":\"x\",\"showticklabels\":false},\"yaxis23\":{\"anchor\":\"x23\",\"domain\":[0.6866666666666666,0.8283333333333334],\"matches\":\"y\",\"showticklabels\":false},\"xaxis24\":{\"anchor\":\"y24\",\"domain\":[0.6000000000000001,0.7800000000000001],\"matches\":\"x\",\"showticklabels\":false},\"yaxis24\":{\"anchor\":\"x24\",\"domain\":[0.6866666666666666,0.8283333333333334],\"matches\":\"y\",\"showticklabels\":false},\"xaxis25\":{\"anchor\":\"y25\",\"domain\":[0.8,0.9800000000000001],\"matches\":\"x\",\"showticklabels\":false},\"yaxis25\":{\"anchor\":\"x25\",\"domain\":[0.6866666666666666,0.8283333333333334],\"matches\":\"y\",\"showticklabels\":false},\"xaxis26\":{\"anchor\":\"y26\",\"domain\":[0.0,0.18000000000000002],\"matches\":\"x\",\"showticklabels\":false},\"yaxis26\":{\"anchor\":\"x26\",\"domain\":[0.8583333333333333,1.0],\"matches\":\"y\",\"title\":{\"text\":\"count\"}},\"xaxis27\":{\"anchor\":\"y27\",\"domain\":[0.2,0.38],\"matches\":\"x\",\"showticklabels\":false},\"yaxis27\":{\"anchor\":\"x27\",\"domain\":[0.8583333333333333,1.0],\"matches\":\"y\",\"showticklabels\":false},\"xaxis28\":{\"anchor\":\"y28\",\"domain\":[0.4,0.5800000000000001],\"matches\":\"x\",\"showticklabels\":false},\"yaxis28\":{\"anchor\":\"x28\",\"domain\":[0.8583333333333333,1.0],\"matches\":\"y\",\"showticklabels\":false},\"xaxis29\":{\"anchor\":\"y29\",\"domain\":[0.6000000000000001,0.7800000000000001],\"matches\":\"x\",\"showticklabels\":false},\"yaxis29\":{\"anchor\":\"x29\",\"domain\":[0.8583333333333333,1.0],\"matches\":\"y\",\"showticklabels\":false},\"xaxis30\":{\"anchor\":\"y30\",\"domain\":[0.8,0.9800000000000001],\"matches\":\"x\",\"showticklabels\":false},\"yaxis30\":{\"anchor\":\"x30\",\"domain\":[0.8583333333333333,1.0],\"matches\":\"y\",\"showticklabels\":false},\"annotations\":[{\"font\":{},\"showarrow\":false,\"text\":\"total_std=0\",\"x\":0.09000000000000001,\"xanchor\":\"center\",\"xref\":\"paper\",\"y\":1.0,\"yanchor\":\"bottom\",\"yref\":\"paper\"},{\"font\":{},\"showarrow\":false,\"text\":\"total_std=1\",\"x\":0.29000000000000004,\"xanchor\":\"center\",\"xref\":\"paper\",\"y\":1.0,\"yanchor\":\"bottom\",\"yref\":\"paper\"},{\"font\":{},\"showarrow\":false,\"text\":\"total_std=2\",\"x\":0.49000000000000005,\"xanchor\":\"center\",\"xref\":\"paper\",\"y\":1.0,\"yanchor\":\"bottom\",\"yref\":\"paper\"},{\"font\":{},\"showarrow\":false,\"text\":\"total_std=3\",\"x\":0.6900000000000002,\"xanchor\":\"center\",\"xref\":\"paper\",\"y\":1.0,\"yanchor\":\"bottom\",\"yref\":\"paper\"},{\"font\":{},\"showarrow\":false,\"text\":\"total_std=4\",\"x\":0.8900000000000001,\"xanchor\":\"center\",\"xref\":\"paper\",\"y\":1.0,\"yanchor\":\"bottom\",\"yref\":\"paper\"},{\"font\":{},\"showarrow\":false,\"text\":\"age_cat=Teen\",\"textangle\":90,\"x\":0.9800000000000001,\"xanchor\":\"left\",\"xref\":\"paper\",\"y\":0.07083333333333333,\"yanchor\":\"middle\",\"yref\":\"paper\"},{\"font\":{},\"showarrow\":false,\"text\":\"age_cat=70+\",\"textangle\":90,\"x\":0.9800000000000001,\"xanchor\":\"left\",\"xref\":\"paper\",\"y\":0.2425,\"yanchor\":\"middle\",\"yref\":\"paper\"},{\"font\":{},\"showarrow\":false,\"text\":\"age_cat=50's\",\"textangle\":90,\"x\":0.9800000000000001,\"xanchor\":\"left\",\"xref\":\"paper\",\"y\":0.4141666666666667,\"yanchor\":\"middle\",\"yref\":\"paper\"},{\"font\":{},\"showarrow\":false,\"text\":\"age_cat=40's\",\"textangle\":90,\"x\":0.9800000000000001,\"xanchor\":\"left\",\"xref\":\"paper\",\"y\":0.5858333333333334,\"yanchor\":\"middle\",\"yref\":\"paper\"},{\"font\":{},\"showarrow\":false,\"text\":\"age_cat=30's\",\"textangle\":90,\"x\":0.9800000000000001,\"xanchor\":\"left\",\"xref\":\"paper\",\"y\":0.7575000000000001,\"yanchor\":\"middle\",\"yref\":\"paper\"},{\"font\":{},\"showarrow\":false,\"text\":\"age_cat=20's\",\"textangle\":90,\"x\":0.9800000000000001,\"xanchor\":\"left\",\"xref\":\"paper\",\"y\":0.9291666666666667,\"yanchor\":\"middle\",\"yref\":\"paper\"}],\"legend\":{\"tracegroupgap\":0},\"margin\":{\"t\":60},\"barmode\":\"relative\",\"title\":{\"text\":\"Count of women across age groups who have had one or more std\"},\"height\":1200},                        {\"responsive\": true}                    ).then(function(){\n",
              "                            \n",
              "var gd = document.getElementById('4b7d2885-5f00-44cd-aa4c-d0bb348056cb');\n",
              "var x = new MutationObserver(function (mutations, observer) {{\n",
              "        var display = window.getComputedStyle(gd).display;\n",
              "        if (!display || display === 'none') {{\n",
              "            console.log([gd, 'removed!']);\n",
              "            Plotly.purge(gd);\n",
              "            observer.disconnect();\n",
              "        }}\n",
              "}});\n",
              "\n",
              "// Listen for the removal of the full notebook cells\n",
              "var notebookContainer = gd.closest('#notebook-container');\n",
              "if (notebookContainer) {{\n",
              "    x.observe(notebookContainer, {childList: true});\n",
              "}}\n",
              "\n",
              "// Listen for the clearing of the current output cell\n",
              "var outputEl = gd.closest('.output');\n",
              "if (outputEl) {{\n",
              "    x.observe(outputEl, {childList: true});\n",
              "}}\n",
              "\n",
              "                        })                };                            </script>        </div>\n",
              "</body>\n",
              "</html>"
            ]
          },
          "metadata": {},
          "output_type": "display_data"
        }
      ],
      "source": [
        "#create histogram to understand Count of women across age groups who have had one or more std\n",
        "fig = px.histogram(risk_factor_df.query(\"total_std>=0\").sort_values(by=[\"total_std\", label], ascending=True),\n",
        "                   x=\"age_cat\",\n",
        "                   facet_col=\"total_std\",\n",
        "                   facet_row=label,\n",
        "                   color_discrete_sequence=[\"rebeccapurple\"],\n",
        "                   opacity=0.7)\n",
        "fig.update_layout(title=\"Count of women across age groups who have had one or more std\")\n",
        "fig.update_layout(height=1200)\n",
        "#show plot\n",
        "fig.show()"
      ]
    },
    {
      "cell_type": "code",
      "execution_count": null,
      "metadata": {
        "colab": {
          "base_uri": "https://localhost:8080/",
          "height": 542
        },
        "id": "03kcskAX_G1x",
        "outputId": "9b7f8c87-0606-490f-9304-6bf0970022ab"
      },
      "outputs": [
        {
          "data": {
            "text/html": [
              "<html>\n",
              "<head><meta charset=\"utf-8\" /></head>\n",
              "<body>\n",
              "    <div>            <script src=\"https://cdnjs.cloudflare.com/ajax/libs/mathjax/2.7.5/MathJax.js?config=TeX-AMS-MML_SVG\"></script><script type=\"text/javascript\">if (window.MathJax && window.MathJax.Hub && window.MathJax.Hub.Config) {window.MathJax.Hub.Config({SVG: {font: \"STIX-Web\"}});}</script>                <script type=\"text/javascript\">window.PlotlyConfig = {MathJaxConfig: 'local'};</script>\n",
              "        <script charset=\"utf-8\" src=\"https://cdn.plot.ly/plotly-2.24.1.min.js\"></script>                <div id=\"5597867f-b0d7-4333-8308-927407bee185\" class=\"plotly-graph-div\" style=\"height:525px; width:100%;\"></div>            <script type=\"text/javascript\">                                    window.PLOTLYENV=window.PLOTLYENV || {};                                    if (document.getElementById(\"5597867f-b0d7-4333-8308-927407bee185\")) {                    Plotly.newPlot(                        \"5597867f-b0d7-4333-8308-927407bee185\",                        [{\"alignmentgroup\":\"True\",\"bingroup\":\"x\",\"hovertemplate\":\"Dx:HPV=0\\u003cbr\\u003etotal_std=0\\u003cbr\\u003eage_cat=%{x}\\u003cbr\\u003ecount=%{y}\\u003cextra\\u003e\\u003c\\u002fextra\\u003e\",\"legendgroup\":\"\",\"marker\":{\"color\":\"dodgerblue\",\"opacity\":0.7,\"pattern\":{\"shape\":\"\"}},\"name\":\"\",\"offsetgroup\":\"\",\"orientation\":\"v\",\"showlegend\":false,\"x\":[\"Teen\",\"Teen\",\"30's\",\"40's\",\"40's\",\"50's\",\"20's\",\"40's\",\"40's\",\"20's\",\"40's\",\"40's\",\"40's\",\"40's\",\"40's\",\"40's\",\"40's\",\"40's\",\"40's\",\"40's\",\"30's\",\"30's\",\"30's\",\"30's\",\"40's\",\"40's\",\"30's\",\"30's\",\"30's\",\"30's\",\"30's\",\"30's\",\"30's\",\"30's\",\"30's\",\"30's\",\"30's\",\"30's\",\"30's\",\"40's\",\"40's\",\"30's\",\"30's\",\"30's\",\"30's\",\"30's\",\"30's\",\"40's\",\"30's\",\"30's\",\"30's\",\"30's\",\"30's\",\"30's\",\"30's\",\"30's\",\"30's\",\"30's\",\"30's\",\"30's\",\"30's\",\"30's\",\"30's\",\"30's\",\"30's\",\"30's\",\"30's\",\"30's\",\"30's\",\"30's\",\"30's\",\"30's\",\"30's\",\"30's\",\"30's\",\"30's\",\"30's\",\"30's\",\"30's\",\"30's\",\"30's\",\"30's\",\"30's\",\"30's\",\"30's\",\"30's\",\"30's\",\"30's\",\"30's\",\"30's\",\"30's\",\"30's\",\"30's\",\"30's\",\"30's\",\"30's\",\"20's\",\"30's\",\"30's\",\"30's\",\"30's\",\"30's\",\"20's\",\"30's\",\"30's\",\"30's\",\"30's\",\"30's\",\"30's\",\"20's\",\"20's\",\"30's\",\"20's\",\"30's\",\"30's\",\"20's\",\"30's\",\"20's\",\"20's\",\"30's\",\"30's\",\"20's\",\"30's\",\"20's\",\"30's\",\"30's\",\"30's\",\"30's\",\"30's\",\"20's\",\"30's\",\"20's\",\"20's\",\"20's\",\"20's\",\"20's\",\"20's\",\"30's\",\"20's\",\"20's\",\"20's\",\"20's\",\"20's\",\"20's\",\"20's\",\"20's\",\"20's\",\"Teen\",\"20's\",\"20's\",\"20's\",\"20's\",\"20's\",\"20's\",\"20's\",\"30's\",\"20's\",\"20's\",\"20's\",\"20's\",\"20's\",\"20's\",\"20's\",\"20's\",\"20's\",\"20's\",\"20's\",\"20's\",\"20's\",\"20's\",\"20's\",\"20's\",\"20's\",\"20's\",\"20's\",\"20's\",\"20's\",\"20's\",\"20's\",\"20's\",\"20's\",\"20's\",\"20's\",\"30's\",\"20's\",\"20's\",\"20's\",\"20's\",\"20's\",\"20's\",\"20's\",\"20's\",\"20's\",\"20's\",\"30's\",\"20's\",\"20's\",\"20's\",\"20's\",\"20's\",\"20's\",\"20's\",\"20's\",\"20's\",\"20's\",\"20's\",\"30's\",\"20's\",\"20's\",\"20's\",\"20's\",\"20's\",\"20's\",\"20's\",\"20's\",\"20's\",\"20's\",\"20's\",\"20's\",\"20's\",\"20's\",\"20's\",\"20's\",\"20's\",\"20's\",\"20's\",\"20's\",\"20's\",\"20's\",\"20's\",\"20's\",\"20's\",\"20's\",\"20's\",\"20's\",\"20's\",\"20's\",\"20's\",\"20's\",\"20's\",\"20's\",\"20's\",\"20's\",\"20's\",\"20's\",\"20's\",\"20's\",\"20's\",\"20's\",\"20's\",\"20's\",\"20's\",\"20's\",\"20's\",\"20's\",\"20's\",\"20's\",\"20's\",\"20's\",\"20's\",\"20's\",\"20's\",\"20's\",\"20's\",\"20's\",\"20's\",\"20's\",\"20's\",\"20's\",\"20's\",\"20's\",\"20's\",\"20's\",\"20's\",\"20's\",\"20's\",\"20's\",\"20's\",\"20's\",\"20's\",\"20's\",\"20's\",\"20's\",\"20's\",\"20's\",\"30's\",\"20's\",\"20's\",\"20's\",\"20's\",\"20's\",\"20's\",\"30's\",\"20's\",\"20's\",\"20's\",\"40's\",\"20's\",\"20's\",\"Teen\",\"Teen\",\"20's\",\"20's\",\"Teen\",\"20's\",\"Teen\",\"Teen\",\"Teen\",\"20's\",\"20's\",\"Teen\",\"Teen\",\"20's\",\"40's\",\"Teen\",\"20's\",\"20's\",\"30's\",\"20's\",\"20's\",\"20's\",\"Teen\",\"Teen\",\"20's\",\"Teen\",\"Teen\",\"20's\",\"Teen\",\"20's\",\"20's\",\"20's\",\"20's\",\"20's\",\"Teen\",\"20's\",\"Teen\",\"Teen\",\"20's\",\"Teen\",\"20's\",\"Teen\",\"20's\",\"Teen\",\"20's\",\"Teen\",\"Teen\",\"Teen\",\"Teen\",\"Teen\",\"Teen\",\"20's\",\"Teen\",\"20's\",\"Teen\",\"Teen\",\"Teen\",\"Teen\",\"Teen\",\"Teen\",\"Teen\",\"20's\",\"Teen\",\"Teen\",\"30's\",\"20's\",\"Teen\",\"Teen\",\"Teen\",\"Teen\",\"Teen\",\"20's\",\"Teen\",\"Teen\",\"Teen\",\"20's\",\"Teen\",\"Teen\",\"Teen\",\"Teen\",\"30's\",\"Teen\",\"20's\",\"Teen\",\"Teen\",\"Teen\",\"20's\",\"Teen\",\"Teen\",\"Teen\",\"Teen\",\"Teen\",\"Teen\",\"Teen\",\"Teen\",\"Teen\",\"Teen\",\"Teen\",\"Teen\",\"Teen\",\"Teen\",\"Teen\",\"Teen\",\"Teen\",\"Teen\",\"Teen\",\"Teen\",\"Teen\",\"Teen\",\"Teen\",\"Teen\",\"Teen\",\"Teen\",\"Teen\",\"Teen\",\"30's\",\"Teen\",\"30's\",\"40's\",\"30's\",\"Teen\",\"30's\",\"30's\",\"20's\",\"20's\",\"30's\",\"30's\",\"20's\",\"20's\",\"20's\",\"20's\",\"20's\",\"20's\",\"Teen\",\"Teen\",\"30's\",\"Teen\",\"20's\",\"20's\",\"20's\",\"20's\",\"30's\",\"30's\",\"30's\",\"20's\",\"30's\",\"20's\",\"20's\",\"Teen\",\"20's\",\"Teen\",\"Teen\",\"30's\",\"Teen\",\"20's\",\"30's\",\"20's\",\"20's\",\"20's\",\"Teen\",\"Teen\",\"40's\",\"Teen\",\"30's\",\"30's\",\"Teen\",\"20's\",\"20's\",\"30's\",\"30's\",\"20's\",\"Teen\",\"20's\",\"20's\",\"Teen\",\"20's\",\"Teen\",\"20's\",\"20's\",\"20's\",\"20's\",\"Teen\",\"Teen\",\"Teen\",\"20's\",\"20's\",\"Teen\",\"30's\",\"20's\",\"30's\",\"Teen\",\"30's\",\"Teen\",\"20's\",\"20's\",\"20's\",\"20's\",\"30's\",\"20's\",\"20's\",\"20's\",\"20's\",\"20's\",\"20's\",\"20's\",\"40's\",\"30's\",\"20's\",\"20's\",\"20's\",\"20's\",\"Teen\",\"20's\",\"20's\",\"30's\",\"Teen\",\"Teen\",\"20's\",\"20's\",\"30's\",\"30's\",\"Teen\",\"30's\",\"40's\",\"40's\",\"20's\",\"20's\",\"Teen\",\"20's\",\"20's\",\"Teen\",\"Teen\",\"20's\",\"20's\",\"20's\",\"30's\",\"20's\",\"20's\",\"20's\",\"20's\",\"30's\",\"Teen\",\"20's\",\"20's\",\"20's\",\"30's\",\"20's\",\"Teen\",\"Teen\",\"20's\",\"20's\",\"30's\",\"30's\",\"20's\",\"Teen\",\"Teen\",\"30's\",\"20's\",\"40's\",\"20's\",\"20's\",\"20's\",\"20's\",\"20's\",\"20's\",\"30's\",\"30's\",\"20's\",\"20's\",\"Teen\",\"30's\",\"30's\",\"20's\",\"Teen\",\"20's\",\"Teen\",\"20's\",\"30's\",\"20's\",\"40's\",\"50's\",\"20's\",\"40's\",\"20's\",\"20's\",\"20's\",\"Teen\",\"20's\",\"Teen\",\"20's\",\"20's\",\"20's\",\"30's\",\"20's\",\"Teen\",\"70+\",\"70+\",\"40's\",\"50's\",\"Teen\",\"40's\",\"40's\",\"70+\",\"40's\",\"30's\",\"50's\",\"40's\",\"40's\",\"70+\",\"30's\",\"40's\",\"30's\",\"20's\",\"20's\",\"Teen\",\"Teen\",\"Teen\",\"20's\",\"20's\",\"Teen\",\"Teen\",\"20's\",\"Teen\",\"20's\",\"20's\",\"20's\",\"Teen\",\"40's\",\"40's\",\"Teen\",\"20's\",\"20's\",\"20's\",\"20's\",\"Teen\",\"20's\",\"Teen\",\"20's\",\"Teen\",\"Teen\",\"30's\",\"20's\",\"40's\",\"20's\",\"30's\",\"20's\",\"Teen\",\"30's\",\"20's\",\"20's\",\"30's\",\"20's\",\"40's\",\"20's\",\"20's\",\"30's\",\"30's\",\"Teen\",\"30's\",\"20's\",\"40's\",\"Teen\",\"Teen\",\"Teen\",\"20's\",\"20's\",\"20's\",\"Teen\",\"40's\",\"30's\",\"20's\",\"20's\",\"30's\",\"20's\",\"20's\",\"30's\",\"Teen\",\"30's\",\"Teen\",\"20's\",\"20's\",\"20's\",\"Teen\",\"20's\",\"20's\",\"30's\",\"Teen\",\"Teen\",\"40's\",\"Teen\",\"30's\",\"Teen\",\"30's\",\"Teen\",\"30's\",\"20's\",\"Teen\",\"20's\",\"20's\",\"20's\",\"30's\",\"20's\",\"Teen\",\"20's\",\"20's\",\"20's\",\"30's\",\"30's\",\"20's\",\"Teen\",\"20's\",\"30's\",\"Teen\",\"Teen\",\"20's\",\"30's\",\"Teen\",\"30's\",\"20's\",\"20's\",\"Teen\",\"Teen\",\"Teen\",\"20's\",\"Teen\",\"30's\",\"20's\",\"20's\",\"30's\",\"Teen\",\"20's\",\"30's\",\"30's\",\"30's\",\"40's\",\"30's\",\"30's\",\"30's\",\"30's\",\"30's\",\"30's\",\"30's\",\"20's\",\"30's\",\"30's\",\"30's\",\"30's\",\"20's\",\"20's\",\"30's\",\"30's\",\"20's\",\"Teen\",\"30's\",\"30's\",\"30's\",\"Teen\",\"20's\",\"40's\",\"30's\",\"30's\",\"20's\",\"30's\",\"20's\"],\"xaxis\":\"x6\",\"yaxis\":\"y6\",\"type\":\"histogram\"},{\"alignmentgroup\":\"True\",\"bingroup\":\"x\",\"hovertemplate\":\"Dx:HPV=0\\u003cbr\\u003etotal_std=1\\u003cbr\\u003eage_cat=%{x}\\u003cbr\\u003ecount=%{y}\\u003cextra\\u003e\\u003c\\u002fextra\\u003e\",\"legendgroup\":\"\",\"marker\":{\"color\":\"dodgerblue\",\"opacity\":0.7,\"pattern\":{\"shape\":\"\"}},\"name\":\"\",\"offsetgroup\":\"\",\"orientation\":\"v\",\"showlegend\":false,\"x\":[\"40's\",\"30's\",\"30's\",\"30's\",\"30's\",\"30's\",\"30's\",\"20's\",\"30's\",\"20's\",\"20's\",\"20's\",\"20's\",\"30's\",\"20's\",\"20's\",\"20's\",\"20's\",\"20's\",\"20's\",\"Teen\",\"Teen\",\"Teen\",\"30's\",\"30's\",\"20's\",\"40's\",\"30's\",\"20's\",\"20's\",\"30's\",\"40's\"],\"xaxis\":\"x7\",\"yaxis\":\"y7\",\"type\":\"histogram\"},{\"alignmentgroup\":\"True\",\"bingroup\":\"x\",\"hovertemplate\":\"Dx:HPV=0\\u003cbr\\u003etotal_std=2\\u003cbr\\u003eage_cat=%{x}\\u003cbr\\u003ecount=%{y}\\u003cextra\\u003e\\u003c\\u002fextra\\u003e\",\"legendgroup\":\"\",\"marker\":{\"color\":\"dodgerblue\",\"opacity\":0.7,\"pattern\":{\"shape\":\"\"}},\"name\":\"\",\"offsetgroup\":\"\",\"orientation\":\"v\",\"showlegend\":false,\"x\":[\"40's\",\"40's\",\"30's\",\"30's\",\"30's\",\"30's\",\"20's\",\"30's\",\"20's\",\"20's\",\"20's\",\"20's\",\"20's\",\"20's\",\"20's\",\"Teen\",\"40's\",\"Teen\",\"20's\",\"Teen\",\"Teen\",\"20's\",\"Teen\",\"20's\",\"30's\",\"Teen\",\"20's\",\"40's\",\"20's\",\"20's\",\"40's\",\"20's\",\"20's\",\"Teen\",\"20's\",\"Teen\",\"20's\"],\"xaxis\":\"x8\",\"yaxis\":\"y8\",\"type\":\"histogram\"},{\"alignmentgroup\":\"True\",\"bingroup\":\"x\",\"hovertemplate\":\"Dx:HPV=0\\u003cbr\\u003etotal_std=3\\u003cbr\\u003eage_cat=%{x}\\u003cbr\\u003ecount=%{y}\\u003cextra\\u003e\\u003c\\u002fextra\\u003e\",\"legendgroup\":\"\",\"marker\":{\"color\":\"dodgerblue\",\"opacity\":0.7,\"pattern\":{\"shape\":\"\"}},\"name\":\"\",\"offsetgroup\":\"\",\"orientation\":\"v\",\"showlegend\":false,\"x\":[\"20's\",\"30's\",\"30's\",\"Teen\",\"Teen\",\"Teen\",\"20's\"],\"xaxis\":\"x9\",\"yaxis\":\"y9\",\"type\":\"histogram\"},{\"alignmentgroup\":\"True\",\"bingroup\":\"x\",\"hovertemplate\":\"Dx:HPV=0\\u003cbr\\u003etotal_std=4\\u003cbr\\u003eage_cat=%{x}\\u003cbr\\u003ecount=%{y}\\u003cextra\\u003e\\u003c\\u002fextra\\u003e\",\"legendgroup\":\"\",\"marker\":{\"color\":\"dodgerblue\",\"opacity\":0.7,\"pattern\":{\"shape\":\"\"}},\"name\":\"\",\"offsetgroup\":\"\",\"orientation\":\"v\",\"showlegend\":false,\"x\":[\"Teen\"],\"xaxis\":\"x10\",\"yaxis\":\"y10\",\"type\":\"histogram\"},{\"alignmentgroup\":\"True\",\"bingroup\":\"x\",\"hovertemplate\":\"Dx:HPV=1\\u003cbr\\u003etotal_std=0\\u003cbr\\u003eage_cat=%{x}\\u003cbr\\u003ecount=%{y}\\u003cextra\\u003e\\u003c\\u002fextra\\u003e\",\"legendgroup\":\"\",\"marker\":{\"color\":\"dodgerblue\",\"opacity\":0.7,\"pattern\":{\"shape\":\"\"}},\"name\":\"\",\"offsetgroup\":\"\",\"orientation\":\"v\",\"showlegend\":false,\"x\":[\"50's\",\"40's\",\"40's\",\"30's\",\"30's\",\"20's\",\"20's\",\"20's\",\"Teen\",\"20's\",\"30's\",\"30's\",\"20's\",\"40's\",\"20's\",\"30's\"],\"xaxis\":\"x\",\"yaxis\":\"y\",\"type\":\"histogram\"},{\"alignmentgroup\":\"True\",\"bingroup\":\"x\",\"hovertemplate\":\"Dx:HPV=1\\u003cbr\\u003etotal_std=1\\u003cbr\\u003eage_cat=%{x}\\u003cbr\\u003ecount=%{y}\\u003cextra\\u003e\\u003c\\u002fextra\\u003e\",\"legendgroup\":\"\",\"marker\":{\"color\":\"dodgerblue\",\"opacity\":0.7,\"pattern\":{\"shape\":\"\"}},\"name\":\"\",\"offsetgroup\":\"\",\"orientation\":\"v\",\"showlegend\":false,\"x\":[\"30's\",\"30's\"],\"xaxis\":\"x2\",\"yaxis\":\"y2\",\"type\":\"histogram\"}],                        {\"template\":{\"data\":{\"histogram2dcontour\":[{\"type\":\"histogram2dcontour\",\"colorbar\":{\"outlinewidth\":0,\"ticks\":\"\"},\"colorscale\":[[0.0,\"#0d0887\"],[0.1111111111111111,\"#46039f\"],[0.2222222222222222,\"#7201a8\"],[0.3333333333333333,\"#9c179e\"],[0.4444444444444444,\"#bd3786\"],[0.5555555555555556,\"#d8576b\"],[0.6666666666666666,\"#ed7953\"],[0.7777777777777778,\"#fb9f3a\"],[0.8888888888888888,\"#fdca26\"],[1.0,\"#f0f921\"]]}],\"choropleth\":[{\"type\":\"choropleth\",\"colorbar\":{\"outlinewidth\":0,\"ticks\":\"\"}}],\"histogram2d\":[{\"type\":\"histogram2d\",\"colorbar\":{\"outlinewidth\":0,\"ticks\":\"\"},\"colorscale\":[[0.0,\"#0d0887\"],[0.1111111111111111,\"#46039f\"],[0.2222222222222222,\"#7201a8\"],[0.3333333333333333,\"#9c179e\"],[0.4444444444444444,\"#bd3786\"],[0.5555555555555556,\"#d8576b\"],[0.6666666666666666,\"#ed7953\"],[0.7777777777777778,\"#fb9f3a\"],[0.8888888888888888,\"#fdca26\"],[1.0,\"#f0f921\"]]}],\"heatmap\":[{\"type\":\"heatmap\",\"colorbar\":{\"outlinewidth\":0,\"ticks\":\"\"},\"colorscale\":[[0.0,\"#0d0887\"],[0.1111111111111111,\"#46039f\"],[0.2222222222222222,\"#7201a8\"],[0.3333333333333333,\"#9c179e\"],[0.4444444444444444,\"#bd3786\"],[0.5555555555555556,\"#d8576b\"],[0.6666666666666666,\"#ed7953\"],[0.7777777777777778,\"#fb9f3a\"],[0.8888888888888888,\"#fdca26\"],[1.0,\"#f0f921\"]]}],\"heatmapgl\":[{\"type\":\"heatmapgl\",\"colorbar\":{\"outlinewidth\":0,\"ticks\":\"\"},\"colorscale\":[[0.0,\"#0d0887\"],[0.1111111111111111,\"#46039f\"],[0.2222222222222222,\"#7201a8\"],[0.3333333333333333,\"#9c179e\"],[0.4444444444444444,\"#bd3786\"],[0.5555555555555556,\"#d8576b\"],[0.6666666666666666,\"#ed7953\"],[0.7777777777777778,\"#fb9f3a\"],[0.8888888888888888,\"#fdca26\"],[1.0,\"#f0f921\"]]}],\"contourcarpet\":[{\"type\":\"contourcarpet\",\"colorbar\":{\"outlinewidth\":0,\"ticks\":\"\"}}],\"contour\":[{\"type\":\"contour\",\"colorbar\":{\"outlinewidth\":0,\"ticks\":\"\"},\"colorscale\":[[0.0,\"#0d0887\"],[0.1111111111111111,\"#46039f\"],[0.2222222222222222,\"#7201a8\"],[0.3333333333333333,\"#9c179e\"],[0.4444444444444444,\"#bd3786\"],[0.5555555555555556,\"#d8576b\"],[0.6666666666666666,\"#ed7953\"],[0.7777777777777778,\"#fb9f3a\"],[0.8888888888888888,\"#fdca26\"],[1.0,\"#f0f921\"]]}],\"surface\":[{\"type\":\"surface\",\"colorbar\":{\"outlinewidth\":0,\"ticks\":\"\"},\"colorscale\":[[0.0,\"#0d0887\"],[0.1111111111111111,\"#46039f\"],[0.2222222222222222,\"#7201a8\"],[0.3333333333333333,\"#9c179e\"],[0.4444444444444444,\"#bd3786\"],[0.5555555555555556,\"#d8576b\"],[0.6666666666666666,\"#ed7953\"],[0.7777777777777778,\"#fb9f3a\"],[0.8888888888888888,\"#fdca26\"],[1.0,\"#f0f921\"]]}],\"mesh3d\":[{\"type\":\"mesh3d\",\"colorbar\":{\"outlinewidth\":0,\"ticks\":\"\"}}],\"scatter\":[{\"fillpattern\":{\"fillmode\":\"overlay\",\"size\":10,\"solidity\":0.2},\"type\":\"scatter\"}],\"parcoords\":[{\"type\":\"parcoords\",\"line\":{\"colorbar\":{\"outlinewidth\":0,\"ticks\":\"\"}}}],\"scatterpolargl\":[{\"type\":\"scatterpolargl\",\"marker\":{\"colorbar\":{\"outlinewidth\":0,\"ticks\":\"\"}}}],\"bar\":[{\"error_x\":{\"color\":\"#2a3f5f\"},\"error_y\":{\"color\":\"#2a3f5f\"},\"marker\":{\"line\":{\"color\":\"#E5ECF6\",\"width\":0.5},\"pattern\":{\"fillmode\":\"overlay\",\"size\":10,\"solidity\":0.2}},\"type\":\"bar\"}],\"scattergeo\":[{\"type\":\"scattergeo\",\"marker\":{\"colorbar\":{\"outlinewidth\":0,\"ticks\":\"\"}}}],\"scatterpolar\":[{\"type\":\"scatterpolar\",\"marker\":{\"colorbar\":{\"outlinewidth\":0,\"ticks\":\"\"}}}],\"histogram\":[{\"marker\":{\"pattern\":{\"fillmode\":\"overlay\",\"size\":10,\"solidity\":0.2}},\"type\":\"histogram\"}],\"scattergl\":[{\"type\":\"scattergl\",\"marker\":{\"colorbar\":{\"outlinewidth\":0,\"ticks\":\"\"}}}],\"scatter3d\":[{\"type\":\"scatter3d\",\"line\":{\"colorbar\":{\"outlinewidth\":0,\"ticks\":\"\"}},\"marker\":{\"colorbar\":{\"outlinewidth\":0,\"ticks\":\"\"}}}],\"scattermapbox\":[{\"type\":\"scattermapbox\",\"marker\":{\"colorbar\":{\"outlinewidth\":0,\"ticks\":\"\"}}}],\"scatterternary\":[{\"type\":\"scatterternary\",\"marker\":{\"colorbar\":{\"outlinewidth\":0,\"ticks\":\"\"}}}],\"scattercarpet\":[{\"type\":\"scattercarpet\",\"marker\":{\"colorbar\":{\"outlinewidth\":0,\"ticks\":\"\"}}}],\"carpet\":[{\"aaxis\":{\"endlinecolor\":\"#2a3f5f\",\"gridcolor\":\"white\",\"linecolor\":\"white\",\"minorgridcolor\":\"white\",\"startlinecolor\":\"#2a3f5f\"},\"baxis\":{\"endlinecolor\":\"#2a3f5f\",\"gridcolor\":\"white\",\"linecolor\":\"white\",\"minorgridcolor\":\"white\",\"startlinecolor\":\"#2a3f5f\"},\"type\":\"carpet\"}],\"table\":[{\"cells\":{\"fill\":{\"color\":\"#EBF0F8\"},\"line\":{\"color\":\"white\"}},\"header\":{\"fill\":{\"color\":\"#C8D4E3\"},\"line\":{\"color\":\"white\"}},\"type\":\"table\"}],\"barpolar\":[{\"marker\":{\"line\":{\"color\":\"#E5ECF6\",\"width\":0.5},\"pattern\":{\"fillmode\":\"overlay\",\"size\":10,\"solidity\":0.2}},\"type\":\"barpolar\"}],\"pie\":[{\"automargin\":true,\"type\":\"pie\"}]},\"layout\":{\"autotypenumbers\":\"strict\",\"colorway\":[\"#636efa\",\"#EF553B\",\"#00cc96\",\"#ab63fa\",\"#FFA15A\",\"#19d3f3\",\"#FF6692\",\"#B6E880\",\"#FF97FF\",\"#FECB52\"],\"font\":{\"color\":\"#2a3f5f\"},\"hovermode\":\"closest\",\"hoverlabel\":{\"align\":\"left\"},\"paper_bgcolor\":\"white\",\"plot_bgcolor\":\"#E5ECF6\",\"polar\":{\"bgcolor\":\"#E5ECF6\",\"angularaxis\":{\"gridcolor\":\"white\",\"linecolor\":\"white\",\"ticks\":\"\"},\"radialaxis\":{\"gridcolor\":\"white\",\"linecolor\":\"white\",\"ticks\":\"\"}},\"ternary\":{\"bgcolor\":\"#E5ECF6\",\"aaxis\":{\"gridcolor\":\"white\",\"linecolor\":\"white\",\"ticks\":\"\"},\"baxis\":{\"gridcolor\":\"white\",\"linecolor\":\"white\",\"ticks\":\"\"},\"caxis\":{\"gridcolor\":\"white\",\"linecolor\":\"white\",\"ticks\":\"\"}},\"coloraxis\":{\"colorbar\":{\"outlinewidth\":0,\"ticks\":\"\"}},\"colorscale\":{\"sequential\":[[0.0,\"#0d0887\"],[0.1111111111111111,\"#46039f\"],[0.2222222222222222,\"#7201a8\"],[0.3333333333333333,\"#9c179e\"],[0.4444444444444444,\"#bd3786\"],[0.5555555555555556,\"#d8576b\"],[0.6666666666666666,\"#ed7953\"],[0.7777777777777778,\"#fb9f3a\"],[0.8888888888888888,\"#fdca26\"],[1.0,\"#f0f921\"]],\"sequentialminus\":[[0.0,\"#0d0887\"],[0.1111111111111111,\"#46039f\"],[0.2222222222222222,\"#7201a8\"],[0.3333333333333333,\"#9c179e\"],[0.4444444444444444,\"#bd3786\"],[0.5555555555555556,\"#d8576b\"],[0.6666666666666666,\"#ed7953\"],[0.7777777777777778,\"#fb9f3a\"],[0.8888888888888888,\"#fdca26\"],[1.0,\"#f0f921\"]],\"diverging\":[[0,\"#8e0152\"],[0.1,\"#c51b7d\"],[0.2,\"#de77ae\"],[0.3,\"#f1b6da\"],[0.4,\"#fde0ef\"],[0.5,\"#f7f7f7\"],[0.6,\"#e6f5d0\"],[0.7,\"#b8e186\"],[0.8,\"#7fbc41\"],[0.9,\"#4d9221\"],[1,\"#276419\"]]},\"xaxis\":{\"gridcolor\":\"white\",\"linecolor\":\"white\",\"ticks\":\"\",\"title\":{\"standoff\":15},\"zerolinecolor\":\"white\",\"automargin\":true,\"zerolinewidth\":2},\"yaxis\":{\"gridcolor\":\"white\",\"linecolor\":\"white\",\"ticks\":\"\",\"title\":{\"standoff\":15},\"zerolinecolor\":\"white\",\"automargin\":true,\"zerolinewidth\":2},\"scene\":{\"xaxis\":{\"backgroundcolor\":\"#E5ECF6\",\"gridcolor\":\"white\",\"linecolor\":\"white\",\"showbackground\":true,\"ticks\":\"\",\"zerolinecolor\":\"white\",\"gridwidth\":2},\"yaxis\":{\"backgroundcolor\":\"#E5ECF6\",\"gridcolor\":\"white\",\"linecolor\":\"white\",\"showbackground\":true,\"ticks\":\"\",\"zerolinecolor\":\"white\",\"gridwidth\":2},\"zaxis\":{\"backgroundcolor\":\"#E5ECF6\",\"gridcolor\":\"white\",\"linecolor\":\"white\",\"showbackground\":true,\"ticks\":\"\",\"zerolinecolor\":\"white\",\"gridwidth\":2}},\"shapedefaults\":{\"line\":{\"color\":\"#2a3f5f\"}},\"annotationdefaults\":{\"arrowcolor\":\"#2a3f5f\",\"arrowhead\":0,\"arrowwidth\":1},\"geo\":{\"bgcolor\":\"white\",\"landcolor\":\"#E5ECF6\",\"subunitcolor\":\"white\",\"showland\":true,\"showlakes\":true,\"lakecolor\":\"white\"},\"title\":{\"x\":0.05},\"mapbox\":{\"style\":\"light\"}}},\"xaxis\":{\"anchor\":\"y\",\"domain\":[0.0,0.18000000000000002],\"title\":{\"text\":\"age_cat\"}},\"yaxis\":{\"anchor\":\"x\",\"domain\":[0.0,0.485],\"title\":{\"text\":\"count\"}},\"xaxis2\":{\"anchor\":\"y2\",\"domain\":[0.2,0.38],\"matches\":\"x\",\"title\":{\"text\":\"age_cat\"}},\"yaxis2\":{\"anchor\":\"x2\",\"domain\":[0.0,0.485],\"matches\":\"y\",\"showticklabels\":false},\"xaxis3\":{\"anchor\":\"y3\",\"domain\":[0.4,0.5800000000000001],\"matches\":\"x\",\"title\":{\"text\":\"age_cat\"}},\"yaxis3\":{\"anchor\":\"x3\",\"domain\":[0.0,0.485],\"matches\":\"y\",\"showticklabels\":false},\"xaxis4\":{\"anchor\":\"y4\",\"domain\":[0.6000000000000001,0.7800000000000001],\"matches\":\"x\",\"title\":{\"text\":\"age_cat\"}},\"yaxis4\":{\"anchor\":\"x4\",\"domain\":[0.0,0.485],\"matches\":\"y\",\"showticklabels\":false},\"xaxis5\":{\"anchor\":\"y5\",\"domain\":[0.8,0.9800000000000001],\"matches\":\"x\",\"title\":{\"text\":\"age_cat\"}},\"yaxis5\":{\"anchor\":\"x5\",\"domain\":[0.0,0.485],\"matches\":\"y\",\"showticklabels\":false},\"xaxis6\":{\"anchor\":\"y6\",\"domain\":[0.0,0.18000000000000002],\"matches\":\"x\",\"showticklabels\":false},\"yaxis6\":{\"anchor\":\"x6\",\"domain\":[0.515,1.0],\"matches\":\"y\",\"title\":{\"text\":\"count\"}},\"xaxis7\":{\"anchor\":\"y7\",\"domain\":[0.2,0.38],\"matches\":\"x\",\"showticklabels\":false},\"yaxis7\":{\"anchor\":\"x7\",\"domain\":[0.515,1.0],\"matches\":\"y\",\"showticklabels\":false},\"xaxis8\":{\"anchor\":\"y8\",\"domain\":[0.4,0.5800000000000001],\"matches\":\"x\",\"showticklabels\":false},\"yaxis8\":{\"anchor\":\"x8\",\"domain\":[0.515,1.0],\"matches\":\"y\",\"showticklabels\":false},\"xaxis9\":{\"anchor\":\"y9\",\"domain\":[0.6000000000000001,0.7800000000000001],\"matches\":\"x\",\"showticklabels\":false},\"yaxis9\":{\"anchor\":\"x9\",\"domain\":[0.515,1.0],\"matches\":\"y\",\"showticklabels\":false},\"xaxis10\":{\"anchor\":\"y10\",\"domain\":[0.8,0.9800000000000001],\"matches\":\"x\",\"showticklabels\":false},\"yaxis10\":{\"anchor\":\"x10\",\"domain\":[0.515,1.0],\"matches\":\"y\",\"showticklabels\":false},\"annotations\":[{\"font\":{},\"showarrow\":false,\"text\":\"total_std=0\",\"x\":0.09000000000000001,\"xanchor\":\"center\",\"xref\":\"paper\",\"y\":1.0,\"yanchor\":\"bottom\",\"yref\":\"paper\"},{\"font\":{},\"showarrow\":false,\"text\":\"total_std=1\",\"x\":0.29000000000000004,\"xanchor\":\"center\",\"xref\":\"paper\",\"y\":1.0,\"yanchor\":\"bottom\",\"yref\":\"paper\"},{\"font\":{},\"showarrow\":false,\"text\":\"total_std=2\",\"x\":0.49000000000000005,\"xanchor\":\"center\",\"xref\":\"paper\",\"y\":1.0,\"yanchor\":\"bottom\",\"yref\":\"paper\"},{\"font\":{},\"showarrow\":false,\"text\":\"total_std=3\",\"x\":0.6900000000000002,\"xanchor\":\"center\",\"xref\":\"paper\",\"y\":1.0,\"yanchor\":\"bottom\",\"yref\":\"paper\"},{\"font\":{},\"showarrow\":false,\"text\":\"total_std=4\",\"x\":0.8900000000000001,\"xanchor\":\"center\",\"xref\":\"paper\",\"y\":1.0,\"yanchor\":\"bottom\",\"yref\":\"paper\"},{\"font\":{},\"showarrow\":false,\"text\":\"Dx:HPV=1\",\"textangle\":90,\"x\":0.9800000000000001,\"xanchor\":\"left\",\"xref\":\"paper\",\"y\":0.2425,\"yanchor\":\"middle\",\"yref\":\"paper\"},{\"font\":{},\"showarrow\":false,\"text\":\"Dx:HPV=0\",\"textangle\":90,\"x\":0.9800000000000001,\"xanchor\":\"left\",\"xref\":\"paper\",\"y\":0.7575000000000001,\"yanchor\":\"middle\",\"yref\":\"paper\"}],\"legend\":{\"tracegroupgap\":0},\"margin\":{\"t\":60},\"barmode\":\"relative\",\"title\":{\"text\":\"Count of women across age groups who have had one or more std\"}},                        {\"responsive\": true}                    ).then(function(){\n",
              "                            \n",
              "var gd = document.getElementById('5597867f-b0d7-4333-8308-927407bee185');\n",
              "var x = new MutationObserver(function (mutations, observer) {{\n",
              "        var display = window.getComputedStyle(gd).display;\n",
              "        if (!display || display === 'none') {{\n",
              "            console.log([gd, 'removed!']);\n",
              "            Plotly.purge(gd);\n",
              "            observer.disconnect();\n",
              "        }}\n",
              "}});\n",
              "\n",
              "// Listen for the removal of the full notebook cells\n",
              "var notebookContainer = gd.closest('#notebook-container');\n",
              "if (notebookContainer) {{\n",
              "    x.observe(notebookContainer, {childList: true});\n",
              "}}\n",
              "\n",
              "// Listen for the clearing of the current output cell\n",
              "var outputEl = gd.closest('.output');\n",
              "if (outputEl) {{\n",
              "    x.observe(outputEl, {childList: true});\n",
              "}}\n",
              "\n",
              "                        })                };                            </script>        </div>\n",
              "</body>\n",
              "</html>"
            ]
          },
          "metadata": {},
          "output_type": "display_data"
        }
      ],
      "source": [
        "#create histogram to understand Count of women across age groups who have had one or more std\n",
        "fig = px.histogram(risk_factor_df.query(\"total_std>=0\").sort_values(by=[\"total_std\",\"Dx:HPV\"], ascending=True),\n",
        "                   x=\"age_cat\",\n",
        "                   facet_col=\"total_std\",\n",
        "                   facet_row=\"Dx:HPV\",\n",
        "                   color_discrete_sequence=[\"dodgerblue\"],\n",
        "                   opacity=0.7)\n",
        "fig.update_layout(title=\"Count of women across age groups who have had one or more std\")\n",
        "\n",
        "fig.show()"
      ]
    },
    {
      "cell_type": "markdown",
      "metadata": {
        "id": "52YDAtaQ_R5h"
      },
      "source": [
        "#### Tests used\n",
        "\n",
        "Here we observe the number of tests done by patients to determine if they have Cerivcal Cancer / HPV."
      ]
    },
    {
      "cell_type": "code",
      "execution_count": null,
      "metadata": {
        "colab": {
          "base_uri": "https://localhost:8080/",
          "height": 1000
        },
        "id": "1nTG4m2K_YPH",
        "outputId": "0022291c-0d83-463d-b9ff-415647e279cc"
      },
      "outputs": [
        {
          "data": {
            "text/html": [
              "<html>\n",
              "<head><meta charset=\"utf-8\" /></head>\n",
              "<body>\n",
              "    <div>            <script src=\"https://cdnjs.cloudflare.com/ajax/libs/mathjax/2.7.5/MathJax.js?config=TeX-AMS-MML_SVG\"></script><script type=\"text/javascript\">if (window.MathJax && window.MathJax.Hub && window.MathJax.Hub.Config) {window.MathJax.Hub.Config({SVG: {font: \"STIX-Web\"}});}</script>                <script type=\"text/javascript\">window.PlotlyConfig = {MathJaxConfig: 'local'};</script>\n",
              "        <script charset=\"utf-8\" src=\"https://cdn.plot.ly/plotly-2.24.1.min.js\"></script>                <div id=\"f49ae319-ff98-4150-9b2c-148f7a26e092\" class=\"plotly-graph-div\" style=\"height:1200px; width:100%;\"></div>            <script type=\"text/javascript\">                                    window.PLOTLYENV=window.PLOTLYENV || {};                                    if (document.getElementById(\"f49ae319-ff98-4150-9b2c-148f7a26e092\")) {                    Plotly.newPlot(                        \"f49ae319-ff98-4150-9b2c-148f7a26e092\",                        [{\"alignmentgroup\":\"True\",\"bingroup\":\"x\",\"hovertemplate\":\"age_cat=%{x}\\u003cbr\\u003etotal_tests=1\\u003cbr\\u003ecount=%{y}\\u003cextra\\u003e\\u003c\\u002fextra\\u003e\",\"legendgroup\":\"\",\"marker\":{\"color\":\"blueviolet\",\"opacity\":0.8,\"pattern\":{\"shape\":\"\"}},\"name\":\"\",\"offsetgroup\":\"\",\"orientation\":\"v\",\"showlegend\":false,\"x\":[\"Teen\",\"Teen\",\"Teen\",\"Teen\",\"Teen\",\"Teen\",\"Teen\",\"Teen\",\"Teen\",\"Teen\",\"Teen\",\"Teen\"],\"xaxis\":\"x21\",\"yaxis\":\"y21\",\"type\":\"histogram\"},{\"alignmentgroup\":\"True\",\"bingroup\":\"x\",\"hovertemplate\":\"age_cat=%{x}\\u003cbr\\u003etotal_tests=2\\u003cbr\\u003ecount=%{y}\\u003cextra\\u003e\\u003c\\u002fextra\\u003e\",\"legendgroup\":\"\",\"marker\":{\"color\":\"blueviolet\",\"opacity\":0.8,\"pattern\":{\"shape\":\"\"}},\"name\":\"\",\"offsetgroup\":\"\",\"orientation\":\"v\",\"showlegend\":false,\"x\":[\"Teen\",\"Teen\",\"Teen\",\"Teen\"],\"xaxis\":\"x22\",\"yaxis\":\"y22\",\"type\":\"histogram\"},{\"alignmentgroup\":\"True\",\"bingroup\":\"x\",\"hovertemplate\":\"age_cat=%{x}\\u003cbr\\u003etotal_tests=3\\u003cbr\\u003ecount=%{y}\\u003cextra\\u003e\\u003c\\u002fextra\\u003e\",\"legendgroup\":\"\",\"marker\":{\"color\":\"blueviolet\",\"opacity\":0.8,\"pattern\":{\"shape\":\"\"}},\"name\":\"\",\"offsetgroup\":\"\",\"orientation\":\"v\",\"showlegend\":false,\"x\":[\"Teen\",\"Teen\",\"Teen\",\"Teen\"],\"xaxis\":\"x23\",\"yaxis\":\"y23\",\"type\":\"histogram\"},{\"alignmentgroup\":\"True\",\"bingroup\":\"x\",\"hovertemplate\":\"age_cat=%{x}\\u003cbr\\u003etotal_tests=4\\u003cbr\\u003ecount=%{y}\\u003cextra\\u003e\\u003c\\u002fextra\\u003e\",\"legendgroup\":\"\",\"marker\":{\"color\":\"blueviolet\",\"opacity\":0.8,\"pattern\":{\"shape\":\"\"}},\"name\":\"\",\"offsetgroup\":\"\",\"orientation\":\"v\",\"showlegend\":false,\"x\":[\"Teen\"],\"xaxis\":\"x24\",\"yaxis\":\"y24\",\"type\":\"histogram\"},{\"alignmentgroup\":\"True\",\"bingroup\":\"x\",\"hovertemplate\":\"age_cat=%{x}\\u003cbr\\u003etotal_tests=1\\u003cbr\\u003ecount=%{y}\\u003cextra\\u003e\\u003c\\u002fextra\\u003e\",\"legendgroup\":\"\",\"marker\":{\"color\":\"blueviolet\",\"opacity\":0.8,\"pattern\":{\"shape\":\"\"}},\"name\":\"\",\"offsetgroup\":\"\",\"orientation\":\"v\",\"showlegend\":false,\"x\":[\"20's\",\"20's\",\"20's\",\"20's\",\"20's\",\"20's\",\"20's\",\"20's\",\"20's\",\"20's\",\"20's\",\"20's\",\"20's\",\"20's\",\"20's\",\"20's\"],\"xaxis\":\"x17\",\"yaxis\":\"y17\",\"type\":\"histogram\"},{\"alignmentgroup\":\"True\",\"bingroup\":\"x\",\"hovertemplate\":\"age_cat=%{x}\\u003cbr\\u003etotal_tests=2\\u003cbr\\u003ecount=%{y}\\u003cextra\\u003e\\u003c\\u002fextra\\u003e\",\"legendgroup\":\"\",\"marker\":{\"color\":\"blueviolet\",\"opacity\":0.8,\"pattern\":{\"shape\":\"\"}},\"name\":\"\",\"offsetgroup\":\"\",\"orientation\":\"v\",\"showlegend\":false,\"x\":[\"20's\",\"20's\",\"20's\",\"20's\",\"20's\",\"20's\",\"20's\",\"20's\",\"20's\"],\"xaxis\":\"x18\",\"yaxis\":\"y18\",\"type\":\"histogram\"},{\"alignmentgroup\":\"True\",\"bingroup\":\"x\",\"hovertemplate\":\"age_cat=%{x}\\u003cbr\\u003etotal_tests=3\\u003cbr\\u003ecount=%{y}\\u003cextra\\u003e\\u003c\\u002fextra\\u003e\",\"legendgroup\":\"\",\"marker\":{\"color\":\"blueviolet\",\"opacity\":0.8,\"pattern\":{\"shape\":\"\"}},\"name\":\"\",\"offsetgroup\":\"\",\"orientation\":\"v\",\"showlegend\":false,\"x\":[\"20's\",\"20's\",\"20's\",\"20's\",\"20's\",\"20's\",\"20's\",\"20's\",\"20's\",\"20's\",\"20's\",\"20's\",\"20's\",\"20's\",\"20's\",\"20's\",\"20's\"],\"xaxis\":\"x19\",\"yaxis\":\"y19\",\"type\":\"histogram\"},{\"alignmentgroup\":\"True\",\"bingroup\":\"x\",\"hovertemplate\":\"age_cat=%{x}\\u003cbr\\u003etotal_tests=4\\u003cbr\\u003ecount=%{y}\\u003cextra\\u003e\\u003c\\u002fextra\\u003e\",\"legendgroup\":\"\",\"marker\":{\"color\":\"blueviolet\",\"opacity\":0.8,\"pattern\":{\"shape\":\"\"}},\"name\":\"\",\"offsetgroup\":\"\",\"orientation\":\"v\",\"showlegend\":false,\"x\":[\"20's\",\"20's\"],\"xaxis\":\"x20\",\"yaxis\":\"y20\",\"type\":\"histogram\"},{\"alignmentgroup\":\"True\",\"bingroup\":\"x\",\"hovertemplate\":\"age_cat=%{x}\\u003cbr\\u003etotal_tests=1\\u003cbr\\u003ecount=%{y}\\u003cextra\\u003e\\u003c\\u002fextra\\u003e\",\"legendgroup\":\"\",\"marker\":{\"color\":\"blueviolet\",\"opacity\":0.8,\"pattern\":{\"shape\":\"\"}},\"name\":\"\",\"offsetgroup\":\"\",\"orientation\":\"v\",\"showlegend\":false,\"x\":[\"30's\",\"30's\",\"30's\",\"30's\",\"30's\",\"30's\",\"30's\",\"30's\",\"30's\",\"30's\"],\"xaxis\":\"x13\",\"yaxis\":\"y13\",\"type\":\"histogram\"},{\"alignmentgroup\":\"True\",\"bingroup\":\"x\",\"hovertemplate\":\"age_cat=%{x}\\u003cbr\\u003etotal_tests=2\\u003cbr\\u003ecount=%{y}\\u003cextra\\u003e\\u003c\\u002fextra\\u003e\",\"legendgroup\":\"\",\"marker\":{\"color\":\"blueviolet\",\"opacity\":0.8,\"pattern\":{\"shape\":\"\"}},\"name\":\"\",\"offsetgroup\":\"\",\"orientation\":\"v\",\"showlegend\":false,\"x\":[\"30's\",\"30's\",\"30's\",\"30's\",\"30's\",\"30's\"],\"xaxis\":\"x14\",\"yaxis\":\"y14\",\"type\":\"histogram\"},{\"alignmentgroup\":\"True\",\"bingroup\":\"x\",\"hovertemplate\":\"age_cat=%{x}\\u003cbr\\u003etotal_tests=3\\u003cbr\\u003ecount=%{y}\\u003cextra\\u003e\\u003c\\u002fextra\\u003e\",\"legendgroup\":\"\",\"marker\":{\"color\":\"blueviolet\",\"opacity\":0.8,\"pattern\":{\"shape\":\"\"}},\"name\":\"\",\"offsetgroup\":\"\",\"orientation\":\"v\",\"showlegend\":false,\"x\":[\"30's\",\"30's\",\"30's\",\"30's\",\"30's\",\"30's\",\"30's\",\"30's\"],\"xaxis\":\"x15\",\"yaxis\":\"y15\",\"type\":\"histogram\"},{\"alignmentgroup\":\"True\",\"bingroup\":\"x\",\"hovertemplate\":\"age_cat=%{x}\\u003cbr\\u003etotal_tests=4\\u003cbr\\u003ecount=%{y}\\u003cextra\\u003e\\u003c\\u002fextra\\u003e\",\"legendgroup\":\"\",\"marker\":{\"color\":\"blueviolet\",\"opacity\":0.8,\"pattern\":{\"shape\":\"\"}},\"name\":\"\",\"offsetgroup\":\"\",\"orientation\":\"v\",\"showlegend\":false,\"x\":[\"30's\",\"30's\",\"30's\"],\"xaxis\":\"x16\",\"yaxis\":\"y16\",\"type\":\"histogram\"},{\"alignmentgroup\":\"True\",\"bingroup\":\"x\",\"hovertemplate\":\"age_cat=%{x}\\u003cbr\\u003etotal_tests=1\\u003cbr\\u003ecount=%{y}\\u003cextra\\u003e\\u003c\\u002fextra\\u003e\",\"legendgroup\":\"\",\"marker\":{\"color\":\"blueviolet\",\"opacity\":0.8,\"pattern\":{\"shape\":\"\"}},\"name\":\"\",\"offsetgroup\":\"\",\"orientation\":\"v\",\"showlegend\":false,\"x\":[\"70+\"],\"xaxis\":\"x9\",\"yaxis\":\"y9\",\"type\":\"histogram\"},{\"alignmentgroup\":\"True\",\"bingroup\":\"x\",\"hovertemplate\":\"age_cat=%{x}\\u003cbr\\u003etotal_tests=1\\u003cbr\\u003ecount=%{y}\\u003cextra\\u003e\\u003c\\u002fextra\\u003e\",\"legendgroup\":\"\",\"marker\":{\"color\":\"blueviolet\",\"opacity\":0.8,\"pattern\":{\"shape\":\"\"}},\"name\":\"\",\"offsetgroup\":\"\",\"orientation\":\"v\",\"showlegend\":false,\"x\":[\"40's\",\"40's\"],\"xaxis\":\"x5\",\"yaxis\":\"y5\",\"type\":\"histogram\"},{\"alignmentgroup\":\"True\",\"bingroup\":\"x\",\"hovertemplate\":\"age_cat=%{x}\\u003cbr\\u003etotal_tests=2\\u003cbr\\u003ecount=%{y}\\u003cextra\\u003e\\u003c\\u002fextra\\u003e\",\"legendgroup\":\"\",\"marker\":{\"color\":\"blueviolet\",\"opacity\":0.8,\"pattern\":{\"shape\":\"\"}},\"name\":\"\",\"offsetgroup\":\"\",\"orientation\":\"v\",\"showlegend\":false,\"x\":[\"40's\",\"40's\"],\"xaxis\":\"x6\",\"yaxis\":\"y6\",\"type\":\"histogram\"},{\"alignmentgroup\":\"True\",\"bingroup\":\"x\",\"hovertemplate\":\"age_cat=%{x}\\u003cbr\\u003etotal_tests=3\\u003cbr\\u003ecount=%{y}\\u003cextra\\u003e\\u003c\\u002fextra\\u003e\",\"legendgroup\":\"\",\"marker\":{\"color\":\"blueviolet\",\"opacity\":0.8,\"pattern\":{\"shape\":\"\"}},\"name\":\"\",\"offsetgroup\":\"\",\"orientation\":\"v\",\"showlegend\":false,\"x\":[\"40's\",\"40's\",\"40's\"],\"xaxis\":\"x7\",\"yaxis\":\"y7\",\"type\":\"histogram\"},{\"alignmentgroup\":\"True\",\"bingroup\":\"x\",\"hovertemplate\":\"age_cat=%{x}\\u003cbr\\u003etotal_tests=2\\u003cbr\\u003ecount=%{y}\\u003cextra\\u003e\\u003c\\u002fextra\\u003e\",\"legendgroup\":\"\",\"marker\":{\"color\":\"blueviolet\",\"opacity\":0.8,\"pattern\":{\"shape\":\"\"}},\"name\":\"\",\"offsetgroup\":\"\",\"orientation\":\"v\",\"showlegend\":false,\"x\":[\"50's\"],\"xaxis\":\"x2\",\"yaxis\":\"y2\",\"type\":\"histogram\"},{\"alignmentgroup\":\"True\",\"bingroup\":\"x\",\"hovertemplate\":\"age_cat=%{x}\\u003cbr\\u003etotal_tests=3\\u003cbr\\u003ecount=%{y}\\u003cextra\\u003e\\u003c\\u002fextra\\u003e\",\"legendgroup\":\"\",\"marker\":{\"color\":\"blueviolet\",\"opacity\":0.8,\"pattern\":{\"shape\":\"\"}},\"name\":\"\",\"offsetgroup\":\"\",\"orientation\":\"v\",\"showlegend\":false,\"x\":[\"50's\"],\"xaxis\":\"x3\",\"yaxis\":\"y3\",\"type\":\"histogram\"}],                        {\"template\":{\"data\":{\"histogram2dcontour\":[{\"type\":\"histogram2dcontour\",\"colorbar\":{\"outlinewidth\":0,\"ticks\":\"\"},\"colorscale\":[[0.0,\"#0d0887\"],[0.1111111111111111,\"#46039f\"],[0.2222222222222222,\"#7201a8\"],[0.3333333333333333,\"#9c179e\"],[0.4444444444444444,\"#bd3786\"],[0.5555555555555556,\"#d8576b\"],[0.6666666666666666,\"#ed7953\"],[0.7777777777777778,\"#fb9f3a\"],[0.8888888888888888,\"#fdca26\"],[1.0,\"#f0f921\"]]}],\"choropleth\":[{\"type\":\"choropleth\",\"colorbar\":{\"outlinewidth\":0,\"ticks\":\"\"}}],\"histogram2d\":[{\"type\":\"histogram2d\",\"colorbar\":{\"outlinewidth\":0,\"ticks\":\"\"},\"colorscale\":[[0.0,\"#0d0887\"],[0.1111111111111111,\"#46039f\"],[0.2222222222222222,\"#7201a8\"],[0.3333333333333333,\"#9c179e\"],[0.4444444444444444,\"#bd3786\"],[0.5555555555555556,\"#d8576b\"],[0.6666666666666666,\"#ed7953\"],[0.7777777777777778,\"#fb9f3a\"],[0.8888888888888888,\"#fdca26\"],[1.0,\"#f0f921\"]]}],\"heatmap\":[{\"type\":\"heatmap\",\"colorbar\":{\"outlinewidth\":0,\"ticks\":\"\"},\"colorscale\":[[0.0,\"#0d0887\"],[0.1111111111111111,\"#46039f\"],[0.2222222222222222,\"#7201a8\"],[0.3333333333333333,\"#9c179e\"],[0.4444444444444444,\"#bd3786\"],[0.5555555555555556,\"#d8576b\"],[0.6666666666666666,\"#ed7953\"],[0.7777777777777778,\"#fb9f3a\"],[0.8888888888888888,\"#fdca26\"],[1.0,\"#f0f921\"]]}],\"heatmapgl\":[{\"type\":\"heatmapgl\",\"colorbar\":{\"outlinewidth\":0,\"ticks\":\"\"},\"colorscale\":[[0.0,\"#0d0887\"],[0.1111111111111111,\"#46039f\"],[0.2222222222222222,\"#7201a8\"],[0.3333333333333333,\"#9c179e\"],[0.4444444444444444,\"#bd3786\"],[0.5555555555555556,\"#d8576b\"],[0.6666666666666666,\"#ed7953\"],[0.7777777777777778,\"#fb9f3a\"],[0.8888888888888888,\"#fdca26\"],[1.0,\"#f0f921\"]]}],\"contourcarpet\":[{\"type\":\"contourcarpet\",\"colorbar\":{\"outlinewidth\":0,\"ticks\":\"\"}}],\"contour\":[{\"type\":\"contour\",\"colorbar\":{\"outlinewidth\":0,\"ticks\":\"\"},\"colorscale\":[[0.0,\"#0d0887\"],[0.1111111111111111,\"#46039f\"],[0.2222222222222222,\"#7201a8\"],[0.3333333333333333,\"#9c179e\"],[0.4444444444444444,\"#bd3786\"],[0.5555555555555556,\"#d8576b\"],[0.6666666666666666,\"#ed7953\"],[0.7777777777777778,\"#fb9f3a\"],[0.8888888888888888,\"#fdca26\"],[1.0,\"#f0f921\"]]}],\"surface\":[{\"type\":\"surface\",\"colorbar\":{\"outlinewidth\":0,\"ticks\":\"\"},\"colorscale\":[[0.0,\"#0d0887\"],[0.1111111111111111,\"#46039f\"],[0.2222222222222222,\"#7201a8\"],[0.3333333333333333,\"#9c179e\"],[0.4444444444444444,\"#bd3786\"],[0.5555555555555556,\"#d8576b\"],[0.6666666666666666,\"#ed7953\"],[0.7777777777777778,\"#fb9f3a\"],[0.8888888888888888,\"#fdca26\"],[1.0,\"#f0f921\"]]}],\"mesh3d\":[{\"type\":\"mesh3d\",\"colorbar\":{\"outlinewidth\":0,\"ticks\":\"\"}}],\"scatter\":[{\"fillpattern\":{\"fillmode\":\"overlay\",\"size\":10,\"solidity\":0.2},\"type\":\"scatter\"}],\"parcoords\":[{\"type\":\"parcoords\",\"line\":{\"colorbar\":{\"outlinewidth\":0,\"ticks\":\"\"}}}],\"scatterpolargl\":[{\"type\":\"scatterpolargl\",\"marker\":{\"colorbar\":{\"outlinewidth\":0,\"ticks\":\"\"}}}],\"bar\":[{\"error_x\":{\"color\":\"#2a3f5f\"},\"error_y\":{\"color\":\"#2a3f5f\"},\"marker\":{\"line\":{\"color\":\"#E5ECF6\",\"width\":0.5},\"pattern\":{\"fillmode\":\"overlay\",\"size\":10,\"solidity\":0.2}},\"type\":\"bar\"}],\"scattergeo\":[{\"type\":\"scattergeo\",\"marker\":{\"colorbar\":{\"outlinewidth\":0,\"ticks\":\"\"}}}],\"scatterpolar\":[{\"type\":\"scatterpolar\",\"marker\":{\"colorbar\":{\"outlinewidth\":0,\"ticks\":\"\"}}}],\"histogram\":[{\"marker\":{\"pattern\":{\"fillmode\":\"overlay\",\"size\":10,\"solidity\":0.2}},\"type\":\"histogram\"}],\"scattergl\":[{\"type\":\"scattergl\",\"marker\":{\"colorbar\":{\"outlinewidth\":0,\"ticks\":\"\"}}}],\"scatter3d\":[{\"type\":\"scatter3d\",\"line\":{\"colorbar\":{\"outlinewidth\":0,\"ticks\":\"\"}},\"marker\":{\"colorbar\":{\"outlinewidth\":0,\"ticks\":\"\"}}}],\"scattermapbox\":[{\"type\":\"scattermapbox\",\"marker\":{\"colorbar\":{\"outlinewidth\":0,\"ticks\":\"\"}}}],\"scatterternary\":[{\"type\":\"scatterternary\",\"marker\":{\"colorbar\":{\"outlinewidth\":0,\"ticks\":\"\"}}}],\"scattercarpet\":[{\"type\":\"scattercarpet\",\"marker\":{\"colorbar\":{\"outlinewidth\":0,\"ticks\":\"\"}}}],\"carpet\":[{\"aaxis\":{\"endlinecolor\":\"#2a3f5f\",\"gridcolor\":\"white\",\"linecolor\":\"white\",\"minorgridcolor\":\"white\",\"startlinecolor\":\"#2a3f5f\"},\"baxis\":{\"endlinecolor\":\"#2a3f5f\",\"gridcolor\":\"white\",\"linecolor\":\"white\",\"minorgridcolor\":\"white\",\"startlinecolor\":\"#2a3f5f\"},\"type\":\"carpet\"}],\"table\":[{\"cells\":{\"fill\":{\"color\":\"#EBF0F8\"},\"line\":{\"color\":\"white\"}},\"header\":{\"fill\":{\"color\":\"#C8D4E3\"},\"line\":{\"color\":\"white\"}},\"type\":\"table\"}],\"barpolar\":[{\"marker\":{\"line\":{\"color\":\"#E5ECF6\",\"width\":0.5},\"pattern\":{\"fillmode\":\"overlay\",\"size\":10,\"solidity\":0.2}},\"type\":\"barpolar\"}],\"pie\":[{\"automargin\":true,\"type\":\"pie\"}]},\"layout\":{\"autotypenumbers\":\"strict\",\"colorway\":[\"#636efa\",\"#EF553B\",\"#00cc96\",\"#ab63fa\",\"#FFA15A\",\"#19d3f3\",\"#FF6692\",\"#B6E880\",\"#FF97FF\",\"#FECB52\"],\"font\":{\"color\":\"#2a3f5f\"},\"hovermode\":\"closest\",\"hoverlabel\":{\"align\":\"left\"},\"paper_bgcolor\":\"white\",\"plot_bgcolor\":\"#E5ECF6\",\"polar\":{\"bgcolor\":\"#E5ECF6\",\"angularaxis\":{\"gridcolor\":\"white\",\"linecolor\":\"white\",\"ticks\":\"\"},\"radialaxis\":{\"gridcolor\":\"white\",\"linecolor\":\"white\",\"ticks\":\"\"}},\"ternary\":{\"bgcolor\":\"#E5ECF6\",\"aaxis\":{\"gridcolor\":\"white\",\"linecolor\":\"white\",\"ticks\":\"\"},\"baxis\":{\"gridcolor\":\"white\",\"linecolor\":\"white\",\"ticks\":\"\"},\"caxis\":{\"gridcolor\":\"white\",\"linecolor\":\"white\",\"ticks\":\"\"}},\"coloraxis\":{\"colorbar\":{\"outlinewidth\":0,\"ticks\":\"\"}},\"colorscale\":{\"sequential\":[[0.0,\"#0d0887\"],[0.1111111111111111,\"#46039f\"],[0.2222222222222222,\"#7201a8\"],[0.3333333333333333,\"#9c179e\"],[0.4444444444444444,\"#bd3786\"],[0.5555555555555556,\"#d8576b\"],[0.6666666666666666,\"#ed7953\"],[0.7777777777777778,\"#fb9f3a\"],[0.8888888888888888,\"#fdca26\"],[1.0,\"#f0f921\"]],\"sequentialminus\":[[0.0,\"#0d0887\"],[0.1111111111111111,\"#46039f\"],[0.2222222222222222,\"#7201a8\"],[0.3333333333333333,\"#9c179e\"],[0.4444444444444444,\"#bd3786\"],[0.5555555555555556,\"#d8576b\"],[0.6666666666666666,\"#ed7953\"],[0.7777777777777778,\"#fb9f3a\"],[0.8888888888888888,\"#fdca26\"],[1.0,\"#f0f921\"]],\"diverging\":[[0,\"#8e0152\"],[0.1,\"#c51b7d\"],[0.2,\"#de77ae\"],[0.3,\"#f1b6da\"],[0.4,\"#fde0ef\"],[0.5,\"#f7f7f7\"],[0.6,\"#e6f5d0\"],[0.7,\"#b8e186\"],[0.8,\"#7fbc41\"],[0.9,\"#4d9221\"],[1,\"#276419\"]]},\"xaxis\":{\"gridcolor\":\"white\",\"linecolor\":\"white\",\"ticks\":\"\",\"title\":{\"standoff\":15},\"zerolinecolor\":\"white\",\"automargin\":true,\"zerolinewidth\":2},\"yaxis\":{\"gridcolor\":\"white\",\"linecolor\":\"white\",\"ticks\":\"\",\"title\":{\"standoff\":15},\"zerolinecolor\":\"white\",\"automargin\":true,\"zerolinewidth\":2},\"scene\":{\"xaxis\":{\"backgroundcolor\":\"#E5ECF6\",\"gridcolor\":\"white\",\"linecolor\":\"white\",\"showbackground\":true,\"ticks\":\"\",\"zerolinecolor\":\"white\",\"gridwidth\":2},\"yaxis\":{\"backgroundcolor\":\"#E5ECF6\",\"gridcolor\":\"white\",\"linecolor\":\"white\",\"showbackground\":true,\"ticks\":\"\",\"zerolinecolor\":\"white\",\"gridwidth\":2},\"zaxis\":{\"backgroundcolor\":\"#E5ECF6\",\"gridcolor\":\"white\",\"linecolor\":\"white\",\"showbackground\":true,\"ticks\":\"\",\"zerolinecolor\":\"white\",\"gridwidth\":2}},\"shapedefaults\":{\"line\":{\"color\":\"#2a3f5f\"}},\"annotationdefaults\":{\"arrowcolor\":\"#2a3f5f\",\"arrowhead\":0,\"arrowwidth\":1},\"geo\":{\"bgcolor\":\"white\",\"landcolor\":\"#E5ECF6\",\"subunitcolor\":\"white\",\"showland\":true,\"showlakes\":true,\"lakecolor\":\"white\"},\"title\":{\"x\":0.05},\"mapbox\":{\"style\":\"light\"}}},\"xaxis\":{\"anchor\":\"y\",\"domain\":[0.0,0.22999999999999998],\"title\":{\"text\":\"age_cat\"},\"categoryorder\":\"array\",\"categoryarray\":[\"Teen\",\"20's\",\"30's\",\"70+\",\"40's\",\"50's\"]},\"yaxis\":{\"anchor\":\"x\",\"domain\":[0.0,0.14166666666666666],\"title\":{\"text\":\"count\"}},\"xaxis2\":{\"anchor\":\"y2\",\"domain\":[0.24999999999999997,0.48],\"matches\":\"x\",\"title\":{\"text\":\"age_cat\"},\"categoryorder\":\"array\",\"categoryarray\":[\"Teen\",\"20's\",\"30's\",\"70+\",\"40's\",\"50's\"]},\"yaxis2\":{\"anchor\":\"x2\",\"domain\":[0.0,0.14166666666666666],\"matches\":\"y\",\"showticklabels\":false},\"xaxis3\":{\"anchor\":\"y3\",\"domain\":[0.49999999999999994,0.73],\"matches\":\"x\",\"title\":{\"text\":\"age_cat\"},\"categoryorder\":\"array\",\"categoryarray\":[\"Teen\",\"20's\",\"30's\",\"70+\",\"40's\",\"50's\"]},\"yaxis3\":{\"anchor\":\"x3\",\"domain\":[0.0,0.14166666666666666],\"matches\":\"y\",\"showticklabels\":false},\"xaxis4\":{\"anchor\":\"y4\",\"domain\":[0.75,0.98],\"matches\":\"x\",\"title\":{\"text\":\"age_cat\"},\"categoryorder\":\"array\",\"categoryarray\":[\"Teen\",\"20's\",\"30's\",\"70+\",\"40's\",\"50's\"]},\"yaxis4\":{\"anchor\":\"x4\",\"domain\":[0.0,0.14166666666666666],\"matches\":\"y\",\"showticklabels\":false},\"xaxis5\":{\"anchor\":\"y5\",\"domain\":[0.0,0.22999999999999998],\"matches\":\"x\",\"showticklabels\":false},\"yaxis5\":{\"anchor\":\"x5\",\"domain\":[0.17166666666666666,0.31333333333333335],\"matches\":\"y\",\"title\":{\"text\":\"count\"}},\"xaxis6\":{\"anchor\":\"y6\",\"domain\":[0.24999999999999997,0.48],\"matches\":\"x\",\"showticklabels\":false},\"yaxis6\":{\"anchor\":\"x6\",\"domain\":[0.17166666666666666,0.31333333333333335],\"matches\":\"y\",\"showticklabels\":false},\"xaxis7\":{\"anchor\":\"y7\",\"domain\":[0.49999999999999994,0.73],\"matches\":\"x\",\"showticklabels\":false},\"yaxis7\":{\"anchor\":\"x7\",\"domain\":[0.17166666666666666,0.31333333333333335],\"matches\":\"y\",\"showticklabels\":false},\"xaxis8\":{\"anchor\":\"y8\",\"domain\":[0.75,0.98],\"matches\":\"x\",\"showticklabels\":false},\"yaxis8\":{\"anchor\":\"x8\",\"domain\":[0.17166666666666666,0.31333333333333335],\"matches\":\"y\",\"showticklabels\":false},\"xaxis9\":{\"anchor\":\"y9\",\"domain\":[0.0,0.22999999999999998],\"matches\":\"x\",\"showticklabels\":false},\"yaxis9\":{\"anchor\":\"x9\",\"domain\":[0.3433333333333333,0.485],\"matches\":\"y\",\"title\":{\"text\":\"count\"}},\"xaxis10\":{\"anchor\":\"y10\",\"domain\":[0.24999999999999997,0.48],\"matches\":\"x\",\"showticklabels\":false},\"yaxis10\":{\"anchor\":\"x10\",\"domain\":[0.3433333333333333,0.485],\"matches\":\"y\",\"showticklabels\":false},\"xaxis11\":{\"anchor\":\"y11\",\"domain\":[0.49999999999999994,0.73],\"matches\":\"x\",\"showticklabels\":false},\"yaxis11\":{\"anchor\":\"x11\",\"domain\":[0.3433333333333333,0.485],\"matches\":\"y\",\"showticklabels\":false},\"xaxis12\":{\"anchor\":\"y12\",\"domain\":[0.75,0.98],\"matches\":\"x\",\"showticklabels\":false},\"yaxis12\":{\"anchor\":\"x12\",\"domain\":[0.3433333333333333,0.485],\"matches\":\"y\",\"showticklabels\":false},\"xaxis13\":{\"anchor\":\"y13\",\"domain\":[0.0,0.22999999999999998],\"matches\":\"x\",\"showticklabels\":false},\"yaxis13\":{\"anchor\":\"x13\",\"domain\":[0.515,0.6566666666666667],\"matches\":\"y\",\"title\":{\"text\":\"count\"}},\"xaxis14\":{\"anchor\":\"y14\",\"domain\":[0.24999999999999997,0.48],\"matches\":\"x\",\"showticklabels\":false},\"yaxis14\":{\"anchor\":\"x14\",\"domain\":[0.515,0.6566666666666667],\"matches\":\"y\",\"showticklabels\":false},\"xaxis15\":{\"anchor\":\"y15\",\"domain\":[0.49999999999999994,0.73],\"matches\":\"x\",\"showticklabels\":false},\"yaxis15\":{\"anchor\":\"x15\",\"domain\":[0.515,0.6566666666666667],\"matches\":\"y\",\"showticklabels\":false},\"xaxis16\":{\"anchor\":\"y16\",\"domain\":[0.75,0.98],\"matches\":\"x\",\"showticklabels\":false},\"yaxis16\":{\"anchor\":\"x16\",\"domain\":[0.515,0.6566666666666667],\"matches\":\"y\",\"showticklabels\":false},\"xaxis17\":{\"anchor\":\"y17\",\"domain\":[0.0,0.22999999999999998],\"matches\":\"x\",\"showticklabels\":false},\"yaxis17\":{\"anchor\":\"x17\",\"domain\":[0.6866666666666666,0.8283333333333334],\"matches\":\"y\",\"title\":{\"text\":\"count\"}},\"xaxis18\":{\"anchor\":\"y18\",\"domain\":[0.24999999999999997,0.48],\"matches\":\"x\",\"showticklabels\":false},\"yaxis18\":{\"anchor\":\"x18\",\"domain\":[0.6866666666666666,0.8283333333333334],\"matches\":\"y\",\"showticklabels\":false},\"xaxis19\":{\"anchor\":\"y19\",\"domain\":[0.49999999999999994,0.73],\"matches\":\"x\",\"showticklabels\":false},\"yaxis19\":{\"anchor\":\"x19\",\"domain\":[0.6866666666666666,0.8283333333333334],\"matches\":\"y\",\"showticklabels\":false},\"xaxis20\":{\"anchor\":\"y20\",\"domain\":[0.75,0.98],\"matches\":\"x\",\"showticklabels\":false},\"yaxis20\":{\"anchor\":\"x20\",\"domain\":[0.6866666666666666,0.8283333333333334],\"matches\":\"y\",\"showticklabels\":false},\"xaxis21\":{\"anchor\":\"y21\",\"domain\":[0.0,0.22999999999999998],\"matches\":\"x\",\"showticklabels\":false},\"yaxis21\":{\"anchor\":\"x21\",\"domain\":[0.8583333333333333,1.0],\"matches\":\"y\",\"title\":{\"text\":\"count\"}},\"xaxis22\":{\"anchor\":\"y22\",\"domain\":[0.24999999999999997,0.48],\"matches\":\"x\",\"showticklabels\":false},\"yaxis22\":{\"anchor\":\"x22\",\"domain\":[0.8583333333333333,1.0],\"matches\":\"y\",\"showticklabels\":false},\"xaxis23\":{\"anchor\":\"y23\",\"domain\":[0.49999999999999994,0.73],\"matches\":\"x\",\"showticklabels\":false},\"yaxis23\":{\"anchor\":\"x23\",\"domain\":[0.8583333333333333,1.0],\"matches\":\"y\",\"showticklabels\":false},\"xaxis24\":{\"anchor\":\"y24\",\"domain\":[0.75,0.98],\"matches\":\"x\",\"showticklabels\":false},\"yaxis24\":{\"anchor\":\"x24\",\"domain\":[0.8583333333333333,1.0],\"matches\":\"y\",\"showticklabels\":false},\"annotations\":[{\"font\":{},\"showarrow\":false,\"text\":\"total_tests=1\",\"x\":0.11499999999999999,\"xanchor\":\"center\",\"xref\":\"paper\",\"y\":1.0,\"yanchor\":\"bottom\",\"yref\":\"paper\"},{\"font\":{},\"showarrow\":false,\"text\":\"total_tests=2\",\"x\":0.365,\"xanchor\":\"center\",\"xref\":\"paper\",\"y\":1.0,\"yanchor\":\"bottom\",\"yref\":\"paper\"},{\"font\":{},\"showarrow\":false,\"text\":\"total_tests=3\",\"x\":0.615,\"xanchor\":\"center\",\"xref\":\"paper\",\"y\":1.0,\"yanchor\":\"bottom\",\"yref\":\"paper\"},{\"font\":{},\"showarrow\":false,\"text\":\"total_tests=4\",\"x\":0.865,\"xanchor\":\"center\",\"xref\":\"paper\",\"y\":1.0,\"yanchor\":\"bottom\",\"yref\":\"paper\"},{\"font\":{},\"showarrow\":false,\"text\":\"age_cat=50's\",\"textangle\":90,\"x\":0.98,\"xanchor\":\"left\",\"xref\":\"paper\",\"y\":0.07083333333333333,\"yanchor\":\"middle\",\"yref\":\"paper\"},{\"font\":{},\"showarrow\":false,\"text\":\"age_cat=40's\",\"textangle\":90,\"x\":0.98,\"xanchor\":\"left\",\"xref\":\"paper\",\"y\":0.2425,\"yanchor\":\"middle\",\"yref\":\"paper\"},{\"font\":{},\"showarrow\":false,\"text\":\"age_cat=70+\",\"textangle\":90,\"x\":0.98,\"xanchor\":\"left\",\"xref\":\"paper\",\"y\":0.4141666666666667,\"yanchor\":\"middle\",\"yref\":\"paper\"},{\"font\":{},\"showarrow\":false,\"text\":\"age_cat=30's\",\"textangle\":90,\"x\":0.98,\"xanchor\":\"left\",\"xref\":\"paper\",\"y\":0.5858333333333334,\"yanchor\":\"middle\",\"yref\":\"paper\"},{\"font\":{},\"showarrow\":false,\"text\":\"age_cat=20's\",\"textangle\":90,\"x\":0.98,\"xanchor\":\"left\",\"xref\":\"paper\",\"y\":0.7575000000000001,\"yanchor\":\"middle\",\"yref\":\"paper\"},{\"font\":{},\"showarrow\":false,\"text\":\"age_cat=Teen\",\"textangle\":90,\"x\":0.98,\"xanchor\":\"left\",\"xref\":\"paper\",\"y\":0.9291666666666667,\"yanchor\":\"middle\",\"yref\":\"paper\"}],\"legend\":{\"tracegroupgap\":0},\"margin\":{\"t\":60},\"barmode\":\"relative\",\"title\":{\"text\":\"Count of women across age groups who have had one or more test by Age Category\"},\"height\":1200},                        {\"responsive\": true}                    ).then(function(){\n",
              "                            \n",
              "var gd = document.getElementById('f49ae319-ff98-4150-9b2c-148f7a26e092');\n",
              "var x = new MutationObserver(function (mutations, observer) {{\n",
              "        var display = window.getComputedStyle(gd).display;\n",
              "        if (!display || display === 'none') {{\n",
              "            console.log([gd, 'removed!']);\n",
              "            Plotly.purge(gd);\n",
              "            observer.disconnect();\n",
              "        }}\n",
              "}});\n",
              "\n",
              "// Listen for the removal of the full notebook cells\n",
              "var notebookContainer = gd.closest('#notebook-container');\n",
              "if (notebookContainer) {{\n",
              "    x.observe(notebookContainer, {childList: true});\n",
              "}}\n",
              "\n",
              "// Listen for the clearing of the current output cell\n",
              "var outputEl = gd.closest('.output');\n",
              "if (outputEl) {{\n",
              "    x.observe(outputEl, {childList: true});\n",
              "}}\n",
              "\n",
              "                        })                };                            </script>        </div>\n",
              "</body>\n",
              "</html>"
            ]
          },
          "metadata": {},
          "output_type": "display_data"
        }
      ],
      "source": [
        "fig = px.histogram(risk_factor_df.query(\"total_tests>0\").sort_values(by=\"total_tests\", ascending=True),\n",
        "                   x=\"age_cat\",\n",
        "                   facet_col=\"total_tests\",\n",
        "                   facet_row=label,\n",
        "                   color_discrete_sequence=[\"blueviolet\"],\n",
        "                   opacity=0.8)\n",
        "fig.update_layout(title=\"Count of women across age groups who have had one or more test by Age Category\")\n",
        "fig.update_layout(height=1200)\n",
        "fig.show()"
      ]
    },
    {
      "cell_type": "code",
      "execution_count": null,
      "metadata": {
        "colab": {
          "base_uri": "https://localhost:8080/",
          "height": 542
        },
        "id": "rM8yycrvDvII",
        "outputId": "ec21a90c-4ed2-41ed-8dd2-b10f3ba91709"
      },
      "outputs": [
        {
          "data": {
            "text/html": [
              "<html>\n",
              "<head><meta charset=\"utf-8\" /></head>\n",
              "<body>\n",
              "    <div>            <script src=\"https://cdnjs.cloudflare.com/ajax/libs/mathjax/2.7.5/MathJax.js?config=TeX-AMS-MML_SVG\"></script><script type=\"text/javascript\">if (window.MathJax && window.MathJax.Hub && window.MathJax.Hub.Config) {window.MathJax.Hub.Config({SVG: {font: \"STIX-Web\"}});}</script>                <script type=\"text/javascript\">window.PlotlyConfig = {MathJaxConfig: 'local'};</script>\n",
              "        <script charset=\"utf-8\" src=\"https://cdn.plot.ly/plotly-2.24.1.min.js\"></script>                <div id=\"15683dba-b7a7-4e2f-b34a-5bcbfaa7fd61\" class=\"plotly-graph-div\" style=\"height:525px; width:100%;\"></div>            <script type=\"text/javascript\">                                    window.PLOTLYENV=window.PLOTLYENV || {};                                    if (document.getElementById(\"15683dba-b7a7-4e2f-b34a-5bcbfaa7fd61\")) {                    Plotly.newPlot(                        \"15683dba-b7a7-4e2f-b34a-5bcbfaa7fd61\",                        [{\"alignmentgroup\":\"True\",\"bingroup\":\"x\",\"hovertemplate\":\"Dx:HPV=0\\u003cbr\\u003etotal_tests=1\\u003cbr\\u003eage_cat=%{x}\\u003cbr\\u003ecount=%{y}\\u003cextra\\u003e\\u003c\\u002fextra\\u003e\",\"legendgroup\":\"\",\"marker\":{\"color\":\"coral\",\"opacity\":0.8,\"pattern\":{\"shape\":\"\"}},\"name\":\"\",\"offsetgroup\":\"\",\"orientation\":\"v\",\"showlegend\":false,\"x\":[\"30's\",\"30's\",\"30's\",\"30's\",\"30's\",\"20's\",\"20's\",\"20's\",\"20's\",\"20's\",\"Teen\",\"Teen\",\"20's\",\"Teen\",\"Teen\",\"Teen\",\"Teen\",\"Teen\",\"Teen\",\"30's\",\"Teen\",\"20's\",\"20's\",\"20's\",\"Teen\",\"30's\",\"20's\",\"20's\",\"20's\",\"70+\",\"20's\",\"40's\",\"40's\",\"20's\",\"Teen\",\"30's\",\"Teen\",\"20's\"],\"xaxis\":\"x5\",\"yaxis\":\"y5\",\"type\":\"histogram\"},{\"alignmentgroup\":\"True\",\"bingroup\":\"x\",\"hovertemplate\":\"Dx:HPV=0\\u003cbr\\u003etotal_tests=2\\u003cbr\\u003eage_cat=%{x}\\u003cbr\\u003ecount=%{y}\\u003cextra\\u003e\\u003c\\u002fextra\\u003e\",\"legendgroup\":\"\",\"marker\":{\"color\":\"coral\",\"opacity\":0.8,\"pattern\":{\"shape\":\"\"}},\"name\":\"\",\"offsetgroup\":\"\",\"orientation\":\"v\",\"showlegend\":false,\"x\":[\"30's\",\"30's\",\"30's\",\"20's\",\"20's\",\"20's\",\"20's\",\"40's\",\"20's\",\"Teen\",\"20's\",\"30's\",\"20's\",\"Teen\",\"50's\",\"40's\",\"30's\",\"Teen\",\"20's\",\"Teen\",\"20's\"],\"xaxis\":\"x6\",\"yaxis\":\"y6\",\"type\":\"histogram\"},{\"alignmentgroup\":\"True\",\"bingroup\":\"x\",\"hovertemplate\":\"Dx:HPV=0\\u003cbr\\u003etotal_tests=3\\u003cbr\\u003eage_cat=%{x}\\u003cbr\\u003ecount=%{y}\\u003cextra\\u003e\\u003c\\u002fextra\\u003e\",\"legendgroup\":\"\",\"marker\":{\"color\":\"coral\",\"opacity\":0.8,\"pattern\":{\"shape\":\"\"}},\"name\":\"\",\"offsetgroup\":\"\",\"orientation\":\"v\",\"showlegend\":false,\"x\":[\"50's\",\"40's\",\"30's\",\"30's\",\"30's\",\"30's\",\"20's\",\"20's\",\"20's\",\"30's\",\"20's\",\"20's\",\"20's\",\"20's\",\"20's\",\"Teen\",\"Teen\",\"20's\",\"30's\",\"20's\",\"20's\",\"Teen\",\"Teen\",\"20's\",\"40's\",\"30's\",\"20's\",\"20's\",\"20's\"],\"xaxis\":\"x7\",\"yaxis\":\"y7\",\"type\":\"histogram\"},{\"alignmentgroup\":\"True\",\"bingroup\":\"x\",\"hovertemplate\":\"Dx:HPV=0\\u003cbr\\u003etotal_tests=4\\u003cbr\\u003eage_cat=%{x}\\u003cbr\\u003ecount=%{y}\\u003cextra\\u003e\\u003c\\u002fextra\\u003e\",\"legendgroup\":\"\",\"marker\":{\"color\":\"coral\",\"opacity\":0.8,\"pattern\":{\"shape\":\"\"}},\"name\":\"\",\"offsetgroup\":\"\",\"orientation\":\"v\",\"showlegend\":false,\"x\":[\"30's\",\"20's\",\"20's\",\"30's\",\"30's\"],\"xaxis\":\"x8\",\"yaxis\":\"y8\",\"type\":\"histogram\"},{\"alignmentgroup\":\"True\",\"bingroup\":\"x\",\"hovertemplate\":\"Dx:HPV=1\\u003cbr\\u003etotal_tests=1\\u003cbr\\u003eage_cat=%{x}\\u003cbr\\u003ecount=%{y}\\u003cextra\\u003e\\u003c\\u002fextra\\u003e\",\"legendgroup\":\"\",\"marker\":{\"color\":\"coral\",\"opacity\":0.8,\"pattern\":{\"shape\":\"\"}},\"name\":\"\",\"offsetgroup\":\"\",\"orientation\":\"v\",\"showlegend\":false,\"x\":[\"20's\",\"30's\",\"30's\"],\"xaxis\":\"x\",\"yaxis\":\"y\",\"type\":\"histogram\"},{\"alignmentgroup\":\"True\",\"bingroup\":\"x\",\"hovertemplate\":\"Dx:HPV=1\\u003cbr\\u003etotal_tests=2\\u003cbr\\u003eage_cat=%{x}\\u003cbr\\u003ecount=%{y}\\u003cextra\\u003e\\u003c\\u002fextra\\u003e\",\"legendgroup\":\"\",\"marker\":{\"color\":\"coral\",\"opacity\":0.8,\"pattern\":{\"shape\":\"\"}},\"name\":\"\",\"offsetgroup\":\"\",\"orientation\":\"v\",\"showlegend\":false,\"x\":[\"30's\"],\"xaxis\":\"x2\",\"yaxis\":\"y2\",\"type\":\"histogram\"},{\"alignmentgroup\":\"True\",\"bingroup\":\"x\",\"hovertemplate\":\"Dx:HPV=1\\u003cbr\\u003etotal_tests=3\\u003cbr\\u003eage_cat=%{x}\\u003cbr\\u003ecount=%{y}\\u003cextra\\u003e\\u003c\\u002fextra\\u003e\",\"legendgroup\":\"\",\"marker\":{\"color\":\"coral\",\"opacity\":0.8,\"pattern\":{\"shape\":\"\"}},\"name\":\"\",\"offsetgroup\":\"\",\"orientation\":\"v\",\"showlegend\":false,\"x\":[\"40's\",\"20's\",\"20's\",\"30's\"],\"xaxis\":\"x3\",\"yaxis\":\"y3\",\"type\":\"histogram\"},{\"alignmentgroup\":\"True\",\"bingroup\":\"x\",\"hovertemplate\":\"Dx:HPV=1\\u003cbr\\u003etotal_tests=4\\u003cbr\\u003eage_cat=%{x}\\u003cbr\\u003ecount=%{y}\\u003cextra\\u003e\\u003c\\u002fextra\\u003e\",\"legendgroup\":\"\",\"marker\":{\"color\":\"coral\",\"opacity\":0.8,\"pattern\":{\"shape\":\"\"}},\"name\":\"\",\"offsetgroup\":\"\",\"orientation\":\"v\",\"showlegend\":false,\"x\":[\"Teen\"],\"xaxis\":\"x4\",\"yaxis\":\"y4\",\"type\":\"histogram\"}],                        {\"template\":{\"data\":{\"histogram2dcontour\":[{\"type\":\"histogram2dcontour\",\"colorbar\":{\"outlinewidth\":0,\"ticks\":\"\"},\"colorscale\":[[0.0,\"#0d0887\"],[0.1111111111111111,\"#46039f\"],[0.2222222222222222,\"#7201a8\"],[0.3333333333333333,\"#9c179e\"],[0.4444444444444444,\"#bd3786\"],[0.5555555555555556,\"#d8576b\"],[0.6666666666666666,\"#ed7953\"],[0.7777777777777778,\"#fb9f3a\"],[0.8888888888888888,\"#fdca26\"],[1.0,\"#f0f921\"]]}],\"choropleth\":[{\"type\":\"choropleth\",\"colorbar\":{\"outlinewidth\":0,\"ticks\":\"\"}}],\"histogram2d\":[{\"type\":\"histogram2d\",\"colorbar\":{\"outlinewidth\":0,\"ticks\":\"\"},\"colorscale\":[[0.0,\"#0d0887\"],[0.1111111111111111,\"#46039f\"],[0.2222222222222222,\"#7201a8\"],[0.3333333333333333,\"#9c179e\"],[0.4444444444444444,\"#bd3786\"],[0.5555555555555556,\"#d8576b\"],[0.6666666666666666,\"#ed7953\"],[0.7777777777777778,\"#fb9f3a\"],[0.8888888888888888,\"#fdca26\"],[1.0,\"#f0f921\"]]}],\"heatmap\":[{\"type\":\"heatmap\",\"colorbar\":{\"outlinewidth\":0,\"ticks\":\"\"},\"colorscale\":[[0.0,\"#0d0887\"],[0.1111111111111111,\"#46039f\"],[0.2222222222222222,\"#7201a8\"],[0.3333333333333333,\"#9c179e\"],[0.4444444444444444,\"#bd3786\"],[0.5555555555555556,\"#d8576b\"],[0.6666666666666666,\"#ed7953\"],[0.7777777777777778,\"#fb9f3a\"],[0.8888888888888888,\"#fdca26\"],[1.0,\"#f0f921\"]]}],\"heatmapgl\":[{\"type\":\"heatmapgl\",\"colorbar\":{\"outlinewidth\":0,\"ticks\":\"\"},\"colorscale\":[[0.0,\"#0d0887\"],[0.1111111111111111,\"#46039f\"],[0.2222222222222222,\"#7201a8\"],[0.3333333333333333,\"#9c179e\"],[0.4444444444444444,\"#bd3786\"],[0.5555555555555556,\"#d8576b\"],[0.6666666666666666,\"#ed7953\"],[0.7777777777777778,\"#fb9f3a\"],[0.8888888888888888,\"#fdca26\"],[1.0,\"#f0f921\"]]}],\"contourcarpet\":[{\"type\":\"contourcarpet\",\"colorbar\":{\"outlinewidth\":0,\"ticks\":\"\"}}],\"contour\":[{\"type\":\"contour\",\"colorbar\":{\"outlinewidth\":0,\"ticks\":\"\"},\"colorscale\":[[0.0,\"#0d0887\"],[0.1111111111111111,\"#46039f\"],[0.2222222222222222,\"#7201a8\"],[0.3333333333333333,\"#9c179e\"],[0.4444444444444444,\"#bd3786\"],[0.5555555555555556,\"#d8576b\"],[0.6666666666666666,\"#ed7953\"],[0.7777777777777778,\"#fb9f3a\"],[0.8888888888888888,\"#fdca26\"],[1.0,\"#f0f921\"]]}],\"surface\":[{\"type\":\"surface\",\"colorbar\":{\"outlinewidth\":0,\"ticks\":\"\"},\"colorscale\":[[0.0,\"#0d0887\"],[0.1111111111111111,\"#46039f\"],[0.2222222222222222,\"#7201a8\"],[0.3333333333333333,\"#9c179e\"],[0.4444444444444444,\"#bd3786\"],[0.5555555555555556,\"#d8576b\"],[0.6666666666666666,\"#ed7953\"],[0.7777777777777778,\"#fb9f3a\"],[0.8888888888888888,\"#fdca26\"],[1.0,\"#f0f921\"]]}],\"mesh3d\":[{\"type\":\"mesh3d\",\"colorbar\":{\"outlinewidth\":0,\"ticks\":\"\"}}],\"scatter\":[{\"fillpattern\":{\"fillmode\":\"overlay\",\"size\":10,\"solidity\":0.2},\"type\":\"scatter\"}],\"parcoords\":[{\"type\":\"parcoords\",\"line\":{\"colorbar\":{\"outlinewidth\":0,\"ticks\":\"\"}}}],\"scatterpolargl\":[{\"type\":\"scatterpolargl\",\"marker\":{\"colorbar\":{\"outlinewidth\":0,\"ticks\":\"\"}}}],\"bar\":[{\"error_x\":{\"color\":\"#2a3f5f\"},\"error_y\":{\"color\":\"#2a3f5f\"},\"marker\":{\"line\":{\"color\":\"#E5ECF6\",\"width\":0.5},\"pattern\":{\"fillmode\":\"overlay\",\"size\":10,\"solidity\":0.2}},\"type\":\"bar\"}],\"scattergeo\":[{\"type\":\"scattergeo\",\"marker\":{\"colorbar\":{\"outlinewidth\":0,\"ticks\":\"\"}}}],\"scatterpolar\":[{\"type\":\"scatterpolar\",\"marker\":{\"colorbar\":{\"outlinewidth\":0,\"ticks\":\"\"}}}],\"histogram\":[{\"marker\":{\"pattern\":{\"fillmode\":\"overlay\",\"size\":10,\"solidity\":0.2}},\"type\":\"histogram\"}],\"scattergl\":[{\"type\":\"scattergl\",\"marker\":{\"colorbar\":{\"outlinewidth\":0,\"ticks\":\"\"}}}],\"scatter3d\":[{\"type\":\"scatter3d\",\"line\":{\"colorbar\":{\"outlinewidth\":0,\"ticks\":\"\"}},\"marker\":{\"colorbar\":{\"outlinewidth\":0,\"ticks\":\"\"}}}],\"scattermapbox\":[{\"type\":\"scattermapbox\",\"marker\":{\"colorbar\":{\"outlinewidth\":0,\"ticks\":\"\"}}}],\"scatterternary\":[{\"type\":\"scatterternary\",\"marker\":{\"colorbar\":{\"outlinewidth\":0,\"ticks\":\"\"}}}],\"scattercarpet\":[{\"type\":\"scattercarpet\",\"marker\":{\"colorbar\":{\"outlinewidth\":0,\"ticks\":\"\"}}}],\"carpet\":[{\"aaxis\":{\"endlinecolor\":\"#2a3f5f\",\"gridcolor\":\"white\",\"linecolor\":\"white\",\"minorgridcolor\":\"white\",\"startlinecolor\":\"#2a3f5f\"},\"baxis\":{\"endlinecolor\":\"#2a3f5f\",\"gridcolor\":\"white\",\"linecolor\":\"white\",\"minorgridcolor\":\"white\",\"startlinecolor\":\"#2a3f5f\"},\"type\":\"carpet\"}],\"table\":[{\"cells\":{\"fill\":{\"color\":\"#EBF0F8\"},\"line\":{\"color\":\"white\"}},\"header\":{\"fill\":{\"color\":\"#C8D4E3\"},\"line\":{\"color\":\"white\"}},\"type\":\"table\"}],\"barpolar\":[{\"marker\":{\"line\":{\"color\":\"#E5ECF6\",\"width\":0.5},\"pattern\":{\"fillmode\":\"overlay\",\"size\":10,\"solidity\":0.2}},\"type\":\"barpolar\"}],\"pie\":[{\"automargin\":true,\"type\":\"pie\"}]},\"layout\":{\"autotypenumbers\":\"strict\",\"colorway\":[\"#636efa\",\"#EF553B\",\"#00cc96\",\"#ab63fa\",\"#FFA15A\",\"#19d3f3\",\"#FF6692\",\"#B6E880\",\"#FF97FF\",\"#FECB52\"],\"font\":{\"color\":\"#2a3f5f\"},\"hovermode\":\"closest\",\"hoverlabel\":{\"align\":\"left\"},\"paper_bgcolor\":\"white\",\"plot_bgcolor\":\"#E5ECF6\",\"polar\":{\"bgcolor\":\"#E5ECF6\",\"angularaxis\":{\"gridcolor\":\"white\",\"linecolor\":\"white\",\"ticks\":\"\"},\"radialaxis\":{\"gridcolor\":\"white\",\"linecolor\":\"white\",\"ticks\":\"\"}},\"ternary\":{\"bgcolor\":\"#E5ECF6\",\"aaxis\":{\"gridcolor\":\"white\",\"linecolor\":\"white\",\"ticks\":\"\"},\"baxis\":{\"gridcolor\":\"white\",\"linecolor\":\"white\",\"ticks\":\"\"},\"caxis\":{\"gridcolor\":\"white\",\"linecolor\":\"white\",\"ticks\":\"\"}},\"coloraxis\":{\"colorbar\":{\"outlinewidth\":0,\"ticks\":\"\"}},\"colorscale\":{\"sequential\":[[0.0,\"#0d0887\"],[0.1111111111111111,\"#46039f\"],[0.2222222222222222,\"#7201a8\"],[0.3333333333333333,\"#9c179e\"],[0.4444444444444444,\"#bd3786\"],[0.5555555555555556,\"#d8576b\"],[0.6666666666666666,\"#ed7953\"],[0.7777777777777778,\"#fb9f3a\"],[0.8888888888888888,\"#fdca26\"],[1.0,\"#f0f921\"]],\"sequentialminus\":[[0.0,\"#0d0887\"],[0.1111111111111111,\"#46039f\"],[0.2222222222222222,\"#7201a8\"],[0.3333333333333333,\"#9c179e\"],[0.4444444444444444,\"#bd3786\"],[0.5555555555555556,\"#d8576b\"],[0.6666666666666666,\"#ed7953\"],[0.7777777777777778,\"#fb9f3a\"],[0.8888888888888888,\"#fdca26\"],[1.0,\"#f0f921\"]],\"diverging\":[[0,\"#8e0152\"],[0.1,\"#c51b7d\"],[0.2,\"#de77ae\"],[0.3,\"#f1b6da\"],[0.4,\"#fde0ef\"],[0.5,\"#f7f7f7\"],[0.6,\"#e6f5d0\"],[0.7,\"#b8e186\"],[0.8,\"#7fbc41\"],[0.9,\"#4d9221\"],[1,\"#276419\"]]},\"xaxis\":{\"gridcolor\":\"white\",\"linecolor\":\"white\",\"ticks\":\"\",\"title\":{\"standoff\":15},\"zerolinecolor\":\"white\",\"automargin\":true,\"zerolinewidth\":2},\"yaxis\":{\"gridcolor\":\"white\",\"linecolor\":\"white\",\"ticks\":\"\",\"title\":{\"standoff\":15},\"zerolinecolor\":\"white\",\"automargin\":true,\"zerolinewidth\":2},\"scene\":{\"xaxis\":{\"backgroundcolor\":\"#E5ECF6\",\"gridcolor\":\"white\",\"linecolor\":\"white\",\"showbackground\":true,\"ticks\":\"\",\"zerolinecolor\":\"white\",\"gridwidth\":2},\"yaxis\":{\"backgroundcolor\":\"#E5ECF6\",\"gridcolor\":\"white\",\"linecolor\":\"white\",\"showbackground\":true,\"ticks\":\"\",\"zerolinecolor\":\"white\",\"gridwidth\":2},\"zaxis\":{\"backgroundcolor\":\"#E5ECF6\",\"gridcolor\":\"white\",\"linecolor\":\"white\",\"showbackground\":true,\"ticks\":\"\",\"zerolinecolor\":\"white\",\"gridwidth\":2}},\"shapedefaults\":{\"line\":{\"color\":\"#2a3f5f\"}},\"annotationdefaults\":{\"arrowcolor\":\"#2a3f5f\",\"arrowhead\":0,\"arrowwidth\":1},\"geo\":{\"bgcolor\":\"white\",\"landcolor\":\"#E5ECF6\",\"subunitcolor\":\"white\",\"showland\":true,\"showlakes\":true,\"lakecolor\":\"white\"},\"title\":{\"x\":0.05},\"mapbox\":{\"style\":\"light\"}}},\"xaxis\":{\"anchor\":\"y\",\"domain\":[0.0,0.22999999999999998],\"title\":{\"text\":\"age_cat\"}},\"yaxis\":{\"anchor\":\"x\",\"domain\":[0.0,0.485],\"title\":{\"text\":\"count\"}},\"xaxis2\":{\"anchor\":\"y2\",\"domain\":[0.24999999999999997,0.48],\"matches\":\"x\",\"title\":{\"text\":\"age_cat\"}},\"yaxis2\":{\"anchor\":\"x2\",\"domain\":[0.0,0.485],\"matches\":\"y\",\"showticklabels\":false},\"xaxis3\":{\"anchor\":\"y3\",\"domain\":[0.49999999999999994,0.73],\"matches\":\"x\",\"title\":{\"text\":\"age_cat\"}},\"yaxis3\":{\"anchor\":\"x3\",\"domain\":[0.0,0.485],\"matches\":\"y\",\"showticklabels\":false},\"xaxis4\":{\"anchor\":\"y4\",\"domain\":[0.75,0.98],\"matches\":\"x\",\"title\":{\"text\":\"age_cat\"}},\"yaxis4\":{\"anchor\":\"x4\",\"domain\":[0.0,0.485],\"matches\":\"y\",\"showticklabels\":false},\"xaxis5\":{\"anchor\":\"y5\",\"domain\":[0.0,0.22999999999999998],\"matches\":\"x\",\"showticklabels\":false},\"yaxis5\":{\"anchor\":\"x5\",\"domain\":[0.515,1.0],\"matches\":\"y\",\"title\":{\"text\":\"count\"}},\"xaxis6\":{\"anchor\":\"y6\",\"domain\":[0.24999999999999997,0.48],\"matches\":\"x\",\"showticklabels\":false},\"yaxis6\":{\"anchor\":\"x6\",\"domain\":[0.515,1.0],\"matches\":\"y\",\"showticklabels\":false},\"xaxis7\":{\"anchor\":\"y7\",\"domain\":[0.49999999999999994,0.73],\"matches\":\"x\",\"showticklabels\":false},\"yaxis7\":{\"anchor\":\"x7\",\"domain\":[0.515,1.0],\"matches\":\"y\",\"showticklabels\":false},\"xaxis8\":{\"anchor\":\"y8\",\"domain\":[0.75,0.98],\"matches\":\"x\",\"showticklabels\":false},\"yaxis8\":{\"anchor\":\"x8\",\"domain\":[0.515,1.0],\"matches\":\"y\",\"showticklabels\":false},\"annotations\":[{\"font\":{},\"showarrow\":false,\"text\":\"total_tests=1\",\"x\":0.11499999999999999,\"xanchor\":\"center\",\"xref\":\"paper\",\"y\":1.0,\"yanchor\":\"bottom\",\"yref\":\"paper\"},{\"font\":{},\"showarrow\":false,\"text\":\"total_tests=2\",\"x\":0.365,\"xanchor\":\"center\",\"xref\":\"paper\",\"y\":1.0,\"yanchor\":\"bottom\",\"yref\":\"paper\"},{\"font\":{},\"showarrow\":false,\"text\":\"total_tests=3\",\"x\":0.615,\"xanchor\":\"center\",\"xref\":\"paper\",\"y\":1.0,\"yanchor\":\"bottom\",\"yref\":\"paper\"},{\"font\":{},\"showarrow\":false,\"text\":\"total_tests=4\",\"x\":0.865,\"xanchor\":\"center\",\"xref\":\"paper\",\"y\":1.0,\"yanchor\":\"bottom\",\"yref\":\"paper\"},{\"font\":{},\"showarrow\":false,\"text\":\"Dx:HPV=1\",\"textangle\":90,\"x\":0.98,\"xanchor\":\"left\",\"xref\":\"paper\",\"y\":0.2425,\"yanchor\":\"middle\",\"yref\":\"paper\"},{\"font\":{},\"showarrow\":false,\"text\":\"Dx:HPV=0\",\"textangle\":90,\"x\":0.98,\"xanchor\":\"left\",\"xref\":\"paper\",\"y\":0.7575000000000001,\"yanchor\":\"middle\",\"yref\":\"paper\"}],\"legend\":{\"tracegroupgap\":0},\"margin\":{\"t\":60},\"barmode\":\"relative\",\"title\":{\"text\":\"Count of women across age groups who have had one or more test by Dx:HPV\"}},                        {\"responsive\": true}                    ).then(function(){\n",
              "                            \n",
              "var gd = document.getElementById('15683dba-b7a7-4e2f-b34a-5bcbfaa7fd61');\n",
              "var x = new MutationObserver(function (mutations, observer) {{\n",
              "        var display = window.getComputedStyle(gd).display;\n",
              "        if (!display || display === 'none') {{\n",
              "            console.log([gd, 'removed!']);\n",
              "            Plotly.purge(gd);\n",
              "            observer.disconnect();\n",
              "        }}\n",
              "}});\n",
              "\n",
              "// Listen for the removal of the full notebook cells\n",
              "var notebookContainer = gd.closest('#notebook-container');\n",
              "if (notebookContainer) {{\n",
              "    x.observe(notebookContainer, {childList: true});\n",
              "}}\n",
              "\n",
              "// Listen for the clearing of the current output cell\n",
              "var outputEl = gd.closest('.output');\n",
              "if (outputEl) {{\n",
              "    x.observe(outputEl, {childList: true});\n",
              "}}\n",
              "\n",
              "                        })                };                            </script>        </div>\n",
              "</body>\n",
              "</html>"
            ]
          },
          "metadata": {},
          "output_type": "display_data"
        }
      ],
      "source": [
        "fig = px.histogram(risk_factor_df.query(\"total_tests>0\").sort_values(by=[\"total_tests\",\"Dx:HPV\"], ascending=True),\n",
        "                   x=\"age_cat\",\n",
        "                   facet_col=\"total_tests\",\n",
        "                   facet_row=\"Dx:HPV\",\n",
        "                   color_discrete_sequence=[\"coral\"],\n",
        "                   opacity=0.8)\n",
        "fig.update_layout(title=\"Count of women across age groups who have had one or more test by Dx:HPV\")\n",
        "\n",
        "fig.show()"
      ]
    },
    {
      "cell_type": "code",
      "execution_count": null,
      "metadata": {
        "colab": {
          "base_uri": "https://localhost:8080/",
          "height": 542
        },
        "id": "hmpQlwGQEvCA",
        "outputId": "91ac0e26-dec9-475f-bc13-074f6fbb8ae3"
      },
      "outputs": [
        {
          "data": {
            "text/html": [
              "<html>\n",
              "<head><meta charset=\"utf-8\" /></head>\n",
              "<body>\n",
              "    <div>            <script src=\"https://cdnjs.cloudflare.com/ajax/libs/mathjax/2.7.5/MathJax.js?config=TeX-AMS-MML_SVG\"></script><script type=\"text/javascript\">if (window.MathJax && window.MathJax.Hub && window.MathJax.Hub.Config) {window.MathJax.Hub.Config({SVG: {font: \"STIX-Web\"}});}</script>                <script type=\"text/javascript\">window.PlotlyConfig = {MathJaxConfig: 'local'};</script>\n",
              "        <script charset=\"utf-8\" src=\"https://cdn.plot.ly/plotly-2.24.1.min.js\"></script>                <div id=\"4ac65151-2af9-431f-ae98-f4bcdddcae9d\" class=\"plotly-graph-div\" style=\"height:525px; width:100%;\"></div>            <script type=\"text/javascript\">                                    window.PLOTLYENV=window.PLOTLYENV || {};                                    if (document.getElementById(\"4ac65151-2af9-431f-ae98-f4bcdddcae9d\")) {                    Plotly.newPlot(                        \"4ac65151-2af9-431f-ae98-f4bcdddcae9d\",                        [{\"hovertemplate\":\"variable=Smokes (years)\\u003cbr\\u003evalue=%{x}\\u003cbr\\u003eprobability=%{y}\\u003cextra\\u003e\\u003c\\u002fextra\\u003e\",\"legendgroup\":\"Smokes (years)\",\"line\":{\"dash\":\"solid\",\"shape\":\"hv\"},\"marker\":{\"color\":\"crimson\",\"symbol\":\"circle\"},\"mode\":\"lines\",\"name\":\"Smokes (years)\",\"showlegend\":true,\"x\":[0.0,0.0,0.0,0.0,0.0,0.0,0.0,0.0,0.0,0.0,0.0,0.0,0.0,0.0,0.0,0.0,0.0,0.0,0.0,0.0,0.0,0.0,0.0,0.0,0.0,0.0,0.0,0.0,0.0,0.0,0.0,0.0,0.0,0.0,0.0,0.0,0.0,0.0,0.0,0.0,0.0,0.0,0.0,0.0,0.0,0.0,0.0,0.0,0.0,0.0,0.0,0.0,0.0,0.0,0.0,0.0,0.0,0.0,0.0,0.0,0.0,0.0,0.0,0.0,0.0,0.0,0.0,0.0,0.0,0.0,0.0,0.0,0.0,0.0,0.0,0.0,0.0,0.0,0.0,0.0,0.0,0.0,0.0,0.0,0.0,0.0,0.0,0.0,0.0,0.0,0.0,0.0,0.0,0.0,0.0,0.0,0.0,0.0,0.0,0.0,0.0,0.0,0.0,0.0,0.0,0.0,0.0,0.0,0.0,0.0,0.0,0.0,0.0,0.0,0.0,0.0,0.0,0.0,0.0,0.0,0.0,0.0,0.0,0.0,0.0,0.0,0.0,0.0,0.0,0.0,0.0,0.0,0.0,0.0,0.0,0.0,0.0,0.0,0.0,0.0,0.0,0.0,0.0,0.0,0.0,0.0,0.0,0.0,0.0,0.0,0.0,0.0,0.0,0.0,0.0,0.0,0.0,0.0,0.0,0.0,0.0,0.0,0.0,0.0,0.0,0.0,0.0,0.0,0.0,0.0,0.0,0.0,0.0,0.0,0.0,0.0,0.0,0.0,0.0,0.0,0.0,0.0,0.0,0.0,0.0,0.0,0.0,0.0,0.0,0.0,0.0,0.0,0.0,0.0,0.0,0.0,0.0,0.0,0.0,0.0,0.0,0.0,0.0,0.0,0.0,0.0,0.0,0.0,0.0,0.0,0.0,0.0,0.0,0.0,0.0,0.0,0.0,0.0,0.0,0.0,0.0,0.0,0.0,0.0,0.0,0.0,0.0,0.0,0.0,0.0,0.0,0.0,0.0,0.0,0.0,0.0,0.0,0.0,0.0,0.0,0.0,0.0,0.0,0.0,0.0,0.0,0.0,0.0,0.0,0.0,0.0,0.0,0.0,0.0,0.0,0.0,0.0,0.0,0.0,0.0,0.0,0.0,0.0,0.0,0.0,0.0,0.0,0.0,0.0,0.0,0.0,0.0,0.0,0.0,0.0,0.0,0.0,0.0,0.0,0.0,0.0,0.0,0.0,0.0,0.0,0.0,0.0,0.0,0.0,0.0,0.0,0.0,0.0,0.0,0.0,0.0,0.0,0.0,0.0,0.0,0.0,0.0,0.0,0.0,0.0,0.0,0.0,0.0,0.0,0.0,0.0,0.0,0.0,0.0,0.0,0.0,0.0,0.0,0.0,0.0,0.0,0.0,0.0,0.0,0.0,0.0,0.0,0.0,0.0,0.0,0.0,0.0,0.0,0.0,0.0,0.0,0.0,0.0,0.0,0.0,0.0,0.0,0.0,0.0,0.0,0.0,0.0,0.0,0.0,0.0,0.0,0.0,0.0,0.0,0.0,0.0,0.0,0.0,0.0,0.0,0.0,0.0,0.0,0.0,0.0,0.0,0.0,0.0,0.0,0.0,0.0,0.0,0.0,0.0,0.0,0.0,0.0,0.0,0.0,0.0,0.0,0.0,0.0,0.0,0.0,0.0,0.0,0.0,0.0,0.0,0.0,0.0,0.0,0.0,0.0,0.0,0.0,0.0,0.0,0.0,0.0,0.0,0.0,0.0,0.0,0.0,0.0,0.0,0.0,0.0,0.0,0.0,0.0,0.0,0.0,0.0,0.0,0.0,0.0,0.0,0.0,0.0,0.0,0.0,0.0,0.0,0.0,0.0,0.0,0.0,0.0,0.0,0.0,0.0,0.0,0.0,0.0,0.0,0.0,0.0,0.0,0.0,0.0,0.0,0.0,0.0,0.0,0.0,0.0,0.0,0.0,0.0,0.0,0.0,0.0,0.0,0.0,0.0,0.0,0.0,0.0,0.0,0.0,0.0,0.0,0.0,0.0,0.0,0.0,0.0,0.0,0.0,0.0,0.0,0.0,0.0,0.0,0.0,0.0,0.0,0.0,0.0,0.0,0.0,0.0,0.0,0.0,0.0,0.0,0.0,0.0,0.0,0.0,0.0,0.0,0.0,0.0,0.0,0.0,0.0,0.0,0.0,0.0,0.0,0.0,0.0,0.0,0.0,0.0,0.0,0.0,0.0,0.0,0.0,0.0,0.0,0.0,0.0,0.0,0.0,0.0,0.0,0.0,0.0,0.0,0.0,0.0,0.0,0.0,0.0,0.0,0.0,0.0,0.0,0.0,0.0,0.0,0.0,0.0,0.0,0.0,0.0,0.0,0.0,0.0,0.0,0.0,0.0,0.0,0.0,0.0,0.0,0.0,0.0,0.0,0.0,0.0,0.0,0.0,0.0,0.0,0.0,0.0,0.0,0.0,0.0,0.0,0.0,0.0,0.0,0.0,0.0,0.0,0.0,0.0,0.0,0.0,0.0,0.0,0.0,0.0,0.0,0.0,0.0,0.0,0.0,0.0,0.0,0.0,0.0,0.0,0.0,0.0,0.0,0.0,0.0,0.0,0.0,0.0,0.0,0.0,0.0,0.0,0.0,0.0,0.0,0.0,0.0,0.0,0.0,0.0,0.0,0.0,0.0,0.0,0.0,0.0,0.0,0.0,0.0,0.0,0.0,0.0,0.0,0.0,0.0,0.0,0.0,0.0,0.0,0.0,0.0,0.0,0.0,0.0,0.0,0.0,0.0,0.0,0.0,0.0,0.0,0.0,0.0,0.0,0.0,0.0,0.0,0.0,0.0,0.0,0.0,0.0,0.0,0.0,0.0,0.0,0.0,0.0,0.0,0.0,0.0,0.0,0.0,0.0,0.0,0.0,0.0,0.0,0.0,0.0,0.0,0.0,0.0,0.0,0.0,0.0,0.0,0.0,0.0,0.0,0.0,0.0,0.0,0.0,0.0,0.0,0.0,0.0,0.0,0.0,0.0,0.0,0.0,0.0,0.0,0.0,0.0,0.0,0.0,0.0,0.0,0.0,0.0,0.0,0.0,0.0,0.0,0.0,0.0,0.0,0.0,0.0,0.0,0.0,0.0,0.0,0.0,0.0,0.0,0.0,0.0,0.0,0.0,0.0,0.0,0.0,0.0,0.0,0.0,0.0,0.0,0.0,0.0,0.0,0.16,0.5,0.5,0.5,1.0,1.0,1.0,1.0,1.0,1.0,1.0,1.0,1.266972909,1.266972909,1.266972909,1.266972909,1.266972909,1.266972909,1.266972909,1.266972909,1.266972909,1.266972909,1.266972909,1.266972909,1.266972909,1.266972909,1.266972909,2.0,2.0,2.0,2.0,2.0,2.0,2.0,3.0,3.0,3.0,3.0,3.0,3.0,3.0,4.0,4.0,4.0,4.0,4.0,5.0,5.0,5.0,5.0,5.0,5.0,5.0,5.0,5.0,6.0,6.0,6.0,6.0,7.0,7.0,7.0,7.0,7.0,7.0,8.0,8.0,8.0,8.0,8.0,8.0,9.0,9.0,9.0,9.0,9.0,9.0,9.0,9.0,9.0,10.0,10.0,10.0,10.0,10.0,11.0,11.0,11.0,11.0,11.0,12.0,12.0,12.0,13.0,13.0,13.0,14.0,14.0,14.0,14.0,15.0,15.0,15.0,15.0,16.0,16.0,16.0,16.0,16.0,16.0,18.0,19.0,19.0,19.0,20.0,21.0,22.0,22.0,24.0,28.0,32.0,34.0,37.0],\"xaxis\":\"x\",\"y\":[0.0011655011655011655,0.002331002331002331,0.0034965034965034965,0.004662004662004662,0.005827505827505828,0.006993006993006993,0.008158508158508158,0.009324009324009324,0.01048951048951049,0.011655011655011656,0.01282051282051282,0.013986013986013986,0.015151515151515152,0.016317016317016316,0.017482517482517484,0.018648018648018648,0.019813519813519812,0.02097902097902098,0.022144522144522144,0.023310023310023312,0.024475524475524476,0.02564102564102564,0.026806526806526808,0.027972027972027972,0.029137529137529136,0.030303030303030304,0.03146853146853147,0.03263403263403263,0.0337995337995338,0.03496503496503497,0.03613053613053613,0.037296037296037296,0.038461538461538464,0.039627039627039624,0.04079254079254079,0.04195804195804196,0.04312354312354312,0.04428904428904429,0.045454545454545456,0.046620046620046623,0.047785547785547784,0.04895104895104895,0.05011655011655012,0.05128205128205128,0.05244755244755245,0.053613053613053616,0.054778554778554776,0.055944055944055944,0.05710955710955711,0.05827505827505827,0.05944055944055944,0.06060606060606061,0.06177156177156177,0.06293706293706294,0.0641025641025641,0.06526806526806526,0.06643356643356643,0.0675990675990676,0.06876456876456877,0.06993006993006994,0.07109557109557109,0.07226107226107226,0.07342657342657342,0.07459207459207459,0.07575757575757576,0.07692307692307693,0.0780885780885781,0.07925407925407925,0.08041958041958042,0.08158508158508158,0.08275058275058275,0.08391608391608392,0.08508158508158509,0.08624708624708624,0.08741258741258741,0.08857808857808858,0.08974358974358974,0.09090909090909091,0.09207459207459208,0.09324009324009325,0.0944055944055944,0.09557109557109557,0.09673659673659674,0.0979020979020979,0.09906759906759907,0.10023310023310024,0.10139860139860139,0.10256410256410256,0.10372960372960373,0.1048951048951049,0.10606060606060606,0.10722610722610723,0.10839160839160839,0.10955710955710955,0.11072261072261072,0.11188811188811189,0.11305361305361306,0.11421911421911422,0.11538461538461539,0.11655011655011654,0.11771561771561771,0.11888111888111888,0.12004662004662005,0.12121212121212122,0.12237762237762238,0.12354312354312354,0.1247086247086247,0.1258741258741259,0.12703962703962704,0.1282051282051282,0.12937062937062938,0.13053613053613053,0.1317016317016317,0.13286713286713286,0.13403263403263405,0.1351981351981352,0.13636363636363635,0.13752913752913754,0.1386946386946387,0.13986013986013987,0.14102564102564102,0.14219114219114218,0.14335664335664336,0.1445221445221445,0.1456876456876457,0.14685314685314685,0.14801864801864803,0.14918414918414918,0.15034965034965034,0.15151515151515152,0.15268065268065267,0.15384615384615385,0.155011655011655,0.1561771561771562,0.15734265734265734,0.1585081585081585,0.15967365967365968,0.16083916083916083,0.16200466200466201,0.16317016317016317,0.16433566433566432,0.1655011655011655,0.16666666666666666,0.16783216783216784,0.168997668997669,0.17016317016317017,0.17132867132867133,0.17249417249417248,0.17365967365967366,0.17482517482517482,0.175990675990676,0.17715617715617715,0.17832167832167833,0.1794871794871795,0.18065268065268064,0.18181818181818182,0.18298368298368298,0.18414918414918416,0.1853146853146853,0.1864801864801865,0.18764568764568765,0.1888111888111888,0.18997668997668998,0.19114219114219114,0.19230769230769232,0.19347319347319347,0.19463869463869463,0.1958041958041958,0.19696969696969696,0.19813519813519814,0.1993006993006993,0.20046620046620048,0.20163170163170163,0.20279720279720279,0.20396270396270397,0.20512820512820512,0.2062937062937063,0.20745920745920746,0.20862470862470864,0.2097902097902098,0.21095571095571095,0.21212121212121213,0.21328671328671328,0.21445221445221446,0.21561771561771562,0.21678321678321677,0.21794871794871795,0.2191142191142191,0.2202797202797203,0.22144522144522144,0.22261072261072262,0.22377622377622378,0.22494172494172493,0.2261072261072261,0.22727272727272727,0.22843822843822845,0.2296037296037296,0.23076923076923078,0.23193473193473194,0.2331002331002331,0.23426573426573427,0.23543123543123542,0.2365967365967366,0.23776223776223776,0.23892773892773891,0.2400932400932401,0.24125874125874125,0.24242424242424243,0.24358974358974358,0.24475524475524477,0.24592074592074592,0.24708624708624707,0.24825174825174826,0.2494172494172494,0.2505827505827506,0.2517482517482518,0.2529137529137529,0.2540792540792541,0.25524475524475526,0.2564102564102564,0.25757575757575757,0.25874125874125875,0.25990675990675993,0.26107226107226106,0.26223776223776224,0.2634032634032634,0.26456876456876455,0.26573426573426573,0.2668997668997669,0.2680652680652681,0.2692307692307692,0.2703962703962704,0.2715617715617716,0.2727272727272727,0.2738927738927739,0.27505827505827507,0.2762237762237762,0.2773892773892774,0.27855477855477856,0.27972027972027974,0.28088578088578087,0.28205128205128205,0.28321678321678323,0.28438228438228436,0.28554778554778554,0.2867132867132867,0.2878787878787879,0.289044289044289,0.2902097902097902,0.2913752913752914,0.2925407925407925,0.2937062937062937,0.2948717948717949,0.29603729603729606,0.2972027972027972,0.29836829836829837,0.29953379953379955,0.3006993006993007,0.30186480186480186,0.30303030303030304,0.3041958041958042,0.30536130536130535,0.30652680652680653,0.3076923076923077,0.30885780885780884,0.31002331002331,0.3111888111888112,0.3123543123543124,0.3135198135198135,0.3146853146853147,0.31585081585081587,0.317016317016317,0.3181818181818182,0.31934731934731936,0.32051282051282054,0.32167832167832167,0.32284382284382285,0.32400932400932403,0.32517482517482516,0.32634032634032634,0.3275058275058275,0.32867132867132864,0.3298368298368298,0.331002331002331,0.3321678321678322,0.3333333333333333,0.3344988344988345,0.3356643356643357,0.3368298368298368,0.337995337995338,0.33916083916083917,0.34032634032634035,0.3414918414918415,0.34265734265734266,0.34382284382284384,0.34498834498834496,0.34615384615384615,0.3473193473193473,0.3484848484848485,0.34965034965034963,0.3508158508158508,0.351981351981352,0.3531468531468531,0.3543123543123543,0.3554778554778555,0.35664335664335667,0.3578088578088578,0.358974358974359,0.36013986013986016,0.3613053613053613,0.36247086247086246,0.36363636363636365,0.36480186480186483,0.36596736596736595,0.36713286713286714,0.3682983682983683,0.36946386946386944,0.3706293706293706,0.3717948717948718,0.372960372960373,0.3741258741258741,0.3752913752913753,0.3764568764568765,0.3776223776223776,0.3787878787878788,0.37995337995337997,0.3811188811188811,0.3822843822843823,0.38344988344988346,0.38461538461538464,0.38578088578088576,0.38694638694638694,0.3881118881118881,0.38927738927738925,0.39044289044289043,0.3916083916083916,0.3927738927738928,0.3939393939393939,0.3951048951048951,0.3962703962703963,0.3974358974358974,0.3986013986013986,0.3997668997668998,0.40093240093240096,0.4020979020979021,0.40326340326340326,0.40442890442890445,0.40559440559440557,0.40675990675990675,0.40792540792540793,0.4090909090909091,0.41025641025641024,0.4114219114219114,0.4125874125874126,0.41375291375291373,0.4149184149184149,0.4160839160839161,0.4172494172494173,0.4184149184149184,0.4195804195804196,0.42074592074592077,0.4219114219114219,0.4230769230769231,0.42424242424242425,0.4254079254079254,0.42657342657342656,0.42773892773892774,0.4289044289044289,0.43006993006993005,0.43123543123543123,0.4324009324009324,0.43356643356643354,0.4347319347319347,0.4358974358974359,0.4370629370629371,0.4382284382284382,0.4393939393939394,0.4405594405594406,0.4417249417249417,0.4428904428904429,0.44405594405594406,0.44522144522144524,0.44638694638694637,0.44755244755244755,0.44871794871794873,0.44988344988344986,0.45104895104895104,0.4522144522144522,0.4533799533799534,0.45454545454545453,0.4557109557109557,0.4568764568764569,0.458041958041958,0.4592074592074592,0.4603729603729604,0.46153846153846156,0.4627039627039627,0.46386946386946387,0.46503496503496505,0.4662004662004662,0.46736596736596736,0.46853146853146854,0.4696969696969697,0.47086247086247085,0.47202797202797203,0.4731934731934732,0.47435897435897434,0.4755244755244755,0.4766899766899767,0.47785547785547783,0.479020979020979,0.4801864801864802,0.4813519813519814,0.4825174825174825,0.4836829836829837,0.48484848484848486,0.486013986013986,0.48717948717948717,0.48834498834498835,0.48951048951048953,0.49067599067599066,0.49184149184149184,0.493006993006993,0.49417249417249415,0.49533799533799533,0.4965034965034965,0.4976689976689977,0.4988344988344988,0.5,0.5011655011655012,0.5023310023310024,0.5034965034965035,0.5046620046620046,0.5058275058275058,0.506993006993007,0.5081585081585082,0.5093240093240093,0.5104895104895105,0.5116550116550117,0.5128205128205128,0.513986013986014,0.5151515151515151,0.5163170163170163,0.5174825174825175,0.5186480186480187,0.5198135198135199,0.5209790209790209,0.5221445221445221,0.5233100233100233,0.5244755244755245,0.5256410256410257,0.5268065268065268,0.527972027972028,0.5291375291375291,0.5303030303030303,0.5314685314685315,0.5326340326340326,0.5337995337995338,0.534965034965035,0.5361305361305362,0.5372960372960373,0.5384615384615384,0.5396270396270396,0.5407925407925408,0.541958041958042,0.5431235431235432,0.5442890442890443,0.5454545454545454,0.5466200466200466,0.5477855477855478,0.548951048951049,0.5501165501165501,0.5512820512820513,0.5524475524475524,0.5536130536130536,0.5547785547785548,0.5559440559440559,0.5571095571095571,0.5582750582750583,0.5594405594405595,0.5606060606060606,0.5617715617715617,0.5629370629370629,0.5641025641025641,0.5652680652680653,0.5664335664335665,0.5675990675990676,0.5687645687645687,0.5699300699300699,0.5710955710955711,0.5722610722610723,0.5734265734265734,0.5745920745920746,0.5757575757575758,0.5769230769230769,0.578088578088578,0.5792540792540792,0.5804195804195804,0.5815850815850816,0.5827505827505828,0.583916083916084,0.585081585081585,0.5862470862470862,0.5874125874125874,0.5885780885780886,0.5897435897435898,0.5909090909090909,0.5920745920745921,0.5932400932400932,0.5944055944055944,0.5955710955710956,0.5967365967365967,0.5979020979020979,0.5990675990675991,0.6002331002331003,0.6013986013986014,0.6025641025641025,0.6037296037296037,0.6048951048951049,0.6060606060606061,0.6072261072261073,0.6083916083916084,0.6095571095571095,0.6107226107226107,0.6118881118881119,0.6130536130536131,0.6142191142191142,0.6153846153846154,0.6165501165501166,0.6177156177156177,0.6188811188811189,0.62004662004662,0.6212121212121212,0.6223776223776224,0.6235431235431236,0.6247086247086248,0.6258741258741258,0.627039627039627,0.6282051282051282,0.6293706293706294,0.6305361305361306,0.6317016317016317,0.6328671328671329,0.634032634032634,0.6351981351981352,0.6363636363636364,0.6375291375291375,0.6386946386946387,0.6398601398601399,0.6410256410256411,0.6421911421911422,0.6433566433566433,0.6445221445221445,0.6456876456876457,0.6468531468531469,0.6480186480186481,0.6491841491841492,0.6503496503496503,0.6515151515151515,0.6526806526806527,0.6538461538461539,0.655011655011655,0.6561771561771562,0.6573426573426573,0.6585081585081585,0.6596736596736597,0.6608391608391608,0.662004662004662,0.6631701631701632,0.6643356643356644,0.6655011655011654,0.6666666666666666,0.6678321678321678,0.668997668997669,0.6701631701631702,0.6713286713286714,0.6724941724941725,0.6736596736596736,0.6748251748251748,0.675990675990676,0.6771561771561772,0.6783216783216783,0.6794871794871795,0.6806526806526807,0.6818181818181818,0.682983682983683,0.6841491841491841,0.6853146853146853,0.6864801864801865,0.6876456876456877,0.6888111888111889,0.6899766899766899,0.6911421911421911,0.6923076923076923,0.6934731934731935,0.6946386946386947,0.6958041958041958,0.696969696969697,0.6981351981351981,0.6993006993006993,0.7004662004662005,0.7016317016317016,0.7027972027972028,0.703962703962704,0.7051282051282052,0.7062937062937062,0.7074592074592074,0.7086247086247086,0.7097902097902098,0.710955710955711,0.7121212121212122,0.7132867132867133,0.7144522144522144,0.7156177156177156,0.7167832167832168,0.717948717948718,0.7191142191142191,0.7202797202797203,0.7214452214452215,0.7226107226107226,0.7237762237762237,0.7249417249417249,0.7261072261072261,0.7272727272727273,0.7284382284382285,0.7296037296037297,0.7307692307692307,0.7319347319347319,0.7331002331002331,0.7342657342657343,0.7354312354312355,0.7365967365967366,0.7377622377622378,0.7389277389277389,0.7400932400932401,0.7412587412587412,0.7424242424242424,0.7435897435897436,0.7447552447552448,0.745920745920746,0.747086247086247,0.7482517482517482,0.7494172494172494,0.7505827505827506,0.7517482517482518,0.752913752913753,0.754079254079254,0.7552447552447552,0.7564102564102564,0.7575757575757576,0.7587412587412588,0.7599067599067599,0.7610722610722611,0.7622377622377622,0.7634032634032634,0.7645687645687645,0.7657342657342657,0.7668997668997669,0.7680652680652681,0.7692307692307693,0.7703962703962703,0.7715617715617715,0.7727272727272727,0.7738927738927739,0.7750582750582751,0.7762237762237763,0.7773892773892774,0.7785547785547785,0.7797202797202797,0.7808857808857809,0.782051282051282,0.7832167832167832,0.7843822843822844,0.7855477855477856,0.7867132867132867,0.7878787878787878,0.789044289044289,0.7902097902097902,0.7913752913752914,0.7925407925407926,0.7937062937062938,0.7948717948717948,0.796037296037296,0.7972027972027972,0.7983682983682984,0.7995337995337995,0.8006993006993007,0.8018648018648019,0.803030303030303,0.8041958041958042,0.8053613053613053,0.8065268065268065,0.8076923076923077,0.8088578088578089,0.8100233100233101,0.8111888111888111,0.8123543123543123,0.8135198135198135,0.8146853146853147,0.8158508158508159,0.817016317016317,0.8181818181818182,0.8193473193473193,0.8205128205128205,0.8216783216783217,0.8228438228438228,0.824009324009324,0.8251748251748252,0.8263403263403264,0.8275058275058275,0.8286713286713286,0.8298368298368298,0.831002331002331,0.8321678321678322,0.8333333333333334,0.8344988344988346,0.8356643356643356,0.8368298368298368,0.837995337995338,0.8391608391608392,0.8403263403263403,0.8414918414918415,0.8426573426573427,0.8438228438228438,0.844988344988345,0.8461538461538461,0.8473193473193473,0.8484848484848485,0.8496503496503497,0.8508158508158508,0.8519813519813519,0.8531468531468531,0.8543123543123543,0.8554778554778555,0.8566433566433567,0.8578088578088578,0.8589743589743589,0.8601398601398601,0.8613053613053613,0.8624708624708625,0.8636363636363636,0.8648018648018648,0.865967365967366,0.8671328671328671,0.8682983682983683,0.8694638694638694,0.8706293706293706,0.8717948717948718,0.872960372960373,0.8741258741258742,0.8752913752913752,0.8764568764568764,0.8776223776223776,0.8787878787878788,0.87995337995338,0.8811188811188811,0.8822843822843823,0.8834498834498834,0.8846153846153846,0.8857808857808858,0.8869463869463869,0.8881118881118881,0.8892773892773893,0.8904428904428905,0.8916083916083916,0.8927738927738927,0.8939393939393939,0.8951048951048951,0.8962703962703963,0.8974358974358975,0.8986013986013986,0.8997668997668997,0.9009324009324009,0.9020979020979021,0.9032634032634033,0.9044289044289044,0.9055944055944056,0.9067599067599068,0.9079254079254079,0.9090909090909091,0.9102564102564102,0.9114219114219114,0.9125874125874126,0.9137529137529138,0.914918414918415,0.916083916083916,0.9172494172494172,0.9184149184149184,0.9195804195804196,0.9207459207459208,0.921911421911422,0.9230769230769231,0.9242424242424242,0.9254079254079254,0.9265734265734266,0.9277389277389277,0.9289044289044289,0.9300699300699301,0.9312354312354313,0.9324009324009324,0.9335664335664335,0.9347319347319347,0.9358974358974359,0.9370629370629371,0.9382284382284383,0.9393939393939394,0.9405594405594405,0.9417249417249417,0.9428904428904429,0.9440559440559441,0.9452214452214452,0.9463869463869464,0.9475524475524476,0.9487179487179487,0.9498834498834499,0.951048951048951,0.9522144522144522,0.9533799533799534,0.9545454545454546,0.9557109557109557,0.9568764568764568,0.958041958041958,0.9592074592074592,0.9603729603729604,0.9615384615384616,0.9627039627039627,0.9638694638694638,0.965034965034965,0.9662004662004662,0.9673659673659674,0.9685314685314685,0.9696969696969697,0.9708624708624709,0.972027972027972,0.9731934731934732,0.9743589743589743,0.9755244755244755,0.9766899766899767,0.9778554778554779,0.9790209790209791,0.9801864801864801,0.9813519813519813,0.9825174825174825,0.9836829836829837,0.9848484848484849,0.986013986013986,0.9871794871794872,0.9883449883449883,0.9895104895104895,0.9906759906759907,0.9918414918414918,0.993006993006993,0.9941724941724942,0.9953379953379954,0.9965034965034965,0.9976689976689976,0.9988344988344988,1.0],\"yaxis\":\"y\",\"type\":\"scattergl\"},{\"hovertemplate\":\"variable=Hormonal Contraceptives (years)\\u003cbr\\u003evalue=%{x}\\u003cbr\\u003eprobability=%{y}\\u003cextra\\u003e\\u003c\\u002fextra\\u003e\",\"legendgroup\":\"Hormonal Contraceptives (years)\",\"line\":{\"dash\":\"solid\",\"shape\":\"hv\"},\"marker\":{\"color\":\"deepskyblue\",\"symbol\":\"circle\"},\"mode\":\"lines\",\"name\":\"Hormonal Contraceptives (years)\",\"showlegend\":true,\"x\":[0.0,0.0,0.0,0.0,0.0,0.0,0.0,0.0,0.0,0.0,0.0,0.0,0.0,0.0,0.0,0.0,0.0,0.0,0.0,0.0,0.0,0.0,0.0,0.0,0.0,0.0,0.0,0.0,0.0,0.0,0.0,0.0,0.0,0.0,0.0,0.0,0.0,0.0,0.0,0.0,0.0,0.0,0.0,0.0,0.0,0.0,0.0,0.0,0.0,0.0,0.0,0.0,0.0,0.0,0.0,0.0,0.0,0.0,0.0,0.0,0.0,0.0,0.0,0.0,0.0,0.0,0.0,0.0,0.0,0.0,0.0,0.0,0.0,0.0,0.0,0.0,0.0,0.0,0.0,0.0,0.0,0.0,0.0,0.0,0.0,0.0,0.0,0.0,0.0,0.0,0.0,0.0,0.0,0.0,0.0,0.0,0.0,0.0,0.0,0.0,0.0,0.0,0.0,0.0,0.0,0.0,0.0,0.0,0.0,0.0,0.0,0.0,0.0,0.0,0.0,0.0,0.0,0.0,0.0,0.0,0.0,0.0,0.0,0.0,0.0,0.0,0.0,0.0,0.0,0.0,0.0,0.0,0.0,0.0,0.0,0.0,0.0,0.0,0.0,0.0,0.0,0.0,0.0,0.0,0.0,0.0,0.0,0.0,0.0,0.0,0.0,0.0,0.0,0.0,0.0,0.0,0.0,0.0,0.0,0.0,0.0,0.0,0.0,0.0,0.0,0.0,0.0,0.0,0.0,0.0,0.0,0.0,0.0,0.0,0.0,0.0,0.0,0.0,0.0,0.0,0.0,0.0,0.0,0.0,0.0,0.0,0.0,0.0,0.0,0.0,0.0,0.0,0.0,0.0,0.0,0.0,0.0,0.0,0.0,0.0,0.0,0.0,0.0,0.0,0.0,0.0,0.0,0.0,0.0,0.0,0.0,0.0,0.0,0.0,0.0,0.0,0.0,0.0,0.0,0.0,0.0,0.0,0.0,0.0,0.0,0.0,0.0,0.0,0.0,0.0,0.0,0.0,0.0,0.0,0.0,0.0,0.0,0.0,0.0,0.0,0.0,0.0,0.0,0.0,0.0,0.0,0.0,0.0,0.0,0.0,0.0,0.0,0.0,0.0,0.0,0.0,0.0,0.0,0.0,0.0,0.0,0.0,0.0,0.0,0.0,0.0,0.0,0.0,0.0,0.08,0.08,0.08,0.08,0.08,0.08,0.08,0.08,0.08,0.08,0.08,0.08,0.08,0.08,0.08,0.08,0.08,0.08,0.08,0.08,0.08,0.08,0.08,0.08,0.08,0.16,0.16,0.16,0.16,0.16,0.16,0.16,0.16,0.16,0.16,0.16,0.16,0.16,0.16,0.16,0.16,0.17,0.25,0.25,0.25,0.25,0.25,0.25,0.25,0.25,0.25,0.25,0.25,0.25,0.25,0.25,0.25,0.25,0.25,0.25,0.25,0.25,0.25,0.25,0.25,0.25,0.25,0.25,0.25,0.25,0.25,0.25,0.25,0.25,0.25,0.25,0.25,0.25,0.25,0.25,0.25,0.25,0.25,0.33,0.33,0.33,0.33,0.33,0.33,0.33,0.33,0.33,0.41,0.42,0.42,0.42,0.42,0.42,0.42,0.42,0.42,0.5,0.5,0.5,0.5,0.5,0.5,0.5,0.5,0.5,0.5,0.5,0.5,0.5,0.5,0.5,0.5,0.5,0.5,0.5,0.5,0.5,0.5,0.5,0.5,0.5,0.5,0.5,0.5,0.5,0.5,0.5,0.5,0.5,0.5,0.5,0.5,0.5,0.5,0.5,0.5,0.5,0.5,0.5,0.5,0.5,0.5,0.5,0.5,0.5,0.5,0.5,0.5,0.5,0.5,0.5,0.5,0.5,0.5,0.5,0.5,0.5,0.5,0.5,0.5,0.5,0.5,0.5,0.5,0.5,0.5,0.5,0.5,0.5,0.5,0.5,0.5,0.5,0.5,0.5,0.5,0.5,0.5,0.5,0.5,0.5,0.5,0.5,0.5,0.5,0.5,0.5,0.5,0.5,0.5,0.5,0.5,0.5,0.5,0.5,0.5,0.5,0.5,0.5,0.5,0.5,0.5,0.5,0.5,0.5,0.5,0.5,0.5,0.5,0.5,0.5,0.5,0.5,0.5,0.5,0.5,0.5,0.5,0.5,0.5,0.5,0.5,0.5,0.5,0.5,0.5,0.5,0.5,0.5,0.58,0.58,0.58,0.58,0.58,0.58,0.66,0.66,0.66,0.66,0.66,0.66,0.67,0.67,0.75,0.75,0.75,0.75,0.75,0.75,0.75,1.0,1.0,1.0,1.0,1.0,1.0,1.0,1.0,1.0,1.0,1.0,1.0,1.0,1.0,1.0,1.0,1.0,1.0,1.0,1.0,1.0,1.0,1.0,1.0,1.0,1.0,1.0,1.0,1.0,1.0,1.0,1.0,1.0,1.0,1.0,1.0,1.0,1.0,1.0,1.0,1.0,1.0,1.0,1.0,1.0,1.0,1.0,1.0,1.0,1.0,1.0,1.0,1.0,1.0,1.0,1.0,1.0,1.0,1.0,1.0,1.0,1.0,1.0,1.0,1.0,1.0,1.0,1.0,1.0,1.0,1.0,1.0,1.0,1.0,1.0,1.0,1.0,1.5,1.5,1.5,2.0,2.0,2.0,2.0,2.0,2.0,2.0,2.0,2.0,2.0,2.0,2.0,2.0,2.0,2.0,2.0,2.0,2.0,2.0,2.0,2.0,2.0,2.0,2.0,2.0,2.0,2.0,2.0,2.0,2.0,2.0,2.0,2.0,2.0,2.0,2.0,2.0,2.0,2.0,2.0,2.282200521,2.282200521,2.5,3.0,3.0,3.0,3.0,3.0,3.0,3.0,3.0,3.0,3.0,3.0,3.0,3.0,3.0,3.0,3.0,3.0,3.0,3.0,3.0,3.0,3.0,3.0,3.0,3.0,3.0,3.0,3.0,3.0,3.0,3.0,3.0,3.0,3.0,3.0,3.0,3.0,3.0,3.0,3.5,4.0,4.0,4.0,4.0,4.0,4.0,4.0,4.0,4.0,4.0,4.0,4.0,4.0,4.0,4.0,4.0,4.0,4.0,4.0,4.0,4.0,4.0,4.5,5.0,5.0,5.0,5.0,5.0,5.0,5.0,5.0,5.0,5.0,5.0,5.0,5.0,5.0,5.0,5.0,5.0,5.0,5.0,5.0,5.0,5.0,5.0,5.0,5.0,5.0,5.0,5.0,5.0,5.0,5.0,5.0,5.0,5.0,6.0,6.0,6.0,6.0,6.0,6.0,6.0,6.0,6.0,6.0,6.0,6.0,6.0,6.0,6.0,6.0,6.0,6.0,6.0,6.0,6.0,6.0,6.0,6.0,6.5,7.0,7.0,7.0,7.0,7.0,7.0,7.0,7.0,7.0,7.0,7.0,7.0,7.0,7.0,7.0,7.0,7.0,7.0,7.0,7.0,7.0,8.0,8.0,8.0,8.0,8.0,8.0,8.0,8.0,8.0,8.0,8.0,8.0,8.0,8.0,8.0,8.0,8.0,8.0,9.0,9.0,9.0,9.0,9.0,9.0,9.0,9.0,9.0,9.0,9.0,9.0,10.0,10.0,10.0,10.0,10.0,10.0,10.0,10.0,10.0,10.0,10.0,11.0,11.0,12.0,12.0,12.0,12.0,13.0,13.0,14.0,14.0,15.0,15.0,15.0,15.0,15.0,15.0,16.0,16.0,17.0,19.0,19.0,20.0,20.0,20.0,20.0,22.0,30.0],\"xaxis\":\"x\",\"y\":[0.0011655011655011655,0.002331002331002331,0.0034965034965034965,0.004662004662004662,0.005827505827505828,0.006993006993006993,0.008158508158508158,0.009324009324009324,0.01048951048951049,0.011655011655011656,0.01282051282051282,0.013986013986013986,0.015151515151515152,0.016317016317016316,0.017482517482517484,0.018648018648018648,0.019813519813519812,0.02097902097902098,0.022144522144522144,0.023310023310023312,0.024475524475524476,0.02564102564102564,0.026806526806526808,0.027972027972027972,0.029137529137529136,0.030303030303030304,0.03146853146853147,0.03263403263403263,0.0337995337995338,0.03496503496503497,0.03613053613053613,0.037296037296037296,0.038461538461538464,0.039627039627039624,0.04079254079254079,0.04195804195804196,0.04312354312354312,0.04428904428904429,0.045454545454545456,0.046620046620046623,0.047785547785547784,0.04895104895104895,0.05011655011655012,0.05128205128205128,0.05244755244755245,0.053613053613053616,0.054778554778554776,0.055944055944055944,0.05710955710955711,0.05827505827505827,0.05944055944055944,0.06060606060606061,0.06177156177156177,0.06293706293706294,0.0641025641025641,0.06526806526806526,0.06643356643356643,0.0675990675990676,0.06876456876456877,0.06993006993006994,0.07109557109557109,0.07226107226107226,0.07342657342657342,0.07459207459207459,0.07575757575757576,0.07692307692307693,0.0780885780885781,0.07925407925407925,0.08041958041958042,0.08158508158508158,0.08275058275058275,0.08391608391608392,0.08508158508158509,0.08624708624708624,0.08741258741258741,0.08857808857808858,0.08974358974358974,0.09090909090909091,0.09207459207459208,0.09324009324009325,0.0944055944055944,0.09557109557109557,0.09673659673659674,0.0979020979020979,0.09906759906759907,0.10023310023310024,0.10139860139860139,0.10256410256410256,0.10372960372960373,0.1048951048951049,0.10606060606060606,0.10722610722610723,0.10839160839160839,0.10955710955710955,0.11072261072261072,0.11188811188811189,0.11305361305361306,0.11421911421911422,0.11538461538461539,0.11655011655011654,0.11771561771561771,0.11888111888111888,0.12004662004662005,0.12121212121212122,0.12237762237762238,0.12354312354312354,0.1247086247086247,0.1258741258741259,0.12703962703962704,0.1282051282051282,0.12937062937062938,0.13053613053613053,0.1317016317016317,0.13286713286713286,0.13403263403263405,0.1351981351981352,0.13636363636363635,0.13752913752913754,0.1386946386946387,0.13986013986013987,0.14102564102564102,0.14219114219114218,0.14335664335664336,0.1445221445221445,0.1456876456876457,0.14685314685314685,0.14801864801864803,0.14918414918414918,0.15034965034965034,0.15151515151515152,0.15268065268065267,0.15384615384615385,0.155011655011655,0.1561771561771562,0.15734265734265734,0.1585081585081585,0.15967365967365968,0.16083916083916083,0.16200466200466201,0.16317016317016317,0.16433566433566432,0.1655011655011655,0.16666666666666666,0.16783216783216784,0.168997668997669,0.17016317016317017,0.17132867132867133,0.17249417249417248,0.17365967365967366,0.17482517482517482,0.175990675990676,0.17715617715617715,0.17832167832167833,0.1794871794871795,0.18065268065268064,0.18181818181818182,0.18298368298368298,0.18414918414918416,0.1853146853146853,0.1864801864801865,0.18764568764568765,0.1888111888111888,0.18997668997668998,0.19114219114219114,0.19230769230769232,0.19347319347319347,0.19463869463869463,0.1958041958041958,0.19696969696969696,0.19813519813519814,0.1993006993006993,0.20046620046620048,0.20163170163170163,0.20279720279720279,0.20396270396270397,0.20512820512820512,0.2062937062937063,0.20745920745920746,0.20862470862470864,0.2097902097902098,0.21095571095571095,0.21212121212121213,0.21328671328671328,0.21445221445221446,0.21561771561771562,0.21678321678321677,0.21794871794871795,0.2191142191142191,0.2202797202797203,0.22144522144522144,0.22261072261072262,0.22377622377622378,0.22494172494172493,0.2261072261072261,0.22727272727272727,0.22843822843822845,0.2296037296037296,0.23076923076923078,0.23193473193473194,0.2331002331002331,0.23426573426573427,0.23543123543123542,0.2365967365967366,0.23776223776223776,0.23892773892773891,0.2400932400932401,0.24125874125874125,0.24242424242424243,0.24358974358974358,0.24475524475524477,0.24592074592074592,0.24708624708624707,0.24825174825174826,0.2494172494172494,0.2505827505827506,0.2517482517482518,0.2529137529137529,0.2540792540792541,0.25524475524475526,0.2564102564102564,0.25757575757575757,0.25874125874125875,0.25990675990675993,0.26107226107226106,0.26223776223776224,0.2634032634032634,0.26456876456876455,0.26573426573426573,0.2668997668997669,0.2680652680652681,0.2692307692307692,0.2703962703962704,0.2715617715617716,0.2727272727272727,0.2738927738927739,0.27505827505827507,0.2762237762237762,0.2773892773892774,0.27855477855477856,0.27972027972027974,0.28088578088578087,0.28205128205128205,0.28321678321678323,0.28438228438228436,0.28554778554778554,0.2867132867132867,0.2878787878787879,0.289044289044289,0.2902097902097902,0.2913752913752914,0.2925407925407925,0.2937062937062937,0.2948717948717949,0.29603729603729606,0.2972027972027972,0.29836829836829837,0.29953379953379955,0.3006993006993007,0.30186480186480186,0.30303030303030304,0.3041958041958042,0.30536130536130535,0.30652680652680653,0.3076923076923077,0.30885780885780884,0.31002331002331,0.3111888111888112,0.3123543123543124,0.3135198135198135,0.3146853146853147,0.31585081585081587,0.317016317016317,0.3181818181818182,0.31934731934731936,0.32051282051282054,0.32167832167832167,0.32284382284382285,0.32400932400932403,0.32517482517482516,0.32634032634032634,0.3275058275058275,0.32867132867132864,0.3298368298368298,0.331002331002331,0.3321678321678322,0.3333333333333333,0.3344988344988345,0.3356643356643357,0.3368298368298368,0.337995337995338,0.33916083916083917,0.34032634032634035,0.3414918414918415,0.34265734265734266,0.34382284382284384,0.34498834498834496,0.34615384615384615,0.3473193473193473,0.3484848484848485,0.34965034965034963,0.3508158508158508,0.351981351981352,0.3531468531468531,0.3543123543123543,0.3554778554778555,0.35664335664335667,0.3578088578088578,0.358974358974359,0.36013986013986016,0.3613053613053613,0.36247086247086246,0.36363636363636365,0.36480186480186483,0.36596736596736595,0.36713286713286714,0.3682983682983683,0.36946386946386944,0.3706293706293706,0.3717948717948718,0.372960372960373,0.3741258741258741,0.3752913752913753,0.3764568764568765,0.3776223776223776,0.3787878787878788,0.37995337995337997,0.3811188811188811,0.3822843822843823,0.38344988344988346,0.38461538461538464,0.38578088578088576,0.38694638694638694,0.3881118881118881,0.38927738927738925,0.39044289044289043,0.3916083916083916,0.3927738927738928,0.3939393939393939,0.3951048951048951,0.3962703962703963,0.3974358974358974,0.3986013986013986,0.3997668997668998,0.40093240093240096,0.4020979020979021,0.40326340326340326,0.40442890442890445,0.40559440559440557,0.40675990675990675,0.40792540792540793,0.4090909090909091,0.41025641025641024,0.4114219114219114,0.4125874125874126,0.41375291375291373,0.4149184149184149,0.4160839160839161,0.4172494172494173,0.4184149184149184,0.4195804195804196,0.42074592074592077,0.4219114219114219,0.4230769230769231,0.42424242424242425,0.4254079254079254,0.42657342657342656,0.42773892773892774,0.4289044289044289,0.43006993006993005,0.43123543123543123,0.4324009324009324,0.43356643356643354,0.4347319347319347,0.4358974358974359,0.4370629370629371,0.4382284382284382,0.4393939393939394,0.4405594405594406,0.4417249417249417,0.4428904428904429,0.44405594405594406,0.44522144522144524,0.44638694638694637,0.44755244755244755,0.44871794871794873,0.44988344988344986,0.45104895104895104,0.4522144522144522,0.4533799533799534,0.45454545454545453,0.4557109557109557,0.4568764568764569,0.458041958041958,0.4592074592074592,0.4603729603729604,0.46153846153846156,0.4627039627039627,0.46386946386946387,0.46503496503496505,0.4662004662004662,0.46736596736596736,0.46853146853146854,0.4696969696969697,0.47086247086247085,0.47202797202797203,0.4731934731934732,0.47435897435897434,0.4755244755244755,0.4766899766899767,0.47785547785547783,0.479020979020979,0.4801864801864802,0.4813519813519814,0.4825174825174825,0.4836829836829837,0.48484848484848486,0.486013986013986,0.48717948717948717,0.48834498834498835,0.48951048951048953,0.49067599067599066,0.49184149184149184,0.493006993006993,0.49417249417249415,0.49533799533799533,0.4965034965034965,0.4976689976689977,0.4988344988344988,0.5,0.5011655011655012,0.5023310023310024,0.5034965034965035,0.5046620046620046,0.5058275058275058,0.506993006993007,0.5081585081585082,0.5093240093240093,0.5104895104895105,0.5116550116550117,0.5128205128205128,0.513986013986014,0.5151515151515151,0.5163170163170163,0.5174825174825175,0.5186480186480187,0.5198135198135199,0.5209790209790209,0.5221445221445221,0.5233100233100233,0.5244755244755245,0.5256410256410257,0.5268065268065268,0.527972027972028,0.5291375291375291,0.5303030303030303,0.5314685314685315,0.5326340326340326,0.5337995337995338,0.534965034965035,0.5361305361305362,0.5372960372960373,0.5384615384615384,0.5396270396270396,0.5407925407925408,0.541958041958042,0.5431235431235432,0.5442890442890443,0.5454545454545454,0.5466200466200466,0.5477855477855478,0.548951048951049,0.5501165501165501,0.5512820512820513,0.5524475524475524,0.5536130536130536,0.5547785547785548,0.5559440559440559,0.5571095571095571,0.5582750582750583,0.5594405594405595,0.5606060606060606,0.5617715617715617,0.5629370629370629,0.5641025641025641,0.5652680652680653,0.5664335664335665,0.5675990675990676,0.5687645687645687,0.5699300699300699,0.5710955710955711,0.5722610722610723,0.5734265734265734,0.5745920745920746,0.5757575757575758,0.5769230769230769,0.578088578088578,0.5792540792540792,0.5804195804195804,0.5815850815850816,0.5827505827505828,0.583916083916084,0.585081585081585,0.5862470862470862,0.5874125874125874,0.5885780885780886,0.5897435897435898,0.5909090909090909,0.5920745920745921,0.5932400932400932,0.5944055944055944,0.5955710955710956,0.5967365967365967,0.5979020979020979,0.5990675990675991,0.6002331002331003,0.6013986013986014,0.6025641025641025,0.6037296037296037,0.6048951048951049,0.6060606060606061,0.6072261072261073,0.6083916083916084,0.6095571095571095,0.6107226107226107,0.6118881118881119,0.6130536130536131,0.6142191142191142,0.6153846153846154,0.6165501165501166,0.6177156177156177,0.6188811188811189,0.62004662004662,0.6212121212121212,0.6223776223776224,0.6235431235431236,0.6247086247086248,0.6258741258741258,0.627039627039627,0.6282051282051282,0.6293706293706294,0.6305361305361306,0.6317016317016317,0.6328671328671329,0.634032634032634,0.6351981351981352,0.6363636363636364,0.6375291375291375,0.6386946386946387,0.6398601398601399,0.6410256410256411,0.6421911421911422,0.6433566433566433,0.6445221445221445,0.6456876456876457,0.6468531468531469,0.6480186480186481,0.6491841491841492,0.6503496503496503,0.6515151515151515,0.6526806526806527,0.6538461538461539,0.655011655011655,0.6561771561771562,0.6573426573426573,0.6585081585081585,0.6596736596736597,0.6608391608391608,0.662004662004662,0.6631701631701632,0.6643356643356644,0.6655011655011654,0.6666666666666666,0.6678321678321678,0.668997668997669,0.6701631701631702,0.6713286713286714,0.6724941724941725,0.6736596736596736,0.6748251748251748,0.675990675990676,0.6771561771561772,0.6783216783216783,0.6794871794871795,0.6806526806526807,0.6818181818181818,0.682983682983683,0.6841491841491841,0.6853146853146853,0.6864801864801865,0.6876456876456877,0.6888111888111889,0.6899766899766899,0.6911421911421911,0.6923076923076923,0.6934731934731935,0.6946386946386947,0.6958041958041958,0.696969696969697,0.6981351981351981,0.6993006993006993,0.7004662004662005,0.7016317016317016,0.7027972027972028,0.703962703962704,0.7051282051282052,0.7062937062937062,0.7074592074592074,0.7086247086247086,0.7097902097902098,0.710955710955711,0.7121212121212122,0.7132867132867133,0.7144522144522144,0.7156177156177156,0.7167832167832168,0.717948717948718,0.7191142191142191,0.7202797202797203,0.7214452214452215,0.7226107226107226,0.7237762237762237,0.7249417249417249,0.7261072261072261,0.7272727272727273,0.7284382284382285,0.7296037296037297,0.7307692307692307,0.7319347319347319,0.7331002331002331,0.7342657342657343,0.7354312354312355,0.7365967365967366,0.7377622377622378,0.7389277389277389,0.7400932400932401,0.7412587412587412,0.7424242424242424,0.7435897435897436,0.7447552447552448,0.745920745920746,0.747086247086247,0.7482517482517482,0.7494172494172494,0.7505827505827506,0.7517482517482518,0.752913752913753,0.754079254079254,0.7552447552447552,0.7564102564102564,0.7575757575757576,0.7587412587412588,0.7599067599067599,0.7610722610722611,0.7622377622377622,0.7634032634032634,0.7645687645687645,0.7657342657342657,0.7668997668997669,0.7680652680652681,0.7692307692307693,0.7703962703962703,0.7715617715617715,0.7727272727272727,0.7738927738927739,0.7750582750582751,0.7762237762237763,0.7773892773892774,0.7785547785547785,0.7797202797202797,0.7808857808857809,0.782051282051282,0.7832167832167832,0.7843822843822844,0.7855477855477856,0.7867132867132867,0.7878787878787878,0.789044289044289,0.7902097902097902,0.7913752913752914,0.7925407925407926,0.7937062937062938,0.7948717948717948,0.796037296037296,0.7972027972027972,0.7983682983682984,0.7995337995337995,0.8006993006993007,0.8018648018648019,0.803030303030303,0.8041958041958042,0.8053613053613053,0.8065268065268065,0.8076923076923077,0.8088578088578089,0.8100233100233101,0.8111888111888111,0.8123543123543123,0.8135198135198135,0.8146853146853147,0.8158508158508159,0.817016317016317,0.8181818181818182,0.8193473193473193,0.8205128205128205,0.8216783216783217,0.8228438228438228,0.824009324009324,0.8251748251748252,0.8263403263403264,0.8275058275058275,0.8286713286713286,0.8298368298368298,0.831002331002331,0.8321678321678322,0.8333333333333334,0.8344988344988346,0.8356643356643356,0.8368298368298368,0.837995337995338,0.8391608391608392,0.8403263403263403,0.8414918414918415,0.8426573426573427,0.8438228438228438,0.844988344988345,0.8461538461538461,0.8473193473193473,0.8484848484848485,0.8496503496503497,0.8508158508158508,0.8519813519813519,0.8531468531468531,0.8543123543123543,0.8554778554778555,0.8566433566433567,0.8578088578088578,0.8589743589743589,0.8601398601398601,0.8613053613053613,0.8624708624708625,0.8636363636363636,0.8648018648018648,0.865967365967366,0.8671328671328671,0.8682983682983683,0.8694638694638694,0.8706293706293706,0.8717948717948718,0.872960372960373,0.8741258741258742,0.8752913752913752,0.8764568764568764,0.8776223776223776,0.8787878787878788,0.87995337995338,0.8811188811188811,0.8822843822843823,0.8834498834498834,0.8846153846153846,0.8857808857808858,0.8869463869463869,0.8881118881118881,0.8892773892773893,0.8904428904428905,0.8916083916083916,0.8927738927738927,0.8939393939393939,0.8951048951048951,0.8962703962703963,0.8974358974358975,0.8986013986013986,0.8997668997668997,0.9009324009324009,0.9020979020979021,0.9032634032634033,0.9044289044289044,0.9055944055944056,0.9067599067599068,0.9079254079254079,0.9090909090909091,0.9102564102564102,0.9114219114219114,0.9125874125874126,0.9137529137529138,0.914918414918415,0.916083916083916,0.9172494172494172,0.9184149184149184,0.9195804195804196,0.9207459207459208,0.921911421911422,0.9230769230769231,0.9242424242424242,0.9254079254079254,0.9265734265734266,0.9277389277389277,0.9289044289044289,0.9300699300699301,0.9312354312354313,0.9324009324009324,0.9335664335664335,0.9347319347319347,0.9358974358974359,0.9370629370629371,0.9382284382284383,0.9393939393939394,0.9405594405594405,0.9417249417249417,0.9428904428904429,0.9440559440559441,0.9452214452214452,0.9463869463869464,0.9475524475524476,0.9487179487179487,0.9498834498834499,0.951048951048951,0.9522144522144522,0.9533799533799534,0.9545454545454546,0.9557109557109557,0.9568764568764568,0.958041958041958,0.9592074592074592,0.9603729603729604,0.9615384615384616,0.9627039627039627,0.9638694638694638,0.965034965034965,0.9662004662004662,0.9673659673659674,0.9685314685314685,0.9696969696969697,0.9708624708624709,0.972027972027972,0.9731934731934732,0.9743589743589743,0.9755244755244755,0.9766899766899767,0.9778554778554779,0.9790209790209791,0.9801864801864801,0.9813519813519813,0.9825174825174825,0.9836829836829837,0.9848484848484849,0.986013986013986,0.9871794871794872,0.9883449883449883,0.9895104895104895,0.9906759906759907,0.9918414918414918,0.993006993006993,0.9941724941724942,0.9953379953379954,0.9965034965034965,0.9976689976689976,0.9988344988344988,1.0],\"yaxis\":\"y\",\"type\":\"scattergl\"},{\"hovertemplate\":\"variable=IUD (years)\\u003cbr\\u003evalue=%{x}\\u003cbr\\u003eprobability=%{y}\\u003cextra\\u003e\\u003c\\u002fextra\\u003e\",\"legendgroup\":\"IUD (years)\",\"line\":{\"dash\":\"solid\",\"shape\":\"hv\"},\"marker\":{\"color\":\"chartreuse\",\"symbol\":\"circle\"},\"mode\":\"lines\",\"name\":\"IUD (years)\",\"showlegend\":true,\"x\":[0.0,0.0,0.0,0.0,0.0,0.0,0.0,0.0,0.0,0.0,0.0,0.0,0.0,0.0,0.0,0.0,0.0,0.0,0.0,0.0,0.0,0.0,0.0,0.0,0.0,0.0,0.0,0.0,0.0,0.0,0.0,0.0,0.0,0.0,0.0,0.0,0.0,0.0,0.0,0.0,0.0,0.0,0.0,0.0,0.0,0.0,0.0,0.0,0.0,0.0,0.0,0.0,0.0,0.0,0.0,0.0,0.0,0.0,0.0,0.0,0.0,0.0,0.0,0.0,0.0,0.0,0.0,0.0,0.0,0.0,0.0,0.0,0.0,0.0,0.0,0.0,0.0,0.0,0.0,0.0,0.0,0.0,0.0,0.0,0.0,0.0,0.0,0.0,0.0,0.0,0.0,0.0,0.0,0.0,0.0,0.0,0.0,0.0,0.0,0.0,0.0,0.0,0.0,0.0,0.0,0.0,0.0,0.0,0.0,0.0,0.0,0.0,0.0,0.0,0.0,0.0,0.0,0.0,0.0,0.0,0.0,0.0,0.0,0.0,0.0,0.0,0.0,0.0,0.0,0.0,0.0,0.0,0.0,0.0,0.0,0.0,0.0,0.0,0.0,0.0,0.0,0.0,0.0,0.0,0.0,0.0,0.0,0.0,0.0,0.0,0.0,0.0,0.0,0.0,0.0,0.0,0.0,0.0,0.0,0.0,0.0,0.0,0.0,0.0,0.0,0.0,0.0,0.0,0.0,0.0,0.0,0.0,0.0,0.0,0.0,0.0,0.0,0.0,0.0,0.0,0.0,0.0,0.0,0.0,0.0,0.0,0.0,0.0,0.0,0.0,0.0,0.0,0.0,0.0,0.0,0.0,0.0,0.0,0.0,0.0,0.0,0.0,0.0,0.0,0.0,0.0,0.0,0.0,0.0,0.0,0.0,0.0,0.0,0.0,0.0,0.0,0.0,0.0,0.0,0.0,0.0,0.0,0.0,0.0,0.0,0.0,0.0,0.0,0.0,0.0,0.0,0.0,0.0,0.0,0.0,0.0,0.0,0.0,0.0,0.0,0.0,0.0,0.0,0.0,0.0,0.0,0.0,0.0,0.0,0.0,0.0,0.0,0.0,0.0,0.0,0.0,0.0,0.0,0.0,0.0,0.0,0.0,0.0,0.0,0.0,0.0,0.0,0.0,0.0,0.0,0.0,0.0,0.0,0.0,0.0,0.0,0.0,0.0,0.0,0.0,0.0,0.0,0.0,0.0,0.0,0.0,0.0,0.0,0.0,0.0,0.0,0.0,0.0,0.0,0.0,0.0,0.0,0.0,0.0,0.0,0.0,0.0,0.0,0.0,0.0,0.0,0.0,0.0,0.0,0.0,0.0,0.0,0.0,0.0,0.0,0.0,0.0,0.0,0.0,0.0,0.0,0.0,0.0,0.0,0.0,0.0,0.0,0.0,0.0,0.0,0.0,0.0,0.0,0.0,0.0,0.0,0.0,0.0,0.0,0.0,0.0,0.0,0.0,0.0,0.0,0.0,0.0,0.0,0.0,0.0,0.0,0.0,0.0,0.0,0.0,0.0,0.0,0.0,0.0,0.0,0.0,0.0,0.0,0.0,0.0,0.0,0.0,0.0,0.0,0.0,0.0,0.0,0.0,0.0,0.0,0.0,0.0,0.0,0.0,0.0,0.0,0.0,0.0,0.0,0.0,0.0,0.0,0.0,0.0,0.0,0.0,0.0,0.0,0.0,0.0,0.0,0.0,0.0,0.0,0.0,0.0,0.0,0.0,0.0,0.0,0.0,0.0,0.0,0.0,0.0,0.0,0.0,0.0,0.0,0.0,0.0,0.0,0.0,0.0,0.0,0.0,0.0,0.0,0.0,0.0,0.0,0.0,0.0,0.0,0.0,0.0,0.0,0.0,0.0,0.0,0.0,0.0,0.0,0.0,0.0,0.0,0.0,0.0,0.0,0.0,0.0,0.0,0.0,0.0,0.0,0.0,0.0,0.0,0.0,0.0,0.0,0.0,0.0,0.0,0.0,0.0,0.0,0.0,0.0,0.0,0.0,0.0,0.0,0.0,0.0,0.0,0.0,0.0,0.0,0.0,0.0,0.0,0.0,0.0,0.0,0.0,0.0,0.0,0.0,0.0,0.0,0.0,0.0,0.0,0.0,0.0,0.0,0.0,0.0,0.0,0.0,0.0,0.0,0.0,0.0,0.0,0.0,0.0,0.0,0.0,0.0,0.0,0.0,0.0,0.0,0.0,0.0,0.0,0.0,0.0,0.0,0.0,0.0,0.0,0.0,0.0,0.0,0.0,0.0,0.0,0.0,0.0,0.0,0.0,0.0,0.0,0.0,0.0,0.0,0.0,0.0,0.0,0.0,0.0,0.0,0.0,0.0,0.0,0.0,0.0,0.0,0.0,0.0,0.0,0.0,0.0,0.0,0.0,0.0,0.0,0.0,0.0,0.0,0.0,0.0,0.0,0.0,0.0,0.0,0.0,0.0,0.0,0.0,0.0,0.0,0.0,0.0,0.0,0.0,0.0,0.0,0.0,0.0,0.0,0.0,0.0,0.0,0.0,0.0,0.0,0.0,0.0,0.0,0.0,0.0,0.0,0.0,0.0,0.0,0.0,0.0,0.0,0.0,0.0,0.0,0.0,0.0,0.0,0.0,0.0,0.0,0.0,0.0,0.0,0.0,0.0,0.0,0.0,0.0,0.0,0.0,0.0,0.0,0.0,0.0,0.0,0.0,0.0,0.0,0.0,0.0,0.0,0.0,0.0,0.0,0.0,0.0,0.0,0.0,0.0,0.0,0.0,0.0,0.0,0.0,0.0,0.0,0.0,0.0,0.0,0.0,0.0,0.0,0.0,0.0,0.0,0.0,0.0,0.0,0.0,0.0,0.0,0.0,0.0,0.0,0.0,0.0,0.0,0.0,0.0,0.0,0.0,0.0,0.0,0.0,0.0,0.0,0.0,0.0,0.0,0.0,0.0,0.0,0.0,0.0,0.0,0.0,0.0,0.0,0.0,0.0,0.0,0.0,0.0,0.0,0.0,0.0,0.0,0.0,0.0,0.0,0.0,0.0,0.0,0.0,0.0,0.0,0.0,0.0,0.0,0.0,0.0,0.0,0.0,0.0,0.0,0.0,0.0,0.0,0.0,0.0,0.0,0.0,0.0,0.0,0.0,0.0,0.0,0.0,0.0,0.0,0.0,0.0,0.0,0.0,0.0,0.0,0.0,0.0,0.0,0.0,0.0,0.0,0.0,0.0,0.0,0.0,0.0,0.0,0.0,0.0,0.0,0.0,0.0,0.0,0.0,0.0,0.0,0.0,0.0,0.0,0.0,0.0,0.0,0.0,0.0,0.0,0.0,0.0,0.0,0.0,0.0,0.0,0.0,0.0,0.0,0.0,0.0,0.0,0.0,0.08,0.08,0.16,0.17,0.25,0.33,0.41,0.5,0.5,0.58,0.91,1.0,1.0,1.0,1.0,1.0,1.0,1.0,1.0,1.5,2.0,2.0,2.0,2.0,2.0,2.0,2.0,2.0,2.0,2.0,3.0,3.0,3.0,3.0,3.0,3.0,3.0,3.0,3.0,3.0,3.0,4.0,4.0,4.0,4.0,4.0,5.0,5.0,5.0,5.0,5.0,5.0,5.0,5.0,5.0,6.0,6.0,6.0,6.0,6.0,7.0,7.0,7.0,7.0,7.0,7.0,7.0,8.0,8.0,8.0,8.0,8.0,8.0,8.0,9.0,10.0,11.0,11.0,11.0,12.0,15.0,17.0,19.0],\"xaxis\":\"x\",\"y\":[0.0011655011655011655,0.002331002331002331,0.0034965034965034965,0.004662004662004662,0.005827505827505828,0.006993006993006993,0.008158508158508158,0.009324009324009324,0.01048951048951049,0.011655011655011656,0.01282051282051282,0.013986013986013986,0.015151515151515152,0.016317016317016316,0.017482517482517484,0.018648018648018648,0.019813519813519812,0.02097902097902098,0.022144522144522144,0.023310023310023312,0.024475524475524476,0.02564102564102564,0.026806526806526808,0.027972027972027972,0.029137529137529136,0.030303030303030304,0.03146853146853147,0.03263403263403263,0.0337995337995338,0.03496503496503497,0.03613053613053613,0.037296037296037296,0.038461538461538464,0.039627039627039624,0.04079254079254079,0.04195804195804196,0.04312354312354312,0.04428904428904429,0.045454545454545456,0.046620046620046623,0.047785547785547784,0.04895104895104895,0.05011655011655012,0.05128205128205128,0.05244755244755245,0.053613053613053616,0.054778554778554776,0.055944055944055944,0.05710955710955711,0.05827505827505827,0.05944055944055944,0.06060606060606061,0.06177156177156177,0.06293706293706294,0.0641025641025641,0.06526806526806526,0.06643356643356643,0.0675990675990676,0.06876456876456877,0.06993006993006994,0.07109557109557109,0.07226107226107226,0.07342657342657342,0.07459207459207459,0.07575757575757576,0.07692307692307693,0.0780885780885781,0.07925407925407925,0.08041958041958042,0.08158508158508158,0.08275058275058275,0.08391608391608392,0.08508158508158509,0.08624708624708624,0.08741258741258741,0.08857808857808858,0.08974358974358974,0.09090909090909091,0.09207459207459208,0.09324009324009325,0.0944055944055944,0.09557109557109557,0.09673659673659674,0.0979020979020979,0.09906759906759907,0.10023310023310024,0.10139860139860139,0.10256410256410256,0.10372960372960373,0.1048951048951049,0.10606060606060606,0.10722610722610723,0.10839160839160839,0.10955710955710955,0.11072261072261072,0.11188811188811189,0.11305361305361306,0.11421911421911422,0.11538461538461539,0.11655011655011654,0.11771561771561771,0.11888111888111888,0.12004662004662005,0.12121212121212122,0.12237762237762238,0.12354312354312354,0.1247086247086247,0.1258741258741259,0.12703962703962704,0.1282051282051282,0.12937062937062938,0.13053613053613053,0.1317016317016317,0.13286713286713286,0.13403263403263405,0.1351981351981352,0.13636363636363635,0.13752913752913754,0.1386946386946387,0.13986013986013987,0.14102564102564102,0.14219114219114218,0.14335664335664336,0.1445221445221445,0.1456876456876457,0.14685314685314685,0.14801864801864803,0.14918414918414918,0.15034965034965034,0.15151515151515152,0.15268065268065267,0.15384615384615385,0.155011655011655,0.1561771561771562,0.15734265734265734,0.1585081585081585,0.15967365967365968,0.16083916083916083,0.16200466200466201,0.16317016317016317,0.16433566433566432,0.1655011655011655,0.16666666666666666,0.16783216783216784,0.168997668997669,0.17016317016317017,0.17132867132867133,0.17249417249417248,0.17365967365967366,0.17482517482517482,0.175990675990676,0.17715617715617715,0.17832167832167833,0.1794871794871795,0.18065268065268064,0.18181818181818182,0.18298368298368298,0.18414918414918416,0.1853146853146853,0.1864801864801865,0.18764568764568765,0.1888111888111888,0.18997668997668998,0.19114219114219114,0.19230769230769232,0.19347319347319347,0.19463869463869463,0.1958041958041958,0.19696969696969696,0.19813519813519814,0.1993006993006993,0.20046620046620048,0.20163170163170163,0.20279720279720279,0.20396270396270397,0.20512820512820512,0.2062937062937063,0.20745920745920746,0.20862470862470864,0.2097902097902098,0.21095571095571095,0.21212121212121213,0.21328671328671328,0.21445221445221446,0.21561771561771562,0.21678321678321677,0.21794871794871795,0.2191142191142191,0.2202797202797203,0.22144522144522144,0.22261072261072262,0.22377622377622378,0.22494172494172493,0.2261072261072261,0.22727272727272727,0.22843822843822845,0.2296037296037296,0.23076923076923078,0.23193473193473194,0.2331002331002331,0.23426573426573427,0.23543123543123542,0.2365967365967366,0.23776223776223776,0.23892773892773891,0.2400932400932401,0.24125874125874125,0.24242424242424243,0.24358974358974358,0.24475524475524477,0.24592074592074592,0.24708624708624707,0.24825174825174826,0.2494172494172494,0.2505827505827506,0.2517482517482518,0.2529137529137529,0.2540792540792541,0.25524475524475526,0.2564102564102564,0.25757575757575757,0.25874125874125875,0.25990675990675993,0.26107226107226106,0.26223776223776224,0.2634032634032634,0.26456876456876455,0.26573426573426573,0.2668997668997669,0.2680652680652681,0.2692307692307692,0.2703962703962704,0.2715617715617716,0.2727272727272727,0.2738927738927739,0.27505827505827507,0.2762237762237762,0.2773892773892774,0.27855477855477856,0.27972027972027974,0.28088578088578087,0.28205128205128205,0.28321678321678323,0.28438228438228436,0.28554778554778554,0.2867132867132867,0.2878787878787879,0.289044289044289,0.2902097902097902,0.2913752913752914,0.2925407925407925,0.2937062937062937,0.2948717948717949,0.29603729603729606,0.2972027972027972,0.29836829836829837,0.29953379953379955,0.3006993006993007,0.30186480186480186,0.30303030303030304,0.3041958041958042,0.30536130536130535,0.30652680652680653,0.3076923076923077,0.30885780885780884,0.31002331002331,0.3111888111888112,0.3123543123543124,0.3135198135198135,0.3146853146853147,0.31585081585081587,0.317016317016317,0.3181818181818182,0.31934731934731936,0.32051282051282054,0.32167832167832167,0.32284382284382285,0.32400932400932403,0.32517482517482516,0.32634032634032634,0.3275058275058275,0.32867132867132864,0.3298368298368298,0.331002331002331,0.3321678321678322,0.3333333333333333,0.3344988344988345,0.3356643356643357,0.3368298368298368,0.337995337995338,0.33916083916083917,0.34032634032634035,0.3414918414918415,0.34265734265734266,0.34382284382284384,0.34498834498834496,0.34615384615384615,0.3473193473193473,0.3484848484848485,0.34965034965034963,0.3508158508158508,0.351981351981352,0.3531468531468531,0.3543123543123543,0.3554778554778555,0.35664335664335667,0.3578088578088578,0.358974358974359,0.36013986013986016,0.3613053613053613,0.36247086247086246,0.36363636363636365,0.36480186480186483,0.36596736596736595,0.36713286713286714,0.3682983682983683,0.36946386946386944,0.3706293706293706,0.3717948717948718,0.372960372960373,0.3741258741258741,0.3752913752913753,0.3764568764568765,0.3776223776223776,0.3787878787878788,0.37995337995337997,0.3811188811188811,0.3822843822843823,0.38344988344988346,0.38461538461538464,0.38578088578088576,0.38694638694638694,0.3881118881118881,0.38927738927738925,0.39044289044289043,0.3916083916083916,0.3927738927738928,0.3939393939393939,0.3951048951048951,0.3962703962703963,0.3974358974358974,0.3986013986013986,0.3997668997668998,0.40093240093240096,0.4020979020979021,0.40326340326340326,0.40442890442890445,0.40559440559440557,0.40675990675990675,0.40792540792540793,0.4090909090909091,0.41025641025641024,0.4114219114219114,0.4125874125874126,0.41375291375291373,0.4149184149184149,0.4160839160839161,0.4172494172494173,0.4184149184149184,0.4195804195804196,0.42074592074592077,0.4219114219114219,0.4230769230769231,0.42424242424242425,0.4254079254079254,0.42657342657342656,0.42773892773892774,0.4289044289044289,0.43006993006993005,0.43123543123543123,0.4324009324009324,0.43356643356643354,0.4347319347319347,0.4358974358974359,0.4370629370629371,0.4382284382284382,0.4393939393939394,0.4405594405594406,0.4417249417249417,0.4428904428904429,0.44405594405594406,0.44522144522144524,0.44638694638694637,0.44755244755244755,0.44871794871794873,0.44988344988344986,0.45104895104895104,0.4522144522144522,0.4533799533799534,0.45454545454545453,0.4557109557109557,0.4568764568764569,0.458041958041958,0.4592074592074592,0.4603729603729604,0.46153846153846156,0.4627039627039627,0.46386946386946387,0.46503496503496505,0.4662004662004662,0.46736596736596736,0.46853146853146854,0.4696969696969697,0.47086247086247085,0.47202797202797203,0.4731934731934732,0.47435897435897434,0.4755244755244755,0.4766899766899767,0.47785547785547783,0.479020979020979,0.4801864801864802,0.4813519813519814,0.4825174825174825,0.4836829836829837,0.48484848484848486,0.486013986013986,0.48717948717948717,0.48834498834498835,0.48951048951048953,0.49067599067599066,0.49184149184149184,0.493006993006993,0.49417249417249415,0.49533799533799533,0.4965034965034965,0.4976689976689977,0.4988344988344988,0.5,0.5011655011655012,0.5023310023310024,0.5034965034965035,0.5046620046620046,0.5058275058275058,0.506993006993007,0.5081585081585082,0.5093240093240093,0.5104895104895105,0.5116550116550117,0.5128205128205128,0.513986013986014,0.5151515151515151,0.5163170163170163,0.5174825174825175,0.5186480186480187,0.5198135198135199,0.5209790209790209,0.5221445221445221,0.5233100233100233,0.5244755244755245,0.5256410256410257,0.5268065268065268,0.527972027972028,0.5291375291375291,0.5303030303030303,0.5314685314685315,0.5326340326340326,0.5337995337995338,0.534965034965035,0.5361305361305362,0.5372960372960373,0.5384615384615384,0.5396270396270396,0.5407925407925408,0.541958041958042,0.5431235431235432,0.5442890442890443,0.5454545454545454,0.5466200466200466,0.5477855477855478,0.548951048951049,0.5501165501165501,0.5512820512820513,0.5524475524475524,0.5536130536130536,0.5547785547785548,0.5559440559440559,0.5571095571095571,0.5582750582750583,0.5594405594405595,0.5606060606060606,0.5617715617715617,0.5629370629370629,0.5641025641025641,0.5652680652680653,0.5664335664335665,0.5675990675990676,0.5687645687645687,0.5699300699300699,0.5710955710955711,0.5722610722610723,0.5734265734265734,0.5745920745920746,0.5757575757575758,0.5769230769230769,0.578088578088578,0.5792540792540792,0.5804195804195804,0.5815850815850816,0.5827505827505828,0.583916083916084,0.585081585081585,0.5862470862470862,0.5874125874125874,0.5885780885780886,0.5897435897435898,0.5909090909090909,0.5920745920745921,0.5932400932400932,0.5944055944055944,0.5955710955710956,0.5967365967365967,0.5979020979020979,0.5990675990675991,0.6002331002331003,0.6013986013986014,0.6025641025641025,0.6037296037296037,0.6048951048951049,0.6060606060606061,0.6072261072261073,0.6083916083916084,0.6095571095571095,0.6107226107226107,0.6118881118881119,0.6130536130536131,0.6142191142191142,0.6153846153846154,0.6165501165501166,0.6177156177156177,0.6188811188811189,0.62004662004662,0.6212121212121212,0.6223776223776224,0.6235431235431236,0.6247086247086248,0.6258741258741258,0.627039627039627,0.6282051282051282,0.6293706293706294,0.6305361305361306,0.6317016317016317,0.6328671328671329,0.634032634032634,0.6351981351981352,0.6363636363636364,0.6375291375291375,0.6386946386946387,0.6398601398601399,0.6410256410256411,0.6421911421911422,0.6433566433566433,0.6445221445221445,0.6456876456876457,0.6468531468531469,0.6480186480186481,0.6491841491841492,0.6503496503496503,0.6515151515151515,0.6526806526806527,0.6538461538461539,0.655011655011655,0.6561771561771562,0.6573426573426573,0.6585081585081585,0.6596736596736597,0.6608391608391608,0.662004662004662,0.6631701631701632,0.6643356643356644,0.6655011655011654,0.6666666666666666,0.6678321678321678,0.668997668997669,0.6701631701631702,0.6713286713286714,0.6724941724941725,0.6736596736596736,0.6748251748251748,0.675990675990676,0.6771561771561772,0.6783216783216783,0.6794871794871795,0.6806526806526807,0.6818181818181818,0.682983682983683,0.6841491841491841,0.6853146853146853,0.6864801864801865,0.6876456876456877,0.6888111888111889,0.6899766899766899,0.6911421911421911,0.6923076923076923,0.6934731934731935,0.6946386946386947,0.6958041958041958,0.696969696969697,0.6981351981351981,0.6993006993006993,0.7004662004662005,0.7016317016317016,0.7027972027972028,0.703962703962704,0.7051282051282052,0.7062937062937062,0.7074592074592074,0.7086247086247086,0.7097902097902098,0.710955710955711,0.7121212121212122,0.7132867132867133,0.7144522144522144,0.7156177156177156,0.7167832167832168,0.717948717948718,0.7191142191142191,0.7202797202797203,0.7214452214452215,0.7226107226107226,0.7237762237762237,0.7249417249417249,0.7261072261072261,0.7272727272727273,0.7284382284382285,0.7296037296037297,0.7307692307692307,0.7319347319347319,0.7331002331002331,0.7342657342657343,0.7354312354312355,0.7365967365967366,0.7377622377622378,0.7389277389277389,0.7400932400932401,0.7412587412587412,0.7424242424242424,0.7435897435897436,0.7447552447552448,0.745920745920746,0.747086247086247,0.7482517482517482,0.7494172494172494,0.7505827505827506,0.7517482517482518,0.752913752913753,0.754079254079254,0.7552447552447552,0.7564102564102564,0.7575757575757576,0.7587412587412588,0.7599067599067599,0.7610722610722611,0.7622377622377622,0.7634032634032634,0.7645687645687645,0.7657342657342657,0.7668997668997669,0.7680652680652681,0.7692307692307693,0.7703962703962703,0.7715617715617715,0.7727272727272727,0.7738927738927739,0.7750582750582751,0.7762237762237763,0.7773892773892774,0.7785547785547785,0.7797202797202797,0.7808857808857809,0.782051282051282,0.7832167832167832,0.7843822843822844,0.7855477855477856,0.7867132867132867,0.7878787878787878,0.789044289044289,0.7902097902097902,0.7913752913752914,0.7925407925407926,0.7937062937062938,0.7948717948717948,0.796037296037296,0.7972027972027972,0.7983682983682984,0.7995337995337995,0.8006993006993007,0.8018648018648019,0.803030303030303,0.8041958041958042,0.8053613053613053,0.8065268065268065,0.8076923076923077,0.8088578088578089,0.8100233100233101,0.8111888111888111,0.8123543123543123,0.8135198135198135,0.8146853146853147,0.8158508158508159,0.817016317016317,0.8181818181818182,0.8193473193473193,0.8205128205128205,0.8216783216783217,0.8228438228438228,0.824009324009324,0.8251748251748252,0.8263403263403264,0.8275058275058275,0.8286713286713286,0.8298368298368298,0.831002331002331,0.8321678321678322,0.8333333333333334,0.8344988344988346,0.8356643356643356,0.8368298368298368,0.837995337995338,0.8391608391608392,0.8403263403263403,0.8414918414918415,0.8426573426573427,0.8438228438228438,0.844988344988345,0.8461538461538461,0.8473193473193473,0.8484848484848485,0.8496503496503497,0.8508158508158508,0.8519813519813519,0.8531468531468531,0.8543123543123543,0.8554778554778555,0.8566433566433567,0.8578088578088578,0.8589743589743589,0.8601398601398601,0.8613053613053613,0.8624708624708625,0.8636363636363636,0.8648018648018648,0.865967365967366,0.8671328671328671,0.8682983682983683,0.8694638694638694,0.8706293706293706,0.8717948717948718,0.872960372960373,0.8741258741258742,0.8752913752913752,0.8764568764568764,0.8776223776223776,0.8787878787878788,0.87995337995338,0.8811188811188811,0.8822843822843823,0.8834498834498834,0.8846153846153846,0.8857808857808858,0.8869463869463869,0.8881118881118881,0.8892773892773893,0.8904428904428905,0.8916083916083916,0.8927738927738927,0.8939393939393939,0.8951048951048951,0.8962703962703963,0.8974358974358975,0.8986013986013986,0.8997668997668997,0.9009324009324009,0.9020979020979021,0.9032634032634033,0.9044289044289044,0.9055944055944056,0.9067599067599068,0.9079254079254079,0.9090909090909091,0.9102564102564102,0.9114219114219114,0.9125874125874126,0.9137529137529138,0.914918414918415,0.916083916083916,0.9172494172494172,0.9184149184149184,0.9195804195804196,0.9207459207459208,0.921911421911422,0.9230769230769231,0.9242424242424242,0.9254079254079254,0.9265734265734266,0.9277389277389277,0.9289044289044289,0.9300699300699301,0.9312354312354313,0.9324009324009324,0.9335664335664335,0.9347319347319347,0.9358974358974359,0.9370629370629371,0.9382284382284383,0.9393939393939394,0.9405594405594405,0.9417249417249417,0.9428904428904429,0.9440559440559441,0.9452214452214452,0.9463869463869464,0.9475524475524476,0.9487179487179487,0.9498834498834499,0.951048951048951,0.9522144522144522,0.9533799533799534,0.9545454545454546,0.9557109557109557,0.9568764568764568,0.958041958041958,0.9592074592074592,0.9603729603729604,0.9615384615384616,0.9627039627039627,0.9638694638694638,0.965034965034965,0.9662004662004662,0.9673659673659674,0.9685314685314685,0.9696969696969697,0.9708624708624709,0.972027972027972,0.9731934731934732,0.9743589743589743,0.9755244755244755,0.9766899766899767,0.9778554778554779,0.9790209790209791,0.9801864801864801,0.9813519813519813,0.9825174825174825,0.9836829836829837,0.9848484848484849,0.986013986013986,0.9871794871794872,0.9883449883449883,0.9895104895104895,0.9906759906759907,0.9918414918414918,0.993006993006993,0.9941724941724942,0.9953379953379954,0.9965034965034965,0.9976689976689976,0.9988344988344988,1.0],\"yaxis\":\"y\",\"type\":\"scattergl\"}],                        {\"template\":{\"data\":{\"histogram2dcontour\":[{\"type\":\"histogram2dcontour\",\"colorbar\":{\"outlinewidth\":0,\"ticks\":\"\"},\"colorscale\":[[0.0,\"#0d0887\"],[0.1111111111111111,\"#46039f\"],[0.2222222222222222,\"#7201a8\"],[0.3333333333333333,\"#9c179e\"],[0.4444444444444444,\"#bd3786\"],[0.5555555555555556,\"#d8576b\"],[0.6666666666666666,\"#ed7953\"],[0.7777777777777778,\"#fb9f3a\"],[0.8888888888888888,\"#fdca26\"],[1.0,\"#f0f921\"]]}],\"choropleth\":[{\"type\":\"choropleth\",\"colorbar\":{\"outlinewidth\":0,\"ticks\":\"\"}}],\"histogram2d\":[{\"type\":\"histogram2d\",\"colorbar\":{\"outlinewidth\":0,\"ticks\":\"\"},\"colorscale\":[[0.0,\"#0d0887\"],[0.1111111111111111,\"#46039f\"],[0.2222222222222222,\"#7201a8\"],[0.3333333333333333,\"#9c179e\"],[0.4444444444444444,\"#bd3786\"],[0.5555555555555556,\"#d8576b\"],[0.6666666666666666,\"#ed7953\"],[0.7777777777777778,\"#fb9f3a\"],[0.8888888888888888,\"#fdca26\"],[1.0,\"#f0f921\"]]}],\"heatmap\":[{\"type\":\"heatmap\",\"colorbar\":{\"outlinewidth\":0,\"ticks\":\"\"},\"colorscale\":[[0.0,\"#0d0887\"],[0.1111111111111111,\"#46039f\"],[0.2222222222222222,\"#7201a8\"],[0.3333333333333333,\"#9c179e\"],[0.4444444444444444,\"#bd3786\"],[0.5555555555555556,\"#d8576b\"],[0.6666666666666666,\"#ed7953\"],[0.7777777777777778,\"#fb9f3a\"],[0.8888888888888888,\"#fdca26\"],[1.0,\"#f0f921\"]]}],\"heatmapgl\":[{\"type\":\"heatmapgl\",\"colorbar\":{\"outlinewidth\":0,\"ticks\":\"\"},\"colorscale\":[[0.0,\"#0d0887\"],[0.1111111111111111,\"#46039f\"],[0.2222222222222222,\"#7201a8\"],[0.3333333333333333,\"#9c179e\"],[0.4444444444444444,\"#bd3786\"],[0.5555555555555556,\"#d8576b\"],[0.6666666666666666,\"#ed7953\"],[0.7777777777777778,\"#fb9f3a\"],[0.8888888888888888,\"#fdca26\"],[1.0,\"#f0f921\"]]}],\"contourcarpet\":[{\"type\":\"contourcarpet\",\"colorbar\":{\"outlinewidth\":0,\"ticks\":\"\"}}],\"contour\":[{\"type\":\"contour\",\"colorbar\":{\"outlinewidth\":0,\"ticks\":\"\"},\"colorscale\":[[0.0,\"#0d0887\"],[0.1111111111111111,\"#46039f\"],[0.2222222222222222,\"#7201a8\"],[0.3333333333333333,\"#9c179e\"],[0.4444444444444444,\"#bd3786\"],[0.5555555555555556,\"#d8576b\"],[0.6666666666666666,\"#ed7953\"],[0.7777777777777778,\"#fb9f3a\"],[0.8888888888888888,\"#fdca26\"],[1.0,\"#f0f921\"]]}],\"surface\":[{\"type\":\"surface\",\"colorbar\":{\"outlinewidth\":0,\"ticks\":\"\"},\"colorscale\":[[0.0,\"#0d0887\"],[0.1111111111111111,\"#46039f\"],[0.2222222222222222,\"#7201a8\"],[0.3333333333333333,\"#9c179e\"],[0.4444444444444444,\"#bd3786\"],[0.5555555555555556,\"#d8576b\"],[0.6666666666666666,\"#ed7953\"],[0.7777777777777778,\"#fb9f3a\"],[0.8888888888888888,\"#fdca26\"],[1.0,\"#f0f921\"]]}],\"mesh3d\":[{\"type\":\"mesh3d\",\"colorbar\":{\"outlinewidth\":0,\"ticks\":\"\"}}],\"scatter\":[{\"fillpattern\":{\"fillmode\":\"overlay\",\"size\":10,\"solidity\":0.2},\"type\":\"scatter\"}],\"parcoords\":[{\"type\":\"parcoords\",\"line\":{\"colorbar\":{\"outlinewidth\":0,\"ticks\":\"\"}}}],\"scatterpolargl\":[{\"type\":\"scatterpolargl\",\"marker\":{\"colorbar\":{\"outlinewidth\":0,\"ticks\":\"\"}}}],\"bar\":[{\"error_x\":{\"color\":\"#2a3f5f\"},\"error_y\":{\"color\":\"#2a3f5f\"},\"marker\":{\"line\":{\"color\":\"#E5ECF6\",\"width\":0.5},\"pattern\":{\"fillmode\":\"overlay\",\"size\":10,\"solidity\":0.2}},\"type\":\"bar\"}],\"scattergeo\":[{\"type\":\"scattergeo\",\"marker\":{\"colorbar\":{\"outlinewidth\":0,\"ticks\":\"\"}}}],\"scatterpolar\":[{\"type\":\"scatterpolar\",\"marker\":{\"colorbar\":{\"outlinewidth\":0,\"ticks\":\"\"}}}],\"histogram\":[{\"marker\":{\"pattern\":{\"fillmode\":\"overlay\",\"size\":10,\"solidity\":0.2}},\"type\":\"histogram\"}],\"scattergl\":[{\"type\":\"scattergl\",\"marker\":{\"colorbar\":{\"outlinewidth\":0,\"ticks\":\"\"}}}],\"scatter3d\":[{\"type\":\"scatter3d\",\"line\":{\"colorbar\":{\"outlinewidth\":0,\"ticks\":\"\"}},\"marker\":{\"colorbar\":{\"outlinewidth\":0,\"ticks\":\"\"}}}],\"scattermapbox\":[{\"type\":\"scattermapbox\",\"marker\":{\"colorbar\":{\"outlinewidth\":0,\"ticks\":\"\"}}}],\"scatterternary\":[{\"type\":\"scatterternary\",\"marker\":{\"colorbar\":{\"outlinewidth\":0,\"ticks\":\"\"}}}],\"scattercarpet\":[{\"type\":\"scattercarpet\",\"marker\":{\"colorbar\":{\"outlinewidth\":0,\"ticks\":\"\"}}}],\"carpet\":[{\"aaxis\":{\"endlinecolor\":\"#2a3f5f\",\"gridcolor\":\"white\",\"linecolor\":\"white\",\"minorgridcolor\":\"white\",\"startlinecolor\":\"#2a3f5f\"},\"baxis\":{\"endlinecolor\":\"#2a3f5f\",\"gridcolor\":\"white\",\"linecolor\":\"white\",\"minorgridcolor\":\"white\",\"startlinecolor\":\"#2a3f5f\"},\"type\":\"carpet\"}],\"table\":[{\"cells\":{\"fill\":{\"color\":\"#EBF0F8\"},\"line\":{\"color\":\"white\"}},\"header\":{\"fill\":{\"color\":\"#C8D4E3\"},\"line\":{\"color\":\"white\"}},\"type\":\"table\"}],\"barpolar\":[{\"marker\":{\"line\":{\"color\":\"#E5ECF6\",\"width\":0.5},\"pattern\":{\"fillmode\":\"overlay\",\"size\":10,\"solidity\":0.2}},\"type\":\"barpolar\"}],\"pie\":[{\"automargin\":true,\"type\":\"pie\"}]},\"layout\":{\"autotypenumbers\":\"strict\",\"colorway\":[\"#636efa\",\"#EF553B\",\"#00cc96\",\"#ab63fa\",\"#FFA15A\",\"#19d3f3\",\"#FF6692\",\"#B6E880\",\"#FF97FF\",\"#FECB52\"],\"font\":{\"color\":\"#2a3f5f\"},\"hovermode\":\"closest\",\"hoverlabel\":{\"align\":\"left\"},\"paper_bgcolor\":\"white\",\"plot_bgcolor\":\"#E5ECF6\",\"polar\":{\"bgcolor\":\"#E5ECF6\",\"angularaxis\":{\"gridcolor\":\"white\",\"linecolor\":\"white\",\"ticks\":\"\"},\"radialaxis\":{\"gridcolor\":\"white\",\"linecolor\":\"white\",\"ticks\":\"\"}},\"ternary\":{\"bgcolor\":\"#E5ECF6\",\"aaxis\":{\"gridcolor\":\"white\",\"linecolor\":\"white\",\"ticks\":\"\"},\"baxis\":{\"gridcolor\":\"white\",\"linecolor\":\"white\",\"ticks\":\"\"},\"caxis\":{\"gridcolor\":\"white\",\"linecolor\":\"white\",\"ticks\":\"\"}},\"coloraxis\":{\"colorbar\":{\"outlinewidth\":0,\"ticks\":\"\"}},\"colorscale\":{\"sequential\":[[0.0,\"#0d0887\"],[0.1111111111111111,\"#46039f\"],[0.2222222222222222,\"#7201a8\"],[0.3333333333333333,\"#9c179e\"],[0.4444444444444444,\"#bd3786\"],[0.5555555555555556,\"#d8576b\"],[0.6666666666666666,\"#ed7953\"],[0.7777777777777778,\"#fb9f3a\"],[0.8888888888888888,\"#fdca26\"],[1.0,\"#f0f921\"]],\"sequentialminus\":[[0.0,\"#0d0887\"],[0.1111111111111111,\"#46039f\"],[0.2222222222222222,\"#7201a8\"],[0.3333333333333333,\"#9c179e\"],[0.4444444444444444,\"#bd3786\"],[0.5555555555555556,\"#d8576b\"],[0.6666666666666666,\"#ed7953\"],[0.7777777777777778,\"#fb9f3a\"],[0.8888888888888888,\"#fdca26\"],[1.0,\"#f0f921\"]],\"diverging\":[[0,\"#8e0152\"],[0.1,\"#c51b7d\"],[0.2,\"#de77ae\"],[0.3,\"#f1b6da\"],[0.4,\"#fde0ef\"],[0.5,\"#f7f7f7\"],[0.6,\"#e6f5d0\"],[0.7,\"#b8e186\"],[0.8,\"#7fbc41\"],[0.9,\"#4d9221\"],[1,\"#276419\"]]},\"xaxis\":{\"gridcolor\":\"white\",\"linecolor\":\"white\",\"ticks\":\"\",\"title\":{\"standoff\":15},\"zerolinecolor\":\"white\",\"automargin\":true,\"zerolinewidth\":2},\"yaxis\":{\"gridcolor\":\"white\",\"linecolor\":\"white\",\"ticks\":\"\",\"title\":{\"standoff\":15},\"zerolinecolor\":\"white\",\"automargin\":true,\"zerolinewidth\":2},\"scene\":{\"xaxis\":{\"backgroundcolor\":\"#E5ECF6\",\"gridcolor\":\"white\",\"linecolor\":\"white\",\"showbackground\":true,\"ticks\":\"\",\"zerolinecolor\":\"white\",\"gridwidth\":2},\"yaxis\":{\"backgroundcolor\":\"#E5ECF6\",\"gridcolor\":\"white\",\"linecolor\":\"white\",\"showbackground\":true,\"ticks\":\"\",\"zerolinecolor\":\"white\",\"gridwidth\":2},\"zaxis\":{\"backgroundcolor\":\"#E5ECF6\",\"gridcolor\":\"white\",\"linecolor\":\"white\",\"showbackground\":true,\"ticks\":\"\",\"zerolinecolor\":\"white\",\"gridwidth\":2}},\"shapedefaults\":{\"line\":{\"color\":\"#2a3f5f\"}},\"annotationdefaults\":{\"arrowcolor\":\"#2a3f5f\",\"arrowhead\":0,\"arrowwidth\":1},\"geo\":{\"bgcolor\":\"white\",\"landcolor\":\"#E5ECF6\",\"subunitcolor\":\"white\",\"showland\":true,\"showlakes\":true,\"lakecolor\":\"white\"},\"title\":{\"x\":0.05},\"mapbox\":{\"style\":\"light\"}}},\"xaxis\":{\"anchor\":\"y\",\"domain\":[0.0,1.0],\"title\":{\"text\":\"Years\"}},\"yaxis\":{\"anchor\":\"x\",\"domain\":[0.0,1.0],\"title\":{\"text\":\"probability\"},\"rangemode\":\"tozero\"},\"legend\":{\"title\":{\"text\":\"variable\"},\"tracegroupgap\":0},\"margin\":{\"t\":60},\"title\":{\"text\":\"ECDF Plot\"}},                        {\"responsive\": true}                    ).then(function(){\n",
              "                            \n",
              "var gd = document.getElementById('4ac65151-2af9-431f-ae98-f4bcdddcae9d');\n",
              "var x = new MutationObserver(function (mutations, observer) {{\n",
              "        var display = window.getComputedStyle(gd).display;\n",
              "        if (!display || display === 'none') {{\n",
              "            console.log([gd, 'removed!']);\n",
              "            Plotly.purge(gd);\n",
              "            observer.disconnect();\n",
              "        }}\n",
              "}});\n",
              "\n",
              "// Listen for the removal of the full notebook cells\n",
              "var notebookContainer = gd.closest('#notebook-container');\n",
              "if (notebookContainer) {{\n",
              "    x.observe(notebookContainer, {childList: true});\n",
              "}}\n",
              "\n",
              "// Listen for the clearing of the current output cell\n",
              "var outputEl = gd.closest('.output');\n",
              "if (outputEl) {{\n",
              "    x.observe(outputEl, {childList: true});\n",
              "}}\n",
              "\n",
              "                        })                };                            </script>        </div>\n",
              "</body>\n",
              "</html>"
            ]
          },
          "metadata": {},
          "output_type": "display_data"
        }
      ],
      "source": [
        "fig = px.ecdf(risk_factor_df, x=[\"Smokes (years)\",\n",
        "                                 \"Hormonal Contraceptives (years)\",\n",
        "                                 \"IUD (years)\"],\n",
        "              color_discrete_sequence=[\"crimson\", \"deepskyblue\", \"chartreuse\"])\n",
        "fig.update_xaxes(title=\"Years\")\n",
        "fig.update_layout(title=\"ECDF Plot\")\n",
        "fig.show()"
      ]
    },
    {
      "cell_type": "code",
      "execution_count": null,
      "metadata": {
        "colab": {
          "base_uri": "https://localhost:8080/",
          "height": 825
        },
        "id": "L4GP4ed4EzjL",
        "outputId": "34b796e0-1d65-4222-c2d5-9af38af0380c"
      },
      "outputs": [
        {
          "data": {
            "text/html": [
              "<html>\n",
              "<head><meta charset=\"utf-8\" /></head>\n",
              "<body>\n",
              "    <div>            <script src=\"https://cdnjs.cloudflare.com/ajax/libs/mathjax/2.7.5/MathJax.js?config=TeX-AMS-MML_SVG\"></script><script type=\"text/javascript\">if (window.MathJax && window.MathJax.Hub && window.MathJax.Hub.Config) {window.MathJax.Hub.Config({SVG: {font: \"STIX-Web\"}});}</script>                <script type=\"text/javascript\">window.PlotlyConfig = {MathJaxConfig: 'local'};</script>\n",
              "        <script charset=\"utf-8\" src=\"https://cdn.plot.ly/plotly-2.24.1.min.js\"></script>                <div id=\"9e2ce813-00f3-4919-9255-a940c2626051\" class=\"plotly-graph-div\" style=\"height:525px; width:100%;\"></div>            <script type=\"text/javascript\">                                    window.PLOTLYENV=window.PLOTLYENV || {};                                    if (document.getElementById(\"9e2ce813-00f3-4919-9255-a940c2626051\")) {                    Plotly.newPlot(                        \"9e2ce813-00f3-4919-9255-a940c2626051\",                        [{\"domain\":{\"x\":[0.0,1.0],\"y\":[0.0,1.0]},\"hovertemplate\":\"Category=%{label}\\u003cbr\\u003eSample Proportion=%{value}\\u003cextra\\u003e\\u003c\\u002fextra\\u003e\",\"labels\":[\"Child\",\"Teen\",\"20's\",\"30's\",\"40's\",\"50's\",\"60's\",\"70+\"],\"legendgroup\":\"\",\"name\":\"\",\"showlegend\":true,\"values\":[0.0,0.20862470862470864,0.4592074592074592,0.2564102564102564,0.06526806526806526,0.005827505827505828,0.0,0.004662004662004662],\"type\":\"pie\"}],                        {\"template\":{\"data\":{\"histogram2dcontour\":[{\"type\":\"histogram2dcontour\",\"colorbar\":{\"outlinewidth\":0,\"ticks\":\"\"},\"colorscale\":[[0.0,\"#0d0887\"],[0.1111111111111111,\"#46039f\"],[0.2222222222222222,\"#7201a8\"],[0.3333333333333333,\"#9c179e\"],[0.4444444444444444,\"#bd3786\"],[0.5555555555555556,\"#d8576b\"],[0.6666666666666666,\"#ed7953\"],[0.7777777777777778,\"#fb9f3a\"],[0.8888888888888888,\"#fdca26\"],[1.0,\"#f0f921\"]]}],\"choropleth\":[{\"type\":\"choropleth\",\"colorbar\":{\"outlinewidth\":0,\"ticks\":\"\"}}],\"histogram2d\":[{\"type\":\"histogram2d\",\"colorbar\":{\"outlinewidth\":0,\"ticks\":\"\"},\"colorscale\":[[0.0,\"#0d0887\"],[0.1111111111111111,\"#46039f\"],[0.2222222222222222,\"#7201a8\"],[0.3333333333333333,\"#9c179e\"],[0.4444444444444444,\"#bd3786\"],[0.5555555555555556,\"#d8576b\"],[0.6666666666666666,\"#ed7953\"],[0.7777777777777778,\"#fb9f3a\"],[0.8888888888888888,\"#fdca26\"],[1.0,\"#f0f921\"]]}],\"heatmap\":[{\"type\":\"heatmap\",\"colorbar\":{\"outlinewidth\":0,\"ticks\":\"\"},\"colorscale\":[[0.0,\"#0d0887\"],[0.1111111111111111,\"#46039f\"],[0.2222222222222222,\"#7201a8\"],[0.3333333333333333,\"#9c179e\"],[0.4444444444444444,\"#bd3786\"],[0.5555555555555556,\"#d8576b\"],[0.6666666666666666,\"#ed7953\"],[0.7777777777777778,\"#fb9f3a\"],[0.8888888888888888,\"#fdca26\"],[1.0,\"#f0f921\"]]}],\"heatmapgl\":[{\"type\":\"heatmapgl\",\"colorbar\":{\"outlinewidth\":0,\"ticks\":\"\"},\"colorscale\":[[0.0,\"#0d0887\"],[0.1111111111111111,\"#46039f\"],[0.2222222222222222,\"#7201a8\"],[0.3333333333333333,\"#9c179e\"],[0.4444444444444444,\"#bd3786\"],[0.5555555555555556,\"#d8576b\"],[0.6666666666666666,\"#ed7953\"],[0.7777777777777778,\"#fb9f3a\"],[0.8888888888888888,\"#fdca26\"],[1.0,\"#f0f921\"]]}],\"contourcarpet\":[{\"type\":\"contourcarpet\",\"colorbar\":{\"outlinewidth\":0,\"ticks\":\"\"}}],\"contour\":[{\"type\":\"contour\",\"colorbar\":{\"outlinewidth\":0,\"ticks\":\"\"},\"colorscale\":[[0.0,\"#0d0887\"],[0.1111111111111111,\"#46039f\"],[0.2222222222222222,\"#7201a8\"],[0.3333333333333333,\"#9c179e\"],[0.4444444444444444,\"#bd3786\"],[0.5555555555555556,\"#d8576b\"],[0.6666666666666666,\"#ed7953\"],[0.7777777777777778,\"#fb9f3a\"],[0.8888888888888888,\"#fdca26\"],[1.0,\"#f0f921\"]]}],\"surface\":[{\"type\":\"surface\",\"colorbar\":{\"outlinewidth\":0,\"ticks\":\"\"},\"colorscale\":[[0.0,\"#0d0887\"],[0.1111111111111111,\"#46039f\"],[0.2222222222222222,\"#7201a8\"],[0.3333333333333333,\"#9c179e\"],[0.4444444444444444,\"#bd3786\"],[0.5555555555555556,\"#d8576b\"],[0.6666666666666666,\"#ed7953\"],[0.7777777777777778,\"#fb9f3a\"],[0.8888888888888888,\"#fdca26\"],[1.0,\"#f0f921\"]]}],\"mesh3d\":[{\"type\":\"mesh3d\",\"colorbar\":{\"outlinewidth\":0,\"ticks\":\"\"}}],\"scatter\":[{\"fillpattern\":{\"fillmode\":\"overlay\",\"size\":10,\"solidity\":0.2},\"type\":\"scatter\"}],\"parcoords\":[{\"type\":\"parcoords\",\"line\":{\"colorbar\":{\"outlinewidth\":0,\"ticks\":\"\"}}}],\"scatterpolargl\":[{\"type\":\"scatterpolargl\",\"marker\":{\"colorbar\":{\"outlinewidth\":0,\"ticks\":\"\"}}}],\"bar\":[{\"error_x\":{\"color\":\"#2a3f5f\"},\"error_y\":{\"color\":\"#2a3f5f\"},\"marker\":{\"line\":{\"color\":\"#E5ECF6\",\"width\":0.5},\"pattern\":{\"fillmode\":\"overlay\",\"size\":10,\"solidity\":0.2}},\"type\":\"bar\"}],\"scattergeo\":[{\"type\":\"scattergeo\",\"marker\":{\"colorbar\":{\"outlinewidth\":0,\"ticks\":\"\"}}}],\"scatterpolar\":[{\"type\":\"scatterpolar\",\"marker\":{\"colorbar\":{\"outlinewidth\":0,\"ticks\":\"\"}}}],\"histogram\":[{\"marker\":{\"pattern\":{\"fillmode\":\"overlay\",\"size\":10,\"solidity\":0.2}},\"type\":\"histogram\"}],\"scattergl\":[{\"type\":\"scattergl\",\"marker\":{\"colorbar\":{\"outlinewidth\":0,\"ticks\":\"\"}}}],\"scatter3d\":[{\"type\":\"scatter3d\",\"line\":{\"colorbar\":{\"outlinewidth\":0,\"ticks\":\"\"}},\"marker\":{\"colorbar\":{\"outlinewidth\":0,\"ticks\":\"\"}}}],\"scattermapbox\":[{\"type\":\"scattermapbox\",\"marker\":{\"colorbar\":{\"outlinewidth\":0,\"ticks\":\"\"}}}],\"scatterternary\":[{\"type\":\"scatterternary\",\"marker\":{\"colorbar\":{\"outlinewidth\":0,\"ticks\":\"\"}}}],\"scattercarpet\":[{\"type\":\"scattercarpet\",\"marker\":{\"colorbar\":{\"outlinewidth\":0,\"ticks\":\"\"}}}],\"carpet\":[{\"aaxis\":{\"endlinecolor\":\"#2a3f5f\",\"gridcolor\":\"white\",\"linecolor\":\"white\",\"minorgridcolor\":\"white\",\"startlinecolor\":\"#2a3f5f\"},\"baxis\":{\"endlinecolor\":\"#2a3f5f\",\"gridcolor\":\"white\",\"linecolor\":\"white\",\"minorgridcolor\":\"white\",\"startlinecolor\":\"#2a3f5f\"},\"type\":\"carpet\"}],\"table\":[{\"cells\":{\"fill\":{\"color\":\"#EBF0F8\"},\"line\":{\"color\":\"white\"}},\"header\":{\"fill\":{\"color\":\"#C8D4E3\"},\"line\":{\"color\":\"white\"}},\"type\":\"table\"}],\"barpolar\":[{\"marker\":{\"line\":{\"color\":\"#E5ECF6\",\"width\":0.5},\"pattern\":{\"fillmode\":\"overlay\",\"size\":10,\"solidity\":0.2}},\"type\":\"barpolar\"}],\"pie\":[{\"automargin\":true,\"type\":\"pie\"}]},\"layout\":{\"autotypenumbers\":\"strict\",\"colorway\":[\"#636efa\",\"#EF553B\",\"#00cc96\",\"#ab63fa\",\"#FFA15A\",\"#19d3f3\",\"#FF6692\",\"#B6E880\",\"#FF97FF\",\"#FECB52\"],\"font\":{\"color\":\"#2a3f5f\"},\"hovermode\":\"closest\",\"hoverlabel\":{\"align\":\"left\"},\"paper_bgcolor\":\"white\",\"plot_bgcolor\":\"#E5ECF6\",\"polar\":{\"bgcolor\":\"#E5ECF6\",\"angularaxis\":{\"gridcolor\":\"white\",\"linecolor\":\"white\",\"ticks\":\"\"},\"radialaxis\":{\"gridcolor\":\"white\",\"linecolor\":\"white\",\"ticks\":\"\"}},\"ternary\":{\"bgcolor\":\"#E5ECF6\",\"aaxis\":{\"gridcolor\":\"white\",\"linecolor\":\"white\",\"ticks\":\"\"},\"baxis\":{\"gridcolor\":\"white\",\"linecolor\":\"white\",\"ticks\":\"\"},\"caxis\":{\"gridcolor\":\"white\",\"linecolor\":\"white\",\"ticks\":\"\"}},\"coloraxis\":{\"colorbar\":{\"outlinewidth\":0,\"ticks\":\"\"}},\"colorscale\":{\"sequential\":[[0.0,\"#0d0887\"],[0.1111111111111111,\"#46039f\"],[0.2222222222222222,\"#7201a8\"],[0.3333333333333333,\"#9c179e\"],[0.4444444444444444,\"#bd3786\"],[0.5555555555555556,\"#d8576b\"],[0.6666666666666666,\"#ed7953\"],[0.7777777777777778,\"#fb9f3a\"],[0.8888888888888888,\"#fdca26\"],[1.0,\"#f0f921\"]],\"sequentialminus\":[[0.0,\"#0d0887\"],[0.1111111111111111,\"#46039f\"],[0.2222222222222222,\"#7201a8\"],[0.3333333333333333,\"#9c179e\"],[0.4444444444444444,\"#bd3786\"],[0.5555555555555556,\"#d8576b\"],[0.6666666666666666,\"#ed7953\"],[0.7777777777777778,\"#fb9f3a\"],[0.8888888888888888,\"#fdca26\"],[1.0,\"#f0f921\"]],\"diverging\":[[0,\"#8e0152\"],[0.1,\"#c51b7d\"],[0.2,\"#de77ae\"],[0.3,\"#f1b6da\"],[0.4,\"#fde0ef\"],[0.5,\"#f7f7f7\"],[0.6,\"#e6f5d0\"],[0.7,\"#b8e186\"],[0.8,\"#7fbc41\"],[0.9,\"#4d9221\"],[1,\"#276419\"]]},\"xaxis\":{\"gridcolor\":\"white\",\"linecolor\":\"white\",\"ticks\":\"\",\"title\":{\"standoff\":15},\"zerolinecolor\":\"white\",\"automargin\":true,\"zerolinewidth\":2},\"yaxis\":{\"gridcolor\":\"white\",\"linecolor\":\"white\",\"ticks\":\"\",\"title\":{\"standoff\":15},\"zerolinecolor\":\"white\",\"automargin\":true,\"zerolinewidth\":2},\"scene\":{\"xaxis\":{\"backgroundcolor\":\"#E5ECF6\",\"gridcolor\":\"white\",\"linecolor\":\"white\",\"showbackground\":true,\"ticks\":\"\",\"zerolinecolor\":\"white\",\"gridwidth\":2},\"yaxis\":{\"backgroundcolor\":\"#E5ECF6\",\"gridcolor\":\"white\",\"linecolor\":\"white\",\"showbackground\":true,\"ticks\":\"\",\"zerolinecolor\":\"white\",\"gridwidth\":2},\"zaxis\":{\"backgroundcolor\":\"#E5ECF6\",\"gridcolor\":\"white\",\"linecolor\":\"white\",\"showbackground\":true,\"ticks\":\"\",\"zerolinecolor\":\"white\",\"gridwidth\":2}},\"shapedefaults\":{\"line\":{\"color\":\"#2a3f5f\"}},\"annotationdefaults\":{\"arrowcolor\":\"#2a3f5f\",\"arrowhead\":0,\"arrowwidth\":1},\"geo\":{\"bgcolor\":\"white\",\"landcolor\":\"#E5ECF6\",\"subunitcolor\":\"white\",\"showland\":true,\"showlakes\":true,\"lakecolor\":\"white\"},\"title\":{\"x\":0.05},\"mapbox\":{\"style\":\"light\"}}},\"legend\":{\"tracegroupgap\":0},\"title\":{\"text\":\"Age Category proportion of women sampled\"},\"piecolorway\":[\"rgb(103,0,31)\",\"rgb(178,24,43)\",\"rgb(214,96,77)\",\"rgb(244,165,130)\",\"rgb(253,219,199)\",\"rgb(247,247,247)\",\"rgb(209,229,240)\",\"rgb(146,197,222)\",\"rgb(67,147,195)\",\"rgb(33,102,172)\",\"rgb(5,48,97)\"]},                        {\"responsive\": true}                    ).then(function(){\n",
              "                            \n",
              "var gd = document.getElementById('9e2ce813-00f3-4919-9255-a940c2626051');\n",
              "var x = new MutationObserver(function (mutations, observer) {{\n",
              "        var display = window.getComputedStyle(gd).display;\n",
              "        if (!display || display === 'none') {{\n",
              "            console.log([gd, 'removed!']);\n",
              "            Plotly.purge(gd);\n",
              "            observer.disconnect();\n",
              "        }}\n",
              "}});\n",
              "\n",
              "// Listen for the removal of the full notebook cells\n",
              "var notebookContainer = gd.closest('#notebook-container');\n",
              "if (notebookContainer) {{\n",
              "    x.observe(notebookContainer, {childList: true});\n",
              "}}\n",
              "\n",
              "// Listen for the clearing of the current output cell\n",
              "var outputEl = gd.closest('.output');\n",
              "if (outputEl) {{\n",
              "    x.observe(outputEl, {childList: true});\n",
              "}}\n",
              "\n",
              "                        })                };                            </script>        </div>\n",
              "</body>\n",
              "</html>"
            ]
          },
          "metadata": {},
          "output_type": "display_data"
        },
        {
          "data": {
            "application/vnd.google.colaboratory.intrinsic+json": {
              "summary": "{\n  \"name\": \"proportion_samples_df\",\n  \"rows\": 8,\n  \"fields\": [\n    {\n      \"column\": \"Category\",\n      \"properties\": {\n        \"dtype\": \"string\",\n        \"num_unique_values\": 8,\n        \"samples\": [\n          \"Teen\",\n          \"50's\",\n          \"Child\"\n        ],\n        \"semantic_type\": \"\",\n        \"description\": \"\"\n      }\n    },\n    {\n      \"column\": \"Sample Proportion\",\n      \"properties\": {\n        \"dtype\": \"number\",\n        \"std\": 0.16880148682840568,\n        \"min\": 0.0,\n        \"max\": 0.4592074592074592,\n        \"num_unique_values\": 7,\n        \"samples\": [\n          0.0,\n          0.20862470862470864,\n          0.005827505827505828\n        ],\n        \"semantic_type\": \"\",\n        \"description\": \"\"\n      }\n    }\n  ]\n}",
              "type": "dataframe",
              "variable_name": "proportion_samples_df"
            },
            "text/html": [
              "\n",
              "  <div id=\"df-f8c1c806-1902-4900-a25f-40725f291d11\" class=\"colab-df-container\">\n",
              "    <div>\n",
              "<style scoped>\n",
              "    .dataframe tbody tr th:only-of-type {\n",
              "        vertical-align: middle;\n",
              "    }\n",
              "\n",
              "    .dataframe tbody tr th {\n",
              "        vertical-align: top;\n",
              "    }\n",
              "\n",
              "    .dataframe thead th {\n",
              "        text-align: right;\n",
              "    }\n",
              "</style>\n",
              "<table border=\"1\" class=\"dataframe\">\n",
              "  <thead>\n",
              "    <tr style=\"text-align: right;\">\n",
              "      <th></th>\n",
              "      <th>Category</th>\n",
              "      <th>Sample Proportion</th>\n",
              "    </tr>\n",
              "  </thead>\n",
              "  <tbody>\n",
              "    <tr>\n",
              "      <th>0</th>\n",
              "      <td>Child</td>\n",
              "      <td>0.000000</td>\n",
              "    </tr>\n",
              "    <tr>\n",
              "      <th>1</th>\n",
              "      <td>Teen</td>\n",
              "      <td>0.208625</td>\n",
              "    </tr>\n",
              "    <tr>\n",
              "      <th>2</th>\n",
              "      <td>20's</td>\n",
              "      <td>0.459207</td>\n",
              "    </tr>\n",
              "    <tr>\n",
              "      <th>3</th>\n",
              "      <td>30's</td>\n",
              "      <td>0.256410</td>\n",
              "    </tr>\n",
              "    <tr>\n",
              "      <th>4</th>\n",
              "      <td>40's</td>\n",
              "      <td>0.065268</td>\n",
              "    </tr>\n",
              "    <tr>\n",
              "      <th>5</th>\n",
              "      <td>50's</td>\n",
              "      <td>0.005828</td>\n",
              "    </tr>\n",
              "    <tr>\n",
              "      <th>6</th>\n",
              "      <td>60's</td>\n",
              "      <td>0.000000</td>\n",
              "    </tr>\n",
              "    <tr>\n",
              "      <th>7</th>\n",
              "      <td>70+</td>\n",
              "      <td>0.004662</td>\n",
              "    </tr>\n",
              "  </tbody>\n",
              "</table>\n",
              "</div>\n",
              "    <div class=\"colab-df-buttons\">\n",
              "\n",
              "  <div class=\"colab-df-container\">\n",
              "    <button class=\"colab-df-convert\" onclick=\"convertToInteractive('df-f8c1c806-1902-4900-a25f-40725f291d11')\"\n",
              "            title=\"Convert this dataframe to an interactive table.\"\n",
              "            style=\"display:none;\">\n",
              "\n",
              "  <svg xmlns=\"http://www.w3.org/2000/svg\" height=\"24px\" viewBox=\"0 -960 960 960\">\n",
              "    <path d=\"M120-120v-720h720v720H120Zm60-500h600v-160H180v160Zm220 220h160v-160H400v160Zm0 220h160v-160H400v160ZM180-400h160v-160H180v160Zm440 0h160v-160H620v160ZM180-180h160v-160H180v160Zm440 0h160v-160H620v160Z\"/>\n",
              "  </svg>\n",
              "    </button>\n",
              "\n",
              "  <style>\n",
              "    .colab-df-container {\n",
              "      display:flex;\n",
              "      gap: 12px;\n",
              "    }\n",
              "\n",
              "    .colab-df-convert {\n",
              "      background-color: #E8F0FE;\n",
              "      border: none;\n",
              "      border-radius: 50%;\n",
              "      cursor: pointer;\n",
              "      display: none;\n",
              "      fill: #1967D2;\n",
              "      height: 32px;\n",
              "      padding: 0 0 0 0;\n",
              "      width: 32px;\n",
              "    }\n",
              "\n",
              "    .colab-df-convert:hover {\n",
              "      background-color: #E2EBFA;\n",
              "      box-shadow: 0px 1px 2px rgba(60, 64, 67, 0.3), 0px 1px 3px 1px rgba(60, 64, 67, 0.15);\n",
              "      fill: #174EA6;\n",
              "    }\n",
              "\n",
              "    .colab-df-buttons div {\n",
              "      margin-bottom: 4px;\n",
              "    }\n",
              "\n",
              "    [theme=dark] .colab-df-convert {\n",
              "      background-color: #3B4455;\n",
              "      fill: #D2E3FC;\n",
              "    }\n",
              "\n",
              "    [theme=dark] .colab-df-convert:hover {\n",
              "      background-color: #434B5C;\n",
              "      box-shadow: 0px 1px 3px 1px rgba(0, 0, 0, 0.15);\n",
              "      filter: drop-shadow(0px 1px 2px rgba(0, 0, 0, 0.3));\n",
              "      fill: #FFFFFF;\n",
              "    }\n",
              "  </style>\n",
              "\n",
              "    <script>\n",
              "      const buttonEl =\n",
              "        document.querySelector('#df-f8c1c806-1902-4900-a25f-40725f291d11 button.colab-df-convert');\n",
              "      buttonEl.style.display =\n",
              "        google.colab.kernel.accessAllowed ? 'block' : 'none';\n",
              "\n",
              "      async function convertToInteractive(key) {\n",
              "        const element = document.querySelector('#df-f8c1c806-1902-4900-a25f-40725f291d11');\n",
              "        const dataTable =\n",
              "          await google.colab.kernel.invokeFunction('convertToInteractive',\n",
              "                                                    [key], {});\n",
              "        if (!dataTable) return;\n",
              "\n",
              "        const docLinkHtml = 'Like what you see? Visit the ' +\n",
              "          '<a target=\"_blank\" href=https://colab.research.google.com/notebooks/data_table.ipynb>data table notebook</a>'\n",
              "          + ' to learn more about interactive tables.';\n",
              "        element.innerHTML = '';\n",
              "        dataTable['output_type'] = 'display_data';\n",
              "        await google.colab.output.renderOutput(dataTable, element);\n",
              "        const docLink = document.createElement('div');\n",
              "        docLink.innerHTML = docLinkHtml;\n",
              "        element.appendChild(docLink);\n",
              "      }\n",
              "    </script>\n",
              "  </div>\n",
              "\n",
              "\n",
              "<div id=\"df-6c330094-f170-49d4-a845-023073bd660d\">\n",
              "  <button class=\"colab-df-quickchart\" onclick=\"quickchart('df-6c330094-f170-49d4-a845-023073bd660d')\"\n",
              "            title=\"Suggest charts\"\n",
              "            style=\"display:none;\">\n",
              "\n",
              "<svg xmlns=\"http://www.w3.org/2000/svg\" height=\"24px\"viewBox=\"0 0 24 24\"\n",
              "     width=\"24px\">\n",
              "    <g>\n",
              "        <path d=\"M19 3H5c-1.1 0-2 .9-2 2v14c0 1.1.9 2 2 2h14c1.1 0 2-.9 2-2V5c0-1.1-.9-2-2-2zM9 17H7v-7h2v7zm4 0h-2V7h2v10zm4 0h-2v-4h2v4z\"/>\n",
              "    </g>\n",
              "</svg>\n",
              "  </button>\n",
              "\n",
              "<style>\n",
              "  .colab-df-quickchart {\n",
              "      --bg-color: #E8F0FE;\n",
              "      --fill-color: #1967D2;\n",
              "      --hover-bg-color: #E2EBFA;\n",
              "      --hover-fill-color: #174EA6;\n",
              "      --disabled-fill-color: #AAA;\n",
              "      --disabled-bg-color: #DDD;\n",
              "  }\n",
              "\n",
              "  [theme=dark] .colab-df-quickchart {\n",
              "      --bg-color: #3B4455;\n",
              "      --fill-color: #D2E3FC;\n",
              "      --hover-bg-color: #434B5C;\n",
              "      --hover-fill-color: #FFFFFF;\n",
              "      --disabled-bg-color: #3B4455;\n",
              "      --disabled-fill-color: #666;\n",
              "  }\n",
              "\n",
              "  .colab-df-quickchart {\n",
              "    background-color: var(--bg-color);\n",
              "    border: none;\n",
              "    border-radius: 50%;\n",
              "    cursor: pointer;\n",
              "    display: none;\n",
              "    fill: var(--fill-color);\n",
              "    height: 32px;\n",
              "    padding: 0;\n",
              "    width: 32px;\n",
              "  }\n",
              "\n",
              "  .colab-df-quickchart:hover {\n",
              "    background-color: var(--hover-bg-color);\n",
              "    box-shadow: 0 1px 2px rgba(60, 64, 67, 0.3), 0 1px 3px 1px rgba(60, 64, 67, 0.15);\n",
              "    fill: var(--button-hover-fill-color);\n",
              "  }\n",
              "\n",
              "  .colab-df-quickchart-complete:disabled,\n",
              "  .colab-df-quickchart-complete:disabled:hover {\n",
              "    background-color: var(--disabled-bg-color);\n",
              "    fill: var(--disabled-fill-color);\n",
              "    box-shadow: none;\n",
              "  }\n",
              "\n",
              "  .colab-df-spinner {\n",
              "    border: 2px solid var(--fill-color);\n",
              "    border-color: transparent;\n",
              "    border-bottom-color: var(--fill-color);\n",
              "    animation:\n",
              "      spin 1s steps(1) infinite;\n",
              "  }\n",
              "\n",
              "  @keyframes spin {\n",
              "    0% {\n",
              "      border-color: transparent;\n",
              "      border-bottom-color: var(--fill-color);\n",
              "      border-left-color: var(--fill-color);\n",
              "    }\n",
              "    20% {\n",
              "      border-color: transparent;\n",
              "      border-left-color: var(--fill-color);\n",
              "      border-top-color: var(--fill-color);\n",
              "    }\n",
              "    30% {\n",
              "      border-color: transparent;\n",
              "      border-left-color: var(--fill-color);\n",
              "      border-top-color: var(--fill-color);\n",
              "      border-right-color: var(--fill-color);\n",
              "    }\n",
              "    40% {\n",
              "      border-color: transparent;\n",
              "      border-right-color: var(--fill-color);\n",
              "      border-top-color: var(--fill-color);\n",
              "    }\n",
              "    60% {\n",
              "      border-color: transparent;\n",
              "      border-right-color: var(--fill-color);\n",
              "    }\n",
              "    80% {\n",
              "      border-color: transparent;\n",
              "      border-right-color: var(--fill-color);\n",
              "      border-bottom-color: var(--fill-color);\n",
              "    }\n",
              "    90% {\n",
              "      border-color: transparent;\n",
              "      border-bottom-color: var(--fill-color);\n",
              "    }\n",
              "  }\n",
              "</style>\n",
              "\n",
              "  <script>\n",
              "    async function quickchart(key) {\n",
              "      const quickchartButtonEl =\n",
              "        document.querySelector('#' + key + ' button');\n",
              "      quickchartButtonEl.disabled = true;  // To prevent multiple clicks.\n",
              "      quickchartButtonEl.classList.add('colab-df-spinner');\n",
              "      try {\n",
              "        const charts = await google.colab.kernel.invokeFunction(\n",
              "            'suggestCharts', [key], {});\n",
              "      } catch (error) {\n",
              "        console.error('Error during call to suggestCharts:', error);\n",
              "      }\n",
              "      quickchartButtonEl.classList.remove('colab-df-spinner');\n",
              "      quickchartButtonEl.classList.add('colab-df-quickchart-complete');\n",
              "    }\n",
              "    (() => {\n",
              "      let quickchartButtonEl =\n",
              "        document.querySelector('#df-6c330094-f170-49d4-a845-023073bd660d button');\n",
              "      quickchartButtonEl.style.display =\n",
              "        google.colab.kernel.accessAllowed ? 'block' : 'none';\n",
              "    })();\n",
              "  </script>\n",
              "</div>\n",
              "    </div>\n",
              "  </div>\n"
            ],
            "text/plain": [
              "  Category  Sample Proportion\n",
              "0    Child           0.000000\n",
              "1     Teen           0.208625\n",
              "2     20's           0.459207\n",
              "3     30's           0.256410\n",
              "4     40's           0.065268\n",
              "5     50's           0.005828\n",
              "6     60's           0.000000\n",
              "7      70+           0.004662"
            ]
          },
          "execution_count": 158,
          "metadata": {},
          "output_type": "execute_result"
        }
      ],
      "source": [
        "age_category_range = {\n",
        "    \"Age<12\": \"Child\",\n",
        "    \"Age>=12 & Age<20\": \"Teen\",\n",
        "    \"Age>=20 & Age<30\": \"20's\",\n",
        "    \"Age>=30 & Age<40\": \"30's\",\n",
        "    \"Age>=40 & Age<50\": \"40's\",\n",
        "    \"Age>=50 & Age<60\": \"50's\",\n",
        "    \"Age>=60 & Age<70\": \"60's\",\n",
        "    \"Age>=70\": \"70+\"}\n",
        "age_prop_dict = {}\n",
        "col = \"Age\"  # Just to get the count\n",
        "for age_range, category in age_category_range.items():\n",
        "    age_prop_dict[category] = risk_factor_df.query(age_range)[col].count() / len(risk_factor_df)\n",
        "\n",
        "proportion_samples_df = pd.DataFrame.from_dict(age_prop_dict, orient=\"index\",\n",
        "                                               columns=[ \"Sample Proportion\"])\n",
        "proportion_samples_df = proportion_samples_df.reset_index()\n",
        "proportion_samples_df.columns = proportion_samples_df.columns.str.replace(\"index\",\"Category\")\n",
        "fig = px.pie(proportion_samples_df,\n",
        "             values='Sample Proportion',\n",
        "             names=\"Category\",\n",
        "             title='Age Category proportion of women sampled',color_discrete_sequence=px.colors.sequential.RdBu)\n",
        "fig.show()\n",
        "proportion_samples_df"
      ]
    },
    {
      "cell_type": "code",
      "execution_count": null,
      "metadata": {
        "colab": {
          "base_uri": "https://localhost:8080/",
          "height": 542
        },
        "id": "5Z7jOYDDIcUt",
        "outputId": "d6d04737-979b-456a-d236-6482a5968c73"
      },
      "outputs": [
        {
          "data": {
            "text/html": [
              "<html>\n",
              "<head><meta charset=\"utf-8\" /></head>\n",
              "<body>\n",
              "    <div>            <script src=\"https://cdnjs.cloudflare.com/ajax/libs/mathjax/2.7.5/MathJax.js?config=TeX-AMS-MML_SVG\"></script><script type=\"text/javascript\">if (window.MathJax && window.MathJax.Hub && window.MathJax.Hub.Config) {window.MathJax.Hub.Config({SVG: {font: \"STIX-Web\"}});}</script>                <script type=\"text/javascript\">window.PlotlyConfig = {MathJaxConfig: 'local'};</script>\n",
              "        <script charset=\"utf-8\" src=\"https://cdn.plot.ly/plotly-2.24.1.min.js\"></script>                <div id=\"cbec79cf-0ffa-4dec-8aa0-9be7cf0cee9f\" class=\"plotly-graph-div\" style=\"height:525px; width:100%;\"></div>            <script type=\"text/javascript\">                                    window.PLOTLYENV=window.PLOTLYENV || {};                                    if (document.getElementById(\"cbec79cf-0ffa-4dec-8aa0-9be7cf0cee9f\")) {                    Plotly.newPlot(                        \"cbec79cf-0ffa-4dec-8aa0-9be7cf0cee9f\",                        [{\"labels\":[\"Teen\",\"Teen\",\"30's\",\"50's\",\"40's\",\"40's\",\"50's\",\"20's\",\"40's\",\"40's\",\"40's\",\"20's\",\"40's\",\"40's\",\"40's\",\"40's\",\"40's\",\"40's\",\"40's\",\"40's\",\"40's\",\"40's\",\"40's\",\"40's\",\"40's\",\"40's\",\"30's\",\"30's\",\"30's\",\"30's\",\"40's\",\"40's\",\"30's\",\"30's\",\"30's\",\"30's\",\"30's\",\"30's\",\"30's\",\"30's\",\"30's\",\"30's\",\"30's\",\"30's\",\"30's\",\"30's\",\"30's\",\"40's\",\"40's\",\"30's\",\"30's\",\"30's\",\"30's\",\"30's\",\"30's\",\"40's\",\"30's\",\"30's\",\"30's\",\"30's\",\"30's\",\"30's\",\"30's\",\"30's\",\"30's\",\"30's\",\"30's\",\"30's\",\"30's\",\"30's\",\"30's\",\"30's\",\"30's\",\"30's\",\"30's\",\"30's\",\"30's\",\"30's\",\"30's\",\"30's\",\"30's\",\"30's\",\"30's\",\"30's\",\"30's\",\"30's\",\"30's\",\"30's\",\"30's\",\"30's\",\"30's\",\"30's\",\"30's\",\"30's\",\"30's\",\"30's\",\"30's\",\"30's\",\"30's\",\"30's\",\"30's\",\"30's\",\"30's\",\"30's\",\"30's\",\"30's\",\"30's\",\"30's\",\"30's\",\"30's\",\"30's\",\"30's\",\"30's\",\"20's\",\"30's\",\"30's\",\"30's\",\"30's\",\"30's\",\"20's\",\"30's\",\"30's\",\"30's\",\"20's\",\"30's\",\"30's\",\"30's\",\"20's\",\"20's\",\"30's\",\"20's\",\"30's\",\"30's\",\"30's\",\"30's\",\"20's\",\"30's\",\"20's\",\"20's\",\"30's\",\"30's\",\"20's\",\"30's\",\"20's\",\"30's\",\"30's\",\"30's\",\"20's\",\"30's\",\"30's\",\"20's\",\"30's\",\"20's\",\"20's\",\"20's\",\"20's\",\"20's\",\"20's\",\"30's\",\"20's\",\"20's\",\"20's\",\"20's\",\"20's\",\"20's\",\"30's\",\"20's\",\"20's\",\"20's\",\"Teen\",\"20's\",\"20's\",\"20's\",\"20's\",\"20's\",\"20's\",\"20's\",\"20's\",\"20's\",\"30's\",\"20's\",\"20's\",\"20's\",\"20's\",\"20's\",\"20's\",\"20's\",\"20's\",\"20's\",\"20's\",\"20's\",\"20's\",\"20's\",\"20's\",\"20's\",\"20's\",\"20's\",\"20's\",\"20's\",\"20's\",\"20's\",\"20's\",\"20's\",\"20's\",\"20's\",\"20's\",\"20's\",\"20's\",\"20's\",\"20's\",\"20's\",\"20's\",\"20's\",\"20's\",\"30's\",\"20's\",\"20's\",\"20's\",\"20's\",\"20's\",\"20's\",\"20's\",\"30's\",\"20's\",\"20's\",\"20's\",\"20's\",\"20's\",\"30's\",\"20's\",\"20's\",\"20's\",\"20's\",\"20's\",\"20's\",\"20's\",\"20's\",\"20's\",\"20's\",\"20's\",\"20's\",\"20's\",\"30's\",\"20's\",\"20's\",\"20's\",\"20's\",\"20's\",\"20's\",\"20's\",\"20's\",\"20's\",\"20's\",\"20's\",\"20's\",\"20's\",\"20's\",\"20's\",\"20's\",\"20's\",\"20's\",\"20's\",\"20's\",\"20's\",\"20's\",\"20's\",\"20's\",\"20's\",\"20's\",\"20's\",\"20's\",\"20's\",\"20's\",\"20's\",\"20's\",\"20's\",\"20's\",\"20's\",\"20's\",\"20's\",\"20's\",\"20's\",\"20's\",\"20's\",\"20's\",\"20's\",\"20's\",\"20's\",\"20's\",\"20's\",\"20's\",\"20's\",\"20's\",\"20's\",\"20's\",\"20's\",\"20's\",\"20's\",\"20's\",\"20's\",\"20's\",\"20's\",\"20's\",\"20's\",\"20's\",\"20's\",\"20's\",\"20's\",\"20's\",\"20's\",\"20's\",\"20's\",\"20's\",\"20's\",\"20's\",\"20's\",\"20's\",\"20's\",\"20's\",\"20's\",\"20's\",\"20's\",\"20's\",\"20's\",\"30's\",\"20's\",\"20's\",\"20's\",\"20's\",\"20's\",\"20's\",\"20's\",\"30's\",\"20's\",\"20's\",\"20's\",\"20's\",\"40's\",\"20's\",\"20's\",\"Teen\",\"Teen\",\"20's\",\"20's\",\"Teen\",\"20's\",\"Teen\",\"Teen\",\"Teen\",\"20's\",\"20's\",\"Teen\",\"Teen\",\"20's\",\"40's\",\"Teen\",\"Teen\",\"20's\",\"20's\",\"30's\",\"20's\",\"20's\",\"20's\",\"Teen\",\"Teen\",\"20's\",\"Teen\",\"Teen\",\"20's\",\"Teen\",\"20's\",\"20's\",\"20's\",\"20's\",\"20's\",\"20's\",\"40's\",\"20's\",\"Teen\",\"20's\",\"Teen\",\"Teen\",\"20's\",\"Teen\",\"Teen\",\"20's\",\"Teen\",\"20's\",\"20's\",\"Teen\",\"20's\",\"Teen\",\"Teen\",\"Teen\",\"20's\",\"Teen\",\"Teen\",\"Teen\",\"Teen\",\"20's\",\"Teen\",\"20's\",\"Teen\",\"Teen\",\"Teen\",\"Teen\",\"Teen\",\"Teen\",\"Teen\",\"Teen\",\"20's\",\"Teen\",\"Teen\",\"30's\",\"20's\",\"Teen\",\"Teen\",\"Teen\",\"Teen\",\"Teen\",\"Teen\",\"20's\",\"Teen\",\"Teen\",\"20's\",\"Teen\",\"Teen\",\"20's\",\"Teen\",\"Teen\",\"Teen\",\"Teen\",\"30's\",\"Teen\",\"20's\",\"Teen\",\"Teen\",\"Teen\",\"20's\",\"Teen\",\"Teen\",\"Teen\",\"Teen\",\"Teen\",\"Teen\",\"Teen\",\"Teen\",\"Teen\",\"Teen\",\"Teen\",\"Teen\",\"Teen\",\"Teen\",\"Teen\",\"Teen\",\"Teen\",\"Teen\",\"Teen\",\"Teen\",\"Teen\",\"Teen\",\"Teen\",\"Teen\",\"Teen\",\"Teen\",\"Teen\",\"Teen\",\"Teen\",\"Teen\",\"Teen\",\"30's\",\"Teen\",\"30's\",\"40's\",\"30's\",\"Teen\",\"30's\",\"30's\",\"20's\",\"20's\",\"30's\",\"30's\",\"30's\",\"20's\",\"20's\",\"20's\",\"20's\",\"20's\",\"20's\",\"Teen\",\"20's\",\"Teen\",\"30's\",\"Teen\",\"20's\",\"20's\",\"20's\",\"20's\",\"30's\",\"30's\",\"30's\",\"30's\",\"20's\",\"30's\",\"20's\",\"20's\",\"30's\",\"Teen\",\"30's\",\"20's\",\"Teen\",\"Teen\",\"30's\",\"Teen\",\"20's\",\"30's\",\"20's\",\"20's\",\"20's\",\"Teen\",\"Teen\",\"40's\",\"Teen\",\"30's\",\"30's\",\"Teen\",\"20's\",\"20's\",\"30's\",\"30's\",\"20's\",\"Teen\",\"20's\",\"20's\",\"Teen\",\"20's\",\"Teen\",\"20's\",\"20's\",\"Teen\",\"20's\",\"20's\",\"Teen\",\"Teen\",\"Teen\",\"20's\",\"20's\",\"20's\",\"Teen\",\"30's\",\"20's\",\"30's\",\"Teen\",\"30's\",\"Teen\",\"20's\",\"40's\",\"20's\",\"20's\",\"20's\",\"30's\",\"20's\",\"20's\",\"30's\",\"20's\",\"20's\",\"20's\",\"20's\",\"20's\",\"40's\",\"30's\",\"20's\",\"20's\",\"20's\",\"20's\",\"Teen\",\"20's\",\"20's\",\"Teen\",\"30's\",\"Teen\",\"Teen\",\"20's\",\"20's\",\"30's\",\"30's\",\"Teen\",\"30's\",\"40's\",\"40's\",\"Teen\",\"20's\",\"20's\",\"Teen\",\"20's\",\"20's\",\"Teen\",\"Teen\",\"Teen\",\"20's\",\"20's\",\"20's\",\"30's\",\"20's\",\"20's\",\"20's\",\"20's\",\"30's\",\"Teen\",\"20's\",\"20's\",\"20's\",\"20's\",\"20's\",\"20's\",\"30's\",\"20's\",\"Teen\",\"Teen\",\"20's\",\"20's\",\"30's\",\"30's\",\"20's\",\"Teen\",\"Teen\",\"30's\",\"20's\",\"40's\",\"20's\",\"20's\",\"20's\",\"20's\",\"20's\",\"20's\",\"30's\",\"30's\",\"20's\",\"20's\",\"Teen\",\"30's\",\"30's\",\"20's\",\"Teen\",\"20's\",\"20's\",\"Teen\",\"20's\",\"Teen\",\"30's\",\"20's\",\"40's\",\"50's\",\"20's\",\"40's\",\"20's\",\"20's\",\"20's\",\"Teen\",\"20's\",\"Teen\",\"20's\",\"20's\",\"20's\",\"30's\",\"20's\",\"Teen\",\"70+\",\"70+\",\"30's\",\"40's\",\"50's\",\"Teen\",\"40's\",\"40's\",\"40's\",\"70+\",\"40's\",\"30's\",\"50's\",\"40's\",\"40's\",\"70+\",\"30's\",\"40's\",\"40's\",\"30's\",\"30's\",\"20's\",\"20's\",\"Teen\",\"20's\",\"Teen\",\"Teen\",\"20's\",\"20's\",\"Teen\",\"Teen\",\"20's\",\"Teen\",\"20's\",\"20's\",\"20's\",\"Teen\",\"40's\",\"40's\",\"Teen\",\"20's\",\"20's\",\"20's\",\"20's\",\"Teen\",\"20's\",\"Teen\",\"20's\",\"Teen\",\"Teen\",\"30's\",\"20's\",\"40's\",\"20's\",\"30's\",\"20's\",\"Teen\",\"30's\",\"20's\",\"20's\",\"30's\",\"30's\",\"20's\",\"40's\",\"20's\",\"20's\",\"30's\",\"30's\",\"Teen\",\"30's\",\"20's\",\"20's\",\"20's\",\"40's\",\"Teen\",\"Teen\",\"20's\",\"Teen\",\"Teen\",\"20's\",\"20's\",\"20's\",\"20's\",\"Teen\",\"40's\",\"30's\",\"20's\",\"20's\",\"30's\",\"20's\",\"20's\",\"30's\",\"Teen\",\"Teen\",\"30's\",\"Teen\",\"40's\",\"20's\",\"20's\",\"20's\",\"Teen\",\"20's\",\"20's\",\"20's\",\"30's\",\"Teen\",\"Teen\",\"40's\",\"20's\",\"Teen\",\"30's\",\"Teen\",\"30's\",\"Teen\",\"30's\",\"20's\",\"Teen\",\"20's\",\"20's\",\"20's\",\"20's\",\"30's\",\"20's\",\"20's\",\"Teen\",\"20's\",\"20's\",\"20's\",\"30's\",\"30's\",\"30's\",\"20's\",\"Teen\",\"20's\",\"30's\",\"Teen\",\"Teen\",\"20's\",\"30's\",\"Teen\",\"30's\",\"20's\",\"20's\",\"Teen\",\"Teen\",\"Teen\",\"20's\",\"Teen\",\"30's\",\"20's\",\"20's\",\"30's\",\"Teen\",\"20's\",\"30's\",\"30's\",\"30's\",\"30's\",\"40's\",\"30's\",\"30's\",\"30's\",\"30's\",\"30's\",\"40's\",\"30's\",\"30's\",\"30's\",\"20's\",\"30's\",\"30's\",\"30's\",\"30's\",\"20's\",\"20's\",\"30's\",\"30's\",\"20's\",\"Teen\",\"30's\",\"30's\",\"30's\",\"30's\",\"Teen\",\"20's\",\"40's\",\"30's\",\"30's\",\"20's\",\"30's\",\"20's\"],\"marker\":{\"colors\":[\"rgb(103,0,31)\",\"rgb(178,24,43)\",\"rgb(214,96,77)\",\"rgb(244,165,130)\",\"rgb(253,219,199)\",\"rgb(247,247,247)\",\"rgb(209,229,240)\",\"rgb(146,197,222)\",\"rgb(67,147,195)\",\"rgb(33,102,172)\",\"rgb(5,48,97)\"]},\"name\":\"Cancer\",\"values\":[\"Teen\",\"Teen\",\"30's\",\"50's\",\"40's\",\"40's\",\"50's\",\"20's\",\"40's\",\"40's\",\"40's\",\"20's\",\"40's\",\"40's\",\"40's\",\"40's\",\"40's\",\"40's\",\"40's\",\"40's\",\"40's\",\"40's\",\"40's\",\"40's\",\"40's\",\"40's\",\"30's\",\"30's\",\"30's\",\"30's\",\"40's\",\"40's\",\"30's\",\"30's\",\"30's\",\"30's\",\"30's\",\"30's\",\"30's\",\"30's\",\"30's\",\"30's\",\"30's\",\"30's\",\"30's\",\"30's\",\"30's\",\"40's\",\"40's\",\"30's\",\"30's\",\"30's\",\"30's\",\"30's\",\"30's\",\"40's\",\"30's\",\"30's\",\"30's\",\"30's\",\"30's\",\"30's\",\"30's\",\"30's\",\"30's\",\"30's\",\"30's\",\"30's\",\"30's\",\"30's\",\"30's\",\"30's\",\"30's\",\"30's\",\"30's\",\"30's\",\"30's\",\"30's\",\"30's\",\"30's\",\"30's\",\"30's\",\"30's\",\"30's\",\"30's\",\"30's\",\"30's\",\"30's\",\"30's\",\"30's\",\"30's\",\"30's\",\"30's\",\"30's\",\"30's\",\"30's\",\"30's\",\"30's\",\"30's\",\"30's\",\"30's\",\"30's\",\"30's\",\"30's\",\"30's\",\"30's\",\"30's\",\"30's\",\"30's\",\"30's\",\"30's\",\"30's\",\"30's\",\"20's\",\"30's\",\"30's\",\"30's\",\"30's\",\"30's\",\"20's\",\"30's\",\"30's\",\"30's\",\"20's\",\"30's\",\"30's\",\"30's\",\"20's\",\"20's\",\"30's\",\"20's\",\"30's\",\"30's\",\"30's\",\"30's\",\"20's\",\"30's\",\"20's\",\"20's\",\"30's\",\"30's\",\"20's\",\"30's\",\"20's\",\"30's\",\"30's\",\"30's\",\"20's\",\"30's\",\"30's\",\"20's\",\"30's\",\"20's\",\"20's\",\"20's\",\"20's\",\"20's\",\"20's\",\"30's\",\"20's\",\"20's\",\"20's\",\"20's\",\"20's\",\"20's\",\"30's\",\"20's\",\"20's\",\"20's\",\"Teen\",\"20's\",\"20's\",\"20's\",\"20's\",\"20's\",\"20's\",\"20's\",\"20's\",\"20's\",\"30's\",\"20's\",\"20's\",\"20's\",\"20's\",\"20's\",\"20's\",\"20's\",\"20's\",\"20's\",\"20's\",\"20's\",\"20's\",\"20's\",\"20's\",\"20's\",\"20's\",\"20's\",\"20's\",\"20's\",\"20's\",\"20's\",\"20's\",\"20's\",\"20's\",\"20's\",\"20's\",\"20's\",\"20's\",\"20's\",\"20's\",\"20's\",\"20's\",\"20's\",\"20's\",\"30's\",\"20's\",\"20's\",\"20's\",\"20's\",\"20's\",\"20's\",\"20's\",\"30's\",\"20's\",\"20's\",\"20's\",\"20's\",\"20's\",\"30's\",\"20's\",\"20's\",\"20's\",\"20's\",\"20's\",\"20's\",\"20's\",\"20's\",\"20's\",\"20's\",\"20's\",\"20's\",\"20's\",\"30's\",\"20's\",\"20's\",\"20's\",\"20's\",\"20's\",\"20's\",\"20's\",\"20's\",\"20's\",\"20's\",\"20's\",\"20's\",\"20's\",\"20's\",\"20's\",\"20's\",\"20's\",\"20's\",\"20's\",\"20's\",\"20's\",\"20's\",\"20's\",\"20's\",\"20's\",\"20's\",\"20's\",\"20's\",\"20's\",\"20's\",\"20's\",\"20's\",\"20's\",\"20's\",\"20's\",\"20's\",\"20's\",\"20's\",\"20's\",\"20's\",\"20's\",\"20's\",\"20's\",\"20's\",\"20's\",\"20's\",\"20's\",\"20's\",\"20's\",\"20's\",\"20's\",\"20's\",\"20's\",\"20's\",\"20's\",\"20's\",\"20's\",\"20's\",\"20's\",\"20's\",\"20's\",\"20's\",\"20's\",\"20's\",\"20's\",\"20's\",\"20's\",\"20's\",\"20's\",\"20's\",\"20's\",\"20's\",\"20's\",\"20's\",\"20's\",\"20's\",\"20's\",\"20's\",\"20's\",\"20's\",\"20's\",\"30's\",\"20's\",\"20's\",\"20's\",\"20's\",\"20's\",\"20's\",\"20's\",\"30's\",\"20's\",\"20's\",\"20's\",\"20's\",\"40's\",\"20's\",\"20's\",\"Teen\",\"Teen\",\"20's\",\"20's\",\"Teen\",\"20's\",\"Teen\",\"Teen\",\"Teen\",\"20's\",\"20's\",\"Teen\",\"Teen\",\"20's\",\"40's\",\"Teen\",\"Teen\",\"20's\",\"20's\",\"30's\",\"20's\",\"20's\",\"20's\",\"Teen\",\"Teen\",\"20's\",\"Teen\",\"Teen\",\"20's\",\"Teen\",\"20's\",\"20's\",\"20's\",\"20's\",\"20's\",\"20's\",\"40's\",\"20's\",\"Teen\",\"20's\",\"Teen\",\"Teen\",\"20's\",\"Teen\",\"Teen\",\"20's\",\"Teen\",\"20's\",\"20's\",\"Teen\",\"20's\",\"Teen\",\"Teen\",\"Teen\",\"20's\",\"Teen\",\"Teen\",\"Teen\",\"Teen\",\"20's\",\"Teen\",\"20's\",\"Teen\",\"Teen\",\"Teen\",\"Teen\",\"Teen\",\"Teen\",\"Teen\",\"Teen\",\"20's\",\"Teen\",\"Teen\",\"30's\",\"20's\",\"Teen\",\"Teen\",\"Teen\",\"Teen\",\"Teen\",\"Teen\",\"20's\",\"Teen\",\"Teen\",\"20's\",\"Teen\",\"Teen\",\"20's\",\"Teen\",\"Teen\",\"Teen\",\"Teen\",\"30's\",\"Teen\",\"20's\",\"Teen\",\"Teen\",\"Teen\",\"20's\",\"Teen\",\"Teen\",\"Teen\",\"Teen\",\"Teen\",\"Teen\",\"Teen\",\"Teen\",\"Teen\",\"Teen\",\"Teen\",\"Teen\",\"Teen\",\"Teen\",\"Teen\",\"Teen\",\"Teen\",\"Teen\",\"Teen\",\"Teen\",\"Teen\",\"Teen\",\"Teen\",\"Teen\",\"Teen\",\"Teen\",\"Teen\",\"Teen\",\"Teen\",\"Teen\",\"Teen\",\"30's\",\"Teen\",\"30's\",\"40's\",\"30's\",\"Teen\",\"30's\",\"30's\",\"20's\",\"20's\",\"30's\",\"30's\",\"30's\",\"20's\",\"20's\",\"20's\",\"20's\",\"20's\",\"20's\",\"Teen\",\"20's\",\"Teen\",\"30's\",\"Teen\",\"20's\",\"20's\",\"20's\",\"20's\",\"30's\",\"30's\",\"30's\",\"30's\",\"20's\",\"30's\",\"20's\",\"20's\",\"30's\",\"Teen\",\"30's\",\"20's\",\"Teen\",\"Teen\",\"30's\",\"Teen\",\"20's\",\"30's\",\"20's\",\"20's\",\"20's\",\"Teen\",\"Teen\",\"40's\",\"Teen\",\"30's\",\"30's\",\"Teen\",\"20's\",\"20's\",\"30's\",\"30's\",\"20's\",\"Teen\",\"20's\",\"20's\",\"Teen\",\"20's\",\"Teen\",\"20's\",\"20's\",\"Teen\",\"20's\",\"20's\",\"Teen\",\"Teen\",\"Teen\",\"20's\",\"20's\",\"20's\",\"Teen\",\"30's\",\"20's\",\"30's\",\"Teen\",\"30's\",\"Teen\",\"20's\",\"40's\",\"20's\",\"20's\",\"20's\",\"30's\",\"20's\",\"20's\",\"30's\",\"20's\",\"20's\",\"20's\",\"20's\",\"20's\",\"40's\",\"30's\",\"20's\",\"20's\",\"20's\",\"20's\",\"Teen\",\"20's\",\"20's\",\"Teen\",\"30's\",\"Teen\",\"Teen\",\"20's\",\"20's\",\"30's\",\"30's\",\"Teen\",\"30's\",\"40's\",\"40's\",\"Teen\",\"20's\",\"20's\",\"Teen\",\"20's\",\"20's\",\"Teen\",\"Teen\",\"Teen\",\"20's\",\"20's\",\"20's\",\"30's\",\"20's\",\"20's\",\"20's\",\"20's\",\"30's\",\"Teen\",\"20's\",\"20's\",\"20's\",\"20's\",\"20's\",\"20's\",\"30's\",\"20's\",\"Teen\",\"Teen\",\"20's\",\"20's\",\"30's\",\"30's\",\"20's\",\"Teen\",\"Teen\",\"30's\",\"20's\",\"40's\",\"20's\",\"20's\",\"20's\",\"20's\",\"20's\",\"20's\",\"30's\",\"30's\",\"20's\",\"20's\",\"Teen\",\"30's\",\"30's\",\"20's\",\"Teen\",\"20's\",\"20's\",\"Teen\",\"20's\",\"Teen\",\"30's\",\"20's\",\"40's\",\"50's\",\"20's\",\"40's\",\"20's\",\"20's\",\"20's\",\"Teen\",\"20's\",\"Teen\",\"20's\",\"20's\",\"20's\",\"30's\",\"20's\",\"Teen\",\"70+\",\"70+\",\"30's\",\"40's\",\"50's\",\"Teen\",\"40's\",\"40's\",\"40's\",\"70+\",\"40's\",\"30's\",\"50's\",\"40's\",\"40's\",\"70+\",\"30's\",\"40's\",\"40's\",\"30's\",\"30's\",\"20's\",\"20's\",\"Teen\",\"20's\",\"Teen\",\"Teen\",\"20's\",\"20's\",\"Teen\",\"Teen\",\"20's\",\"Teen\",\"20's\",\"20's\",\"20's\",\"Teen\",\"40's\",\"40's\",\"Teen\",\"20's\",\"20's\",\"20's\",\"20's\",\"Teen\",\"20's\",\"Teen\",\"20's\",\"Teen\",\"Teen\",\"30's\",\"20's\",\"40's\",\"20's\",\"30's\",\"20's\",\"Teen\",\"30's\",\"20's\",\"20's\",\"30's\",\"30's\",\"20's\",\"40's\",\"20's\",\"20's\",\"30's\",\"30's\",\"Teen\",\"30's\",\"20's\",\"20's\",\"20's\",\"40's\",\"Teen\",\"Teen\",\"20's\",\"Teen\",\"Teen\",\"20's\",\"20's\",\"20's\",\"20's\",\"Teen\",\"40's\",\"30's\",\"20's\",\"20's\",\"30's\",\"20's\",\"20's\",\"30's\",\"Teen\",\"Teen\",\"30's\",\"Teen\",\"40's\",\"20's\",\"20's\",\"20's\",\"Teen\",\"20's\",\"20's\",\"20's\",\"30's\",\"Teen\",\"Teen\",\"40's\",\"20's\",\"Teen\",\"30's\",\"Teen\",\"30's\",\"Teen\",\"30's\",\"20's\",\"Teen\",\"20's\",\"20's\",\"20's\",\"20's\",\"30's\",\"20's\",\"20's\",\"Teen\",\"20's\",\"20's\",\"20's\",\"30's\",\"30's\",\"30's\",\"20's\",\"Teen\",\"20's\",\"30's\",\"Teen\",\"Teen\",\"20's\",\"30's\",\"Teen\",\"30's\",\"20's\",\"20's\",\"Teen\",\"Teen\",\"Teen\",\"20's\",\"Teen\",\"30's\",\"20's\",\"20's\",\"30's\",\"Teen\",\"20's\",\"30's\",\"30's\",\"30's\",\"30's\",\"40's\",\"30's\",\"30's\",\"30's\",\"30's\",\"30's\",\"40's\",\"30's\",\"30's\",\"30's\",\"20's\",\"30's\",\"30's\",\"30's\",\"30's\",\"20's\",\"20's\",\"30's\",\"30's\",\"20's\",\"Teen\",\"30's\",\"30's\",\"30's\",\"30's\",\"Teen\",\"20's\",\"40's\",\"30's\",\"30's\",\"20's\",\"30's\",\"20's\"],\"type\":\"pie\",\"domain\":{\"x\":[0.0,0.45],\"y\":[0.0,1.0]},\"hole\":0.0,\"hoverinfo\":\"label+percent+name\"},{\"labels\":[\"Teen\",\"Teen\",\"30's\",\"50's\",\"40's\",\"40's\",\"50's\",\"20's\",\"40's\",\"40's\",\"40's\",\"20's\",\"40's\",\"40's\",\"40's\",\"40's\",\"40's\",\"40's\",\"40's\",\"40's\",\"40's\",\"40's\",\"40's\",\"40's\",\"40's\",\"40's\",\"30's\",\"30's\",\"30's\",\"30's\",\"40's\",\"40's\",\"30's\",\"30's\",\"30's\",\"30's\",\"30's\",\"30's\",\"30's\",\"30's\",\"30's\",\"30's\",\"30's\",\"30's\",\"30's\",\"30's\",\"30's\",\"40's\",\"40's\",\"30's\",\"30's\",\"30's\",\"30's\",\"30's\",\"30's\",\"40's\",\"30's\",\"30's\",\"30's\",\"30's\",\"30's\",\"30's\",\"30's\",\"30's\",\"30's\",\"30's\",\"30's\",\"30's\",\"30's\",\"30's\",\"30's\",\"30's\",\"30's\",\"30's\",\"30's\",\"30's\",\"30's\",\"30's\",\"30's\",\"30's\",\"30's\",\"30's\",\"30's\",\"30's\",\"30's\",\"30's\",\"30's\",\"30's\",\"30's\",\"30's\",\"30's\",\"30's\",\"30's\",\"30's\",\"30's\",\"30's\",\"30's\",\"30's\",\"30's\",\"30's\",\"30's\",\"30's\",\"30's\",\"30's\",\"30's\",\"30's\",\"30's\",\"30's\",\"30's\",\"30's\",\"30's\",\"30's\",\"30's\",\"20's\",\"30's\",\"30's\",\"30's\",\"30's\",\"30's\",\"20's\",\"30's\",\"30's\",\"30's\",\"20's\",\"30's\",\"30's\",\"30's\",\"20's\",\"20's\",\"30's\",\"20's\",\"30's\",\"30's\",\"30's\",\"30's\",\"20's\",\"30's\",\"20's\",\"20's\",\"30's\",\"30's\",\"20's\",\"30's\",\"20's\",\"30's\",\"30's\",\"30's\",\"20's\",\"30's\",\"30's\",\"20's\",\"30's\",\"20's\",\"20's\",\"20's\",\"20's\",\"20's\",\"20's\",\"30's\",\"20's\",\"20's\",\"20's\",\"20's\",\"20's\",\"20's\",\"30's\",\"20's\",\"20's\",\"20's\",\"Teen\",\"20's\",\"20's\",\"20's\",\"20's\",\"20's\",\"20's\",\"20's\",\"20's\",\"20's\",\"30's\",\"20's\",\"20's\",\"20's\",\"20's\",\"20's\",\"20's\",\"20's\",\"20's\",\"20's\",\"20's\",\"20's\",\"20's\",\"20's\",\"20's\",\"20's\",\"20's\",\"20's\",\"20's\",\"20's\",\"20's\",\"20's\",\"20's\",\"20's\",\"20's\",\"20's\",\"20's\",\"20's\",\"20's\",\"20's\",\"20's\",\"20's\",\"20's\",\"20's\",\"20's\",\"30's\",\"20's\",\"20's\",\"20's\",\"20's\",\"20's\",\"20's\",\"20's\",\"30's\",\"20's\",\"20's\",\"20's\",\"20's\",\"20's\",\"30's\",\"20's\",\"20's\",\"20's\",\"20's\",\"20's\",\"20's\",\"20's\",\"20's\",\"20's\",\"20's\",\"20's\",\"20's\",\"20's\",\"30's\",\"20's\",\"20's\",\"20's\",\"20's\",\"20's\",\"20's\",\"20's\",\"20's\",\"20's\",\"20's\",\"20's\",\"20's\",\"20's\",\"20's\",\"20's\",\"20's\",\"20's\",\"20's\",\"20's\",\"20's\",\"20's\",\"20's\",\"20's\",\"20's\",\"20's\",\"20's\",\"20's\",\"20's\",\"20's\",\"20's\",\"20's\",\"20's\",\"20's\",\"20's\",\"20's\",\"20's\",\"20's\",\"20's\",\"20's\",\"20's\",\"20's\",\"20's\",\"20's\",\"20's\",\"20's\",\"20's\",\"20's\",\"20's\",\"20's\",\"20's\",\"20's\",\"20's\",\"20's\",\"20's\",\"20's\",\"20's\",\"20's\",\"20's\",\"20's\",\"20's\",\"20's\",\"20's\",\"20's\",\"20's\",\"20's\",\"20's\",\"20's\",\"20's\",\"20's\",\"20's\",\"20's\",\"20's\",\"20's\",\"20's\",\"20's\",\"20's\",\"20's\",\"20's\",\"20's\",\"20's\",\"20's\",\"30's\",\"20's\",\"20's\",\"20's\",\"20's\",\"20's\",\"20's\",\"20's\",\"30's\",\"20's\",\"20's\",\"20's\",\"20's\",\"40's\",\"20's\",\"20's\",\"Teen\",\"Teen\",\"20's\",\"20's\",\"Teen\",\"20's\",\"Teen\",\"Teen\",\"Teen\",\"20's\",\"20's\",\"Teen\",\"Teen\",\"20's\",\"40's\",\"Teen\",\"Teen\",\"20's\",\"20's\",\"30's\",\"20's\",\"20's\",\"20's\",\"Teen\",\"Teen\",\"20's\",\"Teen\",\"Teen\",\"20's\",\"Teen\",\"20's\",\"20's\",\"20's\",\"20's\",\"20's\",\"20's\",\"40's\",\"20's\",\"Teen\",\"20's\",\"Teen\",\"Teen\",\"20's\",\"Teen\",\"Teen\",\"20's\",\"Teen\",\"20's\",\"20's\",\"Teen\",\"20's\",\"Teen\",\"Teen\",\"Teen\",\"20's\",\"Teen\",\"Teen\",\"Teen\",\"Teen\",\"20's\",\"Teen\",\"20's\",\"Teen\",\"Teen\",\"Teen\",\"Teen\",\"Teen\",\"Teen\",\"Teen\",\"Teen\",\"20's\",\"Teen\",\"Teen\",\"30's\",\"20's\",\"Teen\",\"Teen\",\"Teen\",\"Teen\",\"Teen\",\"Teen\",\"20's\",\"Teen\",\"Teen\",\"20's\",\"Teen\",\"Teen\",\"20's\",\"Teen\",\"Teen\",\"Teen\",\"Teen\",\"30's\",\"Teen\",\"20's\",\"Teen\",\"Teen\",\"Teen\",\"20's\",\"Teen\",\"Teen\",\"Teen\",\"Teen\",\"Teen\",\"Teen\",\"Teen\",\"Teen\",\"Teen\",\"Teen\",\"Teen\",\"Teen\",\"Teen\",\"Teen\",\"Teen\",\"Teen\",\"Teen\",\"Teen\",\"Teen\",\"Teen\",\"Teen\",\"Teen\",\"Teen\",\"Teen\",\"Teen\",\"Teen\",\"Teen\",\"Teen\",\"Teen\",\"Teen\",\"Teen\",\"30's\",\"Teen\",\"30's\",\"40's\",\"30's\",\"Teen\",\"30's\",\"30's\",\"20's\",\"20's\",\"30's\",\"30's\",\"30's\",\"20's\",\"20's\",\"20's\",\"20's\",\"20's\",\"20's\",\"Teen\",\"20's\",\"Teen\",\"30's\",\"Teen\",\"20's\",\"20's\",\"20's\",\"20's\",\"30's\",\"30's\",\"30's\",\"30's\",\"20's\",\"30's\",\"20's\",\"20's\",\"30's\",\"Teen\",\"30's\",\"20's\",\"Teen\",\"Teen\",\"30's\",\"Teen\",\"20's\",\"30's\",\"20's\",\"20's\",\"20's\",\"Teen\",\"Teen\",\"40's\",\"Teen\",\"30's\",\"30's\",\"Teen\",\"20's\",\"20's\",\"30's\",\"30's\",\"20's\",\"Teen\",\"20's\",\"20's\",\"Teen\",\"20's\",\"Teen\",\"20's\",\"20's\",\"Teen\",\"20's\",\"20's\",\"Teen\",\"Teen\",\"Teen\",\"20's\",\"20's\",\"20's\",\"Teen\",\"30's\",\"20's\",\"30's\",\"Teen\",\"30's\",\"Teen\",\"20's\",\"40's\",\"20's\",\"20's\",\"20's\",\"30's\",\"20's\",\"20's\",\"30's\",\"20's\",\"20's\",\"20's\",\"20's\",\"20's\",\"40's\",\"30's\",\"20's\",\"20's\",\"20's\",\"20's\",\"Teen\",\"20's\",\"20's\",\"Teen\",\"30's\",\"Teen\",\"Teen\",\"20's\",\"20's\",\"30's\",\"30's\",\"Teen\",\"30's\",\"40's\",\"40's\",\"Teen\",\"20's\",\"20's\",\"Teen\",\"20's\",\"20's\",\"Teen\",\"Teen\",\"Teen\",\"20's\",\"20's\",\"20's\",\"30's\",\"20's\",\"20's\",\"20's\",\"20's\",\"30's\",\"Teen\",\"20's\",\"20's\",\"20's\",\"20's\",\"20's\",\"20's\",\"30's\",\"20's\",\"Teen\",\"Teen\",\"20's\",\"20's\",\"30's\",\"30's\",\"20's\",\"Teen\",\"Teen\",\"30's\",\"20's\",\"40's\",\"20's\",\"20's\",\"20's\",\"20's\",\"20's\",\"20's\",\"30's\",\"30's\",\"20's\",\"20's\",\"Teen\",\"30's\",\"30's\",\"20's\",\"Teen\",\"20's\",\"20's\",\"Teen\",\"20's\",\"Teen\",\"30's\",\"20's\",\"40's\",\"50's\",\"20's\",\"40's\",\"20's\",\"20's\",\"20's\",\"Teen\",\"20's\",\"Teen\",\"20's\",\"20's\",\"20's\",\"30's\",\"20's\",\"Teen\",\"70+\",\"70+\",\"30's\",\"40's\",\"50's\",\"Teen\",\"40's\",\"40's\",\"40's\",\"70+\",\"40's\",\"30's\",\"50's\",\"40's\",\"40's\",\"70+\",\"30's\",\"40's\",\"40's\",\"30's\",\"30's\",\"20's\",\"20's\",\"Teen\",\"20's\",\"Teen\",\"Teen\",\"20's\",\"20's\",\"Teen\",\"Teen\",\"20's\",\"Teen\",\"20's\",\"20's\",\"20's\",\"Teen\",\"40's\",\"40's\",\"Teen\",\"20's\",\"20's\",\"20's\",\"20's\",\"Teen\",\"20's\",\"Teen\",\"20's\",\"Teen\",\"Teen\",\"30's\",\"20's\",\"40's\",\"20's\",\"30's\",\"20's\",\"Teen\",\"30's\",\"20's\",\"20's\",\"30's\",\"30's\",\"20's\",\"40's\",\"20's\",\"20's\",\"30's\",\"30's\",\"Teen\",\"30's\",\"20's\",\"20's\",\"20's\",\"40's\",\"Teen\",\"Teen\",\"20's\",\"Teen\",\"Teen\",\"20's\",\"20's\",\"20's\",\"20's\",\"Teen\",\"40's\",\"30's\",\"20's\",\"20's\",\"30's\",\"20's\",\"20's\",\"30's\",\"Teen\",\"Teen\",\"30's\",\"Teen\",\"40's\",\"20's\",\"20's\",\"20's\",\"Teen\",\"20's\",\"20's\",\"20's\",\"30's\",\"Teen\",\"Teen\",\"40's\",\"20's\",\"Teen\",\"30's\",\"Teen\",\"30's\",\"Teen\",\"30's\",\"20's\",\"Teen\",\"20's\",\"20's\",\"20's\",\"20's\",\"30's\",\"20's\",\"20's\",\"Teen\",\"20's\",\"20's\",\"20's\",\"30's\",\"30's\",\"30's\",\"20's\",\"Teen\",\"20's\",\"30's\",\"Teen\",\"Teen\",\"20's\",\"30's\",\"Teen\",\"30's\",\"20's\",\"20's\",\"Teen\",\"Teen\",\"Teen\",\"20's\",\"Teen\",\"30's\",\"20's\",\"20's\",\"30's\",\"Teen\",\"20's\",\"30's\",\"30's\",\"30's\",\"30's\",\"40's\",\"30's\",\"30's\",\"30's\",\"30's\",\"30's\",\"40's\",\"30's\",\"30's\",\"30's\",\"20's\",\"30's\",\"30's\",\"30's\",\"30's\",\"20's\",\"20's\",\"30's\",\"30's\",\"20's\",\"Teen\",\"30's\",\"30's\",\"30's\",\"30's\",\"Teen\",\"20's\",\"40's\",\"30's\",\"30's\",\"20's\",\"30's\",\"20's\"],\"marker\":{\"colors\":[\"rgb(103,0,31)\",\"rgb(178,24,43)\",\"rgb(214,96,77)\",\"rgb(244,165,130)\",\"rgb(253,219,199)\",\"rgb(247,247,247)\",\"rgb(209,229,240)\",\"rgb(146,197,222)\",\"rgb(67,147,195)\",\"rgb(33,102,172)\",\"rgb(5,48,97)\"]},\"name\":\"HPV\",\"values\":[0,0,0,1,0,0,0,0,1,0,0,0,0,0,0,0,0,0,0,0,0,0,0,1,0,0,0,0,0,0,0,0,0,0,0,0,0,0,0,0,0,0,0,0,0,0,0,0,0,0,0,0,0,0,0,0,0,0,0,0,0,0,0,0,1,0,0,0,0,0,0,0,0,0,0,0,0,0,0,0,0,0,0,0,0,0,0,0,0,0,0,0,0,0,0,0,0,0,0,0,0,0,0,0,0,0,0,0,0,1,0,0,0,0,0,0,0,0,0,0,0,0,0,0,0,0,0,0,0,0,0,0,0,0,0,0,0,0,0,0,0,0,0,0,0,0,0,0,0,0,0,0,0,0,0,0,0,0,0,0,0,0,0,0,0,0,0,0,0,0,0,0,0,0,0,0,0,0,0,0,0,0,0,0,0,0,0,0,1,0,0,0,0,0,0,0,0,0,0,0,0,0,0,0,0,0,0,0,0,0,0,0,0,0,0,0,0,0,0,0,0,0,0,0,0,0,0,0,0,0,0,0,0,0,0,0,0,0,0,0,0,0,0,0,0,0,0,0,0,0,0,0,0,0,0,0,0,0,0,0,0,0,0,0,0,0,0,0,0,0,0,0,0,0,0,0,0,0,0,0,0,0,0,0,0,0,0,0,0,0,0,0,0,0,0,0,0,0,0,0,0,0,0,0,0,0,0,0,0,0,0,0,0,0,0,0,0,0,0,0,0,0,0,0,0,0,0,0,0,0,0,0,0,0,0,1,0,0,0,0,0,0,0,0,0,0,0,0,0,0,0,0,0,0,0,0,0,0,0,0,0,0,0,0,0,0,0,0,0,0,0,0,1,0,0,0,0,0,0,0,0,0,0,0,0,0,0,0,0,0,0,0,0,0,0,0,0,0,0,0,0,0,0,0,0,0,0,0,0,0,0,0,0,0,0,0,0,0,0,0,0,0,0,0,0,0,0,0,0,0,0,0,0,0,0,0,0,0,0,0,0,0,0,0,0,0,0,0,0,0,0,0,0,0,0,0,0,0,0,0,0,0,0,0,0,0,0,0,0,0,0,0,0,0,0,0,0,0,0,0,0,0,0,0,0,0,0,0,0,0,0,0,0,0,0,0,0,0,0,0,0,0,0,0,0,0,0,0,0,0,0,0,0,0,0,0,0,0,0,0,0,0,0,0,0,0,0,0,0,0,0,0,0,0,0,0,0,0,0,0,0,0,0,0,0,0,0,0,0,0,0,0,0,0,0,0,0,0,0,0,0,0,0,0,0,0,0,0,0,0,0,0,0,0,0,0,0,0,1,0,0,0,0,0,0,0,0,0,0,0,0,0,0,0,0,0,0,0,0,0,0,0,0,0,0,0,0,0,0,0,1,0,0,0,0,0,0,0,0,0,0,0,0,0,0,0,0,0,0,0,0,0,0,0,0,0,0,0,0,0,0,0,0,0,0,0,0,0,0,0,0,0,0,0,0,0,0,0,0,0,0,0,0,0,0,0,0,0,0,1,0,0,0,0,0,0,0,0,0,0,0,0,0,0,0,0,0,0,0,0,0,0,0,0,0,0,0,0,0,0,0,0,0,0,0,0,0,0,0,0,0,0,0,0,0,0,0,0,0,0,0,0,0,0,0,0,0,1,0,0,0,0,0,0,0,0,0,0,1,0,0,0,0,0,0,0,0,0,0,0,0,0,0,0,0,0,0,0,0,0,0,0,0,1,0,0,0,0,0,0,0,0,0,0,0,1,0,0,0,0,0,0,0,0,0,0,0,0,0,0,0,0,0,0,0,0,0,1,0,0,0,0,0,0,0,0,0,0,0,0,0,0,0,0,0,0,0,0,0,0,0,0,1,0,0,0,0,0,0,0,0,0,0,0,0,0,0,0,0,0,0,0,0,0,0,0,0,0,0,1,0,0,0,0,0,0,0,0],\"type\":\"pie\",\"domain\":{\"x\":[0.55,1.0],\"y\":[0.0,1.0]},\"hole\":0.0,\"hoverinfo\":\"label+percent+name\"}],                        {\"template\":{\"data\":{\"histogram2dcontour\":[{\"type\":\"histogram2dcontour\",\"colorbar\":{\"outlinewidth\":0,\"ticks\":\"\"},\"colorscale\":[[0.0,\"#0d0887\"],[0.1111111111111111,\"#46039f\"],[0.2222222222222222,\"#7201a8\"],[0.3333333333333333,\"#9c179e\"],[0.4444444444444444,\"#bd3786\"],[0.5555555555555556,\"#d8576b\"],[0.6666666666666666,\"#ed7953\"],[0.7777777777777778,\"#fb9f3a\"],[0.8888888888888888,\"#fdca26\"],[1.0,\"#f0f921\"]]}],\"choropleth\":[{\"type\":\"choropleth\",\"colorbar\":{\"outlinewidth\":0,\"ticks\":\"\"}}],\"histogram2d\":[{\"type\":\"histogram2d\",\"colorbar\":{\"outlinewidth\":0,\"ticks\":\"\"},\"colorscale\":[[0.0,\"#0d0887\"],[0.1111111111111111,\"#46039f\"],[0.2222222222222222,\"#7201a8\"],[0.3333333333333333,\"#9c179e\"],[0.4444444444444444,\"#bd3786\"],[0.5555555555555556,\"#d8576b\"],[0.6666666666666666,\"#ed7953\"],[0.7777777777777778,\"#fb9f3a\"],[0.8888888888888888,\"#fdca26\"],[1.0,\"#f0f921\"]]}],\"heatmap\":[{\"type\":\"heatmap\",\"colorbar\":{\"outlinewidth\":0,\"ticks\":\"\"},\"colorscale\":[[0.0,\"#0d0887\"],[0.1111111111111111,\"#46039f\"],[0.2222222222222222,\"#7201a8\"],[0.3333333333333333,\"#9c179e\"],[0.4444444444444444,\"#bd3786\"],[0.5555555555555556,\"#d8576b\"],[0.6666666666666666,\"#ed7953\"],[0.7777777777777778,\"#fb9f3a\"],[0.8888888888888888,\"#fdca26\"],[1.0,\"#f0f921\"]]}],\"heatmapgl\":[{\"type\":\"heatmapgl\",\"colorbar\":{\"outlinewidth\":0,\"ticks\":\"\"},\"colorscale\":[[0.0,\"#0d0887\"],[0.1111111111111111,\"#46039f\"],[0.2222222222222222,\"#7201a8\"],[0.3333333333333333,\"#9c179e\"],[0.4444444444444444,\"#bd3786\"],[0.5555555555555556,\"#d8576b\"],[0.6666666666666666,\"#ed7953\"],[0.7777777777777778,\"#fb9f3a\"],[0.8888888888888888,\"#fdca26\"],[1.0,\"#f0f921\"]]}],\"contourcarpet\":[{\"type\":\"contourcarpet\",\"colorbar\":{\"outlinewidth\":0,\"ticks\":\"\"}}],\"contour\":[{\"type\":\"contour\",\"colorbar\":{\"outlinewidth\":0,\"ticks\":\"\"},\"colorscale\":[[0.0,\"#0d0887\"],[0.1111111111111111,\"#46039f\"],[0.2222222222222222,\"#7201a8\"],[0.3333333333333333,\"#9c179e\"],[0.4444444444444444,\"#bd3786\"],[0.5555555555555556,\"#d8576b\"],[0.6666666666666666,\"#ed7953\"],[0.7777777777777778,\"#fb9f3a\"],[0.8888888888888888,\"#fdca26\"],[1.0,\"#f0f921\"]]}],\"surface\":[{\"type\":\"surface\",\"colorbar\":{\"outlinewidth\":0,\"ticks\":\"\"},\"colorscale\":[[0.0,\"#0d0887\"],[0.1111111111111111,\"#46039f\"],[0.2222222222222222,\"#7201a8\"],[0.3333333333333333,\"#9c179e\"],[0.4444444444444444,\"#bd3786\"],[0.5555555555555556,\"#d8576b\"],[0.6666666666666666,\"#ed7953\"],[0.7777777777777778,\"#fb9f3a\"],[0.8888888888888888,\"#fdca26\"],[1.0,\"#f0f921\"]]}],\"mesh3d\":[{\"type\":\"mesh3d\",\"colorbar\":{\"outlinewidth\":0,\"ticks\":\"\"}}],\"scatter\":[{\"fillpattern\":{\"fillmode\":\"overlay\",\"size\":10,\"solidity\":0.2},\"type\":\"scatter\"}],\"parcoords\":[{\"type\":\"parcoords\",\"line\":{\"colorbar\":{\"outlinewidth\":0,\"ticks\":\"\"}}}],\"scatterpolargl\":[{\"type\":\"scatterpolargl\",\"marker\":{\"colorbar\":{\"outlinewidth\":0,\"ticks\":\"\"}}}],\"bar\":[{\"error_x\":{\"color\":\"#2a3f5f\"},\"error_y\":{\"color\":\"#2a3f5f\"},\"marker\":{\"line\":{\"color\":\"#E5ECF6\",\"width\":0.5},\"pattern\":{\"fillmode\":\"overlay\",\"size\":10,\"solidity\":0.2}},\"type\":\"bar\"}],\"scattergeo\":[{\"type\":\"scattergeo\",\"marker\":{\"colorbar\":{\"outlinewidth\":0,\"ticks\":\"\"}}}],\"scatterpolar\":[{\"type\":\"scatterpolar\",\"marker\":{\"colorbar\":{\"outlinewidth\":0,\"ticks\":\"\"}}}],\"histogram\":[{\"marker\":{\"pattern\":{\"fillmode\":\"overlay\",\"size\":10,\"solidity\":0.2}},\"type\":\"histogram\"}],\"scattergl\":[{\"type\":\"scattergl\",\"marker\":{\"colorbar\":{\"outlinewidth\":0,\"ticks\":\"\"}}}],\"scatter3d\":[{\"type\":\"scatter3d\",\"line\":{\"colorbar\":{\"outlinewidth\":0,\"ticks\":\"\"}},\"marker\":{\"colorbar\":{\"outlinewidth\":0,\"ticks\":\"\"}}}],\"scattermapbox\":[{\"type\":\"scattermapbox\",\"marker\":{\"colorbar\":{\"outlinewidth\":0,\"ticks\":\"\"}}}],\"scatterternary\":[{\"type\":\"scatterternary\",\"marker\":{\"colorbar\":{\"outlinewidth\":0,\"ticks\":\"\"}}}],\"scattercarpet\":[{\"type\":\"scattercarpet\",\"marker\":{\"colorbar\":{\"outlinewidth\":0,\"ticks\":\"\"}}}],\"carpet\":[{\"aaxis\":{\"endlinecolor\":\"#2a3f5f\",\"gridcolor\":\"white\",\"linecolor\":\"white\",\"minorgridcolor\":\"white\",\"startlinecolor\":\"#2a3f5f\"},\"baxis\":{\"endlinecolor\":\"#2a3f5f\",\"gridcolor\":\"white\",\"linecolor\":\"white\",\"minorgridcolor\":\"white\",\"startlinecolor\":\"#2a3f5f\"},\"type\":\"carpet\"}],\"table\":[{\"cells\":{\"fill\":{\"color\":\"#EBF0F8\"},\"line\":{\"color\":\"white\"}},\"header\":{\"fill\":{\"color\":\"#C8D4E3\"},\"line\":{\"color\":\"white\"}},\"type\":\"table\"}],\"barpolar\":[{\"marker\":{\"line\":{\"color\":\"#E5ECF6\",\"width\":0.5},\"pattern\":{\"fillmode\":\"overlay\",\"size\":10,\"solidity\":0.2}},\"type\":\"barpolar\"}],\"pie\":[{\"automargin\":true,\"type\":\"pie\"}]},\"layout\":{\"autotypenumbers\":\"strict\",\"colorway\":[\"#636efa\",\"#EF553B\",\"#00cc96\",\"#ab63fa\",\"#FFA15A\",\"#19d3f3\",\"#FF6692\",\"#B6E880\",\"#FF97FF\",\"#FECB52\"],\"font\":{\"color\":\"#2a3f5f\"},\"hovermode\":\"closest\",\"hoverlabel\":{\"align\":\"left\"},\"paper_bgcolor\":\"white\",\"plot_bgcolor\":\"#E5ECF6\",\"polar\":{\"bgcolor\":\"#E5ECF6\",\"angularaxis\":{\"gridcolor\":\"white\",\"linecolor\":\"white\",\"ticks\":\"\"},\"radialaxis\":{\"gridcolor\":\"white\",\"linecolor\":\"white\",\"ticks\":\"\"}},\"ternary\":{\"bgcolor\":\"#E5ECF6\",\"aaxis\":{\"gridcolor\":\"white\",\"linecolor\":\"white\",\"ticks\":\"\"},\"baxis\":{\"gridcolor\":\"white\",\"linecolor\":\"white\",\"ticks\":\"\"},\"caxis\":{\"gridcolor\":\"white\",\"linecolor\":\"white\",\"ticks\":\"\"}},\"coloraxis\":{\"colorbar\":{\"outlinewidth\":0,\"ticks\":\"\"}},\"colorscale\":{\"sequential\":[[0.0,\"#0d0887\"],[0.1111111111111111,\"#46039f\"],[0.2222222222222222,\"#7201a8\"],[0.3333333333333333,\"#9c179e\"],[0.4444444444444444,\"#bd3786\"],[0.5555555555555556,\"#d8576b\"],[0.6666666666666666,\"#ed7953\"],[0.7777777777777778,\"#fb9f3a\"],[0.8888888888888888,\"#fdca26\"],[1.0,\"#f0f921\"]],\"sequentialminus\":[[0.0,\"#0d0887\"],[0.1111111111111111,\"#46039f\"],[0.2222222222222222,\"#7201a8\"],[0.3333333333333333,\"#9c179e\"],[0.4444444444444444,\"#bd3786\"],[0.5555555555555556,\"#d8576b\"],[0.6666666666666666,\"#ed7953\"],[0.7777777777777778,\"#fb9f3a\"],[0.8888888888888888,\"#fdca26\"],[1.0,\"#f0f921\"]],\"diverging\":[[0,\"#8e0152\"],[0.1,\"#c51b7d\"],[0.2,\"#de77ae\"],[0.3,\"#f1b6da\"],[0.4,\"#fde0ef\"],[0.5,\"#f7f7f7\"],[0.6,\"#e6f5d0\"],[0.7,\"#b8e186\"],[0.8,\"#7fbc41\"],[0.9,\"#4d9221\"],[1,\"#276419\"]]},\"xaxis\":{\"gridcolor\":\"white\",\"linecolor\":\"white\",\"ticks\":\"\",\"title\":{\"standoff\":15},\"zerolinecolor\":\"white\",\"automargin\":true,\"zerolinewidth\":2},\"yaxis\":{\"gridcolor\":\"white\",\"linecolor\":\"white\",\"ticks\":\"\",\"title\":{\"standoff\":15},\"zerolinecolor\":\"white\",\"automargin\":true,\"zerolinewidth\":2},\"scene\":{\"xaxis\":{\"backgroundcolor\":\"#E5ECF6\",\"gridcolor\":\"white\",\"linecolor\":\"white\",\"showbackground\":true,\"ticks\":\"\",\"zerolinecolor\":\"white\",\"gridwidth\":2},\"yaxis\":{\"backgroundcolor\":\"#E5ECF6\",\"gridcolor\":\"white\",\"linecolor\":\"white\",\"showbackground\":true,\"ticks\":\"\",\"zerolinecolor\":\"white\",\"gridwidth\":2},\"zaxis\":{\"backgroundcolor\":\"#E5ECF6\",\"gridcolor\":\"white\",\"linecolor\":\"white\",\"showbackground\":true,\"ticks\":\"\",\"zerolinecolor\":\"white\",\"gridwidth\":2}},\"shapedefaults\":{\"line\":{\"color\":\"#2a3f5f\"}},\"annotationdefaults\":{\"arrowcolor\":\"#2a3f5f\",\"arrowhead\":0,\"arrowwidth\":1},\"geo\":{\"bgcolor\":\"white\",\"landcolor\":\"#E5ECF6\",\"subunitcolor\":\"white\",\"showland\":true,\"showlakes\":true,\"lakecolor\":\"white\"},\"title\":{\"x\":0.05},\"mapbox\":{\"style\":\"light\"}}},\"annotations\":[{\"font\":{\"size\":16},\"showarrow\":false,\"text\":\"Cancer\",\"x\":0.225,\"xanchor\":\"center\",\"xref\":\"paper\",\"y\":1.0,\"yanchor\":\"bottom\",\"yref\":\"paper\"},{\"font\":{\"size\":16},\"showarrow\":false,\"text\":\"HPV\",\"x\":0.775,\"xanchor\":\"center\",\"xref\":\"paper\",\"y\":1.0,\"yanchor\":\"bottom\",\"yref\":\"paper\"}],\"title\":{\"text\":\"Proportion of women across age categories with a diagnosis of Cancer, HPV\"}},                        {\"responsive\": true}                    ).then(function(){\n",
              "                            \n",
              "var gd = document.getElementById('cbec79cf-0ffa-4dec-8aa0-9be7cf0cee9f');\n",
              "var x = new MutationObserver(function (mutations, observer) {{\n",
              "        var display = window.getComputedStyle(gd).display;\n",
              "        if (!display || display === 'none') {{\n",
              "            console.log([gd, 'removed!']);\n",
              "            Plotly.purge(gd);\n",
              "            observer.disconnect();\n",
              "        }}\n",
              "}});\n",
              "\n",
              "// Listen for the removal of the full notebook cells\n",
              "var notebookContainer = gd.closest('#notebook-container');\n",
              "if (notebookContainer) {{\n",
              "    x.observe(notebookContainer, {childList: true});\n",
              "}}\n",
              "\n",
              "// Listen for the clearing of the current output cell\n",
              "var outputEl = gd.closest('.output');\n",
              "if (outputEl) {{\n",
              "    x.observe(outputEl, {childList: true});\n",
              "}}\n",
              "\n",
              "                        })                };                            </script>        </div>\n",
              "</body>\n",
              "</html>"
            ]
          },
          "metadata": {},
          "output_type": "display_data"
        }
      ],
      "source": [
        "fig = make_subplots(rows=1, cols=2, specs=[[{'type': 'domain'}, {'type': 'domain'}]],\n",
        "                    subplot_titles=[\"Cancer\", \"HPV\"])\n",
        "fig.add_trace(go.Pie(labels=risk_factor_df[\"age_cat\"],\n",
        "                     values=risk_factor_df[label],\n",
        "                     name=\"Cancer\", marker_colors=px.colors.sequential.RdBu),\n",
        "              1, 1)\n",
        "fig.add_trace(go.Pie(labels=risk_factor_df[\"age_cat\"],\n",
        "                     values=risk_factor_df[\"Dx:HPV\"],\n",
        "                     name=\"HPV\", marker_colors=px.colors.sequential.RdBu),\n",
        "              1, 2)\n",
        "\n",
        "fig.update_traces(hole=.0, hoverinfo=\"label+percent+name\")\n",
        "\n",
        "fig.update_layout(\n",
        "    title_text=\"Proportion of women across age categories with a diagnosis of Cancer, HPV\",\n",
        ")\n",
        "fig.show()"
      ]
    },
    {
      "cell_type": "markdown",
      "metadata": {
        "id": "yAnEpmP6IhKA"
      },
      "source": [
        "Contraceptive"
      ]
    },
    {
      "cell_type": "code",
      "execution_count": null,
      "metadata": {
        "colab": {
          "base_uri": "https://localhost:8080/",
          "height": 542
        },
        "id": "o4shEi6bIjVu",
        "outputId": "5461c778-b965-4f14-dab7-ed2821bb9d9a"
      },
      "outputs": [
        {
          "data": {
            "text/html": [
              "<html>\n",
              "<head><meta charset=\"utf-8\" /></head>\n",
              "<body>\n",
              "    <div>            <script src=\"https://cdnjs.cloudflare.com/ajax/libs/mathjax/2.7.5/MathJax.js?config=TeX-AMS-MML_SVG\"></script><script type=\"text/javascript\">if (window.MathJax && window.MathJax.Hub && window.MathJax.Hub.Config) {window.MathJax.Hub.Config({SVG: {font: \"STIX-Web\"}});}</script>                <script type=\"text/javascript\">window.PlotlyConfig = {MathJaxConfig: 'local'};</script>\n",
              "        <script charset=\"utf-8\" src=\"https://cdn.plot.ly/plotly-2.24.1.min.js\"></script>                <div id=\"727d98da-29a4-4b5d-998b-ac71b18b9d5f\" class=\"plotly-graph-div\" style=\"height:525px; width:100%;\"></div>            <script type=\"text/javascript\">                                    window.PLOTLYENV=window.PLOTLYENV || {};                                    if (document.getElementById(\"727d98da-29a4-4b5d-998b-ac71b18b9d5f\")) {                    Plotly.newPlot(                        \"727d98da-29a4-4b5d-998b-ac71b18b9d5f\",                        [{\"alignmentgroup\":\"True\",\"bingroup\":\"x\",\"histfunc\":\"sum\",\"hovertemplate\":\"variable=IUD\\u003cbr\\u003eage_cat=%{x}\\u003cbr\\u003esum of value=%{y}\\u003cextra\\u003e\\u003c\\u002fextra\\u003e\",\"legendgroup\":\"IUD\",\"marker\":{\"color\":\"darkcyan\",\"pattern\":{\"shape\":\"\"}},\"name\":\"IUD\",\"offsetgroup\":\"IUD\",\"orientation\":\"v\",\"showlegend\":true,\"x\":[\"20's\",\"30's\",\"40's\",\"50's\",\"70+\",\"Teen\"],\"xaxis\":\"x\",\"y\":[27,37,15,3,1,0],\"yaxis\":\"y\",\"type\":\"histogram\"},{\"alignmentgroup\":\"True\",\"bingroup\":\"x\",\"histfunc\":\"sum\",\"hovertemplate\":\"variable=Hormonal Contraceptives\\u003cbr\\u003eage_cat=%{x}\\u003cbr\\u003esum of value=%{y}\\u003cextra\\u003e\\u003c\\u002fextra\\u003e\",\"legendgroup\":\"Hormonal Contraceptives\",\"marker\":{\"color\":\"mediumorchid\",\"pattern\":{\"shape\":\"\"}},\"name\":\"Hormonal Contraceptives\",\"offsetgroup\":\"Hormonal Contraceptives\",\"orientation\":\"v\",\"showlegend\":true,\"x\":[\"20's\",\"30's\",\"40's\",\"50's\",\"70+\",\"Teen\"],\"xaxis\":\"x\",\"y\":[283,165,38,2,0,101],\"yaxis\":\"y\",\"type\":\"histogram\"}],                        {\"template\":{\"data\":{\"histogram2dcontour\":[{\"type\":\"histogram2dcontour\",\"colorbar\":{\"outlinewidth\":0,\"ticks\":\"\"},\"colorscale\":[[0.0,\"#0d0887\"],[0.1111111111111111,\"#46039f\"],[0.2222222222222222,\"#7201a8\"],[0.3333333333333333,\"#9c179e\"],[0.4444444444444444,\"#bd3786\"],[0.5555555555555556,\"#d8576b\"],[0.6666666666666666,\"#ed7953\"],[0.7777777777777778,\"#fb9f3a\"],[0.8888888888888888,\"#fdca26\"],[1.0,\"#f0f921\"]]}],\"choropleth\":[{\"type\":\"choropleth\",\"colorbar\":{\"outlinewidth\":0,\"ticks\":\"\"}}],\"histogram2d\":[{\"type\":\"histogram2d\",\"colorbar\":{\"outlinewidth\":0,\"ticks\":\"\"},\"colorscale\":[[0.0,\"#0d0887\"],[0.1111111111111111,\"#46039f\"],[0.2222222222222222,\"#7201a8\"],[0.3333333333333333,\"#9c179e\"],[0.4444444444444444,\"#bd3786\"],[0.5555555555555556,\"#d8576b\"],[0.6666666666666666,\"#ed7953\"],[0.7777777777777778,\"#fb9f3a\"],[0.8888888888888888,\"#fdca26\"],[1.0,\"#f0f921\"]]}],\"heatmap\":[{\"type\":\"heatmap\",\"colorbar\":{\"outlinewidth\":0,\"ticks\":\"\"},\"colorscale\":[[0.0,\"#0d0887\"],[0.1111111111111111,\"#46039f\"],[0.2222222222222222,\"#7201a8\"],[0.3333333333333333,\"#9c179e\"],[0.4444444444444444,\"#bd3786\"],[0.5555555555555556,\"#d8576b\"],[0.6666666666666666,\"#ed7953\"],[0.7777777777777778,\"#fb9f3a\"],[0.8888888888888888,\"#fdca26\"],[1.0,\"#f0f921\"]]}],\"heatmapgl\":[{\"type\":\"heatmapgl\",\"colorbar\":{\"outlinewidth\":0,\"ticks\":\"\"},\"colorscale\":[[0.0,\"#0d0887\"],[0.1111111111111111,\"#46039f\"],[0.2222222222222222,\"#7201a8\"],[0.3333333333333333,\"#9c179e\"],[0.4444444444444444,\"#bd3786\"],[0.5555555555555556,\"#d8576b\"],[0.6666666666666666,\"#ed7953\"],[0.7777777777777778,\"#fb9f3a\"],[0.8888888888888888,\"#fdca26\"],[1.0,\"#f0f921\"]]}],\"contourcarpet\":[{\"type\":\"contourcarpet\",\"colorbar\":{\"outlinewidth\":0,\"ticks\":\"\"}}],\"contour\":[{\"type\":\"contour\",\"colorbar\":{\"outlinewidth\":0,\"ticks\":\"\"},\"colorscale\":[[0.0,\"#0d0887\"],[0.1111111111111111,\"#46039f\"],[0.2222222222222222,\"#7201a8\"],[0.3333333333333333,\"#9c179e\"],[0.4444444444444444,\"#bd3786\"],[0.5555555555555556,\"#d8576b\"],[0.6666666666666666,\"#ed7953\"],[0.7777777777777778,\"#fb9f3a\"],[0.8888888888888888,\"#fdca26\"],[1.0,\"#f0f921\"]]}],\"surface\":[{\"type\":\"surface\",\"colorbar\":{\"outlinewidth\":0,\"ticks\":\"\"},\"colorscale\":[[0.0,\"#0d0887\"],[0.1111111111111111,\"#46039f\"],[0.2222222222222222,\"#7201a8\"],[0.3333333333333333,\"#9c179e\"],[0.4444444444444444,\"#bd3786\"],[0.5555555555555556,\"#d8576b\"],[0.6666666666666666,\"#ed7953\"],[0.7777777777777778,\"#fb9f3a\"],[0.8888888888888888,\"#fdca26\"],[1.0,\"#f0f921\"]]}],\"mesh3d\":[{\"type\":\"mesh3d\",\"colorbar\":{\"outlinewidth\":0,\"ticks\":\"\"}}],\"scatter\":[{\"fillpattern\":{\"fillmode\":\"overlay\",\"size\":10,\"solidity\":0.2},\"type\":\"scatter\"}],\"parcoords\":[{\"type\":\"parcoords\",\"line\":{\"colorbar\":{\"outlinewidth\":0,\"ticks\":\"\"}}}],\"scatterpolargl\":[{\"type\":\"scatterpolargl\",\"marker\":{\"colorbar\":{\"outlinewidth\":0,\"ticks\":\"\"}}}],\"bar\":[{\"error_x\":{\"color\":\"#2a3f5f\"},\"error_y\":{\"color\":\"#2a3f5f\"},\"marker\":{\"line\":{\"color\":\"#E5ECF6\",\"width\":0.5},\"pattern\":{\"fillmode\":\"overlay\",\"size\":10,\"solidity\":0.2}},\"type\":\"bar\"}],\"scattergeo\":[{\"type\":\"scattergeo\",\"marker\":{\"colorbar\":{\"outlinewidth\":0,\"ticks\":\"\"}}}],\"scatterpolar\":[{\"type\":\"scatterpolar\",\"marker\":{\"colorbar\":{\"outlinewidth\":0,\"ticks\":\"\"}}}],\"histogram\":[{\"marker\":{\"pattern\":{\"fillmode\":\"overlay\",\"size\":10,\"solidity\":0.2}},\"type\":\"histogram\"}],\"scattergl\":[{\"type\":\"scattergl\",\"marker\":{\"colorbar\":{\"outlinewidth\":0,\"ticks\":\"\"}}}],\"scatter3d\":[{\"type\":\"scatter3d\",\"line\":{\"colorbar\":{\"outlinewidth\":0,\"ticks\":\"\"}},\"marker\":{\"colorbar\":{\"outlinewidth\":0,\"ticks\":\"\"}}}],\"scattermapbox\":[{\"type\":\"scattermapbox\",\"marker\":{\"colorbar\":{\"outlinewidth\":0,\"ticks\":\"\"}}}],\"scatterternary\":[{\"type\":\"scatterternary\",\"marker\":{\"colorbar\":{\"outlinewidth\":0,\"ticks\":\"\"}}}],\"scattercarpet\":[{\"type\":\"scattercarpet\",\"marker\":{\"colorbar\":{\"outlinewidth\":0,\"ticks\":\"\"}}}],\"carpet\":[{\"aaxis\":{\"endlinecolor\":\"#2a3f5f\",\"gridcolor\":\"white\",\"linecolor\":\"white\",\"minorgridcolor\":\"white\",\"startlinecolor\":\"#2a3f5f\"},\"baxis\":{\"endlinecolor\":\"#2a3f5f\",\"gridcolor\":\"white\",\"linecolor\":\"white\",\"minorgridcolor\":\"white\",\"startlinecolor\":\"#2a3f5f\"},\"type\":\"carpet\"}],\"table\":[{\"cells\":{\"fill\":{\"color\":\"#EBF0F8\"},\"line\":{\"color\":\"white\"}},\"header\":{\"fill\":{\"color\":\"#C8D4E3\"},\"line\":{\"color\":\"white\"}},\"type\":\"table\"}],\"barpolar\":[{\"marker\":{\"line\":{\"color\":\"#E5ECF6\",\"width\":0.5},\"pattern\":{\"fillmode\":\"overlay\",\"size\":10,\"solidity\":0.2}},\"type\":\"barpolar\"}],\"pie\":[{\"automargin\":true,\"type\":\"pie\"}]},\"layout\":{\"autotypenumbers\":\"strict\",\"colorway\":[\"#636efa\",\"#EF553B\",\"#00cc96\",\"#ab63fa\",\"#FFA15A\",\"#19d3f3\",\"#FF6692\",\"#B6E880\",\"#FF97FF\",\"#FECB52\"],\"font\":{\"color\":\"#2a3f5f\"},\"hovermode\":\"closest\",\"hoverlabel\":{\"align\":\"left\"},\"paper_bgcolor\":\"white\",\"plot_bgcolor\":\"#E5ECF6\",\"polar\":{\"bgcolor\":\"#E5ECF6\",\"angularaxis\":{\"gridcolor\":\"white\",\"linecolor\":\"white\",\"ticks\":\"\"},\"radialaxis\":{\"gridcolor\":\"white\",\"linecolor\":\"white\",\"ticks\":\"\"}},\"ternary\":{\"bgcolor\":\"#E5ECF6\",\"aaxis\":{\"gridcolor\":\"white\",\"linecolor\":\"white\",\"ticks\":\"\"},\"baxis\":{\"gridcolor\":\"white\",\"linecolor\":\"white\",\"ticks\":\"\"},\"caxis\":{\"gridcolor\":\"white\",\"linecolor\":\"white\",\"ticks\":\"\"}},\"coloraxis\":{\"colorbar\":{\"outlinewidth\":0,\"ticks\":\"\"}},\"colorscale\":{\"sequential\":[[0.0,\"#0d0887\"],[0.1111111111111111,\"#46039f\"],[0.2222222222222222,\"#7201a8\"],[0.3333333333333333,\"#9c179e\"],[0.4444444444444444,\"#bd3786\"],[0.5555555555555556,\"#d8576b\"],[0.6666666666666666,\"#ed7953\"],[0.7777777777777778,\"#fb9f3a\"],[0.8888888888888888,\"#fdca26\"],[1.0,\"#f0f921\"]],\"sequentialminus\":[[0.0,\"#0d0887\"],[0.1111111111111111,\"#46039f\"],[0.2222222222222222,\"#7201a8\"],[0.3333333333333333,\"#9c179e\"],[0.4444444444444444,\"#bd3786\"],[0.5555555555555556,\"#d8576b\"],[0.6666666666666666,\"#ed7953\"],[0.7777777777777778,\"#fb9f3a\"],[0.8888888888888888,\"#fdca26\"],[1.0,\"#f0f921\"]],\"diverging\":[[0,\"#8e0152\"],[0.1,\"#c51b7d\"],[0.2,\"#de77ae\"],[0.3,\"#f1b6da\"],[0.4,\"#fde0ef\"],[0.5,\"#f7f7f7\"],[0.6,\"#e6f5d0\"],[0.7,\"#b8e186\"],[0.8,\"#7fbc41\"],[0.9,\"#4d9221\"],[1,\"#276419\"]]},\"xaxis\":{\"gridcolor\":\"white\",\"linecolor\":\"white\",\"ticks\":\"\",\"title\":{\"standoff\":15},\"zerolinecolor\":\"white\",\"automargin\":true,\"zerolinewidth\":2},\"yaxis\":{\"gridcolor\":\"white\",\"linecolor\":\"white\",\"ticks\":\"\",\"title\":{\"standoff\":15},\"zerolinecolor\":\"white\",\"automargin\":true,\"zerolinewidth\":2},\"scene\":{\"xaxis\":{\"backgroundcolor\":\"#E5ECF6\",\"gridcolor\":\"white\",\"linecolor\":\"white\",\"showbackground\":true,\"ticks\":\"\",\"zerolinecolor\":\"white\",\"gridwidth\":2},\"yaxis\":{\"backgroundcolor\":\"#E5ECF6\",\"gridcolor\":\"white\",\"linecolor\":\"white\",\"showbackground\":true,\"ticks\":\"\",\"zerolinecolor\":\"white\",\"gridwidth\":2},\"zaxis\":{\"backgroundcolor\":\"#E5ECF6\",\"gridcolor\":\"white\",\"linecolor\":\"white\",\"showbackground\":true,\"ticks\":\"\",\"zerolinecolor\":\"white\",\"gridwidth\":2}},\"shapedefaults\":{\"line\":{\"color\":\"#2a3f5f\"}},\"annotationdefaults\":{\"arrowcolor\":\"#2a3f5f\",\"arrowhead\":0,\"arrowwidth\":1},\"geo\":{\"bgcolor\":\"white\",\"landcolor\":\"#E5ECF6\",\"subunitcolor\":\"white\",\"showland\":true,\"showlakes\":true,\"lakecolor\":\"white\"},\"title\":{\"x\":0.05},\"mapbox\":{\"style\":\"light\"}}},\"xaxis\":{\"anchor\":\"y\",\"domain\":[0.0,1.0],\"title\":{\"text\":\"Age Category\"}},\"yaxis\":{\"anchor\":\"x\",\"domain\":[0.0,1.0],\"title\":{\"text\":\"Count\"}},\"legend\":{\"title\":{\"text\":\"variable\"},\"tracegroupgap\":0},\"margin\":{\"t\":60},\"barmode\":\"group\",\"title\":{\"text\":\"Age Ranges of women who use Contraceptives\"}},                        {\"responsive\": true}                    ).then(function(){\n",
              "                            \n",
              "var gd = document.getElementById('727d98da-29a4-4b5d-998b-ac71b18b9d5f');\n",
              "var x = new MutationObserver(function (mutations, observer) {{\n",
              "        var display = window.getComputedStyle(gd).display;\n",
              "        if (!display || display === 'none') {{\n",
              "            console.log([gd, 'removed!']);\n",
              "            Plotly.purge(gd);\n",
              "            observer.disconnect();\n",
              "        }}\n",
              "}});\n",
              "\n",
              "// Listen for the removal of the full notebook cells\n",
              "var notebookContainer = gd.closest('#notebook-container');\n",
              "if (notebookContainer) {{\n",
              "    x.observe(notebookContainer, {childList: true});\n",
              "}}\n",
              "\n",
              "// Listen for the clearing of the current output cell\n",
              "var outputEl = gd.closest('.output');\n",
              "if (outputEl) {{\n",
              "    x.observe(outputEl, {childList: true});\n",
              "}}\n",
              "\n",
              "                        })                };                            </script>        </div>\n",
              "</body>\n",
              "</html>"
            ]
          },
          "metadata": {},
          "output_type": "display_data"
        }
      ],
      "source": [
        "df_hormonal_compariosn = risk_factor_df.groupby([\"age_cat\"], as_index=False)[[\"IUD\", \"Hormonal Contraceptives\"]].sum()\n",
        "fig = px.histogram(df_hormonal_compariosn, x=\"age_cat\", y=[\"IUD\", \"Hormonal Contraceptives\"], barmode=\"group\"\n",
        "                   , color_discrete_sequence=[\"darkcyan\", \"mediumorchid\"])\n",
        "\n",
        "fig.update_xaxes(title=\"Age Category\")\n",
        "fig.update_yaxes(title=\"Count\")\n",
        "fig.update_layout(title=\"Age Ranges of women who use Contraceptives\")\n",
        "\n",
        "fig.show()\n"
      ]
    },
    {
      "cell_type": "code",
      "execution_count": null,
      "metadata": {
        "colab": {
          "base_uri": "https://localhost:8080/",
          "height": 542
        },
        "id": "ytmeTf5nIvPL",
        "outputId": "a8fbebb7-1615-4a07-f23b-1e63bfde5ee0"
      },
      "outputs": [
        {
          "data": {
            "text/html": [
              "<html>\n",
              "<head><meta charset=\"utf-8\" /></head>\n",
              "<body>\n",
              "    <div>            <script src=\"https://cdnjs.cloudflare.com/ajax/libs/mathjax/2.7.5/MathJax.js?config=TeX-AMS-MML_SVG\"></script><script type=\"text/javascript\">if (window.MathJax && window.MathJax.Hub && window.MathJax.Hub.Config) {window.MathJax.Hub.Config({SVG: {font: \"STIX-Web\"}});}</script>                <script type=\"text/javascript\">window.PlotlyConfig = {MathJaxConfig: 'local'};</script>\n",
              "        <script charset=\"utf-8\" src=\"https://cdn.plot.ly/plotly-2.24.1.min.js\"></script>                <div id=\"e432851f-3bb9-433d-8bb8-029e94cd1cd6\" class=\"plotly-graph-div\" style=\"height:525px; width:100%;\"></div>            <script type=\"text/javascript\">                                    window.PLOTLYENV=window.PLOTLYENV || {};                                    if (document.getElementById(\"e432851f-3bb9-433d-8bb8-029e94cd1cd6\")) {                    Plotly.newPlot(                        \"e432851f-3bb9-433d-8bb8-029e94cd1cd6\",                        [{\"alignmentgroup\":\"True\",\"bingroup\":\"x\",\"hovertemplate\":\"Smokes=0\\u003cbr\\u003eage_cat=%{x}\\u003cbr\\u003ecount=%{y}\\u003cextra\\u003e\\u003c\\u002fextra\\u003e\",\"legendgroup\":\"0\",\"marker\":{\"color\":\"darkcyan\",\"pattern\":{\"shape\":\"\"}},\"name\":\"0\",\"offsetgroup\":\"0\",\"orientation\":\"v\",\"showlegend\":true,\"x\":[\"20's\",\"20's\",\"20's\",\"20's\",\"20's\",\"20's\",\"20's\",\"20's\",\"20's\",\"20's\",\"20's\",\"20's\",\"20's\",\"20's\",\"20's\",\"20's\",\"20's\",\"20's\",\"20's\",\"20's\",\"20's\",\"20's\",\"20's\",\"20's\",\"20's\",\"20's\",\"20's\",\"20's\",\"20's\",\"20's\",\"20's\",\"20's\",\"20's\",\"20's\",\"20's\",\"20's\",\"20's\",\"20's\",\"20's\",\"20's\",\"20's\",\"20's\",\"20's\",\"20's\",\"20's\",\"20's\",\"20's\",\"20's\",\"20's\",\"20's\",\"20's\",\"20's\",\"20's\",\"20's\",\"20's\",\"20's\",\"20's\",\"20's\",\"20's\",\"20's\",\"20's\",\"20's\",\"20's\",\"20's\",\"20's\",\"20's\",\"20's\",\"20's\",\"20's\",\"20's\",\"20's\",\"20's\",\"20's\",\"20's\",\"20's\",\"20's\",\"20's\",\"20's\",\"20's\",\"20's\",\"20's\",\"20's\",\"20's\",\"20's\",\"20's\",\"20's\",\"20's\",\"20's\",\"20's\",\"20's\",\"20's\",\"20's\",\"20's\",\"20's\",\"20's\",\"20's\",\"20's\",\"20's\",\"20's\",\"20's\",\"20's\",\"20's\",\"20's\",\"20's\",\"20's\",\"20's\",\"20's\",\"20's\",\"20's\",\"20's\",\"20's\",\"20's\",\"20's\",\"20's\",\"20's\",\"20's\",\"20's\",\"20's\",\"20's\",\"20's\",\"20's\",\"20's\",\"20's\",\"20's\",\"20's\",\"20's\",\"20's\",\"20's\",\"20's\",\"20's\",\"20's\",\"20's\",\"20's\",\"20's\",\"20's\",\"20's\",\"20's\",\"20's\",\"20's\",\"20's\",\"20's\",\"20's\",\"20's\",\"20's\",\"20's\",\"20's\",\"20's\",\"20's\",\"20's\",\"20's\",\"20's\",\"20's\",\"20's\",\"20's\",\"20's\",\"20's\",\"20's\",\"20's\",\"20's\",\"20's\",\"20's\",\"20's\",\"20's\",\"20's\",\"20's\",\"20's\",\"20's\",\"20's\",\"20's\",\"20's\",\"20's\",\"20's\",\"20's\",\"20's\",\"20's\",\"20's\",\"20's\",\"20's\",\"20's\",\"20's\",\"20's\",\"20's\",\"20's\",\"20's\",\"20's\",\"20's\",\"20's\",\"20's\",\"20's\",\"20's\",\"20's\",\"20's\",\"20's\",\"20's\",\"20's\",\"20's\",\"20's\",\"20's\",\"20's\",\"20's\",\"20's\",\"20's\",\"20's\",\"20's\",\"20's\",\"20's\",\"20's\",\"20's\",\"20's\",\"20's\",\"20's\",\"20's\",\"20's\",\"20's\",\"20's\",\"20's\",\"20's\",\"20's\",\"20's\",\"20's\",\"20's\",\"20's\",\"20's\",\"20's\",\"20's\"],\"xaxis\":\"x\",\"yaxis\":\"y\",\"type\":\"histogram\"},{\"alignmentgroup\":\"True\",\"bingroup\":\"x\",\"hovertemplate\":\"Smokes=0\\u003cbr\\u003eage_cat=%{x}\\u003cbr\\u003ecount=%{y}\\u003cextra\\u003e\\u003c\\u002fextra\\u003e\",\"legendgroup\":\"0\",\"marker\":{\"color\":\"darkcyan\",\"pattern\":{\"shape\":\"\"}},\"name\":\"0\",\"offsetgroup\":\"0\",\"orientation\":\"v\",\"showlegend\":false,\"x\":[\"30's\",\"30's\",\"30's\",\"30's\",\"30's\",\"30's\",\"30's\",\"30's\",\"30's\",\"30's\",\"30's\",\"30's\",\"30's\",\"30's\",\"30's\",\"30's\",\"30's\",\"30's\",\"30's\",\"30's\",\"30's\",\"30's\",\"30's\",\"30's\",\"30's\",\"30's\",\"30's\",\"30's\",\"30's\",\"30's\",\"30's\",\"30's\",\"30's\",\"30's\",\"30's\",\"30's\",\"30's\",\"30's\",\"30's\",\"30's\",\"30's\",\"30's\",\"30's\",\"30's\",\"30's\",\"30's\",\"30's\",\"30's\",\"30's\",\"30's\",\"30's\",\"30's\",\"30's\",\"30's\",\"30's\",\"30's\",\"30's\",\"30's\",\"30's\",\"30's\",\"30's\",\"30's\",\"30's\",\"30's\",\"30's\",\"30's\",\"30's\",\"30's\",\"30's\",\"30's\",\"30's\",\"30's\",\"30's\",\"30's\",\"30's\",\"30's\",\"30's\",\"30's\",\"30's\",\"30's\",\"30's\",\"30's\",\"30's\",\"30's\",\"30's\",\"30's\",\"30's\",\"30's\",\"30's\",\"30's\",\"30's\",\"30's\",\"30's\",\"30's\",\"30's\",\"30's\",\"30's\",\"30's\",\"30's\",\"30's\",\"30's\",\"30's\",\"30's\",\"30's\",\"30's\",\"30's\",\"30's\",\"30's\",\"30's\"],\"xaxis\":\"x2\",\"yaxis\":\"y2\",\"type\":\"histogram\"},{\"alignmentgroup\":\"True\",\"bingroup\":\"x\",\"hovertemplate\":\"Smokes=0\\u003cbr\\u003eage_cat=%{x}\\u003cbr\\u003ecount=%{y}\\u003cextra\\u003e\\u003c\\u002fextra\\u003e\",\"legendgroup\":\"0\",\"marker\":{\"color\":\"darkcyan\",\"pattern\":{\"shape\":\"\"}},\"name\":\"0\",\"offsetgroup\":\"0\",\"orientation\":\"v\",\"showlegend\":false,\"x\":[\"40's\",\"40's\",\"40's\",\"40's\",\"40's\",\"40's\",\"40's\",\"40's\",\"40's\",\"40's\",\"40's\",\"40's\",\"40's\",\"40's\",\"40's\",\"40's\",\"40's\",\"40's\",\"40's\",\"40's\",\"40's\",\"40's\",\"40's\",\"40's\",\"40's\",\"40's\",\"40's\"],\"xaxis\":\"x3\",\"yaxis\":\"y3\",\"type\":\"histogram\"},{\"alignmentgroup\":\"True\",\"bingroup\":\"x\",\"hovertemplate\":\"Smokes=0\\u003cbr\\u003eage_cat=%{x}\\u003cbr\\u003ecount=%{y}\\u003cextra\\u003e\\u003c\\u002fextra\\u003e\",\"legendgroup\":\"0\",\"marker\":{\"color\":\"darkcyan\",\"pattern\":{\"shape\":\"\"}},\"name\":\"0\",\"offsetgroup\":\"0\",\"orientation\":\"v\",\"showlegend\":false,\"x\":[\"50's\"],\"xaxis\":\"x4\",\"yaxis\":\"y4\",\"type\":\"histogram\"},{\"alignmentgroup\":\"True\",\"bingroup\":\"x\",\"hovertemplate\":\"Smokes=0\\u003cbr\\u003eage_cat=%{x}\\u003cbr\\u003ecount=%{y}\\u003cextra\\u003e\\u003c\\u002fextra\\u003e\",\"legendgroup\":\"0\",\"marker\":{\"color\":\"darkcyan\",\"pattern\":{\"shape\":\"\"}},\"name\":\"0\",\"offsetgroup\":\"0\",\"orientation\":\"v\",\"showlegend\":false,\"x\":[\"Teen\",\"Teen\",\"Teen\",\"Teen\",\"Teen\",\"Teen\",\"Teen\",\"Teen\",\"Teen\",\"Teen\",\"Teen\",\"Teen\",\"Teen\",\"Teen\",\"Teen\",\"Teen\",\"Teen\",\"Teen\",\"Teen\",\"Teen\",\"Teen\",\"Teen\",\"Teen\",\"Teen\",\"Teen\",\"Teen\",\"Teen\",\"Teen\",\"Teen\",\"Teen\",\"Teen\",\"Teen\",\"Teen\",\"Teen\",\"Teen\",\"Teen\",\"Teen\",\"Teen\",\"Teen\",\"Teen\",\"Teen\",\"Teen\",\"Teen\",\"Teen\",\"Teen\",\"Teen\",\"Teen\",\"Teen\",\"Teen\",\"Teen\",\"Teen\",\"Teen\",\"Teen\",\"Teen\",\"Teen\",\"Teen\",\"Teen\",\"Teen\",\"Teen\",\"Teen\",\"Teen\",\"Teen\",\"Teen\",\"Teen\",\"Teen\",\"Teen\",\"Teen\",\"Teen\",\"Teen\",\"Teen\",\"Teen\",\"Teen\",\"Teen\",\"Teen\",\"Teen\",\"Teen\",\"Teen\",\"Teen\",\"Teen\",\"Teen\",\"Teen\",\"Teen\",\"Teen\",\"Teen\",\"Teen\",\"Teen\",\"Teen\",\"Teen\"],\"xaxis\":\"x5\",\"yaxis\":\"y5\",\"type\":\"histogram\"},{\"alignmentgroup\":\"True\",\"bingroup\":\"x\",\"hovertemplate\":\"Smokes=1\\u003cbr\\u003eage_cat=%{x}\\u003cbr\\u003ecount=%{y}\\u003cextra\\u003e\\u003c\\u002fextra\\u003e\",\"legendgroup\":\"1\",\"marker\":{\"color\":\"crimson\",\"pattern\":{\"shape\":\"\"}},\"name\":\"1\",\"offsetgroup\":\"1\",\"orientation\":\"v\",\"showlegend\":true,\"x\":[\"20's\",\"20's\",\"20's\",\"20's\",\"20's\",\"20's\",\"20's\",\"20's\",\"20's\",\"20's\",\"20's\",\"20's\",\"20's\",\"20's\",\"20's\",\"20's\",\"20's\",\"20's\",\"20's\",\"20's\",\"20's\",\"20's\",\"20's\",\"20's\",\"20's\",\"20's\",\"20's\",\"20's\",\"20's\",\"20's\",\"20's\",\"20's\",\"20's\",\"20's\",\"20's\",\"20's\",\"20's\",\"20's\",\"20's\",\"20's\"],\"xaxis\":\"x\",\"yaxis\":\"y\",\"type\":\"histogram\"},{\"alignmentgroup\":\"True\",\"bingroup\":\"x\",\"hovertemplate\":\"Smokes=1\\u003cbr\\u003eage_cat=%{x}\\u003cbr\\u003ecount=%{y}\\u003cextra\\u003e\\u003c\\u002fextra\\u003e\",\"legendgroup\":\"1\",\"marker\":{\"color\":\"crimson\",\"pattern\":{\"shape\":\"\"}},\"name\":\"1\",\"offsetgroup\":\"1\",\"orientation\":\"v\",\"showlegend\":false,\"x\":[\"30's\",\"30's\",\"30's\",\"30's\",\"30's\",\"30's\",\"30's\",\"30's\",\"30's\",\"30's\",\"30's\",\"30's\",\"30's\",\"30's\",\"30's\",\"30's\",\"30's\",\"30's\",\"30's\",\"30's\",\"30's\",\"30's\",\"30's\",\"30's\",\"30's\",\"30's\",\"30's\"],\"xaxis\":\"x2\",\"yaxis\":\"y2\",\"type\":\"histogram\"},{\"alignmentgroup\":\"True\",\"bingroup\":\"x\",\"hovertemplate\":\"Smokes=1\\u003cbr\\u003eage_cat=%{x}\\u003cbr\\u003ecount=%{y}\\u003cextra\\u003e\\u003c\\u002fextra\\u003e\",\"legendgroup\":\"1\",\"marker\":{\"color\":\"crimson\",\"pattern\":{\"shape\":\"\"}},\"name\":\"1\",\"offsetgroup\":\"1\",\"orientation\":\"v\",\"showlegend\":false,\"x\":[\"40's\"],\"xaxis\":\"x3\",\"yaxis\":\"y3\",\"type\":\"histogram\"},{\"alignmentgroup\":\"True\",\"bingroup\":\"x\",\"hovertemplate\":\"Smokes=1\\u003cbr\\u003eage_cat=%{x}\\u003cbr\\u003ecount=%{y}\\u003cextra\\u003e\\u003c\\u002fextra\\u003e\",\"legendgroup\":\"1\",\"marker\":{\"color\":\"crimson\",\"pattern\":{\"shape\":\"\"}},\"name\":\"1\",\"offsetgroup\":\"1\",\"orientation\":\"v\",\"showlegend\":false,\"x\":[\"50's\"],\"xaxis\":\"x4\",\"yaxis\":\"y4\",\"type\":\"histogram\"},{\"alignmentgroup\":\"True\",\"bingroup\":\"x\",\"hovertemplate\":\"Smokes=1\\u003cbr\\u003eage_cat=%{x}\\u003cbr\\u003ecount=%{y}\\u003cextra\\u003e\\u003c\\u002fextra\\u003e\",\"legendgroup\":\"1\",\"marker\":{\"color\":\"crimson\",\"pattern\":{\"shape\":\"\"}},\"name\":\"1\",\"offsetgroup\":\"1\",\"orientation\":\"v\",\"showlegend\":false,\"x\":[\"Teen\",\"Teen\",\"Teen\",\"Teen\",\"Teen\",\"Teen\",\"Teen\",\"Teen\",\"Teen\",\"Teen\",\"Teen\",\"Teen\",\"Teen\"],\"xaxis\":\"x5\",\"yaxis\":\"y5\",\"type\":\"histogram\"}],                        {\"template\":{\"data\":{\"histogram2dcontour\":[{\"type\":\"histogram2dcontour\",\"colorbar\":{\"outlinewidth\":0,\"ticks\":\"\"},\"colorscale\":[[0.0,\"#0d0887\"],[0.1111111111111111,\"#46039f\"],[0.2222222222222222,\"#7201a8\"],[0.3333333333333333,\"#9c179e\"],[0.4444444444444444,\"#bd3786\"],[0.5555555555555556,\"#d8576b\"],[0.6666666666666666,\"#ed7953\"],[0.7777777777777778,\"#fb9f3a\"],[0.8888888888888888,\"#fdca26\"],[1.0,\"#f0f921\"]]}],\"choropleth\":[{\"type\":\"choropleth\",\"colorbar\":{\"outlinewidth\":0,\"ticks\":\"\"}}],\"histogram2d\":[{\"type\":\"histogram2d\",\"colorbar\":{\"outlinewidth\":0,\"ticks\":\"\"},\"colorscale\":[[0.0,\"#0d0887\"],[0.1111111111111111,\"#46039f\"],[0.2222222222222222,\"#7201a8\"],[0.3333333333333333,\"#9c179e\"],[0.4444444444444444,\"#bd3786\"],[0.5555555555555556,\"#d8576b\"],[0.6666666666666666,\"#ed7953\"],[0.7777777777777778,\"#fb9f3a\"],[0.8888888888888888,\"#fdca26\"],[1.0,\"#f0f921\"]]}],\"heatmap\":[{\"type\":\"heatmap\",\"colorbar\":{\"outlinewidth\":0,\"ticks\":\"\"},\"colorscale\":[[0.0,\"#0d0887\"],[0.1111111111111111,\"#46039f\"],[0.2222222222222222,\"#7201a8\"],[0.3333333333333333,\"#9c179e\"],[0.4444444444444444,\"#bd3786\"],[0.5555555555555556,\"#d8576b\"],[0.6666666666666666,\"#ed7953\"],[0.7777777777777778,\"#fb9f3a\"],[0.8888888888888888,\"#fdca26\"],[1.0,\"#f0f921\"]]}],\"heatmapgl\":[{\"type\":\"heatmapgl\",\"colorbar\":{\"outlinewidth\":0,\"ticks\":\"\"},\"colorscale\":[[0.0,\"#0d0887\"],[0.1111111111111111,\"#46039f\"],[0.2222222222222222,\"#7201a8\"],[0.3333333333333333,\"#9c179e\"],[0.4444444444444444,\"#bd3786\"],[0.5555555555555556,\"#d8576b\"],[0.6666666666666666,\"#ed7953\"],[0.7777777777777778,\"#fb9f3a\"],[0.8888888888888888,\"#fdca26\"],[1.0,\"#f0f921\"]]}],\"contourcarpet\":[{\"type\":\"contourcarpet\",\"colorbar\":{\"outlinewidth\":0,\"ticks\":\"\"}}],\"contour\":[{\"type\":\"contour\",\"colorbar\":{\"outlinewidth\":0,\"ticks\":\"\"},\"colorscale\":[[0.0,\"#0d0887\"],[0.1111111111111111,\"#46039f\"],[0.2222222222222222,\"#7201a8\"],[0.3333333333333333,\"#9c179e\"],[0.4444444444444444,\"#bd3786\"],[0.5555555555555556,\"#d8576b\"],[0.6666666666666666,\"#ed7953\"],[0.7777777777777778,\"#fb9f3a\"],[0.8888888888888888,\"#fdca26\"],[1.0,\"#f0f921\"]]}],\"surface\":[{\"type\":\"surface\",\"colorbar\":{\"outlinewidth\":0,\"ticks\":\"\"},\"colorscale\":[[0.0,\"#0d0887\"],[0.1111111111111111,\"#46039f\"],[0.2222222222222222,\"#7201a8\"],[0.3333333333333333,\"#9c179e\"],[0.4444444444444444,\"#bd3786\"],[0.5555555555555556,\"#d8576b\"],[0.6666666666666666,\"#ed7953\"],[0.7777777777777778,\"#fb9f3a\"],[0.8888888888888888,\"#fdca26\"],[1.0,\"#f0f921\"]]}],\"mesh3d\":[{\"type\":\"mesh3d\",\"colorbar\":{\"outlinewidth\":0,\"ticks\":\"\"}}],\"scatter\":[{\"fillpattern\":{\"fillmode\":\"overlay\",\"size\":10,\"solidity\":0.2},\"type\":\"scatter\"}],\"parcoords\":[{\"type\":\"parcoords\",\"line\":{\"colorbar\":{\"outlinewidth\":0,\"ticks\":\"\"}}}],\"scatterpolargl\":[{\"type\":\"scatterpolargl\",\"marker\":{\"colorbar\":{\"outlinewidth\":0,\"ticks\":\"\"}}}],\"bar\":[{\"error_x\":{\"color\":\"#2a3f5f\"},\"error_y\":{\"color\":\"#2a3f5f\"},\"marker\":{\"line\":{\"color\":\"#E5ECF6\",\"width\":0.5},\"pattern\":{\"fillmode\":\"overlay\",\"size\":10,\"solidity\":0.2}},\"type\":\"bar\"}],\"scattergeo\":[{\"type\":\"scattergeo\",\"marker\":{\"colorbar\":{\"outlinewidth\":0,\"ticks\":\"\"}}}],\"scatterpolar\":[{\"type\":\"scatterpolar\",\"marker\":{\"colorbar\":{\"outlinewidth\":0,\"ticks\":\"\"}}}],\"histogram\":[{\"marker\":{\"pattern\":{\"fillmode\":\"overlay\",\"size\":10,\"solidity\":0.2}},\"type\":\"histogram\"}],\"scattergl\":[{\"type\":\"scattergl\",\"marker\":{\"colorbar\":{\"outlinewidth\":0,\"ticks\":\"\"}}}],\"scatter3d\":[{\"type\":\"scatter3d\",\"line\":{\"colorbar\":{\"outlinewidth\":0,\"ticks\":\"\"}},\"marker\":{\"colorbar\":{\"outlinewidth\":0,\"ticks\":\"\"}}}],\"scattermapbox\":[{\"type\":\"scattermapbox\",\"marker\":{\"colorbar\":{\"outlinewidth\":0,\"ticks\":\"\"}}}],\"scatterternary\":[{\"type\":\"scatterternary\",\"marker\":{\"colorbar\":{\"outlinewidth\":0,\"ticks\":\"\"}}}],\"scattercarpet\":[{\"type\":\"scattercarpet\",\"marker\":{\"colorbar\":{\"outlinewidth\":0,\"ticks\":\"\"}}}],\"carpet\":[{\"aaxis\":{\"endlinecolor\":\"#2a3f5f\",\"gridcolor\":\"white\",\"linecolor\":\"white\",\"minorgridcolor\":\"white\",\"startlinecolor\":\"#2a3f5f\"},\"baxis\":{\"endlinecolor\":\"#2a3f5f\",\"gridcolor\":\"white\",\"linecolor\":\"white\",\"minorgridcolor\":\"white\",\"startlinecolor\":\"#2a3f5f\"},\"type\":\"carpet\"}],\"table\":[{\"cells\":{\"fill\":{\"color\":\"#EBF0F8\"},\"line\":{\"color\":\"white\"}},\"header\":{\"fill\":{\"color\":\"#C8D4E3\"},\"line\":{\"color\":\"white\"}},\"type\":\"table\"}],\"barpolar\":[{\"marker\":{\"line\":{\"color\":\"#E5ECF6\",\"width\":0.5},\"pattern\":{\"fillmode\":\"overlay\",\"size\":10,\"solidity\":0.2}},\"type\":\"barpolar\"}],\"pie\":[{\"automargin\":true,\"type\":\"pie\"}]},\"layout\":{\"autotypenumbers\":\"strict\",\"colorway\":[\"#636efa\",\"#EF553B\",\"#00cc96\",\"#ab63fa\",\"#FFA15A\",\"#19d3f3\",\"#FF6692\",\"#B6E880\",\"#FF97FF\",\"#FECB52\"],\"font\":{\"color\":\"#2a3f5f\"},\"hovermode\":\"closest\",\"hoverlabel\":{\"align\":\"left\"},\"paper_bgcolor\":\"white\",\"plot_bgcolor\":\"#E5ECF6\",\"polar\":{\"bgcolor\":\"#E5ECF6\",\"angularaxis\":{\"gridcolor\":\"white\",\"linecolor\":\"white\",\"ticks\":\"\"},\"radialaxis\":{\"gridcolor\":\"white\",\"linecolor\":\"white\",\"ticks\":\"\"}},\"ternary\":{\"bgcolor\":\"#E5ECF6\",\"aaxis\":{\"gridcolor\":\"white\",\"linecolor\":\"white\",\"ticks\":\"\"},\"baxis\":{\"gridcolor\":\"white\",\"linecolor\":\"white\",\"ticks\":\"\"},\"caxis\":{\"gridcolor\":\"white\",\"linecolor\":\"white\",\"ticks\":\"\"}},\"coloraxis\":{\"colorbar\":{\"outlinewidth\":0,\"ticks\":\"\"}},\"colorscale\":{\"sequential\":[[0.0,\"#0d0887\"],[0.1111111111111111,\"#46039f\"],[0.2222222222222222,\"#7201a8\"],[0.3333333333333333,\"#9c179e\"],[0.4444444444444444,\"#bd3786\"],[0.5555555555555556,\"#d8576b\"],[0.6666666666666666,\"#ed7953\"],[0.7777777777777778,\"#fb9f3a\"],[0.8888888888888888,\"#fdca26\"],[1.0,\"#f0f921\"]],\"sequentialminus\":[[0.0,\"#0d0887\"],[0.1111111111111111,\"#46039f\"],[0.2222222222222222,\"#7201a8\"],[0.3333333333333333,\"#9c179e\"],[0.4444444444444444,\"#bd3786\"],[0.5555555555555556,\"#d8576b\"],[0.6666666666666666,\"#ed7953\"],[0.7777777777777778,\"#fb9f3a\"],[0.8888888888888888,\"#fdca26\"],[1.0,\"#f0f921\"]],\"diverging\":[[0,\"#8e0152\"],[0.1,\"#c51b7d\"],[0.2,\"#de77ae\"],[0.3,\"#f1b6da\"],[0.4,\"#fde0ef\"],[0.5,\"#f7f7f7\"],[0.6,\"#e6f5d0\"],[0.7,\"#b8e186\"],[0.8,\"#7fbc41\"],[0.9,\"#4d9221\"],[1,\"#276419\"]]},\"xaxis\":{\"gridcolor\":\"white\",\"linecolor\":\"white\",\"ticks\":\"\",\"title\":{\"standoff\":15},\"zerolinecolor\":\"white\",\"automargin\":true,\"zerolinewidth\":2},\"yaxis\":{\"gridcolor\":\"white\",\"linecolor\":\"white\",\"ticks\":\"\",\"title\":{\"standoff\":15},\"zerolinecolor\":\"white\",\"automargin\":true,\"zerolinewidth\":2},\"scene\":{\"xaxis\":{\"backgroundcolor\":\"#E5ECF6\",\"gridcolor\":\"white\",\"linecolor\":\"white\",\"showbackground\":true,\"ticks\":\"\",\"zerolinecolor\":\"white\",\"gridwidth\":2},\"yaxis\":{\"backgroundcolor\":\"#E5ECF6\",\"gridcolor\":\"white\",\"linecolor\":\"white\",\"showbackground\":true,\"ticks\":\"\",\"zerolinecolor\":\"white\",\"gridwidth\":2},\"zaxis\":{\"backgroundcolor\":\"#E5ECF6\",\"gridcolor\":\"white\",\"linecolor\":\"white\",\"showbackground\":true,\"ticks\":\"\",\"zerolinecolor\":\"white\",\"gridwidth\":2}},\"shapedefaults\":{\"line\":{\"color\":\"#2a3f5f\"}},\"annotationdefaults\":{\"arrowcolor\":\"#2a3f5f\",\"arrowhead\":0,\"arrowwidth\":1},\"geo\":{\"bgcolor\":\"white\",\"landcolor\":\"#E5ECF6\",\"subunitcolor\":\"white\",\"showland\":true,\"showlakes\":true,\"lakecolor\":\"white\"},\"title\":{\"x\":0.05},\"mapbox\":{\"style\":\"light\"}}},\"xaxis\":{\"anchor\":\"y\",\"domain\":[0.0,0.18400000000000002],\"title\":{\"text\":\"Age Category\"},\"categoryorder\":\"array\",\"categoryarray\":[\"20's\",\"30's\",\"40's\",\"50's\",\"Teen\"]},\"yaxis\":{\"anchor\":\"x\",\"domain\":[0.0,1.0],\"title\":{\"text\":\"Count\"}},\"xaxis2\":{\"anchor\":\"y2\",\"domain\":[0.20400000000000001,0.388],\"matches\":\"x\",\"title\":{\"text\":\"Age Category\"},\"categoryorder\":\"array\",\"categoryarray\":[\"20's\",\"30's\",\"40's\",\"50's\",\"Teen\"]},\"yaxis2\":{\"anchor\":\"x2\",\"domain\":[0.0,1.0],\"matches\":\"y\",\"showticklabels\":false,\"title\":{\"text\":\"Count\"}},\"xaxis3\":{\"anchor\":\"y3\",\"domain\":[0.40800000000000003,0.5920000000000001],\"matches\":\"x\",\"title\":{\"text\":\"Age Category\"},\"categoryorder\":\"array\",\"categoryarray\":[\"20's\",\"30's\",\"40's\",\"50's\",\"Teen\"]},\"yaxis3\":{\"anchor\":\"x3\",\"domain\":[0.0,1.0],\"matches\":\"y\",\"showticklabels\":false,\"title\":{\"text\":\"Count\"}},\"xaxis4\":{\"anchor\":\"y4\",\"domain\":[0.6120000000000001,0.7960000000000002],\"matches\":\"x\",\"title\":{\"text\":\"Age Category\"},\"categoryorder\":\"array\",\"categoryarray\":[\"20's\",\"30's\",\"40's\",\"50's\",\"Teen\"]},\"yaxis4\":{\"anchor\":\"x4\",\"domain\":[0.0,1.0],\"matches\":\"y\",\"showticklabels\":false,\"title\":{\"text\":\"Count\"}},\"xaxis5\":{\"anchor\":\"y5\",\"domain\":[0.8160000000000001,1.0],\"matches\":\"x\",\"title\":{\"text\":\"Age Category\"},\"categoryorder\":\"array\",\"categoryarray\":[\"20's\",\"30's\",\"40's\",\"50's\",\"Teen\"]},\"yaxis5\":{\"anchor\":\"x5\",\"domain\":[0.0,1.0],\"matches\":\"y\",\"showticklabels\":false,\"title\":{\"text\":\"Count\"}},\"annotations\":[{\"font\":{},\"showarrow\":false,\"text\":\"age_cat=20's\",\"x\":0.09200000000000001,\"xanchor\":\"center\",\"xref\":\"paper\",\"y\":1.0,\"yanchor\":\"bottom\",\"yref\":\"paper\"},{\"font\":{},\"showarrow\":false,\"text\":\"age_cat=30's\",\"x\":0.29600000000000004,\"xanchor\":\"center\",\"xref\":\"paper\",\"y\":1.0,\"yanchor\":\"bottom\",\"yref\":\"paper\"},{\"font\":{},\"showarrow\":false,\"text\":\"age_cat=40's\",\"x\":0.5,\"xanchor\":\"center\",\"xref\":\"paper\",\"y\":1.0,\"yanchor\":\"bottom\",\"yref\":\"paper\"},{\"font\":{},\"showarrow\":false,\"text\":\"age_cat=50's\",\"x\":0.7040000000000002,\"xanchor\":\"center\",\"xref\":\"paper\",\"y\":1.0,\"yanchor\":\"bottom\",\"yref\":\"paper\"},{\"font\":{},\"showarrow\":false,\"text\":\"age_cat=Teen\",\"x\":0.908,\"xanchor\":\"center\",\"xref\":\"paper\",\"y\":1.0,\"yanchor\":\"bottom\",\"yref\":\"paper\"}],\"legend\":{\"title\":{\"text\":\"Smokes\"},\"tracegroupgap\":0},\"margin\":{\"t\":60},\"barmode\":\"group\",\"title\":{\"text\":\"Age Ranges of women who use Hormonal Contraceptives\"}},                        {\"responsive\": true}                    ).then(function(){\n",
              "                            \n",
              "var gd = document.getElementById('e432851f-3bb9-433d-8bb8-029e94cd1cd6');\n",
              "var x = new MutationObserver(function (mutations, observer) {{\n",
              "        var display = window.getComputedStyle(gd).display;\n",
              "        if (!display || display === 'none') {{\n",
              "            console.log([gd, 'removed!']);\n",
              "            Plotly.purge(gd);\n",
              "            observer.disconnect();\n",
              "        }}\n",
              "}});\n",
              "\n",
              "// Listen for the removal of the full notebook cells\n",
              "var notebookContainer = gd.closest('#notebook-container');\n",
              "if (notebookContainer) {{\n",
              "    x.observe(notebookContainer, {childList: true});\n",
              "}}\n",
              "\n",
              "// Listen for the clearing of the current output cell\n",
              "var outputEl = gd.closest('.output');\n",
              "if (outputEl) {{\n",
              "    x.observe(outputEl, {childList: true});\n",
              "}}\n",
              "\n",
              "                        })                };                            </script>        </div>\n",
              "</body>\n",
              "</html>"
            ]
          },
          "metadata": {},
          "output_type": "display_data"
        }
      ],
      "source": [
        "df_hormonal_contraceptives = risk_factor_df[\n",
        "    (risk_factor_df[\"Hormonal Contraceptives\"] == 1) & (risk_factor_df[\"IUD\"] == 0)]\n",
        "df_hormonal_contraceptives = df_hormonal_contraceptives.sort_values(by=[\"Smokes\", label])\n",
        "fig = px.histogram(df_hormonal_contraceptives, x=\"age_cat\", color=\"Smokes\", barmode=\"group\", facet_col=label,\n",
        "                   color_discrete_sequence=[\"darkcyan\", \"crimson\"])\n",
        "fig.update_xaxes(title=\"Age Category\")\n",
        "fig.update_yaxes(title=\"Count\")\n",
        "fig.update_layout(title=\"Age Ranges of women who use Hormonal Contraceptives\")\n",
        "# fig.for_each_annotation(lambda a: a.update(text=a.text.split(\":\")[-1]))\n",
        "fig.show()"
      ]
    },
    {
      "cell_type": "code",
      "execution_count": null,
      "metadata": {
        "colab": {
          "base_uri": "https://localhost:8080/",
          "height": 542
        },
        "id": "S66eqSJpIzVx",
        "outputId": "4d94610f-2e49-4814-e3cf-2d3c7c90b629"
      },
      "outputs": [
        {
          "data": {
            "text/html": [
              "<html>\n",
              "<head><meta charset=\"utf-8\" /></head>\n",
              "<body>\n",
              "    <div>            <script src=\"https://cdnjs.cloudflare.com/ajax/libs/mathjax/2.7.5/MathJax.js?config=TeX-AMS-MML_SVG\"></script><script type=\"text/javascript\">if (window.MathJax && window.MathJax.Hub && window.MathJax.Hub.Config) {window.MathJax.Hub.Config({SVG: {font: \"STIX-Web\"}});}</script>                <script type=\"text/javascript\">window.PlotlyConfig = {MathJaxConfig: 'local'};</script>\n",
              "        <script charset=\"utf-8\" src=\"https://cdn.plot.ly/plotly-2.24.1.min.js\"></script>                <div id=\"ec3d9f52-ba18-4495-b0d9-8b86b8a8b194\" class=\"plotly-graph-div\" style=\"height:525px; width:100%;\"></div>            <script type=\"text/javascript\">                                    window.PLOTLYENV=window.PLOTLYENV || {};                                    if (document.getElementById(\"ec3d9f52-ba18-4495-b0d9-8b86b8a8b194\")) {                    Plotly.newPlot(                        \"ec3d9f52-ba18-4495-b0d9-8b86b8a8b194\",                        [{\"alignmentgroup\":\"True\",\"bingroup\":\"x\",\"hovertemplate\":\"Smokes=0\\u003cbr\\u003eage_cat=%{x}\\u003cbr\\u003ecount=%{y}\\u003cextra\\u003e\\u003c\\u002fextra\\u003e\",\"legendgroup\":\"0\",\"marker\":{\"color\":\"darkcyan\",\"pattern\":{\"shape\":\"\"}},\"name\":\"0\",\"offsetgroup\":\"0\",\"orientation\":\"v\",\"showlegend\":true,\"x\":[\"20's\",\"20's\",\"20's\",\"20's\",\"20's\",\"20's\",\"20's\",\"20's\",\"20's\"],\"xaxis\":\"x\",\"yaxis\":\"y\",\"type\":\"histogram\"},{\"alignmentgroup\":\"True\",\"bingroup\":\"x\",\"hovertemplate\":\"Smokes=0\\u003cbr\\u003eage_cat=%{x}\\u003cbr\\u003ecount=%{y}\\u003cextra\\u003e\\u003c\\u002fextra\\u003e\",\"legendgroup\":\"0\",\"marker\":{\"color\":\"darkcyan\",\"pattern\":{\"shape\":\"\"}},\"name\":\"0\",\"offsetgroup\":\"0\",\"orientation\":\"v\",\"showlegend\":false,\"x\":[\"30's\",\"30's\",\"30's\",\"30's\",\"30's\",\"30's\"],\"xaxis\":\"x2\",\"yaxis\":\"y2\",\"type\":\"histogram\"},{\"alignmentgroup\":\"True\",\"bingroup\":\"x\",\"hovertemplate\":\"Smokes=0\\u003cbr\\u003eage_cat=%{x}\\u003cbr\\u003ecount=%{y}\\u003cextra\\u003e\\u003c\\u002fextra\\u003e\",\"legendgroup\":\"0\",\"marker\":{\"color\":\"darkcyan\",\"pattern\":{\"shape\":\"\"}},\"name\":\"0\",\"offsetgroup\":\"0\",\"orientation\":\"v\",\"showlegend\":false,\"x\":[\"40's\",\"40's\",\"40's\",\"40's\"],\"xaxis\":\"x3\",\"yaxis\":\"y3\",\"type\":\"histogram\"},{\"alignmentgroup\":\"True\",\"bingroup\":\"x\",\"hovertemplate\":\"Smokes=0\\u003cbr\\u003eage_cat=%{x}\\u003cbr\\u003ecount=%{y}\\u003cextra\\u003e\\u003c\\u002fextra\\u003e\",\"legendgroup\":\"0\",\"marker\":{\"color\":\"darkcyan\",\"pattern\":{\"shape\":\"\"}},\"name\":\"0\",\"offsetgroup\":\"0\",\"orientation\":\"v\",\"showlegend\":false,\"x\":[\"50's\",\"50's\"],\"xaxis\":\"x4\",\"yaxis\":\"y4\",\"type\":\"histogram\"},{\"alignmentgroup\":\"True\",\"bingroup\":\"x\",\"hovertemplate\":\"Smokes=0\\u003cbr\\u003eage_cat=%{x}\\u003cbr\\u003ecount=%{y}\\u003cextra\\u003e\\u003c\\u002fextra\\u003e\",\"legendgroup\":\"0\",\"marker\":{\"color\":\"darkcyan\",\"pattern\":{\"shape\":\"\"}},\"name\":\"0\",\"offsetgroup\":\"0\",\"orientation\":\"v\",\"showlegend\":false,\"x\":[\"70+\"],\"xaxis\":\"x5\",\"yaxis\":\"y5\",\"type\":\"histogram\"},{\"alignmentgroup\":\"True\",\"bingroup\":\"x\",\"hovertemplate\":\"Smokes=1\\u003cbr\\u003eage_cat=%{x}\\u003cbr\\u003ecount=%{y}\\u003cextra\\u003e\\u003c\\u002fextra\\u003e\",\"legendgroup\":\"1\",\"marker\":{\"color\":\"crimson\",\"pattern\":{\"shape\":\"\"}},\"name\":\"1\",\"offsetgroup\":\"1\",\"orientation\":\"v\",\"showlegend\":true,\"x\":[\"30's\",\"30's\"],\"xaxis\":\"x2\",\"yaxis\":\"y2\",\"type\":\"histogram\"},{\"alignmentgroup\":\"True\",\"bingroup\":\"x\",\"hovertemplate\":\"Smokes=1\\u003cbr\\u003eage_cat=%{x}\\u003cbr\\u003ecount=%{y}\\u003cextra\\u003e\\u003c\\u002fextra\\u003e\",\"legendgroup\":\"1\",\"marker\":{\"color\":\"crimson\",\"pattern\":{\"shape\":\"\"}},\"name\":\"1\",\"offsetgroup\":\"1\",\"orientation\":\"v\",\"showlegend\":false,\"x\":[\"40's\"],\"xaxis\":\"x3\",\"yaxis\":\"y3\",\"type\":\"histogram\"},{\"alignmentgroup\":\"True\",\"bingroup\":\"x\",\"hovertemplate\":\"Smokes=1\\u003cbr\\u003eage_cat=%{x}\\u003cbr\\u003ecount=%{y}\\u003cextra\\u003e\\u003c\\u002fextra\\u003e\",\"legendgroup\":\"1\",\"marker\":{\"color\":\"crimson\",\"pattern\":{\"shape\":\"\"}},\"name\":\"1\",\"offsetgroup\":\"1\",\"orientation\":\"v\",\"showlegend\":false,\"x\":[\"50's\"],\"xaxis\":\"x4\",\"yaxis\":\"y4\",\"type\":\"histogram\"}],                        {\"template\":{\"data\":{\"histogram2dcontour\":[{\"type\":\"histogram2dcontour\",\"colorbar\":{\"outlinewidth\":0,\"ticks\":\"\"},\"colorscale\":[[0.0,\"#0d0887\"],[0.1111111111111111,\"#46039f\"],[0.2222222222222222,\"#7201a8\"],[0.3333333333333333,\"#9c179e\"],[0.4444444444444444,\"#bd3786\"],[0.5555555555555556,\"#d8576b\"],[0.6666666666666666,\"#ed7953\"],[0.7777777777777778,\"#fb9f3a\"],[0.8888888888888888,\"#fdca26\"],[1.0,\"#f0f921\"]]}],\"choropleth\":[{\"type\":\"choropleth\",\"colorbar\":{\"outlinewidth\":0,\"ticks\":\"\"}}],\"histogram2d\":[{\"type\":\"histogram2d\",\"colorbar\":{\"outlinewidth\":0,\"ticks\":\"\"},\"colorscale\":[[0.0,\"#0d0887\"],[0.1111111111111111,\"#46039f\"],[0.2222222222222222,\"#7201a8\"],[0.3333333333333333,\"#9c179e\"],[0.4444444444444444,\"#bd3786\"],[0.5555555555555556,\"#d8576b\"],[0.6666666666666666,\"#ed7953\"],[0.7777777777777778,\"#fb9f3a\"],[0.8888888888888888,\"#fdca26\"],[1.0,\"#f0f921\"]]}],\"heatmap\":[{\"type\":\"heatmap\",\"colorbar\":{\"outlinewidth\":0,\"ticks\":\"\"},\"colorscale\":[[0.0,\"#0d0887\"],[0.1111111111111111,\"#46039f\"],[0.2222222222222222,\"#7201a8\"],[0.3333333333333333,\"#9c179e\"],[0.4444444444444444,\"#bd3786\"],[0.5555555555555556,\"#d8576b\"],[0.6666666666666666,\"#ed7953\"],[0.7777777777777778,\"#fb9f3a\"],[0.8888888888888888,\"#fdca26\"],[1.0,\"#f0f921\"]]}],\"heatmapgl\":[{\"type\":\"heatmapgl\",\"colorbar\":{\"outlinewidth\":0,\"ticks\":\"\"},\"colorscale\":[[0.0,\"#0d0887\"],[0.1111111111111111,\"#46039f\"],[0.2222222222222222,\"#7201a8\"],[0.3333333333333333,\"#9c179e\"],[0.4444444444444444,\"#bd3786\"],[0.5555555555555556,\"#d8576b\"],[0.6666666666666666,\"#ed7953\"],[0.7777777777777778,\"#fb9f3a\"],[0.8888888888888888,\"#fdca26\"],[1.0,\"#f0f921\"]]}],\"contourcarpet\":[{\"type\":\"contourcarpet\",\"colorbar\":{\"outlinewidth\":0,\"ticks\":\"\"}}],\"contour\":[{\"type\":\"contour\",\"colorbar\":{\"outlinewidth\":0,\"ticks\":\"\"},\"colorscale\":[[0.0,\"#0d0887\"],[0.1111111111111111,\"#46039f\"],[0.2222222222222222,\"#7201a8\"],[0.3333333333333333,\"#9c179e\"],[0.4444444444444444,\"#bd3786\"],[0.5555555555555556,\"#d8576b\"],[0.6666666666666666,\"#ed7953\"],[0.7777777777777778,\"#fb9f3a\"],[0.8888888888888888,\"#fdca26\"],[1.0,\"#f0f921\"]]}],\"surface\":[{\"type\":\"surface\",\"colorbar\":{\"outlinewidth\":0,\"ticks\":\"\"},\"colorscale\":[[0.0,\"#0d0887\"],[0.1111111111111111,\"#46039f\"],[0.2222222222222222,\"#7201a8\"],[0.3333333333333333,\"#9c179e\"],[0.4444444444444444,\"#bd3786\"],[0.5555555555555556,\"#d8576b\"],[0.6666666666666666,\"#ed7953\"],[0.7777777777777778,\"#fb9f3a\"],[0.8888888888888888,\"#fdca26\"],[1.0,\"#f0f921\"]]}],\"mesh3d\":[{\"type\":\"mesh3d\",\"colorbar\":{\"outlinewidth\":0,\"ticks\":\"\"}}],\"scatter\":[{\"fillpattern\":{\"fillmode\":\"overlay\",\"size\":10,\"solidity\":0.2},\"type\":\"scatter\"}],\"parcoords\":[{\"type\":\"parcoords\",\"line\":{\"colorbar\":{\"outlinewidth\":0,\"ticks\":\"\"}}}],\"scatterpolargl\":[{\"type\":\"scatterpolargl\",\"marker\":{\"colorbar\":{\"outlinewidth\":0,\"ticks\":\"\"}}}],\"bar\":[{\"error_x\":{\"color\":\"#2a3f5f\"},\"error_y\":{\"color\":\"#2a3f5f\"},\"marker\":{\"line\":{\"color\":\"#E5ECF6\",\"width\":0.5},\"pattern\":{\"fillmode\":\"overlay\",\"size\":10,\"solidity\":0.2}},\"type\":\"bar\"}],\"scattergeo\":[{\"type\":\"scattergeo\",\"marker\":{\"colorbar\":{\"outlinewidth\":0,\"ticks\":\"\"}}}],\"scatterpolar\":[{\"type\":\"scatterpolar\",\"marker\":{\"colorbar\":{\"outlinewidth\":0,\"ticks\":\"\"}}}],\"histogram\":[{\"marker\":{\"pattern\":{\"fillmode\":\"overlay\",\"size\":10,\"solidity\":0.2}},\"type\":\"histogram\"}],\"scattergl\":[{\"type\":\"scattergl\",\"marker\":{\"colorbar\":{\"outlinewidth\":0,\"ticks\":\"\"}}}],\"scatter3d\":[{\"type\":\"scatter3d\",\"line\":{\"colorbar\":{\"outlinewidth\":0,\"ticks\":\"\"}},\"marker\":{\"colorbar\":{\"outlinewidth\":0,\"ticks\":\"\"}}}],\"scattermapbox\":[{\"type\":\"scattermapbox\",\"marker\":{\"colorbar\":{\"outlinewidth\":0,\"ticks\":\"\"}}}],\"scatterternary\":[{\"type\":\"scatterternary\",\"marker\":{\"colorbar\":{\"outlinewidth\":0,\"ticks\":\"\"}}}],\"scattercarpet\":[{\"type\":\"scattercarpet\",\"marker\":{\"colorbar\":{\"outlinewidth\":0,\"ticks\":\"\"}}}],\"carpet\":[{\"aaxis\":{\"endlinecolor\":\"#2a3f5f\",\"gridcolor\":\"white\",\"linecolor\":\"white\",\"minorgridcolor\":\"white\",\"startlinecolor\":\"#2a3f5f\"},\"baxis\":{\"endlinecolor\":\"#2a3f5f\",\"gridcolor\":\"white\",\"linecolor\":\"white\",\"minorgridcolor\":\"white\",\"startlinecolor\":\"#2a3f5f\"},\"type\":\"carpet\"}],\"table\":[{\"cells\":{\"fill\":{\"color\":\"#EBF0F8\"},\"line\":{\"color\":\"white\"}},\"header\":{\"fill\":{\"color\":\"#C8D4E3\"},\"line\":{\"color\":\"white\"}},\"type\":\"table\"}],\"barpolar\":[{\"marker\":{\"line\":{\"color\":\"#E5ECF6\",\"width\":0.5},\"pattern\":{\"fillmode\":\"overlay\",\"size\":10,\"solidity\":0.2}},\"type\":\"barpolar\"}],\"pie\":[{\"automargin\":true,\"type\":\"pie\"}]},\"layout\":{\"autotypenumbers\":\"strict\",\"colorway\":[\"#636efa\",\"#EF553B\",\"#00cc96\",\"#ab63fa\",\"#FFA15A\",\"#19d3f3\",\"#FF6692\",\"#B6E880\",\"#FF97FF\",\"#FECB52\"],\"font\":{\"color\":\"#2a3f5f\"},\"hovermode\":\"closest\",\"hoverlabel\":{\"align\":\"left\"},\"paper_bgcolor\":\"white\",\"plot_bgcolor\":\"#E5ECF6\",\"polar\":{\"bgcolor\":\"#E5ECF6\",\"angularaxis\":{\"gridcolor\":\"white\",\"linecolor\":\"white\",\"ticks\":\"\"},\"radialaxis\":{\"gridcolor\":\"white\",\"linecolor\":\"white\",\"ticks\":\"\"}},\"ternary\":{\"bgcolor\":\"#E5ECF6\",\"aaxis\":{\"gridcolor\":\"white\",\"linecolor\":\"white\",\"ticks\":\"\"},\"baxis\":{\"gridcolor\":\"white\",\"linecolor\":\"white\",\"ticks\":\"\"},\"caxis\":{\"gridcolor\":\"white\",\"linecolor\":\"white\",\"ticks\":\"\"}},\"coloraxis\":{\"colorbar\":{\"outlinewidth\":0,\"ticks\":\"\"}},\"colorscale\":{\"sequential\":[[0.0,\"#0d0887\"],[0.1111111111111111,\"#46039f\"],[0.2222222222222222,\"#7201a8\"],[0.3333333333333333,\"#9c179e\"],[0.4444444444444444,\"#bd3786\"],[0.5555555555555556,\"#d8576b\"],[0.6666666666666666,\"#ed7953\"],[0.7777777777777778,\"#fb9f3a\"],[0.8888888888888888,\"#fdca26\"],[1.0,\"#f0f921\"]],\"sequentialminus\":[[0.0,\"#0d0887\"],[0.1111111111111111,\"#46039f\"],[0.2222222222222222,\"#7201a8\"],[0.3333333333333333,\"#9c179e\"],[0.4444444444444444,\"#bd3786\"],[0.5555555555555556,\"#d8576b\"],[0.6666666666666666,\"#ed7953\"],[0.7777777777777778,\"#fb9f3a\"],[0.8888888888888888,\"#fdca26\"],[1.0,\"#f0f921\"]],\"diverging\":[[0,\"#8e0152\"],[0.1,\"#c51b7d\"],[0.2,\"#de77ae\"],[0.3,\"#f1b6da\"],[0.4,\"#fde0ef\"],[0.5,\"#f7f7f7\"],[0.6,\"#e6f5d0\"],[0.7,\"#b8e186\"],[0.8,\"#7fbc41\"],[0.9,\"#4d9221\"],[1,\"#276419\"]]},\"xaxis\":{\"gridcolor\":\"white\",\"linecolor\":\"white\",\"ticks\":\"\",\"title\":{\"standoff\":15},\"zerolinecolor\":\"white\",\"automargin\":true,\"zerolinewidth\":2},\"yaxis\":{\"gridcolor\":\"white\",\"linecolor\":\"white\",\"ticks\":\"\",\"title\":{\"standoff\":15},\"zerolinecolor\":\"white\",\"automargin\":true,\"zerolinewidth\":2},\"scene\":{\"xaxis\":{\"backgroundcolor\":\"#E5ECF6\",\"gridcolor\":\"white\",\"linecolor\":\"white\",\"showbackground\":true,\"ticks\":\"\",\"zerolinecolor\":\"white\",\"gridwidth\":2},\"yaxis\":{\"backgroundcolor\":\"#E5ECF6\",\"gridcolor\":\"white\",\"linecolor\":\"white\",\"showbackground\":true,\"ticks\":\"\",\"zerolinecolor\":\"white\",\"gridwidth\":2},\"zaxis\":{\"backgroundcolor\":\"#E5ECF6\",\"gridcolor\":\"white\",\"linecolor\":\"white\",\"showbackground\":true,\"ticks\":\"\",\"zerolinecolor\":\"white\",\"gridwidth\":2}},\"shapedefaults\":{\"line\":{\"color\":\"#2a3f5f\"}},\"annotationdefaults\":{\"arrowcolor\":\"#2a3f5f\",\"arrowhead\":0,\"arrowwidth\":1},\"geo\":{\"bgcolor\":\"white\",\"landcolor\":\"#E5ECF6\",\"subunitcolor\":\"white\",\"showland\":true,\"showlakes\":true,\"lakecolor\":\"white\"},\"title\":{\"x\":0.05},\"mapbox\":{\"style\":\"light\"}}},\"xaxis\":{\"anchor\":\"y\",\"domain\":[0.0,0.18400000000000002],\"title\":{\"text\":\"Age Category\"},\"categoryorder\":\"array\",\"categoryarray\":[\"20's\",\"30's\",\"40's\",\"50's\",\"70+\"]},\"yaxis\":{\"anchor\":\"x\",\"domain\":[0.0,1.0],\"title\":{\"text\":\"Sum of IUD Usage across age category\"}},\"xaxis2\":{\"anchor\":\"y2\",\"domain\":[0.20400000000000001,0.388],\"matches\":\"x\",\"title\":{\"text\":\"Age Category\"},\"categoryorder\":\"array\",\"categoryarray\":[\"20's\",\"30's\",\"40's\",\"50's\",\"70+\"]},\"yaxis2\":{\"anchor\":\"x2\",\"domain\":[0.0,1.0],\"matches\":\"y\",\"showticklabels\":false,\"title\":{\"text\":\"Sum of IUD Usage across age category\"}},\"xaxis3\":{\"anchor\":\"y3\",\"domain\":[0.40800000000000003,0.5920000000000001],\"matches\":\"x\",\"title\":{\"text\":\"Age Category\"},\"categoryorder\":\"array\",\"categoryarray\":[\"20's\",\"30's\",\"40's\",\"50's\",\"70+\"]},\"yaxis3\":{\"anchor\":\"x3\",\"domain\":[0.0,1.0],\"matches\":\"y\",\"showticklabels\":false,\"title\":{\"text\":\"Sum of IUD Usage across age category\"}},\"xaxis4\":{\"anchor\":\"y4\",\"domain\":[0.6120000000000001,0.7960000000000002],\"matches\":\"x\",\"title\":{\"text\":\"Age Category\"},\"categoryorder\":\"array\",\"categoryarray\":[\"20's\",\"30's\",\"40's\",\"50's\",\"70+\"]},\"yaxis4\":{\"anchor\":\"x4\",\"domain\":[0.0,1.0],\"matches\":\"y\",\"showticklabels\":false,\"title\":{\"text\":\"Sum of IUD Usage across age category\"}},\"xaxis5\":{\"anchor\":\"y5\",\"domain\":[0.8160000000000001,1.0],\"matches\":\"x\",\"title\":{\"text\":\"Age Category\"},\"categoryorder\":\"array\",\"categoryarray\":[\"20's\",\"30's\",\"40's\",\"50's\",\"70+\"]},\"yaxis5\":{\"anchor\":\"x5\",\"domain\":[0.0,1.0],\"matches\":\"y\",\"showticklabels\":false,\"title\":{\"text\":\"Sum of IUD Usage across age category\"}},\"annotations\":[{\"font\":{},\"showarrow\":false,\"text\":\"age_cat=20's\",\"x\":0.09200000000000001,\"xanchor\":\"center\",\"xref\":\"paper\",\"y\":1.0,\"yanchor\":\"bottom\",\"yref\":\"paper\"},{\"font\":{},\"showarrow\":false,\"text\":\"age_cat=30's\",\"x\":0.29600000000000004,\"xanchor\":\"center\",\"xref\":\"paper\",\"y\":1.0,\"yanchor\":\"bottom\",\"yref\":\"paper\"},{\"font\":{},\"showarrow\":false,\"text\":\"age_cat=40's\",\"x\":0.5,\"xanchor\":\"center\",\"xref\":\"paper\",\"y\":1.0,\"yanchor\":\"bottom\",\"yref\":\"paper\"},{\"font\":{},\"showarrow\":false,\"text\":\"age_cat=50's\",\"x\":0.7040000000000002,\"xanchor\":\"center\",\"xref\":\"paper\",\"y\":1.0,\"yanchor\":\"bottom\",\"yref\":\"paper\"},{\"font\":{},\"showarrow\":false,\"text\":\"age_cat=70+\",\"x\":0.908,\"xanchor\":\"center\",\"xref\":\"paper\",\"y\":1.0,\"yanchor\":\"bottom\",\"yref\":\"paper\"}],\"legend\":{\"title\":{\"text\":\"Smokes\"},\"tracegroupgap\":0},\"margin\":{\"t\":60},\"barmode\":\"group\",\"title\":{\"text\":\"Age Ranges of women who use IUD's\"}},                        {\"responsive\": true}                    ).then(function(){\n",
              "                            \n",
              "var gd = document.getElementById('ec3d9f52-ba18-4495-b0d9-8b86b8a8b194');\n",
              "var x = new MutationObserver(function (mutations, observer) {{\n",
              "        var display = window.getComputedStyle(gd).display;\n",
              "        if (!display || display === 'none') {{\n",
              "            console.log([gd, 'removed!']);\n",
              "            Plotly.purge(gd);\n",
              "            observer.disconnect();\n",
              "        }}\n",
              "}});\n",
              "\n",
              "// Listen for the removal of the full notebook cells\n",
              "var notebookContainer = gd.closest('#notebook-container');\n",
              "if (notebookContainer) {{\n",
              "    x.observe(notebookContainer, {childList: true});\n",
              "}}\n",
              "\n",
              "// Listen for the clearing of the current output cell\n",
              "var outputEl = gd.closest('.output');\n",
              "if (outputEl) {{\n",
              "    x.observe(outputEl, {childList: true});\n",
              "}}\n",
              "\n",
              "                        })                };                            </script>        </div>\n",
              "</body>\n",
              "</html>"
            ]
          },
          "metadata": {},
          "output_type": "display_data"
        }
      ],
      "source": [
        "df_IUD_contraceptives = risk_factor_df[(risk_factor_df[\"Hormonal Contraceptives\"] == 0) & (risk_factor_df[\"IUD\"] == 1)]\n",
        "df_IUD_contraceptives = df_IUD_contraceptives.sort_values(by=[\"Smokes\", label], ascending=True)\n",
        "fig = px.histogram(df_IUD_contraceptives, x=\"age_cat\", color=\"Smokes\", barmode=\"group\", facet_col=label,\n",
        "                   color_discrete_sequence=[\"darkcyan\", \"crimson\"])\n",
        "fig.update_xaxes(title=\"Age Category\")\n",
        "fig.update_yaxes(title=\"Sum of IUD Usage across age category\")\n",
        "fig.update_layout(title=\"Age Ranges of women who use IUD's\")\n",
        "fig.show()"
      ]
    },
    {
      "cell_type": "code",
      "execution_count": null,
      "metadata": {
        "colab": {
          "base_uri": "https://localhost:8080/",
          "height": 542
        },
        "id": "JOKsYwz6I3GQ",
        "outputId": "237fe680-f046-42eb-98db-d9558ebdb257"
      },
      "outputs": [
        {
          "data": {
            "text/html": [
              "<html>\n",
              "<head><meta charset=\"utf-8\" /></head>\n",
              "<body>\n",
              "    <div>            <script src=\"https://cdnjs.cloudflare.com/ajax/libs/mathjax/2.7.5/MathJax.js?config=TeX-AMS-MML_SVG\"></script><script type=\"text/javascript\">if (window.MathJax && window.MathJax.Hub && window.MathJax.Hub.Config) {window.MathJax.Hub.Config({SVG: {font: \"STIX-Web\"}});}</script>                <script type=\"text/javascript\">window.PlotlyConfig = {MathJaxConfig: 'local'};</script>\n",
              "        <script charset=\"utf-8\" src=\"https://cdn.plot.ly/plotly-2.24.1.min.js\"></script>                <div id=\"348c0a76-89a7-4d9e-9b84-d4c21681d7a7\" class=\"plotly-graph-div\" style=\"height:525px; width:100%;\"></div>            <script type=\"text/javascript\">                                    window.PLOTLYENV=window.PLOTLYENV || {};                                    if (document.getElementById(\"348c0a76-89a7-4d9e-9b84-d4c21681d7a7\")) {                    Plotly.newPlot(                        \"348c0a76-89a7-4d9e-9b84-d4c21681d7a7\",                        [{\"alignmentgroup\":\"True\",\"bingroup\":\"x\",\"hovertemplate\":\"Smokes=0\\u003cbr\\u003eage_cat=%{x}\\u003cbr\\u003ecount=%{y}\\u003cextra\\u003e\\u003c\\u002fextra\\u003e\",\"legendgroup\":\"0\",\"marker\":{\"color\":\"darkcyan\",\"pattern\":{\"shape\":\"\"}},\"name\":\"0\",\"offsetgroup\":\"0\",\"orientation\":\"v\",\"showlegend\":true,\"x\":[\"20's\",\"20's\",\"20's\",\"20's\",\"20's\",\"20's\",\"20's\",\"20's\",\"20's\",\"20's\",\"20's\",\"20's\",\"20's\",\"20's\",\"20's\"],\"xaxis\":\"x\",\"yaxis\":\"y\",\"type\":\"histogram\"},{\"alignmentgroup\":\"True\",\"bingroup\":\"x\",\"hovertemplate\":\"Smokes=0\\u003cbr\\u003eage_cat=%{x}\\u003cbr\\u003ecount=%{y}\\u003cextra\\u003e\\u003c\\u002fextra\\u003e\",\"legendgroup\":\"0\",\"marker\":{\"color\":\"darkcyan\",\"pattern\":{\"shape\":\"\"}},\"name\":\"0\",\"offsetgroup\":\"0\",\"orientation\":\"v\",\"showlegend\":false,\"x\":[\"40's\",\"40's\",\"40's\",\"40's\",\"40's\",\"40's\",\"40's\",\"40's\",\"40's\",\"40's\"],\"xaxis\":\"x2\",\"yaxis\":\"y2\",\"type\":\"histogram\"},{\"alignmentgroup\":\"True\",\"bingroup\":\"x\",\"hovertemplate\":\"Smokes=0\\u003cbr\\u003eage_cat=%{x}\\u003cbr\\u003ecount=%{y}\\u003cextra\\u003e\\u003c\\u002fextra\\u003e\",\"legendgroup\":\"0\",\"marker\":{\"color\":\"darkcyan\",\"pattern\":{\"shape\":\"\"}},\"name\":\"0\",\"offsetgroup\":\"0\",\"orientation\":\"v\",\"showlegend\":false,\"x\":[\"30's\",\"30's\",\"30's\",\"30's\",\"30's\",\"30's\",\"30's\",\"30's\",\"30's\",\"30's\",\"30's\",\"30's\",\"30's\",\"30's\",\"30's\",\"30's\",\"30's\",\"30's\",\"30's\",\"30's\",\"30's\",\"30's\",\"30's\",\"30's\",\"30's\",\"30's\",\"30's\",\"30's\",\"30's\"],\"xaxis\":\"x3\",\"yaxis\":\"y3\",\"type\":\"histogram\"},{\"alignmentgroup\":\"True\",\"bingroup\":\"x\",\"hovertemplate\":\"Smokes=1\\u003cbr\\u003eage_cat=%{x}\\u003cbr\\u003ecount=%{y}\\u003cextra\\u003e\\u003c\\u002fextra\\u003e\",\"legendgroup\":\"1\",\"marker\":{\"color\":\"crimson\",\"pattern\":{\"shape\":\"\"}},\"name\":\"1\",\"offsetgroup\":\"1\",\"orientation\":\"v\",\"showlegend\":true,\"x\":[\"20's\",\"20's\",\"20's\"],\"xaxis\":\"x\",\"yaxis\":\"y\",\"type\":\"histogram\"}],                        {\"template\":{\"data\":{\"histogram2dcontour\":[{\"type\":\"histogram2dcontour\",\"colorbar\":{\"outlinewidth\":0,\"ticks\":\"\"},\"colorscale\":[[0.0,\"#0d0887\"],[0.1111111111111111,\"#46039f\"],[0.2222222222222222,\"#7201a8\"],[0.3333333333333333,\"#9c179e\"],[0.4444444444444444,\"#bd3786\"],[0.5555555555555556,\"#d8576b\"],[0.6666666666666666,\"#ed7953\"],[0.7777777777777778,\"#fb9f3a\"],[0.8888888888888888,\"#fdca26\"],[1.0,\"#f0f921\"]]}],\"choropleth\":[{\"type\":\"choropleth\",\"colorbar\":{\"outlinewidth\":0,\"ticks\":\"\"}}],\"histogram2d\":[{\"type\":\"histogram2d\",\"colorbar\":{\"outlinewidth\":0,\"ticks\":\"\"},\"colorscale\":[[0.0,\"#0d0887\"],[0.1111111111111111,\"#46039f\"],[0.2222222222222222,\"#7201a8\"],[0.3333333333333333,\"#9c179e\"],[0.4444444444444444,\"#bd3786\"],[0.5555555555555556,\"#d8576b\"],[0.6666666666666666,\"#ed7953\"],[0.7777777777777778,\"#fb9f3a\"],[0.8888888888888888,\"#fdca26\"],[1.0,\"#f0f921\"]]}],\"heatmap\":[{\"type\":\"heatmap\",\"colorbar\":{\"outlinewidth\":0,\"ticks\":\"\"},\"colorscale\":[[0.0,\"#0d0887\"],[0.1111111111111111,\"#46039f\"],[0.2222222222222222,\"#7201a8\"],[0.3333333333333333,\"#9c179e\"],[0.4444444444444444,\"#bd3786\"],[0.5555555555555556,\"#d8576b\"],[0.6666666666666666,\"#ed7953\"],[0.7777777777777778,\"#fb9f3a\"],[0.8888888888888888,\"#fdca26\"],[1.0,\"#f0f921\"]]}],\"heatmapgl\":[{\"type\":\"heatmapgl\",\"colorbar\":{\"outlinewidth\":0,\"ticks\":\"\"},\"colorscale\":[[0.0,\"#0d0887\"],[0.1111111111111111,\"#46039f\"],[0.2222222222222222,\"#7201a8\"],[0.3333333333333333,\"#9c179e\"],[0.4444444444444444,\"#bd3786\"],[0.5555555555555556,\"#d8576b\"],[0.6666666666666666,\"#ed7953\"],[0.7777777777777778,\"#fb9f3a\"],[0.8888888888888888,\"#fdca26\"],[1.0,\"#f0f921\"]]}],\"contourcarpet\":[{\"type\":\"contourcarpet\",\"colorbar\":{\"outlinewidth\":0,\"ticks\":\"\"}}],\"contour\":[{\"type\":\"contour\",\"colorbar\":{\"outlinewidth\":0,\"ticks\":\"\"},\"colorscale\":[[0.0,\"#0d0887\"],[0.1111111111111111,\"#46039f\"],[0.2222222222222222,\"#7201a8\"],[0.3333333333333333,\"#9c179e\"],[0.4444444444444444,\"#bd3786\"],[0.5555555555555556,\"#d8576b\"],[0.6666666666666666,\"#ed7953\"],[0.7777777777777778,\"#fb9f3a\"],[0.8888888888888888,\"#fdca26\"],[1.0,\"#f0f921\"]]}],\"surface\":[{\"type\":\"surface\",\"colorbar\":{\"outlinewidth\":0,\"ticks\":\"\"},\"colorscale\":[[0.0,\"#0d0887\"],[0.1111111111111111,\"#46039f\"],[0.2222222222222222,\"#7201a8\"],[0.3333333333333333,\"#9c179e\"],[0.4444444444444444,\"#bd3786\"],[0.5555555555555556,\"#d8576b\"],[0.6666666666666666,\"#ed7953\"],[0.7777777777777778,\"#fb9f3a\"],[0.8888888888888888,\"#fdca26\"],[1.0,\"#f0f921\"]]}],\"mesh3d\":[{\"type\":\"mesh3d\",\"colorbar\":{\"outlinewidth\":0,\"ticks\":\"\"}}],\"scatter\":[{\"fillpattern\":{\"fillmode\":\"overlay\",\"size\":10,\"solidity\":0.2},\"type\":\"scatter\"}],\"parcoords\":[{\"type\":\"parcoords\",\"line\":{\"colorbar\":{\"outlinewidth\":0,\"ticks\":\"\"}}}],\"scatterpolargl\":[{\"type\":\"scatterpolargl\",\"marker\":{\"colorbar\":{\"outlinewidth\":0,\"ticks\":\"\"}}}],\"bar\":[{\"error_x\":{\"color\":\"#2a3f5f\"},\"error_y\":{\"color\":\"#2a3f5f\"},\"marker\":{\"line\":{\"color\":\"#E5ECF6\",\"width\":0.5},\"pattern\":{\"fillmode\":\"overlay\",\"size\":10,\"solidity\":0.2}},\"type\":\"bar\"}],\"scattergeo\":[{\"type\":\"scattergeo\",\"marker\":{\"colorbar\":{\"outlinewidth\":0,\"ticks\":\"\"}}}],\"scatterpolar\":[{\"type\":\"scatterpolar\",\"marker\":{\"colorbar\":{\"outlinewidth\":0,\"ticks\":\"\"}}}],\"histogram\":[{\"marker\":{\"pattern\":{\"fillmode\":\"overlay\",\"size\":10,\"solidity\":0.2}},\"type\":\"histogram\"}],\"scattergl\":[{\"type\":\"scattergl\",\"marker\":{\"colorbar\":{\"outlinewidth\":0,\"ticks\":\"\"}}}],\"scatter3d\":[{\"type\":\"scatter3d\",\"line\":{\"colorbar\":{\"outlinewidth\":0,\"ticks\":\"\"}},\"marker\":{\"colorbar\":{\"outlinewidth\":0,\"ticks\":\"\"}}}],\"scattermapbox\":[{\"type\":\"scattermapbox\",\"marker\":{\"colorbar\":{\"outlinewidth\":0,\"ticks\":\"\"}}}],\"scatterternary\":[{\"type\":\"scatterternary\",\"marker\":{\"colorbar\":{\"outlinewidth\":0,\"ticks\":\"\"}}}],\"scattercarpet\":[{\"type\":\"scattercarpet\",\"marker\":{\"colorbar\":{\"outlinewidth\":0,\"ticks\":\"\"}}}],\"carpet\":[{\"aaxis\":{\"endlinecolor\":\"#2a3f5f\",\"gridcolor\":\"white\",\"linecolor\":\"white\",\"minorgridcolor\":\"white\",\"startlinecolor\":\"#2a3f5f\"},\"baxis\":{\"endlinecolor\":\"#2a3f5f\",\"gridcolor\":\"white\",\"linecolor\":\"white\",\"minorgridcolor\":\"white\",\"startlinecolor\":\"#2a3f5f\"},\"type\":\"carpet\"}],\"table\":[{\"cells\":{\"fill\":{\"color\":\"#EBF0F8\"},\"line\":{\"color\":\"white\"}},\"header\":{\"fill\":{\"color\":\"#C8D4E3\"},\"line\":{\"color\":\"white\"}},\"type\":\"table\"}],\"barpolar\":[{\"marker\":{\"line\":{\"color\":\"#E5ECF6\",\"width\":0.5},\"pattern\":{\"fillmode\":\"overlay\",\"size\":10,\"solidity\":0.2}},\"type\":\"barpolar\"}],\"pie\":[{\"automargin\":true,\"type\":\"pie\"}]},\"layout\":{\"autotypenumbers\":\"strict\",\"colorway\":[\"#636efa\",\"#EF553B\",\"#00cc96\",\"#ab63fa\",\"#FFA15A\",\"#19d3f3\",\"#FF6692\",\"#B6E880\",\"#FF97FF\",\"#FECB52\"],\"font\":{\"color\":\"#2a3f5f\"},\"hovermode\":\"closest\",\"hoverlabel\":{\"align\":\"left\"},\"paper_bgcolor\":\"white\",\"plot_bgcolor\":\"#E5ECF6\",\"polar\":{\"bgcolor\":\"#E5ECF6\",\"angularaxis\":{\"gridcolor\":\"white\",\"linecolor\":\"white\",\"ticks\":\"\"},\"radialaxis\":{\"gridcolor\":\"white\",\"linecolor\":\"white\",\"ticks\":\"\"}},\"ternary\":{\"bgcolor\":\"#E5ECF6\",\"aaxis\":{\"gridcolor\":\"white\",\"linecolor\":\"white\",\"ticks\":\"\"},\"baxis\":{\"gridcolor\":\"white\",\"linecolor\":\"white\",\"ticks\":\"\"},\"caxis\":{\"gridcolor\":\"white\",\"linecolor\":\"white\",\"ticks\":\"\"}},\"coloraxis\":{\"colorbar\":{\"outlinewidth\":0,\"ticks\":\"\"}},\"colorscale\":{\"sequential\":[[0.0,\"#0d0887\"],[0.1111111111111111,\"#46039f\"],[0.2222222222222222,\"#7201a8\"],[0.3333333333333333,\"#9c179e\"],[0.4444444444444444,\"#bd3786\"],[0.5555555555555556,\"#d8576b\"],[0.6666666666666666,\"#ed7953\"],[0.7777777777777778,\"#fb9f3a\"],[0.8888888888888888,\"#fdca26\"],[1.0,\"#f0f921\"]],\"sequentialminus\":[[0.0,\"#0d0887\"],[0.1111111111111111,\"#46039f\"],[0.2222222222222222,\"#7201a8\"],[0.3333333333333333,\"#9c179e\"],[0.4444444444444444,\"#bd3786\"],[0.5555555555555556,\"#d8576b\"],[0.6666666666666666,\"#ed7953\"],[0.7777777777777778,\"#fb9f3a\"],[0.8888888888888888,\"#fdca26\"],[1.0,\"#f0f921\"]],\"diverging\":[[0,\"#8e0152\"],[0.1,\"#c51b7d\"],[0.2,\"#de77ae\"],[0.3,\"#f1b6da\"],[0.4,\"#fde0ef\"],[0.5,\"#f7f7f7\"],[0.6,\"#e6f5d0\"],[0.7,\"#b8e186\"],[0.8,\"#7fbc41\"],[0.9,\"#4d9221\"],[1,\"#276419\"]]},\"xaxis\":{\"gridcolor\":\"white\",\"linecolor\":\"white\",\"ticks\":\"\",\"title\":{\"standoff\":15},\"zerolinecolor\":\"white\",\"automargin\":true,\"zerolinewidth\":2},\"yaxis\":{\"gridcolor\":\"white\",\"linecolor\":\"white\",\"ticks\":\"\",\"title\":{\"standoff\":15},\"zerolinecolor\":\"white\",\"automargin\":true,\"zerolinewidth\":2},\"scene\":{\"xaxis\":{\"backgroundcolor\":\"#E5ECF6\",\"gridcolor\":\"white\",\"linecolor\":\"white\",\"showbackground\":true,\"ticks\":\"\",\"zerolinecolor\":\"white\",\"gridwidth\":2},\"yaxis\":{\"backgroundcolor\":\"#E5ECF6\",\"gridcolor\":\"white\",\"linecolor\":\"white\",\"showbackground\":true,\"ticks\":\"\",\"zerolinecolor\":\"white\",\"gridwidth\":2},\"zaxis\":{\"backgroundcolor\":\"#E5ECF6\",\"gridcolor\":\"white\",\"linecolor\":\"white\",\"showbackground\":true,\"ticks\":\"\",\"zerolinecolor\":\"white\",\"gridwidth\":2}},\"shapedefaults\":{\"line\":{\"color\":\"#2a3f5f\"}},\"annotationdefaults\":{\"arrowcolor\":\"#2a3f5f\",\"arrowhead\":0,\"arrowwidth\":1},\"geo\":{\"bgcolor\":\"white\",\"landcolor\":\"#E5ECF6\",\"subunitcolor\":\"white\",\"showland\":true,\"showlakes\":true,\"lakecolor\":\"white\"},\"title\":{\"x\":0.05},\"mapbox\":{\"style\":\"light\"}}},\"xaxis\":{\"anchor\":\"y\",\"domain\":[0.0,0.31999999999999995],\"title\":{\"text\":\"Age Category\"},\"categoryorder\":\"array\",\"categoryarray\":[\"20's\",\"40's\",\"30's\"]},\"yaxis\":{\"anchor\":\"x\",\"domain\":[0.0,1.0],\"title\":{\"text\":\"Count\"}},\"xaxis2\":{\"anchor\":\"y2\",\"domain\":[0.33999999999999997,0.6599999999999999],\"matches\":\"x\",\"title\":{\"text\":\"Age Category\"},\"categoryorder\":\"array\",\"categoryarray\":[\"20's\",\"40's\",\"30's\"]},\"yaxis2\":{\"anchor\":\"x2\",\"domain\":[0.0,1.0],\"matches\":\"y\",\"showticklabels\":false,\"title\":{\"text\":\"Count\"}},\"xaxis3\":{\"anchor\":\"y3\",\"domain\":[0.6799999999999999,0.9999999999999999],\"matches\":\"x\",\"title\":{\"text\":\"Age Category\"},\"categoryorder\":\"array\",\"categoryarray\":[\"20's\",\"40's\",\"30's\"]},\"yaxis3\":{\"anchor\":\"x3\",\"domain\":[0.0,1.0],\"matches\":\"y\",\"showticklabels\":false,\"title\":{\"text\":\"Count\"}},\"annotations\":[{\"font\":{},\"showarrow\":false,\"text\":\"age_cat=20's\",\"x\":0.15999999999999998,\"xanchor\":\"center\",\"xref\":\"paper\",\"y\":1.0,\"yanchor\":\"bottom\",\"yref\":\"paper\"},{\"font\":{},\"showarrow\":false,\"text\":\"age_cat=40's\",\"x\":0.49999999999999994,\"xanchor\":\"center\",\"xref\":\"paper\",\"y\":1.0,\"yanchor\":\"bottom\",\"yref\":\"paper\"},{\"font\":{},\"showarrow\":false,\"text\":\"age_cat=30's\",\"x\":0.8399999999999999,\"xanchor\":\"center\",\"xref\":\"paper\",\"y\":1.0,\"yanchor\":\"bottom\",\"yref\":\"paper\"}],\"legend\":{\"title\":{\"text\":\"Smokes\"},\"tracegroupgap\":0},\"margin\":{\"t\":60},\"barmode\":\"group\",\"title\":{\"text\":\"Age Ranges of women who use BOTH Hormonal Contracepties and IUD's\"}},                        {\"responsive\": true}                    ).then(function(){\n",
              "                            \n",
              "var gd = document.getElementById('348c0a76-89a7-4d9e-9b84-d4c21681d7a7');\n",
              "var x = new MutationObserver(function (mutations, observer) {{\n",
              "        var display = window.getComputedStyle(gd).display;\n",
              "        if (!display || display === 'none') {{\n",
              "            console.log([gd, 'removed!']);\n",
              "            Plotly.purge(gd);\n",
              "            observer.disconnect();\n",
              "        }}\n",
              "}});\n",
              "\n",
              "// Listen for the removal of the full notebook cells\n",
              "var notebookContainer = gd.closest('#notebook-container');\n",
              "if (notebookContainer) {{\n",
              "    x.observe(notebookContainer, {childList: true});\n",
              "}}\n",
              "\n",
              "// Listen for the clearing of the current output cell\n",
              "var outputEl = gd.closest('.output');\n",
              "if (outputEl) {{\n",
              "    x.observe(outputEl, {childList: true});\n",
              "}}\n",
              "\n",
              "                        })                };                            </script>        </div>\n",
              "</body>\n",
              "</html>"
            ]
          },
          "metadata": {},
          "output_type": "display_data"
        }
      ],
      "source": [
        "df_both_contraceptives = risk_factor_df[(risk_factor_df[\"Hormonal Contraceptives\"] == 1) & (risk_factor_df[\"IUD\"] == 1)]\n",
        "df_both_contraceptives = df_both_contraceptives.sort_values(by=\"Smokes\")\n",
        "fig = px.histogram(df_both_contraceptives, x=\"age_cat\", color=\"Smokes\", barmode=\"group\", facet_col=label,\n",
        "                   color_discrete_sequence=[\"darkcyan\", \"crimson\"])\n",
        "fig.update_xaxes(title=\"Age Category\")\n",
        "fig.update_yaxes(title=\"Count\")\n",
        "fig.update_layout(title=\"Age Ranges of women who use BOTH Hormonal Contracepties and IUD's\")\n",
        "fig.show()"
      ]
    },
    {
      "cell_type": "markdown",
      "metadata": {
        "id": "-p1YgHIPJIgX"
      },
      "source": [
        "### ADASYN"
      ]
    },
    {
      "cell_type": "code",
      "execution_count": null,
      "metadata": {
        "colab": {
          "base_uri": "https://localhost:8080/"
        },
        "id": "9VitYqKCJN0a",
        "outputId": "1321d204-fe3f-4c12-d467-ae6f2384cabc"
      },
      "outputs": [
        {
          "data": {
            "text/plain": [
              "Index(['Age', 'Number of sexual partners', 'First sexual intercourse',\n",
              "       'Num of pregnancies', 'Smokes', 'Smokes (years)', 'Smokes (packs/year)',\n",
              "       'Hormonal Contraceptives', 'Hormonal Contraceptives (years)', 'IUD',\n",
              "       'IUD (years)', 'STDs', 'STDs (number)', 'STDs:condylomatosis',\n",
              "       'STDs:cervical condylomatosis', 'STDs:vaginal condylomatosis',\n",
              "       'STDs:vulvo-perineal condylomatosis', 'STDs:syphilis',\n",
              "       'STDs:pelvic inflammatory disease', 'STDs:genital herpes',\n",
              "       'STDs:molluscum contagiosum', 'STDs:AIDS', 'STDs:HIV',\n",
              "       'STDs:Hepatitis B', 'STDs:HPV', 'STDs: Number of diagnosis',\n",
              "       'STDs: Time since first diagnosis', 'STDs: Time since last diagnosis',\n",
              "       'Dx:Cancer', 'Dx:CIN', 'Dx:HPV', 'Dx', 'Hinselmann', 'Schiller',\n",
              "       'Citology', 'Biopsy', 'age_cat', 'total_std', 'total_tests'],\n",
              "      dtype='object')"
            ]
          },
          "execution_count": 164,
          "metadata": {},
          "output_type": "execute_result"
        }
      ],
      "source": [
        "test=risk_factor_df[['Number of sexual partners',\t'First sexual intercourse',\t'Num of pregnancies',\t'Smokes','Dx','Hormonal Contraceptives', 'total_std', 'total_tests', 'age_cat']].groupby('age_cat').mean()\n",
        "\n",
        "with open('summary.tex','w') as tf:\n",
        "    tf.write(test.round(2).to_latex())\n",
        "\n",
        "risk_factor_df.columns\n",
        "\n"
      ]
    },
    {
      "cell_type": "code",
      "execution_count": null,
      "metadata": {
        "colab": {
          "base_uri": "https://localhost:8080/",
          "height": 542
        },
        "id": "NVzU2r_RJbtx",
        "outputId": "18f0dd32-6870-4417-c5b7-e46f258380f8"
      },
      "outputs": [
        {
          "data": {
            "text/html": [
              "<html>\n",
              "<head><meta charset=\"utf-8\" /></head>\n",
              "<body>\n",
              "    <div>            <script src=\"https://cdnjs.cloudflare.com/ajax/libs/mathjax/2.7.5/MathJax.js?config=TeX-AMS-MML_SVG\"></script><script type=\"text/javascript\">if (window.MathJax && window.MathJax.Hub && window.MathJax.Hub.Config) {window.MathJax.Hub.Config({SVG: {font: \"STIX-Web\"}});}</script>                <script type=\"text/javascript\">window.PlotlyConfig = {MathJaxConfig: 'local'};</script>\n",
              "        <script charset=\"utf-8\" src=\"https://cdn.plot.ly/plotly-2.24.1.min.js\"></script>                <div id=\"1c18413e-71fe-4848-9b3c-6636f01aabd8\" class=\"plotly-graph-div\" style=\"height:525px; width:100%;\"></div>            <script type=\"text/javascript\">                                    window.PLOTLYENV=window.PLOTLYENV || {};                                    if (document.getElementById(\"1c18413e-71fe-4848-9b3c-6636f01aabd8\")) {                    Plotly.newPlot(                        \"1c18413e-71fe-4848-9b3c-6636f01aabd8\",                        [{\"alignmentgroup\":\"True\",\"bingroup\":\"y\",\"hovertemplate\":\"count=%{x}\\u003cbr\\u003eDx:Cancer=%{y}\\u003cextra\\u003e\\u003c\\u002fextra\\u003e\",\"legendgroup\":\"\",\"marker\":{\"color\":\"#636efa\",\"pattern\":{\"shape\":\"\"}},\"name\":\"\",\"offsetgroup\":\"\",\"orientation\":\"h\",\"showlegend\":false,\"xaxis\":\"x\",\"y\":[0,0,0,1,0,0,0,0,1,0,0,0,0,0,0,0,0,0,0,0,0,0,0,1,0,0,0,0,0,0,0,0,0,0,0,0,0,0,0,0,0,0,0,0,0,0,0,0,0,0,0,0,0,0,0,0,0,0,0,0,0,0,0,0,1,0,0,0,0,0,0,0,0,0,0,0,0,0,0,0,0,0,0,0,0,0,0,0,0,0,0,0,0,0,0,0,0,0,0,0,0,0,0,0,0,0,0,0,0,0,0,0,0,0,0,0,0,0,0,0,0,0,0,0,0,0,0,0,0,0,0,0,0,0,0,0,0,0,0,0,0,0,0,0,0,0,0,0,0,0,0,0,0,0,0,0,0,0,0,0,0,0,0,0,0,0,0,0,0,0,0,0,0,0,0,0,0,0,0,0,0,0,0,0,0,0,0,0,1,0,0,0,0,0,0,0,0,0,0,0,0,0,0,0,0,0,0,0,0,0,0,0,0,0,0,0,0,0,0,0,0,0,0,0,0,0,0,0,0,0,0,0,0,0,0,0,0,0,0,0,0,0,0,0,0,0,0,0,0,0,0,0,0,0,0,0,0,0,0,0,0,0,0,0,0,0,0,0,0,0,0,0,0,0,0,0,0,0,0,0,0,0,0,0,0,0,0,0,0,0,0,0,0,0,0,0,0,0,0,0,0,0,0,0,0,0,0,0,0,0,0,0,0,0,0,0,0,0,0,0,0,0,0,0,0,0,0,0,0,0,0,0,0,0,0,1,0,0,0,0,0,0,0,0,0,0,0,0,0,0,0,0,0,0,0,0,0,0,0,0,0,0,0,0,0,0,0,0,0,0,0,0,0,0,0,0,0,0,0,0,0,0,0,0,0,0,0,0,0,0,0,0,0,0,0,0,0,0,0,0,0,0,0,0,0,0,0,0,0,0,0,0,0,0,0,0,0,0,0,0,0,0,0,0,0,0,0,0,0,0,0,0,1,0,0,0,0,0,0,0,0,0,0,0,0,0,0,0,0,0,0,0,0,0,0,0,0,0,0,0,0,0,0,0,0,0,0,0,0,0,0,0,0,0,0,0,0,0,0,0,0,0,0,0,0,0,0,0,0,0,0,0,0,0,0,0,0,0,0,0,0,0,0,0,0,0,0,0,0,0,0,0,0,0,0,0,0,0,0,0,0,0,0,0,0,0,0,0,0,0,0,0,0,0,0,0,0,0,0,0,0,0,0,0,0,0,0,0,0,0,0,0,0,0,0,0,0,0,0,0,0,0,0,0,0,0,0,0,0,0,0,0,0,0,0,0,0,0,1,0,0,0,0,0,0,0,0,0,0,0,0,0,0,0,0,0,0,0,0,0,0,0,0,0,0,0,0,0,0,0,1,0,0,0,0,0,0,0,0,0,0,0,0,0,0,0,0,0,0,0,0,0,0,0,0,0,0,0,0,0,0,0,0,0,0,0,0,0,0,0,0,0,0,0,0,0,0,0,0,0,0,0,0,0,0,0,0,0,0,1,0,0,0,0,0,0,0,0,0,0,0,0,0,0,0,0,0,0,0,0,0,0,0,0,0,0,0,0,0,0,0,0,0,0,0,0,0,0,0,0,0,0,0,0,0,0,0,0,0,0,0,0,0,0,0,0,0,1,0,0,0,0,0,0,0,0,0,0,1,0,0,0,0,0,0,0,0,0,0,0,0,0,0,0,0,0,0,0,0,0,0,0,0,1,0,0,0,0,0,0,0,0,0,0,0,1,0,0,0,0,0,0,0,0,0,0,0,0,0,0,0,0,0,0,0,0,0,1,0,0,0,0,0,0,0,0,0,0,0,0,0,0,0,0,0,0,0,0,0,0,0,0,1,0,0,0,0,0,0,0,0,0,0,0,0,0,0,0,0,1,0,0,0,0,0,0,0,0,0,1,0,0,0,0,0,0,0,0],\"yaxis\":\"y\",\"type\":\"histogram\"}],                        {\"template\":{\"data\":{\"histogram2dcontour\":[{\"type\":\"histogram2dcontour\",\"colorbar\":{\"outlinewidth\":0,\"ticks\":\"\"},\"colorscale\":[[0.0,\"#0d0887\"],[0.1111111111111111,\"#46039f\"],[0.2222222222222222,\"#7201a8\"],[0.3333333333333333,\"#9c179e\"],[0.4444444444444444,\"#bd3786\"],[0.5555555555555556,\"#d8576b\"],[0.6666666666666666,\"#ed7953\"],[0.7777777777777778,\"#fb9f3a\"],[0.8888888888888888,\"#fdca26\"],[1.0,\"#f0f921\"]]}],\"choropleth\":[{\"type\":\"choropleth\",\"colorbar\":{\"outlinewidth\":0,\"ticks\":\"\"}}],\"histogram2d\":[{\"type\":\"histogram2d\",\"colorbar\":{\"outlinewidth\":0,\"ticks\":\"\"},\"colorscale\":[[0.0,\"#0d0887\"],[0.1111111111111111,\"#46039f\"],[0.2222222222222222,\"#7201a8\"],[0.3333333333333333,\"#9c179e\"],[0.4444444444444444,\"#bd3786\"],[0.5555555555555556,\"#d8576b\"],[0.6666666666666666,\"#ed7953\"],[0.7777777777777778,\"#fb9f3a\"],[0.8888888888888888,\"#fdca26\"],[1.0,\"#f0f921\"]]}],\"heatmap\":[{\"type\":\"heatmap\",\"colorbar\":{\"outlinewidth\":0,\"ticks\":\"\"},\"colorscale\":[[0.0,\"#0d0887\"],[0.1111111111111111,\"#46039f\"],[0.2222222222222222,\"#7201a8\"],[0.3333333333333333,\"#9c179e\"],[0.4444444444444444,\"#bd3786\"],[0.5555555555555556,\"#d8576b\"],[0.6666666666666666,\"#ed7953\"],[0.7777777777777778,\"#fb9f3a\"],[0.8888888888888888,\"#fdca26\"],[1.0,\"#f0f921\"]]}],\"heatmapgl\":[{\"type\":\"heatmapgl\",\"colorbar\":{\"outlinewidth\":0,\"ticks\":\"\"},\"colorscale\":[[0.0,\"#0d0887\"],[0.1111111111111111,\"#46039f\"],[0.2222222222222222,\"#7201a8\"],[0.3333333333333333,\"#9c179e\"],[0.4444444444444444,\"#bd3786\"],[0.5555555555555556,\"#d8576b\"],[0.6666666666666666,\"#ed7953\"],[0.7777777777777778,\"#fb9f3a\"],[0.8888888888888888,\"#fdca26\"],[1.0,\"#f0f921\"]]}],\"contourcarpet\":[{\"type\":\"contourcarpet\",\"colorbar\":{\"outlinewidth\":0,\"ticks\":\"\"}}],\"contour\":[{\"type\":\"contour\",\"colorbar\":{\"outlinewidth\":0,\"ticks\":\"\"},\"colorscale\":[[0.0,\"#0d0887\"],[0.1111111111111111,\"#46039f\"],[0.2222222222222222,\"#7201a8\"],[0.3333333333333333,\"#9c179e\"],[0.4444444444444444,\"#bd3786\"],[0.5555555555555556,\"#d8576b\"],[0.6666666666666666,\"#ed7953\"],[0.7777777777777778,\"#fb9f3a\"],[0.8888888888888888,\"#fdca26\"],[1.0,\"#f0f921\"]]}],\"surface\":[{\"type\":\"surface\",\"colorbar\":{\"outlinewidth\":0,\"ticks\":\"\"},\"colorscale\":[[0.0,\"#0d0887\"],[0.1111111111111111,\"#46039f\"],[0.2222222222222222,\"#7201a8\"],[0.3333333333333333,\"#9c179e\"],[0.4444444444444444,\"#bd3786\"],[0.5555555555555556,\"#d8576b\"],[0.6666666666666666,\"#ed7953\"],[0.7777777777777778,\"#fb9f3a\"],[0.8888888888888888,\"#fdca26\"],[1.0,\"#f0f921\"]]}],\"mesh3d\":[{\"type\":\"mesh3d\",\"colorbar\":{\"outlinewidth\":0,\"ticks\":\"\"}}],\"scatter\":[{\"fillpattern\":{\"fillmode\":\"overlay\",\"size\":10,\"solidity\":0.2},\"type\":\"scatter\"}],\"parcoords\":[{\"type\":\"parcoords\",\"line\":{\"colorbar\":{\"outlinewidth\":0,\"ticks\":\"\"}}}],\"scatterpolargl\":[{\"type\":\"scatterpolargl\",\"marker\":{\"colorbar\":{\"outlinewidth\":0,\"ticks\":\"\"}}}],\"bar\":[{\"error_x\":{\"color\":\"#2a3f5f\"},\"error_y\":{\"color\":\"#2a3f5f\"},\"marker\":{\"line\":{\"color\":\"#E5ECF6\",\"width\":0.5},\"pattern\":{\"fillmode\":\"overlay\",\"size\":10,\"solidity\":0.2}},\"type\":\"bar\"}],\"scattergeo\":[{\"type\":\"scattergeo\",\"marker\":{\"colorbar\":{\"outlinewidth\":0,\"ticks\":\"\"}}}],\"scatterpolar\":[{\"type\":\"scatterpolar\",\"marker\":{\"colorbar\":{\"outlinewidth\":0,\"ticks\":\"\"}}}],\"histogram\":[{\"marker\":{\"pattern\":{\"fillmode\":\"overlay\",\"size\":10,\"solidity\":0.2}},\"type\":\"histogram\"}],\"scattergl\":[{\"type\":\"scattergl\",\"marker\":{\"colorbar\":{\"outlinewidth\":0,\"ticks\":\"\"}}}],\"scatter3d\":[{\"type\":\"scatter3d\",\"line\":{\"colorbar\":{\"outlinewidth\":0,\"ticks\":\"\"}},\"marker\":{\"colorbar\":{\"outlinewidth\":0,\"ticks\":\"\"}}}],\"scattermapbox\":[{\"type\":\"scattermapbox\",\"marker\":{\"colorbar\":{\"outlinewidth\":0,\"ticks\":\"\"}}}],\"scatterternary\":[{\"type\":\"scatterternary\",\"marker\":{\"colorbar\":{\"outlinewidth\":0,\"ticks\":\"\"}}}],\"scattercarpet\":[{\"type\":\"scattercarpet\",\"marker\":{\"colorbar\":{\"outlinewidth\":0,\"ticks\":\"\"}}}],\"carpet\":[{\"aaxis\":{\"endlinecolor\":\"#2a3f5f\",\"gridcolor\":\"white\",\"linecolor\":\"white\",\"minorgridcolor\":\"white\",\"startlinecolor\":\"#2a3f5f\"},\"baxis\":{\"endlinecolor\":\"#2a3f5f\",\"gridcolor\":\"white\",\"linecolor\":\"white\",\"minorgridcolor\":\"white\",\"startlinecolor\":\"#2a3f5f\"},\"type\":\"carpet\"}],\"table\":[{\"cells\":{\"fill\":{\"color\":\"#EBF0F8\"},\"line\":{\"color\":\"white\"}},\"header\":{\"fill\":{\"color\":\"#C8D4E3\"},\"line\":{\"color\":\"white\"}},\"type\":\"table\"}],\"barpolar\":[{\"marker\":{\"line\":{\"color\":\"#E5ECF6\",\"width\":0.5},\"pattern\":{\"fillmode\":\"overlay\",\"size\":10,\"solidity\":0.2}},\"type\":\"barpolar\"}],\"pie\":[{\"automargin\":true,\"type\":\"pie\"}]},\"layout\":{\"autotypenumbers\":\"strict\",\"colorway\":[\"#636efa\",\"#EF553B\",\"#00cc96\",\"#ab63fa\",\"#FFA15A\",\"#19d3f3\",\"#FF6692\",\"#B6E880\",\"#FF97FF\",\"#FECB52\"],\"font\":{\"color\":\"#2a3f5f\"},\"hovermode\":\"closest\",\"hoverlabel\":{\"align\":\"left\"},\"paper_bgcolor\":\"white\",\"plot_bgcolor\":\"#E5ECF6\",\"polar\":{\"bgcolor\":\"#E5ECF6\",\"angularaxis\":{\"gridcolor\":\"white\",\"linecolor\":\"white\",\"ticks\":\"\"},\"radialaxis\":{\"gridcolor\":\"white\",\"linecolor\":\"white\",\"ticks\":\"\"}},\"ternary\":{\"bgcolor\":\"#E5ECF6\",\"aaxis\":{\"gridcolor\":\"white\",\"linecolor\":\"white\",\"ticks\":\"\"},\"baxis\":{\"gridcolor\":\"white\",\"linecolor\":\"white\",\"ticks\":\"\"},\"caxis\":{\"gridcolor\":\"white\",\"linecolor\":\"white\",\"ticks\":\"\"}},\"coloraxis\":{\"colorbar\":{\"outlinewidth\":0,\"ticks\":\"\"}},\"colorscale\":{\"sequential\":[[0.0,\"#0d0887\"],[0.1111111111111111,\"#46039f\"],[0.2222222222222222,\"#7201a8\"],[0.3333333333333333,\"#9c179e\"],[0.4444444444444444,\"#bd3786\"],[0.5555555555555556,\"#d8576b\"],[0.6666666666666666,\"#ed7953\"],[0.7777777777777778,\"#fb9f3a\"],[0.8888888888888888,\"#fdca26\"],[1.0,\"#f0f921\"]],\"sequentialminus\":[[0.0,\"#0d0887\"],[0.1111111111111111,\"#46039f\"],[0.2222222222222222,\"#7201a8\"],[0.3333333333333333,\"#9c179e\"],[0.4444444444444444,\"#bd3786\"],[0.5555555555555556,\"#d8576b\"],[0.6666666666666666,\"#ed7953\"],[0.7777777777777778,\"#fb9f3a\"],[0.8888888888888888,\"#fdca26\"],[1.0,\"#f0f921\"]],\"diverging\":[[0,\"#8e0152\"],[0.1,\"#c51b7d\"],[0.2,\"#de77ae\"],[0.3,\"#f1b6da\"],[0.4,\"#fde0ef\"],[0.5,\"#f7f7f7\"],[0.6,\"#e6f5d0\"],[0.7,\"#b8e186\"],[0.8,\"#7fbc41\"],[0.9,\"#4d9221\"],[1,\"#276419\"]]},\"xaxis\":{\"gridcolor\":\"white\",\"linecolor\":\"white\",\"ticks\":\"\",\"title\":{\"standoff\":15},\"zerolinecolor\":\"white\",\"automargin\":true,\"zerolinewidth\":2},\"yaxis\":{\"gridcolor\":\"white\",\"linecolor\":\"white\",\"ticks\":\"\",\"title\":{\"standoff\":15},\"zerolinecolor\":\"white\",\"automargin\":true,\"zerolinewidth\":2},\"scene\":{\"xaxis\":{\"backgroundcolor\":\"#E5ECF6\",\"gridcolor\":\"white\",\"linecolor\":\"white\",\"showbackground\":true,\"ticks\":\"\",\"zerolinecolor\":\"white\",\"gridwidth\":2},\"yaxis\":{\"backgroundcolor\":\"#E5ECF6\",\"gridcolor\":\"white\",\"linecolor\":\"white\",\"showbackground\":true,\"ticks\":\"\",\"zerolinecolor\":\"white\",\"gridwidth\":2},\"zaxis\":{\"backgroundcolor\":\"#E5ECF6\",\"gridcolor\":\"white\",\"linecolor\":\"white\",\"showbackground\":true,\"ticks\":\"\",\"zerolinecolor\":\"white\",\"gridwidth\":2}},\"shapedefaults\":{\"line\":{\"color\":\"#2a3f5f\"}},\"annotationdefaults\":{\"arrowcolor\":\"#2a3f5f\",\"arrowhead\":0,\"arrowwidth\":1},\"geo\":{\"bgcolor\":\"white\",\"landcolor\":\"#E5ECF6\",\"subunitcolor\":\"white\",\"showland\":true,\"showlakes\":true,\"lakecolor\":\"white\"},\"title\":{\"x\":0.05},\"mapbox\":{\"style\":\"light\"}}},\"xaxis\":{\"anchor\":\"y\",\"domain\":[0.0,1.0],\"title\":{\"text\":\"count\"}},\"yaxis\":{\"anchor\":\"x\",\"domain\":[0.0,1.0],\"title\":{\"text\":\"Dx:Cancer\"}},\"legend\":{\"tracegroupgap\":0},\"margin\":{\"t\":60},\"barmode\":\"relative\",\"bargap\":0.2,\"title\":{\"text\":\"Imbalanced Classes\"}},                        {\"responsive\": true}                    ).then(function(){\n",
              "                            \n",
              "var gd = document.getElementById('1c18413e-71fe-4848-9b3c-6636f01aabd8');\n",
              "var x = new MutationObserver(function (mutations, observer) {{\n",
              "        var display = window.getComputedStyle(gd).display;\n",
              "        if (!display || display === 'none') {{\n",
              "            console.log([gd, 'removed!']);\n",
              "            Plotly.purge(gd);\n",
              "            observer.disconnect();\n",
              "        }}\n",
              "}});\n",
              "\n",
              "// Listen for the removal of the full notebook cells\n",
              "var notebookContainer = gd.closest('#notebook-container');\n",
              "if (notebookContainer) {{\n",
              "    x.observe(notebookContainer, {childList: true});\n",
              "}}\n",
              "\n",
              "// Listen for the clearing of the current output cell\n",
              "var outputEl = gd.closest('.output');\n",
              "if (outputEl) {{\n",
              "    x.observe(outputEl, {childList: true});\n",
              "}}\n",
              "\n",
              "                        })                };                            </script>        </div>\n",
              "</body>\n",
              "</html>"
            ]
          },
          "metadata": {},
          "output_type": "display_data"
        }
      ],
      "source": [
        "label=\"Dx:Cancer\"\n",
        "dx_cancer = px.histogram(risk_factor_df, y=label)\n",
        "dx_cancer.update_layout(bargap=0.2)\n",
        "dx_cancer.update_layout(title = \"Imbalanced Classes\")\n",
        "dx_cancer.show()"
      ]
    },
    {
      "cell_type": "markdown",
      "metadata": {
        "id": "6mOlHHBJ22F5"
      },
      "source": [
        "Here we use ADASYN to balance the dataset"
      ]
    },
    {
      "cell_type": "code",
      "execution_count": null,
      "metadata": {
        "id": "hnkbqEg4JfAx"
      },
      "outputs": [],
      "source": [
        "unbalanced_risk_factor_df = risk_factor_df\n",
        "X = risk_factor_df.drop([label, \"age_cat\"], axis=1)\n",
        "y = risk_factor_df[label].copy()\n",
        "adasyn = ADASYN(random_state=42)\n",
        "x_adasyn,y_adasyn = adasyn.fit_resample(X,y)\n",
        "risk_factor_df = x_adasyn.join(y_adasyn)"
      ]
    },
    {
      "cell_type": "markdown",
      "metadata": {
        "id": "7oanpIJR8qIA"
      },
      "source": [
        "Save ADASYN dataset"
      ]
    },
    {
      "cell_type": "code",
      "execution_count": null,
      "metadata": {
        "colab": {
          "base_uri": "https://localhost:8080/"
        },
        "id": "ajnQ3FvZJlZw",
        "outputId": "6d5cbfdc-ced8-442e-def5-73f305fec7e9"
      },
      "outputs": [
        {
          "name": "stdout",
          "output_type": "stream",
          "text": [
            "Save checkpoint granted\n"
          ]
        }
      ],
      "source": [
        "risk_factor_df[\"age_cat\"] = risk_factor_df[\"Age\"].apply(age_cat)\n",
        "save_data(risk_factor_df, '/content/drive/My Drive/DL4H_Sp24_Final_Project/balanced_risk_factors_cervical_cancer.csv')\n"
      ]
    },
    {
      "cell_type": "markdown",
      "metadata": {
        "id": "-DDWPF4BsugM"
      },
      "source": [
        "### Checkpoint: Load Balanced data"
      ]
    },
    {
      "cell_type": "code",
      "execution_count": null,
      "metadata": {
        "id": "H4sjnuA-Bzw1"
      },
      "outputs": [],
      "source": [
        "try:\n",
        "  data_dir = '/content/drive/My Drive/DL4H_Sp24_Final_Project/balanced_risk_factors_cervical_cancer.csv'\n",
        "  risk_factor_df = load_data(data_dir)\n",
        "  have_access = True\n",
        "except:\n",
        "  have_access = False\n",
        "  data_dir = 'balanced_factors_cervical_cancer.csv'\n",
        "  gdown.download('https://drive.google.com/file/d/1-4EiqdYBbae16azaiZry7Gwhpq7XhwEf/view?usp=share_link', data_dir, format='csv', fuzzy=True,quiet=True)\n",
        "  risk_factor_df = load_data(data_dir)\n",
        "  print(\"No access, Used Gdown!\")\n",
        "risk_factor_df\n",
        "label=\"Dx:Cancer\""
      ]
    },
    {
      "cell_type": "code",
      "execution_count": null,
      "metadata": {
        "colab": {
          "base_uri": "https://localhost:8080/",
          "height": 542
        },
        "id": "rW2sDFwVC43s",
        "outputId": "9dcb5e1d-72ad-4da4-dfc6-4a67858f596a"
      },
      "outputs": [
        {
          "data": {
            "text/html": [
              "<html>\n",
              "<head><meta charset=\"utf-8\" /></head>\n",
              "<body>\n",
              "    <div>            <script src=\"https://cdnjs.cloudflare.com/ajax/libs/mathjax/2.7.5/MathJax.js?config=TeX-AMS-MML_SVG\"></script><script type=\"text/javascript\">if (window.MathJax && window.MathJax.Hub && window.MathJax.Hub.Config) {window.MathJax.Hub.Config({SVG: {font: \"STIX-Web\"}});}</script>                <script type=\"text/javascript\">window.PlotlyConfig = {MathJaxConfig: 'local'};</script>\n",
              "        <script charset=\"utf-8\" src=\"https://cdn.plot.ly/plotly-2.24.1.min.js\"></script>                <div id=\"cc81ca00-f7ff-4114-8936-da05798dd6fa\" class=\"plotly-graph-div\" style=\"height:525px; width:100%;\"></div>            <script type=\"text/javascript\">                                    window.PLOTLYENV=window.PLOTLYENV || {};                                    if (document.getElementById(\"cc81ca00-f7ff-4114-8936-da05798dd6fa\")) {                    Plotly.newPlot(                        \"cc81ca00-f7ff-4114-8936-da05798dd6fa\",                        [{\"alignmentgroup\":\"True\",\"bingroup\":\"y\",\"hovertemplate\":\"count=%{x}\\u003cbr\\u003eDx:Cancer=%{y}\\u003cextra\\u003e\\u003c\\u002fextra\\u003e\",\"legendgroup\":\"\",\"marker\":{\"color\":\"#636efa\",\"pattern\":{\"shape\":\"\"}},\"name\":\"\",\"offsetgroup\":\"\",\"orientation\":\"h\",\"showlegend\":false,\"xaxis\":\"x\",\"y\":[0,0,0,1,0,0,0,0,1,0,0,0,0,0,0,0,0,0,0,0,0,0,0,1,0,0,0,0,0,0,0,0,0,0,0,0,0,0,0,0,0,0,0,0,0,0,0,0,0,0,0,0,0,0,0,0,0,0,0,0,0,0,0,0,1,0,0,0,0,0,0,0,0,0,0,0,0,0,0,0,0,0,0,0,0,0,0,0,0,0,0,0,0,0,0,0,0,0,0,0,0,0,0,0,0,0,0,0,0,0,0,0,0,0,0,0,0,0,0,0,0,0,0,0,0,0,0,0,0,0,0,0,0,0,0,0,0,0,0,0,0,0,0,0,0,0,0,0,0,0,0,0,0,0,0,0,0,0,0,0,0,0,0,0,0,0,0,0,0,0,0,0,0,0,0,0,0,0,0,0,0,0,0,0,0,0,0,0,1,0,0,0,0,0,0,0,0,0,0,0,0,0,0,0,0,0,0,0,0,0,0,0,0,0,0,0,0,0,0,0,0,0,0,0,0,0,0,0,0,0,0,0,0,0,0,0,0,0,0,0,0,0,0,0,0,0,0,0,0,0,0,0,0,0,0,0,0,0,0,0,0,0,0,0,0,0,0,0,0,0,0,0,0,0,0,0,0,0,0,0,0,0,0,0,0,0,0,0,0,0,0,0,0,0,0,0,0,0,0,0,0,0,0,0,0,0,0,0,0,0,0,0,0,0,0,0,0,0,0,0,0,0,0,0,0,0,0,0,0,0,0,0,0,0,0,1,0,0,0,0,0,0,0,0,0,0,0,0,0,0,0,0,0,0,0,0,0,0,0,0,0,0,0,0,0,0,0,0,0,0,0,0,0,0,0,0,0,0,0,0,0,0,0,0,0,0,0,0,0,0,0,0,0,0,0,0,0,0,0,0,0,0,0,0,0,0,0,0,0,0,0,0,0,0,0,0,0,0,0,0,0,0,0,0,0,0,0,0,0,0,0,0,1,0,0,0,0,0,0,0,0,0,0,0,0,0,0,0,0,0,0,0,0,0,0,0,0,0,0,0,0,0,0,0,0,0,0,0,0,0,0,0,0,0,0,0,0,0,0,0,0,0,0,0,0,0,0,0,0,0,0,0,0,0,0,0,0,0,0,0,0,0,0,0,0,0,0,0,0,0,0,0,0,0,0,0,0,0,0,0,0,0,0,0,0,0,0,0,0,0,0,0,0,0,0,0,0,0,0,0,0,0,0,0,0,0,0,0,0,0,0,0,0,0,0,0,0,0,0,0,0,0,0,0,0,0,0,0,0,0,0,0,0,0,0,0,0,0,1,0,0,0,0,0,0,0,0,0,0,0,0,0,0,0,0,0,0,0,0,0,0,0,0,0,0,0,0,0,0,0,1,0,0,0,0,0,0,0,0,0,0,0,0,0,0,0,0,0,0,0,0,0,0,0,0,0,0,0,0,0,0,0,0,0,0,0,0,0,0,0,0,0,0,0,0,0,0,0,0,0,0,0,0,0,0,0,0,0,0,1,0,0,0,0,0,0,0,0,0,0,0,0,0,0,0,0,0,0,0,0,0,0,0,0,0,0,0,0,0,0,0,0,0,0,0,0,0,0,0,0,0,0,0,0,0,0,0,0,0,0,0,0,0,0,0,0,0,1,0,0,0,0,0,0,0,0,0,0,1,0,0,0,0,0,0,0,0,0,0,0,0,0,0,0,0,0,0,0,0,0,0,0,0,1,0,0,0,0,0,0,0,0,0,0,0,1,0,0,0,0,0,0,0,0,0,0,0,0,0,0,0,0,0,0,0,0,0,1,0,0,0,0,0,0,0,0,0,0,0,0,0,0,0,0,0,0,0,0,0,0,0,0,1,0,0,0,0,0,0,0,0,0,0,0,0,0,0,0,0,1,0,0,0,0,0,0,0,0,0,1,0,0,0,0,0,0,0,0,1,1,1,1,1,1,1,1,1,1,1,1,1,1,1,1,1,1,1,1,1,1,1,1,1,1,1,1,1,1,1,1,1,1,1,1,1,1,1,1,1,1,1,1,1,1,1,1,1,1,1,1,1,1,1,1,1,1,1,1,1,1,1,1,1,1,1,1,1,1,1,1,1,1,1,1,1,1,1,1,1,1,1,1,1,1,1,1,1,1,1,1,1,1,1,1,1,1,1,1,1,1,1,1,1,1,1,1,1,1,1,1,1,1,1,1,1,1,1,1,1,1,1,1,1,1,1,1,1,1,1,1,1,1,1,1,1,1,1,1,1,1,1,1,1,1,1,1,1,1,1,1,1,1,1,1,1,1,1,1,1,1,1,1,1,1,1,1,1,1,1,1,1,1,1,1,1,1,1,1,1,1,1,1,1,1,1,1,1,1,1,1,1,1,1,1,1,1,1,1,1,1,1,1,1,1,1,1,1,1,1,1,1,1,1,1,1,1,1,1,1,1,1,1,1,1,1,1,1,1,1,1,1,1,1,1,1,1,1,1,1,1,1,1,1,1,1,1,1,1,1,1,1,1,1,1,1,1,1,1,1,1,1,1,1,1,1,1,1,1,1,1,1,1,1,1,1,1,1,1,1,1,1,1,1,1,1,1,1,1,1,1,1,1,1,1,1,1,1,1,1,1,1,1,1,1,1,1,1,1,1,1,1,1,1,1,1,1,1,1,1,1,1,1,1,1,1,1,1,1,1,1,1,1,1,1,1,1,1,1,1,1,1,1,1,1,1,1,1,1,1,1,1,1,1,1,1,1,1,1,1,1,1,1,1,1,1,1,1,1,1,1,1,1,1,1,1,1,1,1,1,1,1,1,1,1,1,1,1,1,1,1,1,1,1,1,1,1,1,1,1,1,1,1,1,1,1,1,1,1,1,1,1,1,1,1,1,1,1,1,1,1,1,1,1,1,1,1,1,1,1,1,1,1,1,1,1,1,1,1,1,1,1,1,1,1,1,1,1,1,1,1,1,1,1,1,1,1,1,1,1,1,1,1,1,1,1,1,1,1,1,1,1,1,1,1,1,1,1,1,1,1,1,1,1,1,1,1,1,1,1,1,1,1,1,1,1,1,1,1,1,1,1,1,1,1,1,1,1,1,1,1,1,1,1,1,1,1,1,1,1,1,1,1,1,1,1,1,1,1,1,1,1,1,1,1,1,1,1,1,1,1,1,1,1,1,1,1,1,1,1,1,1,1,1,1,1,1,1,1,1,1,1,1,1,1,1,1,1,1,1,1,1,1,1,1,1,1,1,1,1,1,1,1,1,1,1,1,1,1,1,1,1,1,1,1,1,1,1,1,1,1,1,1,1,1,1,1,1,1,1,1,1,1,1,1,1,1,1,1,1,1,1,1,1,1,1,1,1,1,1,1,1,1,1,1,1,1,1,1,1,1,1,1,1,1,1,1,1,1,1,1,1,1,1,1,1,1,1,1,1,1,1,1,1,1,1,1,1,1,1,1,1,1,1,1,1,1,1,1,1,1,1,1,1,1,1,1,1,1,1,1,1,1,1,1,1,1,1,1,1,1,1,1,1,1,1,1,1,1,1,1,1,1,1,1,1,1,1,1,1,1,1,1,1,1,1,1,1,1,1,1,1,1,1,1,1,1,1,1,1,1,1,1,1,1,1,1,1,1,1,1,1,1,1,1,1,1,1,1,1,1,1,1,1,1,1,1,1,1,1,1,1,1,1,1,1,1,1,1,1,1,1,1,1,1,1,1,1,1,1,1,1,1,1,1,1,1,1,1,1,1,1,1,1,1,1,1,1,1,1,1,1,1,1,1,1,1,1],\"yaxis\":\"y\",\"type\":\"histogram\"}],                        {\"template\":{\"data\":{\"histogram2dcontour\":[{\"type\":\"histogram2dcontour\",\"colorbar\":{\"outlinewidth\":0,\"ticks\":\"\"},\"colorscale\":[[0.0,\"#0d0887\"],[0.1111111111111111,\"#46039f\"],[0.2222222222222222,\"#7201a8\"],[0.3333333333333333,\"#9c179e\"],[0.4444444444444444,\"#bd3786\"],[0.5555555555555556,\"#d8576b\"],[0.6666666666666666,\"#ed7953\"],[0.7777777777777778,\"#fb9f3a\"],[0.8888888888888888,\"#fdca26\"],[1.0,\"#f0f921\"]]}],\"choropleth\":[{\"type\":\"choropleth\",\"colorbar\":{\"outlinewidth\":0,\"ticks\":\"\"}}],\"histogram2d\":[{\"type\":\"histogram2d\",\"colorbar\":{\"outlinewidth\":0,\"ticks\":\"\"},\"colorscale\":[[0.0,\"#0d0887\"],[0.1111111111111111,\"#46039f\"],[0.2222222222222222,\"#7201a8\"],[0.3333333333333333,\"#9c179e\"],[0.4444444444444444,\"#bd3786\"],[0.5555555555555556,\"#d8576b\"],[0.6666666666666666,\"#ed7953\"],[0.7777777777777778,\"#fb9f3a\"],[0.8888888888888888,\"#fdca26\"],[1.0,\"#f0f921\"]]}],\"heatmap\":[{\"type\":\"heatmap\",\"colorbar\":{\"outlinewidth\":0,\"ticks\":\"\"},\"colorscale\":[[0.0,\"#0d0887\"],[0.1111111111111111,\"#46039f\"],[0.2222222222222222,\"#7201a8\"],[0.3333333333333333,\"#9c179e\"],[0.4444444444444444,\"#bd3786\"],[0.5555555555555556,\"#d8576b\"],[0.6666666666666666,\"#ed7953\"],[0.7777777777777778,\"#fb9f3a\"],[0.8888888888888888,\"#fdca26\"],[1.0,\"#f0f921\"]]}],\"heatmapgl\":[{\"type\":\"heatmapgl\",\"colorbar\":{\"outlinewidth\":0,\"ticks\":\"\"},\"colorscale\":[[0.0,\"#0d0887\"],[0.1111111111111111,\"#46039f\"],[0.2222222222222222,\"#7201a8\"],[0.3333333333333333,\"#9c179e\"],[0.4444444444444444,\"#bd3786\"],[0.5555555555555556,\"#d8576b\"],[0.6666666666666666,\"#ed7953\"],[0.7777777777777778,\"#fb9f3a\"],[0.8888888888888888,\"#fdca26\"],[1.0,\"#f0f921\"]]}],\"contourcarpet\":[{\"type\":\"contourcarpet\",\"colorbar\":{\"outlinewidth\":0,\"ticks\":\"\"}}],\"contour\":[{\"type\":\"contour\",\"colorbar\":{\"outlinewidth\":0,\"ticks\":\"\"},\"colorscale\":[[0.0,\"#0d0887\"],[0.1111111111111111,\"#46039f\"],[0.2222222222222222,\"#7201a8\"],[0.3333333333333333,\"#9c179e\"],[0.4444444444444444,\"#bd3786\"],[0.5555555555555556,\"#d8576b\"],[0.6666666666666666,\"#ed7953\"],[0.7777777777777778,\"#fb9f3a\"],[0.8888888888888888,\"#fdca26\"],[1.0,\"#f0f921\"]]}],\"surface\":[{\"type\":\"surface\",\"colorbar\":{\"outlinewidth\":0,\"ticks\":\"\"},\"colorscale\":[[0.0,\"#0d0887\"],[0.1111111111111111,\"#46039f\"],[0.2222222222222222,\"#7201a8\"],[0.3333333333333333,\"#9c179e\"],[0.4444444444444444,\"#bd3786\"],[0.5555555555555556,\"#d8576b\"],[0.6666666666666666,\"#ed7953\"],[0.7777777777777778,\"#fb9f3a\"],[0.8888888888888888,\"#fdca26\"],[1.0,\"#f0f921\"]]}],\"mesh3d\":[{\"type\":\"mesh3d\",\"colorbar\":{\"outlinewidth\":0,\"ticks\":\"\"}}],\"scatter\":[{\"fillpattern\":{\"fillmode\":\"overlay\",\"size\":10,\"solidity\":0.2},\"type\":\"scatter\"}],\"parcoords\":[{\"type\":\"parcoords\",\"line\":{\"colorbar\":{\"outlinewidth\":0,\"ticks\":\"\"}}}],\"scatterpolargl\":[{\"type\":\"scatterpolargl\",\"marker\":{\"colorbar\":{\"outlinewidth\":0,\"ticks\":\"\"}}}],\"bar\":[{\"error_x\":{\"color\":\"#2a3f5f\"},\"error_y\":{\"color\":\"#2a3f5f\"},\"marker\":{\"line\":{\"color\":\"#E5ECF6\",\"width\":0.5},\"pattern\":{\"fillmode\":\"overlay\",\"size\":10,\"solidity\":0.2}},\"type\":\"bar\"}],\"scattergeo\":[{\"type\":\"scattergeo\",\"marker\":{\"colorbar\":{\"outlinewidth\":0,\"ticks\":\"\"}}}],\"scatterpolar\":[{\"type\":\"scatterpolar\",\"marker\":{\"colorbar\":{\"outlinewidth\":0,\"ticks\":\"\"}}}],\"histogram\":[{\"marker\":{\"pattern\":{\"fillmode\":\"overlay\",\"size\":10,\"solidity\":0.2}},\"type\":\"histogram\"}],\"scattergl\":[{\"type\":\"scattergl\",\"marker\":{\"colorbar\":{\"outlinewidth\":0,\"ticks\":\"\"}}}],\"scatter3d\":[{\"type\":\"scatter3d\",\"line\":{\"colorbar\":{\"outlinewidth\":0,\"ticks\":\"\"}},\"marker\":{\"colorbar\":{\"outlinewidth\":0,\"ticks\":\"\"}}}],\"scattermapbox\":[{\"type\":\"scattermapbox\",\"marker\":{\"colorbar\":{\"outlinewidth\":0,\"ticks\":\"\"}}}],\"scatterternary\":[{\"type\":\"scatterternary\",\"marker\":{\"colorbar\":{\"outlinewidth\":0,\"ticks\":\"\"}}}],\"scattercarpet\":[{\"type\":\"scattercarpet\",\"marker\":{\"colorbar\":{\"outlinewidth\":0,\"ticks\":\"\"}}}],\"carpet\":[{\"aaxis\":{\"endlinecolor\":\"#2a3f5f\",\"gridcolor\":\"white\",\"linecolor\":\"white\",\"minorgridcolor\":\"white\",\"startlinecolor\":\"#2a3f5f\"},\"baxis\":{\"endlinecolor\":\"#2a3f5f\",\"gridcolor\":\"white\",\"linecolor\":\"white\",\"minorgridcolor\":\"white\",\"startlinecolor\":\"#2a3f5f\"},\"type\":\"carpet\"}],\"table\":[{\"cells\":{\"fill\":{\"color\":\"#EBF0F8\"},\"line\":{\"color\":\"white\"}},\"header\":{\"fill\":{\"color\":\"#C8D4E3\"},\"line\":{\"color\":\"white\"}},\"type\":\"table\"}],\"barpolar\":[{\"marker\":{\"line\":{\"color\":\"#E5ECF6\",\"width\":0.5},\"pattern\":{\"fillmode\":\"overlay\",\"size\":10,\"solidity\":0.2}},\"type\":\"barpolar\"}],\"pie\":[{\"automargin\":true,\"type\":\"pie\"}]},\"layout\":{\"autotypenumbers\":\"strict\",\"colorway\":[\"#636efa\",\"#EF553B\",\"#00cc96\",\"#ab63fa\",\"#FFA15A\",\"#19d3f3\",\"#FF6692\",\"#B6E880\",\"#FF97FF\",\"#FECB52\"],\"font\":{\"color\":\"#2a3f5f\"},\"hovermode\":\"closest\",\"hoverlabel\":{\"align\":\"left\"},\"paper_bgcolor\":\"white\",\"plot_bgcolor\":\"#E5ECF6\",\"polar\":{\"bgcolor\":\"#E5ECF6\",\"angularaxis\":{\"gridcolor\":\"white\",\"linecolor\":\"white\",\"ticks\":\"\"},\"radialaxis\":{\"gridcolor\":\"white\",\"linecolor\":\"white\",\"ticks\":\"\"}},\"ternary\":{\"bgcolor\":\"#E5ECF6\",\"aaxis\":{\"gridcolor\":\"white\",\"linecolor\":\"white\",\"ticks\":\"\"},\"baxis\":{\"gridcolor\":\"white\",\"linecolor\":\"white\",\"ticks\":\"\"},\"caxis\":{\"gridcolor\":\"white\",\"linecolor\":\"white\",\"ticks\":\"\"}},\"coloraxis\":{\"colorbar\":{\"outlinewidth\":0,\"ticks\":\"\"}},\"colorscale\":{\"sequential\":[[0.0,\"#0d0887\"],[0.1111111111111111,\"#46039f\"],[0.2222222222222222,\"#7201a8\"],[0.3333333333333333,\"#9c179e\"],[0.4444444444444444,\"#bd3786\"],[0.5555555555555556,\"#d8576b\"],[0.6666666666666666,\"#ed7953\"],[0.7777777777777778,\"#fb9f3a\"],[0.8888888888888888,\"#fdca26\"],[1.0,\"#f0f921\"]],\"sequentialminus\":[[0.0,\"#0d0887\"],[0.1111111111111111,\"#46039f\"],[0.2222222222222222,\"#7201a8\"],[0.3333333333333333,\"#9c179e\"],[0.4444444444444444,\"#bd3786\"],[0.5555555555555556,\"#d8576b\"],[0.6666666666666666,\"#ed7953\"],[0.7777777777777778,\"#fb9f3a\"],[0.8888888888888888,\"#fdca26\"],[1.0,\"#f0f921\"]],\"diverging\":[[0,\"#8e0152\"],[0.1,\"#c51b7d\"],[0.2,\"#de77ae\"],[0.3,\"#f1b6da\"],[0.4,\"#fde0ef\"],[0.5,\"#f7f7f7\"],[0.6,\"#e6f5d0\"],[0.7,\"#b8e186\"],[0.8,\"#7fbc41\"],[0.9,\"#4d9221\"],[1,\"#276419\"]]},\"xaxis\":{\"gridcolor\":\"white\",\"linecolor\":\"white\",\"ticks\":\"\",\"title\":{\"standoff\":15},\"zerolinecolor\":\"white\",\"automargin\":true,\"zerolinewidth\":2},\"yaxis\":{\"gridcolor\":\"white\",\"linecolor\":\"white\",\"ticks\":\"\",\"title\":{\"standoff\":15},\"zerolinecolor\":\"white\",\"automargin\":true,\"zerolinewidth\":2},\"scene\":{\"xaxis\":{\"backgroundcolor\":\"#E5ECF6\",\"gridcolor\":\"white\",\"linecolor\":\"white\",\"showbackground\":true,\"ticks\":\"\",\"zerolinecolor\":\"white\",\"gridwidth\":2},\"yaxis\":{\"backgroundcolor\":\"#E5ECF6\",\"gridcolor\":\"white\",\"linecolor\":\"white\",\"showbackground\":true,\"ticks\":\"\",\"zerolinecolor\":\"white\",\"gridwidth\":2},\"zaxis\":{\"backgroundcolor\":\"#E5ECF6\",\"gridcolor\":\"white\",\"linecolor\":\"white\",\"showbackground\":true,\"ticks\":\"\",\"zerolinecolor\":\"white\",\"gridwidth\":2}},\"shapedefaults\":{\"line\":{\"color\":\"#2a3f5f\"}},\"annotationdefaults\":{\"arrowcolor\":\"#2a3f5f\",\"arrowhead\":0,\"arrowwidth\":1},\"geo\":{\"bgcolor\":\"white\",\"landcolor\":\"#E5ECF6\",\"subunitcolor\":\"white\",\"showland\":true,\"showlakes\":true,\"lakecolor\":\"white\"},\"title\":{\"x\":0.05},\"mapbox\":{\"style\":\"light\"}}},\"xaxis\":{\"anchor\":\"y\",\"domain\":[0.0,1.0],\"title\":{\"text\":\"count\"}},\"yaxis\":{\"anchor\":\"x\",\"domain\":[0.0,1.0],\"title\":{\"text\":\"Dx:Cancer\"}},\"legend\":{\"tracegroupgap\":0},\"margin\":{\"t\":60},\"barmode\":\"relative\",\"bargap\":0.2,\"title\":{\"text\":\"Balanced Classes\"}},                        {\"responsive\": true}                    ).then(function(){\n",
              "                            \n",
              "var gd = document.getElementById('cc81ca00-f7ff-4114-8936-da05798dd6fa');\n",
              "var x = new MutationObserver(function (mutations, observer) {{\n",
              "        var display = window.getComputedStyle(gd).display;\n",
              "        if (!display || display === 'none') {{\n",
              "            console.log([gd, 'removed!']);\n",
              "            Plotly.purge(gd);\n",
              "            observer.disconnect();\n",
              "        }}\n",
              "}});\n",
              "\n",
              "// Listen for the removal of the full notebook cells\n",
              "var notebookContainer = gd.closest('#notebook-container');\n",
              "if (notebookContainer) {{\n",
              "    x.observe(notebookContainer, {childList: true});\n",
              "}}\n",
              "\n",
              "// Listen for the clearing of the current output cell\n",
              "var outputEl = gd.closest('.output');\n",
              "if (outputEl) {{\n",
              "    x.observe(outputEl, {childList: true});\n",
              "}}\n",
              "\n",
              "                        })                };                            </script>        </div>\n",
              "</body>\n",
              "</html>"
            ]
          },
          "metadata": {},
          "output_type": "display_data"
        }
      ],
      "source": [
        "dx_cancer = px.histogram(risk_factor_df, y=label)\n",
        "dx_cancer.update_layout(bargap=0.2)\n",
        "dx_cancer.update_layout(title = \"Balanced Classes\")\n",
        "dx_cancer.show()"
      ]
    },
    {
      "cell_type": "markdown",
      "metadata": {
        "id": "uQZmOQALJqAk"
      },
      "source": [
        "### Checkpoint: Train Test Split"
      ]
    },
    {
      "cell_type": "markdown",
      "metadata": {
        "id": "KhYeDLt14mPm"
      },
      "source": [
        "Stratifying the data on Age Category"
      ]
    },
    {
      "cell_type": "markdown",
      "metadata": {
        "id": "3fQrPITrXCHU"
      },
      "source": [
        "#### Unbalanced"
      ]
    },
    {
      "cell_type": "code",
      "execution_count": null,
      "metadata": {
        "id": "PRkJNrt0WMfK"
      },
      "outputs": [],
      "source": [
        "unbalanced_train_set = None\n",
        "unbalanced_test_set = None\n",
        "#Stratify the data\n",
        "# 20% in test and 80% in train\n",
        "unbalanced_split = StratifiedShuffleSplit(n_splits=1, test_size=0.2, random_state=42)\n",
        "for train_idx, test_idx in unbalanced_split.split(unbalanced_risk_factor_df, unbalanced_risk_factor_df[\"age_cat\"]):\n",
        "    unbalanced_train_set = unbalanced_risk_factor_df.loc[train_idx]\n",
        "    unbalanced_test_set = unbalanced_risk_factor_df.loc[test_idx]\n",
        "unbalanced_cols_to_drop = [\"age_cat\",\"total_std\",\"total_tests\"]\n",
        "for set_ in (unbalanced_train_set, unbalanced_test_set):\n",
        "    for col in unbalanced_cols_to_drop:\n",
        "        set_.drop(col, axis=1, inplace=True)"
      ]
    },
    {
      "cell_type": "code",
      "execution_count": null,
      "metadata": {
        "id": "gn3d8O6hWkQx"
      },
      "outputs": [],
      "source": [
        "unbalanced_X_train = unbalanced_train_set.drop(label, axis=1)\n",
        "unbalanced_y_train = unbalanced_train_set[label].copy()\n",
        "\n",
        "unbalanced_X_test = unbalanced_test_set.drop(label, axis=1)\n",
        "unbalanced_y_test = unbalanced_test_set[label].copy()\n",
        "\n",
        "unbalanced_X_test.reset_index(drop=True, inplace=True)\n",
        "unbalanced_y_test.reset_index(drop=True, inplace=True)\n",
        "unbalanced_X_train.reset_index(drop=True, inplace=True)\n",
        "unbalanced_y_train.reset_index(drop=True, inplace=True)"
      ]
    },
    {
      "cell_type": "code",
      "execution_count": null,
      "metadata": {
        "colab": {
          "base_uri": "https://localhost:8080/"
        },
        "id": "BHvZ6aViW3CM",
        "outputId": "7dc952f8-e7ba-4c25-8579-4f3840a6f217"
      },
      "outputs": [
        {
          "name": "stdout",
          "output_type": "stream",
          "text": [
            "unbalanced_X_test length:  172\n",
            "unbalanced_X_train length:  686\n",
            "unbalanced_Y_test length:  172\n",
            "unbalanced_Y_train length:  686\n"
          ]
        }
      ],
      "source": [
        "print(\"unbalanced_X_test length: \", len(unbalanced_X_test))\n",
        "print(\"unbalanced_X_train length: \", len(unbalanced_X_train))\n",
        "print(\"unbalanced_Y_test length: \", len(unbalanced_y_test))\n",
        "print(\"unbalanced_Y_train length: \", len(unbalanced_y_train))"
      ]
    },
    {
      "cell_type": "markdown",
      "metadata": {
        "id": "TdgPIL93XEY5"
      },
      "source": [
        "#### Balanced"
      ]
    },
    {
      "cell_type": "code",
      "execution_count": null,
      "metadata": {
        "id": "-ddwrlDIJsu_"
      },
      "outputs": [],
      "source": [
        "train_set = None\n",
        "test_set = None\n",
        "#Stratify the data\n",
        "# 20% in test and 80% in train\n",
        "split = StratifiedShuffleSplit(n_splits=1, test_size=0.2, random_state=42)\n",
        "for train_idx, test_idx in split.split(risk_factor_df, risk_factor_df[\"age_cat\"]):\n",
        "    train_set = risk_factor_df.loc[train_idx]\n",
        "    test_set = risk_factor_df.loc[test_idx]\n",
        "cols_to_drop = [\"age_cat\",\"total_std\",\"total_tests\"]\n",
        "for set_ in (train_set, test_set):\n",
        "    for col in cols_to_drop:\n",
        "        set_.drop(col, axis=1, inplace=True)"
      ]
    },
    {
      "cell_type": "code",
      "execution_count": null,
      "metadata": {
        "id": "nBdIjIZFJxGG"
      },
      "outputs": [],
      "source": [
        "X_train = train_set.drop(label, axis=1)\n",
        "y_train = train_set[label].copy()\n",
        "\n",
        "X_test = test_set.drop(label, axis=1)\n",
        "y_test = test_set[label].copy()\n",
        "\n",
        "X_test.reset_index(drop=True, inplace=True)\n",
        "y_test.reset_index(drop=True, inplace=True)\n",
        "X_train.reset_index(drop=True, inplace=True)\n",
        "y_train.reset_index(drop=True, inplace=True)"
      ]
    },
    {
      "cell_type": "code",
      "execution_count": null,
      "metadata": {
        "colab": {
          "base_uri": "https://localhost:8080/"
        },
        "id": "nl1d9Jt7J00e",
        "outputId": "e7b902b7-8b56-4341-c6e6-e1fd1b514167"
      },
      "outputs": [
        {
          "name": "stdout",
          "output_type": "stream",
          "text": [
            "X_test length:  336\n",
            "X_train length:  1341\n",
            "Y_test length:  336\n",
            "Y_train length:  1341\n"
          ]
        }
      ],
      "source": [
        "print(\"X_test length: \", len(X_test))\n",
        "print(\"X_train length: \", len(X_train))\n",
        "print(\"Y_test length: \", len(y_test))\n",
        "print(\"Y_train length: \", len(y_train))"
      ]
    },
    {
      "cell_type": "markdown",
      "metadata": {
        "id": "e7F3T06S68A6"
      },
      "source": [
        "Unclear where this comes into the code at the moment"
      ]
    },
    {
      "cell_type": "code",
      "execution_count": null,
      "metadata": {
        "id": "qOS8I3ZkJ3Me"
      },
      "outputs": [],
      "source": [
        "#without random var\n",
        "X_test.to_csv('/content/drive/My Drive/DL4H_Sp24_Final_Project/X_test.csv')\n",
        "\n",
        "\n",
        "#have not ran the rest of this block yet yet\n",
        "y_test.to_csv('/content/drive/My Drive/DL4H_Sp24_Final_Project/y_test.csv')\n",
        "X_train.to_csv('/content/drive/My Drive/DL4H_Sp24_Final_Project/X_train.csv')\n",
        "y_train.to_csv('/content/drive/My Drive/DL4H_Sp24_Final_Project/y_train.csv')\n",
        "\n",
        "#with random var\n",
        "#binary\n",
        "X_test.to_csv('/content/drive/My Drive/DL4H_Sp24_Final_Project/RX_test2.csv')\n",
        "y_test.to_csv('/content/drive/My Drive/DL4H_Sp24_Final_Project/Ry_test2.csv')\n",
        "X_train.to_csv('/content/drive/My Drive/DL4H_Sp24_Final_Project/RX_train2.csv')\n",
        "y_train.to_csv('/content/drive/My Drive/DL4H_Sp24_Final_Project/Ry_train2.csv')\n",
        "#continous\n",
        "X_test.to_csv('/content/drive/My Drive/DL4H_Sp24_Final_Project/RX_test.csv')\n",
        "y_test.to_csv('/content/drive/My Drive/DL4H_Sp24_Final_Project/Ry_test.csv')\n",
        "X_train.to_csv('/content/drive/My Drive/DL4H_Sp24_Final_Project/RX_train.csv')\n",
        "y_train.to_csv('/content/drive/My Drive/DL4H_Sp24_Final_Project/Ry_train.csv')\n",
        "\n",
        "\n",
        "\n"
      ]
    },
    {
      "cell_type": "markdown",
      "metadata": {
        "id": "FjeS2uWW1cub"
      },
      "source": [
        "## Checkpoint: Model Setup\n",
        "\n",
        "We will be comparing different models: RF, SVM, LR, KNN, MLP"
      ]
    },
    {
      "cell_type": "markdown",
      "metadata": {
        "id": "ptBIChffRdIj"
      },
      "source": [
        "### Model 1: Logistic Regression.\n",
        "\n",
        "This is a simple linear model and does not have layers.\n",
        "\n",
        "The sigmoid function is used as its activation.\n",
        "\n",
        "lbfgs is used as the solver with L2 regularization\n",
        "\n",
        "The default max_iter for convergence is 100."
      ]
    },
    {
      "cell_type": "code",
      "execution_count": null,
      "metadata": {
        "id": "einRqtSX-J1t"
      },
      "outputs": [],
      "source": [
        "param_grid = {'C': np.logspace(-5, 8, 15)}\n",
        "\n",
        "logreg = LogisticRegression()\n",
        "logreg_cv = GridSearchCV(logreg, param_grid, cv=10,refit=True)\n",
        "unbalanced_logreg_cv = GridSearchCV(logreg, param_grid, cv=10,refit=True)"
      ]
    },
    {
      "cell_type": "markdown",
      "metadata": {
        "id": "ssVYanLVSFEw"
      },
      "source": [
        "### Model 2: RandomForestClassifier\n",
        "\n",
        "Ensemble machine learning model using groups of decision trees to reduce overfitting\n",
        "\n",
        "The default n_estimators is 100\n",
        "\n",
        "Default criterion = gini\n",
        "\n",
        "Convergence ends when all leaves are pure or until each leaf is equal to min_samples_leaf (by default set to 2)\n",
        "\n"
      ]
    },
    {
      "cell_type": "code",
      "execution_count": null,
      "metadata": {
        "id": "KGeaMmQtTDOe"
      },
      "outputs": [],
      "source": [
        "rnd_clf = RandomForestClassifier()\n",
        "unbalanced_rnd_clf = RandomForestClassifier()"
      ]
    },
    {
      "cell_type": "markdown",
      "metadata": {
        "id": "x0nJHTtiR4cn"
      },
      "source": [
        "### Model 3: KNeighborsClassifier\n",
        "\n",
        "A machine learning iterative classification method that uses a distance function to group similar data\n",
        "\n",
        "n_neighbors (number of surrounding data points to consider) is 5 by default"
      ]
    },
    {
      "cell_type": "code",
      "execution_count": null,
      "metadata": {
        "id": "MSqWSkW3VNuI"
      },
      "outputs": [],
      "source": [
        "knn_clf = KNeighborsClassifier()\n",
        "knn_param_grid = {\"n_neighbors\": list(np.arange(1, 100, 2))}\n",
        "knn_clf_cv = GridSearchCV(knn_clf, knn_param_grid, cv=10,refit=True)\n",
        "unbalanced_knn_clf_cv = GridSearchCV(knn_clf, knn_param_grid, cv=10,refit=True)"
      ]
    },
    {
      "cell_type": "markdown",
      "metadata": {
        "id": "9eW4laRISM4Y"
      },
      "source": [
        "### MODEL 4: SupportVectorClassifier\n",
        "\n",
        "Support vector models are classfication algorithm that uses hyperplances to classify data points using a maximum margin between decision boundaries and the closest data points.\n",
        "\n",
        "The regularization parameter C is set to 1 by default.\n",
        "\n",
        "The kernel type is set to 'rbf' (radial basis function) by default\n"
      ]
    },
    {
      "cell_type": "code",
      "execution_count": null,
      "metadata": {
        "id": "pV5JCPQi-S9H"
      },
      "outputs": [],
      "source": [
        "svm_clf = SVC()\n",
        "svc_param_grid = {'C': np.logspace(-3, 2, 6), 'gamma': np.logspace(-3, 2, 6), }\n",
        "svm_clf_cv = GridSearchCV(svm_clf, svc_param_grid, cv=5, refit=True)\n",
        "unbalanced_svm_clf_cv = GridSearchCV(svm_clf, svc_param_grid, cv=5, refit=True)"
      ]
    },
    {
      "cell_type": "markdown",
      "metadata": {
        "id": "9oN1gbNwSV-Z"
      },
      "source": [
        "### MODEL 5: MLPClassifier\n",
        "\n",
        "MLPs are neural networks used for pattern detection.\n",
        "\n",
        "They consist of 3 layers of nodes, an input layer, a hidden layer, and an output layer.\n",
        "\n",
        "The default max_iter is 200.\n",
        "\n",
        "The optimizer is 'Adam'\n",
        "\n",
        "Each node uses a nonlinear activation function. By default this is ReLu for the hidden layer. For the output layer, softmax is used by default for multi-class classification problems and logistic for binary classification problems.\n",
        "\n",
        " Backpropagation and gradient descent is used to to train and minimize loss."
      ]
    },
    {
      "cell_type": "code",
      "execution_count": null,
      "metadata": {
        "id": "fGTS3mpS-WVO"
      },
      "outputs": [],
      "source": [
        "nn_clf = MLPClassifier()\n",
        "unbalanced_nn_clf = MLPClassifier()\n"
      ]
    },
    {
      "cell_type": "markdown",
      "metadata": {
        "id": "mki-o3nnEWxB"
      },
      "source": [
        "### Set up training metrics"
      ]
    },
    {
      "cell_type": "code",
      "execution_count": null,
      "metadata": {
        "id": "TiP4nECPEg8B"
      },
      "outputs": [],
      "source": [
        "# metrics to evaluate my model\n",
        "# Define column names for the summary DataFrame\n",
        "col_names = [\"Classifier Name\", \"Accuracy Score\", \"Precision Score\", \"Recall Score\", \"F1 Score\", \"AUROC\"]\n",
        "# Initialize the summary DataFrame with predefined column names\n",
        "unbalanced_summary_df = pd.DataFrame(columns=col_names)\n",
        "\n",
        "# Lists to store the metrics for each estimator\n",
        "unbalanced_est_name = []\n",
        "unbalanced_est_acc = []\n",
        "unbalanced_precision_score = []\n",
        "unbalanced_recall_score = []\n",
        "unbalanced_f1score = []\n",
        "unbalanced_est_conf_matrix = []\n",
        "unbalanced_roc=[]\n",
        "\n",
        "# List of tuples containing the classifiers to evaluate and their respective variable names\n",
        "unbalanced_estimators = [\n",
        "    (\"UnbalancedLogisticRegression\", unbalanced_logreg_cv),\n",
        "    (\"UnbalancedRandomForestClassifier\", unbalanced_rnd_clf),\n",
        "    (\"UnbalancedKNeighborsClassifier\", unbalanced_knn_clf_cv),\n",
        "    (\"UnbalancedSupportVectorClassifier\", unbalanced_svm_clf_cv),\n",
        "    (\"UnbalancedMLPClassifier\", unbalanced_nn_clf)\n",
        "    ]\n",
        "\n",
        "unbalanced_models = ['UnbalancedLogisticRegression.pkl',\n",
        "                     'UnbalancedRandomForestClassifier.pkl',\n",
        "                     'UnbalancedKNeighborsClassifier.pkl',\n",
        "                     'UnbalancedSupportVectorClassifier.pkl',\n",
        "                     'UnbalancedMLPClassifier.pkl']\n",
        "\n",
        "summary_df = pd.DataFrame(columns=col_names)\n",
        "\n",
        "\n",
        "# Lists to store the metrics for each estimator\n",
        "est_name = []\n",
        "est_acc = []\n",
        "precision_score = []\n",
        "recall_score = []\n",
        "f1score = []\n",
        "est_conf_matrix = []\n",
        "roc=[]\n",
        "\n",
        "# List of tuples containing the classifiers to evaluate and their respective variable names\n",
        "estimators = [\n",
        "    (\"LogisticRegression\", logreg_cv),\n",
        "    (\"RandomForestClassifier\", rnd_clf),\n",
        "    (\"KNeighborsClassifier\", knn_clf_cv),\n",
        "    (\"SupportVectorClassifier\", svm_clf_cv),\n",
        "    (\"MLPClassifier\", nn_clf)\n",
        "    ]\n",
        "balanced_models = ['LogisticRegression.pkl',\n",
        "                     'RandomForestClassifier.pkl',\n",
        "                     'KNeighborsClassifier.pkl',\n",
        "                     'SupportVectorClassifier.pkl',\n",
        "                     'MLPClassifier.pkl']"
      ]
    },
    {
      "cell_type": "markdown",
      "metadata": {
        "id": "3muyDPFPbozY"
      },
      "source": [
        "##   Model Training\n",
        "\n",
        "\n"
      ]
    },
    {
      "cell_type": "markdown",
      "metadata": {
        "id": "BhHWY9zfK9-d"
      },
      "source": [
        "### Unbalanced Training (Ablation)"
      ]
    },
    {
      "cell_type": "code",
      "execution_count": null,
      "metadata": {
        "colab": {
          "base_uri": "https://localhost:8080/"
        },
        "id": "I7SjjCOTE-pm",
        "outputId": "4d0f9533-ca9c-4cd2-bd55-da6a81a0fc66"
      },
      "outputs": [
        {
          "name": "stdout",
          "output_type": "stream",
          "text": [
            "Training  UnbalancedLogisticRegression\n",
            "Training  UnbalancedRandomForestClassifier\n",
            "Training  UnbalancedKNeighborsClassifier\n",
            "Training  UnbalancedSupportVectorClassifier\n",
            "Training  UnbalancedMLPClassifier\n"
          ]
        }
      ],
      "source": [
        "# Iterate over the estimators to train\n",
        "for i in range(len(unbalanced_estimators)):\n",
        "    unbalanced_clf_name, unbalanced_clf = unbalanced_estimators[i]  # Unpack the classifier name and the classifier object\n",
        "    print(\"Training \", unbalanced_clf_name)\n",
        "    unbalanced_clf.fit(unbalanced_X_train, unbalanced_y_train)  # Train the classifier\n",
        "    gd_model_name = root + unbalanced_clf_name + '.pkl'\n",
        "    with open(gd_model_name, 'wb') as file:\n",
        "      pickle.dump(unbalanced_clf, file)\n",
        "unbalanced_clf_name, unbalanced_clf = '',''"
      ]
    },
    {
      "cell_type": "markdown",
      "metadata": {
        "id": "mwcSYcFVLRWs"
      },
      "source": [
        "### Balanced Training"
      ]
    },
    {
      "cell_type": "code",
      "execution_count": null,
      "metadata": {
        "colab": {
          "base_uri": "https://localhost:8080/"
        },
        "id": "6EJq5IUtMZ-H",
        "outputId": "8d66354e-2bfd-4ee7-f4cb-9203ff06d1c8"
      },
      "outputs": [
        {
          "name": "stdout",
          "output_type": "stream",
          "text": [
            "Training  LogisticRegression\n",
            "Training  RandomForestClassifier\n",
            "Training  KNeighborsClassifier\n"
          ]
        }
      ],
      "source": [
        "for i in range(len(estimators)):\n",
        "    clf_name, clf = estimators[i]  # Unpack the classifier name and the classifier object\n",
        "    print(\"Training \", clf_name)\n",
        "    clf.fit(X_train, y_train)  # Train the classifier\n",
        "    gd_model_name = root + clf_name + '.pkl'\n",
        "    with open(gd_model_name, 'wb') as file:\n",
        "      pickle.dump(clf, file)\n",
        "clf_name, clf = '',''"
      ]
    },
    {
      "cell_type": "markdown",
      "metadata": {
        "id": "zqXKcqRmGhxi"
      },
      "source": [
        "## Summary"
      ]
    },
    {
      "cell_type": "code",
      "execution_count": null,
      "metadata": {
        "id": "vUNYilrHG65R"
      },
      "outputs": [],
      "source": [
        "#acc_comparison.write_image('/content/drive/My Drive/dataXAI/cancer/modelsperf.png')"
      ]
    },
    {
      "cell_type": "markdown",
      "metadata": {
        "id": "lGZC1RbIL9za"
      },
      "source": [
        "### Commented out model code with logloss"
      ]
    },
    {
      "cell_type": "code",
      "execution_count": null,
      "metadata": {
        "id": "JZPcfITSQNm7"
      },
      "outputs": [],
      "source": [
        "\n",
        "# # Our Models:\n",
        "# # Logistic Regression\n",
        "# # Random Forest\n",
        "# # Support Vector Machines (SVM)\n",
        "# # K-Nearest Neighbors (KNN)\n",
        "# # Multilayer Perceptron (MLP)\n",
        "\n",
        "# # Use a negative log-loss function with a regularization constant for training.\n",
        "# # Select the best model based on the minimum loss across all five models.\n",
        "\n",
        "# import pandas as pd\n",
        "# from sklearn.model_selection import train_test_split\n",
        "# from sklearn.linear_model import LogisticRegression\n",
        "# from sklearn.ensemble import RandomForestClassifier\n",
        "# from sklearn.svm import SVC\n",
        "# from sklearn.neighbors import KNeighborsClassifier\n",
        "# from sklearn.neural_network import MLPClassifier\n",
        "# from sklearn.metrics import log_loss\n",
        "\n",
        "# # Define a mapping from age categories to numeric values\n",
        "# age_cat_mapping = {\n",
        "#     'Teen': 10,\n",
        "#     \"20's\": 20,\n",
        "#     \"30's\": 30,\n",
        "#     \"40's\": 40,\n",
        "#     \"50's\": 50,\n",
        "#     '70+': 70\n",
        "# }\n",
        "\n",
        "# # Apply the mapping to the 'age_cat' column\n",
        "# risk_factor_df['age_cat'] = risk_factor_df['age_cat'].map(age_cat_mapping)\n",
        "\n",
        "# # Define X (features) and y (target)\n",
        "# # Drop the target column to create the feature matrix\n",
        "# X = risk_factor_df.drop(columns=['Dx:Cancer'])\n",
        "# # Target variable\n",
        "# y = risk_factor_df['Dx:Cancer']\n",
        "\n",
        "# # Split the data into training and test sets\n",
        "# X_train, X_test, y_train, y_test = train_test_split(X, y, test_size=0.3, random_state=42)\n",
        "\n",
        "# # Define the models\n",
        "# models = {\n",
        "#     'Logistic Regression': LogisticRegression(solver='liblinear', random_state=42),\n",
        "#     'Random Forest': RandomForestClassifier(random_state=42),\n",
        "#     'SVM': SVC(probability=True, random_state=42),\n",
        "#     'KNN': KNeighborsClassifier(),\n",
        "#     'MLP': MLPClassifier(random_state=42)\n",
        "# }\n",
        "\n",
        "# # Train the models and calculate the negative log loss\n",
        "# log_losses = {}\n",
        "# for name, model in models.items():\n",
        "#     model.fit(X_train, y_train)\n",
        "#     if hasattr(model, \"predict_proba\"):\n",
        "#         y_pred_proba = model.predict_proba(X_test)\n",
        "#         log_losses[name] = log_loss(y_test, y_pred_proba)\n",
        "#     else:\n",
        "#         print(f\"Model {name} does not support probability estimates, skipping log loss calculation.\")\n",
        "\n",
        "# # Find the best model based on the minimum log loss\n",
        "# if log_losses:\n",
        "#     best_model_name = min(log_losses, key=log_losses.get)\n",
        "#     best_model = models[best_model_name]\n",
        "#     print(f\"The best model is {best_model_name} with a log loss of {log_losses[best_model_name]}\")\n"
      ]
    },
    {
      "cell_type": "markdown",
      "metadata": {
        "id": "gX6bCcZNuxmz"
      },
      "source": [
        "# Checkpoint: Results\n",
        "In this section, you should finish training your model training or loading your trained model. That is a great experiment! You should share the results with others with necessary metrics and figures.\n",
        "\n",
        "Please test and report results for all experiments that you run with:\n",
        "\n",
        "*   specific numbers (accuracy, AUC, RMSE, etc)\n",
        "*   figures (loss shrinkage, outputs from GAN, annotation or label of sample pictures, etc)\n"
      ]
    },
    {
      "cell_type": "markdown",
      "metadata": {
        "id": "1v674LHdOgus"
      },
      "source": [
        "### Download pickle models with gdown"
      ]
    },
    {
      "cell_type": "code",
      "execution_count": null,
      "metadata": {
        "id": "7Gq_m9ZRO5WN"
      },
      "outputs": [],
      "source": [
        "# LogisticRegression\n",
        "gdown.download('https://drive.google.com/file/d/1-4D7VkQ4qewUnyrzPw1izMk9WjMvQ13D/view?usp=share_link', unbalanced_models[0], fuzzy=True,quiet=True)\n",
        "gdown.download('https://drive.google.com/file/d/1-94qCsT0VdS-CvO237Z0TeUWCouKDeyl/view?usp=share_link', balanced_models[0], fuzzy=True,quiet=True)\n",
        "# RandomForestClassifier\n",
        "gdown.download('https://drive.google.com/file/d/1-PBTxxalNfXQNKpX8Bg9ojFRtPGEsvbw/view?usp=share_link', unbalanced_models[1], fuzzy=True,quiet=True)\n",
        "gdown.download('https://drive.google.com/file/d/1-Qdk5tk2RCLhbfVW400S2qBI6ikStRBh/view?usp=share_link', balanced_models[1], fuzzy=True,quiet=True)\n",
        "# KNeighborsClassifier\n",
        "gdown.download('https://drive.google.com/file/d/1-Rg4cRA6NdtPeHPFnablplZ0T7e323Qg/view?usp=share_link', unbalanced_models[2], fuzzy=True,quiet=True)\n",
        "gdown.download('https://drive.google.com/file/d/1-TKog0oufiDcfCJtv_gQdYTiw1rK6VkN/view?usp=share_link', balanced_models[2], fuzzy=True,quiet=True)\n",
        "# SupportVectorClassifier\n",
        "gdown.download('https://drive.google.com/file/d/1_g0BZHdpuPP9xlj0jKWJ-8fVZe4sTPkA/view?usp=sharing', unbalanced_models[3], fuzzy=True,quiet=True)\n",
        "gdown.download('https://drive.google.com/file/d/1-3sNvATHD55evt_9nSzf3nBP6XWLknjL/view?usp=sharing', balanced_models[3], fuzzy=True,quiet=True)\n",
        "# MLPClassifier\n",
        "gdown.download('https://drive.google.com/file/d/1-3P6L-WKDrfMNgwp372f3vgY9Px0SEIm/view?usp=sharing', unbalanced_models[4], fuzzy=True,quiet=True)\n",
        "gdown.download('https://drive.google.com/file/d/1-DmdcIFHJFKUtAhhVW1XbVlwbfjOpWS2/view?usp=sharing', balanced_models[4], fuzzy=True,quiet=True)"
      ]
    },
    {
      "cell_type": "markdown",
      "metadata": {
        "id": "AmEUj9wKRquW"
      },
      "source": [
        "## Model Execution"
      ]
    },
    {
      "cell_type": "markdown",
      "metadata": {
        "id": "LF9UKlNMDo0v"
      },
      "source": [
        "### Unbalanced evaluation (ablation)"
      ]
    },
    {
      "cell_type": "code",
      "execution_count": null,
      "metadata": {
        "id": "1cvdvmHZYdey"
      },
      "outputs": [],
      "source": [
        "# Iterate over the trained models to evaluate each one\n",
        "for i in range(len(unbalanced_estimators)):\n",
        "    with open(unbalanced_models[i], 'rb') as file:\n",
        "      downloaded_model = pickle.load(file)\n",
        "    unbalanced_clf_name, _ = unbalanced_estimators[i]\n",
        "    unbalanced_y_pred = downloaded_model.predict(unbalanced_X_test)  # Predict the test set outcomes\n",
        "    # Calculate the AUROC score and append it to the roc list\n",
        "    unbalanced_roc.append(roc_auc_score(unbalanced_y_test, unbalanced_y_pred, average=None))\n",
        "\n",
        "    # Append classifier name to the est_name list\n",
        "    unbalanced_est_name.append(unbalanced_clf_name)\n",
        "\n",
        "    # Calculate and append accuracy to the est_acc list\n",
        "    unbalanced_est_acc.append(accuracy_score(unbalanced_y_test, unbalanced_y_pred))\n",
        "\n",
        "    # Calculate precision, recall, and F1 scores and append them to their respective lists\n",
        "    unbalanced_scores = precision_recall_fscore_support(unbalanced_y_test, unbalanced_y_pred, average=\"weighted\")\n",
        "    unbalanced_precision_score.append(unbalanced_scores[0])\n",
        "    unbalanced_recall_score.append(unbalanced_scores[1])\n",
        "    unbalanced_f1score.append(unbalanced_scores[2])\n",
        "\n",
        "    # Append the confusion matrix for each classifier to the est_conf_matrix list\n",
        "    unbalanced_est_conf_matrix.append(confusion_matrix(unbalanced_y_test, unbalanced_y_pred))\n",
        "\n",
        "# Populate the summary DataFrame with the collected metrics for each classifier\n",
        "unbalanced_summary_df[col_names[0]] = unbalanced_est_name\n",
        "unbalanced_summary_df[col_names[1]] = unbalanced_est_acc\n",
        "unbalanced_summary_df[col_names[2]] = unbalanced_precision_score\n",
        "unbalanced_summary_df[col_names[3]] = unbalanced_recall_score\n",
        "unbalanced_summary_df[col_names[4]] = unbalanced_f1score\n",
        "unbalanced_summary_df[col_names[5]] = unbalanced_roc\n",
        "\n",
        "# plot figures to better show the results\n",
        "\n",
        "# it is better to save the numbers and figures for your presentation.\n",
        "unbalanced_summary_df"
      ]
    },
    {
      "cell_type": "markdown",
      "metadata": {
        "id": "4gu1d_PgXj5O"
      },
      "source": [
        "### Balanced evaluation"
      ]
    },
    {
      "cell_type": "code",
      "execution_count": null,
      "metadata": {
        "id": "LjW9bCkouv8O"
      },
      "outputs": [],
      "source": [
        "\n",
        "# Iterate over the trained models to evaluate each one\n",
        "for i in range(len(estimators)):\n",
        "    with open(balanced_models[i], 'rb') as file:\n",
        "      downloaded_model = pickle.load(file)\n",
        "    clf_name, _ = estimators[i]\n",
        "    y_pred = downloaded_model.predict(X_test)  # Predict the test set outcomes\n",
        "\n",
        "    # Calculate the AUROC score and append it to the roc list\n",
        "    roc.append(roc_auc_score(y_test, y_pred, average=None))\n",
        "\n",
        "    # Append classifier name to the est_name list\n",
        "    est_name.append(clf_name)\n",
        "\n",
        "    # Calculate and append accuracy to the est_acc list\n",
        "    est_acc.append(accuracy_score(y_test, y_pred))\n",
        "\n",
        "    # Calculate precision, recall, and F1 scores and append them to their respective lists\n",
        "    scores = precision_recall_fscore_support(y_test, y_pred, average=\"weighted\")\n",
        "    print(scores)\n",
        "    precision_score.append(scores[0])\n",
        "    recall_score.append(scores[1])\n",
        "    f1score.append(scores[2])\n",
        "\n",
        "    # Append the confusion matrix for each classifier to the est_conf_matrix list\n",
        "    est_conf_matrix.append(confusion_matrix(y_test, y_pred))\n",
        "\n",
        "# Populate the summary DataFrame with the collected metrics for each classifier\n",
        "summary_df[col_names[0]] = est_name\n",
        "summary_df[col_names[1]] = est_acc\n",
        "summary_df[col_names[2]] = precision_score\n",
        "summary_df[col_names[3]] = recall_score\n",
        "summary_df[col_names[4]] = f1score\n",
        "summary_df[col_names[5]] = roc\n",
        "\n",
        "# plot figures to better show the results\n",
        "\n",
        "# it is better to save the numbers and figures for your presentation.\n",
        "summary_df"
      ]
    },
    {
      "cell_type": "markdown",
      "metadata": {
        "id": "8EAWAy_LwHlV"
      },
      "source": [
        "## Model comparison"
      ]
    },
    {
      "cell_type": "code",
      "execution_count": null,
      "metadata": {
        "id": "uOdhGrbwwG71"
      },
      "outputs": [],
      "source": [
        "# compare you model with others\n",
        "# you don't need to re-run all other experiments, instead, you can directly refer the metrics/numbers in the paper"
      ]
    },
    {
      "cell_type": "markdown",
      "metadata": {
        "id": "uUGSVuGOvrQU"
      },
      "source": [
        "### Unbalanced comparison\n"
      ]
    },
    {
      "cell_type": "code",
      "execution_count": null,
      "metadata": {
        "id": "9W-IWVv1v4P0"
      },
      "outputs": [],
      "source": [
        "color_scales = [\"agsunset\",\"teal\",\"purp\",\"viridis\",\"viridis\"]\n",
        "for i in range(0,len(unbalanced_est_conf_matrix)):\n",
        "    unbalanced_heatmap = px.imshow(unbalanced_est_conf_matrix[i],aspect=\"auto\",\n",
        "                        text_auto=True,\n",
        "                        color_continuous_scale=color_scales[i])\n",
        "    unbalanced_heatmap.update_layout(title = unbalanced_est_name[i])\n",
        "    unbalanced_heatmap.update_xaxes(title=\"Predicted\")\n",
        "    unbalanced_heatmap.update_yaxes(title=\"Actual\")\n",
        "    unbalanced_heatmap.show()"
      ]
    },
    {
      "cell_type": "code",
      "execution_count": null,
      "metadata": {
        "id": "Kxzk2xbzw8WP"
      },
      "outputs": [],
      "source": [
        "#https://plotly.com/python/error-bars/\n",
        "#https://problemsolvingwithpython.com/06-Plotting-with-Matplotlib/06.07-Error-Bars/\n",
        "unbalanced_acc_comparison = px.bar(unbalanced_summary_df, x=\"Classifier Name\",\n",
        "                        y=col_names[1:len(col_names)], labels={\"value\":\"Test Accuracy\", \"variable\":\"Metrics\"}, text_auto=True,\n",
        "                        color_discrete_sequence=[\"deeppink\",\n",
        "                                                 \"deepskyblue\",\n",
        "                                                 \"darkviolet\",\n",
        "                                                 \"darkorange\",\n",
        "                                                 \"darkred\"],\n",
        "                        barmode=\"group\"\n",
        "                        #,error_y=[dict(type='data', array=[0.5, 1, 2],visible=True), dict(type='data', array=[0.5, 1, 2]), dict(type='data', array=[0.5, 1, 2],visible=True), dict(type='data', array=[0.5,1]), dict(type='data', array=[0.5, 1, 2, 2, 1])]\n",
        "                        #,error_y_minus = [dict(type='data', array=[0.5, 1, 2, 2, 1],visible=True), dict(type='data', array=[0.5, 1, 2]), dict(type='data', array=[2, 1]), dict(type='data', array=[0.5,1]), dict(type='data', array=[0.5, 1, 2, 2, 1])]\n",
        "                        )\n",
        "unbalanced_acc_comparison.update_layout({'plot_bgcolor': 'rgba(0, 0, 0, 0)',\n",
        "'paper_bgcolor': 'rgba(0, 0, 0, 0)'\n",
        "})\n",
        "unbalanced_acc_comparison.show()"
      ]
    },
    {
      "cell_type": "markdown",
      "metadata": {
        "id": "glxnWweRvviW"
      },
      "source": [
        "### Balanced comparison"
      ]
    },
    {
      "cell_type": "markdown",
      "metadata": {
        "id": "CU6g1MOpiSH_"
      },
      "source": [
        "Summary with heat map"
      ]
    },
    {
      "cell_type": "code",
      "execution_count": null,
      "metadata": {
        "colab": {
          "background_save": true
        },
        "id": "BRrnj6XMiHel",
        "outputId": "f2405904-eedc-49d9-f451-b502c96dda44"
      },
      "outputs": [
        {
          "data": {
            "text/html": [
              "<html>\n",
              "<head><meta charset=\"utf-8\" /></head>\n",
              "<body>\n",
              "    <div>            <script src=\"https://cdnjs.cloudflare.com/ajax/libs/mathjax/2.7.5/MathJax.js?config=TeX-AMS-MML_SVG\"></script><script type=\"text/javascript\">if (window.MathJax && window.MathJax.Hub && window.MathJax.Hub.Config) {window.MathJax.Hub.Config({SVG: {font: \"STIX-Web\"}});}</script>                <script type=\"text/javascript\">window.PlotlyConfig = {MathJaxConfig: 'local'};</script>\n",
              "        <script charset=\"utf-8\" src=\"https://cdn.plot.ly/plotly-2.24.1.min.js\"></script>                <div id=\"222e8b28-24b3-4f4b-93c6-f1ec1a61b405\" class=\"plotly-graph-div\" style=\"height:525px; width:100%;\"></div>            <script type=\"text/javascript\">                                    window.PLOTLYENV=window.PLOTLYENV || {};                                    if (document.getElementById(\"222e8b28-24b3-4f4b-93c6-f1ec1a61b405\")) {                    Plotly.newPlot(                        \"222e8b28-24b3-4f4b-93c6-f1ec1a61b405\",                        [{\"coloraxis\":\"coloraxis\",\"name\":\"0\",\"texttemplate\":\"%{z}\",\"z\":[[175,0],[0,161]],\"type\":\"heatmap\",\"xaxis\":\"x\",\"yaxis\":\"y\",\"hovertemplate\":\"x: %{x}\\u003cbr\\u003ey: %{y}\\u003cbr\\u003ecolor: %{z}\\u003cextra\\u003e\\u003c\\u002fextra\\u003e\"}],                        {\"template\":{\"data\":{\"histogram2dcontour\":[{\"type\":\"histogram2dcontour\",\"colorbar\":{\"outlinewidth\":0,\"ticks\":\"\"},\"colorscale\":[[0.0,\"#0d0887\"],[0.1111111111111111,\"#46039f\"],[0.2222222222222222,\"#7201a8\"],[0.3333333333333333,\"#9c179e\"],[0.4444444444444444,\"#bd3786\"],[0.5555555555555556,\"#d8576b\"],[0.6666666666666666,\"#ed7953\"],[0.7777777777777778,\"#fb9f3a\"],[0.8888888888888888,\"#fdca26\"],[1.0,\"#f0f921\"]]}],\"choropleth\":[{\"type\":\"choropleth\",\"colorbar\":{\"outlinewidth\":0,\"ticks\":\"\"}}],\"histogram2d\":[{\"type\":\"histogram2d\",\"colorbar\":{\"outlinewidth\":0,\"ticks\":\"\"},\"colorscale\":[[0.0,\"#0d0887\"],[0.1111111111111111,\"#46039f\"],[0.2222222222222222,\"#7201a8\"],[0.3333333333333333,\"#9c179e\"],[0.4444444444444444,\"#bd3786\"],[0.5555555555555556,\"#d8576b\"],[0.6666666666666666,\"#ed7953\"],[0.7777777777777778,\"#fb9f3a\"],[0.8888888888888888,\"#fdca26\"],[1.0,\"#f0f921\"]]}],\"heatmap\":[{\"type\":\"heatmap\",\"colorbar\":{\"outlinewidth\":0,\"ticks\":\"\"},\"colorscale\":[[0.0,\"#0d0887\"],[0.1111111111111111,\"#46039f\"],[0.2222222222222222,\"#7201a8\"],[0.3333333333333333,\"#9c179e\"],[0.4444444444444444,\"#bd3786\"],[0.5555555555555556,\"#d8576b\"],[0.6666666666666666,\"#ed7953\"],[0.7777777777777778,\"#fb9f3a\"],[0.8888888888888888,\"#fdca26\"],[1.0,\"#f0f921\"]]}],\"heatmapgl\":[{\"type\":\"heatmapgl\",\"colorbar\":{\"outlinewidth\":0,\"ticks\":\"\"},\"colorscale\":[[0.0,\"#0d0887\"],[0.1111111111111111,\"#46039f\"],[0.2222222222222222,\"#7201a8\"],[0.3333333333333333,\"#9c179e\"],[0.4444444444444444,\"#bd3786\"],[0.5555555555555556,\"#d8576b\"],[0.6666666666666666,\"#ed7953\"],[0.7777777777777778,\"#fb9f3a\"],[0.8888888888888888,\"#fdca26\"],[1.0,\"#f0f921\"]]}],\"contourcarpet\":[{\"type\":\"contourcarpet\",\"colorbar\":{\"outlinewidth\":0,\"ticks\":\"\"}}],\"contour\":[{\"type\":\"contour\",\"colorbar\":{\"outlinewidth\":0,\"ticks\":\"\"},\"colorscale\":[[0.0,\"#0d0887\"],[0.1111111111111111,\"#46039f\"],[0.2222222222222222,\"#7201a8\"],[0.3333333333333333,\"#9c179e\"],[0.4444444444444444,\"#bd3786\"],[0.5555555555555556,\"#d8576b\"],[0.6666666666666666,\"#ed7953\"],[0.7777777777777778,\"#fb9f3a\"],[0.8888888888888888,\"#fdca26\"],[1.0,\"#f0f921\"]]}],\"surface\":[{\"type\":\"surface\",\"colorbar\":{\"outlinewidth\":0,\"ticks\":\"\"},\"colorscale\":[[0.0,\"#0d0887\"],[0.1111111111111111,\"#46039f\"],[0.2222222222222222,\"#7201a8\"],[0.3333333333333333,\"#9c179e\"],[0.4444444444444444,\"#bd3786\"],[0.5555555555555556,\"#d8576b\"],[0.6666666666666666,\"#ed7953\"],[0.7777777777777778,\"#fb9f3a\"],[0.8888888888888888,\"#fdca26\"],[1.0,\"#f0f921\"]]}],\"mesh3d\":[{\"type\":\"mesh3d\",\"colorbar\":{\"outlinewidth\":0,\"ticks\":\"\"}}],\"scatter\":[{\"fillpattern\":{\"fillmode\":\"overlay\",\"size\":10,\"solidity\":0.2},\"type\":\"scatter\"}],\"parcoords\":[{\"type\":\"parcoords\",\"line\":{\"colorbar\":{\"outlinewidth\":0,\"ticks\":\"\"}}}],\"scatterpolargl\":[{\"type\":\"scatterpolargl\",\"marker\":{\"colorbar\":{\"outlinewidth\":0,\"ticks\":\"\"}}}],\"bar\":[{\"error_x\":{\"color\":\"#2a3f5f\"},\"error_y\":{\"color\":\"#2a3f5f\"},\"marker\":{\"line\":{\"color\":\"#E5ECF6\",\"width\":0.5},\"pattern\":{\"fillmode\":\"overlay\",\"size\":10,\"solidity\":0.2}},\"type\":\"bar\"}],\"scattergeo\":[{\"type\":\"scattergeo\",\"marker\":{\"colorbar\":{\"outlinewidth\":0,\"ticks\":\"\"}}}],\"scatterpolar\":[{\"type\":\"scatterpolar\",\"marker\":{\"colorbar\":{\"outlinewidth\":0,\"ticks\":\"\"}}}],\"histogram\":[{\"marker\":{\"pattern\":{\"fillmode\":\"overlay\",\"size\":10,\"solidity\":0.2}},\"type\":\"histogram\"}],\"scattergl\":[{\"type\":\"scattergl\",\"marker\":{\"colorbar\":{\"outlinewidth\":0,\"ticks\":\"\"}}}],\"scatter3d\":[{\"type\":\"scatter3d\",\"line\":{\"colorbar\":{\"outlinewidth\":0,\"ticks\":\"\"}},\"marker\":{\"colorbar\":{\"outlinewidth\":0,\"ticks\":\"\"}}}],\"scattermapbox\":[{\"type\":\"scattermapbox\",\"marker\":{\"colorbar\":{\"outlinewidth\":0,\"ticks\":\"\"}}}],\"scatterternary\":[{\"type\":\"scatterternary\",\"marker\":{\"colorbar\":{\"outlinewidth\":0,\"ticks\":\"\"}}}],\"scattercarpet\":[{\"type\":\"scattercarpet\",\"marker\":{\"colorbar\":{\"outlinewidth\":0,\"ticks\":\"\"}}}],\"carpet\":[{\"aaxis\":{\"endlinecolor\":\"#2a3f5f\",\"gridcolor\":\"white\",\"linecolor\":\"white\",\"minorgridcolor\":\"white\",\"startlinecolor\":\"#2a3f5f\"},\"baxis\":{\"endlinecolor\":\"#2a3f5f\",\"gridcolor\":\"white\",\"linecolor\":\"white\",\"minorgridcolor\":\"white\",\"startlinecolor\":\"#2a3f5f\"},\"type\":\"carpet\"}],\"table\":[{\"cells\":{\"fill\":{\"color\":\"#EBF0F8\"},\"line\":{\"color\":\"white\"}},\"header\":{\"fill\":{\"color\":\"#C8D4E3\"},\"line\":{\"color\":\"white\"}},\"type\":\"table\"}],\"barpolar\":[{\"marker\":{\"line\":{\"color\":\"#E5ECF6\",\"width\":0.5},\"pattern\":{\"fillmode\":\"overlay\",\"size\":10,\"solidity\":0.2}},\"type\":\"barpolar\"}],\"pie\":[{\"automargin\":true,\"type\":\"pie\"}]},\"layout\":{\"autotypenumbers\":\"strict\",\"colorway\":[\"#636efa\",\"#EF553B\",\"#00cc96\",\"#ab63fa\",\"#FFA15A\",\"#19d3f3\",\"#FF6692\",\"#B6E880\",\"#FF97FF\",\"#FECB52\"],\"font\":{\"color\":\"#2a3f5f\"},\"hovermode\":\"closest\",\"hoverlabel\":{\"align\":\"left\"},\"paper_bgcolor\":\"white\",\"plot_bgcolor\":\"#E5ECF6\",\"polar\":{\"bgcolor\":\"#E5ECF6\",\"angularaxis\":{\"gridcolor\":\"white\",\"linecolor\":\"white\",\"ticks\":\"\"},\"radialaxis\":{\"gridcolor\":\"white\",\"linecolor\":\"white\",\"ticks\":\"\"}},\"ternary\":{\"bgcolor\":\"#E5ECF6\",\"aaxis\":{\"gridcolor\":\"white\",\"linecolor\":\"white\",\"ticks\":\"\"},\"baxis\":{\"gridcolor\":\"white\",\"linecolor\":\"white\",\"ticks\":\"\"},\"caxis\":{\"gridcolor\":\"white\",\"linecolor\":\"white\",\"ticks\":\"\"}},\"coloraxis\":{\"colorbar\":{\"outlinewidth\":0,\"ticks\":\"\"}},\"colorscale\":{\"sequential\":[[0.0,\"#0d0887\"],[0.1111111111111111,\"#46039f\"],[0.2222222222222222,\"#7201a8\"],[0.3333333333333333,\"#9c179e\"],[0.4444444444444444,\"#bd3786\"],[0.5555555555555556,\"#d8576b\"],[0.6666666666666666,\"#ed7953\"],[0.7777777777777778,\"#fb9f3a\"],[0.8888888888888888,\"#fdca26\"],[1.0,\"#f0f921\"]],\"sequentialminus\":[[0.0,\"#0d0887\"],[0.1111111111111111,\"#46039f\"],[0.2222222222222222,\"#7201a8\"],[0.3333333333333333,\"#9c179e\"],[0.4444444444444444,\"#bd3786\"],[0.5555555555555556,\"#d8576b\"],[0.6666666666666666,\"#ed7953\"],[0.7777777777777778,\"#fb9f3a\"],[0.8888888888888888,\"#fdca26\"],[1.0,\"#f0f921\"]],\"diverging\":[[0,\"#8e0152\"],[0.1,\"#c51b7d\"],[0.2,\"#de77ae\"],[0.3,\"#f1b6da\"],[0.4,\"#fde0ef\"],[0.5,\"#f7f7f7\"],[0.6,\"#e6f5d0\"],[0.7,\"#b8e186\"],[0.8,\"#7fbc41\"],[0.9,\"#4d9221\"],[1,\"#276419\"]]},\"xaxis\":{\"gridcolor\":\"white\",\"linecolor\":\"white\",\"ticks\":\"\",\"title\":{\"standoff\":15},\"zerolinecolor\":\"white\",\"automargin\":true,\"zerolinewidth\":2},\"yaxis\":{\"gridcolor\":\"white\",\"linecolor\":\"white\",\"ticks\":\"\",\"title\":{\"standoff\":15},\"zerolinecolor\":\"white\",\"automargin\":true,\"zerolinewidth\":2},\"scene\":{\"xaxis\":{\"backgroundcolor\":\"#E5ECF6\",\"gridcolor\":\"white\",\"linecolor\":\"white\",\"showbackground\":true,\"ticks\":\"\",\"zerolinecolor\":\"white\",\"gridwidth\":2},\"yaxis\":{\"backgroundcolor\":\"#E5ECF6\",\"gridcolor\":\"white\",\"linecolor\":\"white\",\"showbackground\":true,\"ticks\":\"\",\"zerolinecolor\":\"white\",\"gridwidth\":2},\"zaxis\":{\"backgroundcolor\":\"#E5ECF6\",\"gridcolor\":\"white\",\"linecolor\":\"white\",\"showbackground\":true,\"ticks\":\"\",\"zerolinecolor\":\"white\",\"gridwidth\":2}},\"shapedefaults\":{\"line\":{\"color\":\"#2a3f5f\"}},\"annotationdefaults\":{\"arrowcolor\":\"#2a3f5f\",\"arrowhead\":0,\"arrowwidth\":1},\"geo\":{\"bgcolor\":\"white\",\"landcolor\":\"#E5ECF6\",\"subunitcolor\":\"white\",\"showland\":true,\"showlakes\":true,\"lakecolor\":\"white\"},\"title\":{\"x\":0.05},\"mapbox\":{\"style\":\"light\"}}},\"xaxis\":{\"anchor\":\"y\",\"domain\":[0.0,1.0],\"title\":{\"text\":\"Predicted\"}},\"yaxis\":{\"anchor\":\"x\",\"domain\":[0.0,1.0],\"autorange\":\"reversed\",\"title\":{\"text\":\"Actual\"}},\"coloraxis\":{\"colorscale\":[[0.0,\"rgb(75, 41, 145)\"],[0.16666666666666666,\"rgb(135, 44, 162)\"],[0.3333333333333333,\"rgb(192, 54, 157)\"],[0.5,\"rgb(234, 79, 136)\"],[0.6666666666666666,\"rgb(250, 120, 118)\"],[0.8333333333333334,\"rgb(246, 169, 122)\"],[1.0,\"rgb(237, 217, 163)\"]]},\"margin\":{\"t\":60},\"title\":{\"text\":\"LogisticRegression\"}},                        {\"responsive\": true}                    ).then(function(){\n",
              "                            \n",
              "var gd = document.getElementById('222e8b28-24b3-4f4b-93c6-f1ec1a61b405');\n",
              "var x = new MutationObserver(function (mutations, observer) {{\n",
              "        var display = window.getComputedStyle(gd).display;\n",
              "        if (!display || display === 'none') {{\n",
              "            console.log([gd, 'removed!']);\n",
              "            Plotly.purge(gd);\n",
              "            observer.disconnect();\n",
              "        }}\n",
              "}});\n",
              "\n",
              "// Listen for the removal of the full notebook cells\n",
              "var notebookContainer = gd.closest('#notebook-container');\n",
              "if (notebookContainer) {{\n",
              "    x.observe(notebookContainer, {childList: true});\n",
              "}}\n",
              "\n",
              "// Listen for the clearing of the current output cell\n",
              "var outputEl = gd.closest('.output');\n",
              "if (outputEl) {{\n",
              "    x.observe(outputEl, {childList: true});\n",
              "}}\n",
              "\n",
              "                        })                };                            </script>        </div>\n",
              "</body>\n",
              "</html>"
            ]
          },
          "metadata": {},
          "output_type": "display_data"
        },
        {
          "data": {
            "text/html": [
              "<html>\n",
              "<head><meta charset=\"utf-8\" /></head>\n",
              "<body>\n",
              "    <div>            <script src=\"https://cdnjs.cloudflare.com/ajax/libs/mathjax/2.7.5/MathJax.js?config=TeX-AMS-MML_SVG\"></script><script type=\"text/javascript\">if (window.MathJax && window.MathJax.Hub && window.MathJax.Hub.Config) {window.MathJax.Hub.Config({SVG: {font: \"STIX-Web\"}});}</script>                <script type=\"text/javascript\">window.PlotlyConfig = {MathJaxConfig: 'local'};</script>\n",
              "        <script charset=\"utf-8\" src=\"https://cdn.plot.ly/plotly-2.24.1.min.js\"></script>                <div id=\"9c876236-efa7-403e-9af0-ca4b3050cdb8\" class=\"plotly-graph-div\" style=\"height:525px; width:100%;\"></div>            <script type=\"text/javascript\">                                    window.PLOTLYENV=window.PLOTLYENV || {};                                    if (document.getElementById(\"9c876236-efa7-403e-9af0-ca4b3050cdb8\")) {                    Plotly.newPlot(                        \"9c876236-efa7-403e-9af0-ca4b3050cdb8\",                        [{\"coloraxis\":\"coloraxis\",\"name\":\"0\",\"texttemplate\":\"%{z}\",\"z\":[[174,1],[0,161]],\"type\":\"heatmap\",\"xaxis\":\"x\",\"yaxis\":\"y\",\"hovertemplate\":\"x: %{x}\\u003cbr\\u003ey: %{y}\\u003cbr\\u003ecolor: %{z}\\u003cextra\\u003e\\u003c\\u002fextra\\u003e\"}],                        {\"template\":{\"data\":{\"histogram2dcontour\":[{\"type\":\"histogram2dcontour\",\"colorbar\":{\"outlinewidth\":0,\"ticks\":\"\"},\"colorscale\":[[0.0,\"#0d0887\"],[0.1111111111111111,\"#46039f\"],[0.2222222222222222,\"#7201a8\"],[0.3333333333333333,\"#9c179e\"],[0.4444444444444444,\"#bd3786\"],[0.5555555555555556,\"#d8576b\"],[0.6666666666666666,\"#ed7953\"],[0.7777777777777778,\"#fb9f3a\"],[0.8888888888888888,\"#fdca26\"],[1.0,\"#f0f921\"]]}],\"choropleth\":[{\"type\":\"choropleth\",\"colorbar\":{\"outlinewidth\":0,\"ticks\":\"\"}}],\"histogram2d\":[{\"type\":\"histogram2d\",\"colorbar\":{\"outlinewidth\":0,\"ticks\":\"\"},\"colorscale\":[[0.0,\"#0d0887\"],[0.1111111111111111,\"#46039f\"],[0.2222222222222222,\"#7201a8\"],[0.3333333333333333,\"#9c179e\"],[0.4444444444444444,\"#bd3786\"],[0.5555555555555556,\"#d8576b\"],[0.6666666666666666,\"#ed7953\"],[0.7777777777777778,\"#fb9f3a\"],[0.8888888888888888,\"#fdca26\"],[1.0,\"#f0f921\"]]}],\"heatmap\":[{\"type\":\"heatmap\",\"colorbar\":{\"outlinewidth\":0,\"ticks\":\"\"},\"colorscale\":[[0.0,\"#0d0887\"],[0.1111111111111111,\"#46039f\"],[0.2222222222222222,\"#7201a8\"],[0.3333333333333333,\"#9c179e\"],[0.4444444444444444,\"#bd3786\"],[0.5555555555555556,\"#d8576b\"],[0.6666666666666666,\"#ed7953\"],[0.7777777777777778,\"#fb9f3a\"],[0.8888888888888888,\"#fdca26\"],[1.0,\"#f0f921\"]]}],\"heatmapgl\":[{\"type\":\"heatmapgl\",\"colorbar\":{\"outlinewidth\":0,\"ticks\":\"\"},\"colorscale\":[[0.0,\"#0d0887\"],[0.1111111111111111,\"#46039f\"],[0.2222222222222222,\"#7201a8\"],[0.3333333333333333,\"#9c179e\"],[0.4444444444444444,\"#bd3786\"],[0.5555555555555556,\"#d8576b\"],[0.6666666666666666,\"#ed7953\"],[0.7777777777777778,\"#fb9f3a\"],[0.8888888888888888,\"#fdca26\"],[1.0,\"#f0f921\"]]}],\"contourcarpet\":[{\"type\":\"contourcarpet\",\"colorbar\":{\"outlinewidth\":0,\"ticks\":\"\"}}],\"contour\":[{\"type\":\"contour\",\"colorbar\":{\"outlinewidth\":0,\"ticks\":\"\"},\"colorscale\":[[0.0,\"#0d0887\"],[0.1111111111111111,\"#46039f\"],[0.2222222222222222,\"#7201a8\"],[0.3333333333333333,\"#9c179e\"],[0.4444444444444444,\"#bd3786\"],[0.5555555555555556,\"#d8576b\"],[0.6666666666666666,\"#ed7953\"],[0.7777777777777778,\"#fb9f3a\"],[0.8888888888888888,\"#fdca26\"],[1.0,\"#f0f921\"]]}],\"surface\":[{\"type\":\"surface\",\"colorbar\":{\"outlinewidth\":0,\"ticks\":\"\"},\"colorscale\":[[0.0,\"#0d0887\"],[0.1111111111111111,\"#46039f\"],[0.2222222222222222,\"#7201a8\"],[0.3333333333333333,\"#9c179e\"],[0.4444444444444444,\"#bd3786\"],[0.5555555555555556,\"#d8576b\"],[0.6666666666666666,\"#ed7953\"],[0.7777777777777778,\"#fb9f3a\"],[0.8888888888888888,\"#fdca26\"],[1.0,\"#f0f921\"]]}],\"mesh3d\":[{\"type\":\"mesh3d\",\"colorbar\":{\"outlinewidth\":0,\"ticks\":\"\"}}],\"scatter\":[{\"fillpattern\":{\"fillmode\":\"overlay\",\"size\":10,\"solidity\":0.2},\"type\":\"scatter\"}],\"parcoords\":[{\"type\":\"parcoords\",\"line\":{\"colorbar\":{\"outlinewidth\":0,\"ticks\":\"\"}}}],\"scatterpolargl\":[{\"type\":\"scatterpolargl\",\"marker\":{\"colorbar\":{\"outlinewidth\":0,\"ticks\":\"\"}}}],\"bar\":[{\"error_x\":{\"color\":\"#2a3f5f\"},\"error_y\":{\"color\":\"#2a3f5f\"},\"marker\":{\"line\":{\"color\":\"#E5ECF6\",\"width\":0.5},\"pattern\":{\"fillmode\":\"overlay\",\"size\":10,\"solidity\":0.2}},\"type\":\"bar\"}],\"scattergeo\":[{\"type\":\"scattergeo\",\"marker\":{\"colorbar\":{\"outlinewidth\":0,\"ticks\":\"\"}}}],\"scatterpolar\":[{\"type\":\"scatterpolar\",\"marker\":{\"colorbar\":{\"outlinewidth\":0,\"ticks\":\"\"}}}],\"histogram\":[{\"marker\":{\"pattern\":{\"fillmode\":\"overlay\",\"size\":10,\"solidity\":0.2}},\"type\":\"histogram\"}],\"scattergl\":[{\"type\":\"scattergl\",\"marker\":{\"colorbar\":{\"outlinewidth\":0,\"ticks\":\"\"}}}],\"scatter3d\":[{\"type\":\"scatter3d\",\"line\":{\"colorbar\":{\"outlinewidth\":0,\"ticks\":\"\"}},\"marker\":{\"colorbar\":{\"outlinewidth\":0,\"ticks\":\"\"}}}],\"scattermapbox\":[{\"type\":\"scattermapbox\",\"marker\":{\"colorbar\":{\"outlinewidth\":0,\"ticks\":\"\"}}}],\"scatterternary\":[{\"type\":\"scatterternary\",\"marker\":{\"colorbar\":{\"outlinewidth\":0,\"ticks\":\"\"}}}],\"scattercarpet\":[{\"type\":\"scattercarpet\",\"marker\":{\"colorbar\":{\"outlinewidth\":0,\"ticks\":\"\"}}}],\"carpet\":[{\"aaxis\":{\"endlinecolor\":\"#2a3f5f\",\"gridcolor\":\"white\",\"linecolor\":\"white\",\"minorgridcolor\":\"white\",\"startlinecolor\":\"#2a3f5f\"},\"baxis\":{\"endlinecolor\":\"#2a3f5f\",\"gridcolor\":\"white\",\"linecolor\":\"white\",\"minorgridcolor\":\"white\",\"startlinecolor\":\"#2a3f5f\"},\"type\":\"carpet\"}],\"table\":[{\"cells\":{\"fill\":{\"color\":\"#EBF0F8\"},\"line\":{\"color\":\"white\"}},\"header\":{\"fill\":{\"color\":\"#C8D4E3\"},\"line\":{\"color\":\"white\"}},\"type\":\"table\"}],\"barpolar\":[{\"marker\":{\"line\":{\"color\":\"#E5ECF6\",\"width\":0.5},\"pattern\":{\"fillmode\":\"overlay\",\"size\":10,\"solidity\":0.2}},\"type\":\"barpolar\"}],\"pie\":[{\"automargin\":true,\"type\":\"pie\"}]},\"layout\":{\"autotypenumbers\":\"strict\",\"colorway\":[\"#636efa\",\"#EF553B\",\"#00cc96\",\"#ab63fa\",\"#FFA15A\",\"#19d3f3\",\"#FF6692\",\"#B6E880\",\"#FF97FF\",\"#FECB52\"],\"font\":{\"color\":\"#2a3f5f\"},\"hovermode\":\"closest\",\"hoverlabel\":{\"align\":\"left\"},\"paper_bgcolor\":\"white\",\"plot_bgcolor\":\"#E5ECF6\",\"polar\":{\"bgcolor\":\"#E5ECF6\",\"angularaxis\":{\"gridcolor\":\"white\",\"linecolor\":\"white\",\"ticks\":\"\"},\"radialaxis\":{\"gridcolor\":\"white\",\"linecolor\":\"white\",\"ticks\":\"\"}},\"ternary\":{\"bgcolor\":\"#E5ECF6\",\"aaxis\":{\"gridcolor\":\"white\",\"linecolor\":\"white\",\"ticks\":\"\"},\"baxis\":{\"gridcolor\":\"white\",\"linecolor\":\"white\",\"ticks\":\"\"},\"caxis\":{\"gridcolor\":\"white\",\"linecolor\":\"white\",\"ticks\":\"\"}},\"coloraxis\":{\"colorbar\":{\"outlinewidth\":0,\"ticks\":\"\"}},\"colorscale\":{\"sequential\":[[0.0,\"#0d0887\"],[0.1111111111111111,\"#46039f\"],[0.2222222222222222,\"#7201a8\"],[0.3333333333333333,\"#9c179e\"],[0.4444444444444444,\"#bd3786\"],[0.5555555555555556,\"#d8576b\"],[0.6666666666666666,\"#ed7953\"],[0.7777777777777778,\"#fb9f3a\"],[0.8888888888888888,\"#fdca26\"],[1.0,\"#f0f921\"]],\"sequentialminus\":[[0.0,\"#0d0887\"],[0.1111111111111111,\"#46039f\"],[0.2222222222222222,\"#7201a8\"],[0.3333333333333333,\"#9c179e\"],[0.4444444444444444,\"#bd3786\"],[0.5555555555555556,\"#d8576b\"],[0.6666666666666666,\"#ed7953\"],[0.7777777777777778,\"#fb9f3a\"],[0.8888888888888888,\"#fdca26\"],[1.0,\"#f0f921\"]],\"diverging\":[[0,\"#8e0152\"],[0.1,\"#c51b7d\"],[0.2,\"#de77ae\"],[0.3,\"#f1b6da\"],[0.4,\"#fde0ef\"],[0.5,\"#f7f7f7\"],[0.6,\"#e6f5d0\"],[0.7,\"#b8e186\"],[0.8,\"#7fbc41\"],[0.9,\"#4d9221\"],[1,\"#276419\"]]},\"xaxis\":{\"gridcolor\":\"white\",\"linecolor\":\"white\",\"ticks\":\"\",\"title\":{\"standoff\":15},\"zerolinecolor\":\"white\",\"automargin\":true,\"zerolinewidth\":2},\"yaxis\":{\"gridcolor\":\"white\",\"linecolor\":\"white\",\"ticks\":\"\",\"title\":{\"standoff\":15},\"zerolinecolor\":\"white\",\"automargin\":true,\"zerolinewidth\":2},\"scene\":{\"xaxis\":{\"backgroundcolor\":\"#E5ECF6\",\"gridcolor\":\"white\",\"linecolor\":\"white\",\"showbackground\":true,\"ticks\":\"\",\"zerolinecolor\":\"white\",\"gridwidth\":2},\"yaxis\":{\"backgroundcolor\":\"#E5ECF6\",\"gridcolor\":\"white\",\"linecolor\":\"white\",\"showbackground\":true,\"ticks\":\"\",\"zerolinecolor\":\"white\",\"gridwidth\":2},\"zaxis\":{\"backgroundcolor\":\"#E5ECF6\",\"gridcolor\":\"white\",\"linecolor\":\"white\",\"showbackground\":true,\"ticks\":\"\",\"zerolinecolor\":\"white\",\"gridwidth\":2}},\"shapedefaults\":{\"line\":{\"color\":\"#2a3f5f\"}},\"annotationdefaults\":{\"arrowcolor\":\"#2a3f5f\",\"arrowhead\":0,\"arrowwidth\":1},\"geo\":{\"bgcolor\":\"white\",\"landcolor\":\"#E5ECF6\",\"subunitcolor\":\"white\",\"showland\":true,\"showlakes\":true,\"lakecolor\":\"white\"},\"title\":{\"x\":0.05},\"mapbox\":{\"style\":\"light\"}}},\"xaxis\":{\"anchor\":\"y\",\"domain\":[0.0,1.0],\"title\":{\"text\":\"Predicted\"}},\"yaxis\":{\"anchor\":\"x\",\"domain\":[0.0,1.0],\"autorange\":\"reversed\",\"title\":{\"text\":\"Actual\"}},\"coloraxis\":{\"colorscale\":[[0.0,\"rgb(209, 238, 234)\"],[0.16666666666666666,\"rgb(168, 219, 217)\"],[0.3333333333333333,\"rgb(133, 196, 201)\"],[0.5,\"rgb(104, 171, 184)\"],[0.6666666666666666,\"rgb(79, 144, 166)\"],[0.8333333333333334,\"rgb(59, 115, 143)\"],[1.0,\"rgb(42, 86, 116)\"]]},\"margin\":{\"t\":60},\"title\":{\"text\":\"RandomForestClassifier\"}},                        {\"responsive\": true}                    ).then(function(){\n",
              "                            \n",
              "var gd = document.getElementById('9c876236-efa7-403e-9af0-ca4b3050cdb8');\n",
              "var x = new MutationObserver(function (mutations, observer) {{\n",
              "        var display = window.getComputedStyle(gd).display;\n",
              "        if (!display || display === 'none') {{\n",
              "            console.log([gd, 'removed!']);\n",
              "            Plotly.purge(gd);\n",
              "            observer.disconnect();\n",
              "        }}\n",
              "}});\n",
              "\n",
              "// Listen for the removal of the full notebook cells\n",
              "var notebookContainer = gd.closest('#notebook-container');\n",
              "if (notebookContainer) {{\n",
              "    x.observe(notebookContainer, {childList: true});\n",
              "}}\n",
              "\n",
              "// Listen for the clearing of the current output cell\n",
              "var outputEl = gd.closest('.output');\n",
              "if (outputEl) {{\n",
              "    x.observe(outputEl, {childList: true});\n",
              "}}\n",
              "\n",
              "                        })                };                            </script>        </div>\n",
              "</body>\n",
              "</html>"
            ]
          },
          "metadata": {},
          "output_type": "display_data"
        },
        {
          "data": {
            "text/html": [
              "<html>\n",
              "<head><meta charset=\"utf-8\" /></head>\n",
              "<body>\n",
              "    <div>            <script src=\"https://cdnjs.cloudflare.com/ajax/libs/mathjax/2.7.5/MathJax.js?config=TeX-AMS-MML_SVG\"></script><script type=\"text/javascript\">if (window.MathJax && window.MathJax.Hub && window.MathJax.Hub.Config) {window.MathJax.Hub.Config({SVG: {font: \"STIX-Web\"}});}</script>                <script type=\"text/javascript\">window.PlotlyConfig = {MathJaxConfig: 'local'};</script>\n",
              "        <script charset=\"utf-8\" src=\"https://cdn.plot.ly/plotly-2.24.1.min.js\"></script>                <div id=\"9d89967b-8071-4837-b6a2-7220fd8c31f4\" class=\"plotly-graph-div\" style=\"height:525px; width:100%;\"></div>            <script type=\"text/javascript\">                                    window.PLOTLYENV=window.PLOTLYENV || {};                                    if (document.getElementById(\"9d89967b-8071-4837-b6a2-7220fd8c31f4\")) {                    Plotly.newPlot(                        \"9d89967b-8071-4837-b6a2-7220fd8c31f4\",                        [{\"coloraxis\":\"coloraxis\",\"name\":\"0\",\"texttemplate\":\"%{z}\",\"z\":[[162,13],[0,161]],\"type\":\"heatmap\",\"xaxis\":\"x\",\"yaxis\":\"y\",\"hovertemplate\":\"x: %{x}\\u003cbr\\u003ey: %{y}\\u003cbr\\u003ecolor: %{z}\\u003cextra\\u003e\\u003c\\u002fextra\\u003e\"}],                        {\"template\":{\"data\":{\"histogram2dcontour\":[{\"type\":\"histogram2dcontour\",\"colorbar\":{\"outlinewidth\":0,\"ticks\":\"\"},\"colorscale\":[[0.0,\"#0d0887\"],[0.1111111111111111,\"#46039f\"],[0.2222222222222222,\"#7201a8\"],[0.3333333333333333,\"#9c179e\"],[0.4444444444444444,\"#bd3786\"],[0.5555555555555556,\"#d8576b\"],[0.6666666666666666,\"#ed7953\"],[0.7777777777777778,\"#fb9f3a\"],[0.8888888888888888,\"#fdca26\"],[1.0,\"#f0f921\"]]}],\"choropleth\":[{\"type\":\"choropleth\",\"colorbar\":{\"outlinewidth\":0,\"ticks\":\"\"}}],\"histogram2d\":[{\"type\":\"histogram2d\",\"colorbar\":{\"outlinewidth\":0,\"ticks\":\"\"},\"colorscale\":[[0.0,\"#0d0887\"],[0.1111111111111111,\"#46039f\"],[0.2222222222222222,\"#7201a8\"],[0.3333333333333333,\"#9c179e\"],[0.4444444444444444,\"#bd3786\"],[0.5555555555555556,\"#d8576b\"],[0.6666666666666666,\"#ed7953\"],[0.7777777777777778,\"#fb9f3a\"],[0.8888888888888888,\"#fdca26\"],[1.0,\"#f0f921\"]]}],\"heatmap\":[{\"type\":\"heatmap\",\"colorbar\":{\"outlinewidth\":0,\"ticks\":\"\"},\"colorscale\":[[0.0,\"#0d0887\"],[0.1111111111111111,\"#46039f\"],[0.2222222222222222,\"#7201a8\"],[0.3333333333333333,\"#9c179e\"],[0.4444444444444444,\"#bd3786\"],[0.5555555555555556,\"#d8576b\"],[0.6666666666666666,\"#ed7953\"],[0.7777777777777778,\"#fb9f3a\"],[0.8888888888888888,\"#fdca26\"],[1.0,\"#f0f921\"]]}],\"heatmapgl\":[{\"type\":\"heatmapgl\",\"colorbar\":{\"outlinewidth\":0,\"ticks\":\"\"},\"colorscale\":[[0.0,\"#0d0887\"],[0.1111111111111111,\"#46039f\"],[0.2222222222222222,\"#7201a8\"],[0.3333333333333333,\"#9c179e\"],[0.4444444444444444,\"#bd3786\"],[0.5555555555555556,\"#d8576b\"],[0.6666666666666666,\"#ed7953\"],[0.7777777777777778,\"#fb9f3a\"],[0.8888888888888888,\"#fdca26\"],[1.0,\"#f0f921\"]]}],\"contourcarpet\":[{\"type\":\"contourcarpet\",\"colorbar\":{\"outlinewidth\":0,\"ticks\":\"\"}}],\"contour\":[{\"type\":\"contour\",\"colorbar\":{\"outlinewidth\":0,\"ticks\":\"\"},\"colorscale\":[[0.0,\"#0d0887\"],[0.1111111111111111,\"#46039f\"],[0.2222222222222222,\"#7201a8\"],[0.3333333333333333,\"#9c179e\"],[0.4444444444444444,\"#bd3786\"],[0.5555555555555556,\"#d8576b\"],[0.6666666666666666,\"#ed7953\"],[0.7777777777777778,\"#fb9f3a\"],[0.8888888888888888,\"#fdca26\"],[1.0,\"#f0f921\"]]}],\"surface\":[{\"type\":\"surface\",\"colorbar\":{\"outlinewidth\":0,\"ticks\":\"\"},\"colorscale\":[[0.0,\"#0d0887\"],[0.1111111111111111,\"#46039f\"],[0.2222222222222222,\"#7201a8\"],[0.3333333333333333,\"#9c179e\"],[0.4444444444444444,\"#bd3786\"],[0.5555555555555556,\"#d8576b\"],[0.6666666666666666,\"#ed7953\"],[0.7777777777777778,\"#fb9f3a\"],[0.8888888888888888,\"#fdca26\"],[1.0,\"#f0f921\"]]}],\"mesh3d\":[{\"type\":\"mesh3d\",\"colorbar\":{\"outlinewidth\":0,\"ticks\":\"\"}}],\"scatter\":[{\"fillpattern\":{\"fillmode\":\"overlay\",\"size\":10,\"solidity\":0.2},\"type\":\"scatter\"}],\"parcoords\":[{\"type\":\"parcoords\",\"line\":{\"colorbar\":{\"outlinewidth\":0,\"ticks\":\"\"}}}],\"scatterpolargl\":[{\"type\":\"scatterpolargl\",\"marker\":{\"colorbar\":{\"outlinewidth\":0,\"ticks\":\"\"}}}],\"bar\":[{\"error_x\":{\"color\":\"#2a3f5f\"},\"error_y\":{\"color\":\"#2a3f5f\"},\"marker\":{\"line\":{\"color\":\"#E5ECF6\",\"width\":0.5},\"pattern\":{\"fillmode\":\"overlay\",\"size\":10,\"solidity\":0.2}},\"type\":\"bar\"}],\"scattergeo\":[{\"type\":\"scattergeo\",\"marker\":{\"colorbar\":{\"outlinewidth\":0,\"ticks\":\"\"}}}],\"scatterpolar\":[{\"type\":\"scatterpolar\",\"marker\":{\"colorbar\":{\"outlinewidth\":0,\"ticks\":\"\"}}}],\"histogram\":[{\"marker\":{\"pattern\":{\"fillmode\":\"overlay\",\"size\":10,\"solidity\":0.2}},\"type\":\"histogram\"}],\"scattergl\":[{\"type\":\"scattergl\",\"marker\":{\"colorbar\":{\"outlinewidth\":0,\"ticks\":\"\"}}}],\"scatter3d\":[{\"type\":\"scatter3d\",\"line\":{\"colorbar\":{\"outlinewidth\":0,\"ticks\":\"\"}},\"marker\":{\"colorbar\":{\"outlinewidth\":0,\"ticks\":\"\"}}}],\"scattermapbox\":[{\"type\":\"scattermapbox\",\"marker\":{\"colorbar\":{\"outlinewidth\":0,\"ticks\":\"\"}}}],\"scatterternary\":[{\"type\":\"scatterternary\",\"marker\":{\"colorbar\":{\"outlinewidth\":0,\"ticks\":\"\"}}}],\"scattercarpet\":[{\"type\":\"scattercarpet\",\"marker\":{\"colorbar\":{\"outlinewidth\":0,\"ticks\":\"\"}}}],\"carpet\":[{\"aaxis\":{\"endlinecolor\":\"#2a3f5f\",\"gridcolor\":\"white\",\"linecolor\":\"white\",\"minorgridcolor\":\"white\",\"startlinecolor\":\"#2a3f5f\"},\"baxis\":{\"endlinecolor\":\"#2a3f5f\",\"gridcolor\":\"white\",\"linecolor\":\"white\",\"minorgridcolor\":\"white\",\"startlinecolor\":\"#2a3f5f\"},\"type\":\"carpet\"}],\"table\":[{\"cells\":{\"fill\":{\"color\":\"#EBF0F8\"},\"line\":{\"color\":\"white\"}},\"header\":{\"fill\":{\"color\":\"#C8D4E3\"},\"line\":{\"color\":\"white\"}},\"type\":\"table\"}],\"barpolar\":[{\"marker\":{\"line\":{\"color\":\"#E5ECF6\",\"width\":0.5},\"pattern\":{\"fillmode\":\"overlay\",\"size\":10,\"solidity\":0.2}},\"type\":\"barpolar\"}],\"pie\":[{\"automargin\":true,\"type\":\"pie\"}]},\"layout\":{\"autotypenumbers\":\"strict\",\"colorway\":[\"#636efa\",\"#EF553B\",\"#00cc96\",\"#ab63fa\",\"#FFA15A\",\"#19d3f3\",\"#FF6692\",\"#B6E880\",\"#FF97FF\",\"#FECB52\"],\"font\":{\"color\":\"#2a3f5f\"},\"hovermode\":\"closest\",\"hoverlabel\":{\"align\":\"left\"},\"paper_bgcolor\":\"white\",\"plot_bgcolor\":\"#E5ECF6\",\"polar\":{\"bgcolor\":\"#E5ECF6\",\"angularaxis\":{\"gridcolor\":\"white\",\"linecolor\":\"white\",\"ticks\":\"\"},\"radialaxis\":{\"gridcolor\":\"white\",\"linecolor\":\"white\",\"ticks\":\"\"}},\"ternary\":{\"bgcolor\":\"#E5ECF6\",\"aaxis\":{\"gridcolor\":\"white\",\"linecolor\":\"white\",\"ticks\":\"\"},\"baxis\":{\"gridcolor\":\"white\",\"linecolor\":\"white\",\"ticks\":\"\"},\"caxis\":{\"gridcolor\":\"white\",\"linecolor\":\"white\",\"ticks\":\"\"}},\"coloraxis\":{\"colorbar\":{\"outlinewidth\":0,\"ticks\":\"\"}},\"colorscale\":{\"sequential\":[[0.0,\"#0d0887\"],[0.1111111111111111,\"#46039f\"],[0.2222222222222222,\"#7201a8\"],[0.3333333333333333,\"#9c179e\"],[0.4444444444444444,\"#bd3786\"],[0.5555555555555556,\"#d8576b\"],[0.6666666666666666,\"#ed7953\"],[0.7777777777777778,\"#fb9f3a\"],[0.8888888888888888,\"#fdca26\"],[1.0,\"#f0f921\"]],\"sequentialminus\":[[0.0,\"#0d0887\"],[0.1111111111111111,\"#46039f\"],[0.2222222222222222,\"#7201a8\"],[0.3333333333333333,\"#9c179e\"],[0.4444444444444444,\"#bd3786\"],[0.5555555555555556,\"#d8576b\"],[0.6666666666666666,\"#ed7953\"],[0.7777777777777778,\"#fb9f3a\"],[0.8888888888888888,\"#fdca26\"],[1.0,\"#f0f921\"]],\"diverging\":[[0,\"#8e0152\"],[0.1,\"#c51b7d\"],[0.2,\"#de77ae\"],[0.3,\"#f1b6da\"],[0.4,\"#fde0ef\"],[0.5,\"#f7f7f7\"],[0.6,\"#e6f5d0\"],[0.7,\"#b8e186\"],[0.8,\"#7fbc41\"],[0.9,\"#4d9221\"],[1,\"#276419\"]]},\"xaxis\":{\"gridcolor\":\"white\",\"linecolor\":\"white\",\"ticks\":\"\",\"title\":{\"standoff\":15},\"zerolinecolor\":\"white\",\"automargin\":true,\"zerolinewidth\":2},\"yaxis\":{\"gridcolor\":\"white\",\"linecolor\":\"white\",\"ticks\":\"\",\"title\":{\"standoff\":15},\"zerolinecolor\":\"white\",\"automargin\":true,\"zerolinewidth\":2},\"scene\":{\"xaxis\":{\"backgroundcolor\":\"#E5ECF6\",\"gridcolor\":\"white\",\"linecolor\":\"white\",\"showbackground\":true,\"ticks\":\"\",\"zerolinecolor\":\"white\",\"gridwidth\":2},\"yaxis\":{\"backgroundcolor\":\"#E5ECF6\",\"gridcolor\":\"white\",\"linecolor\":\"white\",\"showbackground\":true,\"ticks\":\"\",\"zerolinecolor\":\"white\",\"gridwidth\":2},\"zaxis\":{\"backgroundcolor\":\"#E5ECF6\",\"gridcolor\":\"white\",\"linecolor\":\"white\",\"showbackground\":true,\"ticks\":\"\",\"zerolinecolor\":\"white\",\"gridwidth\":2}},\"shapedefaults\":{\"line\":{\"color\":\"#2a3f5f\"}},\"annotationdefaults\":{\"arrowcolor\":\"#2a3f5f\",\"arrowhead\":0,\"arrowwidth\":1},\"geo\":{\"bgcolor\":\"white\",\"landcolor\":\"#E5ECF6\",\"subunitcolor\":\"white\",\"showland\":true,\"showlakes\":true,\"lakecolor\":\"white\"},\"title\":{\"x\":0.05},\"mapbox\":{\"style\":\"light\"}}},\"xaxis\":{\"anchor\":\"y\",\"domain\":[0.0,1.0],\"title\":{\"text\":\"Predicted\"}},\"yaxis\":{\"anchor\":\"x\",\"domain\":[0.0,1.0],\"autorange\":\"reversed\",\"title\":{\"text\":\"Actual\"}},\"coloraxis\":{\"colorscale\":[[0.0,\"rgb(243, 224, 247)\"],[0.16666666666666666,\"rgb(228, 199, 241)\"],[0.3333333333333333,\"rgb(209, 175, 232)\"],[0.5,\"rgb(185, 152, 221)\"],[0.6666666666666666,\"rgb(159, 130, 206)\"],[0.8333333333333334,\"rgb(130, 109, 186)\"],[1.0,\"rgb(99, 88, 159)\"]]},\"margin\":{\"t\":60},\"title\":{\"text\":\"KNeighborsClassifier\"}},                        {\"responsive\": true}                    ).then(function(){\n",
              "                            \n",
              "var gd = document.getElementById('9d89967b-8071-4837-b6a2-7220fd8c31f4');\n",
              "var x = new MutationObserver(function (mutations, observer) {{\n",
              "        var display = window.getComputedStyle(gd).display;\n",
              "        if (!display || display === 'none') {{\n",
              "            console.log([gd, 'removed!']);\n",
              "            Plotly.purge(gd);\n",
              "            observer.disconnect();\n",
              "        }}\n",
              "}});\n",
              "\n",
              "// Listen for the removal of the full notebook cells\n",
              "var notebookContainer = gd.closest('#notebook-container');\n",
              "if (notebookContainer) {{\n",
              "    x.observe(notebookContainer, {childList: true});\n",
              "}}\n",
              "\n",
              "// Listen for the clearing of the current output cell\n",
              "var outputEl = gd.closest('.output');\n",
              "if (outputEl) {{\n",
              "    x.observe(outputEl, {childList: true});\n",
              "}}\n",
              "\n",
              "                        })                };                            </script>        </div>\n",
              "</body>\n",
              "</html>"
            ]
          },
          "metadata": {},
          "output_type": "display_data"
        },
        {
          "data": {
            "text/html": [
              "<html>\n",
              "<head><meta charset=\"utf-8\" /></head>\n",
              "<body>\n",
              "    <div>            <script src=\"https://cdnjs.cloudflare.com/ajax/libs/mathjax/2.7.5/MathJax.js?config=TeX-AMS-MML_SVG\"></script><script type=\"text/javascript\">if (window.MathJax && window.MathJax.Hub && window.MathJax.Hub.Config) {window.MathJax.Hub.Config({SVG: {font: \"STIX-Web\"}});}</script>                <script type=\"text/javascript\">window.PlotlyConfig = {MathJaxConfig: 'local'};</script>\n",
              "        <script charset=\"utf-8\" src=\"https://cdn.plot.ly/plotly-2.24.1.min.js\"></script>                <div id=\"5f0f67ed-5e75-490d-b21b-8e8dad9275e3\" class=\"plotly-graph-div\" style=\"height:525px; width:100%;\"></div>            <script type=\"text/javascript\">                                    window.PLOTLYENV=window.PLOTLYENV || {};                                    if (document.getElementById(\"5f0f67ed-5e75-490d-b21b-8e8dad9275e3\")) {                    Plotly.newPlot(                        \"5f0f67ed-5e75-490d-b21b-8e8dad9275e3\",                        [{\"coloraxis\":\"coloraxis\",\"name\":\"0\",\"texttemplate\":\"%{z}\",\"z\":[[174,1],[0,161]],\"type\":\"heatmap\",\"xaxis\":\"x\",\"yaxis\":\"y\",\"hovertemplate\":\"x: %{x}\\u003cbr\\u003ey: %{y}\\u003cbr\\u003ecolor: %{z}\\u003cextra\\u003e\\u003c\\u002fextra\\u003e\"}],                        {\"template\":{\"data\":{\"histogram2dcontour\":[{\"type\":\"histogram2dcontour\",\"colorbar\":{\"outlinewidth\":0,\"ticks\":\"\"},\"colorscale\":[[0.0,\"#0d0887\"],[0.1111111111111111,\"#46039f\"],[0.2222222222222222,\"#7201a8\"],[0.3333333333333333,\"#9c179e\"],[0.4444444444444444,\"#bd3786\"],[0.5555555555555556,\"#d8576b\"],[0.6666666666666666,\"#ed7953\"],[0.7777777777777778,\"#fb9f3a\"],[0.8888888888888888,\"#fdca26\"],[1.0,\"#f0f921\"]]}],\"choropleth\":[{\"type\":\"choropleth\",\"colorbar\":{\"outlinewidth\":0,\"ticks\":\"\"}}],\"histogram2d\":[{\"type\":\"histogram2d\",\"colorbar\":{\"outlinewidth\":0,\"ticks\":\"\"},\"colorscale\":[[0.0,\"#0d0887\"],[0.1111111111111111,\"#46039f\"],[0.2222222222222222,\"#7201a8\"],[0.3333333333333333,\"#9c179e\"],[0.4444444444444444,\"#bd3786\"],[0.5555555555555556,\"#d8576b\"],[0.6666666666666666,\"#ed7953\"],[0.7777777777777778,\"#fb9f3a\"],[0.8888888888888888,\"#fdca26\"],[1.0,\"#f0f921\"]]}],\"heatmap\":[{\"type\":\"heatmap\",\"colorbar\":{\"outlinewidth\":0,\"ticks\":\"\"},\"colorscale\":[[0.0,\"#0d0887\"],[0.1111111111111111,\"#46039f\"],[0.2222222222222222,\"#7201a8\"],[0.3333333333333333,\"#9c179e\"],[0.4444444444444444,\"#bd3786\"],[0.5555555555555556,\"#d8576b\"],[0.6666666666666666,\"#ed7953\"],[0.7777777777777778,\"#fb9f3a\"],[0.8888888888888888,\"#fdca26\"],[1.0,\"#f0f921\"]]}],\"heatmapgl\":[{\"type\":\"heatmapgl\",\"colorbar\":{\"outlinewidth\":0,\"ticks\":\"\"},\"colorscale\":[[0.0,\"#0d0887\"],[0.1111111111111111,\"#46039f\"],[0.2222222222222222,\"#7201a8\"],[0.3333333333333333,\"#9c179e\"],[0.4444444444444444,\"#bd3786\"],[0.5555555555555556,\"#d8576b\"],[0.6666666666666666,\"#ed7953\"],[0.7777777777777778,\"#fb9f3a\"],[0.8888888888888888,\"#fdca26\"],[1.0,\"#f0f921\"]]}],\"contourcarpet\":[{\"type\":\"contourcarpet\",\"colorbar\":{\"outlinewidth\":0,\"ticks\":\"\"}}],\"contour\":[{\"type\":\"contour\",\"colorbar\":{\"outlinewidth\":0,\"ticks\":\"\"},\"colorscale\":[[0.0,\"#0d0887\"],[0.1111111111111111,\"#46039f\"],[0.2222222222222222,\"#7201a8\"],[0.3333333333333333,\"#9c179e\"],[0.4444444444444444,\"#bd3786\"],[0.5555555555555556,\"#d8576b\"],[0.6666666666666666,\"#ed7953\"],[0.7777777777777778,\"#fb9f3a\"],[0.8888888888888888,\"#fdca26\"],[1.0,\"#f0f921\"]]}],\"surface\":[{\"type\":\"surface\",\"colorbar\":{\"outlinewidth\":0,\"ticks\":\"\"},\"colorscale\":[[0.0,\"#0d0887\"],[0.1111111111111111,\"#46039f\"],[0.2222222222222222,\"#7201a8\"],[0.3333333333333333,\"#9c179e\"],[0.4444444444444444,\"#bd3786\"],[0.5555555555555556,\"#d8576b\"],[0.6666666666666666,\"#ed7953\"],[0.7777777777777778,\"#fb9f3a\"],[0.8888888888888888,\"#fdca26\"],[1.0,\"#f0f921\"]]}],\"mesh3d\":[{\"type\":\"mesh3d\",\"colorbar\":{\"outlinewidth\":0,\"ticks\":\"\"}}],\"scatter\":[{\"fillpattern\":{\"fillmode\":\"overlay\",\"size\":10,\"solidity\":0.2},\"type\":\"scatter\"}],\"parcoords\":[{\"type\":\"parcoords\",\"line\":{\"colorbar\":{\"outlinewidth\":0,\"ticks\":\"\"}}}],\"scatterpolargl\":[{\"type\":\"scatterpolargl\",\"marker\":{\"colorbar\":{\"outlinewidth\":0,\"ticks\":\"\"}}}],\"bar\":[{\"error_x\":{\"color\":\"#2a3f5f\"},\"error_y\":{\"color\":\"#2a3f5f\"},\"marker\":{\"line\":{\"color\":\"#E5ECF6\",\"width\":0.5},\"pattern\":{\"fillmode\":\"overlay\",\"size\":10,\"solidity\":0.2}},\"type\":\"bar\"}],\"scattergeo\":[{\"type\":\"scattergeo\",\"marker\":{\"colorbar\":{\"outlinewidth\":0,\"ticks\":\"\"}}}],\"scatterpolar\":[{\"type\":\"scatterpolar\",\"marker\":{\"colorbar\":{\"outlinewidth\":0,\"ticks\":\"\"}}}],\"histogram\":[{\"marker\":{\"pattern\":{\"fillmode\":\"overlay\",\"size\":10,\"solidity\":0.2}},\"type\":\"histogram\"}],\"scattergl\":[{\"type\":\"scattergl\",\"marker\":{\"colorbar\":{\"outlinewidth\":0,\"ticks\":\"\"}}}],\"scatter3d\":[{\"type\":\"scatter3d\",\"line\":{\"colorbar\":{\"outlinewidth\":0,\"ticks\":\"\"}},\"marker\":{\"colorbar\":{\"outlinewidth\":0,\"ticks\":\"\"}}}],\"scattermapbox\":[{\"type\":\"scattermapbox\",\"marker\":{\"colorbar\":{\"outlinewidth\":0,\"ticks\":\"\"}}}],\"scatterternary\":[{\"type\":\"scatterternary\",\"marker\":{\"colorbar\":{\"outlinewidth\":0,\"ticks\":\"\"}}}],\"scattercarpet\":[{\"type\":\"scattercarpet\",\"marker\":{\"colorbar\":{\"outlinewidth\":0,\"ticks\":\"\"}}}],\"carpet\":[{\"aaxis\":{\"endlinecolor\":\"#2a3f5f\",\"gridcolor\":\"white\",\"linecolor\":\"white\",\"minorgridcolor\":\"white\",\"startlinecolor\":\"#2a3f5f\"},\"baxis\":{\"endlinecolor\":\"#2a3f5f\",\"gridcolor\":\"white\",\"linecolor\":\"white\",\"minorgridcolor\":\"white\",\"startlinecolor\":\"#2a3f5f\"},\"type\":\"carpet\"}],\"table\":[{\"cells\":{\"fill\":{\"color\":\"#EBF0F8\"},\"line\":{\"color\":\"white\"}},\"header\":{\"fill\":{\"color\":\"#C8D4E3\"},\"line\":{\"color\":\"white\"}},\"type\":\"table\"}],\"barpolar\":[{\"marker\":{\"line\":{\"color\":\"#E5ECF6\",\"width\":0.5},\"pattern\":{\"fillmode\":\"overlay\",\"size\":10,\"solidity\":0.2}},\"type\":\"barpolar\"}],\"pie\":[{\"automargin\":true,\"type\":\"pie\"}]},\"layout\":{\"autotypenumbers\":\"strict\",\"colorway\":[\"#636efa\",\"#EF553B\",\"#00cc96\",\"#ab63fa\",\"#FFA15A\",\"#19d3f3\",\"#FF6692\",\"#B6E880\",\"#FF97FF\",\"#FECB52\"],\"font\":{\"color\":\"#2a3f5f\"},\"hovermode\":\"closest\",\"hoverlabel\":{\"align\":\"left\"},\"paper_bgcolor\":\"white\",\"plot_bgcolor\":\"#E5ECF6\",\"polar\":{\"bgcolor\":\"#E5ECF6\",\"angularaxis\":{\"gridcolor\":\"white\",\"linecolor\":\"white\",\"ticks\":\"\"},\"radialaxis\":{\"gridcolor\":\"white\",\"linecolor\":\"white\",\"ticks\":\"\"}},\"ternary\":{\"bgcolor\":\"#E5ECF6\",\"aaxis\":{\"gridcolor\":\"white\",\"linecolor\":\"white\",\"ticks\":\"\"},\"baxis\":{\"gridcolor\":\"white\",\"linecolor\":\"white\",\"ticks\":\"\"},\"caxis\":{\"gridcolor\":\"white\",\"linecolor\":\"white\",\"ticks\":\"\"}},\"coloraxis\":{\"colorbar\":{\"outlinewidth\":0,\"ticks\":\"\"}},\"colorscale\":{\"sequential\":[[0.0,\"#0d0887\"],[0.1111111111111111,\"#46039f\"],[0.2222222222222222,\"#7201a8\"],[0.3333333333333333,\"#9c179e\"],[0.4444444444444444,\"#bd3786\"],[0.5555555555555556,\"#d8576b\"],[0.6666666666666666,\"#ed7953\"],[0.7777777777777778,\"#fb9f3a\"],[0.8888888888888888,\"#fdca26\"],[1.0,\"#f0f921\"]],\"sequentialminus\":[[0.0,\"#0d0887\"],[0.1111111111111111,\"#46039f\"],[0.2222222222222222,\"#7201a8\"],[0.3333333333333333,\"#9c179e\"],[0.4444444444444444,\"#bd3786\"],[0.5555555555555556,\"#d8576b\"],[0.6666666666666666,\"#ed7953\"],[0.7777777777777778,\"#fb9f3a\"],[0.8888888888888888,\"#fdca26\"],[1.0,\"#f0f921\"]],\"diverging\":[[0,\"#8e0152\"],[0.1,\"#c51b7d\"],[0.2,\"#de77ae\"],[0.3,\"#f1b6da\"],[0.4,\"#fde0ef\"],[0.5,\"#f7f7f7\"],[0.6,\"#e6f5d0\"],[0.7,\"#b8e186\"],[0.8,\"#7fbc41\"],[0.9,\"#4d9221\"],[1,\"#276419\"]]},\"xaxis\":{\"gridcolor\":\"white\",\"linecolor\":\"white\",\"ticks\":\"\",\"title\":{\"standoff\":15},\"zerolinecolor\":\"white\",\"automargin\":true,\"zerolinewidth\":2},\"yaxis\":{\"gridcolor\":\"white\",\"linecolor\":\"white\",\"ticks\":\"\",\"title\":{\"standoff\":15},\"zerolinecolor\":\"white\",\"automargin\":true,\"zerolinewidth\":2},\"scene\":{\"xaxis\":{\"backgroundcolor\":\"#E5ECF6\",\"gridcolor\":\"white\",\"linecolor\":\"white\",\"showbackground\":true,\"ticks\":\"\",\"zerolinecolor\":\"white\",\"gridwidth\":2},\"yaxis\":{\"backgroundcolor\":\"#E5ECF6\",\"gridcolor\":\"white\",\"linecolor\":\"white\",\"showbackground\":true,\"ticks\":\"\",\"zerolinecolor\":\"white\",\"gridwidth\":2},\"zaxis\":{\"backgroundcolor\":\"#E5ECF6\",\"gridcolor\":\"white\",\"linecolor\":\"white\",\"showbackground\":true,\"ticks\":\"\",\"zerolinecolor\":\"white\",\"gridwidth\":2}},\"shapedefaults\":{\"line\":{\"color\":\"#2a3f5f\"}},\"annotationdefaults\":{\"arrowcolor\":\"#2a3f5f\",\"arrowhead\":0,\"arrowwidth\":1},\"geo\":{\"bgcolor\":\"white\",\"landcolor\":\"#E5ECF6\",\"subunitcolor\":\"white\",\"showland\":true,\"showlakes\":true,\"lakecolor\":\"white\"},\"title\":{\"x\":0.05},\"mapbox\":{\"style\":\"light\"}}},\"xaxis\":{\"anchor\":\"y\",\"domain\":[0.0,1.0],\"title\":{\"text\":\"Predicted\"}},\"yaxis\":{\"anchor\":\"x\",\"domain\":[0.0,1.0],\"autorange\":\"reversed\",\"title\":{\"text\":\"Actual\"}},\"coloraxis\":{\"colorscale\":[[0.0,\"#440154\"],[0.1111111111111111,\"#482878\"],[0.2222222222222222,\"#3e4989\"],[0.3333333333333333,\"#31688e\"],[0.4444444444444444,\"#26828e\"],[0.5555555555555556,\"#1f9e89\"],[0.6666666666666666,\"#35b779\"],[0.7777777777777778,\"#6ece58\"],[0.8888888888888888,\"#b5de2b\"],[1.0,\"#fde725\"]]},\"margin\":{\"t\":60},\"title\":{\"text\":\"SupportVectorClassifier\"}},                        {\"responsive\": true}                    ).then(function(){\n",
              "                            \n",
              "var gd = document.getElementById('5f0f67ed-5e75-490d-b21b-8e8dad9275e3');\n",
              "var x = new MutationObserver(function (mutations, observer) {{\n",
              "        var display = window.getComputedStyle(gd).display;\n",
              "        if (!display || display === 'none') {{\n",
              "            console.log([gd, 'removed!']);\n",
              "            Plotly.purge(gd);\n",
              "            observer.disconnect();\n",
              "        }}\n",
              "}});\n",
              "\n",
              "// Listen for the removal of the full notebook cells\n",
              "var notebookContainer = gd.closest('#notebook-container');\n",
              "if (notebookContainer) {{\n",
              "    x.observe(notebookContainer, {childList: true});\n",
              "}}\n",
              "\n",
              "// Listen for the clearing of the current output cell\n",
              "var outputEl = gd.closest('.output');\n",
              "if (outputEl) {{\n",
              "    x.observe(outputEl, {childList: true});\n",
              "}}\n",
              "\n",
              "                        })                };                            </script>        </div>\n",
              "</body>\n",
              "</html>"
            ]
          },
          "metadata": {},
          "output_type": "display_data"
        },
        {
          "data": {
            "text/html": [
              "<html>\n",
              "<head><meta charset=\"utf-8\" /></head>\n",
              "<body>\n",
              "    <div>            <script src=\"https://cdnjs.cloudflare.com/ajax/libs/mathjax/2.7.5/MathJax.js?config=TeX-AMS-MML_SVG\"></script><script type=\"text/javascript\">if (window.MathJax && window.MathJax.Hub && window.MathJax.Hub.Config) {window.MathJax.Hub.Config({SVG: {font: \"STIX-Web\"}});}</script>                <script type=\"text/javascript\">window.PlotlyConfig = {MathJaxConfig: 'local'};</script>\n",
              "        <script charset=\"utf-8\" src=\"https://cdn.plot.ly/plotly-2.24.1.min.js\"></script>                <div id=\"a2ac6874-b59d-47aa-ac8d-0de3f800e1cd\" class=\"plotly-graph-div\" style=\"height:525px; width:100%;\"></div>            <script type=\"text/javascript\">                                    window.PLOTLYENV=window.PLOTLYENV || {};                                    if (document.getElementById(\"a2ac6874-b59d-47aa-ac8d-0de3f800e1cd\")) {                    Plotly.newPlot(                        \"a2ac6874-b59d-47aa-ac8d-0de3f800e1cd\",                        [{\"coloraxis\":\"coloraxis\",\"name\":\"0\",\"texttemplate\":\"%{z}\",\"z\":[[175,0],[0,161]],\"type\":\"heatmap\",\"xaxis\":\"x\",\"yaxis\":\"y\",\"hovertemplate\":\"x: %{x}\\u003cbr\\u003ey: %{y}\\u003cbr\\u003ecolor: %{z}\\u003cextra\\u003e\\u003c\\u002fextra\\u003e\"}],                        {\"template\":{\"data\":{\"histogram2dcontour\":[{\"type\":\"histogram2dcontour\",\"colorbar\":{\"outlinewidth\":0,\"ticks\":\"\"},\"colorscale\":[[0.0,\"#0d0887\"],[0.1111111111111111,\"#46039f\"],[0.2222222222222222,\"#7201a8\"],[0.3333333333333333,\"#9c179e\"],[0.4444444444444444,\"#bd3786\"],[0.5555555555555556,\"#d8576b\"],[0.6666666666666666,\"#ed7953\"],[0.7777777777777778,\"#fb9f3a\"],[0.8888888888888888,\"#fdca26\"],[1.0,\"#f0f921\"]]}],\"choropleth\":[{\"type\":\"choropleth\",\"colorbar\":{\"outlinewidth\":0,\"ticks\":\"\"}}],\"histogram2d\":[{\"type\":\"histogram2d\",\"colorbar\":{\"outlinewidth\":0,\"ticks\":\"\"},\"colorscale\":[[0.0,\"#0d0887\"],[0.1111111111111111,\"#46039f\"],[0.2222222222222222,\"#7201a8\"],[0.3333333333333333,\"#9c179e\"],[0.4444444444444444,\"#bd3786\"],[0.5555555555555556,\"#d8576b\"],[0.6666666666666666,\"#ed7953\"],[0.7777777777777778,\"#fb9f3a\"],[0.8888888888888888,\"#fdca26\"],[1.0,\"#f0f921\"]]}],\"heatmap\":[{\"type\":\"heatmap\",\"colorbar\":{\"outlinewidth\":0,\"ticks\":\"\"},\"colorscale\":[[0.0,\"#0d0887\"],[0.1111111111111111,\"#46039f\"],[0.2222222222222222,\"#7201a8\"],[0.3333333333333333,\"#9c179e\"],[0.4444444444444444,\"#bd3786\"],[0.5555555555555556,\"#d8576b\"],[0.6666666666666666,\"#ed7953\"],[0.7777777777777778,\"#fb9f3a\"],[0.8888888888888888,\"#fdca26\"],[1.0,\"#f0f921\"]]}],\"heatmapgl\":[{\"type\":\"heatmapgl\",\"colorbar\":{\"outlinewidth\":0,\"ticks\":\"\"},\"colorscale\":[[0.0,\"#0d0887\"],[0.1111111111111111,\"#46039f\"],[0.2222222222222222,\"#7201a8\"],[0.3333333333333333,\"#9c179e\"],[0.4444444444444444,\"#bd3786\"],[0.5555555555555556,\"#d8576b\"],[0.6666666666666666,\"#ed7953\"],[0.7777777777777778,\"#fb9f3a\"],[0.8888888888888888,\"#fdca26\"],[1.0,\"#f0f921\"]]}],\"contourcarpet\":[{\"type\":\"contourcarpet\",\"colorbar\":{\"outlinewidth\":0,\"ticks\":\"\"}}],\"contour\":[{\"type\":\"contour\",\"colorbar\":{\"outlinewidth\":0,\"ticks\":\"\"},\"colorscale\":[[0.0,\"#0d0887\"],[0.1111111111111111,\"#46039f\"],[0.2222222222222222,\"#7201a8\"],[0.3333333333333333,\"#9c179e\"],[0.4444444444444444,\"#bd3786\"],[0.5555555555555556,\"#d8576b\"],[0.6666666666666666,\"#ed7953\"],[0.7777777777777778,\"#fb9f3a\"],[0.8888888888888888,\"#fdca26\"],[1.0,\"#f0f921\"]]}],\"surface\":[{\"type\":\"surface\",\"colorbar\":{\"outlinewidth\":0,\"ticks\":\"\"},\"colorscale\":[[0.0,\"#0d0887\"],[0.1111111111111111,\"#46039f\"],[0.2222222222222222,\"#7201a8\"],[0.3333333333333333,\"#9c179e\"],[0.4444444444444444,\"#bd3786\"],[0.5555555555555556,\"#d8576b\"],[0.6666666666666666,\"#ed7953\"],[0.7777777777777778,\"#fb9f3a\"],[0.8888888888888888,\"#fdca26\"],[1.0,\"#f0f921\"]]}],\"mesh3d\":[{\"type\":\"mesh3d\",\"colorbar\":{\"outlinewidth\":0,\"ticks\":\"\"}}],\"scatter\":[{\"fillpattern\":{\"fillmode\":\"overlay\",\"size\":10,\"solidity\":0.2},\"type\":\"scatter\"}],\"parcoords\":[{\"type\":\"parcoords\",\"line\":{\"colorbar\":{\"outlinewidth\":0,\"ticks\":\"\"}}}],\"scatterpolargl\":[{\"type\":\"scatterpolargl\",\"marker\":{\"colorbar\":{\"outlinewidth\":0,\"ticks\":\"\"}}}],\"bar\":[{\"error_x\":{\"color\":\"#2a3f5f\"},\"error_y\":{\"color\":\"#2a3f5f\"},\"marker\":{\"line\":{\"color\":\"#E5ECF6\",\"width\":0.5},\"pattern\":{\"fillmode\":\"overlay\",\"size\":10,\"solidity\":0.2}},\"type\":\"bar\"}],\"scattergeo\":[{\"type\":\"scattergeo\",\"marker\":{\"colorbar\":{\"outlinewidth\":0,\"ticks\":\"\"}}}],\"scatterpolar\":[{\"type\":\"scatterpolar\",\"marker\":{\"colorbar\":{\"outlinewidth\":0,\"ticks\":\"\"}}}],\"histogram\":[{\"marker\":{\"pattern\":{\"fillmode\":\"overlay\",\"size\":10,\"solidity\":0.2}},\"type\":\"histogram\"}],\"scattergl\":[{\"type\":\"scattergl\",\"marker\":{\"colorbar\":{\"outlinewidth\":0,\"ticks\":\"\"}}}],\"scatter3d\":[{\"type\":\"scatter3d\",\"line\":{\"colorbar\":{\"outlinewidth\":0,\"ticks\":\"\"}},\"marker\":{\"colorbar\":{\"outlinewidth\":0,\"ticks\":\"\"}}}],\"scattermapbox\":[{\"type\":\"scattermapbox\",\"marker\":{\"colorbar\":{\"outlinewidth\":0,\"ticks\":\"\"}}}],\"scatterternary\":[{\"type\":\"scatterternary\",\"marker\":{\"colorbar\":{\"outlinewidth\":0,\"ticks\":\"\"}}}],\"scattercarpet\":[{\"type\":\"scattercarpet\",\"marker\":{\"colorbar\":{\"outlinewidth\":0,\"ticks\":\"\"}}}],\"carpet\":[{\"aaxis\":{\"endlinecolor\":\"#2a3f5f\",\"gridcolor\":\"white\",\"linecolor\":\"white\",\"minorgridcolor\":\"white\",\"startlinecolor\":\"#2a3f5f\"},\"baxis\":{\"endlinecolor\":\"#2a3f5f\",\"gridcolor\":\"white\",\"linecolor\":\"white\",\"minorgridcolor\":\"white\",\"startlinecolor\":\"#2a3f5f\"},\"type\":\"carpet\"}],\"table\":[{\"cells\":{\"fill\":{\"color\":\"#EBF0F8\"},\"line\":{\"color\":\"white\"}},\"header\":{\"fill\":{\"color\":\"#C8D4E3\"},\"line\":{\"color\":\"white\"}},\"type\":\"table\"}],\"barpolar\":[{\"marker\":{\"line\":{\"color\":\"#E5ECF6\",\"width\":0.5},\"pattern\":{\"fillmode\":\"overlay\",\"size\":10,\"solidity\":0.2}},\"type\":\"barpolar\"}],\"pie\":[{\"automargin\":true,\"type\":\"pie\"}]},\"layout\":{\"autotypenumbers\":\"strict\",\"colorway\":[\"#636efa\",\"#EF553B\",\"#00cc96\",\"#ab63fa\",\"#FFA15A\",\"#19d3f3\",\"#FF6692\",\"#B6E880\",\"#FF97FF\",\"#FECB52\"],\"font\":{\"color\":\"#2a3f5f\"},\"hovermode\":\"closest\",\"hoverlabel\":{\"align\":\"left\"},\"paper_bgcolor\":\"white\",\"plot_bgcolor\":\"#E5ECF6\",\"polar\":{\"bgcolor\":\"#E5ECF6\",\"angularaxis\":{\"gridcolor\":\"white\",\"linecolor\":\"white\",\"ticks\":\"\"},\"radialaxis\":{\"gridcolor\":\"white\",\"linecolor\":\"white\",\"ticks\":\"\"}},\"ternary\":{\"bgcolor\":\"#E5ECF6\",\"aaxis\":{\"gridcolor\":\"white\",\"linecolor\":\"white\",\"ticks\":\"\"},\"baxis\":{\"gridcolor\":\"white\",\"linecolor\":\"white\",\"ticks\":\"\"},\"caxis\":{\"gridcolor\":\"white\",\"linecolor\":\"white\",\"ticks\":\"\"}},\"coloraxis\":{\"colorbar\":{\"outlinewidth\":0,\"ticks\":\"\"}},\"colorscale\":{\"sequential\":[[0.0,\"#0d0887\"],[0.1111111111111111,\"#46039f\"],[0.2222222222222222,\"#7201a8\"],[0.3333333333333333,\"#9c179e\"],[0.4444444444444444,\"#bd3786\"],[0.5555555555555556,\"#d8576b\"],[0.6666666666666666,\"#ed7953\"],[0.7777777777777778,\"#fb9f3a\"],[0.8888888888888888,\"#fdca26\"],[1.0,\"#f0f921\"]],\"sequentialminus\":[[0.0,\"#0d0887\"],[0.1111111111111111,\"#46039f\"],[0.2222222222222222,\"#7201a8\"],[0.3333333333333333,\"#9c179e\"],[0.4444444444444444,\"#bd3786\"],[0.5555555555555556,\"#d8576b\"],[0.6666666666666666,\"#ed7953\"],[0.7777777777777778,\"#fb9f3a\"],[0.8888888888888888,\"#fdca26\"],[1.0,\"#f0f921\"]],\"diverging\":[[0,\"#8e0152\"],[0.1,\"#c51b7d\"],[0.2,\"#de77ae\"],[0.3,\"#f1b6da\"],[0.4,\"#fde0ef\"],[0.5,\"#f7f7f7\"],[0.6,\"#e6f5d0\"],[0.7,\"#b8e186\"],[0.8,\"#7fbc41\"],[0.9,\"#4d9221\"],[1,\"#276419\"]]},\"xaxis\":{\"gridcolor\":\"white\",\"linecolor\":\"white\",\"ticks\":\"\",\"title\":{\"standoff\":15},\"zerolinecolor\":\"white\",\"automargin\":true,\"zerolinewidth\":2},\"yaxis\":{\"gridcolor\":\"white\",\"linecolor\":\"white\",\"ticks\":\"\",\"title\":{\"standoff\":15},\"zerolinecolor\":\"white\",\"automargin\":true,\"zerolinewidth\":2},\"scene\":{\"xaxis\":{\"backgroundcolor\":\"#E5ECF6\",\"gridcolor\":\"white\",\"linecolor\":\"white\",\"showbackground\":true,\"ticks\":\"\",\"zerolinecolor\":\"white\",\"gridwidth\":2},\"yaxis\":{\"backgroundcolor\":\"#E5ECF6\",\"gridcolor\":\"white\",\"linecolor\":\"white\",\"showbackground\":true,\"ticks\":\"\",\"zerolinecolor\":\"white\",\"gridwidth\":2},\"zaxis\":{\"backgroundcolor\":\"#E5ECF6\",\"gridcolor\":\"white\",\"linecolor\":\"white\",\"showbackground\":true,\"ticks\":\"\",\"zerolinecolor\":\"white\",\"gridwidth\":2}},\"shapedefaults\":{\"line\":{\"color\":\"#2a3f5f\"}},\"annotationdefaults\":{\"arrowcolor\":\"#2a3f5f\",\"arrowhead\":0,\"arrowwidth\":1},\"geo\":{\"bgcolor\":\"white\",\"landcolor\":\"#E5ECF6\",\"subunitcolor\":\"white\",\"showland\":true,\"showlakes\":true,\"lakecolor\":\"white\"},\"title\":{\"x\":0.05},\"mapbox\":{\"style\":\"light\"}}},\"xaxis\":{\"anchor\":\"y\",\"domain\":[0.0,1.0],\"title\":{\"text\":\"Predicted\"}},\"yaxis\":{\"anchor\":\"x\",\"domain\":[0.0,1.0],\"autorange\":\"reversed\",\"title\":{\"text\":\"Actual\"}},\"coloraxis\":{\"colorscale\":[[0.0,\"#440154\"],[0.1111111111111111,\"#482878\"],[0.2222222222222222,\"#3e4989\"],[0.3333333333333333,\"#31688e\"],[0.4444444444444444,\"#26828e\"],[0.5555555555555556,\"#1f9e89\"],[0.6666666666666666,\"#35b779\"],[0.7777777777777778,\"#6ece58\"],[0.8888888888888888,\"#b5de2b\"],[1.0,\"#fde725\"]]},\"margin\":{\"t\":60},\"title\":{\"text\":\"MLPClassifier\"}},                        {\"responsive\": true}                    ).then(function(){\n",
              "                            \n",
              "var gd = document.getElementById('a2ac6874-b59d-47aa-ac8d-0de3f800e1cd');\n",
              "var x = new MutationObserver(function (mutations, observer) {{\n",
              "        var display = window.getComputedStyle(gd).display;\n",
              "        if (!display || display === 'none') {{\n",
              "            console.log([gd, 'removed!']);\n",
              "            Plotly.purge(gd);\n",
              "            observer.disconnect();\n",
              "        }}\n",
              "}});\n",
              "\n",
              "// Listen for the removal of the full notebook cells\n",
              "var notebookContainer = gd.closest('#notebook-container');\n",
              "if (notebookContainer) {{\n",
              "    x.observe(notebookContainer, {childList: true});\n",
              "}}\n",
              "\n",
              "// Listen for the clearing of the current output cell\n",
              "var outputEl = gd.closest('.output');\n",
              "if (outputEl) {{\n",
              "    x.observe(outputEl, {childList: true});\n",
              "}}\n",
              "\n",
              "                        })                };                            </script>        </div>\n",
              "</body>\n",
              "</html>"
            ]
          },
          "metadata": {},
          "output_type": "display_data"
        }
      ],
      "source": [
        "color_scales = [\"agsunset\",\"teal\",\"purp\",\"viridis\",\"viridis\"]\n",
        "for i in range(0,len(est_conf_matrix)):\n",
        "    heatmap = px.imshow(est_conf_matrix[i],aspect=\"auto\",\n",
        "                        text_auto=True,\n",
        "                        color_continuous_scale=color_scales[i])\n",
        "    heatmap.update_layout(title = est_name[i])\n",
        "    heatmap.update_xaxes(title=\"Predicted\")\n",
        "    heatmap.update_yaxes(title=\"Actual\")\n",
        "    heatmap.show()"
      ]
    },
    {
      "cell_type": "code",
      "execution_count": null,
      "metadata": {
        "colab": {
          "background_save": true
        },
        "id": "xpl_5o-giRN3",
        "outputId": "c93a9a59-5877-4fa1-9b04-2c0c29d416c3"
      },
      "outputs": [
        {
          "data": {
            "text/html": [
              "<html>\n",
              "<head><meta charset=\"utf-8\" /></head>\n",
              "<body>\n",
              "    <div>            <script src=\"https://cdnjs.cloudflare.com/ajax/libs/mathjax/2.7.5/MathJax.js?config=TeX-AMS-MML_SVG\"></script><script type=\"text/javascript\">if (window.MathJax && window.MathJax.Hub && window.MathJax.Hub.Config) {window.MathJax.Hub.Config({SVG: {font: \"STIX-Web\"}});}</script>                <script type=\"text/javascript\">window.PlotlyConfig = {MathJaxConfig: 'local'};</script>\n",
              "        <script charset=\"utf-8\" src=\"https://cdn.plot.ly/plotly-2.24.1.min.js\"></script>                <div id=\"2bc37d1c-27af-4524-8a3a-0e422c667afe\" class=\"plotly-graph-div\" style=\"height:525px; width:100%;\"></div>            <script type=\"text/javascript\">                                    window.PLOTLYENV=window.PLOTLYENV || {};                                    if (document.getElementById(\"2bc37d1c-27af-4524-8a3a-0e422c667afe\")) {                    Plotly.newPlot(                        \"2bc37d1c-27af-4524-8a3a-0e422c667afe\",                        [{\"alignmentgroup\":\"True\",\"hovertemplate\":\"Metrics=Accuracy Score\\u003cbr\\u003eClassifier Name=%{x}\\u003cbr\\u003eTest Accuracy=%{y}\\u003cextra\\u003e\\u003c\\u002fextra\\u003e\",\"legendgroup\":\"Accuracy Score\",\"marker\":{\"color\":\"deeppink\",\"pattern\":{\"shape\":\"\"}},\"name\":\"Accuracy Score\",\"offsetgroup\":\"Accuracy Score\",\"orientation\":\"v\",\"showlegend\":true,\"textposition\":\"auto\",\"texttemplate\":\"%{y}\",\"x\":[\"LogisticRegression\",\"RandomForestClassifier\",\"KNeighborsClassifier\",\"SupportVectorClassifier\",\"MLPClassifier\"],\"xaxis\":\"x\",\"y\":[1.0,0.9970238095238095,0.9613095238095238,0.9970238095238095,1.0],\"yaxis\":\"y\",\"type\":\"bar\"},{\"alignmentgroup\":\"True\",\"hovertemplate\":\"Metrics=Precision Score\\u003cbr\\u003eClassifier Name=%{x}\\u003cbr\\u003eTest Accuracy=%{y}\\u003cextra\\u003e\\u003c\\u002fextra\\u003e\",\"legendgroup\":\"Precision Score\",\"marker\":{\"color\":\"deepskyblue\",\"pattern\":{\"shape\":\"\"}},\"name\":\"Precision Score\",\"offsetgroup\":\"Precision Score\",\"orientation\":\"v\",\"showlegend\":true,\"textposition\":\"auto\",\"texttemplate\":\"%{y}\",\"x\":[\"LogisticRegression\",\"RandomForestClassifier\",\"KNeighborsClassifier\",\"SupportVectorClassifier\",\"MLPClassifier\"],\"xaxis\":\"x\",\"y\":[1.0,0.9970421810699589,0.9642001915708812,0.9970421810699589,1.0],\"yaxis\":\"y\",\"type\":\"bar\"},{\"alignmentgroup\":\"True\",\"hovertemplate\":\"Metrics=Recall Score\\u003cbr\\u003eClassifier Name=%{x}\\u003cbr\\u003eTest Accuracy=%{y}\\u003cextra\\u003e\\u003c\\u002fextra\\u003e\",\"legendgroup\":\"Recall Score\",\"marker\":{\"color\":\"darkviolet\",\"pattern\":{\"shape\":\"\"}},\"name\":\"Recall Score\",\"offsetgroup\":\"Recall Score\",\"orientation\":\"v\",\"showlegend\":true,\"textposition\":\"auto\",\"texttemplate\":\"%{y}\",\"x\":[\"LogisticRegression\",\"RandomForestClassifier\",\"KNeighborsClassifier\",\"SupportVectorClassifier\",\"MLPClassifier\"],\"xaxis\":\"x\",\"y\":[1.0,0.9970238095238095,0.9613095238095238,0.9970238095238095,1.0],\"yaxis\":\"y\",\"type\":\"bar\"},{\"alignmentgroup\":\"True\",\"hovertemplate\":\"Metrics=F1 Score\\u003cbr\\u003eClassifier Name=%{x}\\u003cbr\\u003eTest Accuracy=%{y}\\u003cextra\\u003e\\u003c\\u002fextra\\u003e\",\"legendgroup\":\"F1 Score\",\"marker\":{\"color\":\"darkorange\",\"pattern\":{\"shape\":\"\"}},\"name\":\"F1 Score\",\"offsetgroup\":\"F1 Score\",\"orientation\":\"v\",\"showlegend\":true,\"textposition\":\"auto\",\"texttemplate\":\"%{y}\",\"x\":[\"LogisticRegression\",\"RandomForestClassifier\",\"KNeighborsClassifier\",\"SupportVectorClassifier\",\"MLPClassifier\"],\"xaxis\":\"x\",\"y\":[1.0,0.997024152746606,0.961313979066094,0.997024152746606,1.0],\"yaxis\":\"y\",\"type\":\"bar\"},{\"alignmentgroup\":\"True\",\"hovertemplate\":\"Metrics=AUROC\\u003cbr\\u003eClassifier Name=%{x}\\u003cbr\\u003eTest Accuracy=%{y}\\u003cextra\\u003e\\u003c\\u002fextra\\u003e\",\"legendgroup\":\"AUROC\",\"marker\":{\"color\":\"darkred\",\"pattern\":{\"shape\":\"\"}},\"name\":\"AUROC\",\"offsetgroup\":\"AUROC\",\"orientation\":\"v\",\"showlegend\":true,\"textposition\":\"auto\",\"texttemplate\":\"%{y}\",\"x\":[\"LogisticRegression\",\"RandomForestClassifier\",\"KNeighborsClassifier\",\"SupportVectorClassifier\",\"MLPClassifier\"],\"xaxis\":\"x\",\"y\":[1.0,0.9971428571428572,0.9628571428571429,0.9971428571428572,1.0],\"yaxis\":\"y\",\"type\":\"bar\"}],                        {\"template\":{\"data\":{\"histogram2dcontour\":[{\"type\":\"histogram2dcontour\",\"colorbar\":{\"outlinewidth\":0,\"ticks\":\"\"},\"colorscale\":[[0.0,\"#0d0887\"],[0.1111111111111111,\"#46039f\"],[0.2222222222222222,\"#7201a8\"],[0.3333333333333333,\"#9c179e\"],[0.4444444444444444,\"#bd3786\"],[0.5555555555555556,\"#d8576b\"],[0.6666666666666666,\"#ed7953\"],[0.7777777777777778,\"#fb9f3a\"],[0.8888888888888888,\"#fdca26\"],[1.0,\"#f0f921\"]]}],\"choropleth\":[{\"type\":\"choropleth\",\"colorbar\":{\"outlinewidth\":0,\"ticks\":\"\"}}],\"histogram2d\":[{\"type\":\"histogram2d\",\"colorbar\":{\"outlinewidth\":0,\"ticks\":\"\"},\"colorscale\":[[0.0,\"#0d0887\"],[0.1111111111111111,\"#46039f\"],[0.2222222222222222,\"#7201a8\"],[0.3333333333333333,\"#9c179e\"],[0.4444444444444444,\"#bd3786\"],[0.5555555555555556,\"#d8576b\"],[0.6666666666666666,\"#ed7953\"],[0.7777777777777778,\"#fb9f3a\"],[0.8888888888888888,\"#fdca26\"],[1.0,\"#f0f921\"]]}],\"heatmap\":[{\"type\":\"heatmap\",\"colorbar\":{\"outlinewidth\":0,\"ticks\":\"\"},\"colorscale\":[[0.0,\"#0d0887\"],[0.1111111111111111,\"#46039f\"],[0.2222222222222222,\"#7201a8\"],[0.3333333333333333,\"#9c179e\"],[0.4444444444444444,\"#bd3786\"],[0.5555555555555556,\"#d8576b\"],[0.6666666666666666,\"#ed7953\"],[0.7777777777777778,\"#fb9f3a\"],[0.8888888888888888,\"#fdca26\"],[1.0,\"#f0f921\"]]}],\"heatmapgl\":[{\"type\":\"heatmapgl\",\"colorbar\":{\"outlinewidth\":0,\"ticks\":\"\"},\"colorscale\":[[0.0,\"#0d0887\"],[0.1111111111111111,\"#46039f\"],[0.2222222222222222,\"#7201a8\"],[0.3333333333333333,\"#9c179e\"],[0.4444444444444444,\"#bd3786\"],[0.5555555555555556,\"#d8576b\"],[0.6666666666666666,\"#ed7953\"],[0.7777777777777778,\"#fb9f3a\"],[0.8888888888888888,\"#fdca26\"],[1.0,\"#f0f921\"]]}],\"contourcarpet\":[{\"type\":\"contourcarpet\",\"colorbar\":{\"outlinewidth\":0,\"ticks\":\"\"}}],\"contour\":[{\"type\":\"contour\",\"colorbar\":{\"outlinewidth\":0,\"ticks\":\"\"},\"colorscale\":[[0.0,\"#0d0887\"],[0.1111111111111111,\"#46039f\"],[0.2222222222222222,\"#7201a8\"],[0.3333333333333333,\"#9c179e\"],[0.4444444444444444,\"#bd3786\"],[0.5555555555555556,\"#d8576b\"],[0.6666666666666666,\"#ed7953\"],[0.7777777777777778,\"#fb9f3a\"],[0.8888888888888888,\"#fdca26\"],[1.0,\"#f0f921\"]]}],\"surface\":[{\"type\":\"surface\",\"colorbar\":{\"outlinewidth\":0,\"ticks\":\"\"},\"colorscale\":[[0.0,\"#0d0887\"],[0.1111111111111111,\"#46039f\"],[0.2222222222222222,\"#7201a8\"],[0.3333333333333333,\"#9c179e\"],[0.4444444444444444,\"#bd3786\"],[0.5555555555555556,\"#d8576b\"],[0.6666666666666666,\"#ed7953\"],[0.7777777777777778,\"#fb9f3a\"],[0.8888888888888888,\"#fdca26\"],[1.0,\"#f0f921\"]]}],\"mesh3d\":[{\"type\":\"mesh3d\",\"colorbar\":{\"outlinewidth\":0,\"ticks\":\"\"}}],\"scatter\":[{\"fillpattern\":{\"fillmode\":\"overlay\",\"size\":10,\"solidity\":0.2},\"type\":\"scatter\"}],\"parcoords\":[{\"type\":\"parcoords\",\"line\":{\"colorbar\":{\"outlinewidth\":0,\"ticks\":\"\"}}}],\"scatterpolargl\":[{\"type\":\"scatterpolargl\",\"marker\":{\"colorbar\":{\"outlinewidth\":0,\"ticks\":\"\"}}}],\"bar\":[{\"error_x\":{\"color\":\"#2a3f5f\"},\"error_y\":{\"color\":\"#2a3f5f\"},\"marker\":{\"line\":{\"color\":\"#E5ECF6\",\"width\":0.5},\"pattern\":{\"fillmode\":\"overlay\",\"size\":10,\"solidity\":0.2}},\"type\":\"bar\"}],\"scattergeo\":[{\"type\":\"scattergeo\",\"marker\":{\"colorbar\":{\"outlinewidth\":0,\"ticks\":\"\"}}}],\"scatterpolar\":[{\"type\":\"scatterpolar\",\"marker\":{\"colorbar\":{\"outlinewidth\":0,\"ticks\":\"\"}}}],\"histogram\":[{\"marker\":{\"pattern\":{\"fillmode\":\"overlay\",\"size\":10,\"solidity\":0.2}},\"type\":\"histogram\"}],\"scattergl\":[{\"type\":\"scattergl\",\"marker\":{\"colorbar\":{\"outlinewidth\":0,\"ticks\":\"\"}}}],\"scatter3d\":[{\"type\":\"scatter3d\",\"line\":{\"colorbar\":{\"outlinewidth\":0,\"ticks\":\"\"}},\"marker\":{\"colorbar\":{\"outlinewidth\":0,\"ticks\":\"\"}}}],\"scattermapbox\":[{\"type\":\"scattermapbox\",\"marker\":{\"colorbar\":{\"outlinewidth\":0,\"ticks\":\"\"}}}],\"scatterternary\":[{\"type\":\"scatterternary\",\"marker\":{\"colorbar\":{\"outlinewidth\":0,\"ticks\":\"\"}}}],\"scattercarpet\":[{\"type\":\"scattercarpet\",\"marker\":{\"colorbar\":{\"outlinewidth\":0,\"ticks\":\"\"}}}],\"carpet\":[{\"aaxis\":{\"endlinecolor\":\"#2a3f5f\",\"gridcolor\":\"white\",\"linecolor\":\"white\",\"minorgridcolor\":\"white\",\"startlinecolor\":\"#2a3f5f\"},\"baxis\":{\"endlinecolor\":\"#2a3f5f\",\"gridcolor\":\"white\",\"linecolor\":\"white\",\"minorgridcolor\":\"white\",\"startlinecolor\":\"#2a3f5f\"},\"type\":\"carpet\"}],\"table\":[{\"cells\":{\"fill\":{\"color\":\"#EBF0F8\"},\"line\":{\"color\":\"white\"}},\"header\":{\"fill\":{\"color\":\"#C8D4E3\"},\"line\":{\"color\":\"white\"}},\"type\":\"table\"}],\"barpolar\":[{\"marker\":{\"line\":{\"color\":\"#E5ECF6\",\"width\":0.5},\"pattern\":{\"fillmode\":\"overlay\",\"size\":10,\"solidity\":0.2}},\"type\":\"barpolar\"}],\"pie\":[{\"automargin\":true,\"type\":\"pie\"}]},\"layout\":{\"autotypenumbers\":\"strict\",\"colorway\":[\"#636efa\",\"#EF553B\",\"#00cc96\",\"#ab63fa\",\"#FFA15A\",\"#19d3f3\",\"#FF6692\",\"#B6E880\",\"#FF97FF\",\"#FECB52\"],\"font\":{\"color\":\"#2a3f5f\"},\"hovermode\":\"closest\",\"hoverlabel\":{\"align\":\"left\"},\"paper_bgcolor\":\"white\",\"plot_bgcolor\":\"#E5ECF6\",\"polar\":{\"bgcolor\":\"#E5ECF6\",\"angularaxis\":{\"gridcolor\":\"white\",\"linecolor\":\"white\",\"ticks\":\"\"},\"radialaxis\":{\"gridcolor\":\"white\",\"linecolor\":\"white\",\"ticks\":\"\"}},\"ternary\":{\"bgcolor\":\"#E5ECF6\",\"aaxis\":{\"gridcolor\":\"white\",\"linecolor\":\"white\",\"ticks\":\"\"},\"baxis\":{\"gridcolor\":\"white\",\"linecolor\":\"white\",\"ticks\":\"\"},\"caxis\":{\"gridcolor\":\"white\",\"linecolor\":\"white\",\"ticks\":\"\"}},\"coloraxis\":{\"colorbar\":{\"outlinewidth\":0,\"ticks\":\"\"}},\"colorscale\":{\"sequential\":[[0.0,\"#0d0887\"],[0.1111111111111111,\"#46039f\"],[0.2222222222222222,\"#7201a8\"],[0.3333333333333333,\"#9c179e\"],[0.4444444444444444,\"#bd3786\"],[0.5555555555555556,\"#d8576b\"],[0.6666666666666666,\"#ed7953\"],[0.7777777777777778,\"#fb9f3a\"],[0.8888888888888888,\"#fdca26\"],[1.0,\"#f0f921\"]],\"sequentialminus\":[[0.0,\"#0d0887\"],[0.1111111111111111,\"#46039f\"],[0.2222222222222222,\"#7201a8\"],[0.3333333333333333,\"#9c179e\"],[0.4444444444444444,\"#bd3786\"],[0.5555555555555556,\"#d8576b\"],[0.6666666666666666,\"#ed7953\"],[0.7777777777777778,\"#fb9f3a\"],[0.8888888888888888,\"#fdca26\"],[1.0,\"#f0f921\"]],\"diverging\":[[0,\"#8e0152\"],[0.1,\"#c51b7d\"],[0.2,\"#de77ae\"],[0.3,\"#f1b6da\"],[0.4,\"#fde0ef\"],[0.5,\"#f7f7f7\"],[0.6,\"#e6f5d0\"],[0.7,\"#b8e186\"],[0.8,\"#7fbc41\"],[0.9,\"#4d9221\"],[1,\"#276419\"]]},\"xaxis\":{\"gridcolor\":\"white\",\"linecolor\":\"white\",\"ticks\":\"\",\"title\":{\"standoff\":15},\"zerolinecolor\":\"white\",\"automargin\":true,\"zerolinewidth\":2},\"yaxis\":{\"gridcolor\":\"white\",\"linecolor\":\"white\",\"ticks\":\"\",\"title\":{\"standoff\":15},\"zerolinecolor\":\"white\",\"automargin\":true,\"zerolinewidth\":2},\"scene\":{\"xaxis\":{\"backgroundcolor\":\"#E5ECF6\",\"gridcolor\":\"white\",\"linecolor\":\"white\",\"showbackground\":true,\"ticks\":\"\",\"zerolinecolor\":\"white\",\"gridwidth\":2},\"yaxis\":{\"backgroundcolor\":\"#E5ECF6\",\"gridcolor\":\"white\",\"linecolor\":\"white\",\"showbackground\":true,\"ticks\":\"\",\"zerolinecolor\":\"white\",\"gridwidth\":2},\"zaxis\":{\"backgroundcolor\":\"#E5ECF6\",\"gridcolor\":\"white\",\"linecolor\":\"white\",\"showbackground\":true,\"ticks\":\"\",\"zerolinecolor\":\"white\",\"gridwidth\":2}},\"shapedefaults\":{\"line\":{\"color\":\"#2a3f5f\"}},\"annotationdefaults\":{\"arrowcolor\":\"#2a3f5f\",\"arrowhead\":0,\"arrowwidth\":1},\"geo\":{\"bgcolor\":\"white\",\"landcolor\":\"#E5ECF6\",\"subunitcolor\":\"white\",\"showland\":true,\"showlakes\":true,\"lakecolor\":\"white\"},\"title\":{\"x\":0.05},\"mapbox\":{\"style\":\"light\"}}},\"xaxis\":{\"anchor\":\"y\",\"domain\":[0.0,1.0],\"title\":{\"text\":\"Classifier Name\"}},\"yaxis\":{\"anchor\":\"x\",\"domain\":[0.0,1.0],\"title\":{\"text\":\"Test Accuracy\"}},\"legend\":{\"title\":{\"text\":\"Metrics\"},\"tracegroupgap\":0},\"margin\":{\"t\":60},\"barmode\":\"group\",\"plot_bgcolor\":\"rgba(0, 0, 0, 0)\",\"paper_bgcolor\":\"rgba(0, 0, 0, 0)\"},                        {\"responsive\": true}                    ).then(function(){\n",
              "                            \n",
              "var gd = document.getElementById('2bc37d1c-27af-4524-8a3a-0e422c667afe');\n",
              "var x = new MutationObserver(function (mutations, observer) {{\n",
              "        var display = window.getComputedStyle(gd).display;\n",
              "        if (!display || display === 'none') {{\n",
              "            console.log([gd, 'removed!']);\n",
              "            Plotly.purge(gd);\n",
              "            observer.disconnect();\n",
              "        }}\n",
              "}});\n",
              "\n",
              "// Listen for the removal of the full notebook cells\n",
              "var notebookContainer = gd.closest('#notebook-container');\n",
              "if (notebookContainer) {{\n",
              "    x.observe(notebookContainer, {childList: true});\n",
              "}}\n",
              "\n",
              "// Listen for the clearing of the current output cell\n",
              "var outputEl = gd.closest('.output');\n",
              "if (outputEl) {{\n",
              "    x.observe(outputEl, {childList: true});\n",
              "}}\n",
              "\n",
              "                        })                };                            </script>        </div>\n",
              "</body>\n",
              "</html>"
            ]
          },
          "metadata": {},
          "output_type": "display_data"
        }
      ],
      "source": [
        "\n",
        "#https://plotly.com/python/error-bars/\n",
        "#https://problemsolvingwithpython.com/06-Plotting-with-Matplotlib/06.07-Error-Bars/\n",
        "acc_comparison = px.bar(summary_df, x=\"Classifier Name\",\n",
        "                        y=col_names[1:len(col_names)], labels={\"value\":\"Test Accuracy\", \"variable\":\"Metrics\"}, text_auto=True,\n",
        "                        color_discrete_sequence=[\"deeppink\",\n",
        "                                                 \"deepskyblue\",\n",
        "                                                 \"darkviolet\",\n",
        "                                                 \"darkorange\",\n",
        "                                                 \"darkred\"],\n",
        "                        barmode=\"group\"\n",
        "                        #,error_y=[dict(type='data', array=[0.5, 1, 2],visible=True), dict(type='data', array=[0.5, 1, 2]), dict(type='data', array=[0.5, 1, 2],visible=True), dict(type='data', array=[0.5,1]), dict(type='data', array=[0.5, 1, 2, 2, 1])]\n",
        "                        #,error_y_minus = [dict(type='data', array=[0.5, 1, 2, 2, 1],visible=True), dict(type='data', array=[0.5, 1, 2]), dict(type='data', array=[2, 1]), dict(type='data', array=[0.5,1]), dict(type='data', array=[0.5, 1, 2, 2, 1])]\n",
        "                        )\n",
        "acc_comparison.update_layout({'plot_bgcolor': 'rgba(0, 0, 0, 0)',\n",
        "'paper_bgcolor': 'rgba(0, 0, 0, 0)'\n",
        "})\n",
        "acc_comparison.show()"
      ]
    },
    {
      "cell_type": "markdown",
      "metadata": {
        "id": "ol3E0_tMie4u"
      },
      "source": [
        "** Description of Metrics**\n",
        "\n",
        "\n",
        "TP: True Positive, these are the values that are positive and were predicted positive\n",
        "\n",
        "FP: False Positive, The values which are negative but were wrongly predicted as positive\n",
        "\n",
        "TN: True Negative, these are the values that are negative and were predicted negative\n",
        "\n",
        "FN: False Negative, The values which are positive but were wrongly predicted as negative\n",
        "Precision\n",
        "\n",
        " Precision  = TP / (TP+FP)\n",
        "\n",
        "This metric measures the actual positive outcomes out of the total predicted positive outcomes. It attempts to identify the proportion of positive identifications that were correct. KNeighbors and SVC gave the worst precision score\n",
        "\n",
        "In the context of diagnoising cervical cancer, this is metric would not be the most ideal to measure performance, as a negative case being labelled as a positive case is easily solved with confirmatory tests. However, one has to also consider the emotional and mental issues brought upon by being diagnosed with cervical cancer, as this can have a lingering effect even after having confirmatory tests. These tests should be done as soon as possible, as there may be another underlying illness that brought them to see a healthcare professional in the first place.\n",
        "\n",
        "Recall\n",
        "\n",
        "Recall = TP / (TP+FN)\n",
        "\n",
        "This metirc measures the correctly positive predicted outocmes of the total number of positive outcomes. It answers the question of what proportions of actual positives were identified correctly. KNeighbors and SVC gave the worst precision score\n",
        "\n",
        "In the context of diagnosing cervical cancer, we want to reduce the number of false negatives (Actual positive cases labelled as negative cases) as much possible. If an actual positive case is labelled as negative, this has serious consequecnes as the patient would go about their life without actually receiving potentially life saving treatment.\n",
        "\n",
        "There are many reasons why a cancer can go misdiagnosed, these include:\n",
        "\n",
        "The symptoms,especially in the early stages being mistaken for some other type of less serious illness.\n",
        "The actual test adminstered by a healthcare professional may give the wrong diagnosis\n",
        "The 5-year survival rate tells you what percent of people live at least 5 years after the cancer is found. Percent means how many out of 100. The 5-year survival rate for all people with cervical cancer is 66%. Source\n",
        "\n",
        "Survival rates also depend on the stage of cervical cancer that is diagnosed. When detected at an early stage, the 5-year survival rate for people with invasive cervical cancer is 92%. About 44% of people with cervical cancer are diagnosed at an early stage. If cervical cancer has spread to surrounding tissues or organs and/or the regional lymph nodes, the 5-year survival rate is 58%. If the cancer has spread to a distant part of the body, the 5-year survival rate is 18%.\n",
        "\n",
        "F1 Score\n",
        "\n",
        "F1 Score =TP / (TP + ((FN+FP)/2))\n",
        "\n",
        "The F1 score is defined as the harmonic mean of precision and recall. Therefore, a high F1 score means both a high precision and recall, same for low and a medium score if one score is high and the other is low.\n",
        "\n",
        "\n",
        "\n",
        "Accuracy\n",
        " Accuracy = (TP + TN) / (TP + FP + TN + FN)\n",
        "\n"
      ]
    },
    {
      "cell_type": "markdown",
      "metadata": {
        "id": "1mSwBFjylEcZ"
      },
      "source": [
        "# XAI TODO\n",
        "Add a random var"
      ]
    },
    {
      "cell_type": "code",
      "execution_count": null,
      "metadata": {
        "colab": {
          "background_save": true
        },
        "id": "3hV0Cg-iieia"
      },
      "outputs": [],
      "source": [
        "from scipy.stats import bernoulli\n",
        "risk_factor_df['VAR']=bernoulli.rvs(.5, size=risk_factor_df.shape[0])"
      ]
    },
    {
      "cell_type": "code",
      "execution_count": null,
      "metadata": {
        "colab": {
          "background_save": true
        },
        "id": "vqzj5wCLlxCB",
        "outputId": "37fbf31c-0d67-4941-961b-a71a95e0662e"
      },
      "outputs": [
        {
          "data": {
            "text/plain": [
              "Index(['Age', 'Number of sexual partners', 'First sexual intercourse',\n",
              "       'Num of pregnancies', 'Smokes', 'Smokes (years)', 'Smokes (packs/year)',\n",
              "       'Hormonal Contraceptives', 'Hormonal Contraceptives (years)', 'IUD',\n",
              "       'IUD (years)', 'STDs', 'STDs (number)', 'STDs:condylomatosis',\n",
              "       'STDs:cervical condylomatosis', 'STDs:vaginal condylomatosis',\n",
              "       'STDs:vulvo-perineal condylomatosis', 'STDs:syphilis',\n",
              "       'STDs:pelvic inflammatory disease', 'STDs:genital herpes',\n",
              "       'STDs:molluscum contagiosum', 'STDs:AIDS', 'STDs:HIV',\n",
              "       'STDs:Hepatitis B', 'STDs:HPV', 'STDs: Number of diagnosis',\n",
              "       'STDs: Time since first diagnosis', 'STDs: Time since last diagnosis',\n",
              "       'Dx:CIN', 'Dx:HPV', 'Dx', 'Hinselmann', 'Schiller', 'Citology',\n",
              "       'Biopsy', 'total_std', 'total_tests', 'Dx:Cancer', 'age_cat', 'VAR'],\n",
              "      dtype='object')"
            ]
          },
          "execution_count": 196,
          "metadata": {},
          "output_type": "execute_result"
        }
      ],
      "source": [
        "#continous\n",
        "risk_factor_df['VAR']=np.random.normal(loc=0, scale=1, size=risk_factor_df.shape[0])\n",
        "risk_factor_df.columns\n"
      ]
    },
    {
      "cell_type": "markdown",
      "metadata": {
        "id": "H5PdOdVil1pm"
      },
      "source": [
        "Get data and model (unsure about this section - determine correct cols to include)"
      ]
    },
    {
      "cell_type": "code",
      "execution_count": null,
      "metadata": {
        "colab": {
          "background_save": true
        },
        "id": "jhftXbNLl3dT"
      },
      "outputs": [],
      "source": [
        "#without RAND\n",
        "\n",
        "\n",
        "# risk_factor_df.drop(cols_to_drop, axis=1, inplace=True)\n",
        "# modified:\n",
        "# cols_to_remove = [\"total_std\", \"total_tests\", \"age_cat\"]\n",
        "# for set_ in risk_factor_df:\n",
        "#   if set_ in cols_to_remove:\n",
        "#     set_.drop(col, axis=1, inplace=True)\n",
        "\n",
        "\n",
        "risk_factor_df.to_csv('/content/drive/My Drive/DL4H_Sp24_Final_Project/Rcancer2.csv', index=False)\n",
        "#modified below to replicate above filename\n",
        "risk_factor_df=pd.read_csv('/content/drive/My Drive/DL4H_Sp24_Final_Project/Rcancer2.csv')\n",
        "\n",
        "\n",
        "\n"
      ]
    },
    {
      "cell_type": "code",
      "execution_count": null,
      "metadata": {
        "colab": {
          "background_save": true
        },
        "id": "nzkuHt_dn9_B"
      },
      "outputs": [],
      "source": [
        "#with randn\n",
        "\n",
        "#adding noise\n",
        "\n",
        "X_test=pd.read_csv('/content/drive/My Drive/DL4H_Sp24_Final_Project/X_test.csv')\n",
        "X_test.drop('Unnamed: 0', inplace=True, axis=1)\n",
        "y_test=pd.read_csv('/content/drive/My Drive/DL4H_Sp24_Final_Project/y_test.csv')\n",
        "y_test.drop('Unnamed: 0', inplace=True, axis=1)\n",
        "X_train=pd.read_csv('/content/drive/My Drive/DL4H_Sp24_Final_Project/X_train.csv')\n",
        "X_train.drop('Unnamed: 0', inplace=True, axis=1)\n",
        "y_train=pd.read_csv('/content/drive/My Drive/DL4H_Sp24_Final_Project/y_train.csv')\n",
        "y_train.drop('Unnamed: 0', inplace=True, axis=1)\n"
      ]
    },
    {
      "cell_type": "code",
      "execution_count": null,
      "metadata": {
        "colab": {
          "background_save": true
        },
        "id": "31Ng-8d4oMqG"
      },
      "outputs": [],
      "source": [
        "\n",
        "from scipy.stats import bernoulli\n",
        "\n",
        "X_test['VARB']=bernoulli.rvs(.5, size=X_test.shape[0])\n",
        "X_train['VARB']=bernoulli.rvs(.5, size=X_train.shape[0])\n",
        "X_test['VARC']=bernoulli.rvs(.5, size=X_test.shape[0])\n",
        "X_train['VARC']=bernoulli.rvs(.5, size=X_train.shape[0])"
      ]
    },
    {
      "cell_type": "code",
      "execution_count": null,
      "metadata": {
        "colab": {
          "background_save": true
        },
        "id": "CqzOF9k0oOu2"
      },
      "outputs": [],
      "source": [
        "\n",
        "for col in X_test.columns:\n",
        "  X_test[col]+=np.random.normal(loc=0, scale=.1, size=X_test.shape[0])\n",
        "  X_train[col]+=np.random.normal(loc=0, scale=.1, size=X_train.shape[0])\n"
      ]
    },
    {
      "cell_type": "code",
      "execution_count": null,
      "metadata": {
        "colab": {
          "background_save": true
        },
        "id": "vwFEk6GkoRbX"
      },
      "outputs": [],
      "source": [
        "\n",
        "X_test.to_csv('/content/drive/My Drive/DL4H_Sp24_Final_Project/AX_test.csv')\n",
        "y_test.to_csv('/content/drive/My Drive/DL4H_Sp24_Final_Project/Ay_test.csv')\n",
        "X_train.to_csv('/content/drive/My Drive/DL4H_Sp24_Final_Project/AX_train.csv')\n",
        "y_train.to_csv('/content/drive/My Drive/DL4H_Sp24_Final_Project/Ay_train.csv')\n",
        "\n",
        "\n",
        "X_test=pd.read_csv('/content/drive/My Drive/DL4H_Sp24_Final_Project/AX_test.csv')\n",
        "X_test.drop('Unnamed: 0', inplace=True, axis=1)\n",
        "y_test=pd.read_csv('/content/drive/My Drive/DL4H_Sp24_Final_Project/Ay_test.csv')\n",
        "y_test.drop('Unnamed: 0', inplace=True, axis=1)\n",
        "X_train=pd.read_csv('/content/drive/My Drive/DL4H_Sp24_Final_Project/AX_train.csv')\n",
        "X_train.drop('Unnamed: 0', inplace=True, axis=1)\n",
        "y_train=pd.read_csv('/content/drive/My Drive/DL4H_Sp24_Final_Project/Ay_train.csv')\n",
        "y_train.drop('Unnamed: 0', inplace=True, axis=1)"
      ]
    },
    {
      "cell_type": "code",
      "execution_count": null,
      "metadata": {
        "colab": {
          "background_save": true
        },
        "id": "rxjelCIxoUre"
      },
      "outputs": [],
      "source": [
        "#binary\n",
        "X_test=pd.read_csv('/content/drive/My Drive/DL4H_Sp24_Final_Project/X_test.csv')\n",
        "X_test.drop('Unnamed: 0', inplace=True, axis=1)\n",
        "y_test=pd.read_csv('/content/drive/My Drive/DL4H_Sp24_Final_Project/y_test.csv')\n",
        "y_test.drop('Unnamed: 0', inplace=True, axis=1)\n",
        "X_train=pd.read_csv('/content/drive/My Drive/DL4H_Sp24_Final_Project/X_train.csv')\n",
        "X_train.drop('Unnamed: 0', inplace=True, axis=1)\n",
        "y_train=pd.read_csv('/content/drive/My Drive/DL4H_Sp24_Final_Project/y_train.csv')\n",
        "y_train.drop('Unnamed: 0', inplace=True, axis=1)"
      ]
    },
    {
      "cell_type": "code",
      "execution_count": null,
      "metadata": {
        "colab": {
          "background_save": true
        },
        "id": "4gJG84PYobZO"
      },
      "outputs": [],
      "source": [
        "from scipy.stats import bernoulli\n",
        "\n",
        "X_test['VAR']=bernoulli.rvs(.5, size=X_test.shape[0])\n",
        "X_train['VAR']=bernoulli.rvs(.5, size=X_train.shape[0])"
      ]
    },
    {
      "cell_type": "code",
      "execution_count": null,
      "metadata": {
        "colab": {
          "background_save": true
        },
        "id": "5Bctg6NOvdwY"
      },
      "outputs": [],
      "source": [
        "X_test.to_csv('/content/drive/My Drive/DL4H_Sp24_Final_Project/BX_test.csv')\n",
        "y_test.to_csv('/content/drive/My Drive/DL4H_Sp24_Final_Project/By_test.csv')\n",
        "X_train.to_csv('/content/drive/My Drive/DL4H_Sp24_Final_Project/BX_train.csv')\n",
        "y_train.to_csv('/content/drive/My Drive/DL4H_Sp24_Final_Project/By_train.csv')"
      ]
    },
    {
      "cell_type": "code",
      "execution_count": null,
      "metadata": {
        "colab": {
          "background_save": true
        },
        "id": "Ti3Qsb2DvnPo"
      },
      "outputs": [],
      "source": [
        "X_test=pd.read_csv('/content/drive/My Drive/DL4H_Sp24_Final_Project/BX_test.csv')\n",
        "X_test.drop('Unnamed: 0', inplace=True, axis=1)\n",
        "y_test=pd.read_csv('/content/drive/My Drive/DL4H_Sp24_Final_Project/By_test.csv')\n",
        "y_test.drop('Unnamed: 0', inplace=True, axis=1)\n",
        "X_train=pd.read_csv('/content/drive/My Drive/DL4H_Sp24_Final_Project/BX_train.csv')\n",
        "X_train.drop('Unnamed: 0', inplace=True, axis=1)\n",
        "y_train=pd.read_csv('/content/drive/My Drive/DL4H_Sp24_Final_Project/By_train.csv')\n",
        "y_train.drop('Unnamed: 0', inplace=True, axis=1)"
      ]
    },
    {
      "cell_type": "code",
      "execution_count": null,
      "metadata": {
        "colab": {
          "background_save": true
        },
        "id": "bS1M2l0wvw1f",
        "outputId": "37364a19-a274-40ad-d53d-643b4832ad7a"
      },
      "outputs": [
        {
          "data": {
            "application/vnd.google.colaboratory.intrinsic+json": {
              "type": "dataframe",
              "variable_name": "X_train"
            },
            "text/html": [
              "\n",
              "  <div id=\"df-f570c43c-8700-4b65-b166-3f272d593a39\" class=\"colab-df-container\">\n",
              "    <div>\n",
              "<style scoped>\n",
              "    .dataframe tbody tr th:only-of-type {\n",
              "        vertical-align: middle;\n",
              "    }\n",
              "\n",
              "    .dataframe tbody tr th {\n",
              "        vertical-align: top;\n",
              "    }\n",
              "\n",
              "    .dataframe thead th {\n",
              "        text-align: right;\n",
              "    }\n",
              "</style>\n",
              "<table border=\"1\" class=\"dataframe\">\n",
              "  <thead>\n",
              "    <tr style=\"text-align: right;\">\n",
              "      <th></th>\n",
              "      <th>Age</th>\n",
              "      <th>Number of sexual partners</th>\n",
              "      <th>First sexual intercourse</th>\n",
              "      <th>Num of pregnancies</th>\n",
              "      <th>Smokes</th>\n",
              "      <th>Smokes (years)</th>\n",
              "      <th>Smokes (packs/year)</th>\n",
              "      <th>Hormonal Contraceptives</th>\n",
              "      <th>Hormonal Contraceptives (years)</th>\n",
              "      <th>IUD</th>\n",
              "      <th>...</th>\n",
              "      <th>STDs: Time since first diagnosis</th>\n",
              "      <th>STDs: Time since last diagnosis</th>\n",
              "      <th>Dx:CIN</th>\n",
              "      <th>Dx:HPV</th>\n",
              "      <th>Dx</th>\n",
              "      <th>Hinselmann</th>\n",
              "      <th>Schiller</th>\n",
              "      <th>Citology</th>\n",
              "      <th>Biopsy</th>\n",
              "      <th>VAR</th>\n",
              "    </tr>\n",
              "  </thead>\n",
              "  <tbody>\n",
              "    <tr>\n",
              "      <th>0</th>\n",
              "      <td>22</td>\n",
              "      <td>1</td>\n",
              "      <td>19</td>\n",
              "      <td>1</td>\n",
              "      <td>0</td>\n",
              "      <td>0.000000</td>\n",
              "      <td>0.000000</td>\n",
              "      <td>1</td>\n",
              "      <td>0.500000</td>\n",
              "      <td>0</td>\n",
              "      <td>...</td>\n",
              "      <td>4.0</td>\n",
              "      <td>3.0</td>\n",
              "      <td>0</td>\n",
              "      <td>0</td>\n",
              "      <td>0</td>\n",
              "      <td>0</td>\n",
              "      <td>0</td>\n",
              "      <td>0</td>\n",
              "      <td>0</td>\n",
              "      <td>1</td>\n",
              "    </tr>\n",
              "    <tr>\n",
              "      <th>1</th>\n",
              "      <td>30</td>\n",
              "      <td>2</td>\n",
              "      <td>13</td>\n",
              "      <td>3</td>\n",
              "      <td>1</td>\n",
              "      <td>22.000000</td>\n",
              "      <td>3.300000</td>\n",
              "      <td>0</td>\n",
              "      <td>0.000000</td>\n",
              "      <td>0</td>\n",
              "      <td>...</td>\n",
              "      <td>3.0</td>\n",
              "      <td>3.0</td>\n",
              "      <td>0</td>\n",
              "      <td>0</td>\n",
              "      <td>0</td>\n",
              "      <td>1</td>\n",
              "      <td>1</td>\n",
              "      <td>0</td>\n",
              "      <td>1</td>\n",
              "      <td>0</td>\n",
              "    </tr>\n",
              "    <tr>\n",
              "      <th>2</th>\n",
              "      <td>30</td>\n",
              "      <td>2</td>\n",
              "      <td>18</td>\n",
              "      <td>2</td>\n",
              "      <td>0</td>\n",
              "      <td>0.000000</td>\n",
              "      <td>0.000000</td>\n",
              "      <td>0</td>\n",
              "      <td>0.045529</td>\n",
              "      <td>0</td>\n",
              "      <td>...</td>\n",
              "      <td>4.0</td>\n",
              "      <td>3.0</td>\n",
              "      <td>0</td>\n",
              "      <td>0</td>\n",
              "      <td>1</td>\n",
              "      <td>0</td>\n",
              "      <td>0</td>\n",
              "      <td>0</td>\n",
              "      <td>0</td>\n",
              "      <td>0</td>\n",
              "    </tr>\n",
              "    <tr>\n",
              "      <th>3</th>\n",
              "      <td>18</td>\n",
              "      <td>1</td>\n",
              "      <td>15</td>\n",
              "      <td>2</td>\n",
              "      <td>0</td>\n",
              "      <td>0.000000</td>\n",
              "      <td>0.000000</td>\n",
              "      <td>1</td>\n",
              "      <td>0.080000</td>\n",
              "      <td>0</td>\n",
              "      <td>...</td>\n",
              "      <td>4.0</td>\n",
              "      <td>3.0</td>\n",
              "      <td>0</td>\n",
              "      <td>0</td>\n",
              "      <td>0</td>\n",
              "      <td>0</td>\n",
              "      <td>0</td>\n",
              "      <td>0</td>\n",
              "      <td>0</td>\n",
              "      <td>1</td>\n",
              "    </tr>\n",
              "    <tr>\n",
              "      <th>4</th>\n",
              "      <td>51</td>\n",
              "      <td>4</td>\n",
              "      <td>16</td>\n",
              "      <td>4</td>\n",
              "      <td>0</td>\n",
              "      <td>34.031351</td>\n",
              "      <td>34.031351</td>\n",
              "      <td>1</td>\n",
              "      <td>2.839533</td>\n",
              "      <td>0</td>\n",
              "      <td>...</td>\n",
              "      <td>4.0</td>\n",
              "      <td>3.0</td>\n",
              "      <td>0</td>\n",
              "      <td>1</td>\n",
              "      <td>0</td>\n",
              "      <td>0</td>\n",
              "      <td>0</td>\n",
              "      <td>0</td>\n",
              "      <td>0</td>\n",
              "      <td>1</td>\n",
              "    </tr>\n",
              "    <tr>\n",
              "      <th>...</th>\n",
              "      <td>...</td>\n",
              "      <td>...</td>\n",
              "      <td>...</td>\n",
              "      <td>...</td>\n",
              "      <td>...</td>\n",
              "      <td>...</td>\n",
              "      <td>...</td>\n",
              "      <td>...</td>\n",
              "      <td>...</td>\n",
              "      <td>...</td>\n",
              "      <td>...</td>\n",
              "      <td>...</td>\n",
              "      <td>...</td>\n",
              "      <td>...</td>\n",
              "      <td>...</td>\n",
              "      <td>...</td>\n",
              "      <td>...</td>\n",
              "      <td>...</td>\n",
              "      <td>...</td>\n",
              "      <td>...</td>\n",
              "      <td>...</td>\n",
              "    </tr>\n",
              "    <tr>\n",
              "      <th>1336</th>\n",
              "      <td>33</td>\n",
              "      <td>1</td>\n",
              "      <td>17</td>\n",
              "      <td>3</td>\n",
              "      <td>0</td>\n",
              "      <td>0.000000</td>\n",
              "      <td>0.000000</td>\n",
              "      <td>1</td>\n",
              "      <td>0.160000</td>\n",
              "      <td>1</td>\n",
              "      <td>...</td>\n",
              "      <td>4.0</td>\n",
              "      <td>3.0</td>\n",
              "      <td>0</td>\n",
              "      <td>0</td>\n",
              "      <td>0</td>\n",
              "      <td>0</td>\n",
              "      <td>0</td>\n",
              "      <td>0</td>\n",
              "      <td>0</td>\n",
              "      <td>0</td>\n",
              "    </tr>\n",
              "    <tr>\n",
              "      <th>1337</th>\n",
              "      <td>38</td>\n",
              "      <td>1</td>\n",
              "      <td>16</td>\n",
              "      <td>3</td>\n",
              "      <td>0</td>\n",
              "      <td>0.000000</td>\n",
              "      <td>0.000000</td>\n",
              "      <td>1</td>\n",
              "      <td>15.600997</td>\n",
              "      <td>0</td>\n",
              "      <td>...</td>\n",
              "      <td>4.0</td>\n",
              "      <td>3.0</td>\n",
              "      <td>0</td>\n",
              "      <td>1</td>\n",
              "      <td>0</td>\n",
              "      <td>0</td>\n",
              "      <td>1</td>\n",
              "      <td>0</td>\n",
              "      <td>1</td>\n",
              "      <td>1</td>\n",
              "    </tr>\n",
              "    <tr>\n",
              "      <th>1338</th>\n",
              "      <td>17</td>\n",
              "      <td>2</td>\n",
              "      <td>15</td>\n",
              "      <td>2</td>\n",
              "      <td>0</td>\n",
              "      <td>0.000000</td>\n",
              "      <td>0.000000</td>\n",
              "      <td>1</td>\n",
              "      <td>0.160000</td>\n",
              "      <td>0</td>\n",
              "      <td>...</td>\n",
              "      <td>4.0</td>\n",
              "      <td>3.0</td>\n",
              "      <td>0</td>\n",
              "      <td>0</td>\n",
              "      <td>0</td>\n",
              "      <td>0</td>\n",
              "      <td>0</td>\n",
              "      <td>0</td>\n",
              "      <td>0</td>\n",
              "      <td>1</td>\n",
              "    </tr>\n",
              "    <tr>\n",
              "      <th>1339</th>\n",
              "      <td>21</td>\n",
              "      <td>4</td>\n",
              "      <td>14</td>\n",
              "      <td>1</td>\n",
              "      <td>0</td>\n",
              "      <td>0.000000</td>\n",
              "      <td>0.000000</td>\n",
              "      <td>1</td>\n",
              "      <td>0.500000</td>\n",
              "      <td>0</td>\n",
              "      <td>...</td>\n",
              "      <td>4.0</td>\n",
              "      <td>3.0</td>\n",
              "      <td>0</td>\n",
              "      <td>0</td>\n",
              "      <td>0</td>\n",
              "      <td>0</td>\n",
              "      <td>0</td>\n",
              "      <td>0</td>\n",
              "      <td>0</td>\n",
              "      <td>1</td>\n",
              "    </tr>\n",
              "    <tr>\n",
              "      <th>1340</th>\n",
              "      <td>27</td>\n",
              "      <td>4</td>\n",
              "      <td>19</td>\n",
              "      <td>2</td>\n",
              "      <td>0</td>\n",
              "      <td>0.000000</td>\n",
              "      <td>0.000000</td>\n",
              "      <td>1</td>\n",
              "      <td>4.144126</td>\n",
              "      <td>0</td>\n",
              "      <td>...</td>\n",
              "      <td>4.0</td>\n",
              "      <td>3.0</td>\n",
              "      <td>0</td>\n",
              "      <td>1</td>\n",
              "      <td>1</td>\n",
              "      <td>0</td>\n",
              "      <td>0</td>\n",
              "      <td>1</td>\n",
              "      <td>0</td>\n",
              "      <td>0</td>\n",
              "    </tr>\n",
              "  </tbody>\n",
              "</table>\n",
              "<p>1341 rows × 36 columns</p>\n",
              "</div>\n",
              "    <div class=\"colab-df-buttons\">\n",
              "\n",
              "  <div class=\"colab-df-container\">\n",
              "    <button class=\"colab-df-convert\" onclick=\"convertToInteractive('df-f570c43c-8700-4b65-b166-3f272d593a39')\"\n",
              "            title=\"Convert this dataframe to an interactive table.\"\n",
              "            style=\"display:none;\">\n",
              "\n",
              "  <svg xmlns=\"http://www.w3.org/2000/svg\" height=\"24px\" viewBox=\"0 -960 960 960\">\n",
              "    <path d=\"M120-120v-720h720v720H120Zm60-500h600v-160H180v160Zm220 220h160v-160H400v160Zm0 220h160v-160H400v160ZM180-400h160v-160H180v160Zm440 0h160v-160H620v160ZM180-180h160v-160H180v160Zm440 0h160v-160H620v160Z\"/>\n",
              "  </svg>\n",
              "    </button>\n",
              "\n",
              "  <style>\n",
              "    .colab-df-container {\n",
              "      display:flex;\n",
              "      gap: 12px;\n",
              "    }\n",
              "\n",
              "    .colab-df-convert {\n",
              "      background-color: #E8F0FE;\n",
              "      border: none;\n",
              "      border-radius: 50%;\n",
              "      cursor: pointer;\n",
              "      display: none;\n",
              "      fill: #1967D2;\n",
              "      height: 32px;\n",
              "      padding: 0 0 0 0;\n",
              "      width: 32px;\n",
              "    }\n",
              "\n",
              "    .colab-df-convert:hover {\n",
              "      background-color: #E2EBFA;\n",
              "      box-shadow: 0px 1px 2px rgba(60, 64, 67, 0.3), 0px 1px 3px 1px rgba(60, 64, 67, 0.15);\n",
              "      fill: #174EA6;\n",
              "    }\n",
              "\n",
              "    .colab-df-buttons div {\n",
              "      margin-bottom: 4px;\n",
              "    }\n",
              "\n",
              "    [theme=dark] .colab-df-convert {\n",
              "      background-color: #3B4455;\n",
              "      fill: #D2E3FC;\n",
              "    }\n",
              "\n",
              "    [theme=dark] .colab-df-convert:hover {\n",
              "      background-color: #434B5C;\n",
              "      box-shadow: 0px 1px 3px 1px rgba(0, 0, 0, 0.15);\n",
              "      filter: drop-shadow(0px 1px 2px rgba(0, 0, 0, 0.3));\n",
              "      fill: #FFFFFF;\n",
              "    }\n",
              "  </style>\n",
              "\n",
              "    <script>\n",
              "      const buttonEl =\n",
              "        document.querySelector('#df-f570c43c-8700-4b65-b166-3f272d593a39 button.colab-df-convert');\n",
              "      buttonEl.style.display =\n",
              "        google.colab.kernel.accessAllowed ? 'block' : 'none';\n",
              "\n",
              "      async function convertToInteractive(key) {\n",
              "        const element = document.querySelector('#df-f570c43c-8700-4b65-b166-3f272d593a39');\n",
              "        const dataTable =\n",
              "          await google.colab.kernel.invokeFunction('convertToInteractive',\n",
              "                                                    [key], {});\n",
              "        if (!dataTable) return;\n",
              "\n",
              "        const docLinkHtml = 'Like what you see? Visit the ' +\n",
              "          '<a target=\"_blank\" href=https://colab.research.google.com/notebooks/data_table.ipynb>data table notebook</a>'\n",
              "          + ' to learn more about interactive tables.';\n",
              "        element.innerHTML = '';\n",
              "        dataTable['output_type'] = 'display_data';\n",
              "        await google.colab.output.renderOutput(dataTable, element);\n",
              "        const docLink = document.createElement('div');\n",
              "        docLink.innerHTML = docLinkHtml;\n",
              "        element.appendChild(docLink);\n",
              "      }\n",
              "    </script>\n",
              "  </div>\n",
              "\n",
              "\n",
              "<div id=\"df-71c5bd03-cb18-49d6-95ae-71269fdadb7f\">\n",
              "  <button class=\"colab-df-quickchart\" onclick=\"quickchart('df-71c5bd03-cb18-49d6-95ae-71269fdadb7f')\"\n",
              "            title=\"Suggest charts\"\n",
              "            style=\"display:none;\">\n",
              "\n",
              "<svg xmlns=\"http://www.w3.org/2000/svg\" height=\"24px\"viewBox=\"0 0 24 24\"\n",
              "     width=\"24px\">\n",
              "    <g>\n",
              "        <path d=\"M19 3H5c-1.1 0-2 .9-2 2v14c0 1.1.9 2 2 2h14c1.1 0 2-.9 2-2V5c0-1.1-.9-2-2-2zM9 17H7v-7h2v7zm4 0h-2V7h2v10zm4 0h-2v-4h2v4z\"/>\n",
              "    </g>\n",
              "</svg>\n",
              "  </button>\n",
              "\n",
              "<style>\n",
              "  .colab-df-quickchart {\n",
              "      --bg-color: #E8F0FE;\n",
              "      --fill-color: #1967D2;\n",
              "      --hover-bg-color: #E2EBFA;\n",
              "      --hover-fill-color: #174EA6;\n",
              "      --disabled-fill-color: #AAA;\n",
              "      --disabled-bg-color: #DDD;\n",
              "  }\n",
              "\n",
              "  [theme=dark] .colab-df-quickchart {\n",
              "      --bg-color: #3B4455;\n",
              "      --fill-color: #D2E3FC;\n",
              "      --hover-bg-color: #434B5C;\n",
              "      --hover-fill-color: #FFFFFF;\n",
              "      --disabled-bg-color: #3B4455;\n",
              "      --disabled-fill-color: #666;\n",
              "  }\n",
              "\n",
              "  .colab-df-quickchart {\n",
              "    background-color: var(--bg-color);\n",
              "    border: none;\n",
              "    border-radius: 50%;\n",
              "    cursor: pointer;\n",
              "    display: none;\n",
              "    fill: var(--fill-color);\n",
              "    height: 32px;\n",
              "    padding: 0;\n",
              "    width: 32px;\n",
              "  }\n",
              "\n",
              "  .colab-df-quickchart:hover {\n",
              "    background-color: var(--hover-bg-color);\n",
              "    box-shadow: 0 1px 2px rgba(60, 64, 67, 0.3), 0 1px 3px 1px rgba(60, 64, 67, 0.15);\n",
              "    fill: var(--button-hover-fill-color);\n",
              "  }\n",
              "\n",
              "  .colab-df-quickchart-complete:disabled,\n",
              "  .colab-df-quickchart-complete:disabled:hover {\n",
              "    background-color: var(--disabled-bg-color);\n",
              "    fill: var(--disabled-fill-color);\n",
              "    box-shadow: none;\n",
              "  }\n",
              "\n",
              "  .colab-df-spinner {\n",
              "    border: 2px solid var(--fill-color);\n",
              "    border-color: transparent;\n",
              "    border-bottom-color: var(--fill-color);\n",
              "    animation:\n",
              "      spin 1s steps(1) infinite;\n",
              "  }\n",
              "\n",
              "  @keyframes spin {\n",
              "    0% {\n",
              "      border-color: transparent;\n",
              "      border-bottom-color: var(--fill-color);\n",
              "      border-left-color: var(--fill-color);\n",
              "    }\n",
              "    20% {\n",
              "      border-color: transparent;\n",
              "      border-left-color: var(--fill-color);\n",
              "      border-top-color: var(--fill-color);\n",
              "    }\n",
              "    30% {\n",
              "      border-color: transparent;\n",
              "      border-left-color: var(--fill-color);\n",
              "      border-top-color: var(--fill-color);\n",
              "      border-right-color: var(--fill-color);\n",
              "    }\n",
              "    40% {\n",
              "      border-color: transparent;\n",
              "      border-right-color: var(--fill-color);\n",
              "      border-top-color: var(--fill-color);\n",
              "    }\n",
              "    60% {\n",
              "      border-color: transparent;\n",
              "      border-right-color: var(--fill-color);\n",
              "    }\n",
              "    80% {\n",
              "      border-color: transparent;\n",
              "      border-right-color: var(--fill-color);\n",
              "      border-bottom-color: var(--fill-color);\n",
              "    }\n",
              "    90% {\n",
              "      border-color: transparent;\n",
              "      border-bottom-color: var(--fill-color);\n",
              "    }\n",
              "  }\n",
              "</style>\n",
              "\n",
              "  <script>\n",
              "    async function quickchart(key) {\n",
              "      const quickchartButtonEl =\n",
              "        document.querySelector('#' + key + ' button');\n",
              "      quickchartButtonEl.disabled = true;  // To prevent multiple clicks.\n",
              "      quickchartButtonEl.classList.add('colab-df-spinner');\n",
              "      try {\n",
              "        const charts = await google.colab.kernel.invokeFunction(\n",
              "            'suggestCharts', [key], {});\n",
              "      } catch (error) {\n",
              "        console.error('Error during call to suggestCharts:', error);\n",
              "      }\n",
              "      quickchartButtonEl.classList.remove('colab-df-spinner');\n",
              "      quickchartButtonEl.classList.add('colab-df-quickchart-complete');\n",
              "    }\n",
              "    (() => {\n",
              "      let quickchartButtonEl =\n",
              "        document.querySelector('#df-71c5bd03-cb18-49d6-95ae-71269fdadb7f button');\n",
              "      quickchartButtonEl.style.display =\n",
              "        google.colab.kernel.accessAllowed ? 'block' : 'none';\n",
              "    })();\n",
              "  </script>\n",
              "</div>\n",
              "    </div>\n",
              "  </div>\n"
            ],
            "text/plain": [
              "      Age  Number of sexual partners  First sexual intercourse  \\\n",
              "0      22                          1                        19   \n",
              "1      30                          2                        13   \n",
              "2      30                          2                        18   \n",
              "3      18                          1                        15   \n",
              "4      51                          4                        16   \n",
              "...   ...                        ...                       ...   \n",
              "1336   33                          1                        17   \n",
              "1337   38                          1                        16   \n",
              "1338   17                          2                        15   \n",
              "1339   21                          4                        14   \n",
              "1340   27                          4                        19   \n",
              "\n",
              "      Num of pregnancies  Smokes  Smokes (years)  Smokes (packs/year)  \\\n",
              "0                      1       0        0.000000             0.000000   \n",
              "1                      3       1       22.000000             3.300000   \n",
              "2                      2       0        0.000000             0.000000   \n",
              "3                      2       0        0.000000             0.000000   \n",
              "4                      4       0       34.031351            34.031351   \n",
              "...                  ...     ...             ...                  ...   \n",
              "1336                   3       0        0.000000             0.000000   \n",
              "1337                   3       0        0.000000             0.000000   \n",
              "1338                   2       0        0.000000             0.000000   \n",
              "1339                   1       0        0.000000             0.000000   \n",
              "1340                   2       0        0.000000             0.000000   \n",
              "\n",
              "      Hormonal Contraceptives  Hormonal Contraceptives (years)  IUD  ...  \\\n",
              "0                           1                         0.500000    0  ...   \n",
              "1                           0                         0.000000    0  ...   \n",
              "2                           0                         0.045529    0  ...   \n",
              "3                           1                         0.080000    0  ...   \n",
              "4                           1                         2.839533    0  ...   \n",
              "...                       ...                              ...  ...  ...   \n",
              "1336                        1                         0.160000    1  ...   \n",
              "1337                        1                        15.600997    0  ...   \n",
              "1338                        1                         0.160000    0  ...   \n",
              "1339                        1                         0.500000    0  ...   \n",
              "1340                        1                         4.144126    0  ...   \n",
              "\n",
              "      STDs: Time since first diagnosis  STDs: Time since last diagnosis  \\\n",
              "0                                  4.0                              3.0   \n",
              "1                                  3.0                              3.0   \n",
              "2                                  4.0                              3.0   \n",
              "3                                  4.0                              3.0   \n",
              "4                                  4.0                              3.0   \n",
              "...                                ...                              ...   \n",
              "1336                               4.0                              3.0   \n",
              "1337                               4.0                              3.0   \n",
              "1338                               4.0                              3.0   \n",
              "1339                               4.0                              3.0   \n",
              "1340                               4.0                              3.0   \n",
              "\n",
              "      Dx:CIN  Dx:HPV  Dx  Hinselmann  Schiller  Citology  Biopsy  VAR  \n",
              "0          0       0   0           0         0         0       0    1  \n",
              "1          0       0   0           1         1         0       1    0  \n",
              "2          0       0   1           0         0         0       0    0  \n",
              "3          0       0   0           0         0         0       0    1  \n",
              "4          0       1   0           0         0         0       0    1  \n",
              "...      ...     ...  ..         ...       ...       ...     ...  ...  \n",
              "1336       0       0   0           0         0         0       0    0  \n",
              "1337       0       1   0           0         1         0       1    1  \n",
              "1338       0       0   0           0         0         0       0    1  \n",
              "1339       0       0   0           0         0         0       0    1  \n",
              "1340       0       1   1           0         0         1       0    0  \n",
              "\n",
              "[1341 rows x 36 columns]"
            ]
          },
          "execution_count": 206,
          "metadata": {},
          "output_type": "execute_result"
        }
      ],
      "source": [
        "X_train"
      ]
    },
    {
      "cell_type": "code",
      "execution_count": null,
      "metadata": {
        "colab": {
          "background_save": true
        },
        "id": "3WmUKzevoewN"
      },
      "outputs": [],
      "source": [
        "#continous\n",
        "\n",
        "X_test=pd.read_csv('/content/drive/My Drive/DL4H_Sp24_Final_Project/X_test.csv')\n",
        "X_test.drop('Unnamed: 0', inplace=True, axis=1)\n",
        "y_test=pd.read_csv('/content/drive/My Drive/DL4H_Sp24_Final_Project/y_test.csv')\n",
        "y_test.drop('Unnamed: 0', inplace=True, axis=1)\n",
        "X_train=pd.read_csv('/content/drive/My Drive/DL4H_Sp24_Final_Project/X_train.csv')\n",
        "X_train.drop('Unnamed: 0', inplace=True, axis=1)\n",
        "y_train=pd.read_csv('/content/drive/My Drive/DL4H_Sp24_Final_Project/y_train.csv')\n",
        "y_train.drop('Unnamed: 0', inplace=True, axis=1)\n",
        "\n",
        "X_test['VAR']=np.random.normal(loc=0, scale=1, size=X_test.shape[0])\n",
        "X_train['VAR']=np.random.normal(loc=0, scale=1, size=X_train.shape[0])\n",
        "\n",
        "\n",
        "X_test.to_csv('/content/drive/My Drive/DL4H_Sp24_Final_Project/CX_test.csv')\n",
        "y_test.to_csv('/content/drive/My Drive/DL4H_Sp24_Final_Project/Cy_test.csv')\n",
        "X_train.to_csv('/content/drive/My Drive/DL4H_Sp24_Final_Project/CX_train.csv')\n",
        "y_train.to_csv('/content/drive/My Drive/DL4H_Sp24_Final_Project/Cy_train.csv')\n",
        "\n",
        "\n",
        "X_test=pd.read_csv('/content/drive/My Drive/DL4H_Sp24_Final_Project/CX_test.csv')\n",
        "X_test.drop('Unnamed: 0', inplace=True, axis=1)\n",
        "y_test=pd.read_csv('/content/drive/My Drive/DL4H_Sp24_Final_Project/Cy_test.csv')\n",
        "y_test.drop('Unnamed: 0', inplace=True, axis=1)\n",
        "X_train=pd.read_csv('/content/drive/My Drive/DL4H_Sp24_Final_Project/CX_train.csv')\n",
        "X_train.drop('Unnamed: 0', inplace=True, axis=1)\n",
        "y_train=pd.read_csv('/content/drive/My Drive/DL4H_Sp24_Final_Project/Cy_train.csv')\n",
        "y_train.drop('Unnamed: 0', inplace=True, axis=1)"
      ]
    },
    {
      "cell_type": "markdown",
      "metadata": {
        "id": "EJf50oXnomRL"
      },
      "source": [
        "# Model"
      ]
    },
    {
      "cell_type": "code",
      "execution_count": null,
      "metadata": {
        "colab": {
          "base_uri": "https://localhost:8080/",
          "height": 76
        },
        "id": "5rym1UAVqet4",
        "outputId": "5cc07ffd-33b1-41ca-9373-20492d547ff5"
      },
      "outputs": [
        {
          "output_type": "execute_result",
          "data": {
            "text/plain": [
              "RandomForestClassifier()"
            ],
            "text/html": [
              "<style>#sk-container-id-3 {color: black;background-color: white;}#sk-container-id-3 pre{padding: 0;}#sk-container-id-3 div.sk-toggleable {background-color: white;}#sk-container-id-3 label.sk-toggleable__label {cursor: pointer;display: block;width: 100%;margin-bottom: 0;padding: 0.3em;box-sizing: border-box;text-align: center;}#sk-container-id-3 label.sk-toggleable__label-arrow:before {content: \"▸\";float: left;margin-right: 0.25em;color: #696969;}#sk-container-id-3 label.sk-toggleable__label-arrow:hover:before {color: black;}#sk-container-id-3 div.sk-estimator:hover label.sk-toggleable__label-arrow:before {color: black;}#sk-container-id-3 div.sk-toggleable__content {max-height: 0;max-width: 0;overflow: hidden;text-align: left;background-color: #f0f8ff;}#sk-container-id-3 div.sk-toggleable__content pre {margin: 0.2em;color: black;border-radius: 0.25em;background-color: #f0f8ff;}#sk-container-id-3 input.sk-toggleable__control:checked~div.sk-toggleable__content {max-height: 200px;max-width: 100%;overflow: auto;}#sk-container-id-3 input.sk-toggleable__control:checked~label.sk-toggleable__label-arrow:before {content: \"▾\";}#sk-container-id-3 div.sk-estimator input.sk-toggleable__control:checked~label.sk-toggleable__label {background-color: #d4ebff;}#sk-container-id-3 div.sk-label input.sk-toggleable__control:checked~label.sk-toggleable__label {background-color: #d4ebff;}#sk-container-id-3 input.sk-hidden--visually {border: 0;clip: rect(1px 1px 1px 1px);clip: rect(1px, 1px, 1px, 1px);height: 1px;margin: -1px;overflow: hidden;padding: 0;position: absolute;width: 1px;}#sk-container-id-3 div.sk-estimator {font-family: monospace;background-color: #f0f8ff;border: 1px dotted black;border-radius: 0.25em;box-sizing: border-box;margin-bottom: 0.5em;}#sk-container-id-3 div.sk-estimator:hover {background-color: #d4ebff;}#sk-container-id-3 div.sk-parallel-item::after {content: \"\";width: 100%;border-bottom: 1px solid gray;flex-grow: 1;}#sk-container-id-3 div.sk-label:hover label.sk-toggleable__label {background-color: #d4ebff;}#sk-container-id-3 div.sk-serial::before {content: \"\";position: absolute;border-left: 1px solid gray;box-sizing: border-box;top: 0;bottom: 0;left: 50%;z-index: 0;}#sk-container-id-3 div.sk-serial {display: flex;flex-direction: column;align-items: center;background-color: white;padding-right: 0.2em;padding-left: 0.2em;position: relative;}#sk-container-id-3 div.sk-item {position: relative;z-index: 1;}#sk-container-id-3 div.sk-parallel {display: flex;align-items: stretch;justify-content: center;background-color: white;position: relative;}#sk-container-id-3 div.sk-item::before, #sk-container-id-3 div.sk-parallel-item::before {content: \"\";position: absolute;border-left: 1px solid gray;box-sizing: border-box;top: 0;bottom: 0;left: 50%;z-index: -1;}#sk-container-id-3 div.sk-parallel-item {display: flex;flex-direction: column;z-index: 1;position: relative;background-color: white;}#sk-container-id-3 div.sk-parallel-item:first-child::after {align-self: flex-end;width: 50%;}#sk-container-id-3 div.sk-parallel-item:last-child::after {align-self: flex-start;width: 50%;}#sk-container-id-3 div.sk-parallel-item:only-child::after {width: 0;}#sk-container-id-3 div.sk-dashed-wrapped {border: 1px dashed gray;margin: 0 0.4em 0.5em 0.4em;box-sizing: border-box;padding-bottom: 0.4em;background-color: white;}#sk-container-id-3 div.sk-label label {font-family: monospace;font-weight: bold;display: inline-block;line-height: 1.2em;}#sk-container-id-3 div.sk-label-container {text-align: center;}#sk-container-id-3 div.sk-container {/* jupyter's `normalize.less` sets `[hidden] { display: none; }` but bootstrap.min.css set `[hidden] { display: none !important; }` so we also need the `!important` here to be able to override the default hidden behavior on the sphinx rendered scikit-learn.org. See: https://github.com/scikit-learn/scikit-learn/issues/21755 */display: inline-block !important;position: relative;}#sk-container-id-3 div.sk-text-repr-fallback {display: none;}</style><div id=\"sk-container-id-3\" class=\"sk-top-container\"><div class=\"sk-text-repr-fallback\"><pre>RandomForestClassifier()</pre><b>In a Jupyter environment, please rerun this cell to show the HTML representation or trust the notebook. <br />On GitHub, the HTML representation is unable to render, please try loading this page with nbviewer.org.</b></div><div class=\"sk-container\" hidden><div class=\"sk-item\"><div class=\"sk-estimator sk-toggleable\"><input class=\"sk-toggleable__control sk-hidden--visually\" id=\"sk-estimator-id-3\" type=\"checkbox\" checked><label for=\"sk-estimator-id-3\" class=\"sk-toggleable__label sk-toggleable__label-arrow\">RandomForestClassifier</label><div class=\"sk-toggleable__content\"><pre>RandomForestClassifier()</pre></div></div></div></div></div>"
            ]
          },
          "metadata": {},
          "execution_count": 215
        }
      ],
      "source": [
        "\n",
        "rnd_clf = RandomForestClassifier()\n",
        "rnd_clf.fit(X_train, y_train)\n",
        "# nn_clf.score(X_train, y_train)\n",
        "\n",
        "\n"
      ]
    },
    {
      "cell_type": "code",
      "source": [
        "nn_clf = MLPClassifier()\n",
        "nn_clf.fit(X_train, y_train)\n",
        "nn_clf.score(X_train, y_train)"
      ],
      "metadata": {
        "colab": {
          "base_uri": "https://localhost:8080/"
        },
        "id": "X5R99-UXErdq",
        "outputId": "e0591b71-091f-4998-ad58-ca50f83b5c41"
      },
      "execution_count": null,
      "outputs": [
        {
          "output_type": "execute_result",
          "data": {
            "text/plain": [
              "0.9992542878448919"
            ]
          },
          "metadata": {},
          "execution_count": 216
        }
      ]
    },
    {
      "cell_type": "code",
      "source": [
        "nn_clf.score(X_test, y_test)"
      ],
      "metadata": {
        "colab": {
          "base_uri": "https://localhost:8080/"
        },
        "id": "P8bBvzszEwaz",
        "outputId": "e18e2a79-a3c0-4063-ca9e-8c4b32f572a1"
      },
      "execution_count": null,
      "outputs": [
        {
          "output_type": "execute_result",
          "data": {
            "text/plain": [
              "0.9970238095238095"
            ]
          },
          "metadata": {},
          "execution_count": 217
        }
      ]
    },
    {
      "cell_type": "code",
      "source": [
        "model=nn_clf"
      ],
      "metadata": {
        "id": "So1URlr4E0DE"
      },
      "execution_count": null,
      "outputs": []
    },
    {
      "cell_type": "markdown",
      "source": [
        "# Local Methods"
      ],
      "metadata": {
        "id": "yh4ikB4jE4MI"
      }
    },
    {
      "cell_type": "code",
      "source": [
        "!pip install shap\n",
        "!pip install lime\n",
        "!pip install interpret-community\n",
        "!pip install alibi\n",
        "!pip install treeinterpreter\n",
        "!pip install SALib\n",
        "!pip install dice-ml\n",
        "!pip install pip install spectralcluster\n",
        "!pip install -U kaleido"
      ],
      "metadata": {
        "colab": {
          "base_uri": "https://localhost:8080/",
          "height": 1000
        },
        "id": "wTC7-Mu-E3W6",
        "outputId": "dfa64eb6-d1b0-4b1b-dd5e-a825716512f2"
      },
      "execution_count": null,
      "outputs": [
        {
          "output_type": "stream",
          "name": "stdout",
          "text": [
            "Collecting shap\n",
            "  Downloading shap-0.45.0-cp310-cp310-manylinux_2_12_x86_64.manylinux2010_x86_64.manylinux_2_17_x86_64.manylinux2014_x86_64.whl (538 kB)\n",
            "\u001b[?25l     \u001b[90m━━━━━━━━━━━━━━━━━━━━━━━━━━━━━━━━━━━━━━━━\u001b[0m \u001b[32m0.0/538.2 kB\u001b[0m \u001b[31m?\u001b[0m eta \u001b[36m-:--:--\u001b[0m\r\u001b[2K     \u001b[91m━━━\u001b[0m\u001b[90m╺\u001b[0m\u001b[90m━━━━━━━━━━━━━━━━━━━━━━━━━━━━━━━━━━━━\u001b[0m \u001b[32m41.0/538.2 kB\u001b[0m \u001b[31m1.1 MB/s\u001b[0m eta \u001b[36m0:00:01\u001b[0m\r\u001b[2K     \u001b[91m━━━━━━━━━━━━━━━━━━━━━━━━━━━━━━━━━\u001b[0m\u001b[90m╺\u001b[0m\u001b[90m━━━━━━\u001b[0m \u001b[32m450.6/538.2 kB\u001b[0m \u001b[31m6.2 MB/s\u001b[0m eta \u001b[36m0:00:01\u001b[0m\r\u001b[2K     \u001b[90m━━━━━━━━━━━━━━━━━━━━━━━━━━━━━━━━━━━━━━━━\u001b[0m \u001b[32m538.2/538.2 kB\u001b[0m \u001b[31m6.1 MB/s\u001b[0m eta \u001b[36m0:00:00\u001b[0m\n",
            "\u001b[?25hRequirement already satisfied: numpy in /usr/local/lib/python3.10/dist-packages (from shap) (1.25.2)\n",
            "Requirement already satisfied: scipy in /usr/local/lib/python3.10/dist-packages (from shap) (1.11.4)\n",
            "Requirement already satisfied: scikit-learn in /usr/local/lib/python3.10/dist-packages (from shap) (1.2.2)\n",
            "Requirement already satisfied: pandas in /usr/local/lib/python3.10/dist-packages (from shap) (2.0.3)\n",
            "Requirement already satisfied: tqdm>=4.27.0 in /usr/local/lib/python3.10/dist-packages (from shap) (4.66.2)\n",
            "Requirement already satisfied: packaging>20.9 in /usr/local/lib/python3.10/dist-packages (from shap) (24.0)\n",
            "Collecting slicer==0.0.7 (from shap)\n",
            "  Downloading slicer-0.0.7-py3-none-any.whl (14 kB)\n",
            "Requirement already satisfied: numba in /usr/local/lib/python3.10/dist-packages (from shap) (0.58.1)\n",
            "Requirement already satisfied: cloudpickle in /usr/local/lib/python3.10/dist-packages (from shap) (2.2.1)\n",
            "Requirement already satisfied: llvmlite<0.42,>=0.41.0dev0 in /usr/local/lib/python3.10/dist-packages (from numba->shap) (0.41.1)\n",
            "Requirement already satisfied: python-dateutil>=2.8.2 in /usr/local/lib/python3.10/dist-packages (from pandas->shap) (2.8.2)\n",
            "Requirement already satisfied: pytz>=2020.1 in /usr/local/lib/python3.10/dist-packages (from pandas->shap) (2023.4)\n",
            "Requirement already satisfied: tzdata>=2022.1 in /usr/local/lib/python3.10/dist-packages (from pandas->shap) (2024.1)\n",
            "Requirement already satisfied: joblib>=1.1.1 in /usr/local/lib/python3.10/dist-packages (from scikit-learn->shap) (1.4.0)\n",
            "Requirement already satisfied: threadpoolctl>=2.0.0 in /usr/local/lib/python3.10/dist-packages (from scikit-learn->shap) (3.4.0)\n",
            "Requirement already satisfied: six>=1.5 in /usr/local/lib/python3.10/dist-packages (from python-dateutil>=2.8.2->pandas->shap) (1.16.0)\n",
            "Installing collected packages: slicer, shap\n",
            "Successfully installed shap-0.45.0 slicer-0.0.7\n",
            "Collecting lime\n",
            "  Downloading lime-0.2.0.1.tar.gz (275 kB)\n",
            "\u001b[2K     \u001b[90m━━━━━━━━━━━━━━━━━━━━━━━━━━━━━━━━━━━━━━━━\u001b[0m \u001b[32m275.7/275.7 kB\u001b[0m \u001b[31m5.1 MB/s\u001b[0m eta \u001b[36m0:00:00\u001b[0m\n",
            "\u001b[?25h  Preparing metadata (setup.py) ... \u001b[?25l\u001b[?25hdone\n",
            "Requirement already satisfied: matplotlib in /usr/local/lib/python3.10/dist-packages (from lime) (3.7.1)\n",
            "Requirement already satisfied: numpy in /usr/local/lib/python3.10/dist-packages (from lime) (1.25.2)\n",
            "Requirement already satisfied: scipy in /usr/local/lib/python3.10/dist-packages (from lime) (1.11.4)\n",
            "Requirement already satisfied: tqdm in /usr/local/lib/python3.10/dist-packages (from lime) (4.66.2)\n",
            "Requirement already satisfied: scikit-learn>=0.18 in /usr/local/lib/python3.10/dist-packages (from lime) (1.2.2)\n",
            "Requirement already satisfied: scikit-image>=0.12 in /usr/local/lib/python3.10/dist-packages (from lime) (0.19.3)\n",
            "Requirement already satisfied: networkx>=2.2 in /usr/local/lib/python3.10/dist-packages (from scikit-image>=0.12->lime) (3.3)\n",
            "Requirement already satisfied: pillow!=7.1.0,!=7.1.1,!=8.3.0,>=6.1.0 in /usr/local/lib/python3.10/dist-packages (from scikit-image>=0.12->lime) (9.4.0)\n",
            "Requirement already satisfied: imageio>=2.4.1 in /usr/local/lib/python3.10/dist-packages (from scikit-image>=0.12->lime) (2.31.6)\n",
            "Requirement already satisfied: tifffile>=2019.7.26 in /usr/local/lib/python3.10/dist-packages (from scikit-image>=0.12->lime) (2024.2.12)\n",
            "Requirement already satisfied: PyWavelets>=1.1.1 in /usr/local/lib/python3.10/dist-packages (from scikit-image>=0.12->lime) (1.6.0)\n",
            "Requirement already satisfied: packaging>=20.0 in /usr/local/lib/python3.10/dist-packages (from scikit-image>=0.12->lime) (24.0)\n",
            "Requirement already satisfied: joblib>=1.1.1 in /usr/local/lib/python3.10/dist-packages (from scikit-learn>=0.18->lime) (1.4.0)\n",
            "Requirement already satisfied: threadpoolctl>=2.0.0 in /usr/local/lib/python3.10/dist-packages (from scikit-learn>=0.18->lime) (3.4.0)\n",
            "Requirement already satisfied: contourpy>=1.0.1 in /usr/local/lib/python3.10/dist-packages (from matplotlib->lime) (1.2.1)\n",
            "Requirement already satisfied: cycler>=0.10 in /usr/local/lib/python3.10/dist-packages (from matplotlib->lime) (0.12.1)\n",
            "Requirement already satisfied: fonttools>=4.22.0 in /usr/local/lib/python3.10/dist-packages (from matplotlib->lime) (4.51.0)\n",
            "Requirement already satisfied: kiwisolver>=1.0.1 in /usr/local/lib/python3.10/dist-packages (from matplotlib->lime) (1.4.5)\n",
            "Requirement already satisfied: pyparsing>=2.3.1 in /usr/local/lib/python3.10/dist-packages (from matplotlib->lime) (3.1.2)\n",
            "Requirement already satisfied: python-dateutil>=2.7 in /usr/local/lib/python3.10/dist-packages (from matplotlib->lime) (2.8.2)\n",
            "Requirement already satisfied: six>=1.5 in /usr/local/lib/python3.10/dist-packages (from python-dateutil>=2.7->matplotlib->lime) (1.16.0)\n",
            "Building wheels for collected packages: lime\n",
            "  Building wheel for lime (setup.py) ... \u001b[?25l\u001b[?25hdone\n",
            "  Created wheel for lime: filename=lime-0.2.0.1-py3-none-any.whl size=283835 sha256=fb8caa736ef83c897ae77f1b755f1350e13a9bb7f73ab8a500453b0adfe95013\n",
            "  Stored in directory: /root/.cache/pip/wheels/fd/a2/af/9ac0a1a85a27f314a06b39e1f492bee1547d52549a4606ed89\n",
            "Successfully built lime\n",
            "Installing collected packages: lime\n",
            "Successfully installed lime-0.2.0.1\n",
            "Collecting interpret-community\n",
            "  Downloading interpret_community-0.31.0-py3-none-any.whl (130 kB)\n",
            "\u001b[2K     \u001b[90m━━━━━━━━━━━━━━━━━━━━━━━━━━━━━━━━━━━━━━━━\u001b[0m \u001b[32m130.7/130.7 kB\u001b[0m \u001b[31m2.4 MB/s\u001b[0m eta \u001b[36m0:00:00\u001b[0m\n",
            "\u001b[?25hRequirement already satisfied: numpy in /usr/local/lib/python3.10/dist-packages (from interpret-community) (1.25.2)\n",
            "Collecting pandas<2.0.0 (from interpret-community)\n",
            "  Downloading pandas-1.5.3-cp310-cp310-manylinux_2_17_x86_64.manylinux2014_x86_64.whl (12.1 MB)\n",
            "\u001b[2K     \u001b[90m━━━━━━━━━━━━━━━━━━━━━━━━━━━━━━━━━━━━━━━━\u001b[0m \u001b[32m12.1/12.1 MB\u001b[0m \u001b[31m54.1 MB/s\u001b[0m eta \u001b[36m0:00:00\u001b[0m\n",
            "\u001b[?25hRequirement already satisfied: scipy in /usr/local/lib/python3.10/dist-packages (from interpret-community) (1.11.4)\n",
            "Collecting ml-wrappers~=0.5.4 (from interpret-community)\n",
            "  Downloading ml_wrappers-0.5.5-py3-none-any.whl (51 kB)\n",
            "\u001b[2K     \u001b[90m━━━━━━━━━━━━━━━━━━━━━━━━━━━━━━━━━━━━━━━━\u001b[0m \u001b[32m51.9/51.9 kB\u001b[0m \u001b[31m5.5 MB/s\u001b[0m eta \u001b[36m0:00:00\u001b[0m\n",
            "\u001b[?25hRequirement already satisfied: scikit-learn in /usr/local/lib/python3.10/dist-packages (from interpret-community) (1.2.2)\n",
            "Requirement already satisfied: packaging in /usr/local/lib/python3.10/dist-packages (from interpret-community) (24.0)\n",
            "Collecting shap<=0.44.0,>=0.20.0 (from interpret-community)\n",
            "  Downloading shap-0.44.0-cp310-cp310-manylinux_2_12_x86_64.manylinux2010_x86_64.manylinux_2_17_x86_64.manylinux2014_x86_64.whl (533 kB)\n",
            "\u001b[2K     \u001b[90m━━━━━━━━━━━━━━━━━━━━━━━━━━━━━━━━━━━━━━━━\u001b[0m \u001b[32m533.5/533.5 kB\u001b[0m \u001b[31m45.1 MB/s\u001b[0m eta \u001b[36m0:00:00\u001b[0m\n",
            "\u001b[?25hCollecting raiutils~=0.4.0 (from interpret-community)\n",
            "  Downloading raiutils-0.4.1-py3-none-any.whl (17 kB)\n",
            "Collecting interpret-core<=0.5.0,>=0.1.20 (from interpret-community)\n",
            "  Downloading interpret_core-0.5.0-py3-none-any.whl (15.8 MB)\n",
            "\u001b[2K     \u001b[90m━━━━━━━━━━━━━━━━━━━━━━━━━━━━━━━━━━━━━━━━\u001b[0m \u001b[32m15.8/15.8 MB\u001b[0m \u001b[31m42.6 MB/s\u001b[0m eta \u001b[36m0:00:00\u001b[0m\n",
            "\u001b[?25hRequirement already satisfied: joblib>=0.11 in /usr/local/lib/python3.10/dist-packages (from interpret-core<=0.5.0,>=0.1.20->interpret-community) (1.4.0)\n",
            "Requirement already satisfied: python-dateutil>=2.8.1 in /usr/local/lib/python3.10/dist-packages (from pandas<2.0.0->interpret-community) (2.8.2)\n",
            "Requirement already satisfied: pytz>=2020.1 in /usr/local/lib/python3.10/dist-packages (from pandas<2.0.0->interpret-community) (2023.4)\n",
            "Requirement already satisfied: requests in /usr/local/lib/python3.10/dist-packages (from raiutils~=0.4.0->interpret-community) (2.31.0)\n",
            "Requirement already satisfied: threadpoolctl>=2.0.0 in /usr/local/lib/python3.10/dist-packages (from scikit-learn->interpret-community) (3.4.0)\n",
            "Requirement already satisfied: tqdm>=4.27.0 in /usr/local/lib/python3.10/dist-packages (from shap<=0.44.0,>=0.20.0->interpret-community) (4.66.2)\n",
            "Requirement already satisfied: slicer==0.0.7 in /usr/local/lib/python3.10/dist-packages (from shap<=0.44.0,>=0.20.0->interpret-community) (0.0.7)\n",
            "Requirement already satisfied: numba in /usr/local/lib/python3.10/dist-packages (from shap<=0.44.0,>=0.20.0->interpret-community) (0.58.1)\n",
            "Requirement already satisfied: cloudpickle in /usr/local/lib/python3.10/dist-packages (from shap<=0.44.0,>=0.20.0->interpret-community) (2.2.1)\n",
            "Requirement already satisfied: six>=1.5 in /usr/local/lib/python3.10/dist-packages (from python-dateutil>=2.8.1->pandas<2.0.0->interpret-community) (1.16.0)\n",
            "Requirement already satisfied: llvmlite<0.42,>=0.41.0dev0 in /usr/local/lib/python3.10/dist-packages (from numba->shap<=0.44.0,>=0.20.0->interpret-community) (0.41.1)\n",
            "Requirement already satisfied: charset-normalizer<4,>=2 in /usr/local/lib/python3.10/dist-packages (from requests->raiutils~=0.4.0->interpret-community) (3.3.2)\n",
            "Requirement already satisfied: idna<4,>=2.5 in /usr/local/lib/python3.10/dist-packages (from requests->raiutils~=0.4.0->interpret-community) (3.6)\n",
            "Requirement already satisfied: urllib3<3,>=1.21.1 in /usr/local/lib/python3.10/dist-packages (from requests->raiutils~=0.4.0->interpret-community) (2.0.7)\n",
            "Requirement already satisfied: certifi>=2017.4.17 in /usr/local/lib/python3.10/dist-packages (from requests->raiutils~=0.4.0->interpret-community) (2024.2.2)\n",
            "Installing collected packages: pandas, shap, raiutils, ml-wrappers, interpret-core, interpret-community\n",
            "  Attempting uninstall: pandas\n",
            "    Found existing installation: pandas 2.0.3\n",
            "    Uninstalling pandas-2.0.3:\n",
            "      Successfully uninstalled pandas-2.0.3\n",
            "  Attempting uninstall: shap\n",
            "    Found existing installation: shap 0.45.0\n",
            "    Uninstalling shap-0.45.0:\n",
            "      Successfully uninstalled shap-0.45.0\n",
            "\u001b[31mERROR: pip's dependency resolver does not currently take into account all the packages that are installed. This behaviour is the source of the following dependency conflicts.\n",
            "google-colab 1.0.0 requires pandas==2.0.3, but you have pandas 1.5.3 which is incompatible.\u001b[0m\u001b[31m\n",
            "\u001b[0mSuccessfully installed interpret-community-0.31.0 interpret-core-0.5.0 ml-wrappers-0.5.5 pandas-1.5.3 raiutils-0.4.1 shap-0.44.0\n"
          ]
        },
        {
          "output_type": "display_data",
          "data": {
            "application/vnd.colab-display-data+json": {
              "pip_warning": {
                "packages": [
                  "pandas"
                ]
              },
              "id": "2fd8a648c8dd45c4ae1c46470f272796"
            }
          },
          "metadata": {}
        },
        {
          "output_type": "stream",
          "name": "stdout",
          "text": [
            "Collecting alibi\n",
            "  Downloading alibi-0.9.5-py3-none-any.whl (522 kB)\n",
            "\u001b[?25l     \u001b[90m━━━━━━━━━━━━━━━━━━━━━━━━━━━━━━━━━━━━━━━━\u001b[0m \u001b[32m0.0/522.1 kB\u001b[0m \u001b[31m?\u001b[0m eta \u001b[36m-:--:--\u001b[0m\r\u001b[2K     \u001b[91m━━━━━━━\u001b[0m\u001b[90m╺\u001b[0m\u001b[90m━━━━━━━━━━━━━━━━━━━━━━━━━━━━━━━━\u001b[0m \u001b[32m92.2/522.1 kB\u001b[0m \u001b[31m2.5 MB/s\u001b[0m eta \u001b[36m0:00:01\u001b[0m\r\u001b[2K     \u001b[90m━━━━━━━━━━━━━━━━━━━━━━━━━━━━━━━━━━━━━━━━\u001b[0m \u001b[32m522.1/522.1 kB\u001b[0m \u001b[31m8.8 MB/s\u001b[0m eta \u001b[36m0:00:00\u001b[0m\n",
            "\u001b[?25hRequirement already satisfied: numpy<2.0.0,>=1.16.2 in /usr/local/lib/python3.10/dist-packages (from alibi) (1.25.2)\n",
            "Requirement already satisfied: pandas<3.0.0,>=1.0.0 in /usr/local/lib/python3.10/dist-packages (from alibi) (1.5.3)\n",
            "Requirement already satisfied: scikit-learn<2.0.0,>=1.0.0 in /usr/local/lib/python3.10/dist-packages (from alibi) (1.2.2)\n",
            "Requirement already satisfied: spacy[lookups]<4.0.0,>=2.0.0 in /usr/local/lib/python3.10/dist-packages (from alibi) (3.7.4)\n",
            "Requirement already satisfied: blis<0.8.0 in /usr/local/lib/python3.10/dist-packages (from alibi) (0.7.11)\n",
            "Requirement already satisfied: scikit-image<0.23,>=0.17.2 in /usr/local/lib/python3.10/dist-packages (from alibi) (0.19.3)\n",
            "Requirement already satisfied: requests<3.0.0,>=2.21.0 in /usr/local/lib/python3.10/dist-packages (from alibi) (2.31.0)\n",
            "Requirement already satisfied: Pillow<11.0,>=5.4.1 in /usr/local/lib/python3.10/dist-packages (from alibi) (9.4.0)\n",
            "Requirement already satisfied: attrs<24.0.0,>=19.2.0 in /usr/local/lib/python3.10/dist-packages (from alibi) (23.2.0)\n",
            "Requirement already satisfied: scipy<2.0.0,>=1.1.0 in /usr/local/lib/python3.10/dist-packages (from alibi) (1.11.4)\n",
            "Requirement already satisfied: matplotlib<4.0.0,>=3.0.0 in /usr/local/lib/python3.10/dist-packages (from alibi) (3.7.1)\n",
            "Requirement already satisfied: typing-extensions>=3.7.4.3 in /usr/local/lib/python3.10/dist-packages (from alibi) (4.11.0)\n",
            "Collecting dill<0.4.0,>=0.3.0 (from alibi)\n",
            "  Downloading dill-0.3.8-py3-none-any.whl (116 kB)\n",
            "\u001b[2K     \u001b[90m━━━━━━━━━━━━━━━━━━━━━━━━━━━━━━━━━━━━━━━━\u001b[0m \u001b[32m116.3/116.3 kB\u001b[0m \u001b[31m16.8 MB/s\u001b[0m eta \u001b[36m0:00:00\u001b[0m\n",
            "\u001b[?25hRequirement already satisfied: transformers<5.0.0,>=4.7.0 in /usr/local/lib/python3.10/dist-packages (from alibi) (4.38.2)\n",
            "Requirement already satisfied: tqdm<5.0.0,>=4.28.1 in /usr/local/lib/python3.10/dist-packages (from alibi) (4.66.2)\n",
            "Collecting pydantic<2.0.0 (from alibi)\n",
            "  Downloading pydantic-1.10.15-cp310-cp310-manylinux_2_17_x86_64.manylinux2014_x86_64.whl (3.1 MB)\n",
            "\u001b[2K     \u001b[90m━━━━━━━━━━━━━━━━━━━━━━━━━━━━━━━━━━━━━━━━\u001b[0m \u001b[32m3.1/3.1 MB\u001b[0m \u001b[31m84.4 MB/s\u001b[0m eta \u001b[36m0:00:00\u001b[0m\n",
            "\u001b[?25hRequirement already satisfied: contourpy>=1.0.1 in /usr/local/lib/python3.10/dist-packages (from matplotlib<4.0.0,>=3.0.0->alibi) (1.2.1)\n",
            "Requirement already satisfied: cycler>=0.10 in /usr/local/lib/python3.10/dist-packages (from matplotlib<4.0.0,>=3.0.0->alibi) (0.12.1)\n",
            "Requirement already satisfied: fonttools>=4.22.0 in /usr/local/lib/python3.10/dist-packages (from matplotlib<4.0.0,>=3.0.0->alibi) (4.51.0)\n",
            "Requirement already satisfied: kiwisolver>=1.0.1 in /usr/local/lib/python3.10/dist-packages (from matplotlib<4.0.0,>=3.0.0->alibi) (1.4.5)\n",
            "Requirement already satisfied: packaging>=20.0 in /usr/local/lib/python3.10/dist-packages (from matplotlib<4.0.0,>=3.0.0->alibi) (24.0)\n",
            "Requirement already satisfied: pyparsing>=2.3.1 in /usr/local/lib/python3.10/dist-packages (from matplotlib<4.0.0,>=3.0.0->alibi) (3.1.2)\n",
            "Requirement already satisfied: python-dateutil>=2.7 in /usr/local/lib/python3.10/dist-packages (from matplotlib<4.0.0,>=3.0.0->alibi) (2.8.2)\n",
            "Requirement already satisfied: pytz>=2020.1 in /usr/local/lib/python3.10/dist-packages (from pandas<3.0.0,>=1.0.0->alibi) (2023.4)\n",
            "Requirement already satisfied: charset-normalizer<4,>=2 in /usr/local/lib/python3.10/dist-packages (from requests<3.0.0,>=2.21.0->alibi) (3.3.2)\n",
            "Requirement already satisfied: idna<4,>=2.5 in /usr/local/lib/python3.10/dist-packages (from requests<3.0.0,>=2.21.0->alibi) (3.6)\n",
            "Requirement already satisfied: urllib3<3,>=1.21.1 in /usr/local/lib/python3.10/dist-packages (from requests<3.0.0,>=2.21.0->alibi) (2.0.7)\n",
            "Requirement already satisfied: certifi>=2017.4.17 in /usr/local/lib/python3.10/dist-packages (from requests<3.0.0,>=2.21.0->alibi) (2024.2.2)\n",
            "Requirement already satisfied: networkx>=2.2 in /usr/local/lib/python3.10/dist-packages (from scikit-image<0.23,>=0.17.2->alibi) (3.3)\n",
            "Requirement already satisfied: imageio>=2.4.1 in /usr/local/lib/python3.10/dist-packages (from scikit-image<0.23,>=0.17.2->alibi) (2.31.6)\n",
            "Requirement already satisfied: tifffile>=2019.7.26 in /usr/local/lib/python3.10/dist-packages (from scikit-image<0.23,>=0.17.2->alibi) (2024.2.12)\n",
            "Requirement already satisfied: PyWavelets>=1.1.1 in /usr/local/lib/python3.10/dist-packages (from scikit-image<0.23,>=0.17.2->alibi) (1.6.0)\n",
            "Requirement already satisfied: joblib>=1.1.1 in /usr/local/lib/python3.10/dist-packages (from scikit-learn<2.0.0,>=1.0.0->alibi) (1.4.0)\n",
            "Requirement already satisfied: threadpoolctl>=2.0.0 in /usr/local/lib/python3.10/dist-packages (from scikit-learn<2.0.0,>=1.0.0->alibi) (3.4.0)\n",
            "Requirement already satisfied: spacy-legacy<3.1.0,>=3.0.11 in /usr/local/lib/python3.10/dist-packages (from spacy[lookups]<4.0.0,>=2.0.0->alibi) (3.0.12)\n",
            "Requirement already satisfied: spacy-loggers<2.0.0,>=1.0.0 in /usr/local/lib/python3.10/dist-packages (from spacy[lookups]<4.0.0,>=2.0.0->alibi) (1.0.5)\n",
            "Requirement already satisfied: murmurhash<1.1.0,>=0.28.0 in /usr/local/lib/python3.10/dist-packages (from spacy[lookups]<4.0.0,>=2.0.0->alibi) (1.0.10)\n",
            "Requirement already satisfied: cymem<2.1.0,>=2.0.2 in /usr/local/lib/python3.10/dist-packages (from spacy[lookups]<4.0.0,>=2.0.0->alibi) (2.0.8)\n",
            "Requirement already satisfied: preshed<3.1.0,>=3.0.2 in /usr/local/lib/python3.10/dist-packages (from spacy[lookups]<4.0.0,>=2.0.0->alibi) (3.0.9)\n",
            "Requirement already satisfied: thinc<8.3.0,>=8.2.2 in /usr/local/lib/python3.10/dist-packages (from spacy[lookups]<4.0.0,>=2.0.0->alibi) (8.2.3)\n",
            "Requirement already satisfied: wasabi<1.2.0,>=0.9.1 in /usr/local/lib/python3.10/dist-packages (from spacy[lookups]<4.0.0,>=2.0.0->alibi) (1.1.2)\n",
            "Requirement already satisfied: srsly<3.0.0,>=2.4.3 in /usr/local/lib/python3.10/dist-packages (from spacy[lookups]<4.0.0,>=2.0.0->alibi) (2.4.8)\n",
            "Requirement already satisfied: catalogue<2.1.0,>=2.0.6 in /usr/local/lib/python3.10/dist-packages (from spacy[lookups]<4.0.0,>=2.0.0->alibi) (2.0.10)\n",
            "Requirement already satisfied: weasel<0.4.0,>=0.1.0 in /usr/local/lib/python3.10/dist-packages (from spacy[lookups]<4.0.0,>=2.0.0->alibi) (0.3.4)\n",
            "Requirement already satisfied: typer<0.10.0,>=0.3.0 in /usr/local/lib/python3.10/dist-packages (from spacy[lookups]<4.0.0,>=2.0.0->alibi) (0.9.4)\n",
            "Requirement already satisfied: smart-open<7.0.0,>=5.2.1 in /usr/local/lib/python3.10/dist-packages (from spacy[lookups]<4.0.0,>=2.0.0->alibi) (6.4.0)\n",
            "Requirement already satisfied: jinja2 in /usr/local/lib/python3.10/dist-packages (from spacy[lookups]<4.0.0,>=2.0.0->alibi) (3.1.3)\n",
            "Requirement already satisfied: setuptools in /usr/local/lib/python3.10/dist-packages (from spacy[lookups]<4.0.0,>=2.0.0->alibi) (67.7.2)\n",
            "Requirement already satisfied: langcodes<4.0.0,>=3.2.0 in /usr/local/lib/python3.10/dist-packages (from spacy[lookups]<4.0.0,>=2.0.0->alibi) (3.3.0)\n",
            "Collecting spacy-lookups-data<1.1.0,>=1.0.3 (from spacy[lookups]<4.0.0,>=2.0.0->alibi)\n",
            "  Downloading spacy_lookups_data-1.0.5-py2.py3-none-any.whl (98.5 MB)\n",
            "\u001b[2K     \u001b[90m━━━━━━━━━━━━━━━━━━━━━━━━━━━━━━━━━━━━━━━━\u001b[0m \u001b[32m98.5/98.5 MB\u001b[0m \u001b[31m5.6 MB/s\u001b[0m eta \u001b[36m0:00:00\u001b[0m\n",
            "\u001b[?25hRequirement already satisfied: filelock in /usr/local/lib/python3.10/dist-packages (from transformers<5.0.0,>=4.7.0->alibi) (3.13.4)\n",
            "Requirement already satisfied: huggingface-hub<1.0,>=0.19.3 in /usr/local/lib/python3.10/dist-packages (from transformers<5.0.0,>=4.7.0->alibi) (0.20.3)\n",
            "Requirement already satisfied: pyyaml>=5.1 in /usr/local/lib/python3.10/dist-packages (from transformers<5.0.0,>=4.7.0->alibi) (6.0.1)\n",
            "Requirement already satisfied: regex!=2019.12.17 in /usr/local/lib/python3.10/dist-packages (from transformers<5.0.0,>=4.7.0->alibi) (2023.12.25)\n",
            "Requirement already satisfied: tokenizers<0.19,>=0.14 in /usr/local/lib/python3.10/dist-packages (from transformers<5.0.0,>=4.7.0->alibi) (0.15.2)\n",
            "Requirement already satisfied: safetensors>=0.4.1 in /usr/local/lib/python3.10/dist-packages (from transformers<5.0.0,>=4.7.0->alibi) (0.4.2)\n",
            "Requirement already satisfied: fsspec>=2023.5.0 in /usr/local/lib/python3.10/dist-packages (from huggingface-hub<1.0,>=0.19.3->transformers<5.0.0,>=4.7.0->alibi) (2023.6.0)\n",
            "Requirement already satisfied: six>=1.5 in /usr/local/lib/python3.10/dist-packages (from python-dateutil>=2.7->matplotlib<4.0.0,>=3.0.0->alibi) (1.16.0)\n",
            "Requirement already satisfied: confection<1.0.0,>=0.0.1 in /usr/local/lib/python3.10/dist-packages (from thinc<8.3.0,>=8.2.2->spacy[lookups]<4.0.0,>=2.0.0->alibi) (0.1.4)\n",
            "Requirement already satisfied: click<9.0.0,>=7.1.1 in /usr/local/lib/python3.10/dist-packages (from typer<0.10.0,>=0.3.0->spacy[lookups]<4.0.0,>=2.0.0->alibi) (8.1.7)\n",
            "Requirement already satisfied: cloudpathlib<0.17.0,>=0.7.0 in /usr/local/lib/python3.10/dist-packages (from weasel<0.4.0,>=0.1.0->spacy[lookups]<4.0.0,>=2.0.0->alibi) (0.16.0)\n",
            "Requirement already satisfied: MarkupSafe>=2.0 in /usr/local/lib/python3.10/dist-packages (from jinja2->spacy[lookups]<4.0.0,>=2.0.0->alibi) (2.1.5)\n",
            "Installing collected packages: spacy-lookups-data, pydantic, dill, alibi\n",
            "  Attempting uninstall: pydantic\n",
            "    Found existing installation: pydantic 2.6.4\n",
            "    Uninstalling pydantic-2.6.4:\n",
            "      Successfully uninstalled pydantic-2.6.4\n",
            "Successfully installed alibi-0.9.5 dill-0.3.8 pydantic-1.10.15 spacy-lookups-data-1.0.5\n",
            "Collecting treeinterpreter\n",
            "  Downloading treeinterpreter-0.2.3-py2.py3-none-any.whl (6.0 kB)\n",
            "Installing collected packages: treeinterpreter\n",
            "Successfully installed treeinterpreter-0.2.3\n",
            "Collecting SALib\n",
            "  Downloading salib-1.4.8-py3-none-any.whl (778 kB)\n",
            "\u001b[2K     \u001b[90m━━━━━━━━━━━━━━━━━━━━━━━━━━━━━━━━━━━━━━━━\u001b[0m \u001b[32m778.7/778.7 kB\u001b[0m \u001b[31m15.6 MB/s\u001b[0m eta \u001b[36m0:00:00\u001b[0m\n",
            "\u001b[?25hRequirement already satisfied: matplotlib>=3.2.2 in /usr/local/lib/python3.10/dist-packages (from SALib) (3.7.1)\n",
            "Collecting multiprocess (from SALib)\n",
            "  Downloading multiprocess-0.70.16-py310-none-any.whl (134 kB)\n",
            "\u001b[2K     \u001b[90m━━━━━━━━━━━━━━━━━━━━━━━━━━━━━━━━━━━━━━━━\u001b[0m \u001b[32m134.8/134.8 kB\u001b[0m \u001b[31m13.8 MB/s\u001b[0m eta \u001b[36m0:00:00\u001b[0m\n",
            "\u001b[?25hRequirement already satisfied: numpy>=1.20.3 in /usr/local/lib/python3.10/dist-packages (from SALib) (1.25.2)\n",
            "Requirement already satisfied: pandas>=1.2 in /usr/local/lib/python3.10/dist-packages (from SALib) (1.5.3)\n",
            "Requirement already satisfied: scipy>=1.7.3 in /usr/local/lib/python3.10/dist-packages (from SALib) (1.11.4)\n",
            "Requirement already satisfied: contourpy>=1.0.1 in /usr/local/lib/python3.10/dist-packages (from matplotlib>=3.2.2->SALib) (1.2.1)\n",
            "Requirement already satisfied: cycler>=0.10 in /usr/local/lib/python3.10/dist-packages (from matplotlib>=3.2.2->SALib) (0.12.1)\n",
            "Requirement already satisfied: fonttools>=4.22.0 in /usr/local/lib/python3.10/dist-packages (from matplotlib>=3.2.2->SALib) (4.51.0)\n",
            "Requirement already satisfied: kiwisolver>=1.0.1 in /usr/local/lib/python3.10/dist-packages (from matplotlib>=3.2.2->SALib) (1.4.5)\n",
            "Requirement already satisfied: packaging>=20.0 in /usr/local/lib/python3.10/dist-packages (from matplotlib>=3.2.2->SALib) (24.0)\n",
            "Requirement already satisfied: pillow>=6.2.0 in /usr/local/lib/python3.10/dist-packages (from matplotlib>=3.2.2->SALib) (9.4.0)\n",
            "Requirement already satisfied: pyparsing>=2.3.1 in /usr/local/lib/python3.10/dist-packages (from matplotlib>=3.2.2->SALib) (3.1.2)\n",
            "Requirement already satisfied: python-dateutil>=2.7 in /usr/local/lib/python3.10/dist-packages (from matplotlib>=3.2.2->SALib) (2.8.2)\n",
            "Requirement already satisfied: pytz>=2020.1 in /usr/local/lib/python3.10/dist-packages (from pandas>=1.2->SALib) (2023.4)\n",
            "Requirement already satisfied: dill>=0.3.8 in /usr/local/lib/python3.10/dist-packages (from multiprocess->SALib) (0.3.8)\n",
            "Requirement already satisfied: six>=1.5 in /usr/local/lib/python3.10/dist-packages (from python-dateutil>=2.7->matplotlib>=3.2.2->SALib) (1.16.0)\n",
            "Installing collected packages: multiprocess, SALib\n",
            "Successfully installed SALib-1.4.8 multiprocess-0.70.16\n",
            "Collecting dice-ml\n",
            "  Downloading dice_ml-0.11-py3-none-any.whl (2.5 MB)\n",
            "\u001b[2K     \u001b[90m━━━━━━━━━━━━━━━━━━━━━━━━━━━━━━━━━━━━━━━━\u001b[0m \u001b[32m2.5/2.5 MB\u001b[0m \u001b[31m28.3 MB/s\u001b[0m eta \u001b[36m0:00:00\u001b[0m\n",
            "\u001b[?25hRequirement already satisfied: jsonschema in /usr/local/lib/python3.10/dist-packages (from dice-ml) (4.19.2)\n",
            "Requirement already satisfied: numpy in /usr/local/lib/python3.10/dist-packages (from dice-ml) (1.25.2)\n",
            "Requirement already satisfied: pandas<2.0.0 in /usr/local/lib/python3.10/dist-packages (from dice-ml) (1.5.3)\n",
            "Requirement already satisfied: scikit-learn in /usr/local/lib/python3.10/dist-packages (from dice-ml) (1.2.2)\n",
            "Requirement already satisfied: tqdm in /usr/local/lib/python3.10/dist-packages (from dice-ml) (4.66.2)\n",
            "Requirement already satisfied: raiutils>=0.4.0 in /usr/local/lib/python3.10/dist-packages (from dice-ml) (0.4.1)\n",
            "Requirement already satisfied: python-dateutil>=2.8.1 in /usr/local/lib/python3.10/dist-packages (from pandas<2.0.0->dice-ml) (2.8.2)\n",
            "Requirement already satisfied: pytz>=2020.1 in /usr/local/lib/python3.10/dist-packages (from pandas<2.0.0->dice-ml) (2023.4)\n",
            "Requirement already satisfied: requests in /usr/local/lib/python3.10/dist-packages (from raiutils>=0.4.0->dice-ml) (2.31.0)\n",
            "Requirement already satisfied: scipy in /usr/local/lib/python3.10/dist-packages (from raiutils>=0.4.0->dice-ml) (1.11.4)\n",
            "Requirement already satisfied: attrs>=22.2.0 in /usr/local/lib/python3.10/dist-packages (from jsonschema->dice-ml) (23.2.0)\n",
            "Requirement already satisfied: jsonschema-specifications>=2023.03.6 in /usr/local/lib/python3.10/dist-packages (from jsonschema->dice-ml) (2023.12.1)\n",
            "Requirement already satisfied: referencing>=0.28.4 in /usr/local/lib/python3.10/dist-packages (from jsonschema->dice-ml) (0.34.0)\n",
            "Requirement already satisfied: rpds-py>=0.7.1 in /usr/local/lib/python3.10/dist-packages (from jsonschema->dice-ml) (0.18.0)\n",
            "Requirement already satisfied: joblib>=1.1.1 in /usr/local/lib/python3.10/dist-packages (from scikit-learn->dice-ml) (1.4.0)\n",
            "Requirement already satisfied: threadpoolctl>=2.0.0 in /usr/local/lib/python3.10/dist-packages (from scikit-learn->dice-ml) (3.4.0)\n",
            "Requirement already satisfied: six>=1.5 in /usr/local/lib/python3.10/dist-packages (from python-dateutil>=2.8.1->pandas<2.0.0->dice-ml) (1.16.0)\n",
            "Requirement already satisfied: charset-normalizer<4,>=2 in /usr/local/lib/python3.10/dist-packages (from requests->raiutils>=0.4.0->dice-ml) (3.3.2)\n",
            "Requirement already satisfied: idna<4,>=2.5 in /usr/local/lib/python3.10/dist-packages (from requests->raiutils>=0.4.0->dice-ml) (3.6)\n",
            "Requirement already satisfied: urllib3<3,>=1.21.1 in /usr/local/lib/python3.10/dist-packages (from requests->raiutils>=0.4.0->dice-ml) (2.0.7)\n",
            "Requirement already satisfied: certifi>=2017.4.17 in /usr/local/lib/python3.10/dist-packages (from requests->raiutils>=0.4.0->dice-ml) (2024.2.2)\n",
            "Installing collected packages: dice-ml\n",
            "Successfully installed dice-ml-0.11\n",
            "Requirement already satisfied: pip in /usr/local/lib/python3.10/dist-packages (23.1.2)\n",
            "Collecting install\n",
            "  Downloading install-1.3.5-py3-none-any.whl (3.2 kB)\n",
            "Collecting spectralcluster\n",
            "  Downloading spectralcluster-0.2.21-py3-none-any.whl (31 kB)\n",
            "Installing collected packages: spectralcluster, install\n",
            "Successfully installed install-1.3.5 spectralcluster-0.2.21\n",
            "Requirement already satisfied: kaleido in /usr/local/lib/python3.10/dist-packages (0.2.1)\n"
          ]
        }
      ]
    },
    {
      "cell_type": "code",
      "source": [
        "from sklearn.inspection import permutation_importance\n",
        "from sklearn.ensemble import RandomForestClassifier\n",
        "from sklearn.inspection import PartialDependenceDisplay, partial_dependence\n",
        "from interpret_community.mimic.mimic_explainer import MimicExplainer\n",
        "from interpret_community.mimic.models import LinearExplainableModel\n",
        "from sklearn.decomposition import PCA\n",
        "from sklearn.pipeline import Pipeline\n",
        "from interpret.blackbox import MorrisSensitivity\n",
        "import shap\n",
        "import lime\n",
        "from lime import lime_tabular\n",
        "from treeinterpreter import treeinterpreter as ti\n",
        "\n",
        "import pandas as pd\n",
        "import numpy as np\n",
        "from numpy import arange\n",
        "import seaborn as sns\n",
        "import plotly.express as px\n",
        "import plotly.graph_objects as go\n",
        "\n",
        "import random"
      ],
      "metadata": {
        "id": "7T_XvjkYFV6b"
      },
      "execution_count": null,
      "outputs": []
    },
    {
      "cell_type": "code",
      "source": [
        "#data with random variable\n",
        "\n",
        "#tools\n",
        "GloSur=kernelSHAP=treeSHAP=samplingSHAP=limecontrib=ticontrib=dicecontrib=pd.DataFrame([[0.0]*X_test.shape[1]]*X_test.shape[0], columns=X_test.columns)\n",
        "fi_1=fi_2=fi_3=fi_4=fi_5=fi_6=fi_7={f'{x}':0.0 for x in X_test.columns}\n",
        "\n",
        "model = nn_clf\n",
        "\n",
        "res = dict()\n",
        "features=X_test.columns\n",
        "\n",
        "print(\"-GLOSUR-\")\n",
        "# GloSur\n",
        "explainer = MimicExplainer(model,\n",
        "                          X_train,\n",
        "                          LinearExplainableModel,\n",
        "                          augment_data=False,\n",
        "                          features=features,\n",
        "                          model_task=\"classification\")\n",
        "global_explanation = explainer.explain_global(X_test)\n",
        "temp=pd.DataFrame(global_explanation.local_importance_values[1], columns=features)\n",
        "GloSur=GloSur.add(temp, fill_value=0)\n",
        "\n",
        "\n",
        "res = dict()\n",
        "res = global_explanation.get_feature_importance_dict()\n",
        "fi_1={k: fi_1.get(k, 0) + res.get(k, 0) for k in set(fi_1)}"
      ],
      "metadata": {
        "colab": {
          "base_uri": "https://localhost:8080/"
        },
        "id": "x1yNB4yVFhwD",
        "outputId": "43558093-daf7-4335-ae7b-ee01bda90d83"
      },
      "execution_count": null,
      "outputs": [
        {
          "output_type": "stream",
          "name": "stdout",
          "text": [
            "-GLOSUR-\n"
          ]
        }
      ]
    },
    {
      "cell_type": "code",
      "source": [
        "#currently running longer than 8 min\n",
        "\n",
        "\n",
        "# print(\"-KSHAP-\")\n",
        "# # KSHAP\n",
        "# explainer = shap.KernelExplainer(model.predict_proba, X_train)\n",
        "# shap_values = explainer.shap_values(X_test)\n",
        "# temp=pd.DataFrame(shap_values[1], columns=features)\n",
        "# kernelSHAP=kernelSHAP.add(temp, fill_value=0)\n",
        "\n",
        "# res = dict()\n",
        "# for i in list(kernelSHAP.columns):\n",
        "#   res[i]=np.mean(np.abs(kernelSHAP[i]))\n",
        "# fi_2={k: fi_2.get(k, 0) + res.get(k, 0) for k in set(fi_2)}"
      ],
      "metadata": {
        "colab": {
          "base_uri": "https://localhost:8080/",
          "height": 422,
          "referenced_widgets": [
            "ef760de6de23443683a8340e4fd7a32b",
            "aeaa092bcb514bb88df0e06b8bfa2b12",
            "5fafc012275944cdb9ee2847099fda18",
            "bfb90173c07449ec968cb72a9237bc68",
            "de465ee115b94a2c8be54b3faaab5a31",
            "4e244f933e7144bbbeb023c78cdd6bf5",
            "8073e15974134b2297ffa2641b128a8b",
            "7859804b501e4c3297c10f93ce3607ad",
            "56019b95ca614d589e9ec75e6b86a308",
            "c19c85fea10e45e48d878880c5e4091c",
            "dd96f1454cb84d3fb7254d8a5b18a6f0"
          ]
        },
        "id": "rG-JpB0rFr-K",
        "outputId": "f9598997-e4c7-4283-9cdc-ced90fabcea7"
      },
      "execution_count": null,
      "outputs": [
        {
          "output_type": "stream",
          "name": "stderr",
          "text": [
            "WARNING:shap:Using 1341 background data samples could cause slower run times. Consider using shap.sample(data, K) or shap.kmeans(data, K) to summarize the background as K samples.\n"
          ]
        },
        {
          "output_type": "stream",
          "name": "stdout",
          "text": [
            "-KSHAP-\n"
          ]
        },
        {
          "output_type": "display_data",
          "data": {
            "text/plain": [
              "  0%|          | 0/336 [00:00<?, ?it/s]"
            ],
            "application/vnd.jupyter.widget-view+json": {
              "version_major": 2,
              "version_minor": 0,
              "model_id": "ef760de6de23443683a8340e4fd7a32b"
            }
          },
          "metadata": {}
        },
        {
          "output_type": "error",
          "ename": "KeyboardInterrupt",
          "evalue": "",
          "traceback": [
            "\u001b[0;31m---------------------------------------------------------------------------\u001b[0m",
            "\u001b[0;31mKeyboardInterrupt\u001b[0m                         Traceback (most recent call last)",
            "\u001b[0;32m<ipython-input-223-aba8e27085c5>\u001b[0m in \u001b[0;36m<cell line: 4>\u001b[0;34m()\u001b[0m\n\u001b[1;32m      2\u001b[0m \u001b[0;31m# KSHAP\u001b[0m\u001b[0;34m\u001b[0m\u001b[0;34m\u001b[0m\u001b[0m\n\u001b[1;32m      3\u001b[0m \u001b[0mexplainer\u001b[0m \u001b[0;34m=\u001b[0m \u001b[0mshap\u001b[0m\u001b[0;34m.\u001b[0m\u001b[0mKernelExplainer\u001b[0m\u001b[0;34m(\u001b[0m\u001b[0mmodel\u001b[0m\u001b[0;34m.\u001b[0m\u001b[0mpredict_proba\u001b[0m\u001b[0;34m,\u001b[0m \u001b[0mX_train\u001b[0m\u001b[0;34m)\u001b[0m\u001b[0;34m\u001b[0m\u001b[0;34m\u001b[0m\u001b[0m\n\u001b[0;32m----> 4\u001b[0;31m \u001b[0mshap_values\u001b[0m \u001b[0;34m=\u001b[0m \u001b[0mexplainer\u001b[0m\u001b[0;34m.\u001b[0m\u001b[0mshap_values\u001b[0m\u001b[0;34m(\u001b[0m\u001b[0mX_test\u001b[0m\u001b[0;34m)\u001b[0m\u001b[0;34m\u001b[0m\u001b[0;34m\u001b[0m\u001b[0m\n\u001b[0m\u001b[1;32m      5\u001b[0m \u001b[0mtemp\u001b[0m\u001b[0;34m=\u001b[0m\u001b[0mpd\u001b[0m\u001b[0;34m.\u001b[0m\u001b[0mDataFrame\u001b[0m\u001b[0;34m(\u001b[0m\u001b[0mshap_values\u001b[0m\u001b[0;34m[\u001b[0m\u001b[0;36m1\u001b[0m\u001b[0;34m]\u001b[0m\u001b[0;34m,\u001b[0m \u001b[0mcolumns\u001b[0m\u001b[0;34m=\u001b[0m\u001b[0mfeatures\u001b[0m\u001b[0;34m)\u001b[0m\u001b[0;34m\u001b[0m\u001b[0;34m\u001b[0m\u001b[0m\n\u001b[1;32m      6\u001b[0m \u001b[0mkernelSHAP\u001b[0m\u001b[0;34m=\u001b[0m\u001b[0mkernelSHAP\u001b[0m\u001b[0;34m.\u001b[0m\u001b[0madd\u001b[0m\u001b[0;34m(\u001b[0m\u001b[0mtemp\u001b[0m\u001b[0;34m,\u001b[0m \u001b[0mfill_value\u001b[0m\u001b[0;34m=\u001b[0m\u001b[0;36m0\u001b[0m\u001b[0;34m)\u001b[0m\u001b[0;34m\u001b[0m\u001b[0;34m\u001b[0m\u001b[0m\n",
            "\u001b[0;32m/usr/local/lib/python3.10/dist-packages/shap/explainers/_kernel.py\u001b[0m in \u001b[0;36mshap_values\u001b[0;34m(self, X, **kwargs)\u001b[0m\n\u001b[1;32m    242\u001b[0m                 \u001b[0;32mif\u001b[0m \u001b[0mself\u001b[0m\u001b[0;34m.\u001b[0m\u001b[0mkeep_index\u001b[0m\u001b[0;34m:\u001b[0m\u001b[0;34m\u001b[0m\u001b[0;34m\u001b[0m\u001b[0m\n\u001b[1;32m    243\u001b[0m                     \u001b[0mdata\u001b[0m \u001b[0;34m=\u001b[0m \u001b[0mconvert_to_instance_with_index\u001b[0m\u001b[0;34m(\u001b[0m\u001b[0mdata\u001b[0m\u001b[0;34m,\u001b[0m \u001b[0mcolumn_name\u001b[0m\u001b[0;34m,\u001b[0m \u001b[0mindex_value\u001b[0m\u001b[0;34m[\u001b[0m\u001b[0mi\u001b[0m\u001b[0;34m:\u001b[0m\u001b[0mi\u001b[0m \u001b[0;34m+\u001b[0m \u001b[0;36m1\u001b[0m\u001b[0;34m]\u001b[0m\u001b[0;34m,\u001b[0m \u001b[0mindex_name\u001b[0m\u001b[0;34m)\u001b[0m\u001b[0;34m\u001b[0m\u001b[0;34m\u001b[0m\u001b[0m\n\u001b[0;32m--> 244\u001b[0;31m                 \u001b[0mexplanations\u001b[0m\u001b[0;34m.\u001b[0m\u001b[0mappend\u001b[0m\u001b[0;34m(\u001b[0m\u001b[0mself\u001b[0m\u001b[0;34m.\u001b[0m\u001b[0mexplain\u001b[0m\u001b[0;34m(\u001b[0m\u001b[0mdata\u001b[0m\u001b[0;34m,\u001b[0m \u001b[0;34m**\u001b[0m\u001b[0mkwargs\u001b[0m\u001b[0;34m)\u001b[0m\u001b[0;34m)\u001b[0m\u001b[0;34m\u001b[0m\u001b[0;34m\u001b[0m\u001b[0m\n\u001b[0m\u001b[1;32m    245\u001b[0m                 \u001b[0;32mif\u001b[0m \u001b[0mkwargs\u001b[0m\u001b[0;34m.\u001b[0m\u001b[0mget\u001b[0m\u001b[0;34m(\u001b[0m\u001b[0;34m\"gc_collect\"\u001b[0m\u001b[0;34m,\u001b[0m \u001b[0;32mFalse\u001b[0m\u001b[0;34m)\u001b[0m\u001b[0;34m:\u001b[0m\u001b[0;34m\u001b[0m\u001b[0;34m\u001b[0m\u001b[0m\n\u001b[1;32m    246\u001b[0m                     \u001b[0mgc\u001b[0m\u001b[0;34m.\u001b[0m\u001b[0mcollect\u001b[0m\u001b[0;34m(\u001b[0m\u001b[0;34m)\u001b[0m\u001b[0;34m\u001b[0m\u001b[0;34m\u001b[0m\u001b[0m\n",
            "\u001b[0;32m/usr/local/lib/python3.10/dist-packages/shap/explainers/_kernel.py\u001b[0m in \u001b[0;36mexplain\u001b[0;34m(self, incoming_instance, **kwargs)\u001b[0m\n\u001b[1;32m    273\u001b[0m         \u001b[0;31m# find the feature groups we will test. If a feature does not change from its\u001b[0m\u001b[0;34m\u001b[0m\u001b[0;34m\u001b[0m\u001b[0m\n\u001b[1;32m    274\u001b[0m         \u001b[0;31m# current value then we know it doesn't impact the model\u001b[0m\u001b[0;34m\u001b[0m\u001b[0;34m\u001b[0m\u001b[0m\n\u001b[0;32m--> 275\u001b[0;31m         \u001b[0mself\u001b[0m\u001b[0;34m.\u001b[0m\u001b[0mvaryingInds\u001b[0m \u001b[0;34m=\u001b[0m \u001b[0mself\u001b[0m\u001b[0;34m.\u001b[0m\u001b[0mvarying_groups\u001b[0m\u001b[0;34m(\u001b[0m\u001b[0minstance\u001b[0m\u001b[0;34m.\u001b[0m\u001b[0mx\u001b[0m\u001b[0;34m)\u001b[0m\u001b[0;34m\u001b[0m\u001b[0;34m\u001b[0m\u001b[0m\n\u001b[0m\u001b[1;32m    276\u001b[0m         \u001b[0;32mif\u001b[0m \u001b[0mself\u001b[0m\u001b[0;34m.\u001b[0m\u001b[0mdata\u001b[0m\u001b[0;34m.\u001b[0m\u001b[0mgroups\u001b[0m \u001b[0;32mis\u001b[0m \u001b[0;32mNone\u001b[0m\u001b[0;34m:\u001b[0m\u001b[0;34m\u001b[0m\u001b[0;34m\u001b[0m\u001b[0m\n\u001b[1;32m    277\u001b[0m             \u001b[0mself\u001b[0m\u001b[0;34m.\u001b[0m\u001b[0mvaryingFeatureGroups\u001b[0m \u001b[0;34m=\u001b[0m \u001b[0mnp\u001b[0m\u001b[0;34m.\u001b[0m\u001b[0marray\u001b[0m\u001b[0;34m(\u001b[0m\u001b[0;34m[\u001b[0m\u001b[0mi\u001b[0m \u001b[0;32mfor\u001b[0m \u001b[0mi\u001b[0m \u001b[0;32min\u001b[0m \u001b[0mself\u001b[0m\u001b[0;34m.\u001b[0m\u001b[0mvaryingInds\u001b[0m\u001b[0;34m]\u001b[0m\u001b[0;34m)\u001b[0m\u001b[0;34m\u001b[0m\u001b[0;34m\u001b[0m\u001b[0m\n",
            "\u001b[0;32m/usr/local/lib/python3.10/dist-packages/shap/explainers/_kernel.py\u001b[0m in \u001b[0;36mvarying_groups\u001b[0;34m(self, x)\u001b[0m\n\u001b[1;32m    475\u001b[0m                         \u001b[0;32mcontinue\u001b[0m\u001b[0;34m\u001b[0m\u001b[0;34m\u001b[0m\u001b[0m\n\u001b[1;32m    476\u001b[0m                     \u001b[0mx_group\u001b[0m \u001b[0;34m=\u001b[0m \u001b[0mx_group\u001b[0m\u001b[0;34m.\u001b[0m\u001b[0mtodense\u001b[0m\u001b[0;34m(\u001b[0m\u001b[0;34m)\u001b[0m\u001b[0;34m\u001b[0m\u001b[0;34m\u001b[0m\u001b[0m\n\u001b[0;32m--> 477\u001b[0;31m                 \u001b[0mnum_mismatches\u001b[0m \u001b[0;34m=\u001b[0m \u001b[0mnp\u001b[0m\u001b[0;34m.\u001b[0m\u001b[0msum\u001b[0m\u001b[0;34m(\u001b[0m\u001b[0mnp\u001b[0m\u001b[0;34m.\u001b[0m\u001b[0mfrompyfunc\u001b[0m\u001b[0;34m(\u001b[0m\u001b[0mself\u001b[0m\u001b[0;34m.\u001b[0m\u001b[0mnot_equal\u001b[0m\u001b[0;34m,\u001b[0m \u001b[0;36m2\u001b[0m\u001b[0;34m,\u001b[0m \u001b[0;36m1\u001b[0m\u001b[0;34m)\u001b[0m\u001b[0;34m(\u001b[0m\u001b[0mx_group\u001b[0m\u001b[0;34m,\u001b[0m \u001b[0mself\u001b[0m\u001b[0;34m.\u001b[0m\u001b[0mdata\u001b[0m\u001b[0;34m.\u001b[0m\u001b[0mdata\u001b[0m\u001b[0;34m[\u001b[0m\u001b[0;34m:\u001b[0m\u001b[0;34m,\u001b[0m \u001b[0minds\u001b[0m\u001b[0;34m]\u001b[0m\u001b[0;34m)\u001b[0m\u001b[0;34m)\u001b[0m\u001b[0;34m\u001b[0m\u001b[0;34m\u001b[0m\u001b[0m\n\u001b[0m\u001b[1;32m    478\u001b[0m                 \u001b[0mvarying\u001b[0m\u001b[0;34m[\u001b[0m\u001b[0mi\u001b[0m\u001b[0;34m]\u001b[0m \u001b[0;34m=\u001b[0m \u001b[0mnum_mismatches\u001b[0m \u001b[0;34m>\u001b[0m \u001b[0;36m0\u001b[0m\u001b[0;34m\u001b[0m\u001b[0;34m\u001b[0m\u001b[0m\n\u001b[1;32m    479\u001b[0m             \u001b[0mvarying_indices\u001b[0m \u001b[0;34m=\u001b[0m \u001b[0mnp\u001b[0m\u001b[0;34m.\u001b[0m\u001b[0mnonzero\u001b[0m\u001b[0;34m(\u001b[0m\u001b[0mvarying\u001b[0m\u001b[0;34m)\u001b[0m\u001b[0;34m[\u001b[0m\u001b[0;36m0\u001b[0m\u001b[0;34m]\u001b[0m\u001b[0;34m\u001b[0m\u001b[0;34m\u001b[0m\u001b[0m\n",
            "\u001b[0;32m/usr/local/lib/python3.10/dist-packages/shap/explainers/_kernel.py\u001b[0m in \u001b[0;36mnot_equal\u001b[0;34m(i, j)\u001b[0m\n\u001b[1;32m    460\u001b[0m         \u001b[0mnumber_types\u001b[0m \u001b[0;34m=\u001b[0m \u001b[0;34m(\u001b[0m\u001b[0mint\u001b[0m\u001b[0;34m,\u001b[0m \u001b[0mfloat\u001b[0m\u001b[0;34m,\u001b[0m \u001b[0mnp\u001b[0m\u001b[0;34m.\u001b[0m\u001b[0mnumber\u001b[0m\u001b[0;34m)\u001b[0m\u001b[0;34m\u001b[0m\u001b[0;34m\u001b[0m\u001b[0m\n\u001b[1;32m    461\u001b[0m         \u001b[0;32mif\u001b[0m \u001b[0misinstance\u001b[0m\u001b[0;34m(\u001b[0m\u001b[0mi\u001b[0m\u001b[0;34m,\u001b[0m \u001b[0mnumber_types\u001b[0m\u001b[0;34m)\u001b[0m \u001b[0;32mand\u001b[0m \u001b[0misinstance\u001b[0m\u001b[0;34m(\u001b[0m\u001b[0mj\u001b[0m\u001b[0;34m,\u001b[0m \u001b[0mnumber_types\u001b[0m\u001b[0;34m)\u001b[0m\u001b[0;34m:\u001b[0m\u001b[0;34m\u001b[0m\u001b[0;34m\u001b[0m\u001b[0m\n\u001b[0;32m--> 462\u001b[0;31m             \u001b[0;32mreturn\u001b[0m \u001b[0;36m0\u001b[0m \u001b[0;32mif\u001b[0m \u001b[0mnp\u001b[0m\u001b[0;34m.\u001b[0m\u001b[0misclose\u001b[0m\u001b[0;34m(\u001b[0m\u001b[0mi\u001b[0m\u001b[0;34m,\u001b[0m \u001b[0mj\u001b[0m\u001b[0;34m,\u001b[0m \u001b[0mequal_nan\u001b[0m\u001b[0;34m=\u001b[0m\u001b[0;32mTrue\u001b[0m\u001b[0;34m)\u001b[0m \u001b[0;32melse\u001b[0m \u001b[0;36m1\u001b[0m\u001b[0;34m\u001b[0m\u001b[0;34m\u001b[0m\u001b[0m\n\u001b[0m\u001b[1;32m    463\u001b[0m         \u001b[0;32melse\u001b[0m\u001b[0;34m:\u001b[0m\u001b[0;34m\u001b[0m\u001b[0;34m\u001b[0m\u001b[0m\n\u001b[1;32m    464\u001b[0m             \u001b[0;32mreturn\u001b[0m \u001b[0;36m0\u001b[0m \u001b[0;32mif\u001b[0m \u001b[0mi\u001b[0m \u001b[0;34m==\u001b[0m \u001b[0mj\u001b[0m \u001b[0;32melse\u001b[0m \u001b[0;36m1\u001b[0m\u001b[0;34m\u001b[0m\u001b[0;34m\u001b[0m\u001b[0m\n",
            "\u001b[0;32m/usr/local/lib/python3.10/dist-packages/numpy/core/numeric.py\u001b[0m in \u001b[0;36misclose\u001b[0;34m(a, b, rtol, atol, equal_nan)\u001b[0m\n\u001b[1;32m   2346\u001b[0m         \u001b[0my\u001b[0m \u001b[0;34m=\u001b[0m \u001b[0masanyarray\u001b[0m\u001b[0;34m(\u001b[0m\u001b[0my\u001b[0m\u001b[0;34m,\u001b[0m \u001b[0mdtype\u001b[0m\u001b[0;34m=\u001b[0m\u001b[0mdt\u001b[0m\u001b[0;34m)\u001b[0m\u001b[0;34m\u001b[0m\u001b[0;34m\u001b[0m\u001b[0m\n\u001b[1;32m   2347\u001b[0m \u001b[0;34m\u001b[0m\u001b[0m\n\u001b[0;32m-> 2348\u001b[0;31m     \u001b[0mxfin\u001b[0m \u001b[0;34m=\u001b[0m \u001b[0misfinite\u001b[0m\u001b[0;34m(\u001b[0m\u001b[0mx\u001b[0m\u001b[0;34m)\u001b[0m\u001b[0;34m\u001b[0m\u001b[0;34m\u001b[0m\u001b[0m\n\u001b[0m\u001b[1;32m   2349\u001b[0m     \u001b[0myfin\u001b[0m \u001b[0;34m=\u001b[0m \u001b[0misfinite\u001b[0m\u001b[0;34m(\u001b[0m\u001b[0my\u001b[0m\u001b[0;34m)\u001b[0m\u001b[0;34m\u001b[0m\u001b[0;34m\u001b[0m\u001b[0m\n\u001b[1;32m   2350\u001b[0m     \u001b[0;32mif\u001b[0m \u001b[0mall\u001b[0m\u001b[0;34m(\u001b[0m\u001b[0mxfin\u001b[0m\u001b[0;34m)\u001b[0m \u001b[0;32mand\u001b[0m \u001b[0mall\u001b[0m\u001b[0;34m(\u001b[0m\u001b[0myfin\u001b[0m\u001b[0;34m)\u001b[0m\u001b[0;34m:\u001b[0m\u001b[0;34m\u001b[0m\u001b[0;34m\u001b[0m\u001b[0m\n",
            "\u001b[0;31mKeyboardInterrupt\u001b[0m: "
          ]
        }
      ]
    },
    {
      "cell_type": "code",
      "source": [
        "#Model type not yet supported by TreeExplainer:\n",
        "\n",
        "\n",
        "#print(\"-TSHAP-\")\n",
        "# # TSHAP\n",
        "# explainer = shap.TreeExplainer(model,X_train)\n",
        "# shap_values = explainer.shap_values(X_test)\n",
        "\n",
        "# temp=pd.DataFrame(shap_values[1], columns=features)\n",
        "# treeSHAP=treeSHAP.add(temp, fill_value=0)\n",
        "\n",
        "# res = dict()\n",
        "# for i in list(treeSHAP.columns):\n",
        "#   res[i]=np.mean(np.abs(treeSHAP[i]))\n",
        "# fi_3={k: fi_3.get(k, 0) + res.get(k, 0) for k in set(fi_3)}"
      ],
      "metadata": {
        "colab": {
          "base_uri": "https://localhost:8080/",
          "height": 373
        },
        "id": "l1ZUEqEAKPUx",
        "outputId": "32a0fe4f-18a4-4741-fda9-0c0032eea29f"
      },
      "execution_count": null,
      "outputs": [
        {
          "output_type": "stream",
          "name": "stdout",
          "text": [
            "-TSHAP-\n"
          ]
        },
        {
          "output_type": "error",
          "ename": "InvalidModelError",
          "evalue": "Model type not yet supported by TreeExplainer: <class 'sklearn.neural_network._multilayer_perceptron.MLPClassifier'>",
          "traceback": [
            "\u001b[0;31m---------------------------------------------------------------------------\u001b[0m",
            "\u001b[0;31mInvalidModelError\u001b[0m                         Traceback (most recent call last)",
            "\u001b[0;32m<ipython-input-224-7a1ce39d5071>\u001b[0m in \u001b[0;36m<cell line: 3>\u001b[0;34m()\u001b[0m\n\u001b[1;32m      1\u001b[0m \u001b[0mprint\u001b[0m\u001b[0;34m(\u001b[0m\u001b[0;34m\"-TSHAP-\"\u001b[0m\u001b[0;34m)\u001b[0m\u001b[0;34m\u001b[0m\u001b[0;34m\u001b[0m\u001b[0m\n\u001b[1;32m      2\u001b[0m \u001b[0;31m# TSHAP\u001b[0m\u001b[0;34m\u001b[0m\u001b[0;34m\u001b[0m\u001b[0m\n\u001b[0;32m----> 3\u001b[0;31m \u001b[0mexplainer\u001b[0m \u001b[0;34m=\u001b[0m \u001b[0mshap\u001b[0m\u001b[0;34m.\u001b[0m\u001b[0mTreeExplainer\u001b[0m\u001b[0;34m(\u001b[0m\u001b[0mmodel\u001b[0m\u001b[0;34m,\u001b[0m\u001b[0mX_train\u001b[0m\u001b[0;34m)\u001b[0m\u001b[0;34m\u001b[0m\u001b[0;34m\u001b[0m\u001b[0m\n\u001b[0m\u001b[1;32m      4\u001b[0m \u001b[0mshap_values\u001b[0m \u001b[0;34m=\u001b[0m \u001b[0mexplainer\u001b[0m\u001b[0;34m.\u001b[0m\u001b[0mshap_values\u001b[0m\u001b[0;34m(\u001b[0m\u001b[0mX_test\u001b[0m\u001b[0;34m)\u001b[0m\u001b[0;34m\u001b[0m\u001b[0;34m\u001b[0m\u001b[0m\n\u001b[1;32m      5\u001b[0m \u001b[0;34m\u001b[0m\u001b[0m\n",
            "\u001b[0;32m/usr/local/lib/python3.10/dist-packages/shap/explainers/_tree.py\u001b[0m in \u001b[0;36m__init__\u001b[0;34m(self, model, data, model_output, feature_perturbation, feature_names, approximate, **deprecated_options)\u001b[0m\n\u001b[1;32m    170\u001b[0m         \u001b[0mself\u001b[0m\u001b[0;34m.\u001b[0m\u001b[0mfeature_perturbation\u001b[0m \u001b[0;34m=\u001b[0m \u001b[0mfeature_perturbation\u001b[0m\u001b[0;34m\u001b[0m\u001b[0;34m\u001b[0m\u001b[0m\n\u001b[1;32m    171\u001b[0m         \u001b[0mself\u001b[0m\u001b[0;34m.\u001b[0m\u001b[0mexpected_value\u001b[0m \u001b[0;34m=\u001b[0m \u001b[0;32mNone\u001b[0m\u001b[0;34m\u001b[0m\u001b[0;34m\u001b[0m\u001b[0m\n\u001b[0;32m--> 172\u001b[0;31m         \u001b[0mself\u001b[0m\u001b[0;34m.\u001b[0m\u001b[0mmodel\u001b[0m \u001b[0;34m=\u001b[0m \u001b[0mTreeEnsemble\u001b[0m\u001b[0;34m(\u001b[0m\u001b[0mmodel\u001b[0m\u001b[0;34m,\u001b[0m \u001b[0mself\u001b[0m\u001b[0;34m.\u001b[0m\u001b[0mdata\u001b[0m\u001b[0;34m,\u001b[0m \u001b[0mself\u001b[0m\u001b[0;34m.\u001b[0m\u001b[0mdata_missing\u001b[0m\u001b[0;34m,\u001b[0m \u001b[0mmodel_output\u001b[0m\u001b[0;34m)\u001b[0m\u001b[0;34m\u001b[0m\u001b[0;34m\u001b[0m\u001b[0m\n\u001b[0m\u001b[1;32m    173\u001b[0m         \u001b[0mself\u001b[0m\u001b[0;34m.\u001b[0m\u001b[0mmodel_output\u001b[0m \u001b[0;34m=\u001b[0m \u001b[0mmodel_output\u001b[0m\u001b[0;34m\u001b[0m\u001b[0;34m\u001b[0m\u001b[0m\n\u001b[1;32m    174\u001b[0m         \u001b[0;31m#self.model_output = self.model.model_output # this allows the TreeEnsemble to translate model outputs types by how it loads the model\u001b[0m\u001b[0;34m\u001b[0m\u001b[0;34m\u001b[0m\u001b[0m\n",
            "\u001b[0;32m/usr/local/lib/python3.10/dist-packages/shap/explainers/_tree.py\u001b[0m in \u001b[0;36m__init__\u001b[0;34m(self, model, data, data_missing, model_output)\u001b[0m\n\u001b[1;32m   1202\u001b[0m             \u001b[0mself\u001b[0m\u001b[0;34m.\u001b[0m\u001b[0mbase_offset\u001b[0m \u001b[0;34m=\u001b[0m \u001b[0mmodel\u001b[0m\u001b[0;34m.\u001b[0m\u001b[0minit_params\u001b[0m\u001b[0;34m[\u001b[0m\u001b[0mparam_idx\u001b[0m\u001b[0;34m]\u001b[0m\u001b[0;34m\u001b[0m\u001b[0;34m\u001b[0m\u001b[0m\n\u001b[1;32m   1203\u001b[0m         \u001b[0;32melse\u001b[0m\u001b[0;34m:\u001b[0m\u001b[0;34m\u001b[0m\u001b[0;34m\u001b[0m\u001b[0m\n\u001b[0;32m-> 1204\u001b[0;31m             \u001b[0;32mraise\u001b[0m \u001b[0mInvalidModelError\u001b[0m\u001b[0;34m(\u001b[0m\u001b[0;34m\"Model type not yet supported by TreeExplainer: \"\u001b[0m \u001b[0;34m+\u001b[0m \u001b[0mstr\u001b[0m\u001b[0;34m(\u001b[0m\u001b[0mtype\u001b[0m\u001b[0;34m(\u001b[0m\u001b[0mmodel\u001b[0m\u001b[0;34m)\u001b[0m\u001b[0;34m)\u001b[0m\u001b[0;34m)\u001b[0m\u001b[0;34m\u001b[0m\u001b[0;34m\u001b[0m\u001b[0m\n\u001b[0m\u001b[1;32m   1205\u001b[0m \u001b[0;34m\u001b[0m\u001b[0m\n\u001b[1;32m   1206\u001b[0m         \u001b[0;31m# build a dense numpy version of all the tree objects\u001b[0m\u001b[0;34m\u001b[0m\u001b[0;34m\u001b[0m\u001b[0m\n",
            "\u001b[0;31mInvalidModelError\u001b[0m: Model type not yet supported by TreeExplainer: <class 'sklearn.neural_network._multilayer_perceptron.MLPClassifier'>"
          ]
        }
      ]
    },
    {
      "cell_type": "code",
      "source": [
        "print(\"-SSHAP-\")\n",
        "# SSHAP\n",
        "explainer = shap.explainers.Sampling(model.predict_proba, X_train)\n",
        "shap_values = explainer.shap_values(X_test)\n",
        "temp=pd.DataFrame(shap_values[1], columns=features)\n",
        "samplingSHAP=samplingSHAP.add(temp, fill_value=0)\n",
        "\n",
        "res = dict()\n",
        "for i in list(samplingSHAP.columns):\n",
        "  res[i]=np.mean(np.abs(samplingSHAP[i]))\n",
        "fi_4={k: fi_4.get(k, 0) + res.get(k, 0) for k in set(fi_4)}"
      ],
      "metadata": {
        "colab": {
          "base_uri": "https://localhost:8080/",
          "height": 66,
          "referenced_widgets": [
            "45a8e9c969724ec09a59dfcb7693fa55",
            "9e42082c7f4d433a9488c0c1f6581619",
            "80e8ba3a0c7b4dcd8eaeb3121d3fd6a9",
            "fa59c1d7b36143acb9c5b90c63869b4c",
            "72cb5161ef7e4a6db2a29524367192cd",
            "2f318ec78169430faf297ae1bade6064",
            "3fe9dfd8dc034d76b16ab1473c8cc85e",
            "b32a12ceb3304c3080cd5f741cfa6fbe",
            "7f1e9c47e6d1481d88be72695bcf971e",
            "3478f2ceaf9940a8a1a56eaa60d7d503",
            "19a9caf397274c53bdbad88ec2363f05"
          ]
        },
        "id": "NQ-hIXZ3KcSN",
        "outputId": "b37078d0-8339-4972-8732-7c52ba7dacd5"
      },
      "execution_count": null,
      "outputs": [
        {
          "output_type": "stream",
          "name": "stdout",
          "text": [
            "-SSHAP-\n"
          ]
        },
        {
          "output_type": "display_data",
          "data": {
            "text/plain": [
              "  0%|          | 0/336 [00:00<?, ?it/s]"
            ],
            "application/vnd.jupyter.widget-view+json": {
              "version_major": 2,
              "version_minor": 0,
              "model_id": "45a8e9c969724ec09a59dfcb7693fa55"
            }
          },
          "metadata": {}
        }
      ]
    },
    {
      "cell_type": "code",
      "source": [
        "print(\"-LIME-\")\n",
        "\n",
        "# LIME\n",
        "explainer = lime.lime_tabular.LimeTabularExplainer(X_train.values,mode='classification',feature_names=X_test.columns)\n",
        "\n",
        "all=[]\n",
        "for i in range (len(X_test)):\n",
        "  exp = explainer.explain_instance(X_test.iloc[i], model.predict_proba, num_features=X_test.shape[1])\n",
        "  all.append(sorted(exp.as_map()[1]))\n",
        "\n",
        "\n",
        "all_res=[]\n",
        "for i in range(len(all)):\n",
        "  res = dict()\n",
        "  for j in range(len(all[0])):\n",
        "    res[features[j]] = all[i][j][1]\n",
        "  all_res.append(res)\n",
        "\n",
        "temp=pd.DataFrame(all_res, columns=features)\n",
        "limecontrib=limecontrib.add(temp, fill_value=0)\n",
        "\n",
        "res = dict()\n",
        "for j in list(limecontrib.columns):\n",
        "  res[j]=np.mean(np.abs(limecontrib[j]))\n",
        "fi_5={k: fi_5.get(k, 0) + res.get(k, 0) for k in set(fi_5)}"
      ],
      "metadata": {
        "colab": {
          "base_uri": "https://localhost:8080/"
        },
        "id": "DMlz-NH9KX-i",
        "outputId": "9247f050-5af2-4763-9499-5b235685b780"
      },
      "execution_count": null,
      "outputs": [
        {
          "output_type": "stream",
          "name": "stdout",
          "text": [
            "-LIME-\n"
          ]
        }
      ]
    },
    {
      "cell_type": "code",
      "source": [
        "#error: Wrong model type. Base learner needs to be a DecisionTreeClassifier or DecisionTreeRegressor.\n",
        "\n",
        "\n",
        "# print(\"-TI-\")\n",
        "# # TI\n",
        "# prediction, bias, contributions = ti.predict(model, X_test)\n",
        "\n",
        "# all_res=[]\n",
        "# for i in range(len(contributions)):\n",
        "#   res = dict()\n",
        "#   for j in range(len(features)):\n",
        "#     res[features[j]] = contributions[i][j][1]\n",
        "#   all_res.append(res)\n",
        "\n",
        "# temp=pd.DataFrame(all_res, columns=features)\n",
        "# ticontrib=ticontrib.add(temp, fill_value=0)\n",
        "\n",
        "# res = dict()\n",
        "# for j in list(ticontrib.columns):\n",
        "#   res[j]=np.mean(np.abs(ticontrib[j]))\n",
        "# fi_6={k: fi_6.get(k, 0) + res.get(k, 0) for k in set(fi_6)}"
      ],
      "metadata": {
        "id": "8qTO2b3uLAnX"
      },
      "execution_count": null,
      "outputs": []
    },
    {
      "cell_type": "code",
      "source": [
        "# df.select_dtypes(exclude=int)"
      ],
      "metadata": {
        "colab": {
          "base_uri": "https://localhost:8080/",
          "height": 424
        },
        "id": "h6X4MKbXLHDf",
        "outputId": "faf7af8f-a9df-409f-a064-17d03c1e3837"
      },
      "execution_count": null,
      "outputs": [
        {
          "output_type": "execute_result",
          "data": {
            "text/plain": [
              "     Smokes (years)  Smokes (packs/year)  Hormonal Contraceptives (years)  \\\n",
              "0          0.000000             0.000000                         0.500000   \n",
              "1         22.000000             3.300000                         0.000000   \n",
              "2          0.000000             0.000000                         0.045529   \n",
              "3          0.000000             0.000000                         0.080000   \n",
              "4         34.031351            34.031351                         2.839533   \n",
              "..              ...                  ...                              ...   \n",
              "331        0.000000             0.000000                         9.000000   \n",
              "332       10.000000             1.000000                         0.000000   \n",
              "333        0.000000             0.000000                         0.000000   \n",
              "334        0.000000             0.000000                         2.593075   \n",
              "335        0.000000             0.000000                         2.187766   \n",
              "\n",
              "     IUD (years)  STDs: Time since first diagnosis  \\\n",
              "0       0.000000                               4.0   \n",
              "1       0.000000                               3.0   \n",
              "2       4.552900                               4.0   \n",
              "3       0.000000                               4.0   \n",
              "4       0.320935                               4.0   \n",
              "..           ...                               ...   \n",
              "331     0.000000                               4.0   \n",
              "332     0.000000                               4.0   \n",
              "333     0.000000                               4.0   \n",
              "334     0.000000                               4.0   \n",
              "335     0.000000                               4.0   \n",
              "\n",
              "     STDs: Time since last diagnosis       VAR  \n",
              "0                                3.0 -0.051363  \n",
              "1                                3.0  1.291389  \n",
              "2                                3.0  0.606494  \n",
              "3                                3.0  0.457421  \n",
              "4                                3.0 -1.287778  \n",
              "..                               ...       ...  \n",
              "331                              3.0 -1.422807  \n",
              "332                              3.0  0.509355  \n",
              "333                              3.0 -0.320580  \n",
              "334                              3.0  1.072533  \n",
              "335                              3.0  0.036747  \n",
              "\n",
              "[1677 rows x 7 columns]"
            ],
            "text/html": [
              "\n",
              "  <div id=\"df-b5111ef2-bfdc-41e1-b9fc-ae24e9ac755c\" class=\"colab-df-container\">\n",
              "    <div>\n",
              "<style scoped>\n",
              "    .dataframe tbody tr th:only-of-type {\n",
              "        vertical-align: middle;\n",
              "    }\n",
              "\n",
              "    .dataframe tbody tr th {\n",
              "        vertical-align: top;\n",
              "    }\n",
              "\n",
              "    .dataframe thead th {\n",
              "        text-align: right;\n",
              "    }\n",
              "</style>\n",
              "<table border=\"1\" class=\"dataframe\">\n",
              "  <thead>\n",
              "    <tr style=\"text-align: right;\">\n",
              "      <th></th>\n",
              "      <th>Smokes (years)</th>\n",
              "      <th>Smokes (packs/year)</th>\n",
              "      <th>Hormonal Contraceptives (years)</th>\n",
              "      <th>IUD (years)</th>\n",
              "      <th>STDs: Time since first diagnosis</th>\n",
              "      <th>STDs: Time since last diagnosis</th>\n",
              "      <th>VAR</th>\n",
              "    </tr>\n",
              "  </thead>\n",
              "  <tbody>\n",
              "    <tr>\n",
              "      <th>0</th>\n",
              "      <td>0.000000</td>\n",
              "      <td>0.000000</td>\n",
              "      <td>0.500000</td>\n",
              "      <td>0.000000</td>\n",
              "      <td>4.0</td>\n",
              "      <td>3.0</td>\n",
              "      <td>-0.051363</td>\n",
              "    </tr>\n",
              "    <tr>\n",
              "      <th>1</th>\n",
              "      <td>22.000000</td>\n",
              "      <td>3.300000</td>\n",
              "      <td>0.000000</td>\n",
              "      <td>0.000000</td>\n",
              "      <td>3.0</td>\n",
              "      <td>3.0</td>\n",
              "      <td>1.291389</td>\n",
              "    </tr>\n",
              "    <tr>\n",
              "      <th>2</th>\n",
              "      <td>0.000000</td>\n",
              "      <td>0.000000</td>\n",
              "      <td>0.045529</td>\n",
              "      <td>4.552900</td>\n",
              "      <td>4.0</td>\n",
              "      <td>3.0</td>\n",
              "      <td>0.606494</td>\n",
              "    </tr>\n",
              "    <tr>\n",
              "      <th>3</th>\n",
              "      <td>0.000000</td>\n",
              "      <td>0.000000</td>\n",
              "      <td>0.080000</td>\n",
              "      <td>0.000000</td>\n",
              "      <td>4.0</td>\n",
              "      <td>3.0</td>\n",
              "      <td>0.457421</td>\n",
              "    </tr>\n",
              "    <tr>\n",
              "      <th>4</th>\n",
              "      <td>34.031351</td>\n",
              "      <td>34.031351</td>\n",
              "      <td>2.839533</td>\n",
              "      <td>0.320935</td>\n",
              "      <td>4.0</td>\n",
              "      <td>3.0</td>\n",
              "      <td>-1.287778</td>\n",
              "    </tr>\n",
              "    <tr>\n",
              "      <th>...</th>\n",
              "      <td>...</td>\n",
              "      <td>...</td>\n",
              "      <td>...</td>\n",
              "      <td>...</td>\n",
              "      <td>...</td>\n",
              "      <td>...</td>\n",
              "      <td>...</td>\n",
              "    </tr>\n",
              "    <tr>\n",
              "      <th>331</th>\n",
              "      <td>0.000000</td>\n",
              "      <td>0.000000</td>\n",
              "      <td>9.000000</td>\n",
              "      <td>0.000000</td>\n",
              "      <td>4.0</td>\n",
              "      <td>3.0</td>\n",
              "      <td>-1.422807</td>\n",
              "    </tr>\n",
              "    <tr>\n",
              "      <th>332</th>\n",
              "      <td>10.000000</td>\n",
              "      <td>1.000000</td>\n",
              "      <td>0.000000</td>\n",
              "      <td>0.000000</td>\n",
              "      <td>4.0</td>\n",
              "      <td>3.0</td>\n",
              "      <td>0.509355</td>\n",
              "    </tr>\n",
              "    <tr>\n",
              "      <th>333</th>\n",
              "      <td>0.000000</td>\n",
              "      <td>0.000000</td>\n",
              "      <td>0.000000</td>\n",
              "      <td>0.000000</td>\n",
              "      <td>4.0</td>\n",
              "      <td>3.0</td>\n",
              "      <td>-0.320580</td>\n",
              "    </tr>\n",
              "    <tr>\n",
              "      <th>334</th>\n",
              "      <td>0.000000</td>\n",
              "      <td>0.000000</td>\n",
              "      <td>2.593075</td>\n",
              "      <td>0.000000</td>\n",
              "      <td>4.0</td>\n",
              "      <td>3.0</td>\n",
              "      <td>1.072533</td>\n",
              "    </tr>\n",
              "    <tr>\n",
              "      <th>335</th>\n",
              "      <td>0.000000</td>\n",
              "      <td>0.000000</td>\n",
              "      <td>2.187766</td>\n",
              "      <td>0.000000</td>\n",
              "      <td>4.0</td>\n",
              "      <td>3.0</td>\n",
              "      <td>0.036747</td>\n",
              "    </tr>\n",
              "  </tbody>\n",
              "</table>\n",
              "<p>1677 rows × 7 columns</p>\n",
              "</div>\n",
              "    <div class=\"colab-df-buttons\">\n",
              "\n",
              "  <div class=\"colab-df-container\">\n",
              "    <button class=\"colab-df-convert\" onclick=\"convertToInteractive('df-b5111ef2-bfdc-41e1-b9fc-ae24e9ac755c')\"\n",
              "            title=\"Convert this dataframe to an interactive table.\"\n",
              "            style=\"display:none;\">\n",
              "\n",
              "  <svg xmlns=\"http://www.w3.org/2000/svg\" height=\"24px\" viewBox=\"0 -960 960 960\">\n",
              "    <path d=\"M120-120v-720h720v720H120Zm60-500h600v-160H180v160Zm220 220h160v-160H400v160Zm0 220h160v-160H400v160ZM180-400h160v-160H180v160Zm440 0h160v-160H620v160ZM180-180h160v-160H180v160Zm440 0h160v-160H620v160Z\"/>\n",
              "  </svg>\n",
              "    </button>\n",
              "\n",
              "  <style>\n",
              "    .colab-df-container {\n",
              "      display:flex;\n",
              "      gap: 12px;\n",
              "    }\n",
              "\n",
              "    .colab-df-convert {\n",
              "      background-color: #E8F0FE;\n",
              "      border: none;\n",
              "      border-radius: 50%;\n",
              "      cursor: pointer;\n",
              "      display: none;\n",
              "      fill: #1967D2;\n",
              "      height: 32px;\n",
              "      padding: 0 0 0 0;\n",
              "      width: 32px;\n",
              "    }\n",
              "\n",
              "    .colab-df-convert:hover {\n",
              "      background-color: #E2EBFA;\n",
              "      box-shadow: 0px 1px 2px rgba(60, 64, 67, 0.3), 0px 1px 3px 1px rgba(60, 64, 67, 0.15);\n",
              "      fill: #174EA6;\n",
              "    }\n",
              "\n",
              "    .colab-df-buttons div {\n",
              "      margin-bottom: 4px;\n",
              "    }\n",
              "\n",
              "    [theme=dark] .colab-df-convert {\n",
              "      background-color: #3B4455;\n",
              "      fill: #D2E3FC;\n",
              "    }\n",
              "\n",
              "    [theme=dark] .colab-df-convert:hover {\n",
              "      background-color: #434B5C;\n",
              "      box-shadow: 0px 1px 3px 1px rgba(0, 0, 0, 0.15);\n",
              "      filter: drop-shadow(0px 1px 2px rgba(0, 0, 0, 0.3));\n",
              "      fill: #FFFFFF;\n",
              "    }\n",
              "  </style>\n",
              "\n",
              "    <script>\n",
              "      const buttonEl =\n",
              "        document.querySelector('#df-b5111ef2-bfdc-41e1-b9fc-ae24e9ac755c button.colab-df-convert');\n",
              "      buttonEl.style.display =\n",
              "        google.colab.kernel.accessAllowed ? 'block' : 'none';\n",
              "\n",
              "      async function convertToInteractive(key) {\n",
              "        const element = document.querySelector('#df-b5111ef2-bfdc-41e1-b9fc-ae24e9ac755c');\n",
              "        const dataTable =\n",
              "          await google.colab.kernel.invokeFunction('convertToInteractive',\n",
              "                                                    [key], {});\n",
              "        if (!dataTable) return;\n",
              "\n",
              "        const docLinkHtml = 'Like what you see? Visit the ' +\n",
              "          '<a target=\"_blank\" href=https://colab.research.google.com/notebooks/data_table.ipynb>data table notebook</a>'\n",
              "          + ' to learn more about interactive tables.';\n",
              "        element.innerHTML = '';\n",
              "        dataTable['output_type'] = 'display_data';\n",
              "        await google.colab.output.renderOutput(dataTable, element);\n",
              "        const docLink = document.createElement('div');\n",
              "        docLink.innerHTML = docLinkHtml;\n",
              "        element.appendChild(docLink);\n",
              "      }\n",
              "    </script>\n",
              "  </div>\n",
              "\n",
              "\n",
              "<div id=\"df-937d1f7e-f2a0-4b7b-9809-a623a4a87ed7\">\n",
              "  <button class=\"colab-df-quickchart\" onclick=\"quickchart('df-937d1f7e-f2a0-4b7b-9809-a623a4a87ed7')\"\n",
              "            title=\"Suggest charts\"\n",
              "            style=\"display:none;\">\n",
              "\n",
              "<svg xmlns=\"http://www.w3.org/2000/svg\" height=\"24px\"viewBox=\"0 0 24 24\"\n",
              "     width=\"24px\">\n",
              "    <g>\n",
              "        <path d=\"M19 3H5c-1.1 0-2 .9-2 2v14c0 1.1.9 2 2 2h14c1.1 0 2-.9 2-2V5c0-1.1-.9-2-2-2zM9 17H7v-7h2v7zm4 0h-2V7h2v10zm4 0h-2v-4h2v4z\"/>\n",
              "    </g>\n",
              "</svg>\n",
              "  </button>\n",
              "\n",
              "<style>\n",
              "  .colab-df-quickchart {\n",
              "      --bg-color: #E8F0FE;\n",
              "      --fill-color: #1967D2;\n",
              "      --hover-bg-color: #E2EBFA;\n",
              "      --hover-fill-color: #174EA6;\n",
              "      --disabled-fill-color: #AAA;\n",
              "      --disabled-bg-color: #DDD;\n",
              "  }\n",
              "\n",
              "  [theme=dark] .colab-df-quickchart {\n",
              "      --bg-color: #3B4455;\n",
              "      --fill-color: #D2E3FC;\n",
              "      --hover-bg-color: #434B5C;\n",
              "      --hover-fill-color: #FFFFFF;\n",
              "      --disabled-bg-color: #3B4455;\n",
              "      --disabled-fill-color: #666;\n",
              "  }\n",
              "\n",
              "  .colab-df-quickchart {\n",
              "    background-color: var(--bg-color);\n",
              "    border: none;\n",
              "    border-radius: 50%;\n",
              "    cursor: pointer;\n",
              "    display: none;\n",
              "    fill: var(--fill-color);\n",
              "    height: 32px;\n",
              "    padding: 0;\n",
              "    width: 32px;\n",
              "  }\n",
              "\n",
              "  .colab-df-quickchart:hover {\n",
              "    background-color: var(--hover-bg-color);\n",
              "    box-shadow: 0 1px 2px rgba(60, 64, 67, 0.3), 0 1px 3px 1px rgba(60, 64, 67, 0.15);\n",
              "    fill: var(--button-hover-fill-color);\n",
              "  }\n",
              "\n",
              "  .colab-df-quickchart-complete:disabled,\n",
              "  .colab-df-quickchart-complete:disabled:hover {\n",
              "    background-color: var(--disabled-bg-color);\n",
              "    fill: var(--disabled-fill-color);\n",
              "    box-shadow: none;\n",
              "  }\n",
              "\n",
              "  .colab-df-spinner {\n",
              "    border: 2px solid var(--fill-color);\n",
              "    border-color: transparent;\n",
              "    border-bottom-color: var(--fill-color);\n",
              "    animation:\n",
              "      spin 1s steps(1) infinite;\n",
              "  }\n",
              "\n",
              "  @keyframes spin {\n",
              "    0% {\n",
              "      border-color: transparent;\n",
              "      border-bottom-color: var(--fill-color);\n",
              "      border-left-color: var(--fill-color);\n",
              "    }\n",
              "    20% {\n",
              "      border-color: transparent;\n",
              "      border-left-color: var(--fill-color);\n",
              "      border-top-color: var(--fill-color);\n",
              "    }\n",
              "    30% {\n",
              "      border-color: transparent;\n",
              "      border-left-color: var(--fill-color);\n",
              "      border-top-color: var(--fill-color);\n",
              "      border-right-color: var(--fill-color);\n",
              "    }\n",
              "    40% {\n",
              "      border-color: transparent;\n",
              "      border-right-color: var(--fill-color);\n",
              "      border-top-color: var(--fill-color);\n",
              "    }\n",
              "    60% {\n",
              "      border-color: transparent;\n",
              "      border-right-color: var(--fill-color);\n",
              "    }\n",
              "    80% {\n",
              "      border-color: transparent;\n",
              "      border-right-color: var(--fill-color);\n",
              "      border-bottom-color: var(--fill-color);\n",
              "    }\n",
              "    90% {\n",
              "      border-color: transparent;\n",
              "      border-bottom-color: var(--fill-color);\n",
              "    }\n",
              "  }\n",
              "</style>\n",
              "\n",
              "  <script>\n",
              "    async function quickchart(key) {\n",
              "      const quickchartButtonEl =\n",
              "        document.querySelector('#' + key + ' button');\n",
              "      quickchartButtonEl.disabled = true;  // To prevent multiple clicks.\n",
              "      quickchartButtonEl.classList.add('colab-df-spinner');\n",
              "      try {\n",
              "        const charts = await google.colab.kernel.invokeFunction(\n",
              "            'suggestCharts', [key], {});\n",
              "      } catch (error) {\n",
              "        console.error('Error during call to suggestCharts:', error);\n",
              "      }\n",
              "      quickchartButtonEl.classList.remove('colab-df-spinner');\n",
              "      quickchartButtonEl.classList.add('colab-df-quickchart-complete');\n",
              "    }\n",
              "    (() => {\n",
              "      let quickchartButtonEl =\n",
              "        document.querySelector('#df-937d1f7e-f2a0-4b7b-9809-a623a4a87ed7 button');\n",
              "      quickchartButtonEl.style.display =\n",
              "        google.colab.kernel.accessAllowed ? 'block' : 'none';\n",
              "    })();\n",
              "  </script>\n",
              "</div>\n",
              "    </div>\n",
              "  </div>\n"
            ],
            "application/vnd.google.colaboratory.intrinsic+json": {
              "type": "dataframe",
              "summary": "{\n  \"name\": \"df\",\n  \"rows\": 1677,\n  \"fields\": [\n    {\n      \"column\": \"Smokes (years)\",\n      \"properties\": {\n        \"dtype\": \"number\",\n        \"std\": 4.814367252325737,\n        \"min\": 0.0,\n        \"max\": 37.0,\n        \"num_unique_values\": 131,\n        \"samples\": [\n          9.8274766666121,\n          18.218415988675165,\n          6.0\n        ],\n        \"semantic_type\": \"\",\n        \"description\": \"\"\n      }\n    },\n    {\n      \"column\": \"Smokes (packs/year)\",\n      \"properties\": {\n        \"dtype\": \"number\",\n        \"std\": 3.999709654840571,\n        \"min\": 0.0,\n        \"max\": 37.0,\n        \"num_unique_values\": 163,\n        \"samples\": [\n          27.8995640497732,\n          3.819679288822272,\n          0.0817845471588927\n        ],\n        \"semantic_type\": \"\",\n        \"description\": \"\"\n      }\n    },\n    {\n      \"column\": \"Hormonal Contraceptives (years)\",\n      \"properties\": {\n        \"dtype\": \"number\",\n        \"std\": 3.6720819743783575,\n        \"min\": 0.0,\n        \"max\": 30.0,\n        \"num_unique_values\": 753,\n        \"samples\": [\n          1.8475895645469136,\n          0.3152903378306103,\n          0.8748142077974496\n        ],\n        \"semantic_type\": \"\",\n        \"description\": \"\"\n      }\n    },\n    {\n      \"column\": \"IUD (years)\",\n      \"properties\": {\n        \"dtype\": \"number\",\n        \"std\": 2.195343170509868,\n        \"min\": 0.0,\n        \"max\": 19.0,\n        \"num_unique_values\": 502,\n        \"samples\": [\n          2.3147016342895737,\n          5.93493253839098,\n          6.178822004624519\n        ],\n        \"semantic_type\": \"\",\n        \"description\": \"\"\n      }\n    },\n    {\n      \"column\": \"STDs: Time since first diagnosis\",\n      \"properties\": {\n        \"dtype\": \"number\",\n        \"std\": 1.6611106241448186,\n        \"min\": 1.0,\n        \"max\": 22.0,\n        \"num_unique_values\": 66,\n        \"samples\": [\n          15.0,\n          9.0,\n          4.0\n        ],\n        \"semantic_type\": \"\",\n        \"description\": \"\"\n      }\n    },\n    {\n      \"column\": \"STDs: Time since last diagnosis\",\n      \"properties\": {\n        \"dtype\": \"number\",\n        \"std\": 1.7363662252595957,\n        \"min\": 1.0,\n        \"max\": 22.0,\n        \"num_unique_values\": 66,\n        \"samples\": [\n          15.0,\n          9.0,\n          3.0\n        ],\n        \"semantic_type\": \"\",\n        \"description\": \"\"\n      }\n    },\n    {\n      \"column\": \"VAR\",\n      \"properties\": {\n        \"dtype\": \"number\",\n        \"std\": 1.0189044252395907,\n        \"min\": -3.994875673361272,\n        \"max\": 3.3220014135465865,\n        \"num_unique_values\": 1677,\n        \"samples\": [\n          0.2035141066422146,\n          -0.6154365387084021,\n          1.0969700429780558\n        ],\n        \"semantic_type\": \"\",\n        \"description\": \"\"\n      }\n    }\n  ]\n}"
            }
          },
          "metadata": {},
          "execution_count": 232
        }
      ]
    },
    {
      "cell_type": "code",
      "source": [
        "label = \"Dx:Cancer\""
      ],
      "metadata": {
        "id": "XfsONkcJLMQJ"
      },
      "execution_count": null,
      "outputs": []
    },
    {
      "cell_type": "code",
      "source": [
        "temp1=X_train\n",
        "temp1['Dx:Cancer']=y_train\n",
        "temp2=X_test\n",
        "temp2['Dx:Cancer']=y_test\n",
        "\n",
        "temp3=pd.concat([temp1,temp2])\n",
        "\n",
        "risk_factor_df=temp3"
      ],
      "metadata": {
        "id": "Wd9NQwefLP1_"
      },
      "execution_count": null,
      "outputs": []
    },
    {
      "cell_type": "code",
      "source": [
        "#debugging\n",
        "# print(risk_factor_df.columns==X_test.columns)\n",
        "# print(risk_factor_df.columns)\n",
        "# X_test.columns\n",
        "# print('df dtypes:', risk_factor_df.dtypes)\n",
        "# print('X_test dtypes: ', X_test.dtypes)\n"
      ],
      "metadata": {
        "id": "sH5EQ2fkO_z1"
      },
      "execution_count": null,
      "outputs": []
    },
    {
      "cell_type": "code",
      "source": [
        "print(\"-DICE-\")\n",
        "import dice_ml\n",
        "df=risk_factor_df\n",
        "\n",
        "# print(\"Label (outcome name):\", label)\n",
        "# print(\"Is label in DataFrame columns?\", label in df.columns)\n",
        "\n",
        "\n",
        "# print(df.columns == X_test.columns)\n",
        "cont_features = list(df.columns)\n",
        "cont_features.remove(label)\n",
        "print(cont_features)\n",
        "\n",
        "\n",
        "#modification\n",
        "d = dice_ml.Data(dataframe=df, continuous_features=cont_features, outcome_name=label)\n",
        "m = dice_ml.Model(model=model, backend=\"sklearn\")\n",
        "\n",
        "exp = dice_ml.Dice(d, m, method=\"random\")\n",
        "#modification to remove label\n",
        "# query_instance = X_test\n",
        "query_instance = X_test.drop(columns=[label])\n",
        "e1 = exp.generate_counterfactuals(query_instance, total_CFs=10, desired_range=None,\n",
        "                                  desired_class=\"opposite\",\n",
        "                                  permitted_range=None, features_to_vary=\"all\")\n",
        "\n",
        "imp = exp.local_feature_importance(query_instance, posthoc_sparsity_param=None)\n",
        "dicecontrib=pd.DataFrame.from_dict(imp.local_importance)\n",
        "\n",
        "res = dict()\n",
        "for j in list(dicecontrib.columns):\n",
        "  res[j]=np.mean(np.abs(dicecontrib[j]))\n",
        "fi_7={k: fi_7.get(k, 0) + res.get(k, 0) for k in set(fi_7)}"
      ],
      "metadata": {
        "colab": {
          "base_uri": "https://localhost:8080/"
        },
        "id": "m5XxsIzMLSnh",
        "outputId": "8bbebdca-2a2e-4e05-a287-8d6b27e27342"
      },
      "execution_count": null,
      "outputs": [
        {
          "output_type": "stream",
          "name": "stdout",
          "text": [
            "-DICE-\n",
            "['Age', 'Number of sexual partners', 'First sexual intercourse', 'Num of pregnancies', 'Smokes', 'Smokes (years)', 'Smokes (packs/year)', 'Hormonal Contraceptives', 'Hormonal Contraceptives (years)', 'IUD', 'IUD (years)', 'STDs', 'STDs (number)', 'STDs:condylomatosis', 'STDs:cervical condylomatosis', 'STDs:vaginal condylomatosis', 'STDs:vulvo-perineal condylomatosis', 'STDs:syphilis', 'STDs:pelvic inflammatory disease', 'STDs:genital herpes', 'STDs:molluscum contagiosum', 'STDs:AIDS', 'STDs:HIV', 'STDs:Hepatitis B', 'STDs:HPV', 'STDs: Number of diagnosis', 'STDs: Time since first diagnosis', 'STDs: Time since last diagnosis', 'Dx:CIN', 'Dx:HPV', 'Dx', 'Hinselmann', 'Schiller', 'Citology', 'Biopsy', 'VAR']\n"
          ]
        },
        {
          "output_type": "stream",
          "name": "stderr",
          "text": [
            "100%|██████████| 336/336 [03:16<00:00,  1.71it/s]\n",
            "100%|██████████| 336/336 [01:40<00:00,  3.36it/s]\n"
          ]
        }
      ]
    },
    {
      "cell_type": "markdown",
      "source": [
        "Without random var"
      ],
      "metadata": {
        "id": "w7AoczMJc6pG"
      }
    },
    {
      "cell_type": "code",
      "source": [
        "#DL\n",
        "GloSur.to_csv(\"/content/drive/My Drive/DL4H_Sp24_Final_Project/glosur.csv\", index=False)\n",
        "kernelSHAP.to_csv(\"/content/drive/My Drive/DL4H_Sp24_Final_Project/Kshap.csv\", index=False)\n",
        "#treeSHAP.to_csv(\"/content/drive/My Drive/DL4H_Sp24_Final_Project/Tshap.csv\", index=False)\n",
        "samplingSHAP.to_csv(\"/content/drive/My Drive/DL4H_Sp24_Final_Project/Sshap.csv\", index=False)\n",
        "limecontrib.to_csv(\"/content/drive/My Drive/DL4H_Sp24_Final_Project/lime.csv\", index=False)\n",
        "#ticontrib.to_csv(\"/content/drive/My Drive/DL4H_Sp24_Final_Project/ti.csv\", index=False)\n",
        "dicecontrib.to_csv(\"/content/drive/My Drive/DL4H_Sp24_Final_Project/dice.csv\", index=False)\n"
      ],
      "metadata": {
        "id": "n0sGtALdc0FT"
      },
      "execution_count": null,
      "outputs": []
    },
    {
      "cell_type": "code",
      "source": [
        "dics = []\n",
        "\n",
        "fi_1['Method'] = 'Surrogates'\n",
        "dics.append(fi_1)\n",
        "fi_2['Method'] = 'KSHAP'\n",
        "dics.append(fi_2)\n",
        "# fi_3['Method'] = 'TSHAP'\n",
        "# dics.append(fi_3)\n",
        "fi_4['Method'] = 'SSHAP'\n",
        "dics.append(fi_4)\n",
        "fi_5['Method'] = 'LIME'\n",
        "dics.append(fi_5)\n",
        "# fi_6['Method'] = 'TI'\n",
        "# dics.append(fi_6)\n",
        "fi_7['Method'] = 'DICE'\n",
        "dics.append(fi_7)\n",
        "\n",
        "\n",
        "dics = pd.DataFrame(dics)\n",
        "methods=dics['Method']\n",
        "dics['Method']=methods\n",
        "dics.to_csv(\"/content/drive/My Drive/DL4H_Sp24_Final_Project/toutfi.csv\", index=False)"
      ],
      "metadata": {
        "id": "WaBUjx9pc5rE"
      },
      "execution_count": null,
      "outputs": []
    },
    {
      "cell_type": "code",
      "source": [
        "#RF\n",
        "GloSur.to_csv(\"/content/drive/My Drive/DL4H_Sp24_Final_Project/glosur.csv\", index=False)\n",
        "kernelSHAP.to_csv(\"/content/drive/My Drive/DL4H_Sp24_Final_Project/Kshap.csv\", index=False)\n",
        "treeSHAP.to_csv(\"/content/drive/My Drive/DL4H_Sp24_Final_Project/Tshap.csv\", index=False)\n",
        "samplingSHAP.to_csv(\"/content/drive/My Drive/DL4H_Sp24_Final_Project/Sshap.csv\", index=False)\n",
        "limecontrib.to_csv(\"/content/drive/My Drive/DL4H_Sp24_Final_Project/lime.csv\", index=False)\n",
        "ticontrib.to_csv(\"/content/drive/My Drive/DL4H_Sp24_Final_Project/ti.csv\", index=False)\n",
        "dicecontrib.to_csv(\"/content/drive/My Drive/DL4H_Sp24_Final_Project/dice.csv\", index=False)"
      ],
      "metadata": {
        "id": "K6ZaVq0qdiVJ"
      },
      "execution_count": null,
      "outputs": []
    },
    {
      "cell_type": "code",
      "source": [
        "dics = []\n",
        "\n",
        "fi_1['Method'] = 'Surrogates'\n",
        "dics.append(fi_1)\n",
        "fi_2['Method'] = 'KSHAP'\n",
        "dics.append(fi_2)\n",
        "fi_3['Method'] = 'TSHAP'\n",
        "dics.append(fi_3)\n",
        "fi_4['Method'] = 'SSHAP'\n",
        "dics.append(fi_4)\n",
        "fi_5['Method'] = 'LIME'\n",
        "dics.append(fi_5)\n",
        "fi_6['Method'] = 'TI'\n",
        "dics.append(fi_6)\n",
        "fi_7['Method'] = 'DICE'\n",
        "dics.append(fi_7)\n",
        "\n",
        "\n",
        "dics = pd.DataFrame(dics)\n",
        "methods=dics['Method']\n",
        "dics['Method']=methods\n",
        "dics.to_csv(\"/content/drive/My Drive/DL4H_Sp24_Final_Project/toutfi.csv\", index=False)\n"
      ],
      "metadata": {
        "id": "-_UkeCuMduJq"
      },
      "execution_count": null,
      "outputs": []
    },
    {
      "cell_type": "markdown",
      "source": [
        "With random var"
      ],
      "metadata": {
        "id": "idhmtTLod7YI"
      }
    },
    {
      "cell_type": "code",
      "source": [
        "#all variable\n",
        "GloSur.to_csv(\"/content/drive/My Drive/DL4H_Sp24_Final_Project/Aglosur.csv\", index=False)\n",
        "kernelSHAP.to_csv(\"/content/drive/My Drive/DL4H_Sp24_Final_Project/AKshap.csv\", index=False)\n",
        "treeSHAP.to_csv(\"/content/drive/My Drive/DL4H_Sp24_Final_Project/ATshap.csv\", index=False)\n",
        "samplingSHAP.to_csv(\"/content/drive/My Drive/DL4H_Sp24_Final_Project/ASshap.csv\", index=False)\n",
        "limecontrib.to_csv(\"/content/drive/My Drive/DL4H_Sp24_Final_Project/Alime.csv\", index=False)\n",
        "ticontrib.to_csv(\"/content/drive/My Drive/DL4H_Sp24_Final_Project/Ati.csv\", index=False)\n",
        "dicecontrib.to_csv(\"/content/drive/My Drive/DL4H_Sp24_Final_Project/Adice.csv\", index=False)"
      ],
      "metadata": {
        "id": "jT2zCiY1d2yI"
      },
      "execution_count": null,
      "outputs": []
    },
    {
      "cell_type": "code",
      "source": [
        "\n",
        "dics = []\n",
        "\n",
        "fi_1['Method'] = 'Surrogates'\n",
        "dics.append(fi_1)\n",
        "fi_2['Method'] = 'KSHAP'\n",
        "dics.append(fi_2)\n",
        "fi_3['Method'] = 'TSHAP'\n",
        "dics.append(fi_3)\n",
        "fi_4['Method'] = 'SSHAP'\n",
        "dics.append(fi_4)\n",
        "fi_5['Method'] = 'LIME'\n",
        "dics.append(fi_5)\n",
        "fi_6['Method'] = 'TI'\n",
        "dics.append(fi_6)\n",
        "fi_7['Method'] = 'DICE'\n",
        "dics.append(fi_7)\n",
        "\n",
        "\n",
        "dics = pd.DataFrame(dics)\n",
        "methods=dics['Method']\n",
        "dics['Method']=methods\n",
        "dics.to_csv(\"/content/drive/My Drive/DL4H_Sp24_Final_Project/Atoutfi.csv\", index=False)"
      ],
      "metadata": {
        "id": "dDZPZrbreJyZ"
      },
      "execution_count": null,
      "outputs": []
    },
    {
      "cell_type": "code",
      "source": [
        "#binary\n",
        "GloSur.to_csv(\"/content/drive/My Drive/DL4H_Sp24_Final_Project/Bglosur.csv\", index=False)\n",
        "kernelSHAP.to_csv(\"/content/drive/My Drive/DL4H_Sp24_Final_Project/BKshap.csv\", index=False)\n",
        "treeSHAP.to_csv(\"/content/drive/My Drive/DL4H_Sp24_Final_Project/BTshap.csv\", index=False)\n",
        "samplingSHAP.to_csv(\"/content/drive/My Drive/DL4H_Sp24_Final_Project/BSshap.csv\", index=False)\n",
        "limecontrib.to_csv(\"/content/drive/My Drive/DL4H_Sp24_Final_Project/Blime.csv\", index=False)\n",
        "ticontrib.to_csv(\"/content/drive/My Drive/DL4H_Sp24_Final_Project/Bti.csv\", index=False)\n",
        "dicecontrib.to_csv(\"/content/drive/My Drive/DL4H_Sp24_Final_Project/Bdice.csv\", index=False)"
      ],
      "metadata": {
        "id": "L2D2Qr2tePZt"
      },
      "execution_count": null,
      "outputs": []
    },
    {
      "cell_type": "code",
      "source": [
        "dics = []\n",
        "\n",
        "fi_1['Method'] = 'Surrogates'\n",
        "dics.append(fi_1)\n",
        "fi_2['Method'] = 'KSHAP'\n",
        "dics.append(fi_2)\n",
        "fi_3['Method'] = 'TSHAP'\n",
        "dics.append(fi_3)\n",
        "fi_4['Method'] = 'SSHAP'\n",
        "dics.append(fi_4)\n",
        "fi_5['Method'] = 'LIME'\n",
        "dics.append(fi_5)\n",
        "fi_6['Method'] = 'TI'\n",
        "dics.append(fi_6)\n",
        "fi_7['Method'] = 'DICE'\n",
        "dics.append(fi_7)\n",
        "\n",
        "\n",
        "dics = pd.DataFrame(dics)\n",
        "methods=dics['Method']\n",
        "dics['Method']=methods\n",
        "dics.to_csv(\"/content/drive/My Drive/DL4H_Sp24_Final_Project/Btoutfi.csv\", index=False)"
      ],
      "metadata": {
        "id": "gLFWDiLBeTT1"
      },
      "execution_count": null,
      "outputs": []
    },
    {
      "cell_type": "code",
      "source": [
        "#cont\n",
        "GloSur.to_csv(\"/content/drive/My Drive/DL4H_Sp24_Final_Project/Cglosur.csv\", index=False)\n",
        "kernelSHAP.to_csv(\"/content/drive/My Drive/DL4H_Sp24_Final_Project/CKshap.csv\", index=False)\n",
        "treeSHAP.to_csv(\"/content/drive/My Drive/DL4H_Sp24_Final_Project/CTshap.csv\", index=False)\n",
        "samplingSHAP.to_csv(\"/content/drive/My Drive/DL4H_Sp24_Final_Project/CSshap.csv\", index=False)\n",
        "limecontrib.to_csv(\"/content/drive/My Drive/DL4H_Sp24_Final_Project/Clime.csv\", index=False)\n",
        "ticontrib.to_csv(\"/content/drive/My Drive/DL4H_Sp24_Final_Project/Cti.csv\", index=False)\n",
        "dicecontrib.to_csv(\"/content/drive/My Drive/DL4H_Sp24_Final_Project/Cdice.csv\", index=False)\n",
        "\n"
      ],
      "metadata": {
        "id": "Q21G4VhlehjA"
      },
      "execution_count": null,
      "outputs": []
    },
    {
      "cell_type": "code",
      "source": [
        "\n",
        "dics = []\n",
        "\n",
        "fi_1['Method'] = 'Surrogates'\n",
        "dics.append(fi_1)\n",
        "fi_2['Method'] = 'KSHAP'\n",
        "dics.append(fi_2)\n",
        "fi_3['Method'] = 'TSHAP'\n",
        "dics.append(fi_3)\n",
        "fi_4['Method'] = 'SSHAP'\n",
        "dics.append(fi_4)\n",
        "fi_5['Method'] = 'LIME'\n",
        "dics.append(fi_5)\n",
        "fi_6['Method'] = 'TI'\n",
        "dics.append(fi_6)\n",
        "fi_7['Method'] = 'DICE'\n",
        "dics.append(fi_7)\n",
        "\n",
        "\n",
        "dics = pd.DataFrame(dics)\n",
        "methods=dics['Method']\n",
        "dics['Method']=methods\n",
        "dics.to_csv(\"/content/drive/My Drive/DL4H_Sp24_Final_Project/Ctoutfi.csv\", index=False)"
      ],
      "metadata": {
        "id": "_chpm1WcemzK"
      },
      "execution_count": null,
      "outputs": []
    },
    {
      "cell_type": "markdown",
      "source": [
        "# Evaluation"
      ],
      "metadata": {
        "id": "5wk6KP_Ue3pP"
      }
    },
    {
      "cell_type": "code",
      "source": [
        "#get explanations\n",
        "\n",
        "instance=291"
      ],
      "metadata": {
        "id": "wr30gCwHe5ly"
      },
      "execution_count": null,
      "outputs": []
    },
    {
      "cell_type": "markdown",
      "source": [
        "without random var"
      ],
      "metadata": {
        "id": "nFZ-F813fHKY"
      }
    },
    {
      "cell_type": "code",
      "source": [
        "#DL\n",
        "gscontrib = pd.read_csv('/content/drive/My Drive/DL4H_Sp24_Final_Project/glosur.csv')\n",
        "kercontrib = pd.read_csv('/content/drive/My Drive/DL4H_Sp24_Final_Project/Kshap.csv')\n",
        "samcontrib = pd.read_csv('/content/drive/My Drive/DL4H_Sp24_Final_Project/Sshap.csv')\n",
        "# trecontrib = pd.read_csv('/content/drive/My Drive/DL4H_Sp24_Final_Project/Tshap.csv')\n",
        "limecontrib = pd.read_csv('/content/drive/My Drive/DL4H_Sp24_Final_Project/lime.csv')\n",
        "# ticontrib = pd.read_csv('/content/drive/My Drive/DL4H_Sp24_Final_Project/ti.csv')\n",
        "dicecontrib = pd.read_csv('/content/drive/My Drive/DL4H_Sp24_Final_Project/dice.csv')\n",
        "all_fi = pd.read_csv('/content/drive/My Drive/DL4H_Sp24_Final_Project/toutfi.csv')"
      ],
      "metadata": {
        "id": "ce5tbqllfadG"
      },
      "execution_count": null,
      "outputs": []
    },
    {
      "cell_type": "code",
      "source": [
        "#RF\n",
        "gscontrib=pd.read_csv('/content/drive/My Drive/DL4H_Sp24_Final_Project/glosur.csv')\n",
        "kercontrib=pd.read_csv('/content/drive/My Drive/DL4H_Sp24_Final_Project/Kshap.csv')\n",
        "samcontrib=pd.read_csv('/content/drive/My Drive/DL4H_Sp24_Final_Project/Sshap.csv')\n",
        "trecontrib=pd.read_csv('/content/drive/My Drive/DL4H_Sp24_Final_Project/Tshap.csv')\n",
        "limecontrib=pd.read_csv('/content/drive/My Drive/DL4H_Sp24_Final_Project/lime.csv')\n",
        "ticontrib=pd.read_csv('/content/drive/My Drive/DL4H_Sp24_Final_Project/ti.csv')\n",
        "dicecontrib=pd.read_csv('/content/drive/My Drive/DL4H_Sp24_Final_Project/dice.csv')\n",
        "all_fi=pd.read_csv('/content/drive/My Drive/DL4H_Sp24_Final_Project/toutfi.csv')"
      ],
      "metadata": {
        "id": "ZafOyJZAfek8"
      },
      "execution_count": null,
      "outputs": []
    },
    {
      "cell_type": "markdown",
      "source": [
        "With random var"
      ],
      "metadata": {
        "id": "uE4NDwmGflbz"
      }
    },
    {
      "cell_type": "code",
      "source": [
        "#all var\n",
        "gscontrib = pd.read_csv('/content/drive/My Drive/DL4H_Sp24_Final_Project/Aglosur.csv')\n",
        "kercontrib = pd.read_csv('/content/drive/My Drive/DL4H_Sp24_Final_Project/AKshap.csv')\n",
        "samcontrib = pd.read_csv('/content/drive/My Drive/DL4H_Sp24_Final_Project/ASshap.csv')\n",
        "trecontrib = pd.read_csv('/content/drive/My Drive/DL4H_Sp24_Final_Project/ATshap.csv')\n",
        "limecontrib = pd.read_csv('/content/drive/My Drive/DL4H_Sp24_Final_Project/Alime.csv')\n",
        "ticontrib = pd.read_csv('/content/drive/My Drive/DL4H_Sp24_Final_Project/Ati.csv')\n",
        "dicecontrib = pd.read_csv('/content/drive/My Drive/DL4H_Sp24_Final_Project/Adice.csv')\n",
        "all_fi = pd.read_csv('/content/drive/My Drive/DL4H_Sp24_Final_Project/Atoutfi.csv')"
      ],
      "metadata": {
        "id": "2-YXsNUDfrB0"
      },
      "execution_count": null,
      "outputs": []
    },
    {
      "cell_type": "code",
      "source": [
        "#VAR continue\n",
        "gscontrib = pd.read_csv('/content/drive/My Drive/DL4H_Sp24_Final_Project/Cglosur.csv')\n",
        "kercontrib = pd.read_csv('/content/drive/My Drive/DL4H_Sp24_Final_Project/CKshap.csv')\n",
        "samcontrib = pd.read_csv('/content/drive/My Drive/DL4H_Sp24_Final_Project/CSshap.csv')\n",
        "trecontrib = pd.read_csv('/content/drive/My Drive/DL4H_Sp24_Final_Project/CTshap.csv')\n",
        "limecontrib = pd.read_csv('/content/drive/My Drive/DL4H_Sp24_Final_Project/Clime.csv')\n",
        "ticontrib = pd.read_csv('/content/drive/My Drive/DL4H_Sp24_Final_Project/Cti.csv')\n",
        "dicecontrib = pd.read_csv('/content/drive/My Drive/DL4H_Sp24_Final_Project/Cdice.csv')\n",
        "all_fi = pd.read_csv('/content/drive/My Drive/DL4H_Sp24_Final_Project/Ctoutfi.csv')\n"
      ],
      "metadata": {
        "id": "Z-fH3X9Vh981"
      },
      "execution_count": null,
      "outputs": []
    },
    {
      "cell_type": "code",
      "source": [
        "#VAR binary\n",
        "gscontrib = pd.read_csv('/content/drive/My Drive/DL4H_Sp24_Final_Project/Bglosur.csv')\n",
        "kercontrib = pd.read_csv('/content/drive/My Drive/DL4H_Sp24_Final_Project/BKshap.csv')\n",
        "samcontrib = pd.read_csv('/content/drive/My Drive/DL4H_Sp24_Final_Project/BSshap.csv')\n",
        "trecontrib = pd.read_csv('/content/drive/My Drive/DL4H_Sp24_Final_Project/BTshap.csv')\n",
        "limecontrib = pd.read_csv('/content/drive/My Drive/DL4H_Sp24_Final_Project/Blime.csv')\n",
        "ticontrib = pd.read_csv('/content/drive/My Drive/DL4H_Sp24_Final_Project/Bti.csv')\n",
        "dicecontrib = pd.read_csv('/content/drive/My Drive/DL4H_Sp24_Final_Project/Bdice.csv')\n",
        "all_fi = pd.read_csv('/content/drive/My Drive/DL4H_Sp24_Final_Project/Btoutfi.csv')"
      ],
      "metadata": {
        "id": "cJv9cLgXiDp7"
      },
      "execution_count": null,
      "outputs": []
    },
    {
      "cell_type": "code",
      "source": [
        "\n",
        "# res = dict()\n",
        "# for i in list(kercontrib.columns):\n",
        "#   res[i]=np.mean(np.abs(kercontrib[i]))\n",
        "# fi_2={k: fi_2.get(k, 0) + res.get(k, 0) for k in set(fi_2)}\n",
        "# fi_2['Method'] = 'KSHAP'\n",
        "# all_fi.loc[1]=fi_2\n",
        "# all_fi.loc[1]=fi_2\n",
        "# all_fi.to_csv(\"/content/drive/My Drive/dataXAI/cancer/Btoutfi.csv\", index=False)"
      ],
      "metadata": {
        "id": "QePYu5eGl-ih"
      },
      "execution_count": null,
      "outputs": []
    },
    {
      "cell_type": "code",
      "source": [
        "#TOOLS\n",
        "all_fi.fillna(0, inplace=True)\n",
        "all_fi.iloc[:,:-1]=np.abs(all_fi.iloc[:,:-1])\n",
        "all_fi.reset_index(drop=True, inplace=True)\n",
        "label=\"Dx:Cancer\"\n",
        "methods=all_fi['Method'].to_list()\n",
        "weights=[gscontrib, kercontrib, samcontrib, limecontrib, dicecontrib]\n",
        "methods=all_fi['Method'].to_list()\n",
        "weights=[gscontrib, kercontrib, trecontrib, samcontrib, limecontrib, ticontrib, dicecontrib]"
      ],
      "metadata": {
        "id": "s5eqEx3tmIwl"
      },
      "execution_count": null,
      "outputs": []
    },
    {
      "cell_type": "code",
      "source": [
        "#Normalize\n",
        "gscontrib_norm=gscontrib.div(gscontrib.sum(axis=1), axis=0)\n",
        "kercontrib_norm=kercontrib.div(kercontrib.sum(axis=1), axis=0)\n",
        "samcontrib_norm=samcontrib.div(samcontrib.sum(axis=1), axis=0)\n",
        "trecontrib_norm=trecontrib.div(trecontrib.sum(axis=1), axis=0)\n",
        "limecontrib_norm=limecontrib.div(limecontrib.sum(axis=1), axis=0)\n",
        "ticontrib_norm=ticontrib.div(ticontrib.sum(axis=1), axis=0)\n",
        "dicecontrib_norm=dicecontrib.div(dicecontrib.sum(axis=1), axis=0)"
      ],
      "metadata": {
        "id": "gfSes7lemUsm"
      },
      "execution_count": null,
      "outputs": []
    },
    {
      "cell_type": "code",
      "source": [
        "#One Instance\n",
        "risk_factor_df.describe().iloc[1]"
      ],
      "metadata": {
        "colab": {
          "base_uri": "https://localhost:8080/"
        },
        "id": "hNWdznDxmYvD",
        "outputId": "0955ecf2-f32a-46ed-9b0a-053d6ac15e91"
      },
      "execution_count": null,
      "outputs": [
        {
          "output_type": "execute_result",
          "data": {
            "text/plain": [
              "Age                                   29.375075\n",
              "Number of sexual partners              2.555158\n",
              "First sexual intercourse              17.480024\n",
              "Num of pregnancies                     2.267740\n",
              "Smokes                                 0.077519\n",
              "Smokes (years)                         1.362854\n",
              "Smokes (packs/year)                    0.796284\n",
              "Hormonal Contraceptives                0.586166\n",
              "Hormonal Contraceptives (years)        2.368868\n",
              "IUD                                    0.129398\n",
              "IUD (years)                            1.147927\n",
              "STDs                                   0.047108\n",
              "STDs (number)                          0.079308\n",
              "STDs:condylomatosis                    0.026237\n",
              "STDs:cervical condylomatosis           0.000000\n",
              "STDs:vaginal condylomatosis            0.002385\n",
              "STDs:vulvo-perineal condylomatosis     0.025641\n",
              "STDs:syphilis                          0.010733\n",
              "STDs:pelvic inflammatory disease       0.000596\n",
              "STDs:genital herpes                    0.000596\n",
              "STDs:molluscum contagiosum             0.000596\n",
              "STDs:AIDS                              0.000000\n",
              "STDs:HIV                               0.010733\n",
              "STDs:Hepatitis B                       0.000596\n",
              "STDs:HPV                               0.001193\n",
              "STDs: Number of diagnosis              0.044723\n",
              "STDs: Time since first diagnosis       4.245497\n",
              "STDs: Time since last diagnosis        3.287024\n",
              "Dx:CIN                                 0.005367\n",
              "Dx:HPV                                 0.412045\n",
              "Dx                                     0.388790\n",
              "Hinselmann                             0.030411\n",
              "Schiller                               0.115683\n",
              "Citology                               0.067382\n",
              "Biopsy                                 0.085868\n",
              "VAR                                   -0.002229\n",
              "Dx:Cancer                              0.499106\n",
              "Name: mean, dtype: float64"
            ]
          },
          "metadata": {},
          "execution_count": 306
        }
      ]
    },
    {
      "cell_type": "code",
      "source": [
        "xx=risk_factor_df.describe().iloc[1]"
      ],
      "metadata": {
        "id": "o_nf7Sr7mch8"
      },
      "execution_count": null,
      "outputs": []
    },
    {
      "cell_type": "code",
      "source": [
        "instance=3"
      ],
      "metadata": {
        "id": "vMl9BoEomfCg"
      },
      "execution_count": null,
      "outputs": []
    },
    {
      "cell_type": "code",
      "source": [
        "xx=X_test.iloc[instance]\n",
        "idx=list(xx.to_numpy().nonzero()[0])\n",
        "xx=xx.to_frame()\n",
        "xxx=xx.T.columns\n",
        "new=pd.DataFrame()\n",
        "for i in range(len(xxx)):\n",
        "  if i in idx:\n",
        "     new[xxx[i]]=xx.T[xxx[i]]\n",
        "\n",
        "new.T.round(2)"
      ],
      "metadata": {
        "colab": {
          "base_uri": "https://localhost:8080/",
          "height": 332
        },
        "id": "eoCnojoQmhaq",
        "outputId": "aa68dbe7-bd1c-4adb-d8a8-d9cb5b0ce213"
      },
      "execution_count": null,
      "outputs": [
        {
          "output_type": "execute_result",
          "data": {
            "text/plain": [
              "                                      3\n",
              "Age                               27.00\n",
              "Number of sexual partners          2.00\n",
              "First sexual intercourse          19.00\n",
              "Num of pregnancies                 2.00\n",
              "Hormonal Contraceptives            1.00\n",
              "Hormonal Contraceptives (years)    7.00\n",
              "STDs: Time since first diagnosis   4.00\n",
              "STDs: Time since last diagnosis    3.00\n",
              "VAR                                2.09"
            ],
            "text/html": [
              "\n",
              "  <div id=\"df-2c8c6f4c-95d2-486b-8a09-1d0a4be67e76\" class=\"colab-df-container\">\n",
              "    <div>\n",
              "<style scoped>\n",
              "    .dataframe tbody tr th:only-of-type {\n",
              "        vertical-align: middle;\n",
              "    }\n",
              "\n",
              "    .dataframe tbody tr th {\n",
              "        vertical-align: top;\n",
              "    }\n",
              "\n",
              "    .dataframe thead th {\n",
              "        text-align: right;\n",
              "    }\n",
              "</style>\n",
              "<table border=\"1\" class=\"dataframe\">\n",
              "  <thead>\n",
              "    <tr style=\"text-align: right;\">\n",
              "      <th></th>\n",
              "      <th>3</th>\n",
              "    </tr>\n",
              "  </thead>\n",
              "  <tbody>\n",
              "    <tr>\n",
              "      <th>Age</th>\n",
              "      <td>27.00</td>\n",
              "    </tr>\n",
              "    <tr>\n",
              "      <th>Number of sexual partners</th>\n",
              "      <td>2.00</td>\n",
              "    </tr>\n",
              "    <tr>\n",
              "      <th>First sexual intercourse</th>\n",
              "      <td>19.00</td>\n",
              "    </tr>\n",
              "    <tr>\n",
              "      <th>Num of pregnancies</th>\n",
              "      <td>2.00</td>\n",
              "    </tr>\n",
              "    <tr>\n",
              "      <th>Hormonal Contraceptives</th>\n",
              "      <td>1.00</td>\n",
              "    </tr>\n",
              "    <tr>\n",
              "      <th>Hormonal Contraceptives (years)</th>\n",
              "      <td>7.00</td>\n",
              "    </tr>\n",
              "    <tr>\n",
              "      <th>STDs: Time since first diagnosis</th>\n",
              "      <td>4.00</td>\n",
              "    </tr>\n",
              "    <tr>\n",
              "      <th>STDs: Time since last diagnosis</th>\n",
              "      <td>3.00</td>\n",
              "    </tr>\n",
              "    <tr>\n",
              "      <th>VAR</th>\n",
              "      <td>2.09</td>\n",
              "    </tr>\n",
              "  </tbody>\n",
              "</table>\n",
              "</div>\n",
              "    <div class=\"colab-df-buttons\">\n",
              "\n",
              "  <div class=\"colab-df-container\">\n",
              "    <button class=\"colab-df-convert\" onclick=\"convertToInteractive('df-2c8c6f4c-95d2-486b-8a09-1d0a4be67e76')\"\n",
              "            title=\"Convert this dataframe to an interactive table.\"\n",
              "            style=\"display:none;\">\n",
              "\n",
              "  <svg xmlns=\"http://www.w3.org/2000/svg\" height=\"24px\" viewBox=\"0 -960 960 960\">\n",
              "    <path d=\"M120-120v-720h720v720H120Zm60-500h600v-160H180v160Zm220 220h160v-160H400v160Zm0 220h160v-160H400v160ZM180-400h160v-160H180v160Zm440 0h160v-160H620v160ZM180-180h160v-160H180v160Zm440 0h160v-160H620v160Z\"/>\n",
              "  </svg>\n",
              "    </button>\n",
              "\n",
              "  <style>\n",
              "    .colab-df-container {\n",
              "      display:flex;\n",
              "      gap: 12px;\n",
              "    }\n",
              "\n",
              "    .colab-df-convert {\n",
              "      background-color: #E8F0FE;\n",
              "      border: none;\n",
              "      border-radius: 50%;\n",
              "      cursor: pointer;\n",
              "      display: none;\n",
              "      fill: #1967D2;\n",
              "      height: 32px;\n",
              "      padding: 0 0 0 0;\n",
              "      width: 32px;\n",
              "    }\n",
              "\n",
              "    .colab-df-convert:hover {\n",
              "      background-color: #E2EBFA;\n",
              "      box-shadow: 0px 1px 2px rgba(60, 64, 67, 0.3), 0px 1px 3px 1px rgba(60, 64, 67, 0.15);\n",
              "      fill: #174EA6;\n",
              "    }\n",
              "\n",
              "    .colab-df-buttons div {\n",
              "      margin-bottom: 4px;\n",
              "    }\n",
              "\n",
              "    [theme=dark] .colab-df-convert {\n",
              "      background-color: #3B4455;\n",
              "      fill: #D2E3FC;\n",
              "    }\n",
              "\n",
              "    [theme=dark] .colab-df-convert:hover {\n",
              "      background-color: #434B5C;\n",
              "      box-shadow: 0px 1px 3px 1px rgba(0, 0, 0, 0.15);\n",
              "      filter: drop-shadow(0px 1px 2px rgba(0, 0, 0, 0.3));\n",
              "      fill: #FFFFFF;\n",
              "    }\n",
              "  </style>\n",
              "\n",
              "    <script>\n",
              "      const buttonEl =\n",
              "        document.querySelector('#df-2c8c6f4c-95d2-486b-8a09-1d0a4be67e76 button.colab-df-convert');\n",
              "      buttonEl.style.display =\n",
              "        google.colab.kernel.accessAllowed ? 'block' : 'none';\n",
              "\n",
              "      async function convertToInteractive(key) {\n",
              "        const element = document.querySelector('#df-2c8c6f4c-95d2-486b-8a09-1d0a4be67e76');\n",
              "        const dataTable =\n",
              "          await google.colab.kernel.invokeFunction('convertToInteractive',\n",
              "                                                    [key], {});\n",
              "        if (!dataTable) return;\n",
              "\n",
              "        const docLinkHtml = 'Like what you see? Visit the ' +\n",
              "          '<a target=\"_blank\" href=https://colab.research.google.com/notebooks/data_table.ipynb>data table notebook</a>'\n",
              "          + ' to learn more about interactive tables.';\n",
              "        element.innerHTML = '';\n",
              "        dataTable['output_type'] = 'display_data';\n",
              "        await google.colab.output.renderOutput(dataTable, element);\n",
              "        const docLink = document.createElement('div');\n",
              "        docLink.innerHTML = docLinkHtml;\n",
              "        element.appendChild(docLink);\n",
              "      }\n",
              "    </script>\n",
              "  </div>\n",
              "\n",
              "\n",
              "<div id=\"df-059c530d-59c2-4aeb-bad6-3340b20a10b9\">\n",
              "  <button class=\"colab-df-quickchart\" onclick=\"quickchart('df-059c530d-59c2-4aeb-bad6-3340b20a10b9')\"\n",
              "            title=\"Suggest charts\"\n",
              "            style=\"display:none;\">\n",
              "\n",
              "<svg xmlns=\"http://www.w3.org/2000/svg\" height=\"24px\"viewBox=\"0 0 24 24\"\n",
              "     width=\"24px\">\n",
              "    <g>\n",
              "        <path d=\"M19 3H5c-1.1 0-2 .9-2 2v14c0 1.1.9 2 2 2h14c1.1 0 2-.9 2-2V5c0-1.1-.9-2-2-2zM9 17H7v-7h2v7zm4 0h-2V7h2v10zm4 0h-2v-4h2v4z\"/>\n",
              "    </g>\n",
              "</svg>\n",
              "  </button>\n",
              "\n",
              "<style>\n",
              "  .colab-df-quickchart {\n",
              "      --bg-color: #E8F0FE;\n",
              "      --fill-color: #1967D2;\n",
              "      --hover-bg-color: #E2EBFA;\n",
              "      --hover-fill-color: #174EA6;\n",
              "      --disabled-fill-color: #AAA;\n",
              "      --disabled-bg-color: #DDD;\n",
              "  }\n",
              "\n",
              "  [theme=dark] .colab-df-quickchart {\n",
              "      --bg-color: #3B4455;\n",
              "      --fill-color: #D2E3FC;\n",
              "      --hover-bg-color: #434B5C;\n",
              "      --hover-fill-color: #FFFFFF;\n",
              "      --disabled-bg-color: #3B4455;\n",
              "      --disabled-fill-color: #666;\n",
              "  }\n",
              "\n",
              "  .colab-df-quickchart {\n",
              "    background-color: var(--bg-color);\n",
              "    border: none;\n",
              "    border-radius: 50%;\n",
              "    cursor: pointer;\n",
              "    display: none;\n",
              "    fill: var(--fill-color);\n",
              "    height: 32px;\n",
              "    padding: 0;\n",
              "    width: 32px;\n",
              "  }\n",
              "\n",
              "  .colab-df-quickchart:hover {\n",
              "    background-color: var(--hover-bg-color);\n",
              "    box-shadow: 0 1px 2px rgba(60, 64, 67, 0.3), 0 1px 3px 1px rgba(60, 64, 67, 0.15);\n",
              "    fill: var(--button-hover-fill-color);\n",
              "  }\n",
              "\n",
              "  .colab-df-quickchart-complete:disabled,\n",
              "  .colab-df-quickchart-complete:disabled:hover {\n",
              "    background-color: var(--disabled-bg-color);\n",
              "    fill: var(--disabled-fill-color);\n",
              "    box-shadow: none;\n",
              "  }\n",
              "\n",
              "  .colab-df-spinner {\n",
              "    border: 2px solid var(--fill-color);\n",
              "    border-color: transparent;\n",
              "    border-bottom-color: var(--fill-color);\n",
              "    animation:\n",
              "      spin 1s steps(1) infinite;\n",
              "  }\n",
              "\n",
              "  @keyframes spin {\n",
              "    0% {\n",
              "      border-color: transparent;\n",
              "      border-bottom-color: var(--fill-color);\n",
              "      border-left-color: var(--fill-color);\n",
              "    }\n",
              "    20% {\n",
              "      border-color: transparent;\n",
              "      border-left-color: var(--fill-color);\n",
              "      border-top-color: var(--fill-color);\n",
              "    }\n",
              "    30% {\n",
              "      border-color: transparent;\n",
              "      border-left-color: var(--fill-color);\n",
              "      border-top-color: var(--fill-color);\n",
              "      border-right-color: var(--fill-color);\n",
              "    }\n",
              "    40% {\n",
              "      border-color: transparent;\n",
              "      border-right-color: var(--fill-color);\n",
              "      border-top-color: var(--fill-color);\n",
              "    }\n",
              "    60% {\n",
              "      border-color: transparent;\n",
              "      border-right-color: var(--fill-color);\n",
              "    }\n",
              "    80% {\n",
              "      border-color: transparent;\n",
              "      border-right-color: var(--fill-color);\n",
              "      border-bottom-color: var(--fill-color);\n",
              "    }\n",
              "    90% {\n",
              "      border-color: transparent;\n",
              "      border-bottom-color: var(--fill-color);\n",
              "    }\n",
              "  }\n",
              "</style>\n",
              "\n",
              "  <script>\n",
              "    async function quickchart(key) {\n",
              "      const quickchartButtonEl =\n",
              "        document.querySelector('#' + key + ' button');\n",
              "      quickchartButtonEl.disabled = true;  // To prevent multiple clicks.\n",
              "      quickchartButtonEl.classList.add('colab-df-spinner');\n",
              "      try {\n",
              "        const charts = await google.colab.kernel.invokeFunction(\n",
              "            'suggestCharts', [key], {});\n",
              "      } catch (error) {\n",
              "        console.error('Error during call to suggestCharts:', error);\n",
              "      }\n",
              "      quickchartButtonEl.classList.remove('colab-df-spinner');\n",
              "      quickchartButtonEl.classList.add('colab-df-quickchart-complete');\n",
              "    }\n",
              "    (() => {\n",
              "      let quickchartButtonEl =\n",
              "        document.querySelector('#df-059c530d-59c2-4aeb-bad6-3340b20a10b9 button');\n",
              "      quickchartButtonEl.style.display =\n",
              "        google.colab.kernel.accessAllowed ? 'block' : 'none';\n",
              "    })();\n",
              "  </script>\n",
              "</div>\n",
              "    </div>\n",
              "  </div>\n"
            ],
            "application/vnd.google.colaboratory.intrinsic+json": {
              "type": "dataframe",
              "summary": "{\n  \"name\": \"new\",\n  \"rows\": 9,\n  \"fields\": [\n    {\n      \"column\": 3,\n      \"properties\": {\n        \"dtype\": \"number\",\n        \"std\": 9.2008791850441,\n        \"min\": 1.0,\n        \"max\": 27.0,\n        \"num_unique_values\": 8,\n        \"samples\": [\n          2.0,\n          4.0,\n          27.0\n        ],\n        \"semantic_type\": \"\",\n        \"description\": \"\"\n      }\n    }\n  ]\n}"
            }
          },
          "metadata": {},
          "execution_count": 309
        }
      ]
    },
    {
      "cell_type": "code",
      "source": [
        "with open('instance.tex','w') as tf:\n",
        "    tf.write(new.T.round(2).to_latex())"
      ],
      "metadata": {
        "id": "4-FT053mmpKR"
      },
      "execution_count": null,
      "outputs": []
    },
    {
      "cell_type": "code",
      "source": [
        "#Instance dataframe\n",
        "one_instance=[]\n",
        "\n",
        "for i in range(len(methods)):\n",
        "  one_instance.append(weights[i].iloc[instance])\n",
        "\n",
        "one_instance=pd.DataFrame(one_instance, columns=X_test.columns)\n",
        "one_instance['methods']=methods\n",
        "one_instance.set_index('methods', inplace=True)\n",
        "\n",
        "one_instance.to_csv('/content/drive/My Drive/DL4H_Sp24_Final_Project/one_instance.csv')\n",
        "\n"
      ],
      "metadata": {
        "id": "og91BCa7mtdz"
      },
      "execution_count": null,
      "outputs": []
    },
    {
      "cell_type": "code",
      "source": [
        "'methods' in one_instance.columns"
      ],
      "metadata": {
        "colab": {
          "base_uri": "https://localhost:8080/"
        },
        "id": "dvEnITXWm3ue",
        "outputId": "5b3d7808-8e8b-4b3c-8194-4b157645db74"
      },
      "execution_count": null,
      "outputs": [
        {
          "output_type": "execute_result",
          "data": {
            "text/plain": [
              "False"
            ]
          },
          "metadata": {},
          "execution_count": 313
        }
      ]
    },
    {
      "cell_type": "code",
      "source": [
        "one_instance"
      ],
      "metadata": {
        "colab": {
          "base_uri": "https://localhost:8080/",
          "height": 401
        },
        "id": "ieYRD8otmyFx",
        "outputId": "79c56450-2b97-4508-e652-5f03a64a0911"
      },
      "execution_count": null,
      "outputs": [
        {
          "output_type": "execute_result",
          "data": {
            "text/plain": [
              "                 Age  Number of sexual partners  First sexual intercourse  \\\n",
              "methods                                                                     \n",
              "Surrogates -0.719898                   0.030735                 -0.067985   \n",
              "TI          0.000000                   0.000000                  0.000000   \n",
              "TI          0.000000                   0.000000                  0.000000   \n",
              "SSHAP      -0.020600                   0.000793                 -0.007399   \n",
              "LIME        0.020400                   0.014184                 -0.003532   \n",
              "TI          0.000000                   0.000000                  0.000000   \n",
              "DICE        0.100000                   0.100000                  0.000000   \n",
              "\n",
              "            Num of pregnancies    Smokes  Smokes (years)  Smokes (packs/year)  \\\n",
              "methods                                                                         \n",
              "Surrogates            0.350058  0.116039       -0.506434             0.007274   \n",
              "TI                    0.000000  0.000000        0.000000             0.000000   \n",
              "TI                    0.000000  0.000000        0.000000             0.000000   \n",
              "SSHAP                 0.003441  0.000273       -0.010771            -0.000026   \n",
              "LIME                  0.035097  0.268980       -0.107060             0.015133   \n",
              "TI                    0.000000  0.000000        0.000000             0.000000   \n",
              "DICE                  0.100000  0.000000        0.000000             0.000000   \n",
              "\n",
              "            Hormonal Contraceptives  Hormonal Contraceptives (years)  \\\n",
              "methods                                                                \n",
              "Surrogates                -0.092129                         0.436667   \n",
              "TI                         0.000000                         0.000000   \n",
              "TI                         0.000000                         0.000000   \n",
              "SSHAP                     -0.028267                         0.042736   \n",
              "LIME                      -0.124361                         0.108544   \n",
              "TI                         0.000000                         0.000000   \n",
              "DICE                       0.000000                         0.000000   \n",
              "\n",
              "                 IUD  ...  STDs: Time since last diagnosis    Dx:CIN  \\\n",
              "methods               ...                                              \n",
              "Surrogates  0.032175  ...                     1.460368e-01  0.000000   \n",
              "TI          0.000000  ...                     0.000000e+00  0.000000   \n",
              "TI          0.000000  ...                     0.000000e+00  0.000000   \n",
              "SSHAP       0.008384  ...                     4.484475e-07  0.000000   \n",
              "LIME        0.110220  ...                     1.551409e-01  0.278787   \n",
              "TI          0.000000  ...                     0.000000e+00  0.000000   \n",
              "DICE        0.000000  ...                     2.000000e-01  0.000000   \n",
              "\n",
              "              Dx:HPV        Dx  Hinselmann  Schiller  Citology    Biopsy  \\\n",
              "methods                                                                    \n",
              "Surrogates -2.663195 -1.336422    0.000000  0.000000  0.000000  0.000000   \n",
              "TI          0.000000  0.000000    0.000000  0.000000  0.000000  0.000000   \n",
              "TI          0.000000  0.000000    0.000000  0.000000  0.000000  0.000000   \n",
              "SSHAP      -0.241827 -0.164830    0.000019 -0.000486  0.000058 -0.002228   \n",
              "LIME       -0.509511 -0.405957    0.067647 -0.012767  0.058618 -0.019718   \n",
              "TI          0.000000  0.000000    0.000000  0.000000  0.000000  0.000000   \n",
              "DICE        0.500000  0.300000    0.000000  0.000000  0.000000  0.100000   \n",
              "\n",
              "                 VAR  Dx:Cancer  \n",
              "methods                          \n",
              "Surrogates -0.132704        NaN  \n",
              "TI          0.000000        NaN  \n",
              "TI          0.000000        NaN  \n",
              "SSHAP      -0.019165        NaN  \n",
              "LIME       -0.043304        NaN  \n",
              "TI          0.000000        NaN  \n",
              "DICE        0.000000        NaN  \n",
              "\n",
              "[7 rows x 37 columns]"
            ],
            "text/html": [
              "\n",
              "  <div id=\"df-9b89fe84-3676-47a6-ba6f-c47e82222447\" class=\"colab-df-container\">\n",
              "    <div>\n",
              "<style scoped>\n",
              "    .dataframe tbody tr th:only-of-type {\n",
              "        vertical-align: middle;\n",
              "    }\n",
              "\n",
              "    .dataframe tbody tr th {\n",
              "        vertical-align: top;\n",
              "    }\n",
              "\n",
              "    .dataframe thead th {\n",
              "        text-align: right;\n",
              "    }\n",
              "</style>\n",
              "<table border=\"1\" class=\"dataframe\">\n",
              "  <thead>\n",
              "    <tr style=\"text-align: right;\">\n",
              "      <th></th>\n",
              "      <th>Age</th>\n",
              "      <th>Number of sexual partners</th>\n",
              "      <th>First sexual intercourse</th>\n",
              "      <th>Num of pregnancies</th>\n",
              "      <th>Smokes</th>\n",
              "      <th>Smokes (years)</th>\n",
              "      <th>Smokes (packs/year)</th>\n",
              "      <th>Hormonal Contraceptives</th>\n",
              "      <th>Hormonal Contraceptives (years)</th>\n",
              "      <th>IUD</th>\n",
              "      <th>...</th>\n",
              "      <th>STDs: Time since last diagnosis</th>\n",
              "      <th>Dx:CIN</th>\n",
              "      <th>Dx:HPV</th>\n",
              "      <th>Dx</th>\n",
              "      <th>Hinselmann</th>\n",
              "      <th>Schiller</th>\n",
              "      <th>Citology</th>\n",
              "      <th>Biopsy</th>\n",
              "      <th>VAR</th>\n",
              "      <th>Dx:Cancer</th>\n",
              "    </tr>\n",
              "    <tr>\n",
              "      <th>methods</th>\n",
              "      <th></th>\n",
              "      <th></th>\n",
              "      <th></th>\n",
              "      <th></th>\n",
              "      <th></th>\n",
              "      <th></th>\n",
              "      <th></th>\n",
              "      <th></th>\n",
              "      <th></th>\n",
              "      <th></th>\n",
              "      <th></th>\n",
              "      <th></th>\n",
              "      <th></th>\n",
              "      <th></th>\n",
              "      <th></th>\n",
              "      <th></th>\n",
              "      <th></th>\n",
              "      <th></th>\n",
              "      <th></th>\n",
              "      <th></th>\n",
              "      <th></th>\n",
              "    </tr>\n",
              "  </thead>\n",
              "  <tbody>\n",
              "    <tr>\n",
              "      <th>Surrogates</th>\n",
              "      <td>-0.719898</td>\n",
              "      <td>0.030735</td>\n",
              "      <td>-0.067985</td>\n",
              "      <td>0.350058</td>\n",
              "      <td>0.116039</td>\n",
              "      <td>-0.506434</td>\n",
              "      <td>0.007274</td>\n",
              "      <td>-0.092129</td>\n",
              "      <td>0.436667</td>\n",
              "      <td>0.032175</td>\n",
              "      <td>...</td>\n",
              "      <td>1.460368e-01</td>\n",
              "      <td>0.000000</td>\n",
              "      <td>-2.663195</td>\n",
              "      <td>-1.336422</td>\n",
              "      <td>0.000000</td>\n",
              "      <td>0.000000</td>\n",
              "      <td>0.000000</td>\n",
              "      <td>0.000000</td>\n",
              "      <td>-0.132704</td>\n",
              "      <td>NaN</td>\n",
              "    </tr>\n",
              "    <tr>\n",
              "      <th>TI</th>\n",
              "      <td>0.000000</td>\n",
              "      <td>0.000000</td>\n",
              "      <td>0.000000</td>\n",
              "      <td>0.000000</td>\n",
              "      <td>0.000000</td>\n",
              "      <td>0.000000</td>\n",
              "      <td>0.000000</td>\n",
              "      <td>0.000000</td>\n",
              "      <td>0.000000</td>\n",
              "      <td>0.000000</td>\n",
              "      <td>...</td>\n",
              "      <td>0.000000e+00</td>\n",
              "      <td>0.000000</td>\n",
              "      <td>0.000000</td>\n",
              "      <td>0.000000</td>\n",
              "      <td>0.000000</td>\n",
              "      <td>0.000000</td>\n",
              "      <td>0.000000</td>\n",
              "      <td>0.000000</td>\n",
              "      <td>0.000000</td>\n",
              "      <td>NaN</td>\n",
              "    </tr>\n",
              "    <tr>\n",
              "      <th>TI</th>\n",
              "      <td>0.000000</td>\n",
              "      <td>0.000000</td>\n",
              "      <td>0.000000</td>\n",
              "      <td>0.000000</td>\n",
              "      <td>0.000000</td>\n",
              "      <td>0.000000</td>\n",
              "      <td>0.000000</td>\n",
              "      <td>0.000000</td>\n",
              "      <td>0.000000</td>\n",
              "      <td>0.000000</td>\n",
              "      <td>...</td>\n",
              "      <td>0.000000e+00</td>\n",
              "      <td>0.000000</td>\n",
              "      <td>0.000000</td>\n",
              "      <td>0.000000</td>\n",
              "      <td>0.000000</td>\n",
              "      <td>0.000000</td>\n",
              "      <td>0.000000</td>\n",
              "      <td>0.000000</td>\n",
              "      <td>0.000000</td>\n",
              "      <td>NaN</td>\n",
              "    </tr>\n",
              "    <tr>\n",
              "      <th>SSHAP</th>\n",
              "      <td>-0.020600</td>\n",
              "      <td>0.000793</td>\n",
              "      <td>-0.007399</td>\n",
              "      <td>0.003441</td>\n",
              "      <td>0.000273</td>\n",
              "      <td>-0.010771</td>\n",
              "      <td>-0.000026</td>\n",
              "      <td>-0.028267</td>\n",
              "      <td>0.042736</td>\n",
              "      <td>0.008384</td>\n",
              "      <td>...</td>\n",
              "      <td>4.484475e-07</td>\n",
              "      <td>0.000000</td>\n",
              "      <td>-0.241827</td>\n",
              "      <td>-0.164830</td>\n",
              "      <td>0.000019</td>\n",
              "      <td>-0.000486</td>\n",
              "      <td>0.000058</td>\n",
              "      <td>-0.002228</td>\n",
              "      <td>-0.019165</td>\n",
              "      <td>NaN</td>\n",
              "    </tr>\n",
              "    <tr>\n",
              "      <th>LIME</th>\n",
              "      <td>0.020400</td>\n",
              "      <td>0.014184</td>\n",
              "      <td>-0.003532</td>\n",
              "      <td>0.035097</td>\n",
              "      <td>0.268980</td>\n",
              "      <td>-0.107060</td>\n",
              "      <td>0.015133</td>\n",
              "      <td>-0.124361</td>\n",
              "      <td>0.108544</td>\n",
              "      <td>0.110220</td>\n",
              "      <td>...</td>\n",
              "      <td>1.551409e-01</td>\n",
              "      <td>0.278787</td>\n",
              "      <td>-0.509511</td>\n",
              "      <td>-0.405957</td>\n",
              "      <td>0.067647</td>\n",
              "      <td>-0.012767</td>\n",
              "      <td>0.058618</td>\n",
              "      <td>-0.019718</td>\n",
              "      <td>-0.043304</td>\n",
              "      <td>NaN</td>\n",
              "    </tr>\n",
              "    <tr>\n",
              "      <th>TI</th>\n",
              "      <td>0.000000</td>\n",
              "      <td>0.000000</td>\n",
              "      <td>0.000000</td>\n",
              "      <td>0.000000</td>\n",
              "      <td>0.000000</td>\n",
              "      <td>0.000000</td>\n",
              "      <td>0.000000</td>\n",
              "      <td>0.000000</td>\n",
              "      <td>0.000000</td>\n",
              "      <td>0.000000</td>\n",
              "      <td>...</td>\n",
              "      <td>0.000000e+00</td>\n",
              "      <td>0.000000</td>\n",
              "      <td>0.000000</td>\n",
              "      <td>0.000000</td>\n",
              "      <td>0.000000</td>\n",
              "      <td>0.000000</td>\n",
              "      <td>0.000000</td>\n",
              "      <td>0.000000</td>\n",
              "      <td>0.000000</td>\n",
              "      <td>NaN</td>\n",
              "    </tr>\n",
              "    <tr>\n",
              "      <th>DICE</th>\n",
              "      <td>0.100000</td>\n",
              "      <td>0.100000</td>\n",
              "      <td>0.000000</td>\n",
              "      <td>0.100000</td>\n",
              "      <td>0.000000</td>\n",
              "      <td>0.000000</td>\n",
              "      <td>0.000000</td>\n",
              "      <td>0.000000</td>\n",
              "      <td>0.000000</td>\n",
              "      <td>0.000000</td>\n",
              "      <td>...</td>\n",
              "      <td>2.000000e-01</td>\n",
              "      <td>0.000000</td>\n",
              "      <td>0.500000</td>\n",
              "      <td>0.300000</td>\n",
              "      <td>0.000000</td>\n",
              "      <td>0.000000</td>\n",
              "      <td>0.000000</td>\n",
              "      <td>0.100000</td>\n",
              "      <td>0.000000</td>\n",
              "      <td>NaN</td>\n",
              "    </tr>\n",
              "  </tbody>\n",
              "</table>\n",
              "<p>7 rows × 37 columns</p>\n",
              "</div>\n",
              "    <div class=\"colab-df-buttons\">\n",
              "\n",
              "  <div class=\"colab-df-container\">\n",
              "    <button class=\"colab-df-convert\" onclick=\"convertToInteractive('df-9b89fe84-3676-47a6-ba6f-c47e82222447')\"\n",
              "            title=\"Convert this dataframe to an interactive table.\"\n",
              "            style=\"display:none;\">\n",
              "\n",
              "  <svg xmlns=\"http://www.w3.org/2000/svg\" height=\"24px\" viewBox=\"0 -960 960 960\">\n",
              "    <path d=\"M120-120v-720h720v720H120Zm60-500h600v-160H180v160Zm220 220h160v-160H400v160Zm0 220h160v-160H400v160ZM180-400h160v-160H180v160Zm440 0h160v-160H620v160ZM180-180h160v-160H180v160Zm440 0h160v-160H620v160Z\"/>\n",
              "  </svg>\n",
              "    </button>\n",
              "\n",
              "  <style>\n",
              "    .colab-df-container {\n",
              "      display:flex;\n",
              "      gap: 12px;\n",
              "    }\n",
              "\n",
              "    .colab-df-convert {\n",
              "      background-color: #E8F0FE;\n",
              "      border: none;\n",
              "      border-radius: 50%;\n",
              "      cursor: pointer;\n",
              "      display: none;\n",
              "      fill: #1967D2;\n",
              "      height: 32px;\n",
              "      padding: 0 0 0 0;\n",
              "      width: 32px;\n",
              "    }\n",
              "\n",
              "    .colab-df-convert:hover {\n",
              "      background-color: #E2EBFA;\n",
              "      box-shadow: 0px 1px 2px rgba(60, 64, 67, 0.3), 0px 1px 3px 1px rgba(60, 64, 67, 0.15);\n",
              "      fill: #174EA6;\n",
              "    }\n",
              "\n",
              "    .colab-df-buttons div {\n",
              "      margin-bottom: 4px;\n",
              "    }\n",
              "\n",
              "    [theme=dark] .colab-df-convert {\n",
              "      background-color: #3B4455;\n",
              "      fill: #D2E3FC;\n",
              "    }\n",
              "\n",
              "    [theme=dark] .colab-df-convert:hover {\n",
              "      background-color: #434B5C;\n",
              "      box-shadow: 0px 1px 3px 1px rgba(0, 0, 0, 0.15);\n",
              "      filter: drop-shadow(0px 1px 2px rgba(0, 0, 0, 0.3));\n",
              "      fill: #FFFFFF;\n",
              "    }\n",
              "  </style>\n",
              "\n",
              "    <script>\n",
              "      const buttonEl =\n",
              "        document.querySelector('#df-9b89fe84-3676-47a6-ba6f-c47e82222447 button.colab-df-convert');\n",
              "      buttonEl.style.display =\n",
              "        google.colab.kernel.accessAllowed ? 'block' : 'none';\n",
              "\n",
              "      async function convertToInteractive(key) {\n",
              "        const element = document.querySelector('#df-9b89fe84-3676-47a6-ba6f-c47e82222447');\n",
              "        const dataTable =\n",
              "          await google.colab.kernel.invokeFunction('convertToInteractive',\n",
              "                                                    [key], {});\n",
              "        if (!dataTable) return;\n",
              "\n",
              "        const docLinkHtml = 'Like what you see? Visit the ' +\n",
              "          '<a target=\"_blank\" href=https://colab.research.google.com/notebooks/data_table.ipynb>data table notebook</a>'\n",
              "          + ' to learn more about interactive tables.';\n",
              "        element.innerHTML = '';\n",
              "        dataTable['output_type'] = 'display_data';\n",
              "        await google.colab.output.renderOutput(dataTable, element);\n",
              "        const docLink = document.createElement('div');\n",
              "        docLink.innerHTML = docLinkHtml;\n",
              "        element.appendChild(docLink);\n",
              "      }\n",
              "    </script>\n",
              "  </div>\n",
              "\n",
              "\n",
              "<div id=\"df-91bb77d5-d1af-4ebe-924b-2b36449d4b0a\">\n",
              "  <button class=\"colab-df-quickchart\" onclick=\"quickchart('df-91bb77d5-d1af-4ebe-924b-2b36449d4b0a')\"\n",
              "            title=\"Suggest charts\"\n",
              "            style=\"display:none;\">\n",
              "\n",
              "<svg xmlns=\"http://www.w3.org/2000/svg\" height=\"24px\"viewBox=\"0 0 24 24\"\n",
              "     width=\"24px\">\n",
              "    <g>\n",
              "        <path d=\"M19 3H5c-1.1 0-2 .9-2 2v14c0 1.1.9 2 2 2h14c1.1 0 2-.9 2-2V5c0-1.1-.9-2-2-2zM9 17H7v-7h2v7zm4 0h-2V7h2v10zm4 0h-2v-4h2v4z\"/>\n",
              "    </g>\n",
              "</svg>\n",
              "  </button>\n",
              "\n",
              "<style>\n",
              "  .colab-df-quickchart {\n",
              "      --bg-color: #E8F0FE;\n",
              "      --fill-color: #1967D2;\n",
              "      --hover-bg-color: #E2EBFA;\n",
              "      --hover-fill-color: #174EA6;\n",
              "      --disabled-fill-color: #AAA;\n",
              "      --disabled-bg-color: #DDD;\n",
              "  }\n",
              "\n",
              "  [theme=dark] .colab-df-quickchart {\n",
              "      --bg-color: #3B4455;\n",
              "      --fill-color: #D2E3FC;\n",
              "      --hover-bg-color: #434B5C;\n",
              "      --hover-fill-color: #FFFFFF;\n",
              "      --disabled-bg-color: #3B4455;\n",
              "      --disabled-fill-color: #666;\n",
              "  }\n",
              "\n",
              "  .colab-df-quickchart {\n",
              "    background-color: var(--bg-color);\n",
              "    border: none;\n",
              "    border-radius: 50%;\n",
              "    cursor: pointer;\n",
              "    display: none;\n",
              "    fill: var(--fill-color);\n",
              "    height: 32px;\n",
              "    padding: 0;\n",
              "    width: 32px;\n",
              "  }\n",
              "\n",
              "  .colab-df-quickchart:hover {\n",
              "    background-color: var(--hover-bg-color);\n",
              "    box-shadow: 0 1px 2px rgba(60, 64, 67, 0.3), 0 1px 3px 1px rgba(60, 64, 67, 0.15);\n",
              "    fill: var(--button-hover-fill-color);\n",
              "  }\n",
              "\n",
              "  .colab-df-quickchart-complete:disabled,\n",
              "  .colab-df-quickchart-complete:disabled:hover {\n",
              "    background-color: var(--disabled-bg-color);\n",
              "    fill: var(--disabled-fill-color);\n",
              "    box-shadow: none;\n",
              "  }\n",
              "\n",
              "  .colab-df-spinner {\n",
              "    border: 2px solid var(--fill-color);\n",
              "    border-color: transparent;\n",
              "    border-bottom-color: var(--fill-color);\n",
              "    animation:\n",
              "      spin 1s steps(1) infinite;\n",
              "  }\n",
              "\n",
              "  @keyframes spin {\n",
              "    0% {\n",
              "      border-color: transparent;\n",
              "      border-bottom-color: var(--fill-color);\n",
              "      border-left-color: var(--fill-color);\n",
              "    }\n",
              "    20% {\n",
              "      border-color: transparent;\n",
              "      border-left-color: var(--fill-color);\n",
              "      border-top-color: var(--fill-color);\n",
              "    }\n",
              "    30% {\n",
              "      border-color: transparent;\n",
              "      border-left-color: var(--fill-color);\n",
              "      border-top-color: var(--fill-color);\n",
              "      border-right-color: var(--fill-color);\n",
              "    }\n",
              "    40% {\n",
              "      border-color: transparent;\n",
              "      border-right-color: var(--fill-color);\n",
              "      border-top-color: var(--fill-color);\n",
              "    }\n",
              "    60% {\n",
              "      border-color: transparent;\n",
              "      border-right-color: var(--fill-color);\n",
              "    }\n",
              "    80% {\n",
              "      border-color: transparent;\n",
              "      border-right-color: var(--fill-color);\n",
              "      border-bottom-color: var(--fill-color);\n",
              "    }\n",
              "    90% {\n",
              "      border-color: transparent;\n",
              "      border-bottom-color: var(--fill-color);\n",
              "    }\n",
              "  }\n",
              "</style>\n",
              "\n",
              "  <script>\n",
              "    async function quickchart(key) {\n",
              "      const quickchartButtonEl =\n",
              "        document.querySelector('#' + key + ' button');\n",
              "      quickchartButtonEl.disabled = true;  // To prevent multiple clicks.\n",
              "      quickchartButtonEl.classList.add('colab-df-spinner');\n",
              "      try {\n",
              "        const charts = await google.colab.kernel.invokeFunction(\n",
              "            'suggestCharts', [key], {});\n",
              "      } catch (error) {\n",
              "        console.error('Error during call to suggestCharts:', error);\n",
              "      }\n",
              "      quickchartButtonEl.classList.remove('colab-df-spinner');\n",
              "      quickchartButtonEl.classList.add('colab-df-quickchart-complete');\n",
              "    }\n",
              "    (() => {\n",
              "      let quickchartButtonEl =\n",
              "        document.querySelector('#df-91bb77d5-d1af-4ebe-924b-2b36449d4b0a button');\n",
              "      quickchartButtonEl.style.display =\n",
              "        google.colab.kernel.accessAllowed ? 'block' : 'none';\n",
              "    })();\n",
              "  </script>\n",
              "</div>\n",
              "    </div>\n",
              "  </div>\n"
            ],
            "application/vnd.google.colaboratory.intrinsic+json": {
              "type": "dataframe",
              "variable_name": "one_instance"
            }
          },
          "metadata": {},
          "execution_count": 314
        }
      ]
    },
    {
      "cell_type": "code",
      "source": [
        "#plot F1 for one instance\n",
        "X_test=pd.read_csv('/content/drive/My Drive/DL4H_Sp24_Final_Project/X_test.csv')\n",
        "X_test.drop('Unnamed: 0', inplace=True, axis=1)\n",
        "y_test=pd.read_csv('/content/drive/My Drive/DL4H_Sp24_Final_Project/y_test.csv')\n",
        "y_test.drop('Unnamed: 0', inplace=True, axis=1)\n",
        "X_train=pd.read_csv('/content/drive/My Drive/DL4H_Sp24_Final_Project/X_train.csv')\n",
        "X_train.drop('Unnamed: 0', inplace=True, axis=1)\n",
        "y_train=pd.read_csv('/content/drive/My Drive/DL4H_Sp24_Final_Project/y_train.csv')\n",
        "y_train.drop('Unnamed: 0', inplace=True, axis=1)\n",
        "\n",
        "\n"
      ],
      "metadata": {
        "id": "BQtbWZrxm81M"
      },
      "execution_count": null,
      "outputs": []
    },
    {
      "cell_type": "code",
      "source": [
        "instance=291\n",
        "var='W'\n",
        "maxx=10\n",
        "f=''\n",
        "vale=0"
      ],
      "metadata": {
        "id": "eg1Grne4o5ef"
      },
      "execution_count": null,
      "outputs": []
    },
    {
      "cell_type": "code",
      "source": [
        "# tempt=X_test.iloc[291]\n",
        "# tempt[f]=vale\n",
        "# tempt[\"Age\"]=1\n",
        "# tempt[\"Num of pregnancies\"]=120\n",
        "# tempt[\"Smokes\"]=200\n",
        "\n",
        "# X_test.iloc[291]=tempt\n",
        "# X_test.iloc[291]"
      ],
      "metadata": {
        "colab": {
          "base_uri": "https://localhost:8080/",
          "height": 338
        },
        "id": "xXxLZatxnO4I",
        "outputId": "b8db5c9a-e88f-4c73-8ca3-f00fc88d4316"
      },
      "execution_count": null,
      "outputs": [
        {
          "output_type": "error",
          "ename": "ValueError",
          "evalue": "Must have equal len keys and value when setting with an iterable",
          "traceback": [
            "\u001b[0;31m---------------------------------------------------------------------------\u001b[0m",
            "\u001b[0;31mValueError\u001b[0m                                Traceback (most recent call last)",
            "\u001b[0;32m<ipython-input-329-78548f6ca2f7>\u001b[0m in \u001b[0;36m<cell line: 7>\u001b[0;34m()\u001b[0m\n\u001b[1;32m      5\u001b[0m \u001b[0mtempt\u001b[0m\u001b[0;34m[\u001b[0m\u001b[0;34m\"Smokes\"\u001b[0m\u001b[0;34m]\u001b[0m\u001b[0;34m=\u001b[0m\u001b[0;36m200\u001b[0m\u001b[0;34m\u001b[0m\u001b[0;34m\u001b[0m\u001b[0m\n\u001b[1;32m      6\u001b[0m \u001b[0;34m\u001b[0m\u001b[0m\n\u001b[0;32m----> 7\u001b[0;31m \u001b[0mX_test\u001b[0m\u001b[0;34m.\u001b[0m\u001b[0miloc\u001b[0m\u001b[0;34m[\u001b[0m\u001b[0;36m291\u001b[0m\u001b[0;34m]\u001b[0m\u001b[0;34m=\u001b[0m\u001b[0mtempt\u001b[0m\u001b[0;34m\u001b[0m\u001b[0;34m\u001b[0m\u001b[0m\n\u001b[0m\u001b[1;32m      8\u001b[0m \u001b[0mX_test\u001b[0m\u001b[0;34m.\u001b[0m\u001b[0miloc\u001b[0m\u001b[0;34m[\u001b[0m\u001b[0;36m291\u001b[0m\u001b[0;34m]\u001b[0m\u001b[0;34m\u001b[0m\u001b[0;34m\u001b[0m\u001b[0m\n",
            "\u001b[0;32m/usr/local/lib/python3.10/dist-packages/pandas/core/indexing.py\u001b[0m in \u001b[0;36m__setitem__\u001b[0;34m(self, key, value)\u001b[0m\n\u001b[1;32m    847\u001b[0m         \"\"\"\n\u001b[1;32m    848\u001b[0m         \u001b[0;32mif\u001b[0m \u001b[0many\u001b[0m\u001b[0;34m(\u001b[0m\u001b[0mx\u001b[0m \u001b[0;32mis\u001b[0m \u001b[0mEllipsis\u001b[0m \u001b[0;32mfor\u001b[0m \u001b[0mx\u001b[0m \u001b[0;32min\u001b[0m \u001b[0mtup\u001b[0m\u001b[0;34m)\u001b[0m\u001b[0;34m:\u001b[0m\u001b[0;34m\u001b[0m\u001b[0;34m\u001b[0m\u001b[0m\n\u001b[0;32m--> 849\u001b[0;31m             \u001b[0;32mif\u001b[0m \u001b[0mtup\u001b[0m\u001b[0;34m.\u001b[0m\u001b[0mcount\u001b[0m\u001b[0;34m(\u001b[0m\u001b[0mEllipsis\u001b[0m\u001b[0;34m)\u001b[0m \u001b[0;34m>\u001b[0m \u001b[0;36m1\u001b[0m\u001b[0;34m:\u001b[0m\u001b[0;34m\u001b[0m\u001b[0;34m\u001b[0m\u001b[0m\n\u001b[0m\u001b[1;32m    850\u001b[0m                 \u001b[0;32mraise\u001b[0m \u001b[0mIndexingError\u001b[0m\u001b[0;34m(\u001b[0m\u001b[0m_one_ellipsis_message\u001b[0m\u001b[0;34m)\u001b[0m\u001b[0;34m\u001b[0m\u001b[0;34m\u001b[0m\u001b[0m\n\u001b[1;32m    851\u001b[0m \u001b[0;34m\u001b[0m\u001b[0m\n",
            "\u001b[0;32m/usr/local/lib/python3.10/dist-packages/pandas/core/indexing.py\u001b[0m in \u001b[0;36m_setitem_with_indexer\u001b[0;34m(self, indexer, value, name)\u001b[0m\n\u001b[1;32m   1833\u001b[0m             \u001b[0;32melif\u001b[0m \u001b[0mnp\u001b[0m\u001b[0;34m.\u001b[0m\u001b[0mndim\u001b[0m\u001b[0;34m(\u001b[0m\u001b[0mvalue\u001b[0m\u001b[0;34m)\u001b[0m \u001b[0;34m==\u001b[0m \u001b[0;36m2\u001b[0m\u001b[0;34m:\u001b[0m\u001b[0;34m\u001b[0m\u001b[0;34m\u001b[0m\u001b[0m\n\u001b[1;32m   1834\u001b[0m                 \u001b[0mself\u001b[0m\u001b[0;34m.\u001b[0m\u001b[0m_setitem_with_indexer_2d_value\u001b[0m\u001b[0;34m(\u001b[0m\u001b[0mindexer\u001b[0m\u001b[0;34m,\u001b[0m \u001b[0mvalue\u001b[0m\u001b[0;34m)\u001b[0m\u001b[0;34m\u001b[0m\u001b[0;34m\u001b[0m\u001b[0m\n\u001b[0;32m-> 1835\u001b[0;31m \u001b[0;34m\u001b[0m\u001b[0m\n\u001b[0m\u001b[1;32m   1836\u001b[0m             \u001b[0;32melif\u001b[0m \u001b[0mlen\u001b[0m\u001b[0;34m(\u001b[0m\u001b[0milocs\u001b[0m\u001b[0;34m)\u001b[0m \u001b[0;34m==\u001b[0m \u001b[0;36m1\u001b[0m \u001b[0;32mand\u001b[0m \u001b[0mlplane_indexer\u001b[0m \u001b[0;34m==\u001b[0m \u001b[0mlen\u001b[0m\u001b[0;34m(\u001b[0m\u001b[0mvalue\u001b[0m\u001b[0;34m)\u001b[0m \u001b[0;32mand\u001b[0m \u001b[0;32mnot\u001b[0m \u001b[0mis_scalar\u001b[0m\u001b[0;34m(\u001b[0m\u001b[0mpi\u001b[0m\u001b[0;34m)\u001b[0m\u001b[0;34m:\u001b[0m\u001b[0;34m\u001b[0m\u001b[0;34m\u001b[0m\u001b[0m\n\u001b[1;32m   1837\u001b[0m                 \u001b[0;31m# We are setting multiple rows in a single column.\u001b[0m\u001b[0;34m\u001b[0m\u001b[0;34m\u001b[0m\u001b[0m\n",
            "\u001b[0;32m/usr/local/lib/python3.10/dist-packages/pandas/core/indexing.py\u001b[0m in \u001b[0;36m_setitem_with_indexer_split_path\u001b[0;34m(self, indexer, value, name)\u001b[0m\n\u001b[1;32m   1918\u001b[0m         \u001b[0;31m# We do not want to align the value in case of iloc GH#37728\u001b[0m\u001b[0;34m\u001b[0m\u001b[0;34m\u001b[0m\u001b[0m\n\u001b[1;32m   1919\u001b[0m         \u001b[0;32mif\u001b[0m \u001b[0mname\u001b[0m \u001b[0;34m==\u001b[0m \u001b[0;34m\"iloc\"\u001b[0m\u001b[0;34m:\u001b[0m\u001b[0;34m\u001b[0m\u001b[0;34m\u001b[0m\u001b[0m\n\u001b[0;32m-> 1920\u001b[0;31m             \u001b[0;32mfor\u001b[0m \u001b[0mi\u001b[0m\u001b[0;34m,\u001b[0m \u001b[0mloc\u001b[0m \u001b[0;32min\u001b[0m \u001b[0menumerate\u001b[0m\u001b[0;34m(\u001b[0m\u001b[0milocs\u001b[0m\u001b[0;34m)\u001b[0m\u001b[0;34m:\u001b[0m\u001b[0;34m\u001b[0m\u001b[0;34m\u001b[0m\u001b[0m\n\u001b[0m\u001b[1;32m   1921\u001b[0m                 \u001b[0mval\u001b[0m \u001b[0;34m=\u001b[0m \u001b[0mvalue\u001b[0m\u001b[0;34m.\u001b[0m\u001b[0miloc\u001b[0m\u001b[0;34m[\u001b[0m\u001b[0;34m:\u001b[0m\u001b[0;34m,\u001b[0m \u001b[0mi\u001b[0m\u001b[0;34m]\u001b[0m\u001b[0;34m\u001b[0m\u001b[0;34m\u001b[0m\u001b[0m\n\u001b[1;32m   1922\u001b[0m                 \u001b[0mself\u001b[0m\u001b[0;34m.\u001b[0m\u001b[0m_setitem_single_column\u001b[0m\u001b[0;34m(\u001b[0m\u001b[0mloc\u001b[0m\u001b[0;34m,\u001b[0m \u001b[0mval\u001b[0m\u001b[0;34m,\u001b[0m \u001b[0mpi\u001b[0m\u001b[0;34m)\u001b[0m\u001b[0;34m\u001b[0m\u001b[0;34m\u001b[0m\u001b[0m\n",
            "\u001b[0;31mValueError\u001b[0m: Must have equal len keys and value when setting with an iterable"
          ]
        }
      ]
    },
    {
      "cell_type": "code",
      "source": [
        "#Error - need to ensure X_test has VAR\n",
        "# model.predict(X_test)"
      ],
      "metadata": {
        "colab": {
          "base_uri": "https://localhost:8080/",
          "height": 338
        },
        "id": "IH2GPr1vnRpK",
        "outputId": "8f26f51b-6620-4b73-d2e4-a47c73aee391"
      },
      "execution_count": null,
      "outputs": [
        {
          "output_type": "error",
          "ename": "ValueError",
          "evalue": "The feature names should match those that were passed during fit.\nFeature names seen at fit time, yet now missing:\n- VAR\n",
          "traceback": [
            "\u001b[0;31m---------------------------------------------------------------------------\u001b[0m",
            "\u001b[0;31mValueError\u001b[0m                                Traceback (most recent call last)",
            "\u001b[0;32m<ipython-input-328-7621c9255fd4>\u001b[0m in \u001b[0;36m<cell line: 2>\u001b[0;34m()\u001b[0m\n\u001b[1;32m      1\u001b[0m \u001b[0;31m#Error - need to ensure X_test has VAR\u001b[0m\u001b[0;34m\u001b[0m\u001b[0;34m\u001b[0m\u001b[0m\n\u001b[0;32m----> 2\u001b[0;31m \u001b[0mmodel\u001b[0m\u001b[0;34m.\u001b[0m\u001b[0mpredict\u001b[0m\u001b[0;34m(\u001b[0m\u001b[0mX_test\u001b[0m\u001b[0;34m)\u001b[0m\u001b[0;34m\u001b[0m\u001b[0;34m\u001b[0m\u001b[0m\n\u001b[0m",
            "\u001b[0;32m/usr/local/lib/python3.10/dist-packages/sklearn/neural_network/_multilayer_perceptron.py\u001b[0m in \u001b[0;36mpredict\u001b[0;34m(self, X)\u001b[0m\n\u001b[1;32m   1154\u001b[0m         \"\"\"\n\u001b[1;32m   1155\u001b[0m         \u001b[0mcheck_is_fitted\u001b[0m\u001b[0;34m(\u001b[0m\u001b[0mself\u001b[0m\u001b[0;34m)\u001b[0m\u001b[0;34m\u001b[0m\u001b[0;34m\u001b[0m\u001b[0m\n\u001b[0;32m-> 1156\u001b[0;31m         \u001b[0;32mreturn\u001b[0m \u001b[0mself\u001b[0m\u001b[0;34m.\u001b[0m\u001b[0m_predict\u001b[0m\u001b[0;34m(\u001b[0m\u001b[0mX\u001b[0m\u001b[0;34m)\u001b[0m\u001b[0;34m\u001b[0m\u001b[0;34m\u001b[0m\u001b[0m\n\u001b[0m\u001b[1;32m   1157\u001b[0m \u001b[0;34m\u001b[0m\u001b[0m\n\u001b[1;32m   1158\u001b[0m     \u001b[0;32mdef\u001b[0m \u001b[0m_predict\u001b[0m\u001b[0;34m(\u001b[0m\u001b[0mself\u001b[0m\u001b[0;34m,\u001b[0m \u001b[0mX\u001b[0m\u001b[0;34m,\u001b[0m \u001b[0mcheck_input\u001b[0m\u001b[0;34m=\u001b[0m\u001b[0;32mTrue\u001b[0m\u001b[0;34m)\u001b[0m\u001b[0;34m:\u001b[0m\u001b[0;34m\u001b[0m\u001b[0;34m\u001b[0m\u001b[0m\n",
            "\u001b[0;32m/usr/local/lib/python3.10/dist-packages/sklearn/neural_network/_multilayer_perceptron.py\u001b[0m in \u001b[0;36m_predict\u001b[0;34m(self, X, check_input)\u001b[0m\n\u001b[1;32m   1158\u001b[0m     \u001b[0;32mdef\u001b[0m \u001b[0m_predict\u001b[0m\u001b[0;34m(\u001b[0m\u001b[0mself\u001b[0m\u001b[0;34m,\u001b[0m \u001b[0mX\u001b[0m\u001b[0;34m,\u001b[0m \u001b[0mcheck_input\u001b[0m\u001b[0;34m=\u001b[0m\u001b[0;32mTrue\u001b[0m\u001b[0;34m)\u001b[0m\u001b[0;34m:\u001b[0m\u001b[0;34m\u001b[0m\u001b[0;34m\u001b[0m\u001b[0m\n\u001b[1;32m   1159\u001b[0m         \u001b[0;34m\"\"\"Private predict method with optional input validation\"\"\"\u001b[0m\u001b[0;34m\u001b[0m\u001b[0;34m\u001b[0m\u001b[0m\n\u001b[0;32m-> 1160\u001b[0;31m         \u001b[0my_pred\u001b[0m \u001b[0;34m=\u001b[0m \u001b[0mself\u001b[0m\u001b[0;34m.\u001b[0m\u001b[0m_forward_pass_fast\u001b[0m\u001b[0;34m(\u001b[0m\u001b[0mX\u001b[0m\u001b[0;34m,\u001b[0m \u001b[0mcheck_input\u001b[0m\u001b[0;34m=\u001b[0m\u001b[0mcheck_input\u001b[0m\u001b[0;34m)\u001b[0m\u001b[0;34m\u001b[0m\u001b[0;34m\u001b[0m\u001b[0m\n\u001b[0m\u001b[1;32m   1161\u001b[0m \u001b[0;34m\u001b[0m\u001b[0m\n\u001b[1;32m   1162\u001b[0m         \u001b[0;32mif\u001b[0m \u001b[0mself\u001b[0m\u001b[0;34m.\u001b[0m\u001b[0mn_outputs_\u001b[0m \u001b[0;34m==\u001b[0m \u001b[0;36m1\u001b[0m\u001b[0;34m:\u001b[0m\u001b[0;34m\u001b[0m\u001b[0;34m\u001b[0m\u001b[0m\n",
            "\u001b[0;32m/usr/local/lib/python3.10/dist-packages/sklearn/neural_network/_multilayer_perceptron.py\u001b[0m in \u001b[0;36m_forward_pass_fast\u001b[0;34m(self, X, check_input)\u001b[0m\n\u001b[1;32m    200\u001b[0m         \"\"\"\n\u001b[1;32m    201\u001b[0m         \u001b[0;32mif\u001b[0m \u001b[0mcheck_input\u001b[0m\u001b[0;34m:\u001b[0m\u001b[0;34m\u001b[0m\u001b[0;34m\u001b[0m\u001b[0m\n\u001b[0;32m--> 202\u001b[0;31m             \u001b[0mX\u001b[0m \u001b[0;34m=\u001b[0m \u001b[0mself\u001b[0m\u001b[0;34m.\u001b[0m\u001b[0m_validate_data\u001b[0m\u001b[0;34m(\u001b[0m\u001b[0mX\u001b[0m\u001b[0;34m,\u001b[0m \u001b[0maccept_sparse\u001b[0m\u001b[0;34m=\u001b[0m\u001b[0;34m[\u001b[0m\u001b[0;34m\"csr\"\u001b[0m\u001b[0;34m,\u001b[0m \u001b[0;34m\"csc\"\u001b[0m\u001b[0;34m]\u001b[0m\u001b[0;34m,\u001b[0m \u001b[0mreset\u001b[0m\u001b[0;34m=\u001b[0m\u001b[0;32mFalse\u001b[0m\u001b[0;34m)\u001b[0m\u001b[0;34m\u001b[0m\u001b[0;34m\u001b[0m\u001b[0m\n\u001b[0m\u001b[1;32m    203\u001b[0m \u001b[0;34m\u001b[0m\u001b[0m\n\u001b[1;32m    204\u001b[0m         \u001b[0;31m# Initialize first layer\u001b[0m\u001b[0;34m\u001b[0m\u001b[0;34m\u001b[0m\u001b[0m\n",
            "\u001b[0;32m/usr/local/lib/python3.10/dist-packages/sklearn/base.py\u001b[0m in \u001b[0;36m_validate_data\u001b[0;34m(self, X, y, reset, validate_separately, **check_params)\u001b[0m\n\u001b[1;32m    546\u001b[0m             \u001b[0mvalidated\u001b[0m\u001b[0;34m.\u001b[0m\u001b[0;34m\u001b[0m\u001b[0;34m\u001b[0m\u001b[0m\n\u001b[1;32m    547\u001b[0m         \"\"\"\n\u001b[0;32m--> 548\u001b[0;31m         \u001b[0mself\u001b[0m\u001b[0;34m.\u001b[0m\u001b[0m_check_feature_names\u001b[0m\u001b[0;34m(\u001b[0m\u001b[0mX\u001b[0m\u001b[0;34m,\u001b[0m \u001b[0mreset\u001b[0m\u001b[0;34m=\u001b[0m\u001b[0mreset\u001b[0m\u001b[0;34m)\u001b[0m\u001b[0;34m\u001b[0m\u001b[0;34m\u001b[0m\u001b[0m\n\u001b[0m\u001b[1;32m    549\u001b[0m \u001b[0;34m\u001b[0m\u001b[0m\n\u001b[1;32m    550\u001b[0m         \u001b[0;32mif\u001b[0m \u001b[0my\u001b[0m \u001b[0;32mis\u001b[0m \u001b[0;32mNone\u001b[0m \u001b[0;32mand\u001b[0m \u001b[0mself\u001b[0m\u001b[0;34m.\u001b[0m\u001b[0m_get_tags\u001b[0m\u001b[0;34m(\u001b[0m\u001b[0;34m)\u001b[0m\u001b[0;34m[\u001b[0m\u001b[0;34m\"requires_y\"\u001b[0m\u001b[0;34m]\u001b[0m\u001b[0;34m:\u001b[0m\u001b[0;34m\u001b[0m\u001b[0;34m\u001b[0m\u001b[0m\n",
            "\u001b[0;32m/usr/local/lib/python3.10/dist-packages/sklearn/base.py\u001b[0m in \u001b[0;36m_check_feature_names\u001b[0;34m(self, X, reset)\u001b[0m\n\u001b[1;32m    479\u001b[0m                 )\n\u001b[1;32m    480\u001b[0m \u001b[0;34m\u001b[0m\u001b[0m\n\u001b[0;32m--> 481\u001b[0;31m             \u001b[0;32mraise\u001b[0m \u001b[0mValueError\u001b[0m\u001b[0;34m(\u001b[0m\u001b[0mmessage\u001b[0m\u001b[0;34m)\u001b[0m\u001b[0;34m\u001b[0m\u001b[0;34m\u001b[0m\u001b[0m\n\u001b[0m\u001b[1;32m    482\u001b[0m \u001b[0;34m\u001b[0m\u001b[0m\n\u001b[1;32m    483\u001b[0m     def _validate_data(\n",
            "\u001b[0;31mValueError\u001b[0m: The feature names should match those that were passed during fit.\nFeature names seen at fit time, yet now missing:\n- VAR\n"
          ]
        }
      ]
    },
    {
      "cell_type": "code",
      "source": [
        "# explainer = lime.lime_tabular.LimeTabularExplainer(X_train.values,mode='classification',feature_names=X_test.columns)\n",
        "# exp = explainer.explain_instance(X_test.iloc[instance], model.predict_proba, num_features=X_test.shape[1])\n"
      ],
      "metadata": {
        "id": "w_b-OBGspvjf"
      },
      "execution_count": null,
      "outputs": []
    },
    {
      "cell_type": "code",
      "source": [
        "# items = gscontrib.iloc[instance].to_dict()\n",
        "# t = []\n",
        "# count=0\n",
        "# for i, item in enumerate(items):\n",
        "#   if abs(items[item]) > 0.0 :\n",
        "#     t.append((i, items[item]))\n",
        "\n",
        "# t = sorted(t, key=lambda tup: abs(tup[1]),  reverse=True)\n",
        "\n",
        "# exp_test = {1: t[0:maxx]}\n",
        "\n",
        "\n",
        "# exp.local_exp = exp_test\n",
        "# exp.show_in_notebook(show_table=False,show_predicted_value=False)"
      ],
      "metadata": {
        "id": "r-uYODwHpzgY"
      },
      "execution_count": null,
      "outputs": []
    },
    {
      "cell_type": "code",
      "source": [
        "# %matplotlib inline\n",
        "# fig = exp.as_pyplot_figure()\n",
        "# plt.xlabel(\"Local Surrogates\")\n",
        "# fig.savefig('/content/drive/My Drive/DL4H_Sp24_Final_Project/'+str(var)+'surrogate'+str(instance)+str(f)+'.png', bbox_inches='tight')"
      ],
      "metadata": {
        "id": "AiHkqt5Gp3F7"
      },
      "execution_count": null,
      "outputs": []
    },
    {
      "cell_type": "code",
      "source": [],
      "metadata": {
        "id": "MIi4PPLlp5yA"
      },
      "execution_count": null,
      "outputs": []
    },
    {
      "cell_type": "markdown",
      "source": [
        "# ROAR"
      ],
      "metadata": {
        "id": "hNmv53uYpE0u"
      }
    },
    {
      "cell_type": "markdown",
      "metadata": {
        "id": "qH75TNU71eRH"
      },
      "source": [
        "\\# Discussion & Results\n",
        "\n",
        "In this section,you should discuss your work and make future plan. The discussion should address the following questions:\n",
        "  * Make assessment that the paper is reproducible or not.\n",
        "  * Explain why it is not reproducible if your results are kind negative.\n",
        "  * Describe “What was easy” and “What was difficult” during the reproduction.\n",
        "  * Make suggestions to the author or other reproducers on how to improve the reproducibility.\n",
        "  * What will you do in next phase.\n",
        "\n",
        "The paper we chose has shown to be reproducible. We were able to acquire, process, and visual the data, and run the 5 models and ablations against the data with common Python libraries and minimal error or confusion.\n",
        "\n",
        "During the reproduction, moving the data to adapt to our local enviroments in a shareable format was initially difficult, but ultimateley possible. Processsing data was also hard, as the data set needed reformatting to work correctly with some models.\n",
        "\n",
        "Transferring the code and adding ablations was successful because of the heavily commented and organized code that could be split into many sections. In order to make this paper more easy to reproduce, we would suggest adding checkpoints to the program as well as providing more documentation regarding data cleaning.\n",
        "\n",
        "In this draft we began the evaluation phase, and accuratley reproduced the model with an random forest classifier model accuracy of 0.9970238095238095. For our final paper, we will compare the results across our ablations.\n",
        "\n",
        "In the next phase, we will also apply the interpretability models to the results from our model evaluation, and analyze the metrics included in the paper to understand to success of our ablations and complete to reproduction. We will also conduct the ROAR phase of our model testing."
      ]
    },
    {
      "cell_type": "code",
      "source": [],
      "metadata": {
        "id": "7dTUwk3Rfp66"
      },
      "execution_count": null,
      "outputs": []
    },
    {
      "cell_type": "code",
      "execution_count": null,
      "metadata": {
        "colab": {
          "background_save": true
        },
        "id": "E2VDXo5F4Frm"
      },
      "outputs": [],
      "source": [
        "# no code is required for this section\n",
        "'''\n",
        "if you want to use an image outside this notebook for explanaition,\n",
        "you can read and plot it here like the Scope of Reproducibility\n",
        "'''"
      ]
    },
    {
      "cell_type": "markdown",
      "metadata": {
        "id": "SHMI2chl9omn"
      },
      "source": [
        "# References\n",
        "\n",
        "[1] Ayad, W., Bonnier, T., Bosch, B., Read, J., & Parbhoo, S. (2023). Which Explanation Makes Sense? A Critical Evaluation of Local Explanations for Assessing Cervical Cancer Risk Factors. Ecole polytechnique, 1-50.\n",
        "\n",
        "[2] Fernandes,Kelwin, Cardoso,Jaime, and Fernandes,Jessica. (2017). Cervical cancer (Risk Factors). UCI Machine Learning Repository. https://doi.org/10.24432/C5Z310.\n",
        "https://github.com/cwayad/Local-Explanations-for-Cervical-Cancer\n",
        "\n"
      ]
    }
  ],
  "metadata": {
    "colab": {
      "collapsed_sections": [
        "mki-o3nnEWxB",
        "BhHWY9zfK9-d",
        "mwcSYcFVLRWs",
        "lGZC1RbIL9za"
      ],
      "provenance": [],
      "toc_visible": true,
      "include_colab_link": true
    },
    "kernelspec": {
      "display_name": "Python 3",
      "name": "python3"
    },
    "language_info": {
      "name": "python"
    },
    "widgets": {
      "application/vnd.jupyter.widget-state+json": {
        "ef760de6de23443683a8340e4fd7a32b": {
          "model_module": "@jupyter-widgets/controls",
          "model_name": "HBoxModel",
          "model_module_version": "1.5.0",
          "state": {
            "_dom_classes": [],
            "_model_module": "@jupyter-widgets/controls",
            "_model_module_version": "1.5.0",
            "_model_name": "HBoxModel",
            "_view_count": null,
            "_view_module": "@jupyter-widgets/controls",
            "_view_module_version": "1.5.0",
            "_view_name": "HBoxView",
            "box_style": "",
            "children": [
              "IPY_MODEL_aeaa092bcb514bb88df0e06b8bfa2b12",
              "IPY_MODEL_5fafc012275944cdb9ee2847099fda18",
              "IPY_MODEL_bfb90173c07449ec968cb72a9237bc68"
            ],
            "layout": "IPY_MODEL_de465ee115b94a2c8be54b3faaab5a31"
          }
        },
        "aeaa092bcb514bb88df0e06b8bfa2b12": {
          "model_module": "@jupyter-widgets/controls",
          "model_name": "HTMLModel",
          "model_module_version": "1.5.0",
          "state": {
            "_dom_classes": [],
            "_model_module": "@jupyter-widgets/controls",
            "_model_module_version": "1.5.0",
            "_model_name": "HTMLModel",
            "_view_count": null,
            "_view_module": "@jupyter-widgets/controls",
            "_view_module_version": "1.5.0",
            "_view_name": "HTMLView",
            "description": "",
            "description_tooltip": null,
            "layout": "IPY_MODEL_4e244f933e7144bbbeb023c78cdd6bf5",
            "placeholder": "​",
            "style": "IPY_MODEL_8073e15974134b2297ffa2641b128a8b",
            "value": " 26%"
          }
        },
        "5fafc012275944cdb9ee2847099fda18": {
          "model_module": "@jupyter-widgets/controls",
          "model_name": "FloatProgressModel",
          "model_module_version": "1.5.0",
          "state": {
            "_dom_classes": [],
            "_model_module": "@jupyter-widgets/controls",
            "_model_module_version": "1.5.0",
            "_model_name": "FloatProgressModel",
            "_view_count": null,
            "_view_module": "@jupyter-widgets/controls",
            "_view_module_version": "1.5.0",
            "_view_name": "ProgressView",
            "bar_style": "danger",
            "description": "",
            "description_tooltip": null,
            "layout": "IPY_MODEL_7859804b501e4c3297c10f93ce3607ad",
            "max": 336,
            "min": 0,
            "orientation": "horizontal",
            "style": "IPY_MODEL_56019b95ca614d589e9ec75e6b86a308",
            "value": 88
          }
        },
        "bfb90173c07449ec968cb72a9237bc68": {
          "model_module": "@jupyter-widgets/controls",
          "model_name": "HTMLModel",
          "model_module_version": "1.5.0",
          "state": {
            "_dom_classes": [],
            "_model_module": "@jupyter-widgets/controls",
            "_model_module_version": "1.5.0",
            "_model_name": "HTMLModel",
            "_view_count": null,
            "_view_module": "@jupyter-widgets/controls",
            "_view_module_version": "1.5.0",
            "_view_name": "HTMLView",
            "description": "",
            "description_tooltip": null,
            "layout": "IPY_MODEL_c19c85fea10e45e48d878880c5e4091c",
            "placeholder": "​",
            "style": "IPY_MODEL_dd96f1454cb84d3fb7254d8a5b18a6f0",
            "value": " 88/336 [19:16&lt;53:42, 12.99s/it]"
          }
        },
        "de465ee115b94a2c8be54b3faaab5a31": {
          "model_module": "@jupyter-widgets/base",
          "model_name": "LayoutModel",
          "model_module_version": "1.2.0",
          "state": {
            "_model_module": "@jupyter-widgets/base",
            "_model_module_version": "1.2.0",
            "_model_name": "LayoutModel",
            "_view_count": null,
            "_view_module": "@jupyter-widgets/base",
            "_view_module_version": "1.2.0",
            "_view_name": "LayoutView",
            "align_content": null,
            "align_items": null,
            "align_self": null,
            "border": null,
            "bottom": null,
            "display": null,
            "flex": null,
            "flex_flow": null,
            "grid_area": null,
            "grid_auto_columns": null,
            "grid_auto_flow": null,
            "grid_auto_rows": null,
            "grid_column": null,
            "grid_gap": null,
            "grid_row": null,
            "grid_template_areas": null,
            "grid_template_columns": null,
            "grid_template_rows": null,
            "height": null,
            "justify_content": null,
            "justify_items": null,
            "left": null,
            "margin": null,
            "max_height": null,
            "max_width": null,
            "min_height": null,
            "min_width": null,
            "object_fit": null,
            "object_position": null,
            "order": null,
            "overflow": null,
            "overflow_x": null,
            "overflow_y": null,
            "padding": null,
            "right": null,
            "top": null,
            "visibility": null,
            "width": null
          }
        },
        "4e244f933e7144bbbeb023c78cdd6bf5": {
          "model_module": "@jupyter-widgets/base",
          "model_name": "LayoutModel",
          "model_module_version": "1.2.0",
          "state": {
            "_model_module": "@jupyter-widgets/base",
            "_model_module_version": "1.2.0",
            "_model_name": "LayoutModel",
            "_view_count": null,
            "_view_module": "@jupyter-widgets/base",
            "_view_module_version": "1.2.0",
            "_view_name": "LayoutView",
            "align_content": null,
            "align_items": null,
            "align_self": null,
            "border": null,
            "bottom": null,
            "display": null,
            "flex": null,
            "flex_flow": null,
            "grid_area": null,
            "grid_auto_columns": null,
            "grid_auto_flow": null,
            "grid_auto_rows": null,
            "grid_column": null,
            "grid_gap": null,
            "grid_row": null,
            "grid_template_areas": null,
            "grid_template_columns": null,
            "grid_template_rows": null,
            "height": null,
            "justify_content": null,
            "justify_items": null,
            "left": null,
            "margin": null,
            "max_height": null,
            "max_width": null,
            "min_height": null,
            "min_width": null,
            "object_fit": null,
            "object_position": null,
            "order": null,
            "overflow": null,
            "overflow_x": null,
            "overflow_y": null,
            "padding": null,
            "right": null,
            "top": null,
            "visibility": null,
            "width": null
          }
        },
        "8073e15974134b2297ffa2641b128a8b": {
          "model_module": "@jupyter-widgets/controls",
          "model_name": "DescriptionStyleModel",
          "model_module_version": "1.5.0",
          "state": {
            "_model_module": "@jupyter-widgets/controls",
            "_model_module_version": "1.5.0",
            "_model_name": "DescriptionStyleModel",
            "_view_count": null,
            "_view_module": "@jupyter-widgets/base",
            "_view_module_version": "1.2.0",
            "_view_name": "StyleView",
            "description_width": ""
          }
        },
        "7859804b501e4c3297c10f93ce3607ad": {
          "model_module": "@jupyter-widgets/base",
          "model_name": "LayoutModel",
          "model_module_version": "1.2.0",
          "state": {
            "_model_module": "@jupyter-widgets/base",
            "_model_module_version": "1.2.0",
            "_model_name": "LayoutModel",
            "_view_count": null,
            "_view_module": "@jupyter-widgets/base",
            "_view_module_version": "1.2.0",
            "_view_name": "LayoutView",
            "align_content": null,
            "align_items": null,
            "align_self": null,
            "border": null,
            "bottom": null,
            "display": null,
            "flex": null,
            "flex_flow": null,
            "grid_area": null,
            "grid_auto_columns": null,
            "grid_auto_flow": null,
            "grid_auto_rows": null,
            "grid_column": null,
            "grid_gap": null,
            "grid_row": null,
            "grid_template_areas": null,
            "grid_template_columns": null,
            "grid_template_rows": null,
            "height": null,
            "justify_content": null,
            "justify_items": null,
            "left": null,
            "margin": null,
            "max_height": null,
            "max_width": null,
            "min_height": null,
            "min_width": null,
            "object_fit": null,
            "object_position": null,
            "order": null,
            "overflow": null,
            "overflow_x": null,
            "overflow_y": null,
            "padding": null,
            "right": null,
            "top": null,
            "visibility": null,
            "width": null
          }
        },
        "56019b95ca614d589e9ec75e6b86a308": {
          "model_module": "@jupyter-widgets/controls",
          "model_name": "ProgressStyleModel",
          "model_module_version": "1.5.0",
          "state": {
            "_model_module": "@jupyter-widgets/controls",
            "_model_module_version": "1.5.0",
            "_model_name": "ProgressStyleModel",
            "_view_count": null,
            "_view_module": "@jupyter-widgets/base",
            "_view_module_version": "1.2.0",
            "_view_name": "StyleView",
            "bar_color": null,
            "description_width": ""
          }
        },
        "c19c85fea10e45e48d878880c5e4091c": {
          "model_module": "@jupyter-widgets/base",
          "model_name": "LayoutModel",
          "model_module_version": "1.2.0",
          "state": {
            "_model_module": "@jupyter-widgets/base",
            "_model_module_version": "1.2.0",
            "_model_name": "LayoutModel",
            "_view_count": null,
            "_view_module": "@jupyter-widgets/base",
            "_view_module_version": "1.2.0",
            "_view_name": "LayoutView",
            "align_content": null,
            "align_items": null,
            "align_self": null,
            "border": null,
            "bottom": null,
            "display": null,
            "flex": null,
            "flex_flow": null,
            "grid_area": null,
            "grid_auto_columns": null,
            "grid_auto_flow": null,
            "grid_auto_rows": null,
            "grid_column": null,
            "grid_gap": null,
            "grid_row": null,
            "grid_template_areas": null,
            "grid_template_columns": null,
            "grid_template_rows": null,
            "height": null,
            "justify_content": null,
            "justify_items": null,
            "left": null,
            "margin": null,
            "max_height": null,
            "max_width": null,
            "min_height": null,
            "min_width": null,
            "object_fit": null,
            "object_position": null,
            "order": null,
            "overflow": null,
            "overflow_x": null,
            "overflow_y": null,
            "padding": null,
            "right": null,
            "top": null,
            "visibility": null,
            "width": null
          }
        },
        "dd96f1454cb84d3fb7254d8a5b18a6f0": {
          "model_module": "@jupyter-widgets/controls",
          "model_name": "DescriptionStyleModel",
          "model_module_version": "1.5.0",
          "state": {
            "_model_module": "@jupyter-widgets/controls",
            "_model_module_version": "1.5.0",
            "_model_name": "DescriptionStyleModel",
            "_view_count": null,
            "_view_module": "@jupyter-widgets/base",
            "_view_module_version": "1.2.0",
            "_view_name": "StyleView",
            "description_width": ""
          }
        },
        "45a8e9c969724ec09a59dfcb7693fa55": {
          "model_module": "@jupyter-widgets/controls",
          "model_name": "HBoxModel",
          "model_module_version": "1.5.0",
          "state": {
            "_dom_classes": [],
            "_model_module": "@jupyter-widgets/controls",
            "_model_module_version": "1.5.0",
            "_model_name": "HBoxModel",
            "_view_count": null,
            "_view_module": "@jupyter-widgets/controls",
            "_view_module_version": "1.5.0",
            "_view_name": "HBoxView",
            "box_style": "",
            "children": [
              "IPY_MODEL_9e42082c7f4d433a9488c0c1f6581619",
              "IPY_MODEL_80e8ba3a0c7b4dcd8eaeb3121d3fd6a9",
              "IPY_MODEL_fa59c1d7b36143acb9c5b90c63869b4c"
            ],
            "layout": "IPY_MODEL_72cb5161ef7e4a6db2a29524367192cd"
          }
        },
        "9e42082c7f4d433a9488c0c1f6581619": {
          "model_module": "@jupyter-widgets/controls",
          "model_name": "HTMLModel",
          "model_module_version": "1.5.0",
          "state": {
            "_dom_classes": [],
            "_model_module": "@jupyter-widgets/controls",
            "_model_module_version": "1.5.0",
            "_model_name": "HTMLModel",
            "_view_count": null,
            "_view_module": "@jupyter-widgets/controls",
            "_view_module_version": "1.5.0",
            "_view_name": "HTMLView",
            "description": "",
            "description_tooltip": null,
            "layout": "IPY_MODEL_2f318ec78169430faf297ae1bade6064",
            "placeholder": "​",
            "style": "IPY_MODEL_3fe9dfd8dc034d76b16ab1473c8cc85e",
            "value": "100%"
          }
        },
        "80e8ba3a0c7b4dcd8eaeb3121d3fd6a9": {
          "model_module": "@jupyter-widgets/controls",
          "model_name": "FloatProgressModel",
          "model_module_version": "1.5.0",
          "state": {
            "_dom_classes": [],
            "_model_module": "@jupyter-widgets/controls",
            "_model_module_version": "1.5.0",
            "_model_name": "FloatProgressModel",
            "_view_count": null,
            "_view_module": "@jupyter-widgets/controls",
            "_view_module_version": "1.5.0",
            "_view_name": "ProgressView",
            "bar_style": "success",
            "description": "",
            "description_tooltip": null,
            "layout": "IPY_MODEL_b32a12ceb3304c3080cd5f741cfa6fbe",
            "max": 336,
            "min": 0,
            "orientation": "horizontal",
            "style": "IPY_MODEL_7f1e9c47e6d1481d88be72695bcf971e",
            "value": 336
          }
        },
        "fa59c1d7b36143acb9c5b90c63869b4c": {
          "model_module": "@jupyter-widgets/controls",
          "model_name": "HTMLModel",
          "model_module_version": "1.5.0",
          "state": {
            "_dom_classes": [],
            "_model_module": "@jupyter-widgets/controls",
            "_model_module_version": "1.5.0",
            "_model_name": "HTMLModel",
            "_view_count": null,
            "_view_module": "@jupyter-widgets/controls",
            "_view_module_version": "1.5.0",
            "_view_name": "HTMLView",
            "description": "",
            "description_tooltip": null,
            "layout": "IPY_MODEL_3478f2ceaf9940a8a1a56eaa60d7d503",
            "placeholder": "​",
            "style": "IPY_MODEL_19a9caf397274c53bdbad88ec2363f05",
            "value": " 336/336 [16:59&lt;00:00,  2.79s/it]"
          }
        },
        "72cb5161ef7e4a6db2a29524367192cd": {
          "model_module": "@jupyter-widgets/base",
          "model_name": "LayoutModel",
          "model_module_version": "1.2.0",
          "state": {
            "_model_module": "@jupyter-widgets/base",
            "_model_module_version": "1.2.0",
            "_model_name": "LayoutModel",
            "_view_count": null,
            "_view_module": "@jupyter-widgets/base",
            "_view_module_version": "1.2.0",
            "_view_name": "LayoutView",
            "align_content": null,
            "align_items": null,
            "align_self": null,
            "border": null,
            "bottom": null,
            "display": null,
            "flex": null,
            "flex_flow": null,
            "grid_area": null,
            "grid_auto_columns": null,
            "grid_auto_flow": null,
            "grid_auto_rows": null,
            "grid_column": null,
            "grid_gap": null,
            "grid_row": null,
            "grid_template_areas": null,
            "grid_template_columns": null,
            "grid_template_rows": null,
            "height": null,
            "justify_content": null,
            "justify_items": null,
            "left": null,
            "margin": null,
            "max_height": null,
            "max_width": null,
            "min_height": null,
            "min_width": null,
            "object_fit": null,
            "object_position": null,
            "order": null,
            "overflow": null,
            "overflow_x": null,
            "overflow_y": null,
            "padding": null,
            "right": null,
            "top": null,
            "visibility": null,
            "width": null
          }
        },
        "2f318ec78169430faf297ae1bade6064": {
          "model_module": "@jupyter-widgets/base",
          "model_name": "LayoutModel",
          "model_module_version": "1.2.0",
          "state": {
            "_model_module": "@jupyter-widgets/base",
            "_model_module_version": "1.2.0",
            "_model_name": "LayoutModel",
            "_view_count": null,
            "_view_module": "@jupyter-widgets/base",
            "_view_module_version": "1.2.0",
            "_view_name": "LayoutView",
            "align_content": null,
            "align_items": null,
            "align_self": null,
            "border": null,
            "bottom": null,
            "display": null,
            "flex": null,
            "flex_flow": null,
            "grid_area": null,
            "grid_auto_columns": null,
            "grid_auto_flow": null,
            "grid_auto_rows": null,
            "grid_column": null,
            "grid_gap": null,
            "grid_row": null,
            "grid_template_areas": null,
            "grid_template_columns": null,
            "grid_template_rows": null,
            "height": null,
            "justify_content": null,
            "justify_items": null,
            "left": null,
            "margin": null,
            "max_height": null,
            "max_width": null,
            "min_height": null,
            "min_width": null,
            "object_fit": null,
            "object_position": null,
            "order": null,
            "overflow": null,
            "overflow_x": null,
            "overflow_y": null,
            "padding": null,
            "right": null,
            "top": null,
            "visibility": null,
            "width": null
          }
        },
        "3fe9dfd8dc034d76b16ab1473c8cc85e": {
          "model_module": "@jupyter-widgets/controls",
          "model_name": "DescriptionStyleModel",
          "model_module_version": "1.5.0",
          "state": {
            "_model_module": "@jupyter-widgets/controls",
            "_model_module_version": "1.5.0",
            "_model_name": "DescriptionStyleModel",
            "_view_count": null,
            "_view_module": "@jupyter-widgets/base",
            "_view_module_version": "1.2.0",
            "_view_name": "StyleView",
            "description_width": ""
          }
        },
        "b32a12ceb3304c3080cd5f741cfa6fbe": {
          "model_module": "@jupyter-widgets/base",
          "model_name": "LayoutModel",
          "model_module_version": "1.2.0",
          "state": {
            "_model_module": "@jupyter-widgets/base",
            "_model_module_version": "1.2.0",
            "_model_name": "LayoutModel",
            "_view_count": null,
            "_view_module": "@jupyter-widgets/base",
            "_view_module_version": "1.2.0",
            "_view_name": "LayoutView",
            "align_content": null,
            "align_items": null,
            "align_self": null,
            "border": null,
            "bottom": null,
            "display": null,
            "flex": null,
            "flex_flow": null,
            "grid_area": null,
            "grid_auto_columns": null,
            "grid_auto_flow": null,
            "grid_auto_rows": null,
            "grid_column": null,
            "grid_gap": null,
            "grid_row": null,
            "grid_template_areas": null,
            "grid_template_columns": null,
            "grid_template_rows": null,
            "height": null,
            "justify_content": null,
            "justify_items": null,
            "left": null,
            "margin": null,
            "max_height": null,
            "max_width": null,
            "min_height": null,
            "min_width": null,
            "object_fit": null,
            "object_position": null,
            "order": null,
            "overflow": null,
            "overflow_x": null,
            "overflow_y": null,
            "padding": null,
            "right": null,
            "top": null,
            "visibility": null,
            "width": null
          }
        },
        "7f1e9c47e6d1481d88be72695bcf971e": {
          "model_module": "@jupyter-widgets/controls",
          "model_name": "ProgressStyleModel",
          "model_module_version": "1.5.0",
          "state": {
            "_model_module": "@jupyter-widgets/controls",
            "_model_module_version": "1.5.0",
            "_model_name": "ProgressStyleModel",
            "_view_count": null,
            "_view_module": "@jupyter-widgets/base",
            "_view_module_version": "1.2.0",
            "_view_name": "StyleView",
            "bar_color": null,
            "description_width": ""
          }
        },
        "3478f2ceaf9940a8a1a56eaa60d7d503": {
          "model_module": "@jupyter-widgets/base",
          "model_name": "LayoutModel",
          "model_module_version": "1.2.0",
          "state": {
            "_model_module": "@jupyter-widgets/base",
            "_model_module_version": "1.2.0",
            "_model_name": "LayoutModel",
            "_view_count": null,
            "_view_module": "@jupyter-widgets/base",
            "_view_module_version": "1.2.0",
            "_view_name": "LayoutView",
            "align_content": null,
            "align_items": null,
            "align_self": null,
            "border": null,
            "bottom": null,
            "display": null,
            "flex": null,
            "flex_flow": null,
            "grid_area": null,
            "grid_auto_columns": null,
            "grid_auto_flow": null,
            "grid_auto_rows": null,
            "grid_column": null,
            "grid_gap": null,
            "grid_row": null,
            "grid_template_areas": null,
            "grid_template_columns": null,
            "grid_template_rows": null,
            "height": null,
            "justify_content": null,
            "justify_items": null,
            "left": null,
            "margin": null,
            "max_height": null,
            "max_width": null,
            "min_height": null,
            "min_width": null,
            "object_fit": null,
            "object_position": null,
            "order": null,
            "overflow": null,
            "overflow_x": null,
            "overflow_y": null,
            "padding": null,
            "right": null,
            "top": null,
            "visibility": null,
            "width": null
          }
        },
        "19a9caf397274c53bdbad88ec2363f05": {
          "model_module": "@jupyter-widgets/controls",
          "model_name": "DescriptionStyleModel",
          "model_module_version": "1.5.0",
          "state": {
            "_model_module": "@jupyter-widgets/controls",
            "_model_module_version": "1.5.0",
            "_model_name": "DescriptionStyleModel",
            "_view_count": null,
            "_view_module": "@jupyter-widgets/base",
            "_view_module_version": "1.2.0",
            "_view_name": "StyleView",
            "description_width": ""
          }
        }
      }
    }
  },
  "nbformat": 4,
  "nbformat_minor": 0
}